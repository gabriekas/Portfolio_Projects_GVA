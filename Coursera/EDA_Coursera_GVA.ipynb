{
 "cells": [
  {
   "cell_type": "markdown",
   "metadata": {},
   "source": [
    "# Exploratory Data Analysis of Coursera Course Dataset with Python"
   ]
  },
  {
   "cell_type": "markdown",
   "metadata": {},
   "source": [
    "##### **_1._** Download the Coursera Course Dataset from Kaggle  \n",
    "\n",
    "Dataset is available at: https://www.kaggle.com/datasets/siddharthm1698/coursera-course-dataset/data"
   ]
  },
  {
   "cell_type": "markdown",
   "metadata": {},
   "source": [
    "##### **_2._** Initialisation"
   ]
  },
  {
   "cell_type": "markdown",
   "metadata": {},
   "source": [
    "Import dependancies and read .csv file."
   ]
  },
  {
   "cell_type": "code",
   "execution_count": 2,
   "metadata": {},
   "outputs": [
    {
     "data": {
      "text/html": [
       "        <script type=\"text/javascript\">\n",
       "        window.PlotlyConfig = {MathJaxConfig: 'local'};\n",
       "        if (window.MathJax && window.MathJax.Hub && window.MathJax.Hub.Config) {window.MathJax.Hub.Config({SVG: {font: \"STIX-Web\"}});}\n",
       "        if (typeof require !== 'undefined') {\n",
       "        require.undef(\"plotly\");\n",
       "        requirejs.config({\n",
       "            paths: {\n",
       "                'plotly': ['https://cdn.plot.ly/plotly-2.32.0.min']\n",
       "            }\n",
       "        });\n",
       "        require(['plotly'], function(Plotly) {\n",
       "            window._Plotly = Plotly;\n",
       "        });\n",
       "        }\n",
       "        </script>\n",
       "        "
      ]
     },
     "metadata": {},
     "output_type": "display_data"
    }
   ],
   "source": [
    "import pandas as pd\n",
    "import plotly.express as px\n",
    "\n",
    "#For plotly to work in Jupyter Notebook\n",
    "from plotly.offline import init_notebook_mode\n",
    "init_notebook_mode(connected=True)"
   ]
  },
  {
   "cell_type": "code",
   "execution_count": 3,
   "metadata": {},
   "outputs": [
    {
     "data": {
      "text/html": [
       "<div>\n",
       "<style scoped>\n",
       "    .dataframe tbody tr th:only-of-type {\n",
       "        vertical-align: middle;\n",
       "    }\n",
       "\n",
       "    .dataframe tbody tr th {\n",
       "        vertical-align: top;\n",
       "    }\n",
       "\n",
       "    .dataframe thead th {\n",
       "        text-align: right;\n",
       "    }\n",
       "</style>\n",
       "<table border=\"1\" class=\"dataframe\">\n",
       "  <thead>\n",
       "    <tr style=\"text-align: right;\">\n",
       "      <th></th>\n",
       "      <th>Unnamed: 0</th>\n",
       "      <th>course_title</th>\n",
       "      <th>course_organization</th>\n",
       "      <th>course_Certificate_type</th>\n",
       "      <th>course_rating</th>\n",
       "      <th>course_difficulty</th>\n",
       "      <th>course_students_enrolled</th>\n",
       "    </tr>\n",
       "  </thead>\n",
       "  <tbody>\n",
       "    <tr>\n",
       "      <th>0</th>\n",
       "      <td>134</td>\n",
       "      <td>(ISC)² Systems Security Certified Practitioner...</td>\n",
       "      <td>(ISC)²</td>\n",
       "      <td>SPECIALIZATION</td>\n",
       "      <td>4.7</td>\n",
       "      <td>Beginner</td>\n",
       "      <td>5.3k</td>\n",
       "    </tr>\n",
       "    <tr>\n",
       "      <th>1</th>\n",
       "      <td>743</td>\n",
       "      <td>A Crash Course in Causality:  Inferring Causal...</td>\n",
       "      <td>University of Pennsylvania</td>\n",
       "      <td>COURSE</td>\n",
       "      <td>4.7</td>\n",
       "      <td>Intermediate</td>\n",
       "      <td>17k</td>\n",
       "    </tr>\n",
       "    <tr>\n",
       "      <th>2</th>\n",
       "      <td>874</td>\n",
       "      <td>A Crash Course in Data Science</td>\n",
       "      <td>Johns Hopkins University</td>\n",
       "      <td>COURSE</td>\n",
       "      <td>4.5</td>\n",
       "      <td>Mixed</td>\n",
       "      <td>130k</td>\n",
       "    </tr>\n",
       "    <tr>\n",
       "      <th>3</th>\n",
       "      <td>413</td>\n",
       "      <td>A Law Student's Toolkit</td>\n",
       "      <td>Yale University</td>\n",
       "      <td>COURSE</td>\n",
       "      <td>4.7</td>\n",
       "      <td>Mixed</td>\n",
       "      <td>91k</td>\n",
       "    </tr>\n",
       "    <tr>\n",
       "      <th>4</th>\n",
       "      <td>635</td>\n",
       "      <td>A Life of Happiness and Fulfillment</td>\n",
       "      <td>Indian School of Business</td>\n",
       "      <td>COURSE</td>\n",
       "      <td>4.8</td>\n",
       "      <td>Mixed</td>\n",
       "      <td>320k</td>\n",
       "    </tr>\n",
       "  </tbody>\n",
       "</table>\n",
       "</div>"
      ],
      "text/plain": [
       "   Unnamed: 0                                       course_title  \\\n",
       "0         134  (ISC)² Systems Security Certified Practitioner...   \n",
       "1         743  A Crash Course in Causality:  Inferring Causal...   \n",
       "2         874                     A Crash Course in Data Science   \n",
       "3         413                            A Law Student's Toolkit   \n",
       "4         635                A Life of Happiness and Fulfillment   \n",
       "\n",
       "          course_organization course_Certificate_type  course_rating  \\\n",
       "0                      (ISC)²          SPECIALIZATION            4.7   \n",
       "1  University of Pennsylvania                  COURSE            4.7   \n",
       "2    Johns Hopkins University                  COURSE            4.5   \n",
       "3             Yale University                  COURSE            4.7   \n",
       "4   Indian School of Business                  COURSE            4.8   \n",
       "\n",
       "  course_difficulty course_students_enrolled  \n",
       "0          Beginner                     5.3k  \n",
       "1      Intermediate                      17k  \n",
       "2             Mixed                     130k  \n",
       "3             Mixed                      91k  \n",
       "4             Mixed                     320k  "
      ]
     },
     "execution_count": 3,
     "metadata": {},
     "output_type": "execute_result"
    }
   ],
   "source": [
    "coursera_df = pd.read_csv(\"coursera_data.csv\")\n",
    "coursera_df.head()"
   ]
  },
  {
   "cell_type": "markdown",
   "metadata": {},
   "source": [
    "As per Dataset description, column \"Unnamed: 0\" contains Dataset identifiers which will not have any significance in this analysis. Thus, remove column \"Unnamed: 0\"."
   ]
  },
  {
   "cell_type": "code",
   "execution_count": 4,
   "metadata": {},
   "outputs": [
    {
     "data": {
      "text/html": [
       "<div>\n",
       "<style scoped>\n",
       "    .dataframe tbody tr th:only-of-type {\n",
       "        vertical-align: middle;\n",
       "    }\n",
       "\n",
       "    .dataframe tbody tr th {\n",
       "        vertical-align: top;\n",
       "    }\n",
       "\n",
       "    .dataframe thead th {\n",
       "        text-align: right;\n",
       "    }\n",
       "</style>\n",
       "<table border=\"1\" class=\"dataframe\">\n",
       "  <thead>\n",
       "    <tr style=\"text-align: right;\">\n",
       "      <th></th>\n",
       "      <th>course_title</th>\n",
       "      <th>course_organization</th>\n",
       "      <th>course_Certificate_type</th>\n",
       "      <th>course_rating</th>\n",
       "      <th>course_difficulty</th>\n",
       "      <th>course_students_enrolled</th>\n",
       "    </tr>\n",
       "  </thead>\n",
       "  <tbody>\n",
       "    <tr>\n",
       "      <th>0</th>\n",
       "      <td>(ISC)² Systems Security Certified Practitioner...</td>\n",
       "      <td>(ISC)²</td>\n",
       "      <td>SPECIALIZATION</td>\n",
       "      <td>4.7</td>\n",
       "      <td>Beginner</td>\n",
       "      <td>5.3k</td>\n",
       "    </tr>\n",
       "    <tr>\n",
       "      <th>1</th>\n",
       "      <td>A Crash Course in Causality:  Inferring Causal...</td>\n",
       "      <td>University of Pennsylvania</td>\n",
       "      <td>COURSE</td>\n",
       "      <td>4.7</td>\n",
       "      <td>Intermediate</td>\n",
       "      <td>17k</td>\n",
       "    </tr>\n",
       "    <tr>\n",
       "      <th>2</th>\n",
       "      <td>A Crash Course in Data Science</td>\n",
       "      <td>Johns Hopkins University</td>\n",
       "      <td>COURSE</td>\n",
       "      <td>4.5</td>\n",
       "      <td>Mixed</td>\n",
       "      <td>130k</td>\n",
       "    </tr>\n",
       "    <tr>\n",
       "      <th>3</th>\n",
       "      <td>A Law Student's Toolkit</td>\n",
       "      <td>Yale University</td>\n",
       "      <td>COURSE</td>\n",
       "      <td>4.7</td>\n",
       "      <td>Mixed</td>\n",
       "      <td>91k</td>\n",
       "    </tr>\n",
       "    <tr>\n",
       "      <th>4</th>\n",
       "      <td>A Life of Happiness and Fulfillment</td>\n",
       "      <td>Indian School of Business</td>\n",
       "      <td>COURSE</td>\n",
       "      <td>4.8</td>\n",
       "      <td>Mixed</td>\n",
       "      <td>320k</td>\n",
       "    </tr>\n",
       "  </tbody>\n",
       "</table>\n",
       "</div>"
      ],
      "text/plain": [
       "                                        course_title  \\\n",
       "0  (ISC)² Systems Security Certified Practitioner...   \n",
       "1  A Crash Course in Causality:  Inferring Causal...   \n",
       "2                     A Crash Course in Data Science   \n",
       "3                            A Law Student's Toolkit   \n",
       "4                A Life of Happiness and Fulfillment   \n",
       "\n",
       "          course_organization course_Certificate_type  course_rating  \\\n",
       "0                      (ISC)²          SPECIALIZATION            4.7   \n",
       "1  University of Pennsylvania                  COURSE            4.7   \n",
       "2    Johns Hopkins University                  COURSE            4.5   \n",
       "3             Yale University                  COURSE            4.7   \n",
       "4   Indian School of Business                  COURSE            4.8   \n",
       "\n",
       "  course_difficulty course_students_enrolled  \n",
       "0          Beginner                     5.3k  \n",
       "1      Intermediate                      17k  \n",
       "2             Mixed                     130k  \n",
       "3             Mixed                      91k  \n",
       "4             Mixed                     320k  "
      ]
     },
     "execution_count": 4,
     "metadata": {},
     "output_type": "execute_result"
    }
   ],
   "source": [
    "del coursera_df[\"Unnamed: 0\"]\n",
    "coursera_df.head()"
   ]
  },
  {
   "cell_type": "markdown",
   "metadata": {},
   "source": [
    "##### **_3._** Data Cleaning"
   ]
  },
  {
   "cell_type": "markdown",
   "metadata": {},
   "source": [
    "**3.1. Handle Missing Data**"
   ]
  },
  {
   "cell_type": "code",
   "execution_count": 5,
   "metadata": {},
   "outputs": [
    {
     "data": {
      "text/plain": [
       "course_title                False\n",
       "course_organization         False\n",
       "course_Certificate_type     False\n",
       "course_rating               False\n",
       "course_difficulty           False\n",
       "course_students_enrolled    False\n",
       "dtype: bool"
      ]
     },
     "execution_count": 5,
     "metadata": {},
     "output_type": "execute_result"
    }
   ],
   "source": [
    "coursera_df.isnull().any()"
   ]
  },
  {
   "cell_type": "markdown",
   "metadata": {},
   "source": [
    "There are no missing values to be handled."
   ]
  },
  {
   "cell_type": "markdown",
   "metadata": {},
   "source": [
    "**3.2. Handle Duplicate Data**"
   ]
  },
  {
   "cell_type": "code",
   "execution_count": 6,
   "metadata": {},
   "outputs": [
    {
     "data": {
      "text/plain": [
       "False"
      ]
     },
     "execution_count": 6,
     "metadata": {},
     "output_type": "execute_result"
    }
   ],
   "source": [
    "len(coursera_df[\"course_title\"].unique()) == len(coursera_df[\"course_title\"])"
   ]
  },
  {
   "cell_type": "code",
   "execution_count": 7,
   "metadata": {},
   "outputs": [
    {
     "data": {
      "text/html": [
       "<div>\n",
       "<style scoped>\n",
       "    .dataframe tbody tr th:only-of-type {\n",
       "        vertical-align: middle;\n",
       "    }\n",
       "\n",
       "    .dataframe tbody tr th {\n",
       "        vertical-align: top;\n",
       "    }\n",
       "\n",
       "    .dataframe thead th {\n",
       "        text-align: right;\n",
       "    }\n",
       "</style>\n",
       "<table border=\"1\" class=\"dataframe\">\n",
       "  <thead>\n",
       "    <tr style=\"text-align: right;\">\n",
       "      <th></th>\n",
       "      <th>course_title</th>\n",
       "      <th>course_organization</th>\n",
       "      <th>course_Certificate_type</th>\n",
       "      <th>course_rating</th>\n",
       "      <th>course_difficulty</th>\n",
       "      <th>course_students_enrolled</th>\n",
       "    </tr>\n",
       "  </thead>\n",
       "  <tbody>\n",
       "    <tr>\n",
       "      <th>225</th>\n",
       "      <td>Developing Your Musicianship</td>\n",
       "      <td>Berklee College of Music</td>\n",
       "      <td>SPECIALIZATION</td>\n",
       "      <td>4.8</td>\n",
       "      <td>Beginner</td>\n",
       "      <td>54k</td>\n",
       "    </tr>\n",
       "    <tr>\n",
       "      <th>564</th>\n",
       "      <td>Machine Learning</td>\n",
       "      <td>Stanford University</td>\n",
       "      <td>COURSE</td>\n",
       "      <td>4.9</td>\n",
       "      <td>Mixed</td>\n",
       "      <td>3.2m</td>\n",
       "    </tr>\n",
       "    <tr>\n",
       "      <th>583</th>\n",
       "      <td>Marketing Digital</td>\n",
       "      <td>Universidad Austral</td>\n",
       "      <td>SPECIALIZATION</td>\n",
       "      <td>4.7</td>\n",
       "      <td>Beginner</td>\n",
       "      <td>39k</td>\n",
       "    </tr>\n",
       "  </tbody>\n",
       "</table>\n",
       "</div>"
      ],
      "text/plain": [
       "                     course_title       course_organization  \\\n",
       "225  Developing Your Musicianship  Berklee College of Music   \n",
       "564              Machine Learning       Stanford University   \n",
       "583             Marketing Digital       Universidad Austral   \n",
       "\n",
       "    course_Certificate_type  course_rating course_difficulty  \\\n",
       "225          SPECIALIZATION            4.8          Beginner   \n",
       "564                  COURSE            4.9             Mixed   \n",
       "583          SPECIALIZATION            4.7          Beginner   \n",
       "\n",
       "    course_students_enrolled  \n",
       "225                      54k  \n",
       "564                     3.2m  \n",
       "583                      39k  "
      ]
     },
     "execution_count": 7,
     "metadata": {},
     "output_type": "execute_result"
    }
   ],
   "source": [
    "coursera_df[coursera_df[\"course_title\"].duplicated()]"
   ]
  },
  {
   "cell_type": "markdown",
   "metadata": {},
   "source": [
    "Identified 3 duplicate courses.  \n",
    "Find out more about these courses to understand how to handle these duplicates."
   ]
  },
  {
   "cell_type": "code",
   "execution_count": 8,
   "metadata": {},
   "outputs": [
    {
     "data": {
      "text/html": [
       "<div>\n",
       "<style scoped>\n",
       "    .dataframe tbody tr th:only-of-type {\n",
       "        vertical-align: middle;\n",
       "    }\n",
       "\n",
       "    .dataframe tbody tr th {\n",
       "        vertical-align: top;\n",
       "    }\n",
       "\n",
       "    .dataframe thead th {\n",
       "        text-align: right;\n",
       "    }\n",
       "</style>\n",
       "<table border=\"1\" class=\"dataframe\">\n",
       "  <thead>\n",
       "    <tr style=\"text-align: right;\">\n",
       "      <th></th>\n",
       "      <th>course_title</th>\n",
       "      <th>course_organization</th>\n",
       "      <th>course_Certificate_type</th>\n",
       "      <th>course_rating</th>\n",
       "      <th>course_difficulty</th>\n",
       "      <th>course_students_enrolled</th>\n",
       "    </tr>\n",
       "  </thead>\n",
       "  <tbody>\n",
       "    <tr>\n",
       "      <th>224</th>\n",
       "      <td>Developing Your Musicianship</td>\n",
       "      <td>Berklee College of Music</td>\n",
       "      <td>COURSE</td>\n",
       "      <td>4.8</td>\n",
       "      <td>Mixed</td>\n",
       "      <td>41k</td>\n",
       "    </tr>\n",
       "    <tr>\n",
       "      <th>225</th>\n",
       "      <td>Developing Your Musicianship</td>\n",
       "      <td>Berklee College of Music</td>\n",
       "      <td>SPECIALIZATION</td>\n",
       "      <td>4.8</td>\n",
       "      <td>Beginner</td>\n",
       "      <td>54k</td>\n",
       "    </tr>\n",
       "    <tr>\n",
       "      <th>563</th>\n",
       "      <td>Machine Learning</td>\n",
       "      <td>University of Washington</td>\n",
       "      <td>SPECIALIZATION</td>\n",
       "      <td>4.6</td>\n",
       "      <td>Intermediate</td>\n",
       "      <td>290k</td>\n",
       "    </tr>\n",
       "    <tr>\n",
       "      <th>564</th>\n",
       "      <td>Machine Learning</td>\n",
       "      <td>Stanford University</td>\n",
       "      <td>COURSE</td>\n",
       "      <td>4.9</td>\n",
       "      <td>Mixed</td>\n",
       "      <td>3.2m</td>\n",
       "    </tr>\n",
       "    <tr>\n",
       "      <th>582</th>\n",
       "      <td>Marketing Digital</td>\n",
       "      <td>Universidade de São Paulo</td>\n",
       "      <td>COURSE</td>\n",
       "      <td>4.8</td>\n",
       "      <td>Beginner</td>\n",
       "      <td>81k</td>\n",
       "    </tr>\n",
       "    <tr>\n",
       "      <th>583</th>\n",
       "      <td>Marketing Digital</td>\n",
       "      <td>Universidad Austral</td>\n",
       "      <td>SPECIALIZATION</td>\n",
       "      <td>4.7</td>\n",
       "      <td>Beginner</td>\n",
       "      <td>39k</td>\n",
       "    </tr>\n",
       "  </tbody>\n",
       "</table>\n",
       "</div>"
      ],
      "text/plain": [
       "                     course_title        course_organization  \\\n",
       "224  Developing Your Musicianship   Berklee College of Music   \n",
       "225  Developing Your Musicianship   Berklee College of Music   \n",
       "563              Machine Learning   University of Washington   \n",
       "564              Machine Learning        Stanford University   \n",
       "582             Marketing Digital  Universidade de São Paulo   \n",
       "583             Marketing Digital        Universidad Austral   \n",
       "\n",
       "    course_Certificate_type  course_rating course_difficulty  \\\n",
       "224                  COURSE            4.8             Mixed   \n",
       "225          SPECIALIZATION            4.8          Beginner   \n",
       "563          SPECIALIZATION            4.6      Intermediate   \n",
       "564                  COURSE            4.9             Mixed   \n",
       "582                  COURSE            4.8          Beginner   \n",
       "583          SPECIALIZATION            4.7          Beginner   \n",
       "\n",
       "    course_students_enrolled  \n",
       "224                      41k  \n",
       "225                      54k  \n",
       "563                     290k  \n",
       "564                     3.2m  \n",
       "582                      81k  \n",
       "583                      39k  "
      ]
     },
     "execution_count": 8,
     "metadata": {},
     "output_type": "execute_result"
    }
   ],
   "source": [
    "coursera_df.query(\"course_title == 'Developing Your Musicianship' \\\n",
    "                  or course_title == 'Machine Learning' \\\n",
    "                  or course_title == 'Marketing Digital' \")"
   ]
  },
  {
   "cell_type": "markdown",
   "metadata": {},
   "source": [
    "Identified duplicate courses are provided either by different organizations, have different certificate types or course difficulty.  \n",
    "Duplicate courses were not removed nor treated otherwise as they provide significant insights."
   ]
  },
  {
   "cell_type": "markdown",
   "metadata": {},
   "source": [
    "**3.3. Treating the Outliers**"
   ]
  },
  {
   "cell_type": "markdown",
   "metadata": {},
   "source": [
    "Check descriptive statistics first."
   ]
  },
  {
   "cell_type": "code",
   "execution_count": 9,
   "metadata": {},
   "outputs": [
    {
     "data": {
      "text/html": [
       "<div>\n",
       "<style scoped>\n",
       "    .dataframe tbody tr th:only-of-type {\n",
       "        vertical-align: middle;\n",
       "    }\n",
       "\n",
       "    .dataframe tbody tr th {\n",
       "        vertical-align: top;\n",
       "    }\n",
       "\n",
       "    .dataframe thead th {\n",
       "        text-align: right;\n",
       "    }\n",
       "</style>\n",
       "<table border=\"1\" class=\"dataframe\">\n",
       "  <thead>\n",
       "    <tr style=\"text-align: right;\">\n",
       "      <th></th>\n",
       "      <th>course_rating</th>\n",
       "    </tr>\n",
       "  </thead>\n",
       "  <tbody>\n",
       "    <tr>\n",
       "      <th>count</th>\n",
       "      <td>891.000000</td>\n",
       "    </tr>\n",
       "    <tr>\n",
       "      <th>mean</th>\n",
       "      <td>4.677329</td>\n",
       "    </tr>\n",
       "    <tr>\n",
       "      <th>std</th>\n",
       "      <td>0.162225</td>\n",
       "    </tr>\n",
       "    <tr>\n",
       "      <th>min</th>\n",
       "      <td>3.300000</td>\n",
       "    </tr>\n",
       "    <tr>\n",
       "      <th>25%</th>\n",
       "      <td>4.600000</td>\n",
       "    </tr>\n",
       "    <tr>\n",
       "      <th>50%</th>\n",
       "      <td>4.700000</td>\n",
       "    </tr>\n",
       "    <tr>\n",
       "      <th>75%</th>\n",
       "      <td>4.800000</td>\n",
       "    </tr>\n",
       "    <tr>\n",
       "      <th>max</th>\n",
       "      <td>5.000000</td>\n",
       "    </tr>\n",
       "  </tbody>\n",
       "</table>\n",
       "</div>"
      ],
      "text/plain": [
       "       course_rating\n",
       "count     891.000000\n",
       "mean        4.677329\n",
       "std         0.162225\n",
       "min         3.300000\n",
       "25%         4.600000\n",
       "50%         4.700000\n",
       "75%         4.800000\n",
       "max         5.000000"
      ]
     },
     "execution_count": 9,
     "metadata": {},
     "output_type": "execute_result"
    }
   ],
   "source": [
    "coursera_df.describe()"
   ]
  },
  {
   "cell_type": "markdown",
   "metadata": {},
   "source": [
    "Descriptive statistics did not return expected result - based on Dataset description, column \"course_students_enrolled\" should be included in the descriptive statistics."
   ]
  },
  {
   "cell_type": "code",
   "execution_count": 10,
   "metadata": {},
   "outputs": [
    {
     "data": {
      "text/plain": [
       "course_title                 object\n",
       "course_organization          object\n",
       "course_Certificate_type      object\n",
       "course_rating               float64\n",
       "course_difficulty            object\n",
       "course_students_enrolled     object\n",
       "dtype: object"
      ]
     },
     "execution_count": 10,
     "metadata": {},
     "output_type": "execute_result"
    }
   ],
   "source": [
    "coursera_df.dtypes"
   ]
  },
  {
   "cell_type": "markdown",
   "metadata": {},
   "source": [
    "As suspected, column \"course_students_enrolled\" has a data type 'object' rather than _int_ or _float64_.  \n",
    "Create a new column with data type converted to float64 for column \"course_students_enrolled\" to be analysed appropriately."
   ]
  },
  {
   "cell_type": "code",
   "execution_count": 11,
   "metadata": {},
   "outputs": [],
   "source": [
    "#Define a function that converts data type to float64\n",
    "def convert_enrollment(students_enrolled):\n",
    "    students_enrolled = str(students_enrolled).strip().lower()\n",
    "    if 'k' in students_enrolled:\n",
    "        return float(students_enrolled.replace(\"k\",\"\")) * 1000\n",
    "    elif 'm' in students_enrolled:\n",
    "        return float(students_enrolled.replace(\"m\",\"\")) * 1000000\n",
    "    else:\n",
    "        return float(students_enrolled)\n",
    "    \n",
    "#Create a new column \"course_students_enrolled_float\"\n",
    "coursera_df[\"course_students_enrolled_float\"] = coursera_df[\"course_students_enrolled\"].apply(convert_enrollment)"
   ]
  },
  {
   "cell_type": "markdown",
   "metadata": {},
   "source": [
    "Check descriptive statistics again to see whether function \"convert_enrollment\" was successful."
   ]
  },
  {
   "cell_type": "code",
   "execution_count": 12,
   "metadata": {},
   "outputs": [
    {
     "data": {
      "text/html": [
       "<div>\n",
       "<style scoped>\n",
       "    .dataframe tbody tr th:only-of-type {\n",
       "        vertical-align: middle;\n",
       "    }\n",
       "\n",
       "    .dataframe tbody tr th {\n",
       "        vertical-align: top;\n",
       "    }\n",
       "\n",
       "    .dataframe thead th {\n",
       "        text-align: right;\n",
       "    }\n",
       "</style>\n",
       "<table border=\"1\" class=\"dataframe\">\n",
       "  <thead>\n",
       "    <tr style=\"text-align: right;\">\n",
       "      <th></th>\n",
       "      <th>course_rating</th>\n",
       "      <th>course_students_enrolled_float</th>\n",
       "    </tr>\n",
       "  </thead>\n",
       "  <tbody>\n",
       "    <tr>\n",
       "      <th>count</th>\n",
       "      <td>891.000000</td>\n",
       "      <td>8.910000e+02</td>\n",
       "    </tr>\n",
       "    <tr>\n",
       "      <th>mean</th>\n",
       "      <td>4.677329</td>\n",
       "      <td>9.055208e+04</td>\n",
       "    </tr>\n",
       "    <tr>\n",
       "      <th>std</th>\n",
       "      <td>0.162225</td>\n",
       "      <td>1.819365e+05</td>\n",
       "    </tr>\n",
       "    <tr>\n",
       "      <th>min</th>\n",
       "      <td>3.300000</td>\n",
       "      <td>1.500000e+03</td>\n",
       "    </tr>\n",
       "    <tr>\n",
       "      <th>25%</th>\n",
       "      <td>4.600000</td>\n",
       "      <td>1.750000e+04</td>\n",
       "    </tr>\n",
       "    <tr>\n",
       "      <th>50%</th>\n",
       "      <td>4.700000</td>\n",
       "      <td>4.200000e+04</td>\n",
       "    </tr>\n",
       "    <tr>\n",
       "      <th>75%</th>\n",
       "      <td>4.800000</td>\n",
       "      <td>9.950000e+04</td>\n",
       "    </tr>\n",
       "    <tr>\n",
       "      <th>max</th>\n",
       "      <td>5.000000</td>\n",
       "      <td>3.200000e+06</td>\n",
       "    </tr>\n",
       "  </tbody>\n",
       "</table>\n",
       "</div>"
      ],
      "text/plain": [
       "       course_rating  course_students_enrolled_float\n",
       "count     891.000000                    8.910000e+02\n",
       "mean        4.677329                    9.055208e+04\n",
       "std         0.162225                    1.819365e+05\n",
       "min         3.300000                    1.500000e+03\n",
       "25%         4.600000                    1.750000e+04\n",
       "50%         4.700000                    4.200000e+04\n",
       "75%         4.800000                    9.950000e+04\n",
       "max         5.000000                    3.200000e+06"
      ]
     },
     "execution_count": 12,
     "metadata": {},
     "output_type": "execute_result"
    }
   ],
   "source": [
    "coursera_df.describe()"
   ]
  },
  {
   "cell_type": "markdown",
   "metadata": {},
   "source": [
    "**Observation:**  \n",
    "A huge difference identified between 3rd quartile and a maximum value in column \"course_students_enrolled_float\". Difference indicates potential outliers of the feature."
   ]
  },
  {
   "cell_type": "code",
   "execution_count": 13,
   "metadata": {},
   "outputs": [
    {
     "data": {
      "application/vnd.plotly.v1+json": {
       "config": {
        "plotlyServerURL": "https://plot.ly"
       },
       "data": [
        {
         "alignmentgroup": "True",
         "hovertemplate": "Students Enrolled=%{x}<extra></extra>",
         "legendgroup": "",
         "marker": {
          "color": "#636efa"
         },
         "name": "",
         "notched": false,
         "offsetgroup": "",
         "orientation": "h",
         "showlegend": false,
         "type": "box",
         "x": [
          5300,
          17000,
          130000,
          91000,
          320000,
          39000,
          350000,
          2400,
          61000,
          12000,
          4000,
          13000,
          130000,
          11000,
          27000,
          110000,
          13000,
          6600,
          540000,
          22000,
          2900,
          80000,
          9900,
          110000,
          23000,
          9200,
          78000,
          320000,
          190000,
          35000,
          29000,
          14000,
          21000,
          94000,
          69000,
          40000,
          12000,
          220000,
          150000,
          14000,
          18000,
          23000,
          69000,
          270000,
          7900,
          30000,
          36000,
          20000,
          8100,
          120000,
          71000,
          11000,
          11000,
          63000,
          220000,
          42000,
          480000,
          150000,
          97000,
          6600,
          200000,
          180000,
          4200,
          310000,
          3900,
          150000,
          79000,
          31000,
          15000,
          15000,
          10000,
          66000,
          33000,
          56000,
          7300,
          9200,
          22000,
          9700,
          13000,
          180000,
          91000,
          29000,
          210000,
          28000,
          4200,
          6500,
          61000,
          55000,
          2300,
          8800,
          35000,
          88000,
          14000,
          1900,
          68000,
          21000,
          1600,
          31000,
          9500,
          57000,
          26000,
          84000,
          15000,
          95000,
          7300,
          22000,
          5800,
          24000,
          67000,
          280000,
          38000,
          120000,
          77000,
          510000,
          13000,
          110000,
          24000,
          89000,
          67000,
          10000,
          48000,
          160000,
          31000,
          36000,
          220000,
          32000,
          130000,
          340000,
          82000,
          790000,
          31000,
          23000,
          19000,
          30000,
          22000,
          57000,
          51000,
          51000,
          4800,
          32000,
          110000,
          37000,
          310000,
          37000,
          120000,
          15000,
          43000,
          6400,
          43000,
          350000,
          5800,
          33000,
          27000,
          66000,
          19000,
          61000,
          43000,
          15000,
          220000,
          27000,
          26000,
          49000,
          240000,
          46000,
          10000,
          56000,
          7800,
          10000,
          75000,
          15000,
          43000,
          81000,
          140000,
          140000,
          120000,
          150000,
          26000,
          22000,
          17000,
          5500,
          18000,
          99000,
          140000,
          23000,
          55000,
          23000,
          100000,
          220000,
          110000,
          24000,
          19000,
          3000,
          120000,
          120000,
          42000,
          140000,
          830000,
          140000,
          89000,
          740000,
          210000,
          130000,
          60000,
          66000,
          96000,
          140000,
          18000,
          120000,
          110000,
          150000,
          31000,
          690000,
          44000,
          4500,
          8200,
          240000,
          17000,
          67000,
          97000,
          19000,
          16000,
          300000,
          4000,
          8000,
          41000,
          54000,
          54000,
          9000,
          21000,
          37000,
          380000,
          57000,
          140000,
          58000,
          35000,
          40000,
          4000,
          21000,
          130000,
          150000,
          5600,
          17000,
          39000,
          110000,
          7100,
          18000,
          110000,
          83000,
          16000,
          3400,
          46000,
          1500,
          57000,
          12000,
          110000,
          17000,
          37000,
          14000,
          23000,
          200000,
          230000,
          760000,
          130000,
          42000,
          110000,
          2400,
          7900,
          110000,
          86000,
          38000,
          31000,
          20000,
          69000,
          45000,
          23000,
          6400,
          31000,
          130000,
          35000,
          7200,
          1800,
          14000,
          68000,
          83000,
          4100,
          54000,
          31000,
          27000,
          13000,
          11000,
          86000,
          240000,
          39000,
          200000,
          76000,
          39000,
          490000,
          56000,
          54000,
          170000,
          28000,
          180000,
          18000,
          9700,
          13000,
          12000,
          260000,
          69000,
          12000,
          65000,
          10000,
          100000,
          76000,
          470000,
          60000,
          12000,
          6500,
          24000,
          30000,
          310000,
          36000,
          20000,
          400000,
          57000,
          42000,
          4400,
          14000,
          63000,
          62000,
          31000,
          64000,
          27000,
          89000,
          3200,
          26000,
          52000,
          45000,
          89000,
          150000,
          140000,
          170000,
          220000,
          30000,
          39000,
          200000,
          49000,
          86000,
          290000,
          20000,
          18000,
          180000,
          120000,
          110000,
          22000,
          81000,
          25000,
          56000,
          150000,
          110000,
          47000,
          4900,
          9400,
          10000,
          140000,
          100000,
          260000,
          110000,
          14000,
          80000,
          97000,
          19000,
          34000,
          47000,
          14000,
          59000,
          73000,
          59000,
          75000,
          18000,
          22000,
          79000,
          29000,
          10000,
          22000,
          37000,
          3600,
          7600,
          44000,
          3800,
          120000,
          36000,
          93000,
          350000,
          430000,
          10000,
          260000,
          56000,
          210000,
          62000,
          240000,
          43000,
          62000,
          7400,
          39000,
          8100,
          5400,
          1700,
          36000,
          5500,
          46000,
          5500,
          28000,
          170000,
          140000,
          34000,
          98000,
          140000,
          3500,
          220000,
          3300,
          480000,
          35000,
          62000,
          1700,
          23000,
          2200,
          610000,
          270000,
          18000,
          79000,
          51000,
          34000,
          1600,
          12000,
          22000,
          32000,
          10000,
          16000,
          180000,
          40000,
          10000,
          25000,
          72000,
          97000,
          85000,
          12000,
          9700,
          14000,
          8700,
          150000,
          6500,
          22000,
          25000,
          22000,
          36000,
          19000,
          41000,
          26000,
          20000,
          2200,
          35000,
          11000,
          36000,
          38000,
          66000,
          140000,
          100000,
          46000,
          60000,
          44000,
          160000,
          16000,
          27000,
          14000,
          84000,
          53000,
          46000,
          150000,
          2600,
          20000,
          32000,
          130000,
          27000,
          32000,
          30000,
          99000,
          310000,
          390000,
          25000,
          75000,
          110000,
          41000,
          150000,
          34000,
          200000,
          47000,
          79000,
          74000,
          42000,
          220000,
          54000,
          6000,
          82000,
          220000,
          270000,
          87000,
          140000,
          370000,
          11000,
          160000,
          82000,
          270000,
          270000,
          49000,
          39000,
          76000,
          12000,
          69000,
          67000,
          33000,
          150000,
          4100,
          13000,
          72000,
          87000,
          16000,
          76000,
          110000,
          270000,
          4500,
          120000,
          99000,
          14000,
          49000,
          4400,
          380000,
          160000,
          22000,
          37000,
          8000,
          6300,
          17000,
          34000,
          16000,
          220000,
          5900,
          16000,
          43000,
          22000,
          78000,
          52000,
          120000,
          39000,
          160000,
          80000,
          180000,
          120000,
          68000,
          7200,
          10000,
          23000,
          29000,
          14000,
          290000,
          3200000,
          240000,
          29000,
          19000,
          58000,
          15000,
          120000,
          72000,
          78000,
          43000,
          120000,
          11000,
          55000,
          23000,
          71000,
          27000,
          47000,
          22000,
          81000,
          39000,
          49000,
          93000,
          57000,
          58000,
          60000,
          310000,
          280000,
          8400,
          52000,
          48000,
          12000,
          150000,
          140000,
          51000,
          33000,
          4800,
          170000,
          13000,
          260000,
          73000,
          34000,
          230000,
          120000,
          130000,
          36000,
          310000,
          14000,
          21000,
          9100,
          100000,
          40000,
          44000,
          59000,
          42000,
          34000,
          70000,
          21000,
          40000,
          95000,
          22000,
          17000,
          290000,
          630000,
          41000,
          12000,
          5300,
          100000,
          35000,
          250000,
          330000,
          21000,
          33000,
          57000,
          13000,
          76000,
          80000,
          6200,
          92000,
          22000,
          3200,
          9100,
          30000,
          42000,
          8800,
          12000,
          84000,
          79000,
          8900,
          160000,
          83000,
          34000,
          72000,
          180000,
          23000,
          50000,
          40000,
          67000,
          10000,
          39000,
          22000,
          68000,
          47000,
          20000,
          280000,
          79000,
          68000,
          36000,
          39000,
          250000,
          19000,
          1300000,
          18000,
          70000,
          190000,
          440000,
          230000,
          190000,
          52000,
          110000,
          21000,
          420000,
          26000,
          41000,
          170000,
          1500000,
          69000,
          3000,
          480000,
          7700,
          29000,
          35000,
          23000,
          24000,
          5200,
          7200,
          16000,
          15000,
          170000,
          36000,
          17000,
          120000,
          30000,
          3200,
          7000,
          33000,
          370000,
          2600,
          160000,
          5600,
          16000,
          6800,
          12000,
          9100,
          140000,
          47000,
          6400,
          14000,
          300000,
          39000,
          14000,
          110000,
          61000,
          16000,
          18000,
          15000,
          20000,
          22000,
          13000,
          130000,
          78000,
          4200,
          220000,
          42000,
          60000,
          34000,
          60000,
          110000,
          17000,
          68000,
          8800,
          12000,
          71000,
          430000,
          12000,
          16000,
          370000,
          17000,
          16000,
          34000,
          220000,
          28000,
          60000,
          9500,
          100000,
          58000,
          68000,
          9200,
          30000,
          11000,
          220000,
          38000,
          750000,
          11000,
          7900,
          4900,
          66000,
          82000,
          24000,
          29000,
          50000,
          45000,
          9400,
          3900,
          62000,
          48000,
          33000,
          100000,
          62000,
          81000,
          8500,
          53000,
          49000,
          280000,
          170000,
          12000,
          90000,
          130000,
          47000,
          23000,
          73000,
          130000,
          22000,
          84000,
          23000,
          11000,
          120000,
          420000,
          7200,
          84000,
          29000,
          47000,
          130000,
          47000,
          9400,
          180000,
          120000,
          1700,
          50000,
          12000,
          59000,
          13000,
          2500000,
          320000,
          19000,
          100000,
          26000,
          5200,
          28000,
          33000,
          14000,
          200000,
          120000,
          68000,
          45000,
          110000,
          5400,
          12000,
          44000,
          68000,
          25000,
          29000,
          78000,
          89000,
          24000,
          11000,
          49000,
          120000,
          30000,
          130000,
          6100,
          12000,
          9500,
          3900,
          23000,
          43000,
          220000,
          310000,
          19000,
          63000,
          40000,
          150000,
          37000,
          23000,
          190000,
          120000,
          280000,
          34000,
          120000,
          35000,
          6200,
          260000,
          94000,
          32000,
          17000,
          12000,
          270000,
          18000,
          140000,
          17000,
          76000,
          25000,
          190000,
          69000,
          14000,
          68000,
          16000,
          67000,
          77000,
          19000,
          83000,
          41000,
          45000,
          52000,
          21000,
          30000,
          9800,
          38000
         ],
         "x0": " ",
         "xaxis": "x",
         "y0": " ",
         "yaxis": "y"
        }
       ],
       "layout": {
        "boxmode": "group",
        "font": {
         "size": 14
        },
        "legend": {
         "tracegroupgap": 0
        },
        "template": {
         "data": {
          "bar": [
           {
            "error_x": {
             "color": "#2a3f5f"
            },
            "error_y": {
             "color": "#2a3f5f"
            },
            "marker": {
             "line": {
              "color": "white",
              "width": 0.5
             },
             "pattern": {
              "fillmode": "overlay",
              "size": 10,
              "solidity": 0.2
             }
            },
            "type": "bar"
           }
          ],
          "barpolar": [
           {
            "marker": {
             "line": {
              "color": "white",
              "width": 0.5
             },
             "pattern": {
              "fillmode": "overlay",
              "size": 10,
              "solidity": 0.2
             }
            },
            "type": "barpolar"
           }
          ],
          "carpet": [
           {
            "aaxis": {
             "endlinecolor": "#2a3f5f",
             "gridcolor": "#C8D4E3",
             "linecolor": "#C8D4E3",
             "minorgridcolor": "#C8D4E3",
             "startlinecolor": "#2a3f5f"
            },
            "baxis": {
             "endlinecolor": "#2a3f5f",
             "gridcolor": "#C8D4E3",
             "linecolor": "#C8D4E3",
             "minorgridcolor": "#C8D4E3",
             "startlinecolor": "#2a3f5f"
            },
            "type": "carpet"
           }
          ],
          "choropleth": [
           {
            "colorbar": {
             "outlinewidth": 0,
             "ticks": ""
            },
            "type": "choropleth"
           }
          ],
          "contour": [
           {
            "colorbar": {
             "outlinewidth": 0,
             "ticks": ""
            },
            "colorscale": [
             [
              0,
              "#0d0887"
             ],
             [
              0.1111111111111111,
              "#46039f"
             ],
             [
              0.2222222222222222,
              "#7201a8"
             ],
             [
              0.3333333333333333,
              "#9c179e"
             ],
             [
              0.4444444444444444,
              "#bd3786"
             ],
             [
              0.5555555555555556,
              "#d8576b"
             ],
             [
              0.6666666666666666,
              "#ed7953"
             ],
             [
              0.7777777777777778,
              "#fb9f3a"
             ],
             [
              0.8888888888888888,
              "#fdca26"
             ],
             [
              1,
              "#f0f921"
             ]
            ],
            "type": "contour"
           }
          ],
          "contourcarpet": [
           {
            "colorbar": {
             "outlinewidth": 0,
             "ticks": ""
            },
            "type": "contourcarpet"
           }
          ],
          "heatmap": [
           {
            "colorbar": {
             "outlinewidth": 0,
             "ticks": ""
            },
            "colorscale": [
             [
              0,
              "#0d0887"
             ],
             [
              0.1111111111111111,
              "#46039f"
             ],
             [
              0.2222222222222222,
              "#7201a8"
             ],
             [
              0.3333333333333333,
              "#9c179e"
             ],
             [
              0.4444444444444444,
              "#bd3786"
             ],
             [
              0.5555555555555556,
              "#d8576b"
             ],
             [
              0.6666666666666666,
              "#ed7953"
             ],
             [
              0.7777777777777778,
              "#fb9f3a"
             ],
             [
              0.8888888888888888,
              "#fdca26"
             ],
             [
              1,
              "#f0f921"
             ]
            ],
            "type": "heatmap"
           }
          ],
          "heatmapgl": [
           {
            "colorbar": {
             "outlinewidth": 0,
             "ticks": ""
            },
            "colorscale": [
             [
              0,
              "#0d0887"
             ],
             [
              0.1111111111111111,
              "#46039f"
             ],
             [
              0.2222222222222222,
              "#7201a8"
             ],
             [
              0.3333333333333333,
              "#9c179e"
             ],
             [
              0.4444444444444444,
              "#bd3786"
             ],
             [
              0.5555555555555556,
              "#d8576b"
             ],
             [
              0.6666666666666666,
              "#ed7953"
             ],
             [
              0.7777777777777778,
              "#fb9f3a"
             ],
             [
              0.8888888888888888,
              "#fdca26"
             ],
             [
              1,
              "#f0f921"
             ]
            ],
            "type": "heatmapgl"
           }
          ],
          "histogram": [
           {
            "marker": {
             "pattern": {
              "fillmode": "overlay",
              "size": 10,
              "solidity": 0.2
             }
            },
            "type": "histogram"
           }
          ],
          "histogram2d": [
           {
            "colorbar": {
             "outlinewidth": 0,
             "ticks": ""
            },
            "colorscale": [
             [
              0,
              "#0d0887"
             ],
             [
              0.1111111111111111,
              "#46039f"
             ],
             [
              0.2222222222222222,
              "#7201a8"
             ],
             [
              0.3333333333333333,
              "#9c179e"
             ],
             [
              0.4444444444444444,
              "#bd3786"
             ],
             [
              0.5555555555555556,
              "#d8576b"
             ],
             [
              0.6666666666666666,
              "#ed7953"
             ],
             [
              0.7777777777777778,
              "#fb9f3a"
             ],
             [
              0.8888888888888888,
              "#fdca26"
             ],
             [
              1,
              "#f0f921"
             ]
            ],
            "type": "histogram2d"
           }
          ],
          "histogram2dcontour": [
           {
            "colorbar": {
             "outlinewidth": 0,
             "ticks": ""
            },
            "colorscale": [
             [
              0,
              "#0d0887"
             ],
             [
              0.1111111111111111,
              "#46039f"
             ],
             [
              0.2222222222222222,
              "#7201a8"
             ],
             [
              0.3333333333333333,
              "#9c179e"
             ],
             [
              0.4444444444444444,
              "#bd3786"
             ],
             [
              0.5555555555555556,
              "#d8576b"
             ],
             [
              0.6666666666666666,
              "#ed7953"
             ],
             [
              0.7777777777777778,
              "#fb9f3a"
             ],
             [
              0.8888888888888888,
              "#fdca26"
             ],
             [
              1,
              "#f0f921"
             ]
            ],
            "type": "histogram2dcontour"
           }
          ],
          "mesh3d": [
           {
            "colorbar": {
             "outlinewidth": 0,
             "ticks": ""
            },
            "type": "mesh3d"
           }
          ],
          "parcoords": [
           {
            "line": {
             "colorbar": {
              "outlinewidth": 0,
              "ticks": ""
             }
            },
            "type": "parcoords"
           }
          ],
          "pie": [
           {
            "automargin": true,
            "type": "pie"
           }
          ],
          "scatter": [
           {
            "fillpattern": {
             "fillmode": "overlay",
             "size": 10,
             "solidity": 0.2
            },
            "type": "scatter"
           }
          ],
          "scatter3d": [
           {
            "line": {
             "colorbar": {
              "outlinewidth": 0,
              "ticks": ""
             }
            },
            "marker": {
             "colorbar": {
              "outlinewidth": 0,
              "ticks": ""
             }
            },
            "type": "scatter3d"
           }
          ],
          "scattercarpet": [
           {
            "marker": {
             "colorbar": {
              "outlinewidth": 0,
              "ticks": ""
             }
            },
            "type": "scattercarpet"
           }
          ],
          "scattergeo": [
           {
            "marker": {
             "colorbar": {
              "outlinewidth": 0,
              "ticks": ""
             }
            },
            "type": "scattergeo"
           }
          ],
          "scattergl": [
           {
            "marker": {
             "colorbar": {
              "outlinewidth": 0,
              "ticks": ""
             }
            },
            "type": "scattergl"
           }
          ],
          "scattermapbox": [
           {
            "marker": {
             "colorbar": {
              "outlinewidth": 0,
              "ticks": ""
             }
            },
            "type": "scattermapbox"
           }
          ],
          "scatterpolar": [
           {
            "marker": {
             "colorbar": {
              "outlinewidth": 0,
              "ticks": ""
             }
            },
            "type": "scatterpolar"
           }
          ],
          "scatterpolargl": [
           {
            "marker": {
             "colorbar": {
              "outlinewidth": 0,
              "ticks": ""
             }
            },
            "type": "scatterpolargl"
           }
          ],
          "scatterternary": [
           {
            "marker": {
             "colorbar": {
              "outlinewidth": 0,
              "ticks": ""
             }
            },
            "type": "scatterternary"
           }
          ],
          "surface": [
           {
            "colorbar": {
             "outlinewidth": 0,
             "ticks": ""
            },
            "colorscale": [
             [
              0,
              "#0d0887"
             ],
             [
              0.1111111111111111,
              "#46039f"
             ],
             [
              0.2222222222222222,
              "#7201a8"
             ],
             [
              0.3333333333333333,
              "#9c179e"
             ],
             [
              0.4444444444444444,
              "#bd3786"
             ],
             [
              0.5555555555555556,
              "#d8576b"
             ],
             [
              0.6666666666666666,
              "#ed7953"
             ],
             [
              0.7777777777777778,
              "#fb9f3a"
             ],
             [
              0.8888888888888888,
              "#fdca26"
             ],
             [
              1,
              "#f0f921"
             ]
            ],
            "type": "surface"
           }
          ],
          "table": [
           {
            "cells": {
             "fill": {
              "color": "#EBF0F8"
             },
             "line": {
              "color": "white"
             }
            },
            "header": {
             "fill": {
              "color": "#C8D4E3"
             },
             "line": {
              "color": "white"
             }
            },
            "type": "table"
           }
          ]
         },
         "layout": {
          "annotationdefaults": {
           "arrowcolor": "#2a3f5f",
           "arrowhead": 0,
           "arrowwidth": 1
          },
          "autotypenumbers": "strict",
          "coloraxis": {
           "colorbar": {
            "outlinewidth": 0,
            "ticks": ""
           }
          },
          "colorscale": {
           "diverging": [
            [
             0,
             "#8e0152"
            ],
            [
             0.1,
             "#c51b7d"
            ],
            [
             0.2,
             "#de77ae"
            ],
            [
             0.3,
             "#f1b6da"
            ],
            [
             0.4,
             "#fde0ef"
            ],
            [
             0.5,
             "#f7f7f7"
            ],
            [
             0.6,
             "#e6f5d0"
            ],
            [
             0.7,
             "#b8e186"
            ],
            [
             0.8,
             "#7fbc41"
            ],
            [
             0.9,
             "#4d9221"
            ],
            [
             1,
             "#276419"
            ]
           ],
           "sequential": [
            [
             0,
             "#0d0887"
            ],
            [
             0.1111111111111111,
             "#46039f"
            ],
            [
             0.2222222222222222,
             "#7201a8"
            ],
            [
             0.3333333333333333,
             "#9c179e"
            ],
            [
             0.4444444444444444,
             "#bd3786"
            ],
            [
             0.5555555555555556,
             "#d8576b"
            ],
            [
             0.6666666666666666,
             "#ed7953"
            ],
            [
             0.7777777777777778,
             "#fb9f3a"
            ],
            [
             0.8888888888888888,
             "#fdca26"
            ],
            [
             1,
             "#f0f921"
            ]
           ],
           "sequentialminus": [
            [
             0,
             "#0d0887"
            ],
            [
             0.1111111111111111,
             "#46039f"
            ],
            [
             0.2222222222222222,
             "#7201a8"
            ],
            [
             0.3333333333333333,
             "#9c179e"
            ],
            [
             0.4444444444444444,
             "#bd3786"
            ],
            [
             0.5555555555555556,
             "#d8576b"
            ],
            [
             0.6666666666666666,
             "#ed7953"
            ],
            [
             0.7777777777777778,
             "#fb9f3a"
            ],
            [
             0.8888888888888888,
             "#fdca26"
            ],
            [
             1,
             "#f0f921"
            ]
           ]
          },
          "colorway": [
           "#636efa",
           "#EF553B",
           "#00cc96",
           "#ab63fa",
           "#FFA15A",
           "#19d3f3",
           "#FF6692",
           "#B6E880",
           "#FF97FF",
           "#FECB52"
          ],
          "font": {
           "color": "#2a3f5f"
          },
          "geo": {
           "bgcolor": "white",
           "lakecolor": "white",
           "landcolor": "white",
           "showlakes": true,
           "showland": true,
           "subunitcolor": "#C8D4E3"
          },
          "hoverlabel": {
           "align": "left"
          },
          "hovermode": "closest",
          "mapbox": {
           "style": "light"
          },
          "paper_bgcolor": "white",
          "plot_bgcolor": "white",
          "polar": {
           "angularaxis": {
            "gridcolor": "#EBF0F8",
            "linecolor": "#EBF0F8",
            "ticks": ""
           },
           "bgcolor": "white",
           "radialaxis": {
            "gridcolor": "#EBF0F8",
            "linecolor": "#EBF0F8",
            "ticks": ""
           }
          },
          "scene": {
           "xaxis": {
            "backgroundcolor": "white",
            "gridcolor": "#DFE8F3",
            "gridwidth": 2,
            "linecolor": "#EBF0F8",
            "showbackground": true,
            "ticks": "",
            "zerolinecolor": "#EBF0F8"
           },
           "yaxis": {
            "backgroundcolor": "white",
            "gridcolor": "#DFE8F3",
            "gridwidth": 2,
            "linecolor": "#EBF0F8",
            "showbackground": true,
            "ticks": "",
            "zerolinecolor": "#EBF0F8"
           },
           "zaxis": {
            "backgroundcolor": "white",
            "gridcolor": "#DFE8F3",
            "gridwidth": 2,
            "linecolor": "#EBF0F8",
            "showbackground": true,
            "ticks": "",
            "zerolinecolor": "#EBF0F8"
           }
          },
          "shapedefaults": {
           "line": {
            "color": "#2a3f5f"
           }
          },
          "ternary": {
           "aaxis": {
            "gridcolor": "#DFE8F3",
            "linecolor": "#A2B1C6",
            "ticks": ""
           },
           "baxis": {
            "gridcolor": "#DFE8F3",
            "linecolor": "#A2B1C6",
            "ticks": ""
           },
           "bgcolor": "white",
           "caxis": {
            "gridcolor": "#DFE8F3",
            "linecolor": "#A2B1C6",
            "ticks": ""
           }
          },
          "title": {
           "x": 0.05
          },
          "xaxis": {
           "automargin": true,
           "gridcolor": "#EBF0F8",
           "linecolor": "#EBF0F8",
           "ticks": "",
           "title": {
            "standoff": 15
           },
           "zerolinecolor": "#EBF0F8",
           "zerolinewidth": 2
          },
          "yaxis": {
           "automargin": true,
           "gridcolor": "#EBF0F8",
           "linecolor": "#EBF0F8",
           "ticks": "",
           "title": {
            "standoff": 15
           },
           "zerolinecolor": "#EBF0F8",
           "zerolinewidth": 2
          }
         }
        },
        "title": {
         "text": "Boxplot of Course Students Enrolled",
         "x": 0.5
        },
        "xaxis": {
         "anchor": "y",
         "domain": [
          0,
          1
         ],
         "title": {
          "text": "Students Enrolled"
         }
        },
        "yaxis": {
         "anchor": "x",
         "domain": [
          0,
          1
         ]
        }
       }
      },
      "text/html": [
       "<div>                            <div id=\"3e2933cb-5692-4c72-96b0-08e672dc59c0\" class=\"plotly-graph-div\" style=\"height:525px; width:100%;\"></div>            <script type=\"text/javascript\">                require([\"plotly\"], function(Plotly) {                    window.PLOTLYENV=window.PLOTLYENV || {};                                    if (document.getElementById(\"3e2933cb-5692-4c72-96b0-08e672dc59c0\")) {                    Plotly.newPlot(                        \"3e2933cb-5692-4c72-96b0-08e672dc59c0\",                        [{\"alignmentgroup\":\"True\",\"hovertemplate\":\"Students Enrolled=%{x}\\u003cextra\\u003e\\u003c\\u002fextra\\u003e\",\"legendgroup\":\"\",\"marker\":{\"color\":\"#636efa\"},\"name\":\"\",\"notched\":false,\"offsetgroup\":\"\",\"orientation\":\"h\",\"showlegend\":false,\"x\":[5300.0,17000.0,130000.0,91000.0,320000.0,39000.0,350000.0,2400.0,61000.0,12000.0,4000.0,13000.0,130000.0,11000.0,27000.0,110000.0,13000.0,6600.0,540000.0,22000.0,2900.0,80000.0,9900.0,110000.0,23000.0,9200.0,78000.0,320000.0,190000.0,35000.0,29000.0,14000.0,21000.0,94000.0,69000.0,40000.0,12000.0,220000.0,150000.0,14000.0,18000.0,23000.0,69000.0,270000.0,7900.0,30000.0,36000.0,20000.0,8100.0,120000.0,71000.0,11000.0,11000.0,63000.0,220000.0,42000.0,480000.0,150000.0,97000.0,6600.0,200000.0,180000.0,4200.0,310000.0,3900.0,150000.0,79000.0,31000.0,15000.0,15000.0,10000.0,66000.0,33000.0,56000.0,7300.0,9200.0,22000.0,9700.0,13000.0,180000.0,91000.0,29000.0,210000.0,28000.0,4200.0,6500.0,61000.0,55000.0,2300.0,8800.0,35000.0,88000.0,14000.0,1900.0,68000.0,21000.0,1600.0,31000.0,9500.0,57000.0,26000.0,84000.0,15000.0,95000.0,7300.0,22000.0,5800.0,24000.0,67000.0,280000.0,38000.0,120000.0,77000.0,510000.0,13000.0,110000.0,24000.0,89000.0,67000.0,10000.0,48000.0,160000.0,31000.0,36000.0,220000.0,32000.0,130000.0,340000.0,82000.0,790000.0,31000.0,23000.0,19000.0,30000.0,22000.0,57000.0,51000.0,51000.0,4800.0,32000.0,110000.0,37000.0,310000.0,37000.0,120000.0,15000.0,43000.0,6400.0,43000.0,350000.0,5800.0,33000.0,27000.0,66000.0,19000.0,61000.0,43000.0,15000.0,220000.0,27000.0,26000.0,49000.0,240000.0,46000.0,10000.0,56000.0,7800.0,10000.0,75000.0,15000.0,43000.0,81000.0,140000.0,140000.0,120000.0,150000.0,26000.0,22000.0,17000.0,5500.0,18000.0,99000.0,140000.0,23000.0,55000.0,23000.0,100000.0,220000.0,110000.0,24000.0,19000.0,3000.0,120000.0,120000.0,42000.0,140000.0,830000.0,140000.0,89000.0,740000.0,210000.0,130000.0,60000.0,66000.0,96000.0,140000.0,18000.0,120000.0,110000.0,150000.0,31000.0,690000.0,44000.0,4500.0,8200.0,240000.0,17000.0,67000.0,97000.0,19000.0,16000.0,300000.0,4000.0,8000.0,41000.0,54000.0,54000.0,9000.0,21000.0,37000.0,380000.0,57000.0,140000.0,58000.0,35000.0,40000.0,4000.0,21000.0,130000.0,150000.0,5600.0,17000.0,39000.0,110000.0,7100.0,18000.0,110000.0,83000.0,16000.0,3400.0,46000.0,1500.0,57000.0,12000.0,110000.0,17000.0,37000.0,14000.0,23000.0,200000.0,230000.0,760000.0,130000.0,42000.0,110000.0,2400.0,7900.0,110000.0,86000.0,38000.0,31000.0,20000.0,69000.0,45000.0,23000.0,6400.0,31000.0,130000.0,35000.0,7200.0,1800.0,14000.0,68000.0,83000.0,4100.0,54000.0,31000.0,27000.0,13000.0,11000.0,86000.0,240000.0,39000.0,200000.0,76000.0,39000.0,490000.0,56000.0,54000.0,170000.0,28000.0,180000.0,18000.0,9700.0,13000.0,12000.0,260000.0,69000.0,12000.0,65000.0,10000.0,100000.0,76000.0,470000.0,60000.0,12000.0,6500.0,24000.0,30000.0,310000.0,36000.0,20000.0,400000.0,57000.0,42000.0,4400.0,14000.0,63000.0,62000.0,31000.0,64000.0,27000.0,89000.0,3200.0,26000.0,52000.0,45000.0,89000.0,150000.0,140000.0,170000.0,220000.0,30000.0,39000.0,200000.0,49000.0,86000.0,290000.0,20000.0,18000.0,180000.0,120000.0,110000.0,22000.0,81000.0,25000.0,56000.0,150000.0,110000.0,47000.0,4900.0,9400.0,10000.0,140000.0,100000.0,260000.0,110000.0,14000.0,80000.0,97000.0,19000.0,34000.0,47000.0,14000.0,59000.0,73000.0,59000.0,75000.0,18000.0,22000.0,79000.0,29000.0,10000.0,22000.0,37000.0,3600.0,7600.0,44000.0,3800.0,120000.0,36000.0,93000.0,350000.0,430000.0,10000.0,260000.0,56000.0,210000.0,62000.0,240000.0,43000.0,62000.0,7400.0,39000.0,8100.0,5400.0,1700.0,36000.0,5500.0,46000.0,5500.0,28000.0,170000.0,140000.0,34000.0,98000.0,140000.0,3500.0,220000.0,3300.0,480000.0,35000.0,62000.0,1700.0,23000.0,2200.0,610000.0,270000.0,18000.0,79000.0,51000.0,34000.0,1600.0,12000.0,22000.0,32000.0,10000.0,16000.0,180000.0,40000.0,10000.0,25000.0,72000.0,97000.0,85000.0,12000.0,9700.0,14000.0,8700.0,150000.0,6500.0,22000.0,25000.0,22000.0,36000.0,19000.0,41000.0,26000.0,20000.0,2200.0,35000.0,11000.0,36000.0,38000.0,66000.0,140000.0,100000.0,46000.0,60000.0,44000.0,160000.0,16000.0,27000.0,14000.0,84000.0,53000.0,46000.0,150000.0,2600.0,20000.0,32000.0,130000.0,27000.0,32000.0,30000.0,99000.0,310000.0,390000.0,25000.0,75000.0,110000.0,41000.0,150000.0,34000.0,200000.0,47000.0,79000.0,74000.0,42000.0,220000.0,54000.0,6000.0,82000.0,220000.0,270000.0,87000.0,140000.0,370000.0,11000.0,160000.0,82000.0,270000.0,270000.0,49000.0,39000.0,76000.0,12000.0,69000.0,67000.0,33000.0,150000.0,4100.0,13000.0,72000.0,87000.0,16000.0,76000.0,110000.0,270000.0,4500.0,120000.0,99000.0,14000.0,49000.0,4400.0,380000.0,160000.0,22000.0,37000.0,8000.0,6300.0,17000.0,34000.0,16000.0,220000.0,5900.0,16000.0,43000.0,22000.0,78000.0,52000.0,120000.0,39000.0,160000.0,80000.0,180000.0,120000.0,68000.0,7200.0,10000.0,23000.0,29000.0,14000.0,290000.0,3200000.0,240000.0,29000.0,19000.0,58000.0,15000.0,120000.0,72000.0,78000.0,43000.0,120000.0,11000.0,55000.0,23000.0,71000.0,27000.0,47000.0,22000.0,81000.0,39000.0,49000.0,93000.0,57000.0,58000.0,60000.0,310000.0,280000.0,8400.0,52000.0,48000.0,12000.0,150000.0,140000.0,51000.0,33000.0,4800.0,170000.0,13000.0,260000.0,73000.0,34000.0,230000.0,120000.0,130000.0,36000.0,310000.0,14000.0,21000.0,9100.0,100000.0,40000.0,44000.0,59000.0,42000.0,34000.0,70000.0,21000.0,40000.0,95000.0,22000.0,17000.0,290000.0,630000.0,41000.0,12000.0,5300.0,100000.0,35000.0,250000.0,330000.0,21000.0,33000.0,57000.0,13000.0,76000.0,80000.0,6200.0,92000.0,22000.0,3200.0,9100.0,30000.0,42000.0,8800.0,12000.0,84000.0,79000.0,8900.0,160000.0,83000.0,34000.0,72000.0,180000.0,23000.0,50000.0,40000.0,67000.0,10000.0,39000.0,22000.0,68000.0,47000.0,20000.0,280000.0,79000.0,68000.0,36000.0,39000.0,250000.0,19000.0,1300000.0,18000.0,70000.0,190000.0,440000.0,230000.0,190000.0,52000.0,110000.0,21000.0,420000.0,26000.0,41000.0,170000.0,1500000.0,69000.0,3000.0,480000.0,7700.0,29000.0,35000.0,23000.0,24000.0,5200.0,7200.0,16000.0,15000.0,170000.0,36000.0,17000.0,120000.0,30000.0,3200.0,7000.0,33000.0,370000.0,2600.0,160000.0,5600.0,16000.0,6800.0,12000.0,9100.0,140000.0,47000.0,6400.0,14000.0,300000.0,39000.0,14000.0,110000.0,61000.0,16000.0,18000.0,15000.0,20000.0,22000.0,13000.0,130000.0,78000.0,4200.0,220000.0,42000.0,60000.0,34000.0,60000.0,110000.0,17000.0,68000.0,8800.0,12000.0,71000.0,430000.0,12000.0,16000.0,370000.0,17000.0,16000.0,34000.0,220000.0,28000.0,60000.0,9500.0,100000.0,58000.0,68000.0,9200.0,30000.0,11000.0,220000.0,38000.0,750000.0,11000.0,7900.0,4900.0,66000.0,82000.0,24000.0,29000.0,50000.0,45000.0,9400.0,3900.0,62000.0,48000.0,33000.0,100000.0,62000.0,81000.0,8500.0,53000.0,49000.0,280000.0,170000.0,12000.0,90000.0,130000.0,47000.0,23000.0,73000.0,130000.0,22000.0,84000.0,23000.0,11000.0,120000.0,420000.0,7200.0,84000.0,29000.0,47000.0,130000.0,47000.0,9400.0,180000.0,120000.0,1700.0,50000.0,12000.0,59000.0,13000.0,2500000.0,320000.0,19000.0,100000.0,26000.0,5200.0,28000.0,33000.0,14000.0,200000.0,120000.0,68000.0,45000.0,110000.0,5400.0,12000.0,44000.0,68000.0,25000.0,29000.0,78000.0,89000.0,24000.0,11000.0,49000.0,120000.0,30000.0,130000.0,6100.0,12000.0,9500.0,3900.0,23000.0,43000.0,220000.0,310000.0,19000.0,63000.0,40000.0,150000.0,37000.0,23000.0,190000.0,120000.0,280000.0,34000.0,120000.0,35000.0,6200.0,260000.0,94000.0,32000.0,17000.0,12000.0,270000.0,18000.0,140000.0,17000.0,76000.0,25000.0,190000.0,69000.0,14000.0,68000.0,16000.0,67000.0,77000.0,19000.0,83000.0,41000.0,45000.0,52000.0,21000.0,30000.0,9800.0,38000.0],\"x0\":\" \",\"xaxis\":\"x\",\"y0\":\" \",\"yaxis\":\"y\",\"type\":\"box\"}],                        {\"template\":{\"data\":{\"barpolar\":[{\"marker\":{\"line\":{\"color\":\"white\",\"width\":0.5},\"pattern\":{\"fillmode\":\"overlay\",\"size\":10,\"solidity\":0.2}},\"type\":\"barpolar\"}],\"bar\":[{\"error_x\":{\"color\":\"#2a3f5f\"},\"error_y\":{\"color\":\"#2a3f5f\"},\"marker\":{\"line\":{\"color\":\"white\",\"width\":0.5},\"pattern\":{\"fillmode\":\"overlay\",\"size\":10,\"solidity\":0.2}},\"type\":\"bar\"}],\"carpet\":[{\"aaxis\":{\"endlinecolor\":\"#2a3f5f\",\"gridcolor\":\"#C8D4E3\",\"linecolor\":\"#C8D4E3\",\"minorgridcolor\":\"#C8D4E3\",\"startlinecolor\":\"#2a3f5f\"},\"baxis\":{\"endlinecolor\":\"#2a3f5f\",\"gridcolor\":\"#C8D4E3\",\"linecolor\":\"#C8D4E3\",\"minorgridcolor\":\"#C8D4E3\",\"startlinecolor\":\"#2a3f5f\"},\"type\":\"carpet\"}],\"choropleth\":[{\"colorbar\":{\"outlinewidth\":0,\"ticks\":\"\"},\"type\":\"choropleth\"}],\"contourcarpet\":[{\"colorbar\":{\"outlinewidth\":0,\"ticks\":\"\"},\"type\":\"contourcarpet\"}],\"contour\":[{\"colorbar\":{\"outlinewidth\":0,\"ticks\":\"\"},\"colorscale\":[[0.0,\"#0d0887\"],[0.1111111111111111,\"#46039f\"],[0.2222222222222222,\"#7201a8\"],[0.3333333333333333,\"#9c179e\"],[0.4444444444444444,\"#bd3786\"],[0.5555555555555556,\"#d8576b\"],[0.6666666666666666,\"#ed7953\"],[0.7777777777777778,\"#fb9f3a\"],[0.8888888888888888,\"#fdca26\"],[1.0,\"#f0f921\"]],\"type\":\"contour\"}],\"heatmapgl\":[{\"colorbar\":{\"outlinewidth\":0,\"ticks\":\"\"},\"colorscale\":[[0.0,\"#0d0887\"],[0.1111111111111111,\"#46039f\"],[0.2222222222222222,\"#7201a8\"],[0.3333333333333333,\"#9c179e\"],[0.4444444444444444,\"#bd3786\"],[0.5555555555555556,\"#d8576b\"],[0.6666666666666666,\"#ed7953\"],[0.7777777777777778,\"#fb9f3a\"],[0.8888888888888888,\"#fdca26\"],[1.0,\"#f0f921\"]],\"type\":\"heatmapgl\"}],\"heatmap\":[{\"colorbar\":{\"outlinewidth\":0,\"ticks\":\"\"},\"colorscale\":[[0.0,\"#0d0887\"],[0.1111111111111111,\"#46039f\"],[0.2222222222222222,\"#7201a8\"],[0.3333333333333333,\"#9c179e\"],[0.4444444444444444,\"#bd3786\"],[0.5555555555555556,\"#d8576b\"],[0.6666666666666666,\"#ed7953\"],[0.7777777777777778,\"#fb9f3a\"],[0.8888888888888888,\"#fdca26\"],[1.0,\"#f0f921\"]],\"type\":\"heatmap\"}],\"histogram2dcontour\":[{\"colorbar\":{\"outlinewidth\":0,\"ticks\":\"\"},\"colorscale\":[[0.0,\"#0d0887\"],[0.1111111111111111,\"#46039f\"],[0.2222222222222222,\"#7201a8\"],[0.3333333333333333,\"#9c179e\"],[0.4444444444444444,\"#bd3786\"],[0.5555555555555556,\"#d8576b\"],[0.6666666666666666,\"#ed7953\"],[0.7777777777777778,\"#fb9f3a\"],[0.8888888888888888,\"#fdca26\"],[1.0,\"#f0f921\"]],\"type\":\"histogram2dcontour\"}],\"histogram2d\":[{\"colorbar\":{\"outlinewidth\":0,\"ticks\":\"\"},\"colorscale\":[[0.0,\"#0d0887\"],[0.1111111111111111,\"#46039f\"],[0.2222222222222222,\"#7201a8\"],[0.3333333333333333,\"#9c179e\"],[0.4444444444444444,\"#bd3786\"],[0.5555555555555556,\"#d8576b\"],[0.6666666666666666,\"#ed7953\"],[0.7777777777777778,\"#fb9f3a\"],[0.8888888888888888,\"#fdca26\"],[1.0,\"#f0f921\"]],\"type\":\"histogram2d\"}],\"histogram\":[{\"marker\":{\"pattern\":{\"fillmode\":\"overlay\",\"size\":10,\"solidity\":0.2}},\"type\":\"histogram\"}],\"mesh3d\":[{\"colorbar\":{\"outlinewidth\":0,\"ticks\":\"\"},\"type\":\"mesh3d\"}],\"parcoords\":[{\"line\":{\"colorbar\":{\"outlinewidth\":0,\"ticks\":\"\"}},\"type\":\"parcoords\"}],\"pie\":[{\"automargin\":true,\"type\":\"pie\"}],\"scatter3d\":[{\"line\":{\"colorbar\":{\"outlinewidth\":0,\"ticks\":\"\"}},\"marker\":{\"colorbar\":{\"outlinewidth\":0,\"ticks\":\"\"}},\"type\":\"scatter3d\"}],\"scattercarpet\":[{\"marker\":{\"colorbar\":{\"outlinewidth\":0,\"ticks\":\"\"}},\"type\":\"scattercarpet\"}],\"scattergeo\":[{\"marker\":{\"colorbar\":{\"outlinewidth\":0,\"ticks\":\"\"}},\"type\":\"scattergeo\"}],\"scattergl\":[{\"marker\":{\"colorbar\":{\"outlinewidth\":0,\"ticks\":\"\"}},\"type\":\"scattergl\"}],\"scattermapbox\":[{\"marker\":{\"colorbar\":{\"outlinewidth\":0,\"ticks\":\"\"}},\"type\":\"scattermapbox\"}],\"scatterpolargl\":[{\"marker\":{\"colorbar\":{\"outlinewidth\":0,\"ticks\":\"\"}},\"type\":\"scatterpolargl\"}],\"scatterpolar\":[{\"marker\":{\"colorbar\":{\"outlinewidth\":0,\"ticks\":\"\"}},\"type\":\"scatterpolar\"}],\"scatter\":[{\"fillpattern\":{\"fillmode\":\"overlay\",\"size\":10,\"solidity\":0.2},\"type\":\"scatter\"}],\"scatterternary\":[{\"marker\":{\"colorbar\":{\"outlinewidth\":0,\"ticks\":\"\"}},\"type\":\"scatterternary\"}],\"surface\":[{\"colorbar\":{\"outlinewidth\":0,\"ticks\":\"\"},\"colorscale\":[[0.0,\"#0d0887\"],[0.1111111111111111,\"#46039f\"],[0.2222222222222222,\"#7201a8\"],[0.3333333333333333,\"#9c179e\"],[0.4444444444444444,\"#bd3786\"],[0.5555555555555556,\"#d8576b\"],[0.6666666666666666,\"#ed7953\"],[0.7777777777777778,\"#fb9f3a\"],[0.8888888888888888,\"#fdca26\"],[1.0,\"#f0f921\"]],\"type\":\"surface\"}],\"table\":[{\"cells\":{\"fill\":{\"color\":\"#EBF0F8\"},\"line\":{\"color\":\"white\"}},\"header\":{\"fill\":{\"color\":\"#C8D4E3\"},\"line\":{\"color\":\"white\"}},\"type\":\"table\"}]},\"layout\":{\"annotationdefaults\":{\"arrowcolor\":\"#2a3f5f\",\"arrowhead\":0,\"arrowwidth\":1},\"autotypenumbers\":\"strict\",\"coloraxis\":{\"colorbar\":{\"outlinewidth\":0,\"ticks\":\"\"}},\"colorscale\":{\"diverging\":[[0,\"#8e0152\"],[0.1,\"#c51b7d\"],[0.2,\"#de77ae\"],[0.3,\"#f1b6da\"],[0.4,\"#fde0ef\"],[0.5,\"#f7f7f7\"],[0.6,\"#e6f5d0\"],[0.7,\"#b8e186\"],[0.8,\"#7fbc41\"],[0.9,\"#4d9221\"],[1,\"#276419\"]],\"sequential\":[[0.0,\"#0d0887\"],[0.1111111111111111,\"#46039f\"],[0.2222222222222222,\"#7201a8\"],[0.3333333333333333,\"#9c179e\"],[0.4444444444444444,\"#bd3786\"],[0.5555555555555556,\"#d8576b\"],[0.6666666666666666,\"#ed7953\"],[0.7777777777777778,\"#fb9f3a\"],[0.8888888888888888,\"#fdca26\"],[1.0,\"#f0f921\"]],\"sequentialminus\":[[0.0,\"#0d0887\"],[0.1111111111111111,\"#46039f\"],[0.2222222222222222,\"#7201a8\"],[0.3333333333333333,\"#9c179e\"],[0.4444444444444444,\"#bd3786\"],[0.5555555555555556,\"#d8576b\"],[0.6666666666666666,\"#ed7953\"],[0.7777777777777778,\"#fb9f3a\"],[0.8888888888888888,\"#fdca26\"],[1.0,\"#f0f921\"]]},\"colorway\":[\"#636efa\",\"#EF553B\",\"#00cc96\",\"#ab63fa\",\"#FFA15A\",\"#19d3f3\",\"#FF6692\",\"#B6E880\",\"#FF97FF\",\"#FECB52\"],\"font\":{\"color\":\"#2a3f5f\"},\"geo\":{\"bgcolor\":\"white\",\"lakecolor\":\"white\",\"landcolor\":\"white\",\"showlakes\":true,\"showland\":true,\"subunitcolor\":\"#C8D4E3\"},\"hoverlabel\":{\"align\":\"left\"},\"hovermode\":\"closest\",\"mapbox\":{\"style\":\"light\"},\"paper_bgcolor\":\"white\",\"plot_bgcolor\":\"white\",\"polar\":{\"angularaxis\":{\"gridcolor\":\"#EBF0F8\",\"linecolor\":\"#EBF0F8\",\"ticks\":\"\"},\"bgcolor\":\"white\",\"radialaxis\":{\"gridcolor\":\"#EBF0F8\",\"linecolor\":\"#EBF0F8\",\"ticks\":\"\"}},\"scene\":{\"xaxis\":{\"backgroundcolor\":\"white\",\"gridcolor\":\"#DFE8F3\",\"gridwidth\":2,\"linecolor\":\"#EBF0F8\",\"showbackground\":true,\"ticks\":\"\",\"zerolinecolor\":\"#EBF0F8\"},\"yaxis\":{\"backgroundcolor\":\"white\",\"gridcolor\":\"#DFE8F3\",\"gridwidth\":2,\"linecolor\":\"#EBF0F8\",\"showbackground\":true,\"ticks\":\"\",\"zerolinecolor\":\"#EBF0F8\"},\"zaxis\":{\"backgroundcolor\":\"white\",\"gridcolor\":\"#DFE8F3\",\"gridwidth\":2,\"linecolor\":\"#EBF0F8\",\"showbackground\":true,\"ticks\":\"\",\"zerolinecolor\":\"#EBF0F8\"}},\"shapedefaults\":{\"line\":{\"color\":\"#2a3f5f\"}},\"ternary\":{\"aaxis\":{\"gridcolor\":\"#DFE8F3\",\"linecolor\":\"#A2B1C6\",\"ticks\":\"\"},\"baxis\":{\"gridcolor\":\"#DFE8F3\",\"linecolor\":\"#A2B1C6\",\"ticks\":\"\"},\"bgcolor\":\"white\",\"caxis\":{\"gridcolor\":\"#DFE8F3\",\"linecolor\":\"#A2B1C6\",\"ticks\":\"\"}},\"title\":{\"x\":0.05},\"xaxis\":{\"automargin\":true,\"gridcolor\":\"#EBF0F8\",\"linecolor\":\"#EBF0F8\",\"ticks\":\"\",\"title\":{\"standoff\":15},\"zerolinecolor\":\"#EBF0F8\",\"zerolinewidth\":2},\"yaxis\":{\"automargin\":true,\"gridcolor\":\"#EBF0F8\",\"linecolor\":\"#EBF0F8\",\"ticks\":\"\",\"title\":{\"standoff\":15},\"zerolinecolor\":\"#EBF0F8\",\"zerolinewidth\":2}}},\"xaxis\":{\"anchor\":\"y\",\"domain\":[0.0,1.0],\"title\":{\"text\":\"Students Enrolled\"}},\"yaxis\":{\"anchor\":\"x\",\"domain\":[0.0,1.0]},\"legend\":{\"tracegroupgap\":0},\"title\":{\"text\":\"Boxplot of Course Students Enrolled\",\"x\":0.5},\"boxmode\":\"group\",\"font\":{\"size\":14}},                        {\"responsive\": true}                    ).then(function(){\n",
       "                            \n",
       "var gd = document.getElementById('3e2933cb-5692-4c72-96b0-08e672dc59c0');\n",
       "var x = new MutationObserver(function (mutations, observer) {{\n",
       "        var display = window.getComputedStyle(gd).display;\n",
       "        if (!display || display === 'none') {{\n",
       "            console.log([gd, 'removed!']);\n",
       "            Plotly.purge(gd);\n",
       "            observer.disconnect();\n",
       "        }}\n",
       "}});\n",
       "\n",
       "// Listen for the removal of the full notebook cells\n",
       "var notebookContainer = gd.closest('#notebook-container');\n",
       "if (notebookContainer) {{\n",
       "    x.observe(notebookContainer, {childList: true});\n",
       "}}\n",
       "\n",
       "// Listen for the clearing of the current output cell\n",
       "var outputEl = gd.closest('.output');\n",
       "if (outputEl) {{\n",
       "    x.observe(outputEl, {childList: true});\n",
       "}}\n",
       "\n",
       "                        })                };                });            </script>        </div>"
      ]
     },
     "metadata": {},
     "output_type": "display_data"
    }
   ],
   "source": [
    "#Plot box and whisker plot to confirm outliers\n",
    "fig_1 = px.box(coursera_df, x=\"course_students_enrolled_float\",\n",
    "             title = \"Boxplot of Course Students Enrolled\",\n",
    "             labels={\"course_students_enrolled_float\" : \"Students Enrolled\"},\n",
    "             template=\"plotly_white\")\n",
    "\n",
    "\n",
    "fig_1.update_layout(font=dict(size=14), title=dict(x=0.5))\n",
    "fig_1.show()"
   ]
  },
  {
   "cell_type": "markdown",
   "metadata": {},
   "source": [
    "Mid and extreme outliers identified.  \n",
    "\n",
    "Outliers must be retained in the context of current analysis and for results to be interpreted correctly.  \n",
    "*For instance, preprocessing (i. e. eliminating or adjusting) outlier values would not accurately tell which course was the most popular.*"
   ]
  },
  {
   "cell_type": "markdown",
   "metadata": {},
   "source": [
    "**3.4. Data Categorization and Categorical Encoding**"
   ]
  },
  {
   "cell_type": "markdown",
   "metadata": {},
   "source": [
    "Categorize number of students enrolled to courses, course rating and encode course difficulty by transformation."
   ]
  },
  {
   "cell_type": "code",
   "execution_count": 14,
   "metadata": {},
   "outputs": [
    {
     "data": {
      "text/html": [
       "<div>\n",
       "<style scoped>\n",
       "    .dataframe tbody tr th:only-of-type {\n",
       "        vertical-align: middle;\n",
       "    }\n",
       "\n",
       "    .dataframe tbody tr th {\n",
       "        vertical-align: top;\n",
       "    }\n",
       "\n",
       "    .dataframe thead th {\n",
       "        text-align: right;\n",
       "    }\n",
       "</style>\n",
       "<table border=\"1\" class=\"dataframe\">\n",
       "  <thead>\n",
       "    <tr style=\"text-align: right;\">\n",
       "      <th></th>\n",
       "      <th>course_title</th>\n",
       "      <th>course_organization</th>\n",
       "      <th>course_Certificate_type</th>\n",
       "      <th>course_rating</th>\n",
       "      <th>course_difficulty</th>\n",
       "      <th>course_students_enrolled</th>\n",
       "      <th>course_students_enrolled_float</th>\n",
       "      <th>Enrollment_category</th>\n",
       "      <th>Rating_category</th>\n",
       "      <th>course_difficulty_numeric</th>\n",
       "    </tr>\n",
       "  </thead>\n",
       "  <tbody>\n",
       "    <tr>\n",
       "      <th>0</th>\n",
       "      <td>(ISC)² Systems Security Certified Practitioner...</td>\n",
       "      <td>(ISC)²</td>\n",
       "      <td>SPECIALIZATION</td>\n",
       "      <td>4.7</td>\n",
       "      <td>Beginner</td>\n",
       "      <td>5.3k</td>\n",
       "      <td>5300.0</td>\n",
       "      <td>Medium Enrollment</td>\n",
       "      <td>Excellent</td>\n",
       "      <td>1</td>\n",
       "    </tr>\n",
       "    <tr>\n",
       "      <th>1</th>\n",
       "      <td>A Crash Course in Causality:  Inferring Causal...</td>\n",
       "      <td>University of Pennsylvania</td>\n",
       "      <td>COURSE</td>\n",
       "      <td>4.7</td>\n",
       "      <td>Intermediate</td>\n",
       "      <td>17k</td>\n",
       "      <td>17000.0</td>\n",
       "      <td>High Enrollment</td>\n",
       "      <td>Excellent</td>\n",
       "      <td>3</td>\n",
       "    </tr>\n",
       "    <tr>\n",
       "      <th>2</th>\n",
       "      <td>A Crash Course in Data Science</td>\n",
       "      <td>Johns Hopkins University</td>\n",
       "      <td>COURSE</td>\n",
       "      <td>4.5</td>\n",
       "      <td>Mixed</td>\n",
       "      <td>130k</td>\n",
       "      <td>130000.0</td>\n",
       "      <td>Very High Enrollment</td>\n",
       "      <td>Good</td>\n",
       "      <td>2</td>\n",
       "    </tr>\n",
       "    <tr>\n",
       "      <th>3</th>\n",
       "      <td>A Law Student's Toolkit</td>\n",
       "      <td>Yale University</td>\n",
       "      <td>COURSE</td>\n",
       "      <td>4.7</td>\n",
       "      <td>Mixed</td>\n",
       "      <td>91k</td>\n",
       "      <td>91000.0</td>\n",
       "      <td>High Enrollment</td>\n",
       "      <td>Excellent</td>\n",
       "      <td>2</td>\n",
       "    </tr>\n",
       "    <tr>\n",
       "      <th>4</th>\n",
       "      <td>A Life of Happiness and Fulfillment</td>\n",
       "      <td>Indian School of Business</td>\n",
       "      <td>COURSE</td>\n",
       "      <td>4.8</td>\n",
       "      <td>Mixed</td>\n",
       "      <td>320k</td>\n",
       "      <td>320000.0</td>\n",
       "      <td>Very High Enrollment</td>\n",
       "      <td>Excellent</td>\n",
       "      <td>2</td>\n",
       "    </tr>\n",
       "  </tbody>\n",
       "</table>\n",
       "</div>"
      ],
      "text/plain": [
       "                                        course_title  \\\n",
       "0  (ISC)² Systems Security Certified Practitioner...   \n",
       "1  A Crash Course in Causality:  Inferring Causal...   \n",
       "2                     A Crash Course in Data Science   \n",
       "3                            A Law Student's Toolkit   \n",
       "4                A Life of Happiness and Fulfillment   \n",
       "\n",
       "          course_organization course_Certificate_type  course_rating  \\\n",
       "0                      (ISC)²          SPECIALIZATION            4.7   \n",
       "1  University of Pennsylvania                  COURSE            4.7   \n",
       "2    Johns Hopkins University                  COURSE            4.5   \n",
       "3             Yale University                  COURSE            4.7   \n",
       "4   Indian School of Business                  COURSE            4.8   \n",
       "\n",
       "  course_difficulty course_students_enrolled  course_students_enrolled_float  \\\n",
       "0          Beginner                     5.3k                          5300.0   \n",
       "1      Intermediate                      17k                         17000.0   \n",
       "2             Mixed                     130k                        130000.0   \n",
       "3             Mixed                      91k                         91000.0   \n",
       "4             Mixed                     320k                        320000.0   \n",
       "\n",
       "    Enrollment_category Rating_category  course_difficulty_numeric  \n",
       "0     Medium Enrollment       Excellent                          1  \n",
       "1       High Enrollment       Excellent                          3  \n",
       "2  Very High Enrollment            Good                          2  \n",
       "3       High Enrollment       Excellent                          2  \n",
       "4  Very High Enrollment       Excellent                          2  "
      ]
     },
     "execution_count": 14,
     "metadata": {},
     "output_type": "execute_result"
    }
   ],
   "source": [
    "#Define bins for student enrollment\n",
    "students_enrolled_bins = [0, 1000, 10000, 100000, coursera_df[\"course_students_enrolled_float\"].max()]\n",
    "labels = [\"Low Enrollment\", \"Medium Enrollment\", \"High Enrollment\", \"Very High Enrollment\"]\n",
    "\n",
    "#Create new column for enrollment category\n",
    "coursera_df[\"Enrollment_category\"] = pd.cut(coursera_df[\"course_students_enrolled_float\"],\n",
    "                                            bins=students_enrolled_bins,\n",
    "                                            labels=labels,\n",
    "                                            right=False)\n",
    "\n",
    "#Define bins for course rating\n",
    "rating_bins = [0, 3, 3.5, 4, 4.5, coursera_df[\"course_rating\"].max()]\n",
    "rating_labels = [\"Very Low\", \"Low\", \"Medium\", \"Good\", \"Excellent\"]\n",
    "\n",
    "#Create new column for rating category\n",
    "coursera_df[\"Rating_category\"] = pd.cut(coursera_df[\"course_rating\"],\n",
    "                                            bins=rating_bins,\n",
    "                                            labels=rating_labels,\n",
    "                                            right=True)\n",
    "\n",
    "#Define dictionary for encoding\n",
    "difficulty_dict = {\"Beginner\":1, \"Mixed\":2, \"Intermediate\":3, \"Advanced\":4}\n",
    "\n",
    "#Create new column for encoded course rating\n",
    "coursera_df[\"course_difficulty_numeric\"] = coursera_df[\"course_difficulty\"].map(difficulty_dict)\n",
    "\n",
    "coursera_df.head()"
   ]
  },
  {
   "cell_type": "markdown",
   "metadata": {},
   "source": [
    "##### **_4._** Exploratory Data Analysis"
   ]
  },
  {
   "cell_type": "markdown",
   "metadata": {},
   "source": [
    "> 4.1. Initial observations of the Dataset:"
   ]
  },
  {
   "cell_type": "code",
   "execution_count": 15,
   "metadata": {},
   "outputs": [
    {
     "name": "stdout",
     "output_type": "stream",
     "text": [
      "After data pre-processing, current dataset has 891 observations and 10 features.\n"
     ]
    }
   ],
   "source": [
    "rows, columns = coursera_df.shape\n",
    "print(f\"After data pre-processing, current dataset has {rows} observations and {columns} features.\")"
   ]
  },
  {
   "cell_type": "markdown",
   "metadata": {},
   "source": [
    "> 4.2. Which features are categorical and which are numerical?"
   ]
  },
  {
   "cell_type": "code",
   "execution_count": 16,
   "metadata": {},
   "outputs": [
    {
     "data": {
      "text/plain": [
       "course_title                        object\n",
       "course_organization                 object\n",
       "course_Certificate_type             object\n",
       "course_rating                      float64\n",
       "course_difficulty                   object\n",
       "course_students_enrolled            object\n",
       "course_students_enrolled_float     float64\n",
       "Enrollment_category               category\n",
       "Rating_category                   category\n",
       "course_difficulty_numeric            int64\n",
       "dtype: object"
      ]
     },
     "execution_count": 16,
     "metadata": {},
     "output_type": "execute_result"
    }
   ],
   "source": [
    "coursera_df.dtypes"
   ]
  },
  {
   "cell_type": "markdown",
   "metadata": {},
   "source": [
    "**_Note_**: As described thorughout the data cleaning process, \"course_students_enrolled\" in fact is a numerical feature rather than categorical."
   ]
  },
  {
   "cell_type": "markdown",
   "metadata": {},
   "source": [
    "> 4.3. Which courses are the most popular (by student enrollment)?"
   ]
  },
  {
   "cell_type": "code",
   "execution_count": 17,
   "metadata": {},
   "outputs": [
    {
     "data": {
      "application/vnd.plotly.v1+json": {
       "config": {
        "plotlyServerURL": "https://plot.ly"
       },
       "data": [
        {
         "alignmentgroup": "True",
         "hovertemplate": "<b>%{hovertext}</b><br><br>Course Title=%{x}<br>Students Enrolled=%{text}<extra></extra>",
         "hovertext": [
          "Machine Learning",
          "The Science of Well-Being",
          "Python for Everybody",
          "Programming for Everybody (Getting Started with Python)",
          "Data Science",
          "Career Success",
          "English for Career Development",
          "Successful Negotiation: Essential Strategies and Skills",
          "Data Science: Foundations using R",
          "Deep Learning"
         ],
         "legendgroup": "",
         "marker": {
          "color": "rgb(136,204,238)",
          "pattern": {
           "shape": ""
          }
         },
         "name": "",
         "offsetgroup": "",
         "orientation": "v",
         "showlegend": false,
         "text": [
          3200000,
          2500000,
          1500000,
          1300000,
          830000,
          790000,
          760000,
          750000,
          740000,
          690000
         ],
         "textposition": "outside",
         "texttemplate": "%{text:.2s}",
         "type": "bar",
         "x": [
          "Machine Learning",
          "The Science of Well-Being",
          "Python for Everybody",
          "Programming for Everybody (Getting Started with Python)",
          "Data Science",
          "Career Success",
          "English for Career Development",
          "Successful Negotiation: Essential Strategies and Skills",
          "Data Science: Foundations using R",
          "Deep Learning"
         ],
         "xaxis": "x",
         "y": [
          3200000,
          2500000,
          1500000,
          1300000,
          830000,
          790000,
          760000,
          750000,
          740000,
          690000
         ],
         "yaxis": "y"
        }
       ],
       "layout": {
        "annotations": [
         {
          "arrowcolor": "purple",
          "arrowhead": 1,
          "font": {
           "color": "purple"
          },
          "showarrow": true,
          "text": "Mean: 90,552",
          "x": 9.2,
          "y": 90552.07631874298,
          "yshift": 2
         }
        ],
        "barmode": "relative",
        "font": {
         "size": 14
        },
        "height": 700,
        "legend": {
         "tracegroupgap": 0
        },
        "shapes": [
         {
          "line": {
           "color": "purple",
           "dash": "dash"
          },
          "name": "Mean",
          "type": "line",
          "x0": -0.5,
          "x1": 9.5,
          "y0": 90552.07631874298,
          "y1": 90552.07631874298
         }
        ],
        "template": {
         "data": {
          "bar": [
           {
            "error_x": {
             "color": "#2a3f5f"
            },
            "error_y": {
             "color": "#2a3f5f"
            },
            "marker": {
             "line": {
              "color": "white",
              "width": 0.5
             },
             "pattern": {
              "fillmode": "overlay",
              "size": 10,
              "solidity": 0.2
             }
            },
            "type": "bar"
           }
          ],
          "barpolar": [
           {
            "marker": {
             "line": {
              "color": "white",
              "width": 0.5
             },
             "pattern": {
              "fillmode": "overlay",
              "size": 10,
              "solidity": 0.2
             }
            },
            "type": "barpolar"
           }
          ],
          "carpet": [
           {
            "aaxis": {
             "endlinecolor": "#2a3f5f",
             "gridcolor": "#C8D4E3",
             "linecolor": "#C8D4E3",
             "minorgridcolor": "#C8D4E3",
             "startlinecolor": "#2a3f5f"
            },
            "baxis": {
             "endlinecolor": "#2a3f5f",
             "gridcolor": "#C8D4E3",
             "linecolor": "#C8D4E3",
             "minorgridcolor": "#C8D4E3",
             "startlinecolor": "#2a3f5f"
            },
            "type": "carpet"
           }
          ],
          "choropleth": [
           {
            "colorbar": {
             "outlinewidth": 0,
             "ticks": ""
            },
            "type": "choropleth"
           }
          ],
          "contour": [
           {
            "colorbar": {
             "outlinewidth": 0,
             "ticks": ""
            },
            "colorscale": [
             [
              0,
              "#0d0887"
             ],
             [
              0.1111111111111111,
              "#46039f"
             ],
             [
              0.2222222222222222,
              "#7201a8"
             ],
             [
              0.3333333333333333,
              "#9c179e"
             ],
             [
              0.4444444444444444,
              "#bd3786"
             ],
             [
              0.5555555555555556,
              "#d8576b"
             ],
             [
              0.6666666666666666,
              "#ed7953"
             ],
             [
              0.7777777777777778,
              "#fb9f3a"
             ],
             [
              0.8888888888888888,
              "#fdca26"
             ],
             [
              1,
              "#f0f921"
             ]
            ],
            "type": "contour"
           }
          ],
          "contourcarpet": [
           {
            "colorbar": {
             "outlinewidth": 0,
             "ticks": ""
            },
            "type": "contourcarpet"
           }
          ],
          "heatmap": [
           {
            "colorbar": {
             "outlinewidth": 0,
             "ticks": ""
            },
            "colorscale": [
             [
              0,
              "#0d0887"
             ],
             [
              0.1111111111111111,
              "#46039f"
             ],
             [
              0.2222222222222222,
              "#7201a8"
             ],
             [
              0.3333333333333333,
              "#9c179e"
             ],
             [
              0.4444444444444444,
              "#bd3786"
             ],
             [
              0.5555555555555556,
              "#d8576b"
             ],
             [
              0.6666666666666666,
              "#ed7953"
             ],
             [
              0.7777777777777778,
              "#fb9f3a"
             ],
             [
              0.8888888888888888,
              "#fdca26"
             ],
             [
              1,
              "#f0f921"
             ]
            ],
            "type": "heatmap"
           }
          ],
          "heatmapgl": [
           {
            "colorbar": {
             "outlinewidth": 0,
             "ticks": ""
            },
            "colorscale": [
             [
              0,
              "#0d0887"
             ],
             [
              0.1111111111111111,
              "#46039f"
             ],
             [
              0.2222222222222222,
              "#7201a8"
             ],
             [
              0.3333333333333333,
              "#9c179e"
             ],
             [
              0.4444444444444444,
              "#bd3786"
             ],
             [
              0.5555555555555556,
              "#d8576b"
             ],
             [
              0.6666666666666666,
              "#ed7953"
             ],
             [
              0.7777777777777778,
              "#fb9f3a"
             ],
             [
              0.8888888888888888,
              "#fdca26"
             ],
             [
              1,
              "#f0f921"
             ]
            ],
            "type": "heatmapgl"
           }
          ],
          "histogram": [
           {
            "marker": {
             "pattern": {
              "fillmode": "overlay",
              "size": 10,
              "solidity": 0.2
             }
            },
            "type": "histogram"
           }
          ],
          "histogram2d": [
           {
            "colorbar": {
             "outlinewidth": 0,
             "ticks": ""
            },
            "colorscale": [
             [
              0,
              "#0d0887"
             ],
             [
              0.1111111111111111,
              "#46039f"
             ],
             [
              0.2222222222222222,
              "#7201a8"
             ],
             [
              0.3333333333333333,
              "#9c179e"
             ],
             [
              0.4444444444444444,
              "#bd3786"
             ],
             [
              0.5555555555555556,
              "#d8576b"
             ],
             [
              0.6666666666666666,
              "#ed7953"
             ],
             [
              0.7777777777777778,
              "#fb9f3a"
             ],
             [
              0.8888888888888888,
              "#fdca26"
             ],
             [
              1,
              "#f0f921"
             ]
            ],
            "type": "histogram2d"
           }
          ],
          "histogram2dcontour": [
           {
            "colorbar": {
             "outlinewidth": 0,
             "ticks": ""
            },
            "colorscale": [
             [
              0,
              "#0d0887"
             ],
             [
              0.1111111111111111,
              "#46039f"
             ],
             [
              0.2222222222222222,
              "#7201a8"
             ],
             [
              0.3333333333333333,
              "#9c179e"
             ],
             [
              0.4444444444444444,
              "#bd3786"
             ],
             [
              0.5555555555555556,
              "#d8576b"
             ],
             [
              0.6666666666666666,
              "#ed7953"
             ],
             [
              0.7777777777777778,
              "#fb9f3a"
             ],
             [
              0.8888888888888888,
              "#fdca26"
             ],
             [
              1,
              "#f0f921"
             ]
            ],
            "type": "histogram2dcontour"
           }
          ],
          "mesh3d": [
           {
            "colorbar": {
             "outlinewidth": 0,
             "ticks": ""
            },
            "type": "mesh3d"
           }
          ],
          "parcoords": [
           {
            "line": {
             "colorbar": {
              "outlinewidth": 0,
              "ticks": ""
             }
            },
            "type": "parcoords"
           }
          ],
          "pie": [
           {
            "automargin": true,
            "type": "pie"
           }
          ],
          "scatter": [
           {
            "fillpattern": {
             "fillmode": "overlay",
             "size": 10,
             "solidity": 0.2
            },
            "type": "scatter"
           }
          ],
          "scatter3d": [
           {
            "line": {
             "colorbar": {
              "outlinewidth": 0,
              "ticks": ""
             }
            },
            "marker": {
             "colorbar": {
              "outlinewidth": 0,
              "ticks": ""
             }
            },
            "type": "scatter3d"
           }
          ],
          "scattercarpet": [
           {
            "marker": {
             "colorbar": {
              "outlinewidth": 0,
              "ticks": ""
             }
            },
            "type": "scattercarpet"
           }
          ],
          "scattergeo": [
           {
            "marker": {
             "colorbar": {
              "outlinewidth": 0,
              "ticks": ""
             }
            },
            "type": "scattergeo"
           }
          ],
          "scattergl": [
           {
            "marker": {
             "colorbar": {
              "outlinewidth": 0,
              "ticks": ""
             }
            },
            "type": "scattergl"
           }
          ],
          "scattermapbox": [
           {
            "marker": {
             "colorbar": {
              "outlinewidth": 0,
              "ticks": ""
             }
            },
            "type": "scattermapbox"
           }
          ],
          "scatterpolar": [
           {
            "marker": {
             "colorbar": {
              "outlinewidth": 0,
              "ticks": ""
             }
            },
            "type": "scatterpolar"
           }
          ],
          "scatterpolargl": [
           {
            "marker": {
             "colorbar": {
              "outlinewidth": 0,
              "ticks": ""
             }
            },
            "type": "scatterpolargl"
           }
          ],
          "scatterternary": [
           {
            "marker": {
             "colorbar": {
              "outlinewidth": 0,
              "ticks": ""
             }
            },
            "type": "scatterternary"
           }
          ],
          "surface": [
           {
            "colorbar": {
             "outlinewidth": 0,
             "ticks": ""
            },
            "colorscale": [
             [
              0,
              "#0d0887"
             ],
             [
              0.1111111111111111,
              "#46039f"
             ],
             [
              0.2222222222222222,
              "#7201a8"
             ],
             [
              0.3333333333333333,
              "#9c179e"
             ],
             [
              0.4444444444444444,
              "#bd3786"
             ],
             [
              0.5555555555555556,
              "#d8576b"
             ],
             [
              0.6666666666666666,
              "#ed7953"
             ],
             [
              0.7777777777777778,
              "#fb9f3a"
             ],
             [
              0.8888888888888888,
              "#fdca26"
             ],
             [
              1,
              "#f0f921"
             ]
            ],
            "type": "surface"
           }
          ],
          "table": [
           {
            "cells": {
             "fill": {
              "color": "#EBF0F8"
             },
             "line": {
              "color": "white"
             }
            },
            "header": {
             "fill": {
              "color": "#C8D4E3"
             },
             "line": {
              "color": "white"
             }
            },
            "type": "table"
           }
          ]
         },
         "layout": {
          "annotationdefaults": {
           "arrowcolor": "#2a3f5f",
           "arrowhead": 0,
           "arrowwidth": 1
          },
          "autotypenumbers": "strict",
          "coloraxis": {
           "colorbar": {
            "outlinewidth": 0,
            "ticks": ""
           }
          },
          "colorscale": {
           "diverging": [
            [
             0,
             "#8e0152"
            ],
            [
             0.1,
             "#c51b7d"
            ],
            [
             0.2,
             "#de77ae"
            ],
            [
             0.3,
             "#f1b6da"
            ],
            [
             0.4,
             "#fde0ef"
            ],
            [
             0.5,
             "#f7f7f7"
            ],
            [
             0.6,
             "#e6f5d0"
            ],
            [
             0.7,
             "#b8e186"
            ],
            [
             0.8,
             "#7fbc41"
            ],
            [
             0.9,
             "#4d9221"
            ],
            [
             1,
             "#276419"
            ]
           ],
           "sequential": [
            [
             0,
             "#0d0887"
            ],
            [
             0.1111111111111111,
             "#46039f"
            ],
            [
             0.2222222222222222,
             "#7201a8"
            ],
            [
             0.3333333333333333,
             "#9c179e"
            ],
            [
             0.4444444444444444,
             "#bd3786"
            ],
            [
             0.5555555555555556,
             "#d8576b"
            ],
            [
             0.6666666666666666,
             "#ed7953"
            ],
            [
             0.7777777777777778,
             "#fb9f3a"
            ],
            [
             0.8888888888888888,
             "#fdca26"
            ],
            [
             1,
             "#f0f921"
            ]
           ],
           "sequentialminus": [
            [
             0,
             "#0d0887"
            ],
            [
             0.1111111111111111,
             "#46039f"
            ],
            [
             0.2222222222222222,
             "#7201a8"
            ],
            [
             0.3333333333333333,
             "#9c179e"
            ],
            [
             0.4444444444444444,
             "#bd3786"
            ],
            [
             0.5555555555555556,
             "#d8576b"
            ],
            [
             0.6666666666666666,
             "#ed7953"
            ],
            [
             0.7777777777777778,
             "#fb9f3a"
            ],
            [
             0.8888888888888888,
             "#fdca26"
            ],
            [
             1,
             "#f0f921"
            ]
           ]
          },
          "colorway": [
           "#636efa",
           "#EF553B",
           "#00cc96",
           "#ab63fa",
           "#FFA15A",
           "#19d3f3",
           "#FF6692",
           "#B6E880",
           "#FF97FF",
           "#FECB52"
          ],
          "font": {
           "color": "#2a3f5f"
          },
          "geo": {
           "bgcolor": "white",
           "lakecolor": "white",
           "landcolor": "white",
           "showlakes": true,
           "showland": true,
           "subunitcolor": "#C8D4E3"
          },
          "hoverlabel": {
           "align": "left"
          },
          "hovermode": "closest",
          "mapbox": {
           "style": "light"
          },
          "paper_bgcolor": "white",
          "plot_bgcolor": "white",
          "polar": {
           "angularaxis": {
            "gridcolor": "#EBF0F8",
            "linecolor": "#EBF0F8",
            "ticks": ""
           },
           "bgcolor": "white",
           "radialaxis": {
            "gridcolor": "#EBF0F8",
            "linecolor": "#EBF0F8",
            "ticks": ""
           }
          },
          "scene": {
           "xaxis": {
            "backgroundcolor": "white",
            "gridcolor": "#DFE8F3",
            "gridwidth": 2,
            "linecolor": "#EBF0F8",
            "showbackground": true,
            "ticks": "",
            "zerolinecolor": "#EBF0F8"
           },
           "yaxis": {
            "backgroundcolor": "white",
            "gridcolor": "#DFE8F3",
            "gridwidth": 2,
            "linecolor": "#EBF0F8",
            "showbackground": true,
            "ticks": "",
            "zerolinecolor": "#EBF0F8"
           },
           "zaxis": {
            "backgroundcolor": "white",
            "gridcolor": "#DFE8F3",
            "gridwidth": 2,
            "linecolor": "#EBF0F8",
            "showbackground": true,
            "ticks": "",
            "zerolinecolor": "#EBF0F8"
           }
          },
          "shapedefaults": {
           "line": {
            "color": "#2a3f5f"
           }
          },
          "ternary": {
           "aaxis": {
            "gridcolor": "#DFE8F3",
            "linecolor": "#A2B1C6",
            "ticks": ""
           },
           "baxis": {
            "gridcolor": "#DFE8F3",
            "linecolor": "#A2B1C6",
            "ticks": ""
           },
           "bgcolor": "white",
           "caxis": {
            "gridcolor": "#DFE8F3",
            "linecolor": "#A2B1C6",
            "ticks": ""
           }
          },
          "title": {
           "x": 0.05
          },
          "xaxis": {
           "automargin": true,
           "gridcolor": "#EBF0F8",
           "linecolor": "#EBF0F8",
           "ticks": "",
           "title": {
            "standoff": 15
           },
           "zerolinecolor": "#EBF0F8",
           "zerolinewidth": 2
          },
          "yaxis": {
           "automargin": true,
           "gridcolor": "#EBF0F8",
           "linecolor": "#EBF0F8",
           "ticks": "",
           "title": {
            "standoff": 15
           },
           "zerolinecolor": "#EBF0F8",
           "zerolinewidth": 2
          }
         }
        },
        "title": {
         "text": "Top 10 Courses by Number of Students Enrolled",
         "x": 0.4
        },
        "width": 800,
        "xaxis": {
         "anchor": "y",
         "domain": [
          0,
          1
         ],
         "title": {
          "text": "Course Title"
         }
        },
        "yaxis": {
         "anchor": "x",
         "domain": [
          0,
          1
         ],
         "showgrid": false,
         "title": {
          "text": "Students Enrolled"
         }
        }
       }
      },
      "text/html": [
       "<div>                            <div id=\"26f9ddfd-2e1b-4232-88f1-215ab8bc2dfa\" class=\"plotly-graph-div\" style=\"height:700px; width:800px;\"></div>            <script type=\"text/javascript\">                require([\"plotly\"], function(Plotly) {                    window.PLOTLYENV=window.PLOTLYENV || {};                                    if (document.getElementById(\"26f9ddfd-2e1b-4232-88f1-215ab8bc2dfa\")) {                    Plotly.newPlot(                        \"26f9ddfd-2e1b-4232-88f1-215ab8bc2dfa\",                        [{\"alignmentgroup\":\"True\",\"hovertemplate\":\"\\u003cb\\u003e%{hovertext}\\u003c\\u002fb\\u003e\\u003cbr\\u003e\\u003cbr\\u003eCourse Title=%{x}\\u003cbr\\u003eStudents Enrolled=%{text}\\u003cextra\\u003e\\u003c\\u002fextra\\u003e\",\"hovertext\":[\"Machine Learning\",\"The Science of Well-Being\",\"Python for Everybody\",\"Programming for Everybody (Getting Started with Python)\",\"Data Science\",\"Career Success\",\"English for Career Development\",\"Successful Negotiation: Essential Strategies and Skills\",\"Data Science: Foundations using R\",\"Deep Learning\"],\"legendgroup\":\"\",\"marker\":{\"color\":\"rgb(136,204,238)\",\"pattern\":{\"shape\":\"\"}},\"name\":\"\",\"offsetgroup\":\"\",\"orientation\":\"v\",\"showlegend\":false,\"text\":[3200000.0,2500000.0,1500000.0,1300000.0,830000.0,790000.0,760000.0,750000.0,740000.0,690000.0],\"textposition\":\"outside\",\"x\":[\"Machine Learning\",\"The Science of Well-Being\",\"Python for Everybody\",\"Programming for Everybody (Getting Started with Python)\",\"Data Science\",\"Career Success\",\"English for Career Development\",\"Successful Negotiation: Essential Strategies and Skills\",\"Data Science: Foundations using R\",\"Deep Learning\"],\"xaxis\":\"x\",\"y\":[3200000.0,2500000.0,1500000.0,1300000.0,830000.0,790000.0,760000.0,750000.0,740000.0,690000.0],\"yaxis\":\"y\",\"type\":\"bar\",\"texttemplate\":\"%{text:.2s}\"}],                        {\"template\":{\"data\":{\"barpolar\":[{\"marker\":{\"line\":{\"color\":\"white\",\"width\":0.5},\"pattern\":{\"fillmode\":\"overlay\",\"size\":10,\"solidity\":0.2}},\"type\":\"barpolar\"}],\"bar\":[{\"error_x\":{\"color\":\"#2a3f5f\"},\"error_y\":{\"color\":\"#2a3f5f\"},\"marker\":{\"line\":{\"color\":\"white\",\"width\":0.5},\"pattern\":{\"fillmode\":\"overlay\",\"size\":10,\"solidity\":0.2}},\"type\":\"bar\"}],\"carpet\":[{\"aaxis\":{\"endlinecolor\":\"#2a3f5f\",\"gridcolor\":\"#C8D4E3\",\"linecolor\":\"#C8D4E3\",\"minorgridcolor\":\"#C8D4E3\",\"startlinecolor\":\"#2a3f5f\"},\"baxis\":{\"endlinecolor\":\"#2a3f5f\",\"gridcolor\":\"#C8D4E3\",\"linecolor\":\"#C8D4E3\",\"minorgridcolor\":\"#C8D4E3\",\"startlinecolor\":\"#2a3f5f\"},\"type\":\"carpet\"}],\"choropleth\":[{\"colorbar\":{\"outlinewidth\":0,\"ticks\":\"\"},\"type\":\"choropleth\"}],\"contourcarpet\":[{\"colorbar\":{\"outlinewidth\":0,\"ticks\":\"\"},\"type\":\"contourcarpet\"}],\"contour\":[{\"colorbar\":{\"outlinewidth\":0,\"ticks\":\"\"},\"colorscale\":[[0.0,\"#0d0887\"],[0.1111111111111111,\"#46039f\"],[0.2222222222222222,\"#7201a8\"],[0.3333333333333333,\"#9c179e\"],[0.4444444444444444,\"#bd3786\"],[0.5555555555555556,\"#d8576b\"],[0.6666666666666666,\"#ed7953\"],[0.7777777777777778,\"#fb9f3a\"],[0.8888888888888888,\"#fdca26\"],[1.0,\"#f0f921\"]],\"type\":\"contour\"}],\"heatmapgl\":[{\"colorbar\":{\"outlinewidth\":0,\"ticks\":\"\"},\"colorscale\":[[0.0,\"#0d0887\"],[0.1111111111111111,\"#46039f\"],[0.2222222222222222,\"#7201a8\"],[0.3333333333333333,\"#9c179e\"],[0.4444444444444444,\"#bd3786\"],[0.5555555555555556,\"#d8576b\"],[0.6666666666666666,\"#ed7953\"],[0.7777777777777778,\"#fb9f3a\"],[0.8888888888888888,\"#fdca26\"],[1.0,\"#f0f921\"]],\"type\":\"heatmapgl\"}],\"heatmap\":[{\"colorbar\":{\"outlinewidth\":0,\"ticks\":\"\"},\"colorscale\":[[0.0,\"#0d0887\"],[0.1111111111111111,\"#46039f\"],[0.2222222222222222,\"#7201a8\"],[0.3333333333333333,\"#9c179e\"],[0.4444444444444444,\"#bd3786\"],[0.5555555555555556,\"#d8576b\"],[0.6666666666666666,\"#ed7953\"],[0.7777777777777778,\"#fb9f3a\"],[0.8888888888888888,\"#fdca26\"],[1.0,\"#f0f921\"]],\"type\":\"heatmap\"}],\"histogram2dcontour\":[{\"colorbar\":{\"outlinewidth\":0,\"ticks\":\"\"},\"colorscale\":[[0.0,\"#0d0887\"],[0.1111111111111111,\"#46039f\"],[0.2222222222222222,\"#7201a8\"],[0.3333333333333333,\"#9c179e\"],[0.4444444444444444,\"#bd3786\"],[0.5555555555555556,\"#d8576b\"],[0.6666666666666666,\"#ed7953\"],[0.7777777777777778,\"#fb9f3a\"],[0.8888888888888888,\"#fdca26\"],[1.0,\"#f0f921\"]],\"type\":\"histogram2dcontour\"}],\"histogram2d\":[{\"colorbar\":{\"outlinewidth\":0,\"ticks\":\"\"},\"colorscale\":[[0.0,\"#0d0887\"],[0.1111111111111111,\"#46039f\"],[0.2222222222222222,\"#7201a8\"],[0.3333333333333333,\"#9c179e\"],[0.4444444444444444,\"#bd3786\"],[0.5555555555555556,\"#d8576b\"],[0.6666666666666666,\"#ed7953\"],[0.7777777777777778,\"#fb9f3a\"],[0.8888888888888888,\"#fdca26\"],[1.0,\"#f0f921\"]],\"type\":\"histogram2d\"}],\"histogram\":[{\"marker\":{\"pattern\":{\"fillmode\":\"overlay\",\"size\":10,\"solidity\":0.2}},\"type\":\"histogram\"}],\"mesh3d\":[{\"colorbar\":{\"outlinewidth\":0,\"ticks\":\"\"},\"type\":\"mesh3d\"}],\"parcoords\":[{\"line\":{\"colorbar\":{\"outlinewidth\":0,\"ticks\":\"\"}},\"type\":\"parcoords\"}],\"pie\":[{\"automargin\":true,\"type\":\"pie\"}],\"scatter3d\":[{\"line\":{\"colorbar\":{\"outlinewidth\":0,\"ticks\":\"\"}},\"marker\":{\"colorbar\":{\"outlinewidth\":0,\"ticks\":\"\"}},\"type\":\"scatter3d\"}],\"scattercarpet\":[{\"marker\":{\"colorbar\":{\"outlinewidth\":0,\"ticks\":\"\"}},\"type\":\"scattercarpet\"}],\"scattergeo\":[{\"marker\":{\"colorbar\":{\"outlinewidth\":0,\"ticks\":\"\"}},\"type\":\"scattergeo\"}],\"scattergl\":[{\"marker\":{\"colorbar\":{\"outlinewidth\":0,\"ticks\":\"\"}},\"type\":\"scattergl\"}],\"scattermapbox\":[{\"marker\":{\"colorbar\":{\"outlinewidth\":0,\"ticks\":\"\"}},\"type\":\"scattermapbox\"}],\"scatterpolargl\":[{\"marker\":{\"colorbar\":{\"outlinewidth\":0,\"ticks\":\"\"}},\"type\":\"scatterpolargl\"}],\"scatterpolar\":[{\"marker\":{\"colorbar\":{\"outlinewidth\":0,\"ticks\":\"\"}},\"type\":\"scatterpolar\"}],\"scatter\":[{\"fillpattern\":{\"fillmode\":\"overlay\",\"size\":10,\"solidity\":0.2},\"type\":\"scatter\"}],\"scatterternary\":[{\"marker\":{\"colorbar\":{\"outlinewidth\":0,\"ticks\":\"\"}},\"type\":\"scatterternary\"}],\"surface\":[{\"colorbar\":{\"outlinewidth\":0,\"ticks\":\"\"},\"colorscale\":[[0.0,\"#0d0887\"],[0.1111111111111111,\"#46039f\"],[0.2222222222222222,\"#7201a8\"],[0.3333333333333333,\"#9c179e\"],[0.4444444444444444,\"#bd3786\"],[0.5555555555555556,\"#d8576b\"],[0.6666666666666666,\"#ed7953\"],[0.7777777777777778,\"#fb9f3a\"],[0.8888888888888888,\"#fdca26\"],[1.0,\"#f0f921\"]],\"type\":\"surface\"}],\"table\":[{\"cells\":{\"fill\":{\"color\":\"#EBF0F8\"},\"line\":{\"color\":\"white\"}},\"header\":{\"fill\":{\"color\":\"#C8D4E3\"},\"line\":{\"color\":\"white\"}},\"type\":\"table\"}]},\"layout\":{\"annotationdefaults\":{\"arrowcolor\":\"#2a3f5f\",\"arrowhead\":0,\"arrowwidth\":1},\"autotypenumbers\":\"strict\",\"coloraxis\":{\"colorbar\":{\"outlinewidth\":0,\"ticks\":\"\"}},\"colorscale\":{\"diverging\":[[0,\"#8e0152\"],[0.1,\"#c51b7d\"],[0.2,\"#de77ae\"],[0.3,\"#f1b6da\"],[0.4,\"#fde0ef\"],[0.5,\"#f7f7f7\"],[0.6,\"#e6f5d0\"],[0.7,\"#b8e186\"],[0.8,\"#7fbc41\"],[0.9,\"#4d9221\"],[1,\"#276419\"]],\"sequential\":[[0.0,\"#0d0887\"],[0.1111111111111111,\"#46039f\"],[0.2222222222222222,\"#7201a8\"],[0.3333333333333333,\"#9c179e\"],[0.4444444444444444,\"#bd3786\"],[0.5555555555555556,\"#d8576b\"],[0.6666666666666666,\"#ed7953\"],[0.7777777777777778,\"#fb9f3a\"],[0.8888888888888888,\"#fdca26\"],[1.0,\"#f0f921\"]],\"sequentialminus\":[[0.0,\"#0d0887\"],[0.1111111111111111,\"#46039f\"],[0.2222222222222222,\"#7201a8\"],[0.3333333333333333,\"#9c179e\"],[0.4444444444444444,\"#bd3786\"],[0.5555555555555556,\"#d8576b\"],[0.6666666666666666,\"#ed7953\"],[0.7777777777777778,\"#fb9f3a\"],[0.8888888888888888,\"#fdca26\"],[1.0,\"#f0f921\"]]},\"colorway\":[\"#636efa\",\"#EF553B\",\"#00cc96\",\"#ab63fa\",\"#FFA15A\",\"#19d3f3\",\"#FF6692\",\"#B6E880\",\"#FF97FF\",\"#FECB52\"],\"font\":{\"color\":\"#2a3f5f\"},\"geo\":{\"bgcolor\":\"white\",\"lakecolor\":\"white\",\"landcolor\":\"white\",\"showlakes\":true,\"showland\":true,\"subunitcolor\":\"#C8D4E3\"},\"hoverlabel\":{\"align\":\"left\"},\"hovermode\":\"closest\",\"mapbox\":{\"style\":\"light\"},\"paper_bgcolor\":\"white\",\"plot_bgcolor\":\"white\",\"polar\":{\"angularaxis\":{\"gridcolor\":\"#EBF0F8\",\"linecolor\":\"#EBF0F8\",\"ticks\":\"\"},\"bgcolor\":\"white\",\"radialaxis\":{\"gridcolor\":\"#EBF0F8\",\"linecolor\":\"#EBF0F8\",\"ticks\":\"\"}},\"scene\":{\"xaxis\":{\"backgroundcolor\":\"white\",\"gridcolor\":\"#DFE8F3\",\"gridwidth\":2,\"linecolor\":\"#EBF0F8\",\"showbackground\":true,\"ticks\":\"\",\"zerolinecolor\":\"#EBF0F8\"},\"yaxis\":{\"backgroundcolor\":\"white\",\"gridcolor\":\"#DFE8F3\",\"gridwidth\":2,\"linecolor\":\"#EBF0F8\",\"showbackground\":true,\"ticks\":\"\",\"zerolinecolor\":\"#EBF0F8\"},\"zaxis\":{\"backgroundcolor\":\"white\",\"gridcolor\":\"#DFE8F3\",\"gridwidth\":2,\"linecolor\":\"#EBF0F8\",\"showbackground\":true,\"ticks\":\"\",\"zerolinecolor\":\"#EBF0F8\"}},\"shapedefaults\":{\"line\":{\"color\":\"#2a3f5f\"}},\"ternary\":{\"aaxis\":{\"gridcolor\":\"#DFE8F3\",\"linecolor\":\"#A2B1C6\",\"ticks\":\"\"},\"baxis\":{\"gridcolor\":\"#DFE8F3\",\"linecolor\":\"#A2B1C6\",\"ticks\":\"\"},\"bgcolor\":\"white\",\"caxis\":{\"gridcolor\":\"#DFE8F3\",\"linecolor\":\"#A2B1C6\",\"ticks\":\"\"}},\"title\":{\"x\":0.05},\"xaxis\":{\"automargin\":true,\"gridcolor\":\"#EBF0F8\",\"linecolor\":\"#EBF0F8\",\"ticks\":\"\",\"title\":{\"standoff\":15},\"zerolinecolor\":\"#EBF0F8\",\"zerolinewidth\":2},\"yaxis\":{\"automargin\":true,\"gridcolor\":\"#EBF0F8\",\"linecolor\":\"#EBF0F8\",\"ticks\":\"\",\"title\":{\"standoff\":15},\"zerolinecolor\":\"#EBF0F8\",\"zerolinewidth\":2}}},\"xaxis\":{\"anchor\":\"y\",\"domain\":[0.0,1.0],\"title\":{\"text\":\"Course Title\"}},\"yaxis\":{\"anchor\":\"x\",\"domain\":[0.0,1.0],\"title\":{\"text\":\"Students Enrolled\"},\"showgrid\":false},\"legend\":{\"tracegroupgap\":0},\"title\":{\"text\":\"Top 10 Courses by Number of Students Enrolled\",\"x\":0.4},\"barmode\":\"relative\",\"shapes\":[{\"line\":{\"color\":\"purple\",\"dash\":\"dash\"},\"name\":\"Mean\",\"type\":\"line\",\"x0\":-0.5,\"x1\":9.5,\"y0\":90552.07631874298,\"y1\":90552.07631874298}],\"annotations\":[{\"arrowcolor\":\"purple\",\"arrowhead\":1,\"font\":{\"color\":\"purple\"},\"showarrow\":true,\"text\":\"Mean: 90,552\",\"x\":9.2,\"y\":90552.07631874298,\"yshift\":2}],\"font\":{\"size\":14},\"width\":800,\"height\":700},                        {\"responsive\": true}                    ).then(function(){\n",
       "                            \n",
       "var gd = document.getElementById('26f9ddfd-2e1b-4232-88f1-215ab8bc2dfa');\n",
       "var x = new MutationObserver(function (mutations, observer) {{\n",
       "        var display = window.getComputedStyle(gd).display;\n",
       "        if (!display || display === 'none') {{\n",
       "            console.log([gd, 'removed!']);\n",
       "            Plotly.purge(gd);\n",
       "            observer.disconnect();\n",
       "        }}\n",
       "}});\n",
       "\n",
       "// Listen for the removal of the full notebook cells\n",
       "var notebookContainer = gd.closest('#notebook-container');\n",
       "if (notebookContainer) {{\n",
       "    x.observe(notebookContainer, {childList: true});\n",
       "}}\n",
       "\n",
       "// Listen for the clearing of the current output cell\n",
       "var outputEl = gd.closest('.output');\n",
       "if (outputEl) {{\n",
       "    x.observe(outputEl, {childList: true});\n",
       "}}\n",
       "\n",
       "                        })                };                });            </script>        </div>"
      ]
     },
     "metadata": {},
     "output_type": "display_data"
    }
   ],
   "source": [
    "#Create a new dataframe which is sorted by the number of students enrolled\n",
    "courses_by_students = coursera_df.sort_values(by=\"course_students_enrolled_float\", ascending=False)\n",
    "\n",
    "#Define most popular courses by student enrollment\n",
    "top_10_courses_by_students = courses_by_students.head(10)\n",
    "\n",
    "#Calculate mean of all students enrolled to a course\n",
    "mean_students_enrolled = courses_by_students[\"course_students_enrolled_float\"].mean()\n",
    "\n",
    "#Plot a bar chart displaying top 10 courses by student enrollment\n",
    "fig_2 = px.bar(top_10_courses_by_students, x=\"course_title\", y=\"course_students_enrolled_float\",\n",
    "             title=\"Top 10 Courses by Number of Students Enrolled\",\n",
    "             labels={\"course_students_enrolled_float\":\"Students Enrolled\",\\\n",
    "                      \"course_title\" : \"Course Title\"},\n",
    "             text=\"course_students_enrolled_float\",\n",
    "             template=\"plotly_white\",\n",
    "             hover_name=\"course_title\")\n",
    "\n",
    "#Put total students enrolled to a course above the bar\n",
    "fig_2.update_traces(texttemplate=\"%{text:.2s}\",\n",
    "                  textposition=\"outside\",\n",
    "                  marker_color=\"rgb(136,204,238)\")\n",
    "\n",
    "fig_2.add_shape(type=\"line\",\n",
    "              x0=-0.5,\n",
    "              y0=mean_students_enrolled,\n",
    "              x1=9.5,\n",
    "              y1=mean_students_enrolled,\n",
    "              line=dict(color=\"purple\", dash=\"dash\"), name=\"Mean\")\n",
    "\n",
    "fig_2.add_annotation(x=9.2,\n",
    "                   y=mean_students_enrolled,\n",
    "                   text=f\"Mean: {mean_students_enrolled:,.0f}\",\n",
    "                   showarrow=True,\n",
    "                   yshift=2,\n",
    "                   arrowhead=1,\n",
    "                   arrowcolor=\"purple\",\n",
    "                   font=dict(color=\"purple\"))\n",
    "\n",
    "fig_2.update_layout(font=dict(size=14),\n",
    "                  title=dict(x=0.4),\n",
    "                  width=800,\n",
    "                  height=700,\n",
    "                  yaxis=dict(showgrid=False))\n",
    "\n",
    "fig_2.show()"
   ]
  },
  {
   "cell_type": "markdown",
   "metadata": {},
   "source": [
    "> 4.4. Which courses are the most popular (by course rating)?"
   ]
  },
  {
   "cell_type": "code",
   "execution_count": 18,
   "metadata": {},
   "outputs": [
    {
     "data": {
      "application/vnd.plotly.v1+json": {
       "config": {
        "plotlyServerURL": "https://plot.ly"
       },
       "data": [
        {
         "alignmentgroup": "True",
         "hovertemplate": "<b>%{hovertext}</b><br><br>Course Title=%{x}<br>Course Rating=%{text}<extra></extra>",
         "hovertext": [
          "El Abogado del Futuro: Legaltech y la Transformación Digital del Derecho",
          "Infectious Disease Modelling",
          "Understanding the Brain: The Neurobiology of Everyday Life",
          "Understanding Einstein: The Special Theory of Relativity",
          "Основы разработки на C++: белый пояс",
          "Excel Skills for Business: Intermediate I",
          "Excel Skills for Business: Essentials",
          "Excel Skills for Business",
          "Everyday Parenting: The ABCs of Child Rearing",
          "Getting Started with SAS Programming"
         ],
         "legendgroup": "",
         "marker": {
          "color": "rgb(136,204,238)",
          "pattern": {
           "shape": ""
          }
         },
         "name": "",
         "offsetgroup": "",
         "orientation": "v",
         "showlegend": false,
         "text": [
          5,
          5,
          4.9,
          4.9,
          4.9,
          4.9,
          4.9,
          4.9,
          4.9,
          4.9
         ],
         "textposition": "outside",
         "texttemplate": "%{text:.2s}",
         "type": "bar",
         "x": [
          "El Abogado del Futuro: Legaltech y la Transformación Digital del Derecho",
          "Infectious Disease Modelling",
          "Understanding the Brain: The Neurobiology of Everyday Life",
          "Understanding Einstein: The Special Theory of Relativity",
          "Основы разработки на C++: белый пояс",
          "Excel Skills for Business: Intermediate I",
          "Excel Skills for Business: Essentials",
          "Excel Skills for Business",
          "Everyday Parenting: The ABCs of Child Rearing",
          "Getting Started with SAS Programming"
         ],
         "xaxis": "x",
         "y": [
          5,
          5,
          4.9,
          4.9,
          4.9,
          4.9,
          4.9,
          4.9,
          4.9,
          4.9
         ],
         "yaxis": "y"
        }
       ],
       "layout": {
        "annotations": [
         {
          "font": {
           "color": "purple"
          },
          "showarrow": false,
          "text": "Mean: 4.68",
          "x": 8.5,
          "y": 4.5
         }
        ],
        "barmode": "relative",
        "font": {
         "size": 14
        },
        "height": 800,
        "legend": {
         "tracegroupgap": 0
        },
        "shapes": [
         {
          "line": {
           "color": "purple",
           "dash": "dash"
          },
          "name": "Mean",
          "type": "line",
          "x0": -0.5,
          "x1": 9.5,
          "y0": 4.677328843995511,
          "y1": 4.677328843995511
         }
        ],
        "template": {
         "data": {
          "bar": [
           {
            "error_x": {
             "color": "#2a3f5f"
            },
            "error_y": {
             "color": "#2a3f5f"
            },
            "marker": {
             "line": {
              "color": "white",
              "width": 0.5
             },
             "pattern": {
              "fillmode": "overlay",
              "size": 10,
              "solidity": 0.2
             }
            },
            "type": "bar"
           }
          ],
          "barpolar": [
           {
            "marker": {
             "line": {
              "color": "white",
              "width": 0.5
             },
             "pattern": {
              "fillmode": "overlay",
              "size": 10,
              "solidity": 0.2
             }
            },
            "type": "barpolar"
           }
          ],
          "carpet": [
           {
            "aaxis": {
             "endlinecolor": "#2a3f5f",
             "gridcolor": "#C8D4E3",
             "linecolor": "#C8D4E3",
             "minorgridcolor": "#C8D4E3",
             "startlinecolor": "#2a3f5f"
            },
            "baxis": {
             "endlinecolor": "#2a3f5f",
             "gridcolor": "#C8D4E3",
             "linecolor": "#C8D4E3",
             "minorgridcolor": "#C8D4E3",
             "startlinecolor": "#2a3f5f"
            },
            "type": "carpet"
           }
          ],
          "choropleth": [
           {
            "colorbar": {
             "outlinewidth": 0,
             "ticks": ""
            },
            "type": "choropleth"
           }
          ],
          "contour": [
           {
            "colorbar": {
             "outlinewidth": 0,
             "ticks": ""
            },
            "colorscale": [
             [
              0,
              "#0d0887"
             ],
             [
              0.1111111111111111,
              "#46039f"
             ],
             [
              0.2222222222222222,
              "#7201a8"
             ],
             [
              0.3333333333333333,
              "#9c179e"
             ],
             [
              0.4444444444444444,
              "#bd3786"
             ],
             [
              0.5555555555555556,
              "#d8576b"
             ],
             [
              0.6666666666666666,
              "#ed7953"
             ],
             [
              0.7777777777777778,
              "#fb9f3a"
             ],
             [
              0.8888888888888888,
              "#fdca26"
             ],
             [
              1,
              "#f0f921"
             ]
            ],
            "type": "contour"
           }
          ],
          "contourcarpet": [
           {
            "colorbar": {
             "outlinewidth": 0,
             "ticks": ""
            },
            "type": "contourcarpet"
           }
          ],
          "heatmap": [
           {
            "colorbar": {
             "outlinewidth": 0,
             "ticks": ""
            },
            "colorscale": [
             [
              0,
              "#0d0887"
             ],
             [
              0.1111111111111111,
              "#46039f"
             ],
             [
              0.2222222222222222,
              "#7201a8"
             ],
             [
              0.3333333333333333,
              "#9c179e"
             ],
             [
              0.4444444444444444,
              "#bd3786"
             ],
             [
              0.5555555555555556,
              "#d8576b"
             ],
             [
              0.6666666666666666,
              "#ed7953"
             ],
             [
              0.7777777777777778,
              "#fb9f3a"
             ],
             [
              0.8888888888888888,
              "#fdca26"
             ],
             [
              1,
              "#f0f921"
             ]
            ],
            "type": "heatmap"
           }
          ],
          "heatmapgl": [
           {
            "colorbar": {
             "outlinewidth": 0,
             "ticks": ""
            },
            "colorscale": [
             [
              0,
              "#0d0887"
             ],
             [
              0.1111111111111111,
              "#46039f"
             ],
             [
              0.2222222222222222,
              "#7201a8"
             ],
             [
              0.3333333333333333,
              "#9c179e"
             ],
             [
              0.4444444444444444,
              "#bd3786"
             ],
             [
              0.5555555555555556,
              "#d8576b"
             ],
             [
              0.6666666666666666,
              "#ed7953"
             ],
             [
              0.7777777777777778,
              "#fb9f3a"
             ],
             [
              0.8888888888888888,
              "#fdca26"
             ],
             [
              1,
              "#f0f921"
             ]
            ],
            "type": "heatmapgl"
           }
          ],
          "histogram": [
           {
            "marker": {
             "pattern": {
              "fillmode": "overlay",
              "size": 10,
              "solidity": 0.2
             }
            },
            "type": "histogram"
           }
          ],
          "histogram2d": [
           {
            "colorbar": {
             "outlinewidth": 0,
             "ticks": ""
            },
            "colorscale": [
             [
              0,
              "#0d0887"
             ],
             [
              0.1111111111111111,
              "#46039f"
             ],
             [
              0.2222222222222222,
              "#7201a8"
             ],
             [
              0.3333333333333333,
              "#9c179e"
             ],
             [
              0.4444444444444444,
              "#bd3786"
             ],
             [
              0.5555555555555556,
              "#d8576b"
             ],
             [
              0.6666666666666666,
              "#ed7953"
             ],
             [
              0.7777777777777778,
              "#fb9f3a"
             ],
             [
              0.8888888888888888,
              "#fdca26"
             ],
             [
              1,
              "#f0f921"
             ]
            ],
            "type": "histogram2d"
           }
          ],
          "histogram2dcontour": [
           {
            "colorbar": {
             "outlinewidth": 0,
             "ticks": ""
            },
            "colorscale": [
             [
              0,
              "#0d0887"
             ],
             [
              0.1111111111111111,
              "#46039f"
             ],
             [
              0.2222222222222222,
              "#7201a8"
             ],
             [
              0.3333333333333333,
              "#9c179e"
             ],
             [
              0.4444444444444444,
              "#bd3786"
             ],
             [
              0.5555555555555556,
              "#d8576b"
             ],
             [
              0.6666666666666666,
              "#ed7953"
             ],
             [
              0.7777777777777778,
              "#fb9f3a"
             ],
             [
              0.8888888888888888,
              "#fdca26"
             ],
             [
              1,
              "#f0f921"
             ]
            ],
            "type": "histogram2dcontour"
           }
          ],
          "mesh3d": [
           {
            "colorbar": {
             "outlinewidth": 0,
             "ticks": ""
            },
            "type": "mesh3d"
           }
          ],
          "parcoords": [
           {
            "line": {
             "colorbar": {
              "outlinewidth": 0,
              "ticks": ""
             }
            },
            "type": "parcoords"
           }
          ],
          "pie": [
           {
            "automargin": true,
            "type": "pie"
           }
          ],
          "scatter": [
           {
            "fillpattern": {
             "fillmode": "overlay",
             "size": 10,
             "solidity": 0.2
            },
            "type": "scatter"
           }
          ],
          "scatter3d": [
           {
            "line": {
             "colorbar": {
              "outlinewidth": 0,
              "ticks": ""
             }
            },
            "marker": {
             "colorbar": {
              "outlinewidth": 0,
              "ticks": ""
             }
            },
            "type": "scatter3d"
           }
          ],
          "scattercarpet": [
           {
            "marker": {
             "colorbar": {
              "outlinewidth": 0,
              "ticks": ""
             }
            },
            "type": "scattercarpet"
           }
          ],
          "scattergeo": [
           {
            "marker": {
             "colorbar": {
              "outlinewidth": 0,
              "ticks": ""
             }
            },
            "type": "scattergeo"
           }
          ],
          "scattergl": [
           {
            "marker": {
             "colorbar": {
              "outlinewidth": 0,
              "ticks": ""
             }
            },
            "type": "scattergl"
           }
          ],
          "scattermapbox": [
           {
            "marker": {
             "colorbar": {
              "outlinewidth": 0,
              "ticks": ""
             }
            },
            "type": "scattermapbox"
           }
          ],
          "scatterpolar": [
           {
            "marker": {
             "colorbar": {
              "outlinewidth": 0,
              "ticks": ""
             }
            },
            "type": "scatterpolar"
           }
          ],
          "scatterpolargl": [
           {
            "marker": {
             "colorbar": {
              "outlinewidth": 0,
              "ticks": ""
             }
            },
            "type": "scatterpolargl"
           }
          ],
          "scatterternary": [
           {
            "marker": {
             "colorbar": {
              "outlinewidth": 0,
              "ticks": ""
             }
            },
            "type": "scatterternary"
           }
          ],
          "surface": [
           {
            "colorbar": {
             "outlinewidth": 0,
             "ticks": ""
            },
            "colorscale": [
             [
              0,
              "#0d0887"
             ],
             [
              0.1111111111111111,
              "#46039f"
             ],
             [
              0.2222222222222222,
              "#7201a8"
             ],
             [
              0.3333333333333333,
              "#9c179e"
             ],
             [
              0.4444444444444444,
              "#bd3786"
             ],
             [
              0.5555555555555556,
              "#d8576b"
             ],
             [
              0.6666666666666666,
              "#ed7953"
             ],
             [
              0.7777777777777778,
              "#fb9f3a"
             ],
             [
              0.8888888888888888,
              "#fdca26"
             ],
             [
              1,
              "#f0f921"
             ]
            ],
            "type": "surface"
           }
          ],
          "table": [
           {
            "cells": {
             "fill": {
              "color": "#EBF0F8"
             },
             "line": {
              "color": "white"
             }
            },
            "header": {
             "fill": {
              "color": "#C8D4E3"
             },
             "line": {
              "color": "white"
             }
            },
            "type": "table"
           }
          ]
         },
         "layout": {
          "annotationdefaults": {
           "arrowcolor": "#2a3f5f",
           "arrowhead": 0,
           "arrowwidth": 1
          },
          "autotypenumbers": "strict",
          "coloraxis": {
           "colorbar": {
            "outlinewidth": 0,
            "ticks": ""
           }
          },
          "colorscale": {
           "diverging": [
            [
             0,
             "#8e0152"
            ],
            [
             0.1,
             "#c51b7d"
            ],
            [
             0.2,
             "#de77ae"
            ],
            [
             0.3,
             "#f1b6da"
            ],
            [
             0.4,
             "#fde0ef"
            ],
            [
             0.5,
             "#f7f7f7"
            ],
            [
             0.6,
             "#e6f5d0"
            ],
            [
             0.7,
             "#b8e186"
            ],
            [
             0.8,
             "#7fbc41"
            ],
            [
             0.9,
             "#4d9221"
            ],
            [
             1,
             "#276419"
            ]
           ],
           "sequential": [
            [
             0,
             "#0d0887"
            ],
            [
             0.1111111111111111,
             "#46039f"
            ],
            [
             0.2222222222222222,
             "#7201a8"
            ],
            [
             0.3333333333333333,
             "#9c179e"
            ],
            [
             0.4444444444444444,
             "#bd3786"
            ],
            [
             0.5555555555555556,
             "#d8576b"
            ],
            [
             0.6666666666666666,
             "#ed7953"
            ],
            [
             0.7777777777777778,
             "#fb9f3a"
            ],
            [
             0.8888888888888888,
             "#fdca26"
            ],
            [
             1,
             "#f0f921"
            ]
           ],
           "sequentialminus": [
            [
             0,
             "#0d0887"
            ],
            [
             0.1111111111111111,
             "#46039f"
            ],
            [
             0.2222222222222222,
             "#7201a8"
            ],
            [
             0.3333333333333333,
             "#9c179e"
            ],
            [
             0.4444444444444444,
             "#bd3786"
            ],
            [
             0.5555555555555556,
             "#d8576b"
            ],
            [
             0.6666666666666666,
             "#ed7953"
            ],
            [
             0.7777777777777778,
             "#fb9f3a"
            ],
            [
             0.8888888888888888,
             "#fdca26"
            ],
            [
             1,
             "#f0f921"
            ]
           ]
          },
          "colorway": [
           "#636efa",
           "#EF553B",
           "#00cc96",
           "#ab63fa",
           "#FFA15A",
           "#19d3f3",
           "#FF6692",
           "#B6E880",
           "#FF97FF",
           "#FECB52"
          ],
          "font": {
           "color": "#2a3f5f"
          },
          "geo": {
           "bgcolor": "white",
           "lakecolor": "white",
           "landcolor": "white",
           "showlakes": true,
           "showland": true,
           "subunitcolor": "#C8D4E3"
          },
          "hoverlabel": {
           "align": "left"
          },
          "hovermode": "closest",
          "mapbox": {
           "style": "light"
          },
          "paper_bgcolor": "white",
          "plot_bgcolor": "white",
          "polar": {
           "angularaxis": {
            "gridcolor": "#EBF0F8",
            "linecolor": "#EBF0F8",
            "ticks": ""
           },
           "bgcolor": "white",
           "radialaxis": {
            "gridcolor": "#EBF0F8",
            "linecolor": "#EBF0F8",
            "ticks": ""
           }
          },
          "scene": {
           "xaxis": {
            "backgroundcolor": "white",
            "gridcolor": "#DFE8F3",
            "gridwidth": 2,
            "linecolor": "#EBF0F8",
            "showbackground": true,
            "ticks": "",
            "zerolinecolor": "#EBF0F8"
           },
           "yaxis": {
            "backgroundcolor": "white",
            "gridcolor": "#DFE8F3",
            "gridwidth": 2,
            "linecolor": "#EBF0F8",
            "showbackground": true,
            "ticks": "",
            "zerolinecolor": "#EBF0F8"
           },
           "zaxis": {
            "backgroundcolor": "white",
            "gridcolor": "#DFE8F3",
            "gridwidth": 2,
            "linecolor": "#EBF0F8",
            "showbackground": true,
            "ticks": "",
            "zerolinecolor": "#EBF0F8"
           }
          },
          "shapedefaults": {
           "line": {
            "color": "#2a3f5f"
           }
          },
          "ternary": {
           "aaxis": {
            "gridcolor": "#DFE8F3",
            "linecolor": "#A2B1C6",
            "ticks": ""
           },
           "baxis": {
            "gridcolor": "#DFE8F3",
            "linecolor": "#A2B1C6",
            "ticks": ""
           },
           "bgcolor": "white",
           "caxis": {
            "gridcolor": "#DFE8F3",
            "linecolor": "#A2B1C6",
            "ticks": ""
           }
          },
          "title": {
           "x": 0.05
          },
          "xaxis": {
           "automargin": true,
           "gridcolor": "#EBF0F8",
           "linecolor": "#EBF0F8",
           "ticks": "",
           "title": {
            "standoff": 15
           },
           "zerolinecolor": "#EBF0F8",
           "zerolinewidth": 2
          },
          "yaxis": {
           "automargin": true,
           "gridcolor": "#EBF0F8",
           "linecolor": "#EBF0F8",
           "ticks": "",
           "title": {
            "standoff": 15
           },
           "zerolinecolor": "#EBF0F8",
           "zerolinewidth": 2
          }
         }
        },
        "title": {
         "text": "Top 10 Courses by Course Rating",
         "x": 0.4
        },
        "width": 800,
        "xaxis": {
         "anchor": "y",
         "domain": [
          0,
          1
         ],
         "title": {
          "text": "Course Title"
         }
        },
        "yaxis": {
         "anchor": "x",
         "domain": [
          0,
          1
         ],
         "showgrid": false,
         "title": {
          "text": "Course Rating"
         }
        }
       }
      },
      "text/html": [
       "<div>                            <div id=\"ad39185f-566f-4425-803a-21a1f7b60651\" class=\"plotly-graph-div\" style=\"height:800px; width:800px;\"></div>            <script type=\"text/javascript\">                require([\"plotly\"], function(Plotly) {                    window.PLOTLYENV=window.PLOTLYENV || {};                                    if (document.getElementById(\"ad39185f-566f-4425-803a-21a1f7b60651\")) {                    Plotly.newPlot(                        \"ad39185f-566f-4425-803a-21a1f7b60651\",                        [{\"alignmentgroup\":\"True\",\"hovertemplate\":\"\\u003cb\\u003e%{hovertext}\\u003c\\u002fb\\u003e\\u003cbr\\u003e\\u003cbr\\u003eCourse Title=%{x}\\u003cbr\\u003eCourse Rating=%{text}\\u003cextra\\u003e\\u003c\\u002fextra\\u003e\",\"hovertext\":[\"El Abogado del Futuro: Legaltech y la Transformaci\\u00f3n Digital del Derecho\",\"Infectious Disease Modelling\",\"Understanding the Brain: The Neurobiology of Everyday Life\",\"Understanding Einstein: The Special Theory of Relativity\",\"\\u041e\\u0441\\u043d\\u043e\\u0432\\u044b \\u0440\\u0430\\u0437\\u0440\\u0430\\u0431\\u043e\\u0442\\u043a\\u0438 \\u043d\\u0430 C++: \\u0431\\u0435\\u043b\\u044b\\u0439 \\u043f\\u043e\\u044f\\u0441\",\"Excel Skills for Business: Intermediate I\",\"Excel Skills for Business: Essentials\",\"Excel Skills for Business\",\"Everyday Parenting: The ABCs of Child Rearing\",\"Getting Started with SAS Programming\"],\"legendgroup\":\"\",\"marker\":{\"color\":\"rgb(136,204,238)\",\"pattern\":{\"shape\":\"\"}},\"name\":\"\",\"offsetgroup\":\"\",\"orientation\":\"v\",\"showlegend\":false,\"text\":[5.0,5.0,4.9,4.9,4.9,4.9,4.9,4.9,4.9,4.9],\"textposition\":\"outside\",\"x\":[\"El Abogado del Futuro: Legaltech y la Transformaci\\u00f3n Digital del Derecho\",\"Infectious Disease Modelling\",\"Understanding the Brain: The Neurobiology of Everyday Life\",\"Understanding Einstein: The Special Theory of Relativity\",\"\\u041e\\u0441\\u043d\\u043e\\u0432\\u044b \\u0440\\u0430\\u0437\\u0440\\u0430\\u0431\\u043e\\u0442\\u043a\\u0438 \\u043d\\u0430 C++: \\u0431\\u0435\\u043b\\u044b\\u0439 \\u043f\\u043e\\u044f\\u0441\",\"Excel Skills for Business: Intermediate I\",\"Excel Skills for Business: Essentials\",\"Excel Skills for Business\",\"Everyday Parenting: The ABCs of Child Rearing\",\"Getting Started with SAS Programming\"],\"xaxis\":\"x\",\"y\":[5.0,5.0,4.9,4.9,4.9,4.9,4.9,4.9,4.9,4.9],\"yaxis\":\"y\",\"type\":\"bar\",\"texttemplate\":\"%{text:.2s}\"}],                        {\"template\":{\"data\":{\"barpolar\":[{\"marker\":{\"line\":{\"color\":\"white\",\"width\":0.5},\"pattern\":{\"fillmode\":\"overlay\",\"size\":10,\"solidity\":0.2}},\"type\":\"barpolar\"}],\"bar\":[{\"error_x\":{\"color\":\"#2a3f5f\"},\"error_y\":{\"color\":\"#2a3f5f\"},\"marker\":{\"line\":{\"color\":\"white\",\"width\":0.5},\"pattern\":{\"fillmode\":\"overlay\",\"size\":10,\"solidity\":0.2}},\"type\":\"bar\"}],\"carpet\":[{\"aaxis\":{\"endlinecolor\":\"#2a3f5f\",\"gridcolor\":\"#C8D4E3\",\"linecolor\":\"#C8D4E3\",\"minorgridcolor\":\"#C8D4E3\",\"startlinecolor\":\"#2a3f5f\"},\"baxis\":{\"endlinecolor\":\"#2a3f5f\",\"gridcolor\":\"#C8D4E3\",\"linecolor\":\"#C8D4E3\",\"minorgridcolor\":\"#C8D4E3\",\"startlinecolor\":\"#2a3f5f\"},\"type\":\"carpet\"}],\"choropleth\":[{\"colorbar\":{\"outlinewidth\":0,\"ticks\":\"\"},\"type\":\"choropleth\"}],\"contourcarpet\":[{\"colorbar\":{\"outlinewidth\":0,\"ticks\":\"\"},\"type\":\"contourcarpet\"}],\"contour\":[{\"colorbar\":{\"outlinewidth\":0,\"ticks\":\"\"},\"colorscale\":[[0.0,\"#0d0887\"],[0.1111111111111111,\"#46039f\"],[0.2222222222222222,\"#7201a8\"],[0.3333333333333333,\"#9c179e\"],[0.4444444444444444,\"#bd3786\"],[0.5555555555555556,\"#d8576b\"],[0.6666666666666666,\"#ed7953\"],[0.7777777777777778,\"#fb9f3a\"],[0.8888888888888888,\"#fdca26\"],[1.0,\"#f0f921\"]],\"type\":\"contour\"}],\"heatmapgl\":[{\"colorbar\":{\"outlinewidth\":0,\"ticks\":\"\"},\"colorscale\":[[0.0,\"#0d0887\"],[0.1111111111111111,\"#46039f\"],[0.2222222222222222,\"#7201a8\"],[0.3333333333333333,\"#9c179e\"],[0.4444444444444444,\"#bd3786\"],[0.5555555555555556,\"#d8576b\"],[0.6666666666666666,\"#ed7953\"],[0.7777777777777778,\"#fb9f3a\"],[0.8888888888888888,\"#fdca26\"],[1.0,\"#f0f921\"]],\"type\":\"heatmapgl\"}],\"heatmap\":[{\"colorbar\":{\"outlinewidth\":0,\"ticks\":\"\"},\"colorscale\":[[0.0,\"#0d0887\"],[0.1111111111111111,\"#46039f\"],[0.2222222222222222,\"#7201a8\"],[0.3333333333333333,\"#9c179e\"],[0.4444444444444444,\"#bd3786\"],[0.5555555555555556,\"#d8576b\"],[0.6666666666666666,\"#ed7953\"],[0.7777777777777778,\"#fb9f3a\"],[0.8888888888888888,\"#fdca26\"],[1.0,\"#f0f921\"]],\"type\":\"heatmap\"}],\"histogram2dcontour\":[{\"colorbar\":{\"outlinewidth\":0,\"ticks\":\"\"},\"colorscale\":[[0.0,\"#0d0887\"],[0.1111111111111111,\"#46039f\"],[0.2222222222222222,\"#7201a8\"],[0.3333333333333333,\"#9c179e\"],[0.4444444444444444,\"#bd3786\"],[0.5555555555555556,\"#d8576b\"],[0.6666666666666666,\"#ed7953\"],[0.7777777777777778,\"#fb9f3a\"],[0.8888888888888888,\"#fdca26\"],[1.0,\"#f0f921\"]],\"type\":\"histogram2dcontour\"}],\"histogram2d\":[{\"colorbar\":{\"outlinewidth\":0,\"ticks\":\"\"},\"colorscale\":[[0.0,\"#0d0887\"],[0.1111111111111111,\"#46039f\"],[0.2222222222222222,\"#7201a8\"],[0.3333333333333333,\"#9c179e\"],[0.4444444444444444,\"#bd3786\"],[0.5555555555555556,\"#d8576b\"],[0.6666666666666666,\"#ed7953\"],[0.7777777777777778,\"#fb9f3a\"],[0.8888888888888888,\"#fdca26\"],[1.0,\"#f0f921\"]],\"type\":\"histogram2d\"}],\"histogram\":[{\"marker\":{\"pattern\":{\"fillmode\":\"overlay\",\"size\":10,\"solidity\":0.2}},\"type\":\"histogram\"}],\"mesh3d\":[{\"colorbar\":{\"outlinewidth\":0,\"ticks\":\"\"},\"type\":\"mesh3d\"}],\"parcoords\":[{\"line\":{\"colorbar\":{\"outlinewidth\":0,\"ticks\":\"\"}},\"type\":\"parcoords\"}],\"pie\":[{\"automargin\":true,\"type\":\"pie\"}],\"scatter3d\":[{\"line\":{\"colorbar\":{\"outlinewidth\":0,\"ticks\":\"\"}},\"marker\":{\"colorbar\":{\"outlinewidth\":0,\"ticks\":\"\"}},\"type\":\"scatter3d\"}],\"scattercarpet\":[{\"marker\":{\"colorbar\":{\"outlinewidth\":0,\"ticks\":\"\"}},\"type\":\"scattercarpet\"}],\"scattergeo\":[{\"marker\":{\"colorbar\":{\"outlinewidth\":0,\"ticks\":\"\"}},\"type\":\"scattergeo\"}],\"scattergl\":[{\"marker\":{\"colorbar\":{\"outlinewidth\":0,\"ticks\":\"\"}},\"type\":\"scattergl\"}],\"scattermapbox\":[{\"marker\":{\"colorbar\":{\"outlinewidth\":0,\"ticks\":\"\"}},\"type\":\"scattermapbox\"}],\"scatterpolargl\":[{\"marker\":{\"colorbar\":{\"outlinewidth\":0,\"ticks\":\"\"}},\"type\":\"scatterpolargl\"}],\"scatterpolar\":[{\"marker\":{\"colorbar\":{\"outlinewidth\":0,\"ticks\":\"\"}},\"type\":\"scatterpolar\"}],\"scatter\":[{\"fillpattern\":{\"fillmode\":\"overlay\",\"size\":10,\"solidity\":0.2},\"type\":\"scatter\"}],\"scatterternary\":[{\"marker\":{\"colorbar\":{\"outlinewidth\":0,\"ticks\":\"\"}},\"type\":\"scatterternary\"}],\"surface\":[{\"colorbar\":{\"outlinewidth\":0,\"ticks\":\"\"},\"colorscale\":[[0.0,\"#0d0887\"],[0.1111111111111111,\"#46039f\"],[0.2222222222222222,\"#7201a8\"],[0.3333333333333333,\"#9c179e\"],[0.4444444444444444,\"#bd3786\"],[0.5555555555555556,\"#d8576b\"],[0.6666666666666666,\"#ed7953\"],[0.7777777777777778,\"#fb9f3a\"],[0.8888888888888888,\"#fdca26\"],[1.0,\"#f0f921\"]],\"type\":\"surface\"}],\"table\":[{\"cells\":{\"fill\":{\"color\":\"#EBF0F8\"},\"line\":{\"color\":\"white\"}},\"header\":{\"fill\":{\"color\":\"#C8D4E3\"},\"line\":{\"color\":\"white\"}},\"type\":\"table\"}]},\"layout\":{\"annotationdefaults\":{\"arrowcolor\":\"#2a3f5f\",\"arrowhead\":0,\"arrowwidth\":1},\"autotypenumbers\":\"strict\",\"coloraxis\":{\"colorbar\":{\"outlinewidth\":0,\"ticks\":\"\"}},\"colorscale\":{\"diverging\":[[0,\"#8e0152\"],[0.1,\"#c51b7d\"],[0.2,\"#de77ae\"],[0.3,\"#f1b6da\"],[0.4,\"#fde0ef\"],[0.5,\"#f7f7f7\"],[0.6,\"#e6f5d0\"],[0.7,\"#b8e186\"],[0.8,\"#7fbc41\"],[0.9,\"#4d9221\"],[1,\"#276419\"]],\"sequential\":[[0.0,\"#0d0887\"],[0.1111111111111111,\"#46039f\"],[0.2222222222222222,\"#7201a8\"],[0.3333333333333333,\"#9c179e\"],[0.4444444444444444,\"#bd3786\"],[0.5555555555555556,\"#d8576b\"],[0.6666666666666666,\"#ed7953\"],[0.7777777777777778,\"#fb9f3a\"],[0.8888888888888888,\"#fdca26\"],[1.0,\"#f0f921\"]],\"sequentialminus\":[[0.0,\"#0d0887\"],[0.1111111111111111,\"#46039f\"],[0.2222222222222222,\"#7201a8\"],[0.3333333333333333,\"#9c179e\"],[0.4444444444444444,\"#bd3786\"],[0.5555555555555556,\"#d8576b\"],[0.6666666666666666,\"#ed7953\"],[0.7777777777777778,\"#fb9f3a\"],[0.8888888888888888,\"#fdca26\"],[1.0,\"#f0f921\"]]},\"colorway\":[\"#636efa\",\"#EF553B\",\"#00cc96\",\"#ab63fa\",\"#FFA15A\",\"#19d3f3\",\"#FF6692\",\"#B6E880\",\"#FF97FF\",\"#FECB52\"],\"font\":{\"color\":\"#2a3f5f\"},\"geo\":{\"bgcolor\":\"white\",\"lakecolor\":\"white\",\"landcolor\":\"white\",\"showlakes\":true,\"showland\":true,\"subunitcolor\":\"#C8D4E3\"},\"hoverlabel\":{\"align\":\"left\"},\"hovermode\":\"closest\",\"mapbox\":{\"style\":\"light\"},\"paper_bgcolor\":\"white\",\"plot_bgcolor\":\"white\",\"polar\":{\"angularaxis\":{\"gridcolor\":\"#EBF0F8\",\"linecolor\":\"#EBF0F8\",\"ticks\":\"\"},\"bgcolor\":\"white\",\"radialaxis\":{\"gridcolor\":\"#EBF0F8\",\"linecolor\":\"#EBF0F8\",\"ticks\":\"\"}},\"scene\":{\"xaxis\":{\"backgroundcolor\":\"white\",\"gridcolor\":\"#DFE8F3\",\"gridwidth\":2,\"linecolor\":\"#EBF0F8\",\"showbackground\":true,\"ticks\":\"\",\"zerolinecolor\":\"#EBF0F8\"},\"yaxis\":{\"backgroundcolor\":\"white\",\"gridcolor\":\"#DFE8F3\",\"gridwidth\":2,\"linecolor\":\"#EBF0F8\",\"showbackground\":true,\"ticks\":\"\",\"zerolinecolor\":\"#EBF0F8\"},\"zaxis\":{\"backgroundcolor\":\"white\",\"gridcolor\":\"#DFE8F3\",\"gridwidth\":2,\"linecolor\":\"#EBF0F8\",\"showbackground\":true,\"ticks\":\"\",\"zerolinecolor\":\"#EBF0F8\"}},\"shapedefaults\":{\"line\":{\"color\":\"#2a3f5f\"}},\"ternary\":{\"aaxis\":{\"gridcolor\":\"#DFE8F3\",\"linecolor\":\"#A2B1C6\",\"ticks\":\"\"},\"baxis\":{\"gridcolor\":\"#DFE8F3\",\"linecolor\":\"#A2B1C6\",\"ticks\":\"\"},\"bgcolor\":\"white\",\"caxis\":{\"gridcolor\":\"#DFE8F3\",\"linecolor\":\"#A2B1C6\",\"ticks\":\"\"}},\"title\":{\"x\":0.05},\"xaxis\":{\"automargin\":true,\"gridcolor\":\"#EBF0F8\",\"linecolor\":\"#EBF0F8\",\"ticks\":\"\",\"title\":{\"standoff\":15},\"zerolinecolor\":\"#EBF0F8\",\"zerolinewidth\":2},\"yaxis\":{\"automargin\":true,\"gridcolor\":\"#EBF0F8\",\"linecolor\":\"#EBF0F8\",\"ticks\":\"\",\"title\":{\"standoff\":15},\"zerolinecolor\":\"#EBF0F8\",\"zerolinewidth\":2}}},\"xaxis\":{\"anchor\":\"y\",\"domain\":[0.0,1.0],\"title\":{\"text\":\"Course Title\"}},\"yaxis\":{\"anchor\":\"x\",\"domain\":[0.0,1.0],\"title\":{\"text\":\"Course Rating\"},\"showgrid\":false},\"legend\":{\"tracegroupgap\":0},\"title\":{\"text\":\"Top 10 Courses by Course Rating\",\"x\":0.4},\"barmode\":\"relative\",\"shapes\":[{\"line\":{\"color\":\"purple\",\"dash\":\"dash\"},\"name\":\"Mean\",\"type\":\"line\",\"x0\":-0.5,\"x1\":9.5,\"y0\":4.677328843995511,\"y1\":4.677328843995511}],\"annotations\":[{\"font\":{\"color\":\"purple\"},\"showarrow\":false,\"text\":\"Mean: 4.68\",\"x\":8.5,\"y\":4.5}],\"font\":{\"size\":14},\"width\":800,\"height\":800},                        {\"responsive\": true}                    ).then(function(){\n",
       "                            \n",
       "var gd = document.getElementById('ad39185f-566f-4425-803a-21a1f7b60651');\n",
       "var x = new MutationObserver(function (mutations, observer) {{\n",
       "        var display = window.getComputedStyle(gd).display;\n",
       "        if (!display || display === 'none') {{\n",
       "            console.log([gd, 'removed!']);\n",
       "            Plotly.purge(gd);\n",
       "            observer.disconnect();\n",
       "        }}\n",
       "}});\n",
       "\n",
       "// Listen for the removal of the full notebook cells\n",
       "var notebookContainer = gd.closest('#notebook-container');\n",
       "if (notebookContainer) {{\n",
       "    x.observe(notebookContainer, {childList: true});\n",
       "}}\n",
       "\n",
       "// Listen for the clearing of the current output cell\n",
       "var outputEl = gd.closest('.output');\n",
       "if (outputEl) {{\n",
       "    x.observe(outputEl, {childList: true});\n",
       "}}\n",
       "\n",
       "                        })                };                });            </script>        </div>"
      ]
     },
     "metadata": {},
     "output_type": "display_data"
    }
   ],
   "source": [
    "#Create a new dataframe which is sorted by the course rating\n",
    "courses_by_rating = coursera_df.sort_values(by=\"course_rating\", ascending=False)\n",
    "\n",
    "#Define most popular courses by rating\n",
    "top_10_courses_by_rating = courses_by_rating.head(10)\n",
    "\n",
    "#Calculate mean course rating of all courses\n",
    "mean_rating = courses_by_rating[\"course_rating\"].mean()\n",
    "\n",
    "#Plot a bar chart displaying top 10 courses by student enrollment\n",
    "fig_3 = px.bar(top_10_courses_by_rating, \n",
    "               x=\"course_title\",\n",
    "               y=\"course_rating\",\n",
    "               title=\"Top 10 Courses by Course Rating\",\n",
    "               labels={\"course_rating\":\"Course Rating\", \"course_title\" : \"Course Title\"},\n",
    "               text=\"course_rating\",\n",
    "               template=\"plotly_white\",\n",
    "               hover_name=\"course_title\")\n",
    "\n",
    "fig_3.update_traces(texttemplate=\"%{text:.2s}\",\n",
    "                    textposition=\"outside\",\n",
    "                    marker_color=\"rgb(136,204,238)\")\n",
    "\n",
    "fig_3.add_shape(type=\"line\",\n",
    "              x0=-0.5,\n",
    "              y0=mean_rating,\n",
    "              x1=9.5,\n",
    "              y1=mean_rating,\n",
    "              line=dict(color=\"purple\", dash=\"dash\"),\n",
    "              name=\"Mean\")\n",
    "\n",
    "fig_3.add_annotation(x=8.5,\n",
    "                   y=4.5,\n",
    "                   text=f\"Mean: {mean_rating:.2f}\",\n",
    "                   showarrow=False,\n",
    "                   font=dict(color=\"purple\"))\n",
    "\n",
    "fig_3.update_layout(font=dict(size=14),\n",
    "                  title=dict(x=0.4),\n",
    "                  width=800,\n",
    "                  height=800,\n",
    "                  yaxis=dict(showgrid=False))\n",
    "\n",
    "fig_3.show()"
   ]
  },
  {
   "cell_type": "markdown",
   "metadata": {},
   "source": [
    "> 4.5. How does student enrollment compare to top courses by enrollment and top courses by rating?"
   ]
  },
  {
   "cell_type": "code",
   "execution_count": 19,
   "metadata": {},
   "outputs": [
    {
     "data": {
      "text/html": [
       "<div>\n",
       "<style scoped>\n",
       "    .dataframe tbody tr th:only-of-type {\n",
       "        vertical-align: middle;\n",
       "    }\n",
       "\n",
       "    .dataframe tbody tr th {\n",
       "        vertical-align: top;\n",
       "    }\n",
       "\n",
       "    .dataframe thead th {\n",
       "        text-align: right;\n",
       "    }\n",
       "</style>\n",
       "<table border=\"1\" class=\"dataframe\">\n",
       "  <thead>\n",
       "    <tr style=\"text-align: right;\">\n",
       "      <th></th>\n",
       "      <th>Top Courses by Enrollment</th>\n",
       "      <th>Students Enrolled</th>\n",
       "      <th>Top Courses by Rating</th>\n",
       "      <th>Students Enrolled</th>\n",
       "    </tr>\n",
       "  </thead>\n",
       "  <tbody>\n",
       "    <tr>\n",
       "      <th>0</th>\n",
       "      <td>Machine Learning</td>\n",
       "      <td>3.2m</td>\n",
       "      <td>El Abogado del Futuro: Legaltech y la Transfor...</td>\n",
       "      <td>1.5k</td>\n",
       "    </tr>\n",
       "    <tr>\n",
       "      <th>1</th>\n",
       "      <td>The Science of Well-Being</td>\n",
       "      <td>2.5m</td>\n",
       "      <td>Infectious Disease Modelling</td>\n",
       "      <td>1.6k</td>\n",
       "    </tr>\n",
       "    <tr>\n",
       "      <th>2</th>\n",
       "      <td>Python for Everybody</td>\n",
       "      <td>1.5m</td>\n",
       "      <td>Understanding the Brain: The Neurobiology of E...</td>\n",
       "      <td>130k</td>\n",
       "    </tr>\n",
       "    <tr>\n",
       "      <th>3</th>\n",
       "      <td>Programming for Everybody (Getting Started wit...</td>\n",
       "      <td>1.3m</td>\n",
       "      <td>Understanding Einstein: The Special Theory of ...</td>\n",
       "      <td>89k</td>\n",
       "    </tr>\n",
       "    <tr>\n",
       "      <th>4</th>\n",
       "      <td>Data Science</td>\n",
       "      <td>830k</td>\n",
       "      <td>Основы разработки на C++: белый пояс</td>\n",
       "      <td>41k</td>\n",
       "    </tr>\n",
       "    <tr>\n",
       "      <th>5</th>\n",
       "      <td>Career Success</td>\n",
       "      <td>790k</td>\n",
       "      <td>Excel Skills for Business: Intermediate I</td>\n",
       "      <td>76k</td>\n",
       "    </tr>\n",
       "    <tr>\n",
       "      <th>6</th>\n",
       "      <td>English for Career Development</td>\n",
       "      <td>760k</td>\n",
       "      <td>Excel Skills for Business: Essentials</td>\n",
       "      <td>200k</td>\n",
       "    </tr>\n",
       "    <tr>\n",
       "      <th>7</th>\n",
       "      <td>Successful Negotiation: Essential Strategies a...</td>\n",
       "      <td>750k</td>\n",
       "      <td>Excel Skills for Business</td>\n",
       "      <td>240k</td>\n",
       "    </tr>\n",
       "    <tr>\n",
       "      <th>8</th>\n",
       "      <td>Data Science: Foundations using R</td>\n",
       "      <td>740k</td>\n",
       "      <td>Everyday Parenting: The ABCs of Child Rearing</td>\n",
       "      <td>86k</td>\n",
       "    </tr>\n",
       "    <tr>\n",
       "      <th>9</th>\n",
       "      <td>Deep Learning</td>\n",
       "      <td>690k</td>\n",
       "      <td>Getting Started with SAS Programming</td>\n",
       "      <td>22k</td>\n",
       "    </tr>\n",
       "  </tbody>\n",
       "</table>\n",
       "</div>"
      ],
      "text/plain": [
       "                           Top Courses by Enrollment Students Enrolled  \\\n",
       "0                                   Machine Learning              3.2m   \n",
       "1                          The Science of Well-Being              2.5m   \n",
       "2                               Python for Everybody              1.5m   \n",
       "3  Programming for Everybody (Getting Started wit...              1.3m   \n",
       "4                                       Data Science              830k   \n",
       "5                                     Career Success              790k   \n",
       "6                     English for Career Development              760k   \n",
       "7  Successful Negotiation: Essential Strategies a...              750k   \n",
       "8                  Data Science: Foundations using R              740k   \n",
       "9                                      Deep Learning              690k   \n",
       "\n",
       "                               Top Courses by Rating Students Enrolled  \n",
       "0  El Abogado del Futuro: Legaltech y la Transfor...              1.5k  \n",
       "1                       Infectious Disease Modelling              1.6k  \n",
       "2  Understanding the Brain: The Neurobiology of E...              130k  \n",
       "3  Understanding Einstein: The Special Theory of ...               89k  \n",
       "4               Основы разработки на C++: белый пояс               41k  \n",
       "5          Excel Skills for Business: Intermediate I               76k  \n",
       "6              Excel Skills for Business: Essentials              200k  \n",
       "7                          Excel Skills for Business              240k  \n",
       "8      Everyday Parenting: The ABCs of Child Rearing               86k  \n",
       "9               Getting Started with SAS Programming               22k  "
      ]
     },
     "execution_count": 19,
     "metadata": {},
     "output_type": "execute_result"
    }
   ],
   "source": [
    "\n",
    "top_10_courses_by_students_temporary = top_10_courses_by_students\\\n",
    "    .rename(columns={\"course_title\":\"Top Courses by Enrollment\",\\\n",
    "                      \"course_students_enrolled\":\"Students Enrolled\"})\n",
    "top_10_courses_by_rating_temporary = top_10_courses_by_rating\\\n",
    "    .rename(columns={\"course_title\":\"Top Courses by Rating\",\\\n",
    "                      \"course_students_enrolled\":\"Students Enrolled\"})\n",
    "\n",
    "popularity_enrollment_vs_rating = pd.concat([top_10_courses_by_students_temporary[[\"Top Courses by Enrollment\", \"Students Enrolled\"]]\\\n",
    "                                             .reset_index(drop=True),\n",
    "                                            top_10_courses_by_rating_temporary[[\"Top Courses by Rating\", \"Students Enrolled\"]]\\\n",
    "                                                .reset_index(drop=True)], axis=1)\n",
    "popularity_enrollment_vs_rating"
   ]
  },
  {
   "cell_type": "markdown",
   "metadata": {},
   "source": [
    "Number of students enrolled to most popular courses by rating is a lot lower.  \n",
    "**Further evaluation focuses on top courses by student enrollment.**"
   ]
  },
  {
   "cell_type": "markdown",
   "metadata": {},
   "source": [
    "> 4.6. What are the ratings and difficulty levels of courses with highest enrollment?"
   ]
  },
  {
   "cell_type": "code",
   "execution_count": 20,
   "metadata": {},
   "outputs": [
    {
     "data": {
      "application/vnd.plotly.v1+json": {
       "config": {
        "plotlyServerURL": "https://plot.ly"
       },
       "data": [
        {
         "hovertemplate": "Course Difficulty=Mixed<br>Course Title=%{x}<br>Course Rating=%{text}<br>course_difficulty_numeric=%{marker.size}<extra></extra>",
         "legendgroup": "Mixed",
         "marker": {
          "color": "rgb(136,204,238)",
          "size": [
           2,
           2,
           2,
           2,
           2
          ],
          "sizemode": "area",
          "sizeref": 0.0075,
          "symbol": "circle"
         },
         "mode": "markers+text",
         "name": "Mixed",
         "orientation": "v",
         "showlegend": true,
         "text": [
          4.9,
          4.9,
          4.8,
          4.8,
          4.8
         ],
         "type": "scatter",
         "x": [
          "Machine Learning",
          "The Science of Well-Being",
          "Programming for Everybody (Getting Started with Python)",
          "English for Career Development",
          "Successful Negotiation: Essential Strategies and Skills"
         ],
         "xaxis": "x",
         "y": [
          4.9,
          4.9,
          4.8,
          4.8,
          4.8
         ],
         "yaxis": "y"
        },
        {
         "hovertemplate": "Course Difficulty=Beginner<br>Course Title=%{x}<br>Course Rating=%{text}<br>course_difficulty_numeric=%{marker.size}<extra></extra>",
         "legendgroup": "Beginner",
         "marker": {
          "color": "rgb(169,169,169)",
          "size": [
           1,
           1,
           1,
           1
          ],
          "sizemode": "area",
          "sizeref": 0.0075,
          "symbol": "circle"
         },
         "mode": "markers+text",
         "name": "Beginner",
         "orientation": "v",
         "showlegend": true,
         "text": [
          4.8,
          4.5,
          4.4,
          4.6
         ],
         "type": "scatter",
         "x": [
          "Python for Everybody",
          "Data Science",
          "Career Success",
          "Data Science: Foundations using R"
         ],
         "xaxis": "x",
         "y": [
          4.8,
          4.5,
          4.4,
          4.6
         ],
         "yaxis": "y"
        },
        {
         "hovertemplate": "Course Difficulty=Intermediate<br>Course Title=%{x}<br>Course Rating=%{text}<br>course_difficulty_numeric=%{marker.size}<extra></extra>",
         "legendgroup": "Intermediate",
         "marker": {
          "color": "rgb(144,103,167)",
          "size": [
           3
          ],
          "sizemode": "area",
          "sizeref": 0.0075,
          "symbol": "circle"
         },
         "mode": "markers+text",
         "name": "Intermediate",
         "orientation": "v",
         "showlegend": true,
         "text": [
          4.8
         ],
         "type": "scatter",
         "x": [
          "Deep Learning"
         ],
         "xaxis": "x",
         "y": [
          4.8
         ],
         "yaxis": "y"
        }
       ],
       "layout": {
        "font": {
         "size": 14
        },
        "height": 700,
        "legend": {
         "itemsizing": "constant",
         "title": {
          "text": "Course Difficulty"
         },
         "tracegroupgap": 0
        },
        "template": {
         "data": {
          "bar": [
           {
            "error_x": {
             "color": "#2a3f5f"
            },
            "error_y": {
             "color": "#2a3f5f"
            },
            "marker": {
             "line": {
              "color": "white",
              "width": 0.5
             },
             "pattern": {
              "fillmode": "overlay",
              "size": 10,
              "solidity": 0.2
             }
            },
            "type": "bar"
           }
          ],
          "barpolar": [
           {
            "marker": {
             "line": {
              "color": "white",
              "width": 0.5
             },
             "pattern": {
              "fillmode": "overlay",
              "size": 10,
              "solidity": 0.2
             }
            },
            "type": "barpolar"
           }
          ],
          "carpet": [
           {
            "aaxis": {
             "endlinecolor": "#2a3f5f",
             "gridcolor": "#C8D4E3",
             "linecolor": "#C8D4E3",
             "minorgridcolor": "#C8D4E3",
             "startlinecolor": "#2a3f5f"
            },
            "baxis": {
             "endlinecolor": "#2a3f5f",
             "gridcolor": "#C8D4E3",
             "linecolor": "#C8D4E3",
             "minorgridcolor": "#C8D4E3",
             "startlinecolor": "#2a3f5f"
            },
            "type": "carpet"
           }
          ],
          "choropleth": [
           {
            "colorbar": {
             "outlinewidth": 0,
             "ticks": ""
            },
            "type": "choropleth"
           }
          ],
          "contour": [
           {
            "colorbar": {
             "outlinewidth": 0,
             "ticks": ""
            },
            "colorscale": [
             [
              0,
              "#0d0887"
             ],
             [
              0.1111111111111111,
              "#46039f"
             ],
             [
              0.2222222222222222,
              "#7201a8"
             ],
             [
              0.3333333333333333,
              "#9c179e"
             ],
             [
              0.4444444444444444,
              "#bd3786"
             ],
             [
              0.5555555555555556,
              "#d8576b"
             ],
             [
              0.6666666666666666,
              "#ed7953"
             ],
             [
              0.7777777777777778,
              "#fb9f3a"
             ],
             [
              0.8888888888888888,
              "#fdca26"
             ],
             [
              1,
              "#f0f921"
             ]
            ],
            "type": "contour"
           }
          ],
          "contourcarpet": [
           {
            "colorbar": {
             "outlinewidth": 0,
             "ticks": ""
            },
            "type": "contourcarpet"
           }
          ],
          "heatmap": [
           {
            "colorbar": {
             "outlinewidth": 0,
             "ticks": ""
            },
            "colorscale": [
             [
              0,
              "#0d0887"
             ],
             [
              0.1111111111111111,
              "#46039f"
             ],
             [
              0.2222222222222222,
              "#7201a8"
             ],
             [
              0.3333333333333333,
              "#9c179e"
             ],
             [
              0.4444444444444444,
              "#bd3786"
             ],
             [
              0.5555555555555556,
              "#d8576b"
             ],
             [
              0.6666666666666666,
              "#ed7953"
             ],
             [
              0.7777777777777778,
              "#fb9f3a"
             ],
             [
              0.8888888888888888,
              "#fdca26"
             ],
             [
              1,
              "#f0f921"
             ]
            ],
            "type": "heatmap"
           }
          ],
          "heatmapgl": [
           {
            "colorbar": {
             "outlinewidth": 0,
             "ticks": ""
            },
            "colorscale": [
             [
              0,
              "#0d0887"
             ],
             [
              0.1111111111111111,
              "#46039f"
             ],
             [
              0.2222222222222222,
              "#7201a8"
             ],
             [
              0.3333333333333333,
              "#9c179e"
             ],
             [
              0.4444444444444444,
              "#bd3786"
             ],
             [
              0.5555555555555556,
              "#d8576b"
             ],
             [
              0.6666666666666666,
              "#ed7953"
             ],
             [
              0.7777777777777778,
              "#fb9f3a"
             ],
             [
              0.8888888888888888,
              "#fdca26"
             ],
             [
              1,
              "#f0f921"
             ]
            ],
            "type": "heatmapgl"
           }
          ],
          "histogram": [
           {
            "marker": {
             "pattern": {
              "fillmode": "overlay",
              "size": 10,
              "solidity": 0.2
             }
            },
            "type": "histogram"
           }
          ],
          "histogram2d": [
           {
            "colorbar": {
             "outlinewidth": 0,
             "ticks": ""
            },
            "colorscale": [
             [
              0,
              "#0d0887"
             ],
             [
              0.1111111111111111,
              "#46039f"
             ],
             [
              0.2222222222222222,
              "#7201a8"
             ],
             [
              0.3333333333333333,
              "#9c179e"
             ],
             [
              0.4444444444444444,
              "#bd3786"
             ],
             [
              0.5555555555555556,
              "#d8576b"
             ],
             [
              0.6666666666666666,
              "#ed7953"
             ],
             [
              0.7777777777777778,
              "#fb9f3a"
             ],
             [
              0.8888888888888888,
              "#fdca26"
             ],
             [
              1,
              "#f0f921"
             ]
            ],
            "type": "histogram2d"
           }
          ],
          "histogram2dcontour": [
           {
            "colorbar": {
             "outlinewidth": 0,
             "ticks": ""
            },
            "colorscale": [
             [
              0,
              "#0d0887"
             ],
             [
              0.1111111111111111,
              "#46039f"
             ],
             [
              0.2222222222222222,
              "#7201a8"
             ],
             [
              0.3333333333333333,
              "#9c179e"
             ],
             [
              0.4444444444444444,
              "#bd3786"
             ],
             [
              0.5555555555555556,
              "#d8576b"
             ],
             [
              0.6666666666666666,
              "#ed7953"
             ],
             [
              0.7777777777777778,
              "#fb9f3a"
             ],
             [
              0.8888888888888888,
              "#fdca26"
             ],
             [
              1,
              "#f0f921"
             ]
            ],
            "type": "histogram2dcontour"
           }
          ],
          "mesh3d": [
           {
            "colorbar": {
             "outlinewidth": 0,
             "ticks": ""
            },
            "type": "mesh3d"
           }
          ],
          "parcoords": [
           {
            "line": {
             "colorbar": {
              "outlinewidth": 0,
              "ticks": ""
             }
            },
            "type": "parcoords"
           }
          ],
          "pie": [
           {
            "automargin": true,
            "type": "pie"
           }
          ],
          "scatter": [
           {
            "fillpattern": {
             "fillmode": "overlay",
             "size": 10,
             "solidity": 0.2
            },
            "type": "scatter"
           }
          ],
          "scatter3d": [
           {
            "line": {
             "colorbar": {
              "outlinewidth": 0,
              "ticks": ""
             }
            },
            "marker": {
             "colorbar": {
              "outlinewidth": 0,
              "ticks": ""
             }
            },
            "type": "scatter3d"
           }
          ],
          "scattercarpet": [
           {
            "marker": {
             "colorbar": {
              "outlinewidth": 0,
              "ticks": ""
             }
            },
            "type": "scattercarpet"
           }
          ],
          "scattergeo": [
           {
            "marker": {
             "colorbar": {
              "outlinewidth": 0,
              "ticks": ""
             }
            },
            "type": "scattergeo"
           }
          ],
          "scattergl": [
           {
            "marker": {
             "colorbar": {
              "outlinewidth": 0,
              "ticks": ""
             }
            },
            "type": "scattergl"
           }
          ],
          "scattermapbox": [
           {
            "marker": {
             "colorbar": {
              "outlinewidth": 0,
              "ticks": ""
             }
            },
            "type": "scattermapbox"
           }
          ],
          "scatterpolar": [
           {
            "marker": {
             "colorbar": {
              "outlinewidth": 0,
              "ticks": ""
             }
            },
            "type": "scatterpolar"
           }
          ],
          "scatterpolargl": [
           {
            "marker": {
             "colorbar": {
              "outlinewidth": 0,
              "ticks": ""
             }
            },
            "type": "scatterpolargl"
           }
          ],
          "scatterternary": [
           {
            "marker": {
             "colorbar": {
              "outlinewidth": 0,
              "ticks": ""
             }
            },
            "type": "scatterternary"
           }
          ],
          "surface": [
           {
            "colorbar": {
             "outlinewidth": 0,
             "ticks": ""
            },
            "colorscale": [
             [
              0,
              "#0d0887"
             ],
             [
              0.1111111111111111,
              "#46039f"
             ],
             [
              0.2222222222222222,
              "#7201a8"
             ],
             [
              0.3333333333333333,
              "#9c179e"
             ],
             [
              0.4444444444444444,
              "#bd3786"
             ],
             [
              0.5555555555555556,
              "#d8576b"
             ],
             [
              0.6666666666666666,
              "#ed7953"
             ],
             [
              0.7777777777777778,
              "#fb9f3a"
             ],
             [
              0.8888888888888888,
              "#fdca26"
             ],
             [
              1,
              "#f0f921"
             ]
            ],
            "type": "surface"
           }
          ],
          "table": [
           {
            "cells": {
             "fill": {
              "color": "#EBF0F8"
             },
             "line": {
              "color": "white"
             }
            },
            "header": {
             "fill": {
              "color": "#C8D4E3"
             },
             "line": {
              "color": "white"
             }
            },
            "type": "table"
           }
          ]
         },
         "layout": {
          "annotationdefaults": {
           "arrowcolor": "#2a3f5f",
           "arrowhead": 0,
           "arrowwidth": 1
          },
          "autotypenumbers": "strict",
          "coloraxis": {
           "colorbar": {
            "outlinewidth": 0,
            "ticks": ""
           }
          },
          "colorscale": {
           "diverging": [
            [
             0,
             "#8e0152"
            ],
            [
             0.1,
             "#c51b7d"
            ],
            [
             0.2,
             "#de77ae"
            ],
            [
             0.3,
             "#f1b6da"
            ],
            [
             0.4,
             "#fde0ef"
            ],
            [
             0.5,
             "#f7f7f7"
            ],
            [
             0.6,
             "#e6f5d0"
            ],
            [
             0.7,
             "#b8e186"
            ],
            [
             0.8,
             "#7fbc41"
            ],
            [
             0.9,
             "#4d9221"
            ],
            [
             1,
             "#276419"
            ]
           ],
           "sequential": [
            [
             0,
             "#0d0887"
            ],
            [
             0.1111111111111111,
             "#46039f"
            ],
            [
             0.2222222222222222,
             "#7201a8"
            ],
            [
             0.3333333333333333,
             "#9c179e"
            ],
            [
             0.4444444444444444,
             "#bd3786"
            ],
            [
             0.5555555555555556,
             "#d8576b"
            ],
            [
             0.6666666666666666,
             "#ed7953"
            ],
            [
             0.7777777777777778,
             "#fb9f3a"
            ],
            [
             0.8888888888888888,
             "#fdca26"
            ],
            [
             1,
             "#f0f921"
            ]
           ],
           "sequentialminus": [
            [
             0,
             "#0d0887"
            ],
            [
             0.1111111111111111,
             "#46039f"
            ],
            [
             0.2222222222222222,
             "#7201a8"
            ],
            [
             0.3333333333333333,
             "#9c179e"
            ],
            [
             0.4444444444444444,
             "#bd3786"
            ],
            [
             0.5555555555555556,
             "#d8576b"
            ],
            [
             0.6666666666666666,
             "#ed7953"
            ],
            [
             0.7777777777777778,
             "#fb9f3a"
            ],
            [
             0.8888888888888888,
             "#fdca26"
            ],
            [
             1,
             "#f0f921"
            ]
           ]
          },
          "colorway": [
           "#636efa",
           "#EF553B",
           "#00cc96",
           "#ab63fa",
           "#FFA15A",
           "#19d3f3",
           "#FF6692",
           "#B6E880",
           "#FF97FF",
           "#FECB52"
          ],
          "font": {
           "color": "#2a3f5f"
          },
          "geo": {
           "bgcolor": "white",
           "lakecolor": "white",
           "landcolor": "white",
           "showlakes": true,
           "showland": true,
           "subunitcolor": "#C8D4E3"
          },
          "hoverlabel": {
           "align": "left"
          },
          "hovermode": "closest",
          "mapbox": {
           "style": "light"
          },
          "paper_bgcolor": "white",
          "plot_bgcolor": "white",
          "polar": {
           "angularaxis": {
            "gridcolor": "#EBF0F8",
            "linecolor": "#EBF0F8",
            "ticks": ""
           },
           "bgcolor": "white",
           "radialaxis": {
            "gridcolor": "#EBF0F8",
            "linecolor": "#EBF0F8",
            "ticks": ""
           }
          },
          "scene": {
           "xaxis": {
            "backgroundcolor": "white",
            "gridcolor": "#DFE8F3",
            "gridwidth": 2,
            "linecolor": "#EBF0F8",
            "showbackground": true,
            "ticks": "",
            "zerolinecolor": "#EBF0F8"
           },
           "yaxis": {
            "backgroundcolor": "white",
            "gridcolor": "#DFE8F3",
            "gridwidth": 2,
            "linecolor": "#EBF0F8",
            "showbackground": true,
            "ticks": "",
            "zerolinecolor": "#EBF0F8"
           },
           "zaxis": {
            "backgroundcolor": "white",
            "gridcolor": "#DFE8F3",
            "gridwidth": 2,
            "linecolor": "#EBF0F8",
            "showbackground": true,
            "ticks": "",
            "zerolinecolor": "#EBF0F8"
           }
          },
          "shapedefaults": {
           "line": {
            "color": "#2a3f5f"
           }
          },
          "ternary": {
           "aaxis": {
            "gridcolor": "#DFE8F3",
            "linecolor": "#A2B1C6",
            "ticks": ""
           },
           "baxis": {
            "gridcolor": "#DFE8F3",
            "linecolor": "#A2B1C6",
            "ticks": ""
           },
           "bgcolor": "white",
           "caxis": {
            "gridcolor": "#DFE8F3",
            "linecolor": "#A2B1C6",
            "ticks": ""
           }
          },
          "title": {
           "x": 0.05
          },
          "xaxis": {
           "automargin": true,
           "gridcolor": "#EBF0F8",
           "linecolor": "#EBF0F8",
           "ticks": "",
           "title": {
            "standoff": 15
           },
           "zerolinecolor": "#EBF0F8",
           "zerolinewidth": 2
          },
          "yaxis": {
           "automargin": true,
           "gridcolor": "#EBF0F8",
           "linecolor": "#EBF0F8",
           "ticks": "",
           "title": {
            "standoff": 15
           },
           "zerolinecolor": "#EBF0F8",
           "zerolinewidth": 2
          }
         }
        },
        "title": {
         "text": "Rating and Difficulty of Top 10 Courses by Enrollment",
         "x": 0.5
        },
        "width": 800,
        "xaxis": {
         "anchor": "y",
         "domain": [
          0,
          1
         ],
         "title": {
          "text": "Course Title"
         }
        },
        "yaxis": {
         "anchor": "x",
         "domain": [
          0,
          1
         ],
         "title": {
          "text": "Course Rating"
         }
        }
       }
      },
      "text/html": [
       "<div>                            <div id=\"84cd1c92-8175-48ff-bf43-e2fa7d9de41f\" class=\"plotly-graph-div\" style=\"height:700px; width:800px;\"></div>            <script type=\"text/javascript\">                require([\"plotly\"], function(Plotly) {                    window.PLOTLYENV=window.PLOTLYENV || {};                                    if (document.getElementById(\"84cd1c92-8175-48ff-bf43-e2fa7d9de41f\")) {                    Plotly.newPlot(                        \"84cd1c92-8175-48ff-bf43-e2fa7d9de41f\",                        [{\"hovertemplate\":\"Course Difficulty=Mixed\\u003cbr\\u003eCourse Title=%{x}\\u003cbr\\u003eCourse Rating=%{text}\\u003cbr\\u003ecourse_difficulty_numeric=%{marker.size}\\u003cextra\\u003e\\u003c\\u002fextra\\u003e\",\"legendgroup\":\"Mixed\",\"marker\":{\"color\":\"rgb(136,204,238)\",\"size\":[2,2,2,2,2],\"sizemode\":\"area\",\"sizeref\":0.0075,\"symbol\":\"circle\"},\"mode\":\"markers+text\",\"name\":\"Mixed\",\"orientation\":\"v\",\"showlegend\":true,\"text\":[4.9,4.9,4.8,4.8,4.8],\"x\":[\"Machine Learning\",\"The Science of Well-Being\",\"Programming for Everybody (Getting Started with Python)\",\"English for Career Development\",\"Successful Negotiation: Essential Strategies and Skills\"],\"xaxis\":\"x\",\"y\":[4.9,4.9,4.8,4.8,4.8],\"yaxis\":\"y\",\"type\":\"scatter\"},{\"hovertemplate\":\"Course Difficulty=Beginner\\u003cbr\\u003eCourse Title=%{x}\\u003cbr\\u003eCourse Rating=%{text}\\u003cbr\\u003ecourse_difficulty_numeric=%{marker.size}\\u003cextra\\u003e\\u003c\\u002fextra\\u003e\",\"legendgroup\":\"Beginner\",\"marker\":{\"color\":\"rgb(169,169,169)\",\"size\":[1,1,1,1],\"sizemode\":\"area\",\"sizeref\":0.0075,\"symbol\":\"circle\"},\"mode\":\"markers+text\",\"name\":\"Beginner\",\"orientation\":\"v\",\"showlegend\":true,\"text\":[4.8,4.5,4.4,4.6],\"x\":[\"Python for Everybody\",\"Data Science\",\"Career Success\",\"Data Science: Foundations using R\"],\"xaxis\":\"x\",\"y\":[4.8,4.5,4.4,4.6],\"yaxis\":\"y\",\"type\":\"scatter\"},{\"hovertemplate\":\"Course Difficulty=Intermediate\\u003cbr\\u003eCourse Title=%{x}\\u003cbr\\u003eCourse Rating=%{text}\\u003cbr\\u003ecourse_difficulty_numeric=%{marker.size}\\u003cextra\\u003e\\u003c\\u002fextra\\u003e\",\"legendgroup\":\"Intermediate\",\"marker\":{\"color\":\"rgb(144,103,167)\",\"size\":[3],\"sizemode\":\"area\",\"sizeref\":0.0075,\"symbol\":\"circle\"},\"mode\":\"markers+text\",\"name\":\"Intermediate\",\"orientation\":\"v\",\"showlegend\":true,\"text\":[4.8],\"x\":[\"Deep Learning\"],\"xaxis\":\"x\",\"y\":[4.8],\"yaxis\":\"y\",\"type\":\"scatter\"}],                        {\"template\":{\"data\":{\"barpolar\":[{\"marker\":{\"line\":{\"color\":\"white\",\"width\":0.5},\"pattern\":{\"fillmode\":\"overlay\",\"size\":10,\"solidity\":0.2}},\"type\":\"barpolar\"}],\"bar\":[{\"error_x\":{\"color\":\"#2a3f5f\"},\"error_y\":{\"color\":\"#2a3f5f\"},\"marker\":{\"line\":{\"color\":\"white\",\"width\":0.5},\"pattern\":{\"fillmode\":\"overlay\",\"size\":10,\"solidity\":0.2}},\"type\":\"bar\"}],\"carpet\":[{\"aaxis\":{\"endlinecolor\":\"#2a3f5f\",\"gridcolor\":\"#C8D4E3\",\"linecolor\":\"#C8D4E3\",\"minorgridcolor\":\"#C8D4E3\",\"startlinecolor\":\"#2a3f5f\"},\"baxis\":{\"endlinecolor\":\"#2a3f5f\",\"gridcolor\":\"#C8D4E3\",\"linecolor\":\"#C8D4E3\",\"minorgridcolor\":\"#C8D4E3\",\"startlinecolor\":\"#2a3f5f\"},\"type\":\"carpet\"}],\"choropleth\":[{\"colorbar\":{\"outlinewidth\":0,\"ticks\":\"\"},\"type\":\"choropleth\"}],\"contourcarpet\":[{\"colorbar\":{\"outlinewidth\":0,\"ticks\":\"\"},\"type\":\"contourcarpet\"}],\"contour\":[{\"colorbar\":{\"outlinewidth\":0,\"ticks\":\"\"},\"colorscale\":[[0.0,\"#0d0887\"],[0.1111111111111111,\"#46039f\"],[0.2222222222222222,\"#7201a8\"],[0.3333333333333333,\"#9c179e\"],[0.4444444444444444,\"#bd3786\"],[0.5555555555555556,\"#d8576b\"],[0.6666666666666666,\"#ed7953\"],[0.7777777777777778,\"#fb9f3a\"],[0.8888888888888888,\"#fdca26\"],[1.0,\"#f0f921\"]],\"type\":\"contour\"}],\"heatmapgl\":[{\"colorbar\":{\"outlinewidth\":0,\"ticks\":\"\"},\"colorscale\":[[0.0,\"#0d0887\"],[0.1111111111111111,\"#46039f\"],[0.2222222222222222,\"#7201a8\"],[0.3333333333333333,\"#9c179e\"],[0.4444444444444444,\"#bd3786\"],[0.5555555555555556,\"#d8576b\"],[0.6666666666666666,\"#ed7953\"],[0.7777777777777778,\"#fb9f3a\"],[0.8888888888888888,\"#fdca26\"],[1.0,\"#f0f921\"]],\"type\":\"heatmapgl\"}],\"heatmap\":[{\"colorbar\":{\"outlinewidth\":0,\"ticks\":\"\"},\"colorscale\":[[0.0,\"#0d0887\"],[0.1111111111111111,\"#46039f\"],[0.2222222222222222,\"#7201a8\"],[0.3333333333333333,\"#9c179e\"],[0.4444444444444444,\"#bd3786\"],[0.5555555555555556,\"#d8576b\"],[0.6666666666666666,\"#ed7953\"],[0.7777777777777778,\"#fb9f3a\"],[0.8888888888888888,\"#fdca26\"],[1.0,\"#f0f921\"]],\"type\":\"heatmap\"}],\"histogram2dcontour\":[{\"colorbar\":{\"outlinewidth\":0,\"ticks\":\"\"},\"colorscale\":[[0.0,\"#0d0887\"],[0.1111111111111111,\"#46039f\"],[0.2222222222222222,\"#7201a8\"],[0.3333333333333333,\"#9c179e\"],[0.4444444444444444,\"#bd3786\"],[0.5555555555555556,\"#d8576b\"],[0.6666666666666666,\"#ed7953\"],[0.7777777777777778,\"#fb9f3a\"],[0.8888888888888888,\"#fdca26\"],[1.0,\"#f0f921\"]],\"type\":\"histogram2dcontour\"}],\"histogram2d\":[{\"colorbar\":{\"outlinewidth\":0,\"ticks\":\"\"},\"colorscale\":[[0.0,\"#0d0887\"],[0.1111111111111111,\"#46039f\"],[0.2222222222222222,\"#7201a8\"],[0.3333333333333333,\"#9c179e\"],[0.4444444444444444,\"#bd3786\"],[0.5555555555555556,\"#d8576b\"],[0.6666666666666666,\"#ed7953\"],[0.7777777777777778,\"#fb9f3a\"],[0.8888888888888888,\"#fdca26\"],[1.0,\"#f0f921\"]],\"type\":\"histogram2d\"}],\"histogram\":[{\"marker\":{\"pattern\":{\"fillmode\":\"overlay\",\"size\":10,\"solidity\":0.2}},\"type\":\"histogram\"}],\"mesh3d\":[{\"colorbar\":{\"outlinewidth\":0,\"ticks\":\"\"},\"type\":\"mesh3d\"}],\"parcoords\":[{\"line\":{\"colorbar\":{\"outlinewidth\":0,\"ticks\":\"\"}},\"type\":\"parcoords\"}],\"pie\":[{\"automargin\":true,\"type\":\"pie\"}],\"scatter3d\":[{\"line\":{\"colorbar\":{\"outlinewidth\":0,\"ticks\":\"\"}},\"marker\":{\"colorbar\":{\"outlinewidth\":0,\"ticks\":\"\"}},\"type\":\"scatter3d\"}],\"scattercarpet\":[{\"marker\":{\"colorbar\":{\"outlinewidth\":0,\"ticks\":\"\"}},\"type\":\"scattercarpet\"}],\"scattergeo\":[{\"marker\":{\"colorbar\":{\"outlinewidth\":0,\"ticks\":\"\"}},\"type\":\"scattergeo\"}],\"scattergl\":[{\"marker\":{\"colorbar\":{\"outlinewidth\":0,\"ticks\":\"\"}},\"type\":\"scattergl\"}],\"scattermapbox\":[{\"marker\":{\"colorbar\":{\"outlinewidth\":0,\"ticks\":\"\"}},\"type\":\"scattermapbox\"}],\"scatterpolargl\":[{\"marker\":{\"colorbar\":{\"outlinewidth\":0,\"ticks\":\"\"}},\"type\":\"scatterpolargl\"}],\"scatterpolar\":[{\"marker\":{\"colorbar\":{\"outlinewidth\":0,\"ticks\":\"\"}},\"type\":\"scatterpolar\"}],\"scatter\":[{\"fillpattern\":{\"fillmode\":\"overlay\",\"size\":10,\"solidity\":0.2},\"type\":\"scatter\"}],\"scatterternary\":[{\"marker\":{\"colorbar\":{\"outlinewidth\":0,\"ticks\":\"\"}},\"type\":\"scatterternary\"}],\"surface\":[{\"colorbar\":{\"outlinewidth\":0,\"ticks\":\"\"},\"colorscale\":[[0.0,\"#0d0887\"],[0.1111111111111111,\"#46039f\"],[0.2222222222222222,\"#7201a8\"],[0.3333333333333333,\"#9c179e\"],[0.4444444444444444,\"#bd3786\"],[0.5555555555555556,\"#d8576b\"],[0.6666666666666666,\"#ed7953\"],[0.7777777777777778,\"#fb9f3a\"],[0.8888888888888888,\"#fdca26\"],[1.0,\"#f0f921\"]],\"type\":\"surface\"}],\"table\":[{\"cells\":{\"fill\":{\"color\":\"#EBF0F8\"},\"line\":{\"color\":\"white\"}},\"header\":{\"fill\":{\"color\":\"#C8D4E3\"},\"line\":{\"color\":\"white\"}},\"type\":\"table\"}]},\"layout\":{\"annotationdefaults\":{\"arrowcolor\":\"#2a3f5f\",\"arrowhead\":0,\"arrowwidth\":1},\"autotypenumbers\":\"strict\",\"coloraxis\":{\"colorbar\":{\"outlinewidth\":0,\"ticks\":\"\"}},\"colorscale\":{\"diverging\":[[0,\"#8e0152\"],[0.1,\"#c51b7d\"],[0.2,\"#de77ae\"],[0.3,\"#f1b6da\"],[0.4,\"#fde0ef\"],[0.5,\"#f7f7f7\"],[0.6,\"#e6f5d0\"],[0.7,\"#b8e186\"],[0.8,\"#7fbc41\"],[0.9,\"#4d9221\"],[1,\"#276419\"]],\"sequential\":[[0.0,\"#0d0887\"],[0.1111111111111111,\"#46039f\"],[0.2222222222222222,\"#7201a8\"],[0.3333333333333333,\"#9c179e\"],[0.4444444444444444,\"#bd3786\"],[0.5555555555555556,\"#d8576b\"],[0.6666666666666666,\"#ed7953\"],[0.7777777777777778,\"#fb9f3a\"],[0.8888888888888888,\"#fdca26\"],[1.0,\"#f0f921\"]],\"sequentialminus\":[[0.0,\"#0d0887\"],[0.1111111111111111,\"#46039f\"],[0.2222222222222222,\"#7201a8\"],[0.3333333333333333,\"#9c179e\"],[0.4444444444444444,\"#bd3786\"],[0.5555555555555556,\"#d8576b\"],[0.6666666666666666,\"#ed7953\"],[0.7777777777777778,\"#fb9f3a\"],[0.8888888888888888,\"#fdca26\"],[1.0,\"#f0f921\"]]},\"colorway\":[\"#636efa\",\"#EF553B\",\"#00cc96\",\"#ab63fa\",\"#FFA15A\",\"#19d3f3\",\"#FF6692\",\"#B6E880\",\"#FF97FF\",\"#FECB52\"],\"font\":{\"color\":\"#2a3f5f\"},\"geo\":{\"bgcolor\":\"white\",\"lakecolor\":\"white\",\"landcolor\":\"white\",\"showlakes\":true,\"showland\":true,\"subunitcolor\":\"#C8D4E3\"},\"hoverlabel\":{\"align\":\"left\"},\"hovermode\":\"closest\",\"mapbox\":{\"style\":\"light\"},\"paper_bgcolor\":\"white\",\"plot_bgcolor\":\"white\",\"polar\":{\"angularaxis\":{\"gridcolor\":\"#EBF0F8\",\"linecolor\":\"#EBF0F8\",\"ticks\":\"\"},\"bgcolor\":\"white\",\"radialaxis\":{\"gridcolor\":\"#EBF0F8\",\"linecolor\":\"#EBF0F8\",\"ticks\":\"\"}},\"scene\":{\"xaxis\":{\"backgroundcolor\":\"white\",\"gridcolor\":\"#DFE8F3\",\"gridwidth\":2,\"linecolor\":\"#EBF0F8\",\"showbackground\":true,\"ticks\":\"\",\"zerolinecolor\":\"#EBF0F8\"},\"yaxis\":{\"backgroundcolor\":\"white\",\"gridcolor\":\"#DFE8F3\",\"gridwidth\":2,\"linecolor\":\"#EBF0F8\",\"showbackground\":true,\"ticks\":\"\",\"zerolinecolor\":\"#EBF0F8\"},\"zaxis\":{\"backgroundcolor\":\"white\",\"gridcolor\":\"#DFE8F3\",\"gridwidth\":2,\"linecolor\":\"#EBF0F8\",\"showbackground\":true,\"ticks\":\"\",\"zerolinecolor\":\"#EBF0F8\"}},\"shapedefaults\":{\"line\":{\"color\":\"#2a3f5f\"}},\"ternary\":{\"aaxis\":{\"gridcolor\":\"#DFE8F3\",\"linecolor\":\"#A2B1C6\",\"ticks\":\"\"},\"baxis\":{\"gridcolor\":\"#DFE8F3\",\"linecolor\":\"#A2B1C6\",\"ticks\":\"\"},\"bgcolor\":\"white\",\"caxis\":{\"gridcolor\":\"#DFE8F3\",\"linecolor\":\"#A2B1C6\",\"ticks\":\"\"}},\"title\":{\"x\":0.05},\"xaxis\":{\"automargin\":true,\"gridcolor\":\"#EBF0F8\",\"linecolor\":\"#EBF0F8\",\"ticks\":\"\",\"title\":{\"standoff\":15},\"zerolinecolor\":\"#EBF0F8\",\"zerolinewidth\":2},\"yaxis\":{\"automargin\":true,\"gridcolor\":\"#EBF0F8\",\"linecolor\":\"#EBF0F8\",\"ticks\":\"\",\"title\":{\"standoff\":15},\"zerolinecolor\":\"#EBF0F8\",\"zerolinewidth\":2}}},\"xaxis\":{\"anchor\":\"y\",\"domain\":[0.0,1.0],\"title\":{\"text\":\"Course Title\"}},\"yaxis\":{\"anchor\":\"x\",\"domain\":[0.0,1.0],\"title\":{\"text\":\"Course Rating\"}},\"legend\":{\"title\":{\"text\":\"Course Difficulty\"},\"tracegroupgap\":0,\"itemsizing\":\"constant\"},\"title\":{\"text\":\"Rating and Difficulty of Top 10 Courses by Enrollment\",\"x\":0.5},\"font\":{\"size\":14},\"width\":800,\"height\":700},                        {\"responsive\": true}                    ).then(function(){\n",
       "                            \n",
       "var gd = document.getElementById('84cd1c92-8175-48ff-bf43-e2fa7d9de41f');\n",
       "var x = new MutationObserver(function (mutations, observer) {{\n",
       "        var display = window.getComputedStyle(gd).display;\n",
       "        if (!display || display === 'none') {{\n",
       "            console.log([gd, 'removed!']);\n",
       "            Plotly.purge(gd);\n",
       "            observer.disconnect();\n",
       "        }}\n",
       "}});\n",
       "\n",
       "// Listen for the removal of the full notebook cells\n",
       "var notebookContainer = gd.closest('#notebook-container');\n",
       "if (notebookContainer) {{\n",
       "    x.observe(notebookContainer, {childList: true});\n",
       "}}\n",
       "\n",
       "// Listen for the clearing of the current output cell\n",
       "var outputEl = gd.closest('.output');\n",
       "if (outputEl) {{\n",
       "    x.observe(outputEl, {childList: true});\n",
       "}}\n",
       "\n",
       "                        })                };                });            </script>        </div>"
      ]
     },
     "metadata": {},
     "output_type": "display_data"
    }
   ],
   "source": [
    "discrete_colors = {\"Mixed\":\"rgb(136,204,238)\",\n",
    "                   \"Beginner\":\"rgb(169,169,169)\",\n",
    "                   \"Intermediate\":\"rgb(144,103,167)\",\n",
    "                   \"Advanced\":\"rgb(0,0,139)\"}\n",
    "\n",
    "#Plot a scatter plot displaying ratings and difficulty levels of courses with highest enrollment\n",
    "fig_4=px.scatter(top_10_courses_by_students,\n",
    "             x=\"course_title\",\n",
    "             y=\"course_rating\",\n",
    "             color=\"course_difficulty\", \n",
    "             size=\"course_difficulty_numeric\",\n",
    "             title=\"Rating and Difficulty of Top 10 Courses by Enrollment\",\n",
    "             labels={\"course_rating\":\"Course Rating\", \"course_title\" : \"Course Title\",\\\n",
    "                      \"course_difficulty\":\"Course Difficulty\"},\n",
    "             text=\"course_rating\",\n",
    "             template=\"plotly_white\",\n",
    "             color_discrete_map=discrete_colors)\n",
    "\n",
    "fig_4.update_layout(font=dict(size=14),\n",
    "                  title=dict(x=0.5),\n",
    "                  width=800,\n",
    "                  height=700)\n",
    "\n",
    "fig_4.show()\n"
   ]
  },
  {
   "cell_type": "markdown",
   "metadata": {},
   "source": [
    "> 4.7. Which courses are the least popular (by student enrollment)?"
   ]
  },
  {
   "cell_type": "code",
   "execution_count": 21,
   "metadata": {},
   "outputs": [
    {
     "data": {
      "application/vnd.plotly.v1+json": {
       "config": {
        "plotlyServerURL": "https://plot.ly"
       },
       "data": [
        {
         "alignmentgroup": "True",
         "hovertemplate": "<b>%{hovertext}</b><br><br>Course Title=%{x}<br>Students Enrolled=%{text}<extra></extra>",
         "hovertext": [
          "El Abogado del Futuro: Legaltech y la Transformación Digital del Derecho",
          "Blockchain Revolution in Financial Services",
          "Infectious Disease Modelling",
          "Healthcare Law",
          "The Pronunciation of American English",
          "Identifying, Monitoring, and Analyzing Risk and Incident Response and Recovery",
          "Esports",
          "Blended Language Learning: Design and Practice for Teachers",
          "Implementing RPA with Cognitive Automation and Analytics",
          "International Security Management"
         ],
         "legendgroup": "",
         "marker": {
          "color": "rgb(255,127,127)",
          "pattern": {
           "shape": ""
          }
         },
         "name": "",
         "offsetgroup": "",
         "orientation": "v",
         "showlegend": false,
         "text": [
          1500,
          1600,
          1600,
          1700,
          1700,
          1700,
          1800,
          1900,
          2200,
          2200
         ],
         "textposition": "outside",
         "texttemplate": "%{text:.2s}",
         "type": "bar",
         "x": [
          "El Abogado del Futuro: Legaltech y la Transformación Digital del Derecho",
          "Blockchain Revolution in Financial Services",
          "Infectious Disease Modelling",
          "Healthcare Law",
          "The Pronunciation of American English",
          "Identifying, Monitoring, and Analyzing Risk and Incident Response and Recovery",
          "Esports",
          "Blended Language Learning: Design and Practice for Teachers",
          "Implementing RPA with Cognitive Automation and Analytics",
          "International Security Management"
         ],
         "xaxis": "x",
         "y": [
          1500,
          1600,
          1600,
          1700,
          1700,
          1700,
          1800,
          1900,
          2200,
          2200
         ],
         "yaxis": "y"
        }
       ],
       "layout": {
        "barmode": "relative",
        "font": {
         "size": 14
        },
        "height": 800,
        "legend": {
         "tracegroupgap": 0
        },
        "template": {
         "data": {
          "bar": [
           {
            "error_x": {
             "color": "#2a3f5f"
            },
            "error_y": {
             "color": "#2a3f5f"
            },
            "marker": {
             "line": {
              "color": "white",
              "width": 0.5
             },
             "pattern": {
              "fillmode": "overlay",
              "size": 10,
              "solidity": 0.2
             }
            },
            "type": "bar"
           }
          ],
          "barpolar": [
           {
            "marker": {
             "line": {
              "color": "white",
              "width": 0.5
             },
             "pattern": {
              "fillmode": "overlay",
              "size": 10,
              "solidity": 0.2
             }
            },
            "type": "barpolar"
           }
          ],
          "carpet": [
           {
            "aaxis": {
             "endlinecolor": "#2a3f5f",
             "gridcolor": "#C8D4E3",
             "linecolor": "#C8D4E3",
             "minorgridcolor": "#C8D4E3",
             "startlinecolor": "#2a3f5f"
            },
            "baxis": {
             "endlinecolor": "#2a3f5f",
             "gridcolor": "#C8D4E3",
             "linecolor": "#C8D4E3",
             "minorgridcolor": "#C8D4E3",
             "startlinecolor": "#2a3f5f"
            },
            "type": "carpet"
           }
          ],
          "choropleth": [
           {
            "colorbar": {
             "outlinewidth": 0,
             "ticks": ""
            },
            "type": "choropleth"
           }
          ],
          "contour": [
           {
            "colorbar": {
             "outlinewidth": 0,
             "ticks": ""
            },
            "colorscale": [
             [
              0,
              "#0d0887"
             ],
             [
              0.1111111111111111,
              "#46039f"
             ],
             [
              0.2222222222222222,
              "#7201a8"
             ],
             [
              0.3333333333333333,
              "#9c179e"
             ],
             [
              0.4444444444444444,
              "#bd3786"
             ],
             [
              0.5555555555555556,
              "#d8576b"
             ],
             [
              0.6666666666666666,
              "#ed7953"
             ],
             [
              0.7777777777777778,
              "#fb9f3a"
             ],
             [
              0.8888888888888888,
              "#fdca26"
             ],
             [
              1,
              "#f0f921"
             ]
            ],
            "type": "contour"
           }
          ],
          "contourcarpet": [
           {
            "colorbar": {
             "outlinewidth": 0,
             "ticks": ""
            },
            "type": "contourcarpet"
           }
          ],
          "heatmap": [
           {
            "colorbar": {
             "outlinewidth": 0,
             "ticks": ""
            },
            "colorscale": [
             [
              0,
              "#0d0887"
             ],
             [
              0.1111111111111111,
              "#46039f"
             ],
             [
              0.2222222222222222,
              "#7201a8"
             ],
             [
              0.3333333333333333,
              "#9c179e"
             ],
             [
              0.4444444444444444,
              "#bd3786"
             ],
             [
              0.5555555555555556,
              "#d8576b"
             ],
             [
              0.6666666666666666,
              "#ed7953"
             ],
             [
              0.7777777777777778,
              "#fb9f3a"
             ],
             [
              0.8888888888888888,
              "#fdca26"
             ],
             [
              1,
              "#f0f921"
             ]
            ],
            "type": "heatmap"
           }
          ],
          "heatmapgl": [
           {
            "colorbar": {
             "outlinewidth": 0,
             "ticks": ""
            },
            "colorscale": [
             [
              0,
              "#0d0887"
             ],
             [
              0.1111111111111111,
              "#46039f"
             ],
             [
              0.2222222222222222,
              "#7201a8"
             ],
             [
              0.3333333333333333,
              "#9c179e"
             ],
             [
              0.4444444444444444,
              "#bd3786"
             ],
             [
              0.5555555555555556,
              "#d8576b"
             ],
             [
              0.6666666666666666,
              "#ed7953"
             ],
             [
              0.7777777777777778,
              "#fb9f3a"
             ],
             [
              0.8888888888888888,
              "#fdca26"
             ],
             [
              1,
              "#f0f921"
             ]
            ],
            "type": "heatmapgl"
           }
          ],
          "histogram": [
           {
            "marker": {
             "pattern": {
              "fillmode": "overlay",
              "size": 10,
              "solidity": 0.2
             }
            },
            "type": "histogram"
           }
          ],
          "histogram2d": [
           {
            "colorbar": {
             "outlinewidth": 0,
             "ticks": ""
            },
            "colorscale": [
             [
              0,
              "#0d0887"
             ],
             [
              0.1111111111111111,
              "#46039f"
             ],
             [
              0.2222222222222222,
              "#7201a8"
             ],
             [
              0.3333333333333333,
              "#9c179e"
             ],
             [
              0.4444444444444444,
              "#bd3786"
             ],
             [
              0.5555555555555556,
              "#d8576b"
             ],
             [
              0.6666666666666666,
              "#ed7953"
             ],
             [
              0.7777777777777778,
              "#fb9f3a"
             ],
             [
              0.8888888888888888,
              "#fdca26"
             ],
             [
              1,
              "#f0f921"
             ]
            ],
            "type": "histogram2d"
           }
          ],
          "histogram2dcontour": [
           {
            "colorbar": {
             "outlinewidth": 0,
             "ticks": ""
            },
            "colorscale": [
             [
              0,
              "#0d0887"
             ],
             [
              0.1111111111111111,
              "#46039f"
             ],
             [
              0.2222222222222222,
              "#7201a8"
             ],
             [
              0.3333333333333333,
              "#9c179e"
             ],
             [
              0.4444444444444444,
              "#bd3786"
             ],
             [
              0.5555555555555556,
              "#d8576b"
             ],
             [
              0.6666666666666666,
              "#ed7953"
             ],
             [
              0.7777777777777778,
              "#fb9f3a"
             ],
             [
              0.8888888888888888,
              "#fdca26"
             ],
             [
              1,
              "#f0f921"
             ]
            ],
            "type": "histogram2dcontour"
           }
          ],
          "mesh3d": [
           {
            "colorbar": {
             "outlinewidth": 0,
             "ticks": ""
            },
            "type": "mesh3d"
           }
          ],
          "parcoords": [
           {
            "line": {
             "colorbar": {
              "outlinewidth": 0,
              "ticks": ""
             }
            },
            "type": "parcoords"
           }
          ],
          "pie": [
           {
            "automargin": true,
            "type": "pie"
           }
          ],
          "scatter": [
           {
            "fillpattern": {
             "fillmode": "overlay",
             "size": 10,
             "solidity": 0.2
            },
            "type": "scatter"
           }
          ],
          "scatter3d": [
           {
            "line": {
             "colorbar": {
              "outlinewidth": 0,
              "ticks": ""
             }
            },
            "marker": {
             "colorbar": {
              "outlinewidth": 0,
              "ticks": ""
             }
            },
            "type": "scatter3d"
           }
          ],
          "scattercarpet": [
           {
            "marker": {
             "colorbar": {
              "outlinewidth": 0,
              "ticks": ""
             }
            },
            "type": "scattercarpet"
           }
          ],
          "scattergeo": [
           {
            "marker": {
             "colorbar": {
              "outlinewidth": 0,
              "ticks": ""
             }
            },
            "type": "scattergeo"
           }
          ],
          "scattergl": [
           {
            "marker": {
             "colorbar": {
              "outlinewidth": 0,
              "ticks": ""
             }
            },
            "type": "scattergl"
           }
          ],
          "scattermapbox": [
           {
            "marker": {
             "colorbar": {
              "outlinewidth": 0,
              "ticks": ""
             }
            },
            "type": "scattermapbox"
           }
          ],
          "scatterpolar": [
           {
            "marker": {
             "colorbar": {
              "outlinewidth": 0,
              "ticks": ""
             }
            },
            "type": "scatterpolar"
           }
          ],
          "scatterpolargl": [
           {
            "marker": {
             "colorbar": {
              "outlinewidth": 0,
              "ticks": ""
             }
            },
            "type": "scatterpolargl"
           }
          ],
          "scatterternary": [
           {
            "marker": {
             "colorbar": {
              "outlinewidth": 0,
              "ticks": ""
             }
            },
            "type": "scatterternary"
           }
          ],
          "surface": [
           {
            "colorbar": {
             "outlinewidth": 0,
             "ticks": ""
            },
            "colorscale": [
             [
              0,
              "#0d0887"
             ],
             [
              0.1111111111111111,
              "#46039f"
             ],
             [
              0.2222222222222222,
              "#7201a8"
             ],
             [
              0.3333333333333333,
              "#9c179e"
             ],
             [
              0.4444444444444444,
              "#bd3786"
             ],
             [
              0.5555555555555556,
              "#d8576b"
             ],
             [
              0.6666666666666666,
              "#ed7953"
             ],
             [
              0.7777777777777778,
              "#fb9f3a"
             ],
             [
              0.8888888888888888,
              "#fdca26"
             ],
             [
              1,
              "#f0f921"
             ]
            ],
            "type": "surface"
           }
          ],
          "table": [
           {
            "cells": {
             "fill": {
              "color": "#EBF0F8"
             },
             "line": {
              "color": "white"
             }
            },
            "header": {
             "fill": {
              "color": "#C8D4E3"
             },
             "line": {
              "color": "white"
             }
            },
            "type": "table"
           }
          ]
         },
         "layout": {
          "annotationdefaults": {
           "arrowcolor": "#2a3f5f",
           "arrowhead": 0,
           "arrowwidth": 1
          },
          "autotypenumbers": "strict",
          "coloraxis": {
           "colorbar": {
            "outlinewidth": 0,
            "ticks": ""
           }
          },
          "colorscale": {
           "diverging": [
            [
             0,
             "#8e0152"
            ],
            [
             0.1,
             "#c51b7d"
            ],
            [
             0.2,
             "#de77ae"
            ],
            [
             0.3,
             "#f1b6da"
            ],
            [
             0.4,
             "#fde0ef"
            ],
            [
             0.5,
             "#f7f7f7"
            ],
            [
             0.6,
             "#e6f5d0"
            ],
            [
             0.7,
             "#b8e186"
            ],
            [
             0.8,
             "#7fbc41"
            ],
            [
             0.9,
             "#4d9221"
            ],
            [
             1,
             "#276419"
            ]
           ],
           "sequential": [
            [
             0,
             "#0d0887"
            ],
            [
             0.1111111111111111,
             "#46039f"
            ],
            [
             0.2222222222222222,
             "#7201a8"
            ],
            [
             0.3333333333333333,
             "#9c179e"
            ],
            [
             0.4444444444444444,
             "#bd3786"
            ],
            [
             0.5555555555555556,
             "#d8576b"
            ],
            [
             0.6666666666666666,
             "#ed7953"
            ],
            [
             0.7777777777777778,
             "#fb9f3a"
            ],
            [
             0.8888888888888888,
             "#fdca26"
            ],
            [
             1,
             "#f0f921"
            ]
           ],
           "sequentialminus": [
            [
             0,
             "#0d0887"
            ],
            [
             0.1111111111111111,
             "#46039f"
            ],
            [
             0.2222222222222222,
             "#7201a8"
            ],
            [
             0.3333333333333333,
             "#9c179e"
            ],
            [
             0.4444444444444444,
             "#bd3786"
            ],
            [
             0.5555555555555556,
             "#d8576b"
            ],
            [
             0.6666666666666666,
             "#ed7953"
            ],
            [
             0.7777777777777778,
             "#fb9f3a"
            ],
            [
             0.8888888888888888,
             "#fdca26"
            ],
            [
             1,
             "#f0f921"
            ]
           ]
          },
          "colorway": [
           "#636efa",
           "#EF553B",
           "#00cc96",
           "#ab63fa",
           "#FFA15A",
           "#19d3f3",
           "#FF6692",
           "#B6E880",
           "#FF97FF",
           "#FECB52"
          ],
          "font": {
           "color": "#2a3f5f"
          },
          "geo": {
           "bgcolor": "white",
           "lakecolor": "white",
           "landcolor": "white",
           "showlakes": true,
           "showland": true,
           "subunitcolor": "#C8D4E3"
          },
          "hoverlabel": {
           "align": "left"
          },
          "hovermode": "closest",
          "mapbox": {
           "style": "light"
          },
          "paper_bgcolor": "white",
          "plot_bgcolor": "white",
          "polar": {
           "angularaxis": {
            "gridcolor": "#EBF0F8",
            "linecolor": "#EBF0F8",
            "ticks": ""
           },
           "bgcolor": "white",
           "radialaxis": {
            "gridcolor": "#EBF0F8",
            "linecolor": "#EBF0F8",
            "ticks": ""
           }
          },
          "scene": {
           "xaxis": {
            "backgroundcolor": "white",
            "gridcolor": "#DFE8F3",
            "gridwidth": 2,
            "linecolor": "#EBF0F8",
            "showbackground": true,
            "ticks": "",
            "zerolinecolor": "#EBF0F8"
           },
           "yaxis": {
            "backgroundcolor": "white",
            "gridcolor": "#DFE8F3",
            "gridwidth": 2,
            "linecolor": "#EBF0F8",
            "showbackground": true,
            "ticks": "",
            "zerolinecolor": "#EBF0F8"
           },
           "zaxis": {
            "backgroundcolor": "white",
            "gridcolor": "#DFE8F3",
            "gridwidth": 2,
            "linecolor": "#EBF0F8",
            "showbackground": true,
            "ticks": "",
            "zerolinecolor": "#EBF0F8"
           }
          },
          "shapedefaults": {
           "line": {
            "color": "#2a3f5f"
           }
          },
          "ternary": {
           "aaxis": {
            "gridcolor": "#DFE8F3",
            "linecolor": "#A2B1C6",
            "ticks": ""
           },
           "baxis": {
            "gridcolor": "#DFE8F3",
            "linecolor": "#A2B1C6",
            "ticks": ""
           },
           "bgcolor": "white",
           "caxis": {
            "gridcolor": "#DFE8F3",
            "linecolor": "#A2B1C6",
            "ticks": ""
           }
          },
          "title": {
           "x": 0.05
          },
          "xaxis": {
           "automargin": true,
           "gridcolor": "#EBF0F8",
           "linecolor": "#EBF0F8",
           "ticks": "",
           "title": {
            "standoff": 15
           },
           "zerolinecolor": "#EBF0F8",
           "zerolinewidth": 2
          },
          "yaxis": {
           "automargin": true,
           "gridcolor": "#EBF0F8",
           "linecolor": "#EBF0F8",
           "ticks": "",
           "title": {
            "standoff": 15
           },
           "zerolinecolor": "#EBF0F8",
           "zerolinewidth": 2
          }
         }
        },
        "title": {
         "text": "Top 10 Least Popular Courses by Number of Students Enrolled"
        },
        "width": 950,
        "xaxis": {
         "anchor": "y",
         "domain": [
          0,
          1
         ],
         "title": {
          "text": "Course Title"
         }
        },
        "yaxis": {
         "anchor": "x",
         "domain": [
          0,
          1
         ],
         "showgrid": false,
         "title": {
          "text": "Students Enrolled"
         }
        }
       }
      },
      "text/html": [
       "<div>                            <div id=\"d4a42965-f8c7-4739-8e4d-f64086a81d6f\" class=\"plotly-graph-div\" style=\"height:800px; width:950px;\"></div>            <script type=\"text/javascript\">                require([\"plotly\"], function(Plotly) {                    window.PLOTLYENV=window.PLOTLYENV || {};                                    if (document.getElementById(\"d4a42965-f8c7-4739-8e4d-f64086a81d6f\")) {                    Plotly.newPlot(                        \"d4a42965-f8c7-4739-8e4d-f64086a81d6f\",                        [{\"alignmentgroup\":\"True\",\"hovertemplate\":\"\\u003cb\\u003e%{hovertext}\\u003c\\u002fb\\u003e\\u003cbr\\u003e\\u003cbr\\u003eCourse Title=%{x}\\u003cbr\\u003eStudents Enrolled=%{text}\\u003cextra\\u003e\\u003c\\u002fextra\\u003e\",\"hovertext\":[\"El Abogado del Futuro: Legaltech y la Transformaci\\u00f3n Digital del Derecho\",\"Blockchain Revolution in Financial Services\",\"Infectious Disease Modelling\",\"Healthcare Law\",\"The Pronunciation of American English\",\"Identifying, Monitoring, and Analyzing Risk and Incident Response and Recovery\",\"Esports\",\"Blended Language Learning: Design and Practice for Teachers\",\"Implementing RPA with Cognitive Automation and Analytics\",\"International Security Management\"],\"legendgroup\":\"\",\"marker\":{\"color\":\"rgb(255,127,127)\",\"pattern\":{\"shape\":\"\"}},\"name\":\"\",\"offsetgroup\":\"\",\"orientation\":\"v\",\"showlegend\":false,\"text\":[1500.0,1600.0,1600.0,1700.0,1700.0,1700.0,1800.0,1900.0,2200.0,2200.0],\"textposition\":\"outside\",\"x\":[\"El Abogado del Futuro: Legaltech y la Transformaci\\u00f3n Digital del Derecho\",\"Blockchain Revolution in Financial Services\",\"Infectious Disease Modelling\",\"Healthcare Law\",\"The Pronunciation of American English\",\"Identifying, Monitoring, and Analyzing Risk and Incident Response and Recovery\",\"Esports\",\"Blended Language Learning: Design and Practice for Teachers\",\"Implementing RPA with Cognitive Automation and Analytics\",\"International Security Management\"],\"xaxis\":\"x\",\"y\":[1500.0,1600.0,1600.0,1700.0,1700.0,1700.0,1800.0,1900.0,2200.0,2200.0],\"yaxis\":\"y\",\"type\":\"bar\",\"texttemplate\":\"%{text:.2s}\"}],                        {\"template\":{\"data\":{\"barpolar\":[{\"marker\":{\"line\":{\"color\":\"white\",\"width\":0.5},\"pattern\":{\"fillmode\":\"overlay\",\"size\":10,\"solidity\":0.2}},\"type\":\"barpolar\"}],\"bar\":[{\"error_x\":{\"color\":\"#2a3f5f\"},\"error_y\":{\"color\":\"#2a3f5f\"},\"marker\":{\"line\":{\"color\":\"white\",\"width\":0.5},\"pattern\":{\"fillmode\":\"overlay\",\"size\":10,\"solidity\":0.2}},\"type\":\"bar\"}],\"carpet\":[{\"aaxis\":{\"endlinecolor\":\"#2a3f5f\",\"gridcolor\":\"#C8D4E3\",\"linecolor\":\"#C8D4E3\",\"minorgridcolor\":\"#C8D4E3\",\"startlinecolor\":\"#2a3f5f\"},\"baxis\":{\"endlinecolor\":\"#2a3f5f\",\"gridcolor\":\"#C8D4E3\",\"linecolor\":\"#C8D4E3\",\"minorgridcolor\":\"#C8D4E3\",\"startlinecolor\":\"#2a3f5f\"},\"type\":\"carpet\"}],\"choropleth\":[{\"colorbar\":{\"outlinewidth\":0,\"ticks\":\"\"},\"type\":\"choropleth\"}],\"contourcarpet\":[{\"colorbar\":{\"outlinewidth\":0,\"ticks\":\"\"},\"type\":\"contourcarpet\"}],\"contour\":[{\"colorbar\":{\"outlinewidth\":0,\"ticks\":\"\"},\"colorscale\":[[0.0,\"#0d0887\"],[0.1111111111111111,\"#46039f\"],[0.2222222222222222,\"#7201a8\"],[0.3333333333333333,\"#9c179e\"],[0.4444444444444444,\"#bd3786\"],[0.5555555555555556,\"#d8576b\"],[0.6666666666666666,\"#ed7953\"],[0.7777777777777778,\"#fb9f3a\"],[0.8888888888888888,\"#fdca26\"],[1.0,\"#f0f921\"]],\"type\":\"contour\"}],\"heatmapgl\":[{\"colorbar\":{\"outlinewidth\":0,\"ticks\":\"\"},\"colorscale\":[[0.0,\"#0d0887\"],[0.1111111111111111,\"#46039f\"],[0.2222222222222222,\"#7201a8\"],[0.3333333333333333,\"#9c179e\"],[0.4444444444444444,\"#bd3786\"],[0.5555555555555556,\"#d8576b\"],[0.6666666666666666,\"#ed7953\"],[0.7777777777777778,\"#fb9f3a\"],[0.8888888888888888,\"#fdca26\"],[1.0,\"#f0f921\"]],\"type\":\"heatmapgl\"}],\"heatmap\":[{\"colorbar\":{\"outlinewidth\":0,\"ticks\":\"\"},\"colorscale\":[[0.0,\"#0d0887\"],[0.1111111111111111,\"#46039f\"],[0.2222222222222222,\"#7201a8\"],[0.3333333333333333,\"#9c179e\"],[0.4444444444444444,\"#bd3786\"],[0.5555555555555556,\"#d8576b\"],[0.6666666666666666,\"#ed7953\"],[0.7777777777777778,\"#fb9f3a\"],[0.8888888888888888,\"#fdca26\"],[1.0,\"#f0f921\"]],\"type\":\"heatmap\"}],\"histogram2dcontour\":[{\"colorbar\":{\"outlinewidth\":0,\"ticks\":\"\"},\"colorscale\":[[0.0,\"#0d0887\"],[0.1111111111111111,\"#46039f\"],[0.2222222222222222,\"#7201a8\"],[0.3333333333333333,\"#9c179e\"],[0.4444444444444444,\"#bd3786\"],[0.5555555555555556,\"#d8576b\"],[0.6666666666666666,\"#ed7953\"],[0.7777777777777778,\"#fb9f3a\"],[0.8888888888888888,\"#fdca26\"],[1.0,\"#f0f921\"]],\"type\":\"histogram2dcontour\"}],\"histogram2d\":[{\"colorbar\":{\"outlinewidth\":0,\"ticks\":\"\"},\"colorscale\":[[0.0,\"#0d0887\"],[0.1111111111111111,\"#46039f\"],[0.2222222222222222,\"#7201a8\"],[0.3333333333333333,\"#9c179e\"],[0.4444444444444444,\"#bd3786\"],[0.5555555555555556,\"#d8576b\"],[0.6666666666666666,\"#ed7953\"],[0.7777777777777778,\"#fb9f3a\"],[0.8888888888888888,\"#fdca26\"],[1.0,\"#f0f921\"]],\"type\":\"histogram2d\"}],\"histogram\":[{\"marker\":{\"pattern\":{\"fillmode\":\"overlay\",\"size\":10,\"solidity\":0.2}},\"type\":\"histogram\"}],\"mesh3d\":[{\"colorbar\":{\"outlinewidth\":0,\"ticks\":\"\"},\"type\":\"mesh3d\"}],\"parcoords\":[{\"line\":{\"colorbar\":{\"outlinewidth\":0,\"ticks\":\"\"}},\"type\":\"parcoords\"}],\"pie\":[{\"automargin\":true,\"type\":\"pie\"}],\"scatter3d\":[{\"line\":{\"colorbar\":{\"outlinewidth\":0,\"ticks\":\"\"}},\"marker\":{\"colorbar\":{\"outlinewidth\":0,\"ticks\":\"\"}},\"type\":\"scatter3d\"}],\"scattercarpet\":[{\"marker\":{\"colorbar\":{\"outlinewidth\":0,\"ticks\":\"\"}},\"type\":\"scattercarpet\"}],\"scattergeo\":[{\"marker\":{\"colorbar\":{\"outlinewidth\":0,\"ticks\":\"\"}},\"type\":\"scattergeo\"}],\"scattergl\":[{\"marker\":{\"colorbar\":{\"outlinewidth\":0,\"ticks\":\"\"}},\"type\":\"scattergl\"}],\"scattermapbox\":[{\"marker\":{\"colorbar\":{\"outlinewidth\":0,\"ticks\":\"\"}},\"type\":\"scattermapbox\"}],\"scatterpolargl\":[{\"marker\":{\"colorbar\":{\"outlinewidth\":0,\"ticks\":\"\"}},\"type\":\"scatterpolargl\"}],\"scatterpolar\":[{\"marker\":{\"colorbar\":{\"outlinewidth\":0,\"ticks\":\"\"}},\"type\":\"scatterpolar\"}],\"scatter\":[{\"fillpattern\":{\"fillmode\":\"overlay\",\"size\":10,\"solidity\":0.2},\"type\":\"scatter\"}],\"scatterternary\":[{\"marker\":{\"colorbar\":{\"outlinewidth\":0,\"ticks\":\"\"}},\"type\":\"scatterternary\"}],\"surface\":[{\"colorbar\":{\"outlinewidth\":0,\"ticks\":\"\"},\"colorscale\":[[0.0,\"#0d0887\"],[0.1111111111111111,\"#46039f\"],[0.2222222222222222,\"#7201a8\"],[0.3333333333333333,\"#9c179e\"],[0.4444444444444444,\"#bd3786\"],[0.5555555555555556,\"#d8576b\"],[0.6666666666666666,\"#ed7953\"],[0.7777777777777778,\"#fb9f3a\"],[0.8888888888888888,\"#fdca26\"],[1.0,\"#f0f921\"]],\"type\":\"surface\"}],\"table\":[{\"cells\":{\"fill\":{\"color\":\"#EBF0F8\"},\"line\":{\"color\":\"white\"}},\"header\":{\"fill\":{\"color\":\"#C8D4E3\"},\"line\":{\"color\":\"white\"}},\"type\":\"table\"}]},\"layout\":{\"annotationdefaults\":{\"arrowcolor\":\"#2a3f5f\",\"arrowhead\":0,\"arrowwidth\":1},\"autotypenumbers\":\"strict\",\"coloraxis\":{\"colorbar\":{\"outlinewidth\":0,\"ticks\":\"\"}},\"colorscale\":{\"diverging\":[[0,\"#8e0152\"],[0.1,\"#c51b7d\"],[0.2,\"#de77ae\"],[0.3,\"#f1b6da\"],[0.4,\"#fde0ef\"],[0.5,\"#f7f7f7\"],[0.6,\"#e6f5d0\"],[0.7,\"#b8e186\"],[0.8,\"#7fbc41\"],[0.9,\"#4d9221\"],[1,\"#276419\"]],\"sequential\":[[0.0,\"#0d0887\"],[0.1111111111111111,\"#46039f\"],[0.2222222222222222,\"#7201a8\"],[0.3333333333333333,\"#9c179e\"],[0.4444444444444444,\"#bd3786\"],[0.5555555555555556,\"#d8576b\"],[0.6666666666666666,\"#ed7953\"],[0.7777777777777778,\"#fb9f3a\"],[0.8888888888888888,\"#fdca26\"],[1.0,\"#f0f921\"]],\"sequentialminus\":[[0.0,\"#0d0887\"],[0.1111111111111111,\"#46039f\"],[0.2222222222222222,\"#7201a8\"],[0.3333333333333333,\"#9c179e\"],[0.4444444444444444,\"#bd3786\"],[0.5555555555555556,\"#d8576b\"],[0.6666666666666666,\"#ed7953\"],[0.7777777777777778,\"#fb9f3a\"],[0.8888888888888888,\"#fdca26\"],[1.0,\"#f0f921\"]]},\"colorway\":[\"#636efa\",\"#EF553B\",\"#00cc96\",\"#ab63fa\",\"#FFA15A\",\"#19d3f3\",\"#FF6692\",\"#B6E880\",\"#FF97FF\",\"#FECB52\"],\"font\":{\"color\":\"#2a3f5f\"},\"geo\":{\"bgcolor\":\"white\",\"lakecolor\":\"white\",\"landcolor\":\"white\",\"showlakes\":true,\"showland\":true,\"subunitcolor\":\"#C8D4E3\"},\"hoverlabel\":{\"align\":\"left\"},\"hovermode\":\"closest\",\"mapbox\":{\"style\":\"light\"},\"paper_bgcolor\":\"white\",\"plot_bgcolor\":\"white\",\"polar\":{\"angularaxis\":{\"gridcolor\":\"#EBF0F8\",\"linecolor\":\"#EBF0F8\",\"ticks\":\"\"},\"bgcolor\":\"white\",\"radialaxis\":{\"gridcolor\":\"#EBF0F8\",\"linecolor\":\"#EBF0F8\",\"ticks\":\"\"}},\"scene\":{\"xaxis\":{\"backgroundcolor\":\"white\",\"gridcolor\":\"#DFE8F3\",\"gridwidth\":2,\"linecolor\":\"#EBF0F8\",\"showbackground\":true,\"ticks\":\"\",\"zerolinecolor\":\"#EBF0F8\"},\"yaxis\":{\"backgroundcolor\":\"white\",\"gridcolor\":\"#DFE8F3\",\"gridwidth\":2,\"linecolor\":\"#EBF0F8\",\"showbackground\":true,\"ticks\":\"\",\"zerolinecolor\":\"#EBF0F8\"},\"zaxis\":{\"backgroundcolor\":\"white\",\"gridcolor\":\"#DFE8F3\",\"gridwidth\":2,\"linecolor\":\"#EBF0F8\",\"showbackground\":true,\"ticks\":\"\",\"zerolinecolor\":\"#EBF0F8\"}},\"shapedefaults\":{\"line\":{\"color\":\"#2a3f5f\"}},\"ternary\":{\"aaxis\":{\"gridcolor\":\"#DFE8F3\",\"linecolor\":\"#A2B1C6\",\"ticks\":\"\"},\"baxis\":{\"gridcolor\":\"#DFE8F3\",\"linecolor\":\"#A2B1C6\",\"ticks\":\"\"},\"bgcolor\":\"white\",\"caxis\":{\"gridcolor\":\"#DFE8F3\",\"linecolor\":\"#A2B1C6\",\"ticks\":\"\"}},\"title\":{\"x\":0.05},\"xaxis\":{\"automargin\":true,\"gridcolor\":\"#EBF0F8\",\"linecolor\":\"#EBF0F8\",\"ticks\":\"\",\"title\":{\"standoff\":15},\"zerolinecolor\":\"#EBF0F8\",\"zerolinewidth\":2},\"yaxis\":{\"automargin\":true,\"gridcolor\":\"#EBF0F8\",\"linecolor\":\"#EBF0F8\",\"ticks\":\"\",\"title\":{\"standoff\":15},\"zerolinecolor\":\"#EBF0F8\",\"zerolinewidth\":2}}},\"xaxis\":{\"anchor\":\"y\",\"domain\":[0.0,1.0],\"title\":{\"text\":\"Course Title\"}},\"yaxis\":{\"anchor\":\"x\",\"domain\":[0.0,1.0],\"title\":{\"text\":\"Students Enrolled\"},\"showgrid\":false},\"legend\":{\"tracegroupgap\":0},\"title\":{\"text\":\"Top 10 Least Popular Courses by Number of Students Enrolled\"},\"barmode\":\"relative\",\"font\":{\"size\":14},\"width\":950,\"height\":800},                        {\"responsive\": true}                    ).then(function(){\n",
       "                            \n",
       "var gd = document.getElementById('d4a42965-f8c7-4739-8e4d-f64086a81d6f');\n",
       "var x = new MutationObserver(function (mutations, observer) {{\n",
       "        var display = window.getComputedStyle(gd).display;\n",
       "        if (!display || display === 'none') {{\n",
       "            console.log([gd, 'removed!']);\n",
       "            Plotly.purge(gd);\n",
       "            observer.disconnect();\n",
       "        }}\n",
       "}});\n",
       "\n",
       "// Listen for the removal of the full notebook cells\n",
       "var notebookContainer = gd.closest('#notebook-container');\n",
       "if (notebookContainer) {{\n",
       "    x.observe(notebookContainer, {childList: true});\n",
       "}}\n",
       "\n",
       "// Listen for the clearing of the current output cell\n",
       "var outputEl = gd.closest('.output');\n",
       "if (outputEl) {{\n",
       "    x.observe(outputEl, {childList: true});\n",
       "}}\n",
       "\n",
       "                        })                };                });            </script>        </div>"
      ]
     },
     "metadata": {},
     "output_type": "display_data"
    }
   ],
   "source": [
    "#Define least popular courses by student enrollment\n",
    "top_10_worst_courses_by_students = courses_by_students.tail(10)\\\n",
    "    .sort_values(by=\"course_students_enrolled_float\", ascending=True)\n",
    "\n",
    "#Plot a bar chart displaying least popular courses by student enrollment\n",
    "fig_5 = px.bar(top_10_worst_courses_by_students,\n",
    "               x=\"course_title\", y=\"course_students_enrolled_float\",\n",
    "               title=\"Top 10 Least Popular Courses by Number of Students Enrolled\",\n",
    "               labels={\"course_students_enrolled_float\":\"Students Enrolled\",\\\n",
    "                        \"course_title\" : \"Course Title\"},\n",
    "               text=\"course_students_enrolled_float\",\n",
    "               template=\"plotly_white\",\n",
    "               hover_name=\"course_title\")\n",
    "\n",
    "fig_5.update_traces(texttemplate='%{text:.2s}',\n",
    "                    textposition='outside',\n",
    "                    marker_color=\"rgb(255,127,127)\")\n",
    "\n",
    "fig_5.update_layout(font=dict(size=14),\n",
    "                  width=950,\n",
    "                  height=800,\n",
    "                  yaxis=dict(showgrid=False))\n",
    "\n",
    "fig_5.show()"
   ]
  },
  {
   "cell_type": "markdown",
   "metadata": {},
   "source": [
    "> 4.8. Which courses are the least popular (by course rating)?"
   ]
  },
  {
   "cell_type": "code",
   "execution_count": 22,
   "metadata": {},
   "outputs": [
    {
     "data": {
      "application/vnd.plotly.v1+json": {
       "config": {
        "plotlyServerURL": "https://plot.ly"
       },
       "data": [
        {
         "alignmentgroup": "True",
         "hovertemplate": "<b>%{hovertext}</b><br><br>Course Title=%{x}<br>Course Rating=%{text}<extra></extra>",
         "hovertext": [
          "How To Create a Website in a Weekend! (Project-Centered Course)",
          "Machine Learning and Reinforcement Learning in Finance",
          "iOS App Development with Swift",
          "Machine Learning for Trading",
          "Introduction to Trading, Machine Learning & GCP",
          "Mathematics for Machine Learning: PCA",
          "How to Start Your Own Business",
          "Cybersecurity and Its Ten Domains",
          "Optical Engineering",
          "Hardware Description Languages for FPGA Design"
         ],
         "legendgroup": "",
         "marker": {
          "color": "rgb(255,127,127)",
          "pattern": {
           "shape": ""
          }
         },
         "name": "",
         "offsetgroup": "",
         "orientation": "v",
         "showlegend": false,
         "text": [
          3.3,
          3.7,
          3.9,
          3.9,
          4,
          4,
          4.1,
          4.2,
          4.2,
          4.2
         ],
         "textposition": "outside",
         "texttemplate": "%{text:.2s}",
         "type": "bar",
         "x": [
          "How To Create a Website in a Weekend! (Project-Centered Course)",
          "Machine Learning and Reinforcement Learning in Finance",
          "iOS App Development with Swift",
          "Machine Learning for Trading",
          "Introduction to Trading, Machine Learning & GCP",
          "Mathematics for Machine Learning: PCA",
          "How to Start Your Own Business",
          "Cybersecurity and Its Ten Domains",
          "Optical Engineering",
          "Hardware Description Languages for FPGA Design"
         ],
         "xaxis": "x",
         "y": [
          3.3,
          3.7,
          3.9,
          3.9,
          4,
          4,
          4.1,
          4.2,
          4.2,
          4.2
         ],
         "yaxis": "y"
        }
       ],
       "layout": {
        "barmode": "relative",
        "font": {
         "size": 14
        },
        "height": 800,
        "legend": {
         "tracegroupgap": 0
        },
        "template": {
         "data": {
          "bar": [
           {
            "error_x": {
             "color": "#2a3f5f"
            },
            "error_y": {
             "color": "#2a3f5f"
            },
            "marker": {
             "line": {
              "color": "white",
              "width": 0.5
             },
             "pattern": {
              "fillmode": "overlay",
              "size": 10,
              "solidity": 0.2
             }
            },
            "type": "bar"
           }
          ],
          "barpolar": [
           {
            "marker": {
             "line": {
              "color": "white",
              "width": 0.5
             },
             "pattern": {
              "fillmode": "overlay",
              "size": 10,
              "solidity": 0.2
             }
            },
            "type": "barpolar"
           }
          ],
          "carpet": [
           {
            "aaxis": {
             "endlinecolor": "#2a3f5f",
             "gridcolor": "#C8D4E3",
             "linecolor": "#C8D4E3",
             "minorgridcolor": "#C8D4E3",
             "startlinecolor": "#2a3f5f"
            },
            "baxis": {
             "endlinecolor": "#2a3f5f",
             "gridcolor": "#C8D4E3",
             "linecolor": "#C8D4E3",
             "minorgridcolor": "#C8D4E3",
             "startlinecolor": "#2a3f5f"
            },
            "type": "carpet"
           }
          ],
          "choropleth": [
           {
            "colorbar": {
             "outlinewidth": 0,
             "ticks": ""
            },
            "type": "choropleth"
           }
          ],
          "contour": [
           {
            "colorbar": {
             "outlinewidth": 0,
             "ticks": ""
            },
            "colorscale": [
             [
              0,
              "#0d0887"
             ],
             [
              0.1111111111111111,
              "#46039f"
             ],
             [
              0.2222222222222222,
              "#7201a8"
             ],
             [
              0.3333333333333333,
              "#9c179e"
             ],
             [
              0.4444444444444444,
              "#bd3786"
             ],
             [
              0.5555555555555556,
              "#d8576b"
             ],
             [
              0.6666666666666666,
              "#ed7953"
             ],
             [
              0.7777777777777778,
              "#fb9f3a"
             ],
             [
              0.8888888888888888,
              "#fdca26"
             ],
             [
              1,
              "#f0f921"
             ]
            ],
            "type": "contour"
           }
          ],
          "contourcarpet": [
           {
            "colorbar": {
             "outlinewidth": 0,
             "ticks": ""
            },
            "type": "contourcarpet"
           }
          ],
          "heatmap": [
           {
            "colorbar": {
             "outlinewidth": 0,
             "ticks": ""
            },
            "colorscale": [
             [
              0,
              "#0d0887"
             ],
             [
              0.1111111111111111,
              "#46039f"
             ],
             [
              0.2222222222222222,
              "#7201a8"
             ],
             [
              0.3333333333333333,
              "#9c179e"
             ],
             [
              0.4444444444444444,
              "#bd3786"
             ],
             [
              0.5555555555555556,
              "#d8576b"
             ],
             [
              0.6666666666666666,
              "#ed7953"
             ],
             [
              0.7777777777777778,
              "#fb9f3a"
             ],
             [
              0.8888888888888888,
              "#fdca26"
             ],
             [
              1,
              "#f0f921"
             ]
            ],
            "type": "heatmap"
           }
          ],
          "heatmapgl": [
           {
            "colorbar": {
             "outlinewidth": 0,
             "ticks": ""
            },
            "colorscale": [
             [
              0,
              "#0d0887"
             ],
             [
              0.1111111111111111,
              "#46039f"
             ],
             [
              0.2222222222222222,
              "#7201a8"
             ],
             [
              0.3333333333333333,
              "#9c179e"
             ],
             [
              0.4444444444444444,
              "#bd3786"
             ],
             [
              0.5555555555555556,
              "#d8576b"
             ],
             [
              0.6666666666666666,
              "#ed7953"
             ],
             [
              0.7777777777777778,
              "#fb9f3a"
             ],
             [
              0.8888888888888888,
              "#fdca26"
             ],
             [
              1,
              "#f0f921"
             ]
            ],
            "type": "heatmapgl"
           }
          ],
          "histogram": [
           {
            "marker": {
             "pattern": {
              "fillmode": "overlay",
              "size": 10,
              "solidity": 0.2
             }
            },
            "type": "histogram"
           }
          ],
          "histogram2d": [
           {
            "colorbar": {
             "outlinewidth": 0,
             "ticks": ""
            },
            "colorscale": [
             [
              0,
              "#0d0887"
             ],
             [
              0.1111111111111111,
              "#46039f"
             ],
             [
              0.2222222222222222,
              "#7201a8"
             ],
             [
              0.3333333333333333,
              "#9c179e"
             ],
             [
              0.4444444444444444,
              "#bd3786"
             ],
             [
              0.5555555555555556,
              "#d8576b"
             ],
             [
              0.6666666666666666,
              "#ed7953"
             ],
             [
              0.7777777777777778,
              "#fb9f3a"
             ],
             [
              0.8888888888888888,
              "#fdca26"
             ],
             [
              1,
              "#f0f921"
             ]
            ],
            "type": "histogram2d"
           }
          ],
          "histogram2dcontour": [
           {
            "colorbar": {
             "outlinewidth": 0,
             "ticks": ""
            },
            "colorscale": [
             [
              0,
              "#0d0887"
             ],
             [
              0.1111111111111111,
              "#46039f"
             ],
             [
              0.2222222222222222,
              "#7201a8"
             ],
             [
              0.3333333333333333,
              "#9c179e"
             ],
             [
              0.4444444444444444,
              "#bd3786"
             ],
             [
              0.5555555555555556,
              "#d8576b"
             ],
             [
              0.6666666666666666,
              "#ed7953"
             ],
             [
              0.7777777777777778,
              "#fb9f3a"
             ],
             [
              0.8888888888888888,
              "#fdca26"
             ],
             [
              1,
              "#f0f921"
             ]
            ],
            "type": "histogram2dcontour"
           }
          ],
          "mesh3d": [
           {
            "colorbar": {
             "outlinewidth": 0,
             "ticks": ""
            },
            "type": "mesh3d"
           }
          ],
          "parcoords": [
           {
            "line": {
             "colorbar": {
              "outlinewidth": 0,
              "ticks": ""
             }
            },
            "type": "parcoords"
           }
          ],
          "pie": [
           {
            "automargin": true,
            "type": "pie"
           }
          ],
          "scatter": [
           {
            "fillpattern": {
             "fillmode": "overlay",
             "size": 10,
             "solidity": 0.2
            },
            "type": "scatter"
           }
          ],
          "scatter3d": [
           {
            "line": {
             "colorbar": {
              "outlinewidth": 0,
              "ticks": ""
             }
            },
            "marker": {
             "colorbar": {
              "outlinewidth": 0,
              "ticks": ""
             }
            },
            "type": "scatter3d"
           }
          ],
          "scattercarpet": [
           {
            "marker": {
             "colorbar": {
              "outlinewidth": 0,
              "ticks": ""
             }
            },
            "type": "scattercarpet"
           }
          ],
          "scattergeo": [
           {
            "marker": {
             "colorbar": {
              "outlinewidth": 0,
              "ticks": ""
             }
            },
            "type": "scattergeo"
           }
          ],
          "scattergl": [
           {
            "marker": {
             "colorbar": {
              "outlinewidth": 0,
              "ticks": ""
             }
            },
            "type": "scattergl"
           }
          ],
          "scattermapbox": [
           {
            "marker": {
             "colorbar": {
              "outlinewidth": 0,
              "ticks": ""
             }
            },
            "type": "scattermapbox"
           }
          ],
          "scatterpolar": [
           {
            "marker": {
             "colorbar": {
              "outlinewidth": 0,
              "ticks": ""
             }
            },
            "type": "scatterpolar"
           }
          ],
          "scatterpolargl": [
           {
            "marker": {
             "colorbar": {
              "outlinewidth": 0,
              "ticks": ""
             }
            },
            "type": "scatterpolargl"
           }
          ],
          "scatterternary": [
           {
            "marker": {
             "colorbar": {
              "outlinewidth": 0,
              "ticks": ""
             }
            },
            "type": "scatterternary"
           }
          ],
          "surface": [
           {
            "colorbar": {
             "outlinewidth": 0,
             "ticks": ""
            },
            "colorscale": [
             [
              0,
              "#0d0887"
             ],
             [
              0.1111111111111111,
              "#46039f"
             ],
             [
              0.2222222222222222,
              "#7201a8"
             ],
             [
              0.3333333333333333,
              "#9c179e"
             ],
             [
              0.4444444444444444,
              "#bd3786"
             ],
             [
              0.5555555555555556,
              "#d8576b"
             ],
             [
              0.6666666666666666,
              "#ed7953"
             ],
             [
              0.7777777777777778,
              "#fb9f3a"
             ],
             [
              0.8888888888888888,
              "#fdca26"
             ],
             [
              1,
              "#f0f921"
             ]
            ],
            "type": "surface"
           }
          ],
          "table": [
           {
            "cells": {
             "fill": {
              "color": "#EBF0F8"
             },
             "line": {
              "color": "white"
             }
            },
            "header": {
             "fill": {
              "color": "#C8D4E3"
             },
             "line": {
              "color": "white"
             }
            },
            "type": "table"
           }
          ]
         },
         "layout": {
          "annotationdefaults": {
           "arrowcolor": "#2a3f5f",
           "arrowhead": 0,
           "arrowwidth": 1
          },
          "autotypenumbers": "strict",
          "coloraxis": {
           "colorbar": {
            "outlinewidth": 0,
            "ticks": ""
           }
          },
          "colorscale": {
           "diverging": [
            [
             0,
             "#8e0152"
            ],
            [
             0.1,
             "#c51b7d"
            ],
            [
             0.2,
             "#de77ae"
            ],
            [
             0.3,
             "#f1b6da"
            ],
            [
             0.4,
             "#fde0ef"
            ],
            [
             0.5,
             "#f7f7f7"
            ],
            [
             0.6,
             "#e6f5d0"
            ],
            [
             0.7,
             "#b8e186"
            ],
            [
             0.8,
             "#7fbc41"
            ],
            [
             0.9,
             "#4d9221"
            ],
            [
             1,
             "#276419"
            ]
           ],
           "sequential": [
            [
             0,
             "#0d0887"
            ],
            [
             0.1111111111111111,
             "#46039f"
            ],
            [
             0.2222222222222222,
             "#7201a8"
            ],
            [
             0.3333333333333333,
             "#9c179e"
            ],
            [
             0.4444444444444444,
             "#bd3786"
            ],
            [
             0.5555555555555556,
             "#d8576b"
            ],
            [
             0.6666666666666666,
             "#ed7953"
            ],
            [
             0.7777777777777778,
             "#fb9f3a"
            ],
            [
             0.8888888888888888,
             "#fdca26"
            ],
            [
             1,
             "#f0f921"
            ]
           ],
           "sequentialminus": [
            [
             0,
             "#0d0887"
            ],
            [
             0.1111111111111111,
             "#46039f"
            ],
            [
             0.2222222222222222,
             "#7201a8"
            ],
            [
             0.3333333333333333,
             "#9c179e"
            ],
            [
             0.4444444444444444,
             "#bd3786"
            ],
            [
             0.5555555555555556,
             "#d8576b"
            ],
            [
             0.6666666666666666,
             "#ed7953"
            ],
            [
             0.7777777777777778,
             "#fb9f3a"
            ],
            [
             0.8888888888888888,
             "#fdca26"
            ],
            [
             1,
             "#f0f921"
            ]
           ]
          },
          "colorway": [
           "#636efa",
           "#EF553B",
           "#00cc96",
           "#ab63fa",
           "#FFA15A",
           "#19d3f3",
           "#FF6692",
           "#B6E880",
           "#FF97FF",
           "#FECB52"
          ],
          "font": {
           "color": "#2a3f5f"
          },
          "geo": {
           "bgcolor": "white",
           "lakecolor": "white",
           "landcolor": "white",
           "showlakes": true,
           "showland": true,
           "subunitcolor": "#C8D4E3"
          },
          "hoverlabel": {
           "align": "left"
          },
          "hovermode": "closest",
          "mapbox": {
           "style": "light"
          },
          "paper_bgcolor": "white",
          "plot_bgcolor": "white",
          "polar": {
           "angularaxis": {
            "gridcolor": "#EBF0F8",
            "linecolor": "#EBF0F8",
            "ticks": ""
           },
           "bgcolor": "white",
           "radialaxis": {
            "gridcolor": "#EBF0F8",
            "linecolor": "#EBF0F8",
            "ticks": ""
           }
          },
          "scene": {
           "xaxis": {
            "backgroundcolor": "white",
            "gridcolor": "#DFE8F3",
            "gridwidth": 2,
            "linecolor": "#EBF0F8",
            "showbackground": true,
            "ticks": "",
            "zerolinecolor": "#EBF0F8"
           },
           "yaxis": {
            "backgroundcolor": "white",
            "gridcolor": "#DFE8F3",
            "gridwidth": 2,
            "linecolor": "#EBF0F8",
            "showbackground": true,
            "ticks": "",
            "zerolinecolor": "#EBF0F8"
           },
           "zaxis": {
            "backgroundcolor": "white",
            "gridcolor": "#DFE8F3",
            "gridwidth": 2,
            "linecolor": "#EBF0F8",
            "showbackground": true,
            "ticks": "",
            "zerolinecolor": "#EBF0F8"
           }
          },
          "shapedefaults": {
           "line": {
            "color": "#2a3f5f"
           }
          },
          "ternary": {
           "aaxis": {
            "gridcolor": "#DFE8F3",
            "linecolor": "#A2B1C6",
            "ticks": ""
           },
           "baxis": {
            "gridcolor": "#DFE8F3",
            "linecolor": "#A2B1C6",
            "ticks": ""
           },
           "bgcolor": "white",
           "caxis": {
            "gridcolor": "#DFE8F3",
            "linecolor": "#A2B1C6",
            "ticks": ""
           }
          },
          "title": {
           "x": 0.05
          },
          "xaxis": {
           "automargin": true,
           "gridcolor": "#EBF0F8",
           "linecolor": "#EBF0F8",
           "ticks": "",
           "title": {
            "standoff": 15
           },
           "zerolinecolor": "#EBF0F8",
           "zerolinewidth": 2
          },
          "yaxis": {
           "automargin": true,
           "gridcolor": "#EBF0F8",
           "linecolor": "#EBF0F8",
           "ticks": "",
           "title": {
            "standoff": 15
           },
           "zerolinecolor": "#EBF0F8",
           "zerolinewidth": 2
          }
         }
        },
        "title": {
         "text": "Top 10 Least Popular Courses by Course Rating",
         "x": 0.4
        },
        "width": 950,
        "xaxis": {
         "anchor": "y",
         "domain": [
          0,
          1
         ],
         "title": {
          "text": "Course Title"
         }
        },
        "yaxis": {
         "anchor": "x",
         "domain": [
          0,
          1
         ],
         "showgrid": false,
         "title": {
          "text": "Course Rating"
         }
        }
       }
      },
      "text/html": [
       "<div>                            <div id=\"7f61ed7f-e3fc-4a27-b610-0ddad2675339\" class=\"plotly-graph-div\" style=\"height:800px; width:950px;\"></div>            <script type=\"text/javascript\">                require([\"plotly\"], function(Plotly) {                    window.PLOTLYENV=window.PLOTLYENV || {};                                    if (document.getElementById(\"7f61ed7f-e3fc-4a27-b610-0ddad2675339\")) {                    Plotly.newPlot(                        \"7f61ed7f-e3fc-4a27-b610-0ddad2675339\",                        [{\"alignmentgroup\":\"True\",\"hovertemplate\":\"\\u003cb\\u003e%{hovertext}\\u003c\\u002fb\\u003e\\u003cbr\\u003e\\u003cbr\\u003eCourse Title=%{x}\\u003cbr\\u003eCourse Rating=%{text}\\u003cextra\\u003e\\u003c\\u002fextra\\u003e\",\"hovertext\":[\"How To Create a Website in a Weekend! (Project-Centered Course)\",\"Machine Learning and Reinforcement Learning in Finance\",\"iOS App Development with Swift\",\"Machine Learning for Trading\",\"Introduction to Trading, Machine Learning & GCP\",\"Mathematics for Machine Learning: PCA\",\"How to Start Your Own Business\",\"Cybersecurity and Its Ten Domains\",\"Optical Engineering\",\"Hardware Description Languages for FPGA Design\"],\"legendgroup\":\"\",\"marker\":{\"color\":\"rgb(255,127,127)\",\"pattern\":{\"shape\":\"\"}},\"name\":\"\",\"offsetgroup\":\"\",\"orientation\":\"v\",\"showlegend\":false,\"text\":[3.3,3.7,3.9,3.9,4.0,4.0,4.1,4.2,4.2,4.2],\"textposition\":\"outside\",\"x\":[\"How To Create a Website in a Weekend! (Project-Centered Course)\",\"Machine Learning and Reinforcement Learning in Finance\",\"iOS App Development with Swift\",\"Machine Learning for Trading\",\"Introduction to Trading, Machine Learning & GCP\",\"Mathematics for Machine Learning: PCA\",\"How to Start Your Own Business\",\"Cybersecurity and Its Ten Domains\",\"Optical Engineering\",\"Hardware Description Languages for FPGA Design\"],\"xaxis\":\"x\",\"y\":[3.3,3.7,3.9,3.9,4.0,4.0,4.1,4.2,4.2,4.2],\"yaxis\":\"y\",\"type\":\"bar\",\"texttemplate\":\"%{text:.2s}\"}],                        {\"template\":{\"data\":{\"barpolar\":[{\"marker\":{\"line\":{\"color\":\"white\",\"width\":0.5},\"pattern\":{\"fillmode\":\"overlay\",\"size\":10,\"solidity\":0.2}},\"type\":\"barpolar\"}],\"bar\":[{\"error_x\":{\"color\":\"#2a3f5f\"},\"error_y\":{\"color\":\"#2a3f5f\"},\"marker\":{\"line\":{\"color\":\"white\",\"width\":0.5},\"pattern\":{\"fillmode\":\"overlay\",\"size\":10,\"solidity\":0.2}},\"type\":\"bar\"}],\"carpet\":[{\"aaxis\":{\"endlinecolor\":\"#2a3f5f\",\"gridcolor\":\"#C8D4E3\",\"linecolor\":\"#C8D4E3\",\"minorgridcolor\":\"#C8D4E3\",\"startlinecolor\":\"#2a3f5f\"},\"baxis\":{\"endlinecolor\":\"#2a3f5f\",\"gridcolor\":\"#C8D4E3\",\"linecolor\":\"#C8D4E3\",\"minorgridcolor\":\"#C8D4E3\",\"startlinecolor\":\"#2a3f5f\"},\"type\":\"carpet\"}],\"choropleth\":[{\"colorbar\":{\"outlinewidth\":0,\"ticks\":\"\"},\"type\":\"choropleth\"}],\"contourcarpet\":[{\"colorbar\":{\"outlinewidth\":0,\"ticks\":\"\"},\"type\":\"contourcarpet\"}],\"contour\":[{\"colorbar\":{\"outlinewidth\":0,\"ticks\":\"\"},\"colorscale\":[[0.0,\"#0d0887\"],[0.1111111111111111,\"#46039f\"],[0.2222222222222222,\"#7201a8\"],[0.3333333333333333,\"#9c179e\"],[0.4444444444444444,\"#bd3786\"],[0.5555555555555556,\"#d8576b\"],[0.6666666666666666,\"#ed7953\"],[0.7777777777777778,\"#fb9f3a\"],[0.8888888888888888,\"#fdca26\"],[1.0,\"#f0f921\"]],\"type\":\"contour\"}],\"heatmapgl\":[{\"colorbar\":{\"outlinewidth\":0,\"ticks\":\"\"},\"colorscale\":[[0.0,\"#0d0887\"],[0.1111111111111111,\"#46039f\"],[0.2222222222222222,\"#7201a8\"],[0.3333333333333333,\"#9c179e\"],[0.4444444444444444,\"#bd3786\"],[0.5555555555555556,\"#d8576b\"],[0.6666666666666666,\"#ed7953\"],[0.7777777777777778,\"#fb9f3a\"],[0.8888888888888888,\"#fdca26\"],[1.0,\"#f0f921\"]],\"type\":\"heatmapgl\"}],\"heatmap\":[{\"colorbar\":{\"outlinewidth\":0,\"ticks\":\"\"},\"colorscale\":[[0.0,\"#0d0887\"],[0.1111111111111111,\"#46039f\"],[0.2222222222222222,\"#7201a8\"],[0.3333333333333333,\"#9c179e\"],[0.4444444444444444,\"#bd3786\"],[0.5555555555555556,\"#d8576b\"],[0.6666666666666666,\"#ed7953\"],[0.7777777777777778,\"#fb9f3a\"],[0.8888888888888888,\"#fdca26\"],[1.0,\"#f0f921\"]],\"type\":\"heatmap\"}],\"histogram2dcontour\":[{\"colorbar\":{\"outlinewidth\":0,\"ticks\":\"\"},\"colorscale\":[[0.0,\"#0d0887\"],[0.1111111111111111,\"#46039f\"],[0.2222222222222222,\"#7201a8\"],[0.3333333333333333,\"#9c179e\"],[0.4444444444444444,\"#bd3786\"],[0.5555555555555556,\"#d8576b\"],[0.6666666666666666,\"#ed7953\"],[0.7777777777777778,\"#fb9f3a\"],[0.8888888888888888,\"#fdca26\"],[1.0,\"#f0f921\"]],\"type\":\"histogram2dcontour\"}],\"histogram2d\":[{\"colorbar\":{\"outlinewidth\":0,\"ticks\":\"\"},\"colorscale\":[[0.0,\"#0d0887\"],[0.1111111111111111,\"#46039f\"],[0.2222222222222222,\"#7201a8\"],[0.3333333333333333,\"#9c179e\"],[0.4444444444444444,\"#bd3786\"],[0.5555555555555556,\"#d8576b\"],[0.6666666666666666,\"#ed7953\"],[0.7777777777777778,\"#fb9f3a\"],[0.8888888888888888,\"#fdca26\"],[1.0,\"#f0f921\"]],\"type\":\"histogram2d\"}],\"histogram\":[{\"marker\":{\"pattern\":{\"fillmode\":\"overlay\",\"size\":10,\"solidity\":0.2}},\"type\":\"histogram\"}],\"mesh3d\":[{\"colorbar\":{\"outlinewidth\":0,\"ticks\":\"\"},\"type\":\"mesh3d\"}],\"parcoords\":[{\"line\":{\"colorbar\":{\"outlinewidth\":0,\"ticks\":\"\"}},\"type\":\"parcoords\"}],\"pie\":[{\"automargin\":true,\"type\":\"pie\"}],\"scatter3d\":[{\"line\":{\"colorbar\":{\"outlinewidth\":0,\"ticks\":\"\"}},\"marker\":{\"colorbar\":{\"outlinewidth\":0,\"ticks\":\"\"}},\"type\":\"scatter3d\"}],\"scattercarpet\":[{\"marker\":{\"colorbar\":{\"outlinewidth\":0,\"ticks\":\"\"}},\"type\":\"scattercarpet\"}],\"scattergeo\":[{\"marker\":{\"colorbar\":{\"outlinewidth\":0,\"ticks\":\"\"}},\"type\":\"scattergeo\"}],\"scattergl\":[{\"marker\":{\"colorbar\":{\"outlinewidth\":0,\"ticks\":\"\"}},\"type\":\"scattergl\"}],\"scattermapbox\":[{\"marker\":{\"colorbar\":{\"outlinewidth\":0,\"ticks\":\"\"}},\"type\":\"scattermapbox\"}],\"scatterpolargl\":[{\"marker\":{\"colorbar\":{\"outlinewidth\":0,\"ticks\":\"\"}},\"type\":\"scatterpolargl\"}],\"scatterpolar\":[{\"marker\":{\"colorbar\":{\"outlinewidth\":0,\"ticks\":\"\"}},\"type\":\"scatterpolar\"}],\"scatter\":[{\"fillpattern\":{\"fillmode\":\"overlay\",\"size\":10,\"solidity\":0.2},\"type\":\"scatter\"}],\"scatterternary\":[{\"marker\":{\"colorbar\":{\"outlinewidth\":0,\"ticks\":\"\"}},\"type\":\"scatterternary\"}],\"surface\":[{\"colorbar\":{\"outlinewidth\":0,\"ticks\":\"\"},\"colorscale\":[[0.0,\"#0d0887\"],[0.1111111111111111,\"#46039f\"],[0.2222222222222222,\"#7201a8\"],[0.3333333333333333,\"#9c179e\"],[0.4444444444444444,\"#bd3786\"],[0.5555555555555556,\"#d8576b\"],[0.6666666666666666,\"#ed7953\"],[0.7777777777777778,\"#fb9f3a\"],[0.8888888888888888,\"#fdca26\"],[1.0,\"#f0f921\"]],\"type\":\"surface\"}],\"table\":[{\"cells\":{\"fill\":{\"color\":\"#EBF0F8\"},\"line\":{\"color\":\"white\"}},\"header\":{\"fill\":{\"color\":\"#C8D4E3\"},\"line\":{\"color\":\"white\"}},\"type\":\"table\"}]},\"layout\":{\"annotationdefaults\":{\"arrowcolor\":\"#2a3f5f\",\"arrowhead\":0,\"arrowwidth\":1},\"autotypenumbers\":\"strict\",\"coloraxis\":{\"colorbar\":{\"outlinewidth\":0,\"ticks\":\"\"}},\"colorscale\":{\"diverging\":[[0,\"#8e0152\"],[0.1,\"#c51b7d\"],[0.2,\"#de77ae\"],[0.3,\"#f1b6da\"],[0.4,\"#fde0ef\"],[0.5,\"#f7f7f7\"],[0.6,\"#e6f5d0\"],[0.7,\"#b8e186\"],[0.8,\"#7fbc41\"],[0.9,\"#4d9221\"],[1,\"#276419\"]],\"sequential\":[[0.0,\"#0d0887\"],[0.1111111111111111,\"#46039f\"],[0.2222222222222222,\"#7201a8\"],[0.3333333333333333,\"#9c179e\"],[0.4444444444444444,\"#bd3786\"],[0.5555555555555556,\"#d8576b\"],[0.6666666666666666,\"#ed7953\"],[0.7777777777777778,\"#fb9f3a\"],[0.8888888888888888,\"#fdca26\"],[1.0,\"#f0f921\"]],\"sequentialminus\":[[0.0,\"#0d0887\"],[0.1111111111111111,\"#46039f\"],[0.2222222222222222,\"#7201a8\"],[0.3333333333333333,\"#9c179e\"],[0.4444444444444444,\"#bd3786\"],[0.5555555555555556,\"#d8576b\"],[0.6666666666666666,\"#ed7953\"],[0.7777777777777778,\"#fb9f3a\"],[0.8888888888888888,\"#fdca26\"],[1.0,\"#f0f921\"]]},\"colorway\":[\"#636efa\",\"#EF553B\",\"#00cc96\",\"#ab63fa\",\"#FFA15A\",\"#19d3f3\",\"#FF6692\",\"#B6E880\",\"#FF97FF\",\"#FECB52\"],\"font\":{\"color\":\"#2a3f5f\"},\"geo\":{\"bgcolor\":\"white\",\"lakecolor\":\"white\",\"landcolor\":\"white\",\"showlakes\":true,\"showland\":true,\"subunitcolor\":\"#C8D4E3\"},\"hoverlabel\":{\"align\":\"left\"},\"hovermode\":\"closest\",\"mapbox\":{\"style\":\"light\"},\"paper_bgcolor\":\"white\",\"plot_bgcolor\":\"white\",\"polar\":{\"angularaxis\":{\"gridcolor\":\"#EBF0F8\",\"linecolor\":\"#EBF0F8\",\"ticks\":\"\"},\"bgcolor\":\"white\",\"radialaxis\":{\"gridcolor\":\"#EBF0F8\",\"linecolor\":\"#EBF0F8\",\"ticks\":\"\"}},\"scene\":{\"xaxis\":{\"backgroundcolor\":\"white\",\"gridcolor\":\"#DFE8F3\",\"gridwidth\":2,\"linecolor\":\"#EBF0F8\",\"showbackground\":true,\"ticks\":\"\",\"zerolinecolor\":\"#EBF0F8\"},\"yaxis\":{\"backgroundcolor\":\"white\",\"gridcolor\":\"#DFE8F3\",\"gridwidth\":2,\"linecolor\":\"#EBF0F8\",\"showbackground\":true,\"ticks\":\"\",\"zerolinecolor\":\"#EBF0F8\"},\"zaxis\":{\"backgroundcolor\":\"white\",\"gridcolor\":\"#DFE8F3\",\"gridwidth\":2,\"linecolor\":\"#EBF0F8\",\"showbackground\":true,\"ticks\":\"\",\"zerolinecolor\":\"#EBF0F8\"}},\"shapedefaults\":{\"line\":{\"color\":\"#2a3f5f\"}},\"ternary\":{\"aaxis\":{\"gridcolor\":\"#DFE8F3\",\"linecolor\":\"#A2B1C6\",\"ticks\":\"\"},\"baxis\":{\"gridcolor\":\"#DFE8F3\",\"linecolor\":\"#A2B1C6\",\"ticks\":\"\"},\"bgcolor\":\"white\",\"caxis\":{\"gridcolor\":\"#DFE8F3\",\"linecolor\":\"#A2B1C6\",\"ticks\":\"\"}},\"title\":{\"x\":0.05},\"xaxis\":{\"automargin\":true,\"gridcolor\":\"#EBF0F8\",\"linecolor\":\"#EBF0F8\",\"ticks\":\"\",\"title\":{\"standoff\":15},\"zerolinecolor\":\"#EBF0F8\",\"zerolinewidth\":2},\"yaxis\":{\"automargin\":true,\"gridcolor\":\"#EBF0F8\",\"linecolor\":\"#EBF0F8\",\"ticks\":\"\",\"title\":{\"standoff\":15},\"zerolinecolor\":\"#EBF0F8\",\"zerolinewidth\":2}}},\"xaxis\":{\"anchor\":\"y\",\"domain\":[0.0,1.0],\"title\":{\"text\":\"Course Title\"}},\"yaxis\":{\"anchor\":\"x\",\"domain\":[0.0,1.0],\"title\":{\"text\":\"Course Rating\"},\"showgrid\":false},\"legend\":{\"tracegroupgap\":0},\"title\":{\"text\":\"Top 10 Least Popular Courses by Course Rating\",\"x\":0.4},\"barmode\":\"relative\",\"font\":{\"size\":14},\"width\":950,\"height\":800},                        {\"responsive\": true}                    ).then(function(){\n",
       "                            \n",
       "var gd = document.getElementById('7f61ed7f-e3fc-4a27-b610-0ddad2675339');\n",
       "var x = new MutationObserver(function (mutations, observer) {{\n",
       "        var display = window.getComputedStyle(gd).display;\n",
       "        if (!display || display === 'none') {{\n",
       "            console.log([gd, 'removed!']);\n",
       "            Plotly.purge(gd);\n",
       "            observer.disconnect();\n",
       "        }}\n",
       "}});\n",
       "\n",
       "// Listen for the removal of the full notebook cells\n",
       "var notebookContainer = gd.closest('#notebook-container');\n",
       "if (notebookContainer) {{\n",
       "    x.observe(notebookContainer, {childList: true});\n",
       "}}\n",
       "\n",
       "// Listen for the clearing of the current output cell\n",
       "var outputEl = gd.closest('.output');\n",
       "if (outputEl) {{\n",
       "    x.observe(outputEl, {childList: true});\n",
       "}}\n",
       "\n",
       "                        })                };                });            </script>        </div>"
      ]
     },
     "metadata": {},
     "output_type": "display_data"
    }
   ],
   "source": [
    "#Define least popular courses by rating\n",
    "top_10_worst_courses_by_rating = courses_by_rating.tail(10)\\\n",
    "    .sort_values(by=\"course_rating\", ascending=True)\n",
    "\n",
    "#Plot a bar chart displaying top 10 least popular courses by rating\n",
    "fig_6 = px.bar(top_10_worst_courses_by_rating,\n",
    "               x=\"course_title\", y=\"course_rating\",\n",
    "               title=\"Top 10 Least Popular Courses by Course Rating\",\n",
    "               labels={\"course_rating\":\"Course Rating\",\\\n",
    "                        \"course_title\" : \"Course Title\"},\n",
    "               text=\"course_rating\",\n",
    "               template=\"plotly_white\",\n",
    "               hover_name=\"course_title\")\n",
    "\n",
    "fig_6.update_traces(texttemplate=\"%{text:.2s}\",\n",
    "                    textposition=\"outside\",\n",
    "                    marker_color=\"rgb(255,127,127)\")\n",
    "\n",
    "fig_6.update_layout(font=dict(size=14),\n",
    "                  title=dict(x=0.4),\n",
    "                  width=950,\n",
    "                  height=800,\n",
    "                  yaxis=dict(showgrid=False))\n",
    "\n",
    "fig_6.show()"
   ]
  },
  {
   "cell_type": "markdown",
   "metadata": {},
   "source": [
    "**Insight:**  \n",
    "Overall, all Coursera courses are rated fairly good as there is not a single course rated below 3.3."
   ]
  },
  {
   "cell_type": "markdown",
   "metadata": {},
   "source": [
    "> 4.9. How does student enrollment compare to least popular courses by enrollment and least popular courses by rating?"
   ]
  },
  {
   "cell_type": "code",
   "execution_count": 23,
   "metadata": {},
   "outputs": [
    {
     "data": {
      "text/html": [
       "<div>\n",
       "<style scoped>\n",
       "    .dataframe tbody tr th:only-of-type {\n",
       "        vertical-align: middle;\n",
       "    }\n",
       "\n",
       "    .dataframe tbody tr th {\n",
       "        vertical-align: top;\n",
       "    }\n",
       "\n",
       "    .dataframe thead th {\n",
       "        text-align: right;\n",
       "    }\n",
       "</style>\n",
       "<table border=\"1\" class=\"dataframe\">\n",
       "  <thead>\n",
       "    <tr style=\"text-align: right;\">\n",
       "      <th></th>\n",
       "      <th>Least Popular Courses by Enrollment</th>\n",
       "      <th>Students Enrolled</th>\n",
       "      <th>Least Popular Courses by Rating</th>\n",
       "      <th>Students Enrolled</th>\n",
       "    </tr>\n",
       "  </thead>\n",
       "  <tbody>\n",
       "    <tr>\n",
       "      <th>0</th>\n",
       "      <td>El Abogado del Futuro: Legaltech y la Transfor...</td>\n",
       "      <td>1.5k</td>\n",
       "      <td>How To Create a Website in a Weekend! (Project...</td>\n",
       "      <td>140k</td>\n",
       "    </tr>\n",
       "    <tr>\n",
       "      <th>1</th>\n",
       "      <td>Blockchain Revolution in Financial Services</td>\n",
       "      <td>1.6k</td>\n",
       "      <td>Machine Learning and Reinforcement Learning in...</td>\n",
       "      <td>29k</td>\n",
       "    </tr>\n",
       "    <tr>\n",
       "      <th>2</th>\n",
       "      <td>Infectious Disease Modelling</td>\n",
       "      <td>1.6k</td>\n",
       "      <td>iOS App Development with Swift</td>\n",
       "      <td>76k</td>\n",
       "    </tr>\n",
       "    <tr>\n",
       "      <th>3</th>\n",
       "      <td>Healthcare Law</td>\n",
       "      <td>1.7k</td>\n",
       "      <td>Machine Learning for Trading</td>\n",
       "      <td>15k</td>\n",
       "    </tr>\n",
       "    <tr>\n",
       "      <th>4</th>\n",
       "      <td>The Pronunciation of American English</td>\n",
       "      <td>1.7k</td>\n",
       "      <td>Introduction to Trading, Machine Learning &amp; GCP</td>\n",
       "      <td>13k</td>\n",
       "    </tr>\n",
       "    <tr>\n",
       "      <th>5</th>\n",
       "      <td>Identifying, Monitoring, and Analyzing Risk an...</td>\n",
       "      <td>1.7k</td>\n",
       "      <td>Mathematics for Machine Learning: PCA</td>\n",
       "      <td>33k</td>\n",
       "    </tr>\n",
       "    <tr>\n",
       "      <th>6</th>\n",
       "      <td>Esports</td>\n",
       "      <td>1.8k</td>\n",
       "      <td>How to Start Your Own Business</td>\n",
       "      <td>34k</td>\n",
       "    </tr>\n",
       "    <tr>\n",
       "      <th>7</th>\n",
       "      <td>Blended Language Learning: Design and Practice...</td>\n",
       "      <td>1.9k</td>\n",
       "      <td>Cybersecurity and Its Ten Domains</td>\n",
       "      <td>140k</td>\n",
       "    </tr>\n",
       "    <tr>\n",
       "      <th>8</th>\n",
       "      <td>Implementing RPA with Cognitive Automation and...</td>\n",
       "      <td>2.2k</td>\n",
       "      <td>Optical Engineering</td>\n",
       "      <td>6.2k</td>\n",
       "    </tr>\n",
       "    <tr>\n",
       "      <th>9</th>\n",
       "      <td>International Security Management</td>\n",
       "      <td>2.2k</td>\n",
       "      <td>Hardware Description Languages for FPGA Design</td>\n",
       "      <td>7.4k</td>\n",
       "    </tr>\n",
       "  </tbody>\n",
       "</table>\n",
       "</div>"
      ],
      "text/plain": [
       "                 Least Popular Courses by Enrollment Students Enrolled  \\\n",
       "0  El Abogado del Futuro: Legaltech y la Transfor...              1.5k   \n",
       "1        Blockchain Revolution in Financial Services              1.6k   \n",
       "2                       Infectious Disease Modelling              1.6k   \n",
       "3                                     Healthcare Law              1.7k   \n",
       "4              The Pronunciation of American English              1.7k   \n",
       "5  Identifying, Monitoring, and Analyzing Risk an...              1.7k   \n",
       "6                                            Esports              1.8k   \n",
       "7  Blended Language Learning: Design and Practice...              1.9k   \n",
       "8  Implementing RPA with Cognitive Automation and...              2.2k   \n",
       "9                  International Security Management              2.2k   \n",
       "\n",
       "                     Least Popular Courses by Rating Students Enrolled  \n",
       "0  How To Create a Website in a Weekend! (Project...              140k  \n",
       "1  Machine Learning and Reinforcement Learning in...               29k  \n",
       "2                     iOS App Development with Swift               76k  \n",
       "3                       Machine Learning for Trading               15k  \n",
       "4    Introduction to Trading, Machine Learning & GCP               13k  \n",
       "5              Mathematics for Machine Learning: PCA               33k  \n",
       "6                     How to Start Your Own Business               34k  \n",
       "7                  Cybersecurity and Its Ten Domains              140k  \n",
       "8                                Optical Engineering              6.2k  \n",
       "9     Hardware Description Languages for FPGA Design              7.4k  "
      ]
     },
     "execution_count": 23,
     "metadata": {},
     "output_type": "execute_result"
    }
   ],
   "source": [
    "top_10_worst_courses_by_students_temporary = top_10_worst_courses_by_students\\\n",
    "    .rename(columns={\"course_title\":\"Least Popular Courses by Enrollment\",\\\n",
    "                      \"course_students_enrolled\":\"Students Enrolled\"})\n",
    "top_10_worst_courses_by_rating_temporary = top_10_worst_courses_by_rating\\\n",
    "    .rename(columns={\"course_title\":\"Least Popular Courses by Rating\",\\\n",
    "                      \"course_students_enrolled\":\"Students Enrolled\"})\n",
    "\n",
    "unpopularity_enrollment_vs_rating = pd.concat([top_10_worst_courses_by_students_temporary[[\"Least Popular Courses by Enrollment\", \"Students Enrolled\"]]\\\n",
    "                                               .reset_index(drop=True),\n",
    "                                            top_10_worst_courses_by_rating_temporary[[\"Least Popular Courses by Rating\", \"Students Enrolled\"]]\\\n",
    "                                                .reset_index(drop=True)], axis=1)\n",
    "unpopularity_enrollment_vs_rating"
   ]
  },
  {
   "cell_type": "markdown",
   "metadata": {},
   "source": [
    "> 4.10. How does rating affect enrollment? Is there a correlation?"
   ]
  },
  {
   "cell_type": "code",
   "execution_count": 24,
   "metadata": {},
   "outputs": [
    {
     "data": {
      "application/vnd.plotly.v1+json": {
       "config": {
        "plotlyServerURL": "https://plot.ly"
       },
       "data": [
        {
         "hovertemplate": "<b>%{hovertext}</b><br><br>Students Enrolled=%{marker.size}<br>Rating=%{marker.color}<extra></extra>",
         "hovertext": [
          "(ISC)² Systems Security Certified Practitioner (SSCP)",
          "A Crash Course in Causality:  Inferring Causal Effects from Observational Data",
          "A Crash Course in Data Science",
          "A Law Student's Toolkit",
          "A Life of Happiness and Fulfillment",
          "ADHD: Everyday Strategies for Elementary Students",
          "AI For Everyone",
          "AI For Medical Treatment",
          "AI Foundations for Everyone",
          "AI for Medical Diagnosis",
          "AI for Medical Prognosis",
          "AI for Medicine",
          "AWS Fundamentals",
          "AWS Fundamentals: Addressing Security Risk",
          "AWS Fundamentals: Building Serverless Applications",
          "AWS Fundamentals: Going Cloud-Native",
          "AWS Fundamentals: Migrating to the Cloud",
          "Aboriginal Worldviews and Education",
          "Academic English: Writing",
          "Accelerated Computer Science Fundamentals",
          "Access Controls",
          "Accounting Analytics",
          "Accounting for Decision Making",
          "Achieving Personal and Professional Success",
          "Actualización en el manejo del paciente con diabetes mellitus tipo 2",
          "Addiction Treatment: Clinical Skills for Healthcare Providers",
          "Advanced Business Analytics",
          "Advanced Data Science with IBM",
          "Advanced Machine Learning",
          "Advanced Machine Learning with TensorFlow on Google Cloud Platform",
          "Advanced Valuation and Strategy - M&A, Private Equity, and Venture Capital",
          "Advertising and Society",
          "Age of Cathedrals",
          "Agile Development",
          "Agile Meets Design Thinking",
          "Agile with Atlassian Jira",
          "Agile и Scrum в работе над проектами и продуктами",
          "Algorithmic Toolbox",
          "Algorithms",
          "Algorithms for Battery Management Systems",
          "American Contract Law I",
          "An Introduction to American Law",
          "An Introduction to Consumer Neuroscience & Neuromarketing",
          "An Introduction to Programming the Internet of Things (IOT)",
          "Analysing: Numeric and digital literacies",
          "Anatomy",
          "Anatomy of the Chest, Abdomen, and Pelvis",
          "Anatomy: Musculoskeletal and Integumentary Systems",
          "Ancient Philosophy: Aristotle and His Successors",
          "Android App Development",
          "Animal Behaviour and Welfare",
          "Antibiotic Stewardship",
          "Anticorrupción: Introducción a conceptos y perspectiva práctica",
          "Antimicrobial resistance - theory and methods",
          "Applied Data Science",
          "Applied Data Science Capstone",
          "Applied Data Science with Python",
          "Applied Machine Learning in Python",
          "Applied Plotting, Charting & Data Representation in Python",
          "Aprende a programar con Python",
          "Aprender",
          "Aprendiendo a aprender: Poderosas herramientas mentales con las que podrás dominar temas difíciles (Learning How to Learn)",
          "Architecting with Google Cloud Platform 日本語版",
          "Architecting with Google Compute Engine",
          "Architecting with Google Kubernetes Engine 日本語版",
          "Arizona State University TESOL",
          "Art & Activity: Interactive Strategies for Engaging with Art",
          "Art & Ideas: Teaching with Themes",
          "Arts and Culture Strategy",
          "Arts and Heritage Management",
          "Aspectos básicos de la planificación y la gestión de proyectos",
          "Astrobiology and the Search for Extraterrestrial Life",
          "Atención Primaria en Salud: El desafío de las Enfermedades no Transmisibles",
          "Autism Spectrum Disorder",
          "Autodesk CAD/CAM for Manufacturing",
          "Autodesk CAD/CAM/CAE for Mechanical Engineering",
          "Autodesk Certified Professional: AutoCAD for Design and Drafting Exam Prep",
          "Autodesk Certified Professional: Revit for Architectural Design Exam Prep",
          "BIM Fundamentals for Engineers",
          "Basic Statistics",
          "Bayesian Statistics: From Concept to Data Analysis",
          "Bayesian Statistics: Techniques and Models",
          "Become a CBRS Certified Professional Installer by Google",
          "Become a Journalist: Report the News!",
          "Become a Sustainable Business Change Agent",
          "Becoming a Sports Agent",
          "Becoming a changemaker: Introduction to Social Innovation",
          "Behavioral Finance",
          "Beyond the Sustainable Development Goals (SDGs): Addressing Sustainability and Development",
          "Big Data – Introducción al uso práctico de datos masivos",
          "Biohacking Your Brain's Health",
          "Biology Meets Programming: Bioinformatics for Beginners",
          "Biostatistics in Public Health",
          "Blended Language Learning: Design and Practice for Teachers",
          "Blockchain",
          "Blockchain Revolution",
          "Blockchain Revolution in Financial Services",
          "Blockchain: Foundations and Use Cases",
          "Boosting Creativity for Innovation",
          "Brand Management: Aligning Business, Brand and Behaviour",
          "Branding: The Creative Journey",
          "Budgeting and Scheduling Projects",
          "Bugs 101: Insect-Human Interactions",
          "Build a Modern Computer from First Principles: From Nand to Tetris (Project-Centered Course)",
          "Building Batch Data Pipelines on GCP",
          "Building Conversational Experiences with Dialogflow",
          "Building Resilient Streaming Analytics Systems on GCP",
          "Building Scalable Java Microservices with Spring Boot and Spring Cloud",
          "Building Your Leadership Skills",
          "Business Analytics",
          "Business English",
          "Business English Communication Skills",
          "Business English: Networking",
          "Business Foundations",
          "Business Model Innovation",
          "Business Statistics and Analysis",
          "Business Strategies for A Better World",
          "Business Strategy",
          "Business Technology Management",
          "Business Transformation with Google Cloud",
          "Business Writing",
          "Business and Financial Modeling",
          "C for Everyone: Programming Fundamentals",
          "C# Programming for Unity Game Development",
          "COVID-19 Contact Tracing",
          "COVID-19: What You Need to Know (CME Eligible)",
          "Cameras, Exposure, and Photography",
          "Camino a la Excelencia en Gestión de Proyectos",
          "Capstone: Retrieving, Processing, and Visualizing Data with Python",
          "Career Success",
          "Challenging Forensic Science: How Science Should Speak to Court",
          "Chemicals and Health",
          "Chicken Behaviour and Welfare",
          "Child Nutrition and Cooking",
          "Chinese for HSK 1",
          "Cisco Networking Basics",
          "Classical Sociological Theory",
          "Claves de la Dirección de Empresas",
          "Climate Change and Health: From Science to Action",
          "Clinical Terminology for International and U.S. Students",
          "Cloud Computing",
          "Cloud Computing Basics (Cloud 101)",
          "Cloud Engineering with Google Cloud",
          "Coaching Skills for Managers",
          "Code Yourself! An Introduction to Programming",
          "Communication Skills for Engineers",
          "Communication Strategies for a Virtual Age",
          "Compassionate Leadership Through Service Learning with Jane Goodall and Roots & Shoots",
          "Competencias digitales. Herramientas de ofimática (Microsoft Word, Excel, Power Point)",
          "Competitive Strategy and Organization Design",
          "Computational Social Science",
          "Computational Thinking for Problem Solving",
          "Computer Security and Systems Management",
          "Conflict Management",
          "Construction Cost Estimating and Cost Control",
          "Construction Management",
          "Construction Project Management",
          "Construction Scheduling",
          "Contabilidad para no contadores",
          "Content Strategy for Professionals",
          "Continuous Delivery & DevOps",
          "Control of Mobile Robots",
          "Convolutional Neural Networks",
          "Convolutional Neural Networks in TensorFlow",
          "Corporate & Commercial Law I: Contracts & Employment Law",
          "Corporate Finance Essentials",
          "Corporate Strategy",
          "Corporate Sustainability. Understanding and Seizing the Strategic Opportunity",
          "Corrección, estilo y  variaciones de la lengua española",
          "Cost and Economics in Pricing Strategy",
          "Costos para los Negocios",
          "Crash Course on Python",
          "Creative Problem Solving",
          "Creative Writing",
          "Creative Writing: The Craft of Plot",
          "Creatividad, diseño e innovación: Técnicas y herramientas",
          "Cuidado de heridas en el ámbito hospitalario",
          "Cuidados y procedimientos generales en la atención del recién nacido",
          "Culture-Driven Team Building",
          "Curanderismo: Traditional Healing Using Plants",
          "Customer Segmentation and Prospecting",
          "Cybersecurity",
          "Cybersecurity and Its Ten Domains",
          "Cybersecurity for Business",
          "Cómo hablar bien en público",
          "Dairy Production and Management",
          "Data Analysis and Interpretation",
          "Data Analysis and Presentation Skills: the PwC Approach",
          "Data Analysis with Python",
          "Data Analytics for Lean Six Sigma",
          "Data Collection and Processing with Python",
          "Data Engineering on Google Cloud Platform 日本語版",
          "Data Engineering with Google Cloud",
          "Data Engineering, Big Data, and Machine Learning on GCP",
          "Data Management for Clinical Research",
          "Data Mining",
          "Data Science",
          "Data Science Math Skills",
          "Data Science Methodology",
          "Data Science: Foundations using R",
          "Data Science: Statistics and Machine Learning",
          "Data Visualization and Communication with Tableau",
          "Data Visualization with Advanced Excel",
          "Data Visualization with Python",
          "Data Visualization with Tableau",
          "Data Warehousing for Business Intelligence",
          "Data and Health Indicators in Public Health Practice",
          "Data-driven Decision Making",
          "Databases and SQL for Data Science",
          "De-Mystifying Mindfulness",
          "Decision-Making and Scenarios",
          "Deep Learning",
          "Democracia y decisiones públicas. Introducción al análisis de políticas públicas",
          "Dentistry 101",
          "Dermatology: Trip to skin",
          "Design Thinking for Innovation",
          "Design Thinking for the Greater Good: Innovation in the Social Sector",
          "Design and Interpretation of Clinical Trials",
          "Design and Make Infographics (Project-Centered Course)",
          "Design-Led Strategy: Design thinking for business strategy and entrepreneurship",
          "Developing APIs with Google Cloud's Apigee API Platform",
          "Developing Applications with Google Cloud Platform",
          "Developing Applications with Google Cloud Platform 日本語版",
          "Developing Industrial Internet of Things",
          "Developing Your Musicianship",
          "Developing Your Musicianship",
          "Devenir entrepreneur du changement",
          "Digital Advertising Strategy",
          "Digital Business Models",
          "Digital Manufacturing & Design Technology",
          "Digital Marketing",
          "Digital Media and Marketing Strategies",
          "Digital Product Management",
          "Digital Product Management: Modern Fundamentals",
          "Dino 101: Dinosaur Paleobiology",
          "Discrete Optimization",
          "Diseño Instruccional: Aprendizaje activo y Pedagogía digital",
          "Diseño y Creación de un Emprendimiento Social",
          "Divide and Conquer, Sorting and Searching, and Randomized Algorithms",
          "Dog Emotion and Cognition",
          "Driving business towards the Sustainable Development Goals",
          "Drug Commercialization",
          "Drug Discovery",
          "Dynamic Public Speaking",
          "EMT Foundations",
          "Ecology: Ecosystem Dynamics and Conservation",
          "Econometrics: Methods and Applications",
          "Economics of Money and Banking",
          "Ecosystem Services: a Method for Sustainable Development",
          "Effective Compliance Programs",
          "Egiptología (Egyptology)",
          "El Abogado del Futuro: Legaltech y la Transformación Digital del Derecho",
          "Elastic Google Cloud Infrastructure: Scaling and Automation",
          "Electric Industry Operations and Markets",
          "Electronic Music Production",
          "Emerging Technologies: From Smartphones to IoT to Big Data",
          "Energy Production, Distribution & Safety",
          "Engineering Health: Introduction to Yoga and Physiology",
          "Engineering Project Management: Initiating and Planning",
          "English Composition I",
          "English for Business and Entrepreneurship",
          "English for Career Development",
          "English for Journalism",
          "English for Research Publication Purposes",
          "English for Science, Technology, Engineering, and Mathematics",
          "Enterprise Architecture",
          "Entrepreneurial Finance: Strategy and Innovation",
          "Entrepreneurship",
          "Entrepreneurship 1: Developing the Opportunity",
          "Entrepreneurship 2: Launching your Start-Up",
          "Entrepreneurship 3: Growth Strategies",
          "Entrepreneurship Strategy: From Ideation to Exit",
          "Entrepreneurship: Launching an Innovative Business",
          "Epidemics - the Dynamics of Infectious Diseases",
          "Epidemics, Pandemics and Outbreaks",
          "Epidemiology for Public Health",
          "Epidemiology in Public Health Practice",
          "Epidemiology: The Basic Science of Public Health",
          "Epigenetic Control of Gene Expression",
          "Equine Welfare and Management",
          "Esports",
          "Essential Epidemiologic Tools for Public Health Practice",
          "Essential Google Cloud Infrastructure: Core Services",
          "Essential Google Cloud Infrastructure: Foundation",
          "Essentials in Clinical Simulations Across the Health Professions",
          "Essentials of Corporate Finance",
          "Essentials of Global Health",
          "Estadística y probabilidad",
          "Evaluación educativa",
          "Everyday Excel, Part 1",
          "Everyday Parenting: The ABCs of Child Rearing",
          "Excel Skills for Business",
          "Excel Skills for Business: Advanced",
          "Excel Skills for Business: Essentials",
          "Excel Skills for Business: Intermediate I",
          "Excel Skills for Business: Intermediate II",
          "Excel to MySQL: Analytic Techniques for Business",
          "Excel/VBA for Creative Problem Solving",
          "Excel/VBA for Creative Problem Solving, Part 1",
          "Executive Data Science",
          "Explorando la Energía Sustentable",
          "Fashion as Design",
          "Feminism and Social Justice",
          "FinTech Law and Policy",
          "FinTech: Finance Industry Transformation and Regulation",
          "FinTech: Foundations, Payments, and Regulations",
          "Finance & Quantitative Modeling for Analysts",
          "Finance for Non-Finance Professionals",
          "Finance for Non-Financial Managers",
          "Financial Accounting Fundamentals",
          "Financial Acumen for Non-Financial Managers",
          "Financial Engineering and Risk Management Part I",
          "Financial Management",
          "Financial Markets",
          "Financial Markets and Investment Strategy",
          "Financial Reporting",
          "Financial Technology (Fintech) Innovations",
          "Financing and Investing in Infrastructure",
          "Finanzas corporativas",
          "Finanzas personales",
          "Finding Purpose and Meaning In Life: Living for What Matters Most",
          "Fintech: Foundations & Applications of Financial Technology",
          "First Step Korean",
          "Food & Beverage Management",
          "Forensic Accounting and Fraud Examination",
          "Formulación y evaluación de proyectos complejos",
          "Foundational Finance for Strategic Decision Making",
          "Foundations of Business Strategy",
          "Foundations of Everyday Leadership",
          "Foundations of Global Health",
          "Foundations of Management",
          "Foundations of Marketing Analytics",
          "Foundations of Positive Psychology",
          "Foundations of Public Health Practice",
          "From Data to Insights with Google Cloud Platform",
          "From the Big Bang to Dark Energy",
          "Front-End Web Development with React",
          "Front-End Web UI Frameworks and Tools: Bootstrap 4",
          "Full Stack Web and Multiplatform Mobile App Development",
          "Full-Stack Web Development with React",
          "Functional Programming Principles in Scala",
          "Functional Programming in Scala",
          "Fundamental Neuroscience for Neuroimaging",
          "Fundamentals of Accounting",
          "Fundamentals of Computing",
          "Fundamentals of Engineering Exam Review",
          "Fundamentals of GIS",
          "Fundamentals of Graphic Design",
          "Fundamentals of Immunology",
          "Fundamentals of Immunology: Innate Immunity and B-Cell Function",
          "Fundamentals of Music Theory",
          "Fundamentals of Project Planning and Management",
          "Fundamentals of Quantitative Modeling",
          "Fundamentals of Reinforcement Learning",
          "Fundamentals of Visualization with Tableau",
          "Fundamentos Empresariales",
          "Fundamentos Estratégicos Empresariales",
          "Fundamentos de Excel para Negocios",
          "Fundamentos de Finanzas Empresariales",
          "Fundamentos de la escritura",
          "Fundraising and Development",
          "Futures Thinking",
          "G Suite Administration",
          "GIS, Mapping, and Spatial Analysis",
          "Game Design and Development",
          "Game Theory",
          "Gamification",
          "Gender and Sexuality: Diversity and Inclusion in the Workplace",
          "Genomic Data Science",
          "Geographic Information Systems  (GIS)",
          "Geopolitics of Europe",
          "Geopolítica y gobernanza global: riesgos y oportunidades",
          "Gestión de organizaciones efectivas",
          "Get Interactive: Practical Teaching with Technology",
          "Getting Started With Music Theory",
          "Getting Started with AWS Machine Learning",
          "Getting Started with Go",
          "Getting Started with Google Kubernetes Engine",
          "Getting Started with Google Sheets",
          "Getting Started with SAS Programming",
          "Global Diplomacy – Diplomacy in the Modern World",
          "Global Diplomacy: the United Nations in the World",
          "Global Energy and Climate Policy",
          "Global Environmental Management",
          "Global Financial Markets and Instruments",
          "Global Financing Solutions  (by EDHEC and Société Générale)",
          "Global Trends for Business and Society",
          "Globalization, Economic Growth and Stability",
          "Good with Words: Writing and Editing",
          "Google Cloud Platform Big Data and Machine Learning Fundamentals",
          "Google Cloud Platform Fundamentals for AWS Professionals",
          "Google IT Automation with Python",
          "Google IT Support",
          "Grammar and Punctuation",
          "Graphic Design Elements for Non-Designers",
          "Greek and Roman Mythology",
          "Greening the Economy: Sustainable Cities",
          "Guitar for Beginners",
          "Gut Check: Exploring Your Microbiome",
          "HTML, CSS, and Javascript for Web Developers",
          "Habilidades Gerenciales",
          "Hacia una práctica constructivista en el aula",
          "Hardware Description Languages for FPGA Design",
          "Healing with the Arts",
          "Health Informatics",
          "Health Information Literacy for Data Analytics",
          "Healthcare Law",
          "Healthcare Marketplace",
          "Healthcare Organization Operations",
          "High Performance Collaboration: Leadership, Teamwork, and Negotiation",
          "Homeland Security and Cybersecurity",
          "Hotel Management: Distribution, Revenue and Demand Management",
          "How Things Work: An Introduction to Physics",
          "How To Create a Website in a Weekend! (Project-Centered Course)",
          "How to Start Your Own Business",
          "Human Resource Management: HR for People Managers",
          "IBM AI Engineering",
          "IBM AI Enterprise Workflow",
          "IBM Applied AI",
          "IBM Customer Engagement Specialist Professional Certificate",
          "IBM Data Science",
          "IT Fundamentals for Cybersecurity",
          "IT Security: Defense against the digital dark arts",
          "Identifying, Monitoring, and Analyzing Risk and Incident Response and Recovery",
          "Implementación del Marketing Mix",
          "Implementing RPA with Cognitive Automation and Analytics",
          "Improve Your English Communication Skills",
          "Improving Deep Neural Networks: Hyperparameter tuning, Regularization and Optimization",
          "Improving Leadership & Governance in Nonprofit Organizations",
          "In the Studio: Postwar Abstract Painting",
          "Indigenous Canada",
          "Industrial IoT on Google Cloud Platform",
          "Infectious Disease Modelling",
          "Influencer Marketing Strategy",
          "Influencing: Storytelling, Change Management and Governance",
          "Information Security: Context and Introduction",
          "Information Visualization",
          "Information​ ​Systems",
          "Initiating and Planning Projects",
          "Innovation Management",
          "Innovation Through Design: Think, Make, Break, Repeat",
          "Innovation: From Creativity to Entrepreneurship",
          "Inspirational Leadership: Leading with Sense",
          "Inspired Leadership",
          "Inspiring and Motivating Individuals",
          "Instructional Design Foundations and Applications",
          "Instructional Methods in Health Professions Education",
          "Integrative Health and Medicine",
          "Intellectual Property Law",
          "Interaction Design",
          "Intercultural Management",
          "International Business Essentials",
          "International Cyber Conflicts",
          "International Humanitarian Law in Theory and Practice",
          "International Law in Action: A Guide to the International Courts and Tribunals in The Hague",
          "International Law in Action: the Arbitration of International Disputes",
          "International Leadership and Organizational Behavior",
          "International Marketing & Cross Industry Growth",
          "International Organizations Management",
          "International Security Management",
          "International Women's Health and Human Rights",
          "International migrations: a global issue",
          "Internet Connection: How to Get Online?",
          "Internet Giants: The Law and Economics of Media Platforms",
          "Interviewing and Resume Writing in English",
          "Introducción a Data Science: Programación Estadística con R",
          "Introducción a la programación en Python I: Aprendiendo a programar con Python",
          "Introduction aux Droits de l’Homme",
          "Introduction to Ableton Live",
          "Introduction to Artificial Intelligence (AI)",
          "Introduction to Big Data",
          "Introduction to Blockchain Technologies",
          "Introduction to Breast Cancer",
          "Introduction to Business Analytics: Communicating with Data",
          "Introduction to CSS3",
          "Introduction to Calculus",
          "Introduction to Chemistry:  Reactions and Ratios",
          "Introduction to Classical Music",
          "Introduction to Cloud Computing",
          "Introduction to Computer Programming",
          "Introduction to Computer Science and Programming",
          "Introduction to Corporate Finance",
          "Introduction to Cyber Attacks",
          "Introduction to Cyber Security",
          "Introduction to Cybersecurity Tools & Cyber Attacks",
          "Introduction to Data Analysis Using Excel",
          "Introduction to Data Science",
          "Introduction to Data Science in Python",
          "Introduction to Dental Medicine",
          "Introduction to Discrete Mathematics for Computer Science",
          "Introduction to Electronics",
          "Introduction to Embedded Systems Software and Development Environments",
          "Introduction to Engineering Mechanics",
          "Introduction to Environmental Law and Policy",
          "Introduction to Financial Accounting",
          "Introduction to Forensic Science",
          "Introduction to Game Development",
          "Introduction to Genetics and Evolution",
          "Introduction to Genomic Technologies",
          "Introduction to HTML5",
          "Introduction to Imagemaking",
          "Introduction to Intellectual Property",
          "Introduction to International Criminal Law",
          "Introduction to Marketing",
          "Introduction to Mathematical Thinking",
          "Introduction to Operations Management",
          "Introduction to Personal Branding",
          "Introduction to Philosophy",
          "Introduction to Portfolio Construction and Analysis with Python",
          "Introduction to Probability and Data",
          "Introduction to Programming in C",
          "Introduction to Programming with MATLAB",
          "Introduction to Psychology",
          "Introduction to Scripting in Python",
          "Introduction to Self-Driving Cars",
          "Introduction to Spreadsheets and Models",
          "Introduction to Statistics & Data Analysis in Public Health",
          "Introduction to Sustainability",
          "Introduction to Systematic Review and Meta-Analysis",
          "Introduction to Systems Engineering",
          "Introduction to TensorFlow for Artificial Intelligence, Machine Learning, and Deep Learning",
          "Introduction to Thermodynamics: Transferring Energy from Here to There",
          "Introduction to Trading, Machine Learning & GCP",
          "Introduction to Typography",
          "Introduction to User Experience Design",
          "Introduction to User Experience Principles and Processes",
          "Introduction to Web Development",
          "Introduction to the Biology of Cancer",
          "Introductory Human Physiology",
          "Introdução aos Princípios e Práticas da Gestão De Projetos",
          "Introdução à Ciência da Computação com Python Parte 1",
          "Investment Management",
          "Investment Management with Python and Machine Learning",
          "Investment and Portfolio Management",
          "Japanese for beginners 1",
          "Java Programming and Software Engineering Fundamentals",
          "Java Programming: Solving Problems with Software",
          "Julia Scientific Programming",
          "Kotlin for Java Developers",
          "L'excellence opérationnelle en pratique",
          "L'impact investing, la finance qui change le monde",
          "Leadership Development for Engineers",
          "Leadership in 21st Century Organizations",
          "Leading Healthcare Quality and Safety",
          "Leading People and Teams",
          "Leading for Equity, Diversity and Inclusion in Higher Education",
          "Leading: Human Resource Management and Leadership",
          "Learn Chinese: HSK Test Preparation",
          "Learn English",
          "Learn English: Advanced Academic Speaking and Listening",
          "Learn English: Advanced Grammar and Punctuation",
          "Learn English: Intermediate Grammar",
          "Learn Mandarin Chinese",
          "Learn SQL Basics for Data Science",
          "Learn Spanish: Basic Spanish Vocabulary",
          "Learn to Program: The Fundamentals",
          "Learn to Speak Korean 1",
          "Learning to Teach Online",
          "Legal Tech & Startups",
          "Les Fondamentaux de la Négociation",
          "Liderazgo efectivo para el siglo XXI",
          "Linear Circuits 1: DC Analysis",
          "Love as a Force for Social Justice",
          "Machine Learning",
          "Machine Learning",
          "Machine Learning Foundations: A Case Study Approach",
          "Machine Learning and Reinforcement Learning in Finance",
          "Machine Learning for All",
          "Machine Learning for Business Professionals",
          "Machine Learning for Trading",
          "Machine Learning with Python",
          "Machine Learning with TensorFlow on Google Cloud Platform",
          "Magic in the Middle Ages",
          "Making Architecture",
          "Management of Fashion and Luxury Companies",
          "Managerial Accounting Fundamentals",
          "Managerial Economics and Business Analysis",
          "Managing Innovation and Design Thinking",
          "Managing Project Risks and Changes",
          "Managing Social and Human Capital",
          "Managing Your Health: The Role of Physical Therapy and Exercise",
          "Market Research",
          "Marketing Digital",
          "Marketing Digital",
          "Marketing Gerencial",
          "Marketing Mix Implementation",
          "Marketing Strategy",
          "Marketing Verde",
          "Marketing con Redes Sociales",
          "Marketing in a Digital World",
          "Mastering Data Analysis in Excel",
          "Mastering Final Cut Pro",
          "Mastering Software Development in R",
          "Materials Science: 10 Things Every Engineer Should Know",
          "Mathematics for Data Science",
          "Mathematics for Machine Learning",
          "Mathematics for Machine Learning: Linear Algebra",
          "Mathematics for Machine Learning: Multivariate Calculus",
          "Mathematics for Machine Learning: PCA",
          "Medical Cannabis: The Health Effects of THC and CBD",
          "Medical Neuroscience",
          "Memoir and Personal Essay: Write About Yourself",
          "Methods and Statistics in Social Sciences",
          "Microeconomics Principles",
          "Microeconomics: The Power of Markets",
          "Mindshift: Break Through Obstacles to Learning and Discover Your Hidden Potential",
          "Miracles of Human Language: An Introduction to Linguistics",
          "Model Thinking",
          "Modeling Risk and Realities",
          "Modern Art & Ideas",
          "Modern Big Data Analysis with SQL",
          "Modern Robotics:  Mechanics, Planning, and Control",
          "Modernizing Data Lakes and Data Warehouses with GCP",
          "Moral Foundations of Politics",
          "More Introduction to Financial Accounting",
          "Mountains 101",
          "Municipal Solid Waste Management in Developing Countries",
          "Music Business",
          "Music Business Foundations",
          "Music Production",
          "Nanotechnology: A Maker’s Course",
          "Natural Language Processing in TensorFlow",
          "Negociación exitosa: Estrategias y habilidades esenciales (en español)",
          "Negotiation, Mediation and Conflict Resolution",
          "Networking and Security Architecture with VMware NSX",
          "Networking in Google Cloud",
          "Neural Networks and Deep Learning",
          "Neurolinguistics",
          "New Approaches to Countering Terror: Countering Violent Extremism",
          "Newborn Baby Care",
          "Nutrición y obesidad: control de sobrepeso",
          "Nutrition and Lifestyle in Pregnancy",
          "Object Oriented Java Programming: Data Structures and Beyond",
          "Object Oriented Programming in Java",
          "Object-Oriented Data Structures in C++",
          "Object-Oriented Design",
          "Oil & Gas Industry Operations and Markets",
          "Open Source Software Development, Linux and Git",
          "Operating Systems and You: Becoming a Power User",
          "Operations Analytics",
          "Optical Engineering",
          "Organizational Leadership",
          "Osteoarchaeology: The Truth in Our Bones",
          "Palliative Care: It's Not Just Hospice Anymore",
          "Palo Alto Networks Cybersecurity",
          "Parallel, Concurrent, and Distributed Programming in Java",
          "Particle Physics: an Introduction",
          "Patient Safety",
          "Patrocinio Deportivo",
          "People Analytics",
          "Perfect Tenses and Modals",
          "Periodismo digital y combate a las fake news",
          "Photography Basics and Beyond: From Smartphone to DSLR",
          "Plant Bioinformatic Methods",
          "Politics and Economics of International Energy",
          "Positive Psychiatry and Mental Health",
          "Positive Psychology",
          "Positive Psychology: Applications and Interventions",
          "Positive Psychology: Martin E. P. Seligman’s Visionary Science",
          "Positive Psychology: Resilience Skills",
          "Power Electronics",
          "Practical Data Science with MATLAB",
          "Practical Time Series Analysis",
          "Preparing for the Google Cloud Associate Cloud Engineer Exam",
          "Preparing to Manage Human Resources",
          "Presentation Skills: Speechwriting, Slides and Delivery",
          "Pricing Strategy Optimization",
          "Primeros Auxilios Psicológicos (PAP)",
          "Private Equity and Venture Capital",
          "Probabilistic Graphical Models 1: Representation",
          "Probability and Statistics: To p or not to p?",
          "Process Mining: Data science in Action",
          "Programming Foundations with JavaScript, HTML and CSS",
          "Programming Fundamentals",
          "Programming for Everybody (Getting Started with Python)",
          "Programming with Google Go",
          "Project Execution",
          "Project Launch",
          "Project Management & Other Tools for Career Development",
          "Project Management Principles and Practices",
          "Psychological First Aid",
          "Public Policy Challenges of the 21st Century",
          "Python Basics",
          "Python Classes and Inheritance",
          "Python Data Structures",
          "Python Functions, Files, and Dictionaries",
          "Python and Statistics for Financial Analysis",
          "Python for Data Science and AI",
          "Python for Everybody",
          "Quantitative Methods",
          "Queering Identities: LGBTQ+ Sexuality and Gender Identity",
          "R Programming",
          "Ready, Set, Future! Introduction to Futures Thinking",
          "Recommender Systems",
          "Recruiting, Hiring, and Onboarding Employees",
          "Reinforcement Learning",
          "Renewable Energy and Green Building Entrepreneurship",
          "Reporting extra-financier et stratégie RSE",
          "Requirements Engineering: Secure Software  Specifications",
          "Research Data Management and Sharing",
          "Resilience in Children Exposed to Trauma, Disaster and War: Global Perspectives",
          "Responsive Website Development and Design",
          "Rethinking International Tax Law",
          "Revisão Sistemática e Meta-análise",
          "Robotics",
          "Roman Architecture",
          "Russian Alphabet",
          "Russian for beginners А1. Русский язык: A1",
          "Réussir le Changement",
          "SAS Programmer",
          "SAS Visual Business Analytics",
          "SQL for Data Science",
          "Sales Operations/Management",
          "Sales Training for High Performing Teams",
          "Sample-based Learning Methods",
          "Scaling Operations: Linking Strategy and Execution",
          "School Health for Children and Adolescents",
          "Science of Exercise",
          "Search Engine Optimization Fundamentals",
          "Secure Coding Practices",
          "Security & Safety Challenges in a Globalized World",
          "Security in Google Cloud Platform",
          "Self-Driving Cars",
          "Sequence Models",
          "Sexualidad...mucho más que sexo",
          "Sharpened Visions: A Poetry Workshop",
          "Site Reliability Engineering: Measuring and Managing Reliability",
          "Six Sigma Green Belt",
          "Six Sigma and the Organization (Advanced)",
          "Sleep: Neurobiology, Medicine, and Society",
          "Smart Cities – Management of Smart Urban Infrastructures",
          "Social Entrepreneurship",
          "Social Media Marketing",
          "Social Norms, Social Change I",
          "Social Policy for Social Services & Health Practitioners",
          "Social Psychology",
          "Social and Economic Networks:  Models and Analysis",
          "Software Design and Architecture",
          "Software Development Lifecycle",
          "Software Processes and Agile Practices",
          "Software Product Management",
          "Solar Energy Basics",
          "Songwriting: Writing the Lyrics",
          "Soporte de Tecnologías de la Información de Google",
          "Spacecraft Dynamics and Control",
          "Spanish Vocabulary: Meeting People",
          "Speak English Professionally: In Person, Online & On the Phone",
          "Sports Marketing",
          "Sports and Society",
          "Stanford Introduction to Food and Health",
          "Stanford's Short Course on Breastfeeding",
          "Statistical Analysis with R for Public Health",
          "Statistics with Python",
          "Statistics with R",
          "Stories of Infection",
          "Strategic Business Analytics",
          "Strategic Business Management - Microeconomics",
          "Strategic Leadership and Management",
          "Strategic Management",
          "Strategic Management and Innovation",
          "Strategic Sales Management",
          "Strategising: Management for Global Competitive Advantage",
          "Strategy and Sustainability",
          "Structuring Machine Learning Projects",
          "Success",
          "Successful Negotiation: Essential Strategies and Skills",
          "Summary Statistics in Public Health",
          "Supply Chain Analytics",
          "Supply Chain Finance and Blockchain Technology",
          "Supply Chain Logistics",
          "Supply Chain Management",
          "Supply Chain Operations",
          "Supply Chain Principles",
          "Supporting children with difficulties in reading and writing",
          "Survey Data Collection and Analytics",
          "Sustainable Tourism – promoting environmental public health",
          "Swift 5 iOS Application Developer",
          "System Administration and IT Infrastructure Services",
          "Systems Biology and Biotechnology",
          "Systems Thinking In Public Health",
          "TESOL Certificate, Part 1: Teach English Now!",
          "TESOL Certificate, Part 2: Teach English Now!",
          "Teach English Now! Foundational Principles",
          "Teach English Now! Teaching Language Online",
          "Teaching Character and Creating Positive Classrooms",
          "Teamwork Skills: Communicating Effectively in Groups",
          "Technical Support Fundamentals",
          "TensorFlow in Practice",
          "TensorFlow: Data and Deployment",
          "Terrorism and Counterterrorism: Comparing Theory and Practice",
          "The Addicted Brain",
          "The Art of Music Production",
          "The Art of Sales: Mastering the Selling Process",
          "The Arts and Science of Relationships: Understanding Human Needs",
          "The Bits and Bytes of Computer Networking",
          "The Business of Health Care",
          "The Business of Music Production",
          "The Changing Global Order",
          "The Cycle: Management of Successful Arts and Cultural Organizations",
          "The DIY Musician",
          "The Data Scientist’s Toolbox",
          "The Economics of Health Care Delivery",
          "The Global Financial Crisis",
          "The Horse Course: Introduction to Basic Care and Management",
          "The Manager's Toolkit: A Practical Guide to Managing People at Work",
          "The Modern World, Part One: Global History from 1760 to 1910",
          "The Modern World, Part Two: Global History since 1910",
          "The Oral Cavity: Portal to Health and Disease",
          "The Power of Macroeconomics: Economic Principles in the Real World",
          "The Power of Microeconomics: Economic Principles in the Real World",
          "The Pronunciation of American English",
          "The Science of Gastronomy",
          "The Science of Stem Cells",
          "The Science of Success: What Researchers Know that You Should Know",
          "The Science of Training Young Athletes",
          "The Science of Well-Being",
          "The Singer Songwriter",
          "The Social Context of Mental Health and Illness",
          "The Strategy of Content Marketing",
          "The Sustainable Development Goals – A global, transdisciplinary vision for the future",
          "The Teacher and Social and Emotional Learning (SEL)",
          "The Technology of Music Production",
          "The Truth About Cats and Dogs",
          "The hidden value – Lean in manufacturing and services",
          "Think Again I: How to Understand Arguments",
          "Tools for Data Science",
          "Trading Strategies in Emerging Markets",
          "Transmedia Storytelling: Narrative worlds, emerging technologies, and global audiences",
          "Tricky American English Pronunciation",
          "Troubles du spectre de l'autisme : diagnostic",
          "U.S. Federal Taxation",
          "UCI Project Management",
          "UI / UX Design",
          "UX Design Fundamentals",
          "Understanding Cancer Metastasis",
          "Understanding Clinical Research: Behind the Statistics",
          "Understanding Einstein: The Special Theory of Relativity",
          "Understanding Medical Research: Your Facebook Friend is Wrong",
          "Understanding Modern Finance",
          "Understanding Plants - Part I: What a Plant Knows",
          "Understanding Research Methods",
          "Understanding and Visualizing Data with Python",
          "Understanding the Brain: The Neurobiology of Everyday Life",
          "Unity Certified Programmer Exam Preparation",
          "Unity XR: How to Build AR and VR Apps",
          "University Teaching",
          "Unraveling the Cycling City",
          "User Experience Research and Design",
          "User Interface Design",
          "Using Databases with Python",
          "Using Python to Access Web Data",
          "Using Python to Interact with the Operating System",
          "Value Chain Management",
          "Version Control with Git",
          "Viral Marketing and How to Craft Contagious Content",
          "Virtual Reality",
          "Virtual Teacher",
          "Vital Signs: Understanding What the Body Is Telling Us",
          "Web Applications for Everybody",
          "Web Design for Everybody: Basics of Web Development & Coding",
          "Weight Management: Beyond Balancing Calories",
          "What Is Contemporary Art?",
          "What future for education?",
          "What is Compliance?",
          "What is Data Science?",
          "What is Social?",
          "Wine Tasting: Sensory Techniques for Wine Analysis",
          "Wonders of Ancient Egypt",
          "Write A Feature Length Screenplay For Film Or Television",
          "Write Professional Emails in English",
          "Write Your First Novel",
          "Writing in the Sciences",
          "e-Learning Ecologies: Innovative Approaches to Teaching and Learning for the Digital Age",
          "iOS App Development with Swift",
          "¿Qué hacen los buenos directivos? Prioridades de la Alta Dirección",
          "Étudier en France: French Intermediate course B1-B2",
          "Éxito Profesional",
          "Искусство ведения бизнеса",
          "Искусство разработки на современном C++",
          "Корпоративные финансы и стоимость компании",
          "Математика и Python для анализа данных",
          "Машинное обучение и анализ данных",
          "Основы Digital Маркетинга",
          "Основы программирования на Python",
          "Основы разработки на C++: белый пояс",
          "Погружение в Python",
          "Программирование на Python",
          "Психолингвистика (Psycholinguistics)",
          "Разработка интерфейсов: вёрстка и JavaScript",
          "Русский как иностранный",
          "Финансовые инструменты для частного инвестора"
         ],
         "legendgroup": "",
         "marker": {
          "color": [
           4.7,
           4.7,
           4.5,
           4.7,
           4.8,
           4.7,
           4.8,
           4.8,
           4.7,
           4.7,
           4.6,
           4.7,
           4.6,
           4.3,
           4.7,
           4.7,
           4.5,
           4.7,
           4.7,
           4.7,
           4.6,
           4.5,
           4.8,
           4.7,
           4.8,
           4.8,
           4.5,
           4.4,
           4.5,
           4.5,
           4.7,
           4.8,
           4.7,
           4.7,
           4.7,
           4.7,
           4.9,
           4.7,
           4.8,
           4.8,
           4.9,
           4.8,
           4.7,
           4.6,
           4.6,
           4.8,
           4.8,
           4.8,
           4.8,
           4.5,
           4.8,
           4.5,
           4.8,
           4.6,
           4.6,
           4.7,
           4.5,
           4.6,
           4.6,
           4.2,
           4.8,
           4.9,
           4.5,
           4.7,
           4.5,
           4.9,
           4.8,
           4.8,
           4.6,
           4.8,
           4.9,
           4.7,
           4.8,
           4.6,
           4.8,
           4.8,
           4.7,
           4.7,
           4.6,
           4.6,
           4.8,
           4.8,
           4.9,
           4.7,
           4.7,
           4.7,
           4.8,
           4.4,
           4.6,
           4.5,
           4.6,
           4.4,
           4.8,
           4.8,
           4.6,
           4.7,
           4.6,
           4.7,
           4.9,
           4.9,
           4.6,
           4.7,
           4.9,
           4.9,
           4.5,
           4.5,
           4.6,
           4.3,
           4.5,
           4.6,
           4.7,
           4.7,
           4.7,
           4.7,
           4.7,
           4.7,
           4.7,
           4.7,
           4.5,
           4.7,
           4.8,
           4.5,
           4.5,
           4.7,
           4.9,
           4.8,
           4.7,
           4.7,
           4.6,
           4.4,
           4.8,
           4.7,
           4.7,
           4.7,
           4.8,
           4.7,
           4.8,
           4.8,
           4.6,
           4.8,
           4.4,
           4.5,
           4.7,
           4.7,
           4.7,
           4.7,
           4.8,
           4.9,
           4.7,
           4.7,
           4.6,
           4.8,
           4.6,
           4.3,
           4.7,
           4.7,
           4.8,
           4.8,
           4.7,
           4.5,
           4.6,
           4.8,
           4.9,
           4.7,
           4.8,
           4.8,
           4.8,
           4.6,
           4.6,
           4.8,
           4.8,
           4.8,
           4.3,
           4.6,
           4.7,
           4.7,
           4.8,
           4.8,
           4.6,
           4.6,
           4.7,
           4.5,
           4.2,
           4.6,
           4.8,
           4.8,
           4.4,
           4.6,
           4.7,
           4.8,
           4.7,
           4.4,
           4.6,
           4.6,
           4.7,
           4.4,
           4.5,
           4.5,
           4.6,
           4.6,
           4.4,
           4.7,
           4.8,
           4.6,
           4.5,
           4.5,
           4.7,
           4.6,
           4.7,
           4.8,
           4.6,
           4.8,
           4.8,
           4.7,
           4.4,
           4.6,
           4.6,
           4.7,
           4.7,
           4.6,
           4.6,
           4.7,
           4.8,
           4.6,
           4.8,
           4.8,
           4.7,
           4.4,
           4.5,
           4.6,
           4.6,
           4.4,
           4.7,
           4.7,
           4.5,
           4.9,
           4.6,
           4.9,
           4.8,
           4.6,
           4.8,
           4.7,
           4.6,
           4.7,
           4.8,
           4.8,
           4.7,
           4.9,
           4.7,
           4.9,
           4.9,
           5,
           4.7,
           4.8,
           4.8,
           4.6,
           4.7,
           4.8,
           4.7,
           4.6,
           4.8,
           4.8,
           4.8,
           4.6,
           4.8,
           4.4,
           4.5,
           4.8,
           4.8,
           4.8,
           4.7,
           4.8,
           4.6,
           4.8,
           4.7,
           4.7,
           4.7,
           4.6,
           4.8,
           4.8,
           4.5,
           4.7,
           4.7,
           4.7,
           4.8,
           4.6,
           4.8,
           4.7,
           4.8,
           4.8,
           4.9,
           4.9,
           4.7,
           4.9,
           4.9,
           4.8,
           4.6,
           4.8,
           4.8,
           4.5,
           4.8,
           4.8,
           4.8,
           4.8,
           4.6,
           4.7,
           4.5,
           4.8,
           4.4,
           4.8,
           4.5,
           4.6,
           4.7,
           4.8,
           4.5,
           4.8,
           4.7,
           4.8,
           4.6,
           4.8,
           4.7,
           4.6,
           4.9,
           4.8,
           4.7,
           4.9,
           4.8,
           4.8,
           4.8,
           4.7,
           4.8,
           4.2,
           4.8,
           4.8,
           4.6,
           4.8,
           4.7,
           4.8,
           4.7,
           4.7,
           4.8,
           4.7,
           4.6,
           4.6,
           4.8,
           4.7,
           4.8,
           4.8,
           4.7,
           4.7,
           4.6,
           4.7,
           4.6,
           4.8,
           4.5,
           4.6,
           4.6,
           4.7,
           4.8,
           4.6,
           4.6,
           4.8,
           4.7,
           4.8,
           4.7,
           4.6,
           4.8,
           4.7,
           4.4,
           4.8,
           4.3,
           4.8,
           4.7,
           4.7,
           4.5,
           4.5,
           4.6,
           4.5,
           4.6,
           4.9,
           4.6,
           4.7,
           4.5,
           4.6,
           4.6,
           4.6,
           4.8,
           4.8,
           4.6,
           4.6,
           4.7,
           4.7,
           4.8,
           4.7,
           4.7,
           4.8,
           4.6,
           4.8,
           4.7,
           4.8,
           4.7,
           4.8,
           4.2,
           4.6,
           4.5,
           4.5,
           4.7,
           4.4,
           4.6,
           4.8,
           4.7,
           4.6,
           4.8,
           3.3,
           4.1,
           4.7,
           4.6,
           4.4,
           4.6,
           4.8,
           4.6,
           4.5,
           4.8,
           4.9,
           4.7,
           4.6,
           4.7,
           4.9,
           4.4,
           4.9,
           4.8,
           4.5,
           5,
           4.4,
           4.8,
           4.6,
           4.6,
           4.7,
           4.7,
           4.6,
           4.8,
           4.8,
           4.5,
           4.7,
           4.8,
           4.2,
           4.6,
           4.8,
           4.8,
           4.5,
           4.6,
           4.5,
           4.4,
           4.8,
           4.8,
           4.8,
           4.8,
           4.6,
           4.8,
           4.5,
           4.9,
           4.6,
           4.7,
           4.8,
           4.6,
           4.7,
           4.4,
           4.8,
           4.8,
           4.7,
           4.6,
           4.7,
           4.9,
           4.7,
           4.8,
           4.8,
           4.8,
           4.9,
           4.6,
           4.3,
           4.3,
           4.6,
           4.7,
           4.7,
           4.5,
           4.7,
           4.6,
           4.5,
           4.8,
           4.4,
           4.7,
           4.5,
           4.7,
           4.8,
           4.7,
           4.9,
           4.8,
           4.8,
           4.6,
           4.7,
           4.5,
           4.8,
           4.8,
           4.8,
           4.8,
           4.5,
           4.4,
           4.6,
           4.8,
           4.7,
           4.7,
           4.8,
           4.9,
           4.7,
           4.8,
           4.2,
           4.7,
           4.8,
           4.8,
           4.7,
           4.7,
           4.8,
           4,
           4.8,
           4.5,
           4.8,
           4.7,
           4.8,
           4.7,
           4.9,
           4.9,
           4.7,
           4.6,
           4.5,
           4.6,
           4.6,
           4.6,
           4.5,
           4.7,
           4.7,
           4.6,
           4.7,
           4.7,
           4.8,
           4.7,
           4.7,
           4.8,
           4.8,
           4.3,
           4.5,
           4.8,
           4.7,
           4.8,
           4.6,
           4.6,
           4.8,
           4.9,
           4.7,
           4.5,
           4.7,
           4.8,
           4.6,
           4.7,
           4.6,
           4.9,
           4.6,
           3.7,
           4.6,
           4.6,
           3.9,
           4.7,
           4.5,
           4.6,
           4.7,
           4.7,
           4.9,
           4.7,
           4.7,
           4.7,
           4.5,
           4.6,
           4.5,
           4.8,
           4.7,
           4.7,
           4.6,
           4.4,
           4.8,
           4.4,
           4.7,
           4.2,
           4.6,
           4.3,
           4.7,
           4.5,
           4.6,
           4.7,
           4.7,
           4,
           4.8,
           4.9,
           4.3,
           4.6,
           4.9,
           4.7,
           4.8,
           4.7,
           4.8,
           4.6,
           4.7,
           4.8,
           4.7,
           4.7,
           4.8,
           4.9,
           4.9,
           4.8,
           4.8,
           4.9,
           4.8,
           4.8,
           4.6,
           4.8,
           4.7,
           4.8,
           4.7,
           4.9,
           4.7,
           4.7,
           4.8,
           4.8,
           4.8,
           4.7,
           4.6,
           4.7,
           4.7,
           4.8,
           4.4,
           4.6,
           4.7,
           4.2,
           4.7,
           4.7,
           4.8,
           4.6,
           4.5,
           4.5,
           4.8,
           4.6,
           4.5,
           4.7,
           4.9,
           4.7,
           4.7,
           4.7,
           4.8,
           4.7,
           4.8,
           4.8,
           4.6,
           4.8,
           4.7,
           4.6,
           4.7,
           4.8,
           4.6,
           4.8,
           4.8,
           4.8,
           4.7,
           4.6,
           4.8,
           4.6,
           4.7,
           4.8,
           4.6,
           4.2,
           4.7,
           4.6,
           4.7,
           4.8,
           4.6,
           4.8,
           4.7,
           4.9,
           4.8,
           4.4,
           4.6,
           4.8,
           4.7,
           4.9,
           4.6,
           4.8,
           4.3,
           4.7,
           4.7,
           4.7,
           4.7,
           4.6,
           4.6,
           4.8,
           4.5,
           4.9,
           4.9,
           4.4,
           4.9,
           4.7,
           4.7,
           4.5,
           4.8,
           4.6,
           4.6,
           4.4,
           4.7,
           4.8,
           4.5,
           4.8,
           4.8,
           4.7,
           4.4,
           4.7,
           4.7,
           4.7,
           4.8,
           4.8,
           4.7,
           4.5,
           4.7,
           4.7,
           4.8,
           4.6,
           4.6,
           4.6,
           4.6,
           4.8,
           4.7,
           4.8,
           4.6,
           4.6,
           4.7,
           4.6,
           4.8,
           4.8,
           4.9,
           4.8,
           4.6,
           4.6,
           4.7,
           4.8,
           4.7,
           4.7,
           4.7,
           4.6,
           4.7,
           4.9,
           4.3,
           4.7,
           4.7,
           4.7,
           4.7,
           4.5,
           4.8,
           4.6,
           4.8,
           4.8,
           4.8,
           4.8,
           4.7,
           4.6,
           4.7,
           4.7,
           4.8,
           4.6,
           4.8,
           4.3,
           4.6,
           4.5,
           4.7,
           4.4,
           4.9,
           4.9,
           4.9,
           4.9,
           4.4,
           4.8,
           4.8,
           4.8,
           4.7,
           4.5,
           4.8,
           4.6,
           4.8,
           4.7,
           4.5,
           4.7,
           4.6,
           4.8,
           4.7,
           4.8,
           4.8,
           4.6,
           4.8,
           4.8,
           4.9,
           4.6,
           4.8,
           4.8,
           4.9,
           4.6,
           4.7,
           4.6,
           4.6,
           4.7,
           4.8,
           4.9,
           4.9,
           4.8,
           4.6,
           4.5,
           4.8,
           4.7,
           4.8,
           4.7,
           4.7,
           4.6,
           4.6,
           4.3,
           4.8,
           4.7,
           4.9,
           4.8,
           4.6,
           4.7,
           4.8,
           4.8,
           4.8,
           4.9,
           4.8,
           4.4,
           4.8,
           4.5,
           4.7,
           4.9,
           4.5,
           4.2,
           4.8,
           4.9,
           4.8,
           4.6,
           4.8,
           4.8,
           4.7,
           4.7,
           4.8,
           4.7,
           4.7,
           4.3,
           4.8,
           4.8,
           4.7,
           4.7,
           4.7,
           4.7,
           4.8,
           4.7,
           4.6,
           4.7,
           4.8,
           4.9,
           4.7,
           4.4,
           4.9,
           4.5,
           3.9,
           4.7,
           4.8,
           4.5,
           4.6,
           4.9,
           4.5,
           4.8,
           4.7,
           4.5,
           4.6,
           4.9,
           4.7,
           4.5,
           4.8,
           4.5,
           4.6,
           4.7
          ],
          "coloraxis": "coloraxis",
          "size": [
           5300,
           17000,
           130000,
           91000,
           320000,
           39000,
           350000,
           2400,
           61000,
           12000,
           4000,
           13000,
           130000,
           11000,
           27000,
           110000,
           13000,
           6600,
           540000,
           22000,
           2900,
           80000,
           9900,
           110000,
           23000,
           9200,
           78000,
           320000,
           190000,
           35000,
           29000,
           14000,
           21000,
           94000,
           69000,
           40000,
           12000,
           220000,
           150000,
           14000,
           18000,
           23000,
           69000,
           270000,
           7900,
           30000,
           36000,
           20000,
           8100,
           120000,
           71000,
           11000,
           11000,
           63000,
           220000,
           42000,
           480000,
           150000,
           97000,
           6600,
           200000,
           180000,
           4200,
           310000,
           3900,
           150000,
           79000,
           31000,
           15000,
           15000,
           10000,
           66000,
           33000,
           56000,
           7300,
           9200,
           22000,
           9700,
           13000,
           180000,
           91000,
           29000,
           210000,
           28000,
           4200,
           6500,
           61000,
           55000,
           2300,
           8800,
           35000,
           88000,
           14000,
           1900,
           68000,
           21000,
           1600,
           31000,
           9500,
           57000,
           26000,
           84000,
           15000,
           95000,
           7300,
           22000,
           5800,
           24000,
           67000,
           280000,
           38000,
           120000,
           77000,
           510000,
           13000,
           110000,
           24000,
           89000,
           67000,
           10000,
           48000,
           160000,
           31000,
           36000,
           220000,
           32000,
           130000,
           340000,
           82000,
           790000,
           31000,
           23000,
           19000,
           30000,
           22000,
           57000,
           51000,
           51000,
           4800,
           32000,
           110000,
           37000,
           310000,
           37000,
           120000,
           15000,
           43000,
           6400,
           43000,
           350000,
           5800,
           33000,
           27000,
           66000,
           19000,
           61000,
           43000,
           15000,
           220000,
           27000,
           26000,
           49000,
           240000,
           46000,
           10000,
           56000,
           7800,
           10000,
           75000,
           15000,
           43000,
           81000,
           140000,
           140000,
           120000,
           150000,
           26000,
           22000,
           17000,
           5500,
           18000,
           99000,
           140000,
           23000,
           55000,
           23000,
           100000,
           220000,
           110000,
           24000,
           19000,
           3000,
           120000,
           120000,
           42000,
           140000,
           830000,
           140000,
           89000,
           740000,
           210000,
           130000,
           60000,
           66000,
           96000,
           140000,
           18000,
           120000,
           110000,
           150000,
           31000,
           690000,
           44000,
           4500,
           8200,
           240000,
           17000,
           67000,
           97000,
           19000,
           16000,
           300000,
           4000,
           8000,
           41000,
           54000,
           54000,
           9000,
           21000,
           37000,
           380000,
           57000,
           140000,
           58000,
           35000,
           40000,
           4000,
           21000,
           130000,
           150000,
           5600,
           17000,
           39000,
           110000,
           7100,
           18000,
           110000,
           83000,
           16000,
           3400,
           46000,
           1500,
           57000,
           12000,
           110000,
           17000,
           37000,
           14000,
           23000,
           200000,
           230000,
           760000,
           130000,
           42000,
           110000,
           2400,
           7900,
           110000,
           86000,
           38000,
           31000,
           20000,
           69000,
           45000,
           23000,
           6400,
           31000,
           130000,
           35000,
           7200,
           1800,
           14000,
           68000,
           83000,
           4100,
           54000,
           31000,
           27000,
           13000,
           11000,
           86000,
           240000,
           39000,
           200000,
           76000,
           39000,
           490000,
           56000,
           54000,
           170000,
           28000,
           180000,
           18000,
           9700,
           13000,
           12000,
           260000,
           69000,
           12000,
           65000,
           10000,
           100000,
           76000,
           470000,
           60000,
           12000,
           6500,
           24000,
           30000,
           310000,
           36000,
           20000,
           400000,
           57000,
           42000,
           4400,
           14000,
           63000,
           62000,
           31000,
           64000,
           27000,
           89000,
           3200,
           26000,
           52000,
           45000,
           89000,
           150000,
           140000,
           170000,
           220000,
           30000,
           39000,
           200000,
           49000,
           86000,
           290000,
           20000,
           18000,
           180000,
           120000,
           110000,
           22000,
           81000,
           25000,
           56000,
           150000,
           110000,
           47000,
           4900,
           9400,
           10000,
           140000,
           100000,
           260000,
           110000,
           14000,
           80000,
           97000,
           19000,
           34000,
           47000,
           14000,
           59000,
           73000,
           59000,
           75000,
           18000,
           22000,
           79000,
           29000,
           10000,
           22000,
           37000,
           3600,
           7600,
           44000,
           3800,
           120000,
           36000,
           93000,
           350000,
           430000,
           10000,
           260000,
           56000,
           210000,
           62000,
           240000,
           43000,
           62000,
           7400,
           39000,
           8100,
           5400,
           1700,
           36000,
           5500,
           46000,
           5500,
           28000,
           170000,
           140000,
           34000,
           98000,
           140000,
           3500,
           220000,
           3300,
           480000,
           35000,
           62000,
           1700,
           23000,
           2200,
           610000,
           270000,
           18000,
           79000,
           51000,
           34000,
           1600,
           12000,
           22000,
           32000,
           10000,
           16000,
           180000,
           40000,
           10000,
           25000,
           72000,
           97000,
           85000,
           12000,
           9700,
           14000,
           8700,
           150000,
           6500,
           22000,
           25000,
           22000,
           36000,
           19000,
           41000,
           26000,
           20000,
           2200,
           35000,
           11000,
           36000,
           38000,
           66000,
           140000,
           100000,
           46000,
           60000,
           44000,
           160000,
           16000,
           27000,
           14000,
           84000,
           53000,
           46000,
           150000,
           2600,
           20000,
           32000,
           130000,
           27000,
           32000,
           30000,
           99000,
           310000,
           390000,
           25000,
           75000,
           110000,
           41000,
           150000,
           34000,
           200000,
           47000,
           79000,
           74000,
           42000,
           220000,
           54000,
           6000,
           82000,
           220000,
           270000,
           87000,
           140000,
           370000,
           11000,
           160000,
           82000,
           270000,
           270000,
           49000,
           39000,
           76000,
           12000,
           69000,
           67000,
           33000,
           150000,
           4100,
           13000,
           72000,
           87000,
           16000,
           76000,
           110000,
           270000,
           4500,
           120000,
           99000,
           14000,
           49000,
           4400,
           380000,
           160000,
           22000,
           37000,
           8000,
           6300,
           17000,
           34000,
           16000,
           220000,
           5900,
           16000,
           43000,
           22000,
           78000,
           52000,
           120000,
           39000,
           160000,
           80000,
           180000,
           120000,
           68000,
           7200,
           10000,
           23000,
           29000,
           14000,
           290000,
           3200000,
           240000,
           29000,
           19000,
           58000,
           15000,
           120000,
           72000,
           78000,
           43000,
           120000,
           11000,
           55000,
           23000,
           71000,
           27000,
           47000,
           22000,
           81000,
           39000,
           49000,
           93000,
           57000,
           58000,
           60000,
           310000,
           280000,
           8400,
           52000,
           48000,
           12000,
           150000,
           140000,
           51000,
           33000,
           4800,
           170000,
           13000,
           260000,
           73000,
           34000,
           230000,
           120000,
           130000,
           36000,
           310000,
           14000,
           21000,
           9100,
           100000,
           40000,
           44000,
           59000,
           42000,
           34000,
           70000,
           21000,
           40000,
           95000,
           22000,
           17000,
           290000,
           630000,
           41000,
           12000,
           5300,
           100000,
           35000,
           250000,
           330000,
           21000,
           33000,
           57000,
           13000,
           76000,
           80000,
           6200,
           92000,
           22000,
           3200,
           9100,
           30000,
           42000,
           8800,
           12000,
           84000,
           79000,
           8900,
           160000,
           83000,
           34000,
           72000,
           180000,
           23000,
           50000,
           40000,
           67000,
           10000,
           39000,
           22000,
           68000,
           47000,
           20000,
           280000,
           79000,
           68000,
           36000,
           39000,
           250000,
           19000,
           1300000,
           18000,
           70000,
           190000,
           440000,
           230000,
           190000,
           52000,
           110000,
           21000,
           420000,
           26000,
           41000,
           170000,
           1500000,
           69000,
           3000,
           480000,
           7700,
           29000,
           35000,
           23000,
           24000,
           5200,
           7200,
           16000,
           15000,
           170000,
           36000,
           17000,
           120000,
           30000,
           3200,
           7000,
           33000,
           370000,
           2600,
           160000,
           5600,
           16000,
           6800,
           12000,
           9100,
           140000,
           47000,
           6400,
           14000,
           300000,
           39000,
           14000,
           110000,
           61000,
           16000,
           18000,
           15000,
           20000,
           22000,
           13000,
           130000,
           78000,
           4200,
           220000,
           42000,
           60000,
           34000,
           60000,
           110000,
           17000,
           68000,
           8800,
           12000,
           71000,
           430000,
           12000,
           16000,
           370000,
           17000,
           16000,
           34000,
           220000,
           28000,
           60000,
           9500,
           100000,
           58000,
           68000,
           9200,
           30000,
           11000,
           220000,
           38000,
           750000,
           11000,
           7900,
           4900,
           66000,
           82000,
           24000,
           29000,
           50000,
           45000,
           9400,
           3900,
           62000,
           48000,
           33000,
           100000,
           62000,
           81000,
           8500,
           53000,
           49000,
           280000,
           170000,
           12000,
           90000,
           130000,
           47000,
           23000,
           73000,
           130000,
           22000,
           84000,
           23000,
           11000,
           120000,
           420000,
           7200,
           84000,
           29000,
           47000,
           130000,
           47000,
           9400,
           180000,
           120000,
           1700,
           50000,
           12000,
           59000,
           13000,
           2500000,
           320000,
           19000,
           100000,
           26000,
           5200,
           28000,
           33000,
           14000,
           200000,
           120000,
           68000,
           45000,
           110000,
           5400,
           12000,
           44000,
           68000,
           25000,
           29000,
           78000,
           89000,
           24000,
           11000,
           49000,
           120000,
           30000,
           130000,
           6100,
           12000,
           9500,
           3900,
           23000,
           43000,
           220000,
           310000,
           19000,
           63000,
           40000,
           150000,
           37000,
           23000,
           190000,
           120000,
           280000,
           34000,
           120000,
           35000,
           6200,
           260000,
           94000,
           32000,
           17000,
           12000,
           270000,
           18000,
           140000,
           17000,
           76000,
           25000,
           190000,
           69000,
           14000,
           68000,
           16000,
           67000,
           77000,
           19000,
           83000,
           41000,
           45000,
           52000,
           21000,
           30000,
           9800,
           38000
          ],
          "sizemode": "area",
          "sizeref": 8000,
          "symbol": "circle"
         },
         "mode": "markers",
         "name": "",
         "orientation": "v",
         "showlegend": false,
         "type": "scatter",
         "x": [
          5300,
          17000,
          130000,
          91000,
          320000,
          39000,
          350000,
          2400,
          61000,
          12000,
          4000,
          13000,
          130000,
          11000,
          27000,
          110000,
          13000,
          6600,
          540000,
          22000,
          2900,
          80000,
          9900,
          110000,
          23000,
          9200,
          78000,
          320000,
          190000,
          35000,
          29000,
          14000,
          21000,
          94000,
          69000,
          40000,
          12000,
          220000,
          150000,
          14000,
          18000,
          23000,
          69000,
          270000,
          7900,
          30000,
          36000,
          20000,
          8100,
          120000,
          71000,
          11000,
          11000,
          63000,
          220000,
          42000,
          480000,
          150000,
          97000,
          6600,
          200000,
          180000,
          4200,
          310000,
          3900,
          150000,
          79000,
          31000,
          15000,
          15000,
          10000,
          66000,
          33000,
          56000,
          7300,
          9200,
          22000,
          9700,
          13000,
          180000,
          91000,
          29000,
          210000,
          28000,
          4200,
          6500,
          61000,
          55000,
          2300,
          8800,
          35000,
          88000,
          14000,
          1900,
          68000,
          21000,
          1600,
          31000,
          9500,
          57000,
          26000,
          84000,
          15000,
          95000,
          7300,
          22000,
          5800,
          24000,
          67000,
          280000,
          38000,
          120000,
          77000,
          510000,
          13000,
          110000,
          24000,
          89000,
          67000,
          10000,
          48000,
          160000,
          31000,
          36000,
          220000,
          32000,
          130000,
          340000,
          82000,
          790000,
          31000,
          23000,
          19000,
          30000,
          22000,
          57000,
          51000,
          51000,
          4800,
          32000,
          110000,
          37000,
          310000,
          37000,
          120000,
          15000,
          43000,
          6400,
          43000,
          350000,
          5800,
          33000,
          27000,
          66000,
          19000,
          61000,
          43000,
          15000,
          220000,
          27000,
          26000,
          49000,
          240000,
          46000,
          10000,
          56000,
          7800,
          10000,
          75000,
          15000,
          43000,
          81000,
          140000,
          140000,
          120000,
          150000,
          26000,
          22000,
          17000,
          5500,
          18000,
          99000,
          140000,
          23000,
          55000,
          23000,
          100000,
          220000,
          110000,
          24000,
          19000,
          3000,
          120000,
          120000,
          42000,
          140000,
          830000,
          140000,
          89000,
          740000,
          210000,
          130000,
          60000,
          66000,
          96000,
          140000,
          18000,
          120000,
          110000,
          150000,
          31000,
          690000,
          44000,
          4500,
          8200,
          240000,
          17000,
          67000,
          97000,
          19000,
          16000,
          300000,
          4000,
          8000,
          41000,
          54000,
          54000,
          9000,
          21000,
          37000,
          380000,
          57000,
          140000,
          58000,
          35000,
          40000,
          4000,
          21000,
          130000,
          150000,
          5600,
          17000,
          39000,
          110000,
          7100,
          18000,
          110000,
          83000,
          16000,
          3400,
          46000,
          1500,
          57000,
          12000,
          110000,
          17000,
          37000,
          14000,
          23000,
          200000,
          230000,
          760000,
          130000,
          42000,
          110000,
          2400,
          7900,
          110000,
          86000,
          38000,
          31000,
          20000,
          69000,
          45000,
          23000,
          6400,
          31000,
          130000,
          35000,
          7200,
          1800,
          14000,
          68000,
          83000,
          4100,
          54000,
          31000,
          27000,
          13000,
          11000,
          86000,
          240000,
          39000,
          200000,
          76000,
          39000,
          490000,
          56000,
          54000,
          170000,
          28000,
          180000,
          18000,
          9700,
          13000,
          12000,
          260000,
          69000,
          12000,
          65000,
          10000,
          100000,
          76000,
          470000,
          60000,
          12000,
          6500,
          24000,
          30000,
          310000,
          36000,
          20000,
          400000,
          57000,
          42000,
          4400,
          14000,
          63000,
          62000,
          31000,
          64000,
          27000,
          89000,
          3200,
          26000,
          52000,
          45000,
          89000,
          150000,
          140000,
          170000,
          220000,
          30000,
          39000,
          200000,
          49000,
          86000,
          290000,
          20000,
          18000,
          180000,
          120000,
          110000,
          22000,
          81000,
          25000,
          56000,
          150000,
          110000,
          47000,
          4900,
          9400,
          10000,
          140000,
          100000,
          260000,
          110000,
          14000,
          80000,
          97000,
          19000,
          34000,
          47000,
          14000,
          59000,
          73000,
          59000,
          75000,
          18000,
          22000,
          79000,
          29000,
          10000,
          22000,
          37000,
          3600,
          7600,
          44000,
          3800,
          120000,
          36000,
          93000,
          350000,
          430000,
          10000,
          260000,
          56000,
          210000,
          62000,
          240000,
          43000,
          62000,
          7400,
          39000,
          8100,
          5400,
          1700,
          36000,
          5500,
          46000,
          5500,
          28000,
          170000,
          140000,
          34000,
          98000,
          140000,
          3500,
          220000,
          3300,
          480000,
          35000,
          62000,
          1700,
          23000,
          2200,
          610000,
          270000,
          18000,
          79000,
          51000,
          34000,
          1600,
          12000,
          22000,
          32000,
          10000,
          16000,
          180000,
          40000,
          10000,
          25000,
          72000,
          97000,
          85000,
          12000,
          9700,
          14000,
          8700,
          150000,
          6500,
          22000,
          25000,
          22000,
          36000,
          19000,
          41000,
          26000,
          20000,
          2200,
          35000,
          11000,
          36000,
          38000,
          66000,
          140000,
          100000,
          46000,
          60000,
          44000,
          160000,
          16000,
          27000,
          14000,
          84000,
          53000,
          46000,
          150000,
          2600,
          20000,
          32000,
          130000,
          27000,
          32000,
          30000,
          99000,
          310000,
          390000,
          25000,
          75000,
          110000,
          41000,
          150000,
          34000,
          200000,
          47000,
          79000,
          74000,
          42000,
          220000,
          54000,
          6000,
          82000,
          220000,
          270000,
          87000,
          140000,
          370000,
          11000,
          160000,
          82000,
          270000,
          270000,
          49000,
          39000,
          76000,
          12000,
          69000,
          67000,
          33000,
          150000,
          4100,
          13000,
          72000,
          87000,
          16000,
          76000,
          110000,
          270000,
          4500,
          120000,
          99000,
          14000,
          49000,
          4400,
          380000,
          160000,
          22000,
          37000,
          8000,
          6300,
          17000,
          34000,
          16000,
          220000,
          5900,
          16000,
          43000,
          22000,
          78000,
          52000,
          120000,
          39000,
          160000,
          80000,
          180000,
          120000,
          68000,
          7200,
          10000,
          23000,
          29000,
          14000,
          290000,
          3200000,
          240000,
          29000,
          19000,
          58000,
          15000,
          120000,
          72000,
          78000,
          43000,
          120000,
          11000,
          55000,
          23000,
          71000,
          27000,
          47000,
          22000,
          81000,
          39000,
          49000,
          93000,
          57000,
          58000,
          60000,
          310000,
          280000,
          8400,
          52000,
          48000,
          12000,
          150000,
          140000,
          51000,
          33000,
          4800,
          170000,
          13000,
          260000,
          73000,
          34000,
          230000,
          120000,
          130000,
          36000,
          310000,
          14000,
          21000,
          9100,
          100000,
          40000,
          44000,
          59000,
          42000,
          34000,
          70000,
          21000,
          40000,
          95000,
          22000,
          17000,
          290000,
          630000,
          41000,
          12000,
          5300,
          100000,
          35000,
          250000,
          330000,
          21000,
          33000,
          57000,
          13000,
          76000,
          80000,
          6200,
          92000,
          22000,
          3200,
          9100,
          30000,
          42000,
          8800,
          12000,
          84000,
          79000,
          8900,
          160000,
          83000,
          34000,
          72000,
          180000,
          23000,
          50000,
          40000,
          67000,
          10000,
          39000,
          22000,
          68000,
          47000,
          20000,
          280000,
          79000,
          68000,
          36000,
          39000,
          250000,
          19000,
          1300000,
          18000,
          70000,
          190000,
          440000,
          230000,
          190000,
          52000,
          110000,
          21000,
          420000,
          26000,
          41000,
          170000,
          1500000,
          69000,
          3000,
          480000,
          7700,
          29000,
          35000,
          23000,
          24000,
          5200,
          7200,
          16000,
          15000,
          170000,
          36000,
          17000,
          120000,
          30000,
          3200,
          7000,
          33000,
          370000,
          2600,
          160000,
          5600,
          16000,
          6800,
          12000,
          9100,
          140000,
          47000,
          6400,
          14000,
          300000,
          39000,
          14000,
          110000,
          61000,
          16000,
          18000,
          15000,
          20000,
          22000,
          13000,
          130000,
          78000,
          4200,
          220000,
          42000,
          60000,
          34000,
          60000,
          110000,
          17000,
          68000,
          8800,
          12000,
          71000,
          430000,
          12000,
          16000,
          370000,
          17000,
          16000,
          34000,
          220000,
          28000,
          60000,
          9500,
          100000,
          58000,
          68000,
          9200,
          30000,
          11000,
          220000,
          38000,
          750000,
          11000,
          7900,
          4900,
          66000,
          82000,
          24000,
          29000,
          50000,
          45000,
          9400,
          3900,
          62000,
          48000,
          33000,
          100000,
          62000,
          81000,
          8500,
          53000,
          49000,
          280000,
          170000,
          12000,
          90000,
          130000,
          47000,
          23000,
          73000,
          130000,
          22000,
          84000,
          23000,
          11000,
          120000,
          420000,
          7200,
          84000,
          29000,
          47000,
          130000,
          47000,
          9400,
          180000,
          120000,
          1700,
          50000,
          12000,
          59000,
          13000,
          2500000,
          320000,
          19000,
          100000,
          26000,
          5200,
          28000,
          33000,
          14000,
          200000,
          120000,
          68000,
          45000,
          110000,
          5400,
          12000,
          44000,
          68000,
          25000,
          29000,
          78000,
          89000,
          24000,
          11000,
          49000,
          120000,
          30000,
          130000,
          6100,
          12000,
          9500,
          3900,
          23000,
          43000,
          220000,
          310000,
          19000,
          63000,
          40000,
          150000,
          37000,
          23000,
          190000,
          120000,
          280000,
          34000,
          120000,
          35000,
          6200,
          260000,
          94000,
          32000,
          17000,
          12000,
          270000,
          18000,
          140000,
          17000,
          76000,
          25000,
          190000,
          69000,
          14000,
          68000,
          16000,
          67000,
          77000,
          19000,
          83000,
          41000,
          45000,
          52000,
          21000,
          30000,
          9800,
          38000
         ],
         "xaxis": "x",
         "y": [
          4.7,
          4.7,
          4.5,
          4.7,
          4.8,
          4.7,
          4.8,
          4.8,
          4.7,
          4.7,
          4.6,
          4.7,
          4.6,
          4.3,
          4.7,
          4.7,
          4.5,
          4.7,
          4.7,
          4.7,
          4.6,
          4.5,
          4.8,
          4.7,
          4.8,
          4.8,
          4.5,
          4.4,
          4.5,
          4.5,
          4.7,
          4.8,
          4.7,
          4.7,
          4.7,
          4.7,
          4.9,
          4.7,
          4.8,
          4.8,
          4.9,
          4.8,
          4.7,
          4.6,
          4.6,
          4.8,
          4.8,
          4.8,
          4.8,
          4.5,
          4.8,
          4.5,
          4.8,
          4.6,
          4.6,
          4.7,
          4.5,
          4.6,
          4.6,
          4.2,
          4.8,
          4.9,
          4.5,
          4.7,
          4.5,
          4.9,
          4.8,
          4.8,
          4.6,
          4.8,
          4.9,
          4.7,
          4.8,
          4.6,
          4.8,
          4.8,
          4.7,
          4.7,
          4.6,
          4.6,
          4.8,
          4.8,
          4.9,
          4.7,
          4.7,
          4.7,
          4.8,
          4.4,
          4.6,
          4.5,
          4.6,
          4.4,
          4.8,
          4.8,
          4.6,
          4.7,
          4.6,
          4.7,
          4.9,
          4.9,
          4.6,
          4.7,
          4.9,
          4.9,
          4.5,
          4.5,
          4.6,
          4.3,
          4.5,
          4.6,
          4.7,
          4.7,
          4.7,
          4.7,
          4.7,
          4.7,
          4.7,
          4.7,
          4.5,
          4.7,
          4.8,
          4.5,
          4.5,
          4.7,
          4.9,
          4.8,
          4.7,
          4.7,
          4.6,
          4.4,
          4.8,
          4.7,
          4.7,
          4.7,
          4.8,
          4.7,
          4.8,
          4.8,
          4.6,
          4.8,
          4.4,
          4.5,
          4.7,
          4.7,
          4.7,
          4.7,
          4.8,
          4.9,
          4.7,
          4.7,
          4.6,
          4.8,
          4.6,
          4.3,
          4.7,
          4.7,
          4.8,
          4.8,
          4.7,
          4.5,
          4.6,
          4.8,
          4.9,
          4.7,
          4.8,
          4.8,
          4.8,
          4.6,
          4.6,
          4.8,
          4.8,
          4.8,
          4.3,
          4.6,
          4.7,
          4.7,
          4.8,
          4.8,
          4.6,
          4.6,
          4.7,
          4.5,
          4.2,
          4.6,
          4.8,
          4.8,
          4.4,
          4.6,
          4.7,
          4.8,
          4.7,
          4.4,
          4.6,
          4.6,
          4.7,
          4.4,
          4.5,
          4.5,
          4.6,
          4.6,
          4.4,
          4.7,
          4.8,
          4.6,
          4.5,
          4.5,
          4.7,
          4.6,
          4.7,
          4.8,
          4.6,
          4.8,
          4.8,
          4.7,
          4.4,
          4.6,
          4.6,
          4.7,
          4.7,
          4.6,
          4.6,
          4.7,
          4.8,
          4.6,
          4.8,
          4.8,
          4.7,
          4.4,
          4.5,
          4.6,
          4.6,
          4.4,
          4.7,
          4.7,
          4.5,
          4.9,
          4.6,
          4.9,
          4.8,
          4.6,
          4.8,
          4.7,
          4.6,
          4.7,
          4.8,
          4.8,
          4.7,
          4.9,
          4.7,
          4.9,
          4.9,
          5,
          4.7,
          4.8,
          4.8,
          4.6,
          4.7,
          4.8,
          4.7,
          4.6,
          4.8,
          4.8,
          4.8,
          4.6,
          4.8,
          4.4,
          4.5,
          4.8,
          4.8,
          4.8,
          4.7,
          4.8,
          4.6,
          4.8,
          4.7,
          4.7,
          4.7,
          4.6,
          4.8,
          4.8,
          4.5,
          4.7,
          4.7,
          4.7,
          4.8,
          4.6,
          4.8,
          4.7,
          4.8,
          4.8,
          4.9,
          4.9,
          4.7,
          4.9,
          4.9,
          4.8,
          4.6,
          4.8,
          4.8,
          4.5,
          4.8,
          4.8,
          4.8,
          4.8,
          4.6,
          4.7,
          4.5,
          4.8,
          4.4,
          4.8,
          4.5,
          4.6,
          4.7,
          4.8,
          4.5,
          4.8,
          4.7,
          4.8,
          4.6,
          4.8,
          4.7,
          4.6,
          4.9,
          4.8,
          4.7,
          4.9,
          4.8,
          4.8,
          4.8,
          4.7,
          4.8,
          4.2,
          4.8,
          4.8,
          4.6,
          4.8,
          4.7,
          4.8,
          4.7,
          4.7,
          4.8,
          4.7,
          4.6,
          4.6,
          4.8,
          4.7,
          4.8,
          4.8,
          4.7,
          4.7,
          4.6,
          4.7,
          4.6,
          4.8,
          4.5,
          4.6,
          4.6,
          4.7,
          4.8,
          4.6,
          4.6,
          4.8,
          4.7,
          4.8,
          4.7,
          4.6,
          4.8,
          4.7,
          4.4,
          4.8,
          4.3,
          4.8,
          4.7,
          4.7,
          4.5,
          4.5,
          4.6,
          4.5,
          4.6,
          4.9,
          4.6,
          4.7,
          4.5,
          4.6,
          4.6,
          4.6,
          4.8,
          4.8,
          4.6,
          4.6,
          4.7,
          4.7,
          4.8,
          4.7,
          4.7,
          4.8,
          4.6,
          4.8,
          4.7,
          4.8,
          4.7,
          4.8,
          4.2,
          4.6,
          4.5,
          4.5,
          4.7,
          4.4,
          4.6,
          4.8,
          4.7,
          4.6,
          4.8,
          3.3,
          4.1,
          4.7,
          4.6,
          4.4,
          4.6,
          4.8,
          4.6,
          4.5,
          4.8,
          4.9,
          4.7,
          4.6,
          4.7,
          4.9,
          4.4,
          4.9,
          4.8,
          4.5,
          5,
          4.4,
          4.8,
          4.6,
          4.6,
          4.7,
          4.7,
          4.6,
          4.8,
          4.8,
          4.5,
          4.7,
          4.8,
          4.2,
          4.6,
          4.8,
          4.8,
          4.5,
          4.6,
          4.5,
          4.4,
          4.8,
          4.8,
          4.8,
          4.8,
          4.6,
          4.8,
          4.5,
          4.9,
          4.6,
          4.7,
          4.8,
          4.6,
          4.7,
          4.4,
          4.8,
          4.8,
          4.7,
          4.6,
          4.7,
          4.9,
          4.7,
          4.8,
          4.8,
          4.8,
          4.9,
          4.6,
          4.3,
          4.3,
          4.6,
          4.7,
          4.7,
          4.5,
          4.7,
          4.6,
          4.5,
          4.8,
          4.4,
          4.7,
          4.5,
          4.7,
          4.8,
          4.7,
          4.9,
          4.8,
          4.8,
          4.6,
          4.7,
          4.5,
          4.8,
          4.8,
          4.8,
          4.8,
          4.5,
          4.4,
          4.6,
          4.8,
          4.7,
          4.7,
          4.8,
          4.9,
          4.7,
          4.8,
          4.2,
          4.7,
          4.8,
          4.8,
          4.7,
          4.7,
          4.8,
          4,
          4.8,
          4.5,
          4.8,
          4.7,
          4.8,
          4.7,
          4.9,
          4.9,
          4.7,
          4.6,
          4.5,
          4.6,
          4.6,
          4.6,
          4.5,
          4.7,
          4.7,
          4.6,
          4.7,
          4.7,
          4.8,
          4.7,
          4.7,
          4.8,
          4.8,
          4.3,
          4.5,
          4.8,
          4.7,
          4.8,
          4.6,
          4.6,
          4.8,
          4.9,
          4.7,
          4.5,
          4.7,
          4.8,
          4.6,
          4.7,
          4.6,
          4.9,
          4.6,
          3.7,
          4.6,
          4.6,
          3.9,
          4.7,
          4.5,
          4.6,
          4.7,
          4.7,
          4.9,
          4.7,
          4.7,
          4.7,
          4.5,
          4.6,
          4.5,
          4.8,
          4.7,
          4.7,
          4.6,
          4.4,
          4.8,
          4.4,
          4.7,
          4.2,
          4.6,
          4.3,
          4.7,
          4.5,
          4.6,
          4.7,
          4.7,
          4,
          4.8,
          4.9,
          4.3,
          4.6,
          4.9,
          4.7,
          4.8,
          4.7,
          4.8,
          4.6,
          4.7,
          4.8,
          4.7,
          4.7,
          4.8,
          4.9,
          4.9,
          4.8,
          4.8,
          4.9,
          4.8,
          4.8,
          4.6,
          4.8,
          4.7,
          4.8,
          4.7,
          4.9,
          4.7,
          4.7,
          4.8,
          4.8,
          4.8,
          4.7,
          4.6,
          4.7,
          4.7,
          4.8,
          4.4,
          4.6,
          4.7,
          4.2,
          4.7,
          4.7,
          4.8,
          4.6,
          4.5,
          4.5,
          4.8,
          4.6,
          4.5,
          4.7,
          4.9,
          4.7,
          4.7,
          4.7,
          4.8,
          4.7,
          4.8,
          4.8,
          4.6,
          4.8,
          4.7,
          4.6,
          4.7,
          4.8,
          4.6,
          4.8,
          4.8,
          4.8,
          4.7,
          4.6,
          4.8,
          4.6,
          4.7,
          4.8,
          4.6,
          4.2,
          4.7,
          4.6,
          4.7,
          4.8,
          4.6,
          4.8,
          4.7,
          4.9,
          4.8,
          4.4,
          4.6,
          4.8,
          4.7,
          4.9,
          4.6,
          4.8,
          4.3,
          4.7,
          4.7,
          4.7,
          4.7,
          4.6,
          4.6,
          4.8,
          4.5,
          4.9,
          4.9,
          4.4,
          4.9,
          4.7,
          4.7,
          4.5,
          4.8,
          4.6,
          4.6,
          4.4,
          4.7,
          4.8,
          4.5,
          4.8,
          4.8,
          4.7,
          4.4,
          4.7,
          4.7,
          4.7,
          4.8,
          4.8,
          4.7,
          4.5,
          4.7,
          4.7,
          4.8,
          4.6,
          4.6,
          4.6,
          4.6,
          4.8,
          4.7,
          4.8,
          4.6,
          4.6,
          4.7,
          4.6,
          4.8,
          4.8,
          4.9,
          4.8,
          4.6,
          4.6,
          4.7,
          4.8,
          4.7,
          4.7,
          4.7,
          4.6,
          4.7,
          4.9,
          4.3,
          4.7,
          4.7,
          4.7,
          4.7,
          4.5,
          4.8,
          4.6,
          4.8,
          4.8,
          4.8,
          4.8,
          4.7,
          4.6,
          4.7,
          4.7,
          4.8,
          4.6,
          4.8,
          4.3,
          4.6,
          4.5,
          4.7,
          4.4,
          4.9,
          4.9,
          4.9,
          4.9,
          4.4,
          4.8,
          4.8,
          4.8,
          4.7,
          4.5,
          4.8,
          4.6,
          4.8,
          4.7,
          4.5,
          4.7,
          4.6,
          4.8,
          4.7,
          4.8,
          4.8,
          4.6,
          4.8,
          4.8,
          4.9,
          4.6,
          4.8,
          4.8,
          4.9,
          4.6,
          4.7,
          4.6,
          4.6,
          4.7,
          4.8,
          4.9,
          4.9,
          4.8,
          4.6,
          4.5,
          4.8,
          4.7,
          4.8,
          4.7,
          4.7,
          4.6,
          4.6,
          4.3,
          4.8,
          4.7,
          4.9,
          4.8,
          4.6,
          4.7,
          4.8,
          4.8,
          4.8,
          4.9,
          4.8,
          4.4,
          4.8,
          4.5,
          4.7,
          4.9,
          4.5,
          4.2,
          4.8,
          4.9,
          4.8,
          4.6,
          4.8,
          4.8,
          4.7,
          4.7,
          4.8,
          4.7,
          4.7,
          4.3,
          4.8,
          4.8,
          4.7,
          4.7,
          4.7,
          4.7,
          4.8,
          4.7,
          4.6,
          4.7,
          4.8,
          4.9,
          4.7,
          4.4,
          4.9,
          4.5,
          3.9,
          4.7,
          4.8,
          4.5,
          4.6,
          4.9,
          4.5,
          4.8,
          4.7,
          4.5,
          4.6,
          4.9,
          4.7,
          4.5,
          4.8,
          4.5,
          4.6,
          4.7
         ],
         "yaxis": "y"
        }
       ],
       "layout": {
        "coloraxis": {
         "colorbar": {
          "title": {
           "text": "Rating"
          }
         },
         "colorscale": [
          [
           0,
           "#0d0887"
          ],
          [
           0.1111111111111111,
           "#46039f"
          ],
          [
           0.2222222222222222,
           "#7201a8"
          ],
          [
           0.3333333333333333,
           "#9c179e"
          ],
          [
           0.4444444444444444,
           "#bd3786"
          ],
          [
           0.5555555555555556,
           "#d8576b"
          ],
          [
           0.6666666666666666,
           "#ed7953"
          ],
          [
           0.7777777777777778,
           "#fb9f3a"
          ],
          [
           0.8888888888888888,
           "#fdca26"
          ],
          [
           1,
           "#f0f921"
          ]
         ]
        },
        "font": {
         "size": 14
        },
        "legend": {
         "itemsizing": "constant",
         "tracegroupgap": 0
        },
        "template": {
         "data": {
          "bar": [
           {
            "error_x": {
             "color": "#2a3f5f"
            },
            "error_y": {
             "color": "#2a3f5f"
            },
            "marker": {
             "line": {
              "color": "white",
              "width": 0.5
             },
             "pattern": {
              "fillmode": "overlay",
              "size": 10,
              "solidity": 0.2
             }
            },
            "type": "bar"
           }
          ],
          "barpolar": [
           {
            "marker": {
             "line": {
              "color": "white",
              "width": 0.5
             },
             "pattern": {
              "fillmode": "overlay",
              "size": 10,
              "solidity": 0.2
             }
            },
            "type": "barpolar"
           }
          ],
          "carpet": [
           {
            "aaxis": {
             "endlinecolor": "#2a3f5f",
             "gridcolor": "#C8D4E3",
             "linecolor": "#C8D4E3",
             "minorgridcolor": "#C8D4E3",
             "startlinecolor": "#2a3f5f"
            },
            "baxis": {
             "endlinecolor": "#2a3f5f",
             "gridcolor": "#C8D4E3",
             "linecolor": "#C8D4E3",
             "minorgridcolor": "#C8D4E3",
             "startlinecolor": "#2a3f5f"
            },
            "type": "carpet"
           }
          ],
          "choropleth": [
           {
            "colorbar": {
             "outlinewidth": 0,
             "ticks": ""
            },
            "type": "choropleth"
           }
          ],
          "contour": [
           {
            "colorbar": {
             "outlinewidth": 0,
             "ticks": ""
            },
            "colorscale": [
             [
              0,
              "#0d0887"
             ],
             [
              0.1111111111111111,
              "#46039f"
             ],
             [
              0.2222222222222222,
              "#7201a8"
             ],
             [
              0.3333333333333333,
              "#9c179e"
             ],
             [
              0.4444444444444444,
              "#bd3786"
             ],
             [
              0.5555555555555556,
              "#d8576b"
             ],
             [
              0.6666666666666666,
              "#ed7953"
             ],
             [
              0.7777777777777778,
              "#fb9f3a"
             ],
             [
              0.8888888888888888,
              "#fdca26"
             ],
             [
              1,
              "#f0f921"
             ]
            ],
            "type": "contour"
           }
          ],
          "contourcarpet": [
           {
            "colorbar": {
             "outlinewidth": 0,
             "ticks": ""
            },
            "type": "contourcarpet"
           }
          ],
          "heatmap": [
           {
            "colorbar": {
             "outlinewidth": 0,
             "ticks": ""
            },
            "colorscale": [
             [
              0,
              "#0d0887"
             ],
             [
              0.1111111111111111,
              "#46039f"
             ],
             [
              0.2222222222222222,
              "#7201a8"
             ],
             [
              0.3333333333333333,
              "#9c179e"
             ],
             [
              0.4444444444444444,
              "#bd3786"
             ],
             [
              0.5555555555555556,
              "#d8576b"
             ],
             [
              0.6666666666666666,
              "#ed7953"
             ],
             [
              0.7777777777777778,
              "#fb9f3a"
             ],
             [
              0.8888888888888888,
              "#fdca26"
             ],
             [
              1,
              "#f0f921"
             ]
            ],
            "type": "heatmap"
           }
          ],
          "heatmapgl": [
           {
            "colorbar": {
             "outlinewidth": 0,
             "ticks": ""
            },
            "colorscale": [
             [
              0,
              "#0d0887"
             ],
             [
              0.1111111111111111,
              "#46039f"
             ],
             [
              0.2222222222222222,
              "#7201a8"
             ],
             [
              0.3333333333333333,
              "#9c179e"
             ],
             [
              0.4444444444444444,
              "#bd3786"
             ],
             [
              0.5555555555555556,
              "#d8576b"
             ],
             [
              0.6666666666666666,
              "#ed7953"
             ],
             [
              0.7777777777777778,
              "#fb9f3a"
             ],
             [
              0.8888888888888888,
              "#fdca26"
             ],
             [
              1,
              "#f0f921"
             ]
            ],
            "type": "heatmapgl"
           }
          ],
          "histogram": [
           {
            "marker": {
             "pattern": {
              "fillmode": "overlay",
              "size": 10,
              "solidity": 0.2
             }
            },
            "type": "histogram"
           }
          ],
          "histogram2d": [
           {
            "colorbar": {
             "outlinewidth": 0,
             "ticks": ""
            },
            "colorscale": [
             [
              0,
              "#0d0887"
             ],
             [
              0.1111111111111111,
              "#46039f"
             ],
             [
              0.2222222222222222,
              "#7201a8"
             ],
             [
              0.3333333333333333,
              "#9c179e"
             ],
             [
              0.4444444444444444,
              "#bd3786"
             ],
             [
              0.5555555555555556,
              "#d8576b"
             ],
             [
              0.6666666666666666,
              "#ed7953"
             ],
             [
              0.7777777777777778,
              "#fb9f3a"
             ],
             [
              0.8888888888888888,
              "#fdca26"
             ],
             [
              1,
              "#f0f921"
             ]
            ],
            "type": "histogram2d"
           }
          ],
          "histogram2dcontour": [
           {
            "colorbar": {
             "outlinewidth": 0,
             "ticks": ""
            },
            "colorscale": [
             [
              0,
              "#0d0887"
             ],
             [
              0.1111111111111111,
              "#46039f"
             ],
             [
              0.2222222222222222,
              "#7201a8"
             ],
             [
              0.3333333333333333,
              "#9c179e"
             ],
             [
              0.4444444444444444,
              "#bd3786"
             ],
             [
              0.5555555555555556,
              "#d8576b"
             ],
             [
              0.6666666666666666,
              "#ed7953"
             ],
             [
              0.7777777777777778,
              "#fb9f3a"
             ],
             [
              0.8888888888888888,
              "#fdca26"
             ],
             [
              1,
              "#f0f921"
             ]
            ],
            "type": "histogram2dcontour"
           }
          ],
          "mesh3d": [
           {
            "colorbar": {
             "outlinewidth": 0,
             "ticks": ""
            },
            "type": "mesh3d"
           }
          ],
          "parcoords": [
           {
            "line": {
             "colorbar": {
              "outlinewidth": 0,
              "ticks": ""
             }
            },
            "type": "parcoords"
           }
          ],
          "pie": [
           {
            "automargin": true,
            "type": "pie"
           }
          ],
          "scatter": [
           {
            "fillpattern": {
             "fillmode": "overlay",
             "size": 10,
             "solidity": 0.2
            },
            "type": "scatter"
           }
          ],
          "scatter3d": [
           {
            "line": {
             "colorbar": {
              "outlinewidth": 0,
              "ticks": ""
             }
            },
            "marker": {
             "colorbar": {
              "outlinewidth": 0,
              "ticks": ""
             }
            },
            "type": "scatter3d"
           }
          ],
          "scattercarpet": [
           {
            "marker": {
             "colorbar": {
              "outlinewidth": 0,
              "ticks": ""
             }
            },
            "type": "scattercarpet"
           }
          ],
          "scattergeo": [
           {
            "marker": {
             "colorbar": {
              "outlinewidth": 0,
              "ticks": ""
             }
            },
            "type": "scattergeo"
           }
          ],
          "scattergl": [
           {
            "marker": {
             "colorbar": {
              "outlinewidth": 0,
              "ticks": ""
             }
            },
            "type": "scattergl"
           }
          ],
          "scattermapbox": [
           {
            "marker": {
             "colorbar": {
              "outlinewidth": 0,
              "ticks": ""
             }
            },
            "type": "scattermapbox"
           }
          ],
          "scatterpolar": [
           {
            "marker": {
             "colorbar": {
              "outlinewidth": 0,
              "ticks": ""
             }
            },
            "type": "scatterpolar"
           }
          ],
          "scatterpolargl": [
           {
            "marker": {
             "colorbar": {
              "outlinewidth": 0,
              "ticks": ""
             }
            },
            "type": "scatterpolargl"
           }
          ],
          "scatterternary": [
           {
            "marker": {
             "colorbar": {
              "outlinewidth": 0,
              "ticks": ""
             }
            },
            "type": "scatterternary"
           }
          ],
          "surface": [
           {
            "colorbar": {
             "outlinewidth": 0,
             "ticks": ""
            },
            "colorscale": [
             [
              0,
              "#0d0887"
             ],
             [
              0.1111111111111111,
              "#46039f"
             ],
             [
              0.2222222222222222,
              "#7201a8"
             ],
             [
              0.3333333333333333,
              "#9c179e"
             ],
             [
              0.4444444444444444,
              "#bd3786"
             ],
             [
              0.5555555555555556,
              "#d8576b"
             ],
             [
              0.6666666666666666,
              "#ed7953"
             ],
             [
              0.7777777777777778,
              "#fb9f3a"
             ],
             [
              0.8888888888888888,
              "#fdca26"
             ],
             [
              1,
              "#f0f921"
             ]
            ],
            "type": "surface"
           }
          ],
          "table": [
           {
            "cells": {
             "fill": {
              "color": "#EBF0F8"
             },
             "line": {
              "color": "white"
             }
            },
            "header": {
             "fill": {
              "color": "#C8D4E3"
             },
             "line": {
              "color": "white"
             }
            },
            "type": "table"
           }
          ]
         },
         "layout": {
          "annotationdefaults": {
           "arrowcolor": "#2a3f5f",
           "arrowhead": 0,
           "arrowwidth": 1
          },
          "autotypenumbers": "strict",
          "coloraxis": {
           "colorbar": {
            "outlinewidth": 0,
            "ticks": ""
           }
          },
          "colorscale": {
           "diverging": [
            [
             0,
             "#8e0152"
            ],
            [
             0.1,
             "#c51b7d"
            ],
            [
             0.2,
             "#de77ae"
            ],
            [
             0.3,
             "#f1b6da"
            ],
            [
             0.4,
             "#fde0ef"
            ],
            [
             0.5,
             "#f7f7f7"
            ],
            [
             0.6,
             "#e6f5d0"
            ],
            [
             0.7,
             "#b8e186"
            ],
            [
             0.8,
             "#7fbc41"
            ],
            [
             0.9,
             "#4d9221"
            ],
            [
             1,
             "#276419"
            ]
           ],
           "sequential": [
            [
             0,
             "#0d0887"
            ],
            [
             0.1111111111111111,
             "#46039f"
            ],
            [
             0.2222222222222222,
             "#7201a8"
            ],
            [
             0.3333333333333333,
             "#9c179e"
            ],
            [
             0.4444444444444444,
             "#bd3786"
            ],
            [
             0.5555555555555556,
             "#d8576b"
            ],
            [
             0.6666666666666666,
             "#ed7953"
            ],
            [
             0.7777777777777778,
             "#fb9f3a"
            ],
            [
             0.8888888888888888,
             "#fdca26"
            ],
            [
             1,
             "#f0f921"
            ]
           ],
           "sequentialminus": [
            [
             0,
             "#0d0887"
            ],
            [
             0.1111111111111111,
             "#46039f"
            ],
            [
             0.2222222222222222,
             "#7201a8"
            ],
            [
             0.3333333333333333,
             "#9c179e"
            ],
            [
             0.4444444444444444,
             "#bd3786"
            ],
            [
             0.5555555555555556,
             "#d8576b"
            ],
            [
             0.6666666666666666,
             "#ed7953"
            ],
            [
             0.7777777777777778,
             "#fb9f3a"
            ],
            [
             0.8888888888888888,
             "#fdca26"
            ],
            [
             1,
             "#f0f921"
            ]
           ]
          },
          "colorway": [
           "#636efa",
           "#EF553B",
           "#00cc96",
           "#ab63fa",
           "#FFA15A",
           "#19d3f3",
           "#FF6692",
           "#B6E880",
           "#FF97FF",
           "#FECB52"
          ],
          "font": {
           "color": "#2a3f5f"
          },
          "geo": {
           "bgcolor": "white",
           "lakecolor": "white",
           "landcolor": "white",
           "showlakes": true,
           "showland": true,
           "subunitcolor": "#C8D4E3"
          },
          "hoverlabel": {
           "align": "left"
          },
          "hovermode": "closest",
          "mapbox": {
           "style": "light"
          },
          "paper_bgcolor": "white",
          "plot_bgcolor": "white",
          "polar": {
           "angularaxis": {
            "gridcolor": "#EBF0F8",
            "linecolor": "#EBF0F8",
            "ticks": ""
           },
           "bgcolor": "white",
           "radialaxis": {
            "gridcolor": "#EBF0F8",
            "linecolor": "#EBF0F8",
            "ticks": ""
           }
          },
          "scene": {
           "xaxis": {
            "backgroundcolor": "white",
            "gridcolor": "#DFE8F3",
            "gridwidth": 2,
            "linecolor": "#EBF0F8",
            "showbackground": true,
            "ticks": "",
            "zerolinecolor": "#EBF0F8"
           },
           "yaxis": {
            "backgroundcolor": "white",
            "gridcolor": "#DFE8F3",
            "gridwidth": 2,
            "linecolor": "#EBF0F8",
            "showbackground": true,
            "ticks": "",
            "zerolinecolor": "#EBF0F8"
           },
           "zaxis": {
            "backgroundcolor": "white",
            "gridcolor": "#DFE8F3",
            "gridwidth": 2,
            "linecolor": "#EBF0F8",
            "showbackground": true,
            "ticks": "",
            "zerolinecolor": "#EBF0F8"
           }
          },
          "shapedefaults": {
           "line": {
            "color": "#2a3f5f"
           }
          },
          "ternary": {
           "aaxis": {
            "gridcolor": "#DFE8F3",
            "linecolor": "#A2B1C6",
            "ticks": ""
           },
           "baxis": {
            "gridcolor": "#DFE8F3",
            "linecolor": "#A2B1C6",
            "ticks": ""
           },
           "bgcolor": "white",
           "caxis": {
            "gridcolor": "#DFE8F3",
            "linecolor": "#A2B1C6",
            "ticks": ""
           }
          },
          "title": {
           "x": 0.05
          },
          "xaxis": {
           "automargin": true,
           "gridcolor": "#EBF0F8",
           "linecolor": "#EBF0F8",
           "ticks": "",
           "title": {
            "standoff": 15
           },
           "zerolinecolor": "#EBF0F8",
           "zerolinewidth": 2
          },
          "yaxis": {
           "automargin": true,
           "gridcolor": "#EBF0F8",
           "linecolor": "#EBF0F8",
           "ticks": "",
           "title": {
            "standoff": 15
           },
           "zerolinecolor": "#EBF0F8",
           "zerolinewidth": 2
          }
         }
        },
        "title": {
         "text": "Course Rating vs. Number of Students Enrolled",
         "x": 0.5
        },
        "xaxis": {
         "anchor": "y",
         "domain": [
          0,
          1
         ],
         "title": {
          "text": "Students Enrolled"
         }
        },
        "yaxis": {
         "anchor": "x",
         "domain": [
          0,
          1
         ],
         "title": {
          "text": "Rating"
         }
        }
       }
      },
      "text/html": [
       "<div>                            <div id=\"b7587fc9-94ab-4182-a7f1-6202faeab73b\" class=\"plotly-graph-div\" style=\"height:525px; width:100%;\"></div>            <script type=\"text/javascript\">                require([\"plotly\"], function(Plotly) {                    window.PLOTLYENV=window.PLOTLYENV || {};                                    if (document.getElementById(\"b7587fc9-94ab-4182-a7f1-6202faeab73b\")) {                    Plotly.newPlot(                        \"b7587fc9-94ab-4182-a7f1-6202faeab73b\",                        [{\"hovertemplate\":\"\\u003cb\\u003e%{hovertext}\\u003c\\u002fb\\u003e\\u003cbr\\u003e\\u003cbr\\u003eStudents Enrolled=%{marker.size}\\u003cbr\\u003eRating=%{marker.color}\\u003cextra\\u003e\\u003c\\u002fextra\\u003e\",\"hovertext\":[\"(ISC)\\u00b2 Systems Security Certified Practitioner (SSCP)\",\"A Crash Course in Causality:  Inferring Causal Effects from Observational Data\",\"A Crash Course in Data Science\",\"A Law Student's Toolkit\",\"A Life of Happiness and Fulfillment\",\"ADHD: Everyday Strategies for Elementary Students\",\"AI For Everyone\",\"AI For Medical Treatment\",\"AI Foundations for Everyone\",\"AI for Medical Diagnosis\",\"AI for Medical Prognosis\",\"AI for Medicine\",\"AWS Fundamentals\",\"AWS Fundamentals: Addressing Security Risk\",\"AWS Fundamentals: Building Serverless Applications\",\"AWS Fundamentals: Going Cloud-Native\",\"AWS Fundamentals: Migrating to the Cloud\",\"Aboriginal Worldviews and Education\",\"Academic English: Writing\",\"Accelerated Computer Science Fundamentals\",\"Access Controls\",\"Accounting Analytics\",\"Accounting for Decision Making\",\"Achieving Personal and Professional Success\",\"Actualizaci\\u00f3n en el manejo del paciente con diabetes mellitus tipo 2\",\"Addiction Treatment: Clinical Skills for Healthcare Providers\",\"Advanced Business Analytics\",\"Advanced Data Science with IBM\",\"Advanced Machine Learning\",\"Advanced Machine Learning with TensorFlow on Google Cloud Platform\",\"Advanced Valuation and Strategy - M&A, Private Equity, and Venture Capital\",\"Advertising and Society\",\"Age of Cathedrals\",\"Agile Development\",\"Agile Meets Design Thinking\",\"Agile with Atlassian Jira\",\"Agile \\u0438 Scrum \\u0432 \\u0440\\u0430\\u0431\\u043e\\u0442\\u0435 \\u043d\\u0430\\u0434 \\u043f\\u0440\\u043e\\u0435\\u043a\\u0442\\u0430\\u043c\\u0438 \\u0438 \\u043f\\u0440\\u043e\\u0434\\u0443\\u043a\\u0442\\u0430\\u043c\\u0438\",\"Algorithmic Toolbox\",\"Algorithms\",\"Algorithms for Battery Management Systems\",\"American Contract Law I\",\"An Introduction to American Law\",\"An Introduction to Consumer Neuroscience & Neuromarketing\",\"An Introduction to Programming the Internet of Things (IOT)\",\"Analysing: Numeric and digital literacies\",\"Anatomy\",\"Anatomy of the Chest, Abdomen, and Pelvis\",\"Anatomy: Musculoskeletal and Integumentary Systems\",\"Ancient Philosophy: Aristotle and His Successors\",\"Android App Development\",\"Animal Behaviour and Welfare\",\"Antibiotic Stewardship\",\"Anticorrupci\\u00f3n: Introducci\\u00f3n a conceptos y perspectiva pr\\u00e1ctica\",\"Antimicrobial resistance - theory and methods\",\"Applied Data Science\",\"Applied Data Science Capstone\",\"Applied Data Science with Python\",\"Applied Machine Learning in Python\",\"Applied Plotting, Charting & Data Representation in Python\",\"Aprende a programar con Python\",\"Aprender\",\"Aprendiendo a aprender: Poderosas herramientas mentales con las que podr\\u00e1s dominar temas dif\\u00edciles (Learning How to Learn)\",\"Architecting with Google Cloud Platform \\u65e5\\u672c\\u8a9e\\u7248\",\"Architecting with Google Compute Engine\",\"Architecting with Google Kubernetes Engine \\u65e5\\u672c\\u8a9e\\u7248\",\"Arizona State University TESOL\",\"Art & Activity: Interactive Strategies for Engaging with Art\",\"Art & Ideas: Teaching with Themes\",\"Arts and Culture Strategy\",\"Arts and Heritage Management\",\"Aspectos b\\u00e1sicos de la planificaci\\u00f3n y la gesti\\u00f3n de proyectos\",\"Astrobiology and the Search for Extraterrestrial Life\",\"Atenci\\u00f3n Primaria en Salud: El desaf\\u00edo de las Enfermedades no Transmisibles\",\"Autism Spectrum Disorder\",\"Autodesk CAD\\u002fCAM for Manufacturing\",\"Autodesk CAD\\u002fCAM\\u002fCAE for Mechanical Engineering\",\"Autodesk Certified Professional: AutoCAD for Design and Drafting Exam Prep\",\"Autodesk Certified Professional: Revit for Architectural Design Exam Prep\",\"BIM Fundamentals for Engineers\",\"Basic Statistics\",\"Bayesian Statistics: From Concept to Data Analysis\",\"Bayesian Statistics: Techniques and Models\",\"Become a CBRS Certified Professional Installer by Google\",\"Become a Journalist: Report the News!\",\"Become a Sustainable Business Change Agent\",\"Becoming a Sports Agent\",\"Becoming a changemaker: Introduction to Social Innovation\",\"Behavioral Finance\",\"Beyond the Sustainable Development Goals (SDGs): Addressing Sustainability and Development\",\"Big Data \\u2013 Introducci\\u00f3n al uso pr\\u00e1ctico de datos masivos\",\"Biohacking Your Brain's Health\",\"Biology Meets Programming: Bioinformatics for Beginners\",\"Biostatistics in Public Health\",\"Blended Language Learning: Design and Practice for Teachers\",\"Blockchain\",\"Blockchain Revolution\",\"Blockchain Revolution in Financial Services\",\"Blockchain: Foundations and Use Cases\",\"Boosting Creativity for Innovation\",\"Brand Management: Aligning Business, Brand and Behaviour\",\"Branding: The Creative Journey\",\"Budgeting and Scheduling Projects\",\"Bugs 101: Insect-Human Interactions\",\"Build a Modern Computer from First Principles: From Nand to Tetris (Project-Centered Course)\",\"Building Batch Data Pipelines on GCP\",\"Building Conversational Experiences with Dialogflow\",\"Building Resilient Streaming Analytics Systems on GCP\",\"Building Scalable Java Microservices with Spring Boot and Spring Cloud\",\"Building Your Leadership Skills\",\"Business Analytics\",\"Business English\",\"Business English Communication Skills\",\"Business English: Networking\",\"Business Foundations\",\"Business Model Innovation\",\"Business Statistics and Analysis\",\"Business Strategies for A Better World\",\"Business Strategy\",\"Business Technology Management\",\"Business Transformation with Google Cloud\",\"Business Writing\",\"Business and Financial Modeling\",\"C for Everyone: Programming Fundamentals\",\"C# Programming for Unity Game Development\",\"COVID-19 Contact Tracing\",\"COVID-19: What You Need to Know (CME Eligible)\",\"Cameras, Exposure, and Photography\",\"Camino a la Excelencia en Gesti\\u00f3n de Proyectos\",\"Capstone: Retrieving, Processing, and Visualizing Data with Python\",\"Career Success\",\"Challenging Forensic Science: How Science Should Speak to Court\",\"Chemicals and Health\",\"Chicken Behaviour and Welfare\",\"Child Nutrition and Cooking\",\"Chinese for HSK 1\",\"Cisco Networking Basics\",\"Classical Sociological Theory\",\"Claves de la Direcci\\u00f3n de Empresas\",\"Climate Change and Health: From Science to Action\",\"Clinical Terminology for International and U.S. Students\",\"Cloud Computing\",\"Cloud Computing Basics (Cloud 101)\",\"Cloud Engineering with Google Cloud\",\"Coaching Skills for Managers\",\"Code Yourself! An Introduction to Programming\",\"Communication Skills for Engineers\",\"Communication Strategies for a Virtual Age\",\"Compassionate Leadership Through Service Learning with Jane Goodall and Roots & Shoots\",\"Competencias digitales. Herramientas de ofim\\u00e1tica (Microsoft Word, Excel, Power Point)\",\"Competitive Strategy and Organization Design\",\"Computational Social Science\",\"Computational Thinking for Problem Solving\",\"Computer Security and Systems Management\",\"Conflict Management\",\"Construction Cost Estimating and Cost Control\",\"Construction Management\",\"Construction Project Management\",\"Construction Scheduling\",\"Contabilidad para no contadores\",\"Content Strategy for Professionals\",\"Continuous Delivery & DevOps\",\"Control of Mobile Robots\",\"Convolutional Neural Networks\",\"Convolutional Neural Networks in TensorFlow\",\"Corporate & Commercial Law I: Contracts & Employment Law\",\"Corporate Finance Essentials\",\"Corporate Strategy\",\"Corporate Sustainability. Understanding and Seizing the Strategic Opportunity\",\"Correcci\\u00f3n, estilo y  variaciones de la lengua espa\\u00f1ola\",\"Cost and Economics in Pricing Strategy\",\"Costos para los Negocios\",\"Crash Course on Python\",\"Creative Problem Solving\",\"Creative Writing\",\"Creative Writing: The Craft of Plot\",\"Creatividad, dise\\u00f1o e innovaci\\u00f3n: T\\u00e9cnicas y herramientas\",\"Cuidado de heridas en el \\u00e1mbito hospitalario\",\"Cuidados y procedimientos generales en la atenci\\u00f3n del reci\\u00e9n nacido\",\"Culture-Driven Team Building\",\"Curanderismo: Traditional Healing Using Plants\",\"Customer Segmentation and Prospecting\",\"Cybersecurity\",\"Cybersecurity and Its Ten Domains\",\"Cybersecurity for Business\",\"C\\u00f3mo hablar bien en p\\u00fablico\",\"Dairy Production and Management\",\"Data Analysis and Interpretation\",\"Data Analysis and Presentation Skills: the PwC Approach\",\"Data Analysis with Python\",\"Data Analytics for Lean Six Sigma\",\"Data Collection and Processing with Python\",\"Data Engineering on Google Cloud Platform \\u65e5\\u672c\\u8a9e\\u7248\",\"Data Engineering with Google Cloud\",\"Data Engineering, Big Data, and Machine Learning on GCP\",\"Data Management for Clinical Research\",\"Data Mining\",\"Data Science\",\"Data Science Math Skills\",\"Data Science Methodology\",\"Data Science: Foundations using R\",\"Data Science: Statistics and Machine Learning\",\"Data Visualization and Communication with Tableau\",\"Data Visualization with Advanced Excel\",\"Data Visualization with Python\",\"Data Visualization with Tableau\",\"Data Warehousing for Business Intelligence\",\"Data and Health Indicators in Public Health Practice\",\"Data-driven Decision Making\",\"Databases and SQL for Data Science\",\"De-Mystifying Mindfulness\",\"Decision-Making and Scenarios\",\"Deep Learning\",\"Democracia y decisiones p\\u00fablicas. Introducci\\u00f3n al an\\u00e1lisis de pol\\u00edticas p\\u00fablicas\",\"Dentistry 101\",\"Dermatology: Trip to skin\",\"Design Thinking for Innovation\",\"Design Thinking for the Greater Good: Innovation in the Social Sector\",\"Design and Interpretation of Clinical Trials\",\"Design and Make Infographics (Project-Centered Course)\",\"Design-Led Strategy: Design thinking for business strategy and entrepreneurship\",\"Developing APIs with Google Cloud's Apigee API Platform\",\"Developing Applications with Google Cloud Platform\",\"Developing Applications with Google Cloud Platform \\u65e5\\u672c\\u8a9e\\u7248\",\"Developing Industrial Internet of Things\",\"Developing Your Musicianship\",\"Developing Your Musicianship\",\"Devenir entrepreneur du changement\",\"Digital Advertising Strategy\",\"Digital Business Models\",\"Digital Manufacturing & Design Technology\",\"Digital Marketing\",\"Digital Media and Marketing Strategies\",\"Digital Product Management\",\"Digital Product Management: Modern Fundamentals\",\"Dino 101: Dinosaur Paleobiology\",\"Discrete Optimization\",\"Dise\\u00f1o Instruccional: Aprendizaje activo y Pedagog\\u00eda digital\",\"Dise\\u00f1o y Creaci\\u00f3n de un Emprendimiento Social\",\"Divide and Conquer, Sorting and Searching, and Randomized Algorithms\",\"Dog Emotion and Cognition\",\"Driving business towards the Sustainable Development Goals\",\"Drug Commercialization\",\"Drug Discovery\",\"Dynamic Public Speaking\",\"EMT Foundations\",\"Ecology: Ecosystem Dynamics and Conservation\",\"Econometrics: Methods and Applications\",\"Economics of Money and Banking\",\"Ecosystem Services: a Method for Sustainable Development\",\"Effective Compliance Programs\",\"Egiptolog\\u00eda (Egyptology)\",\"El Abogado del Futuro: Legaltech y la Transformaci\\u00f3n Digital del Derecho\",\"Elastic Google Cloud Infrastructure: Scaling and Automation\",\"Electric Industry Operations and Markets\",\"Electronic Music Production\",\"Emerging Technologies: From Smartphones to IoT to Big Data\",\"Energy Production, Distribution & Safety\",\"Engineering Health: Introduction to Yoga and Physiology\",\"Engineering Project Management: Initiating and Planning\",\"English Composition I\",\"English for Business and Entrepreneurship\",\"English for Career Development\",\"English for Journalism\",\"English for Research Publication Purposes\",\"English for Science, Technology, Engineering, and Mathematics\",\"Enterprise Architecture\",\"Entrepreneurial Finance: Strategy and Innovation\",\"Entrepreneurship\",\"Entrepreneurship 1: Developing the Opportunity\",\"Entrepreneurship 2: Launching your Start-Up\",\"Entrepreneurship 3: Growth Strategies\",\"Entrepreneurship Strategy: From Ideation to Exit\",\"Entrepreneurship: Launching an Innovative Business\",\"Epidemics - the Dynamics of Infectious Diseases\",\"Epidemics, Pandemics and Outbreaks\",\"Epidemiology for Public Health\",\"Epidemiology in Public Health Practice\",\"Epidemiology: The Basic Science of Public Health\",\"Epigenetic Control of Gene Expression\",\"Equine Welfare and Management\",\"Esports\",\"Essential Epidemiologic Tools for Public Health Practice\",\"Essential Google Cloud Infrastructure: Core Services\",\"Essential Google Cloud Infrastructure: Foundation\",\"Essentials in Clinical Simulations Across the Health Professions\",\"Essentials of Corporate Finance\",\"Essentials of Global Health\",\"Estad\\u00edstica y probabilidad\",\"Evaluaci\\u00f3n educativa\",\"Everyday Excel, Part 1\",\"Everyday Parenting: The ABCs of Child Rearing\",\"Excel Skills for Business\",\"Excel Skills for Business: Advanced\",\"Excel Skills for Business: Essentials\",\"Excel Skills for Business: Intermediate I\",\"Excel Skills for Business: Intermediate II\",\"Excel to MySQL: Analytic Techniques for Business\",\"Excel\\u002fVBA for Creative Problem Solving\",\"Excel\\u002fVBA for Creative Problem Solving, Part 1\",\"Executive Data Science\",\"Explorando la Energ\\u00eda Sustentable\",\"Fashion as Design\",\"Feminism and Social Justice\",\"FinTech Law and Policy\",\"FinTech: Finance Industry Transformation and Regulation\",\"FinTech: Foundations, Payments, and Regulations\",\"Finance & Quantitative Modeling for Analysts\",\"Finance for Non-Finance Professionals\",\"Finance for Non-Financial Managers\",\"Financial Accounting Fundamentals\",\"Financial Acumen for Non-Financial Managers\",\"Financial Engineering and Risk Management Part I\",\"Financial Management\",\"Financial Markets\",\"Financial Markets and Investment Strategy\",\"Financial Reporting\",\"Financial Technology (Fintech) Innovations\",\"Financing and Investing in Infrastructure\",\"Finanzas corporativas\",\"Finanzas personales\",\"Finding Purpose and Meaning In Life: Living for What Matters Most\",\"Fintech: Foundations & Applications of Financial Technology\",\"First Step Korean\",\"Food & Beverage Management\",\"Forensic Accounting and Fraud Examination\",\"Formulaci\\u00f3n y evaluaci\\u00f3n de proyectos complejos\",\"Foundational Finance for Strategic Decision Making\",\"Foundations of Business Strategy\",\"Foundations of Everyday Leadership\",\"Foundations of Global Health\",\"Foundations of Management\",\"Foundations of Marketing Analytics\",\"Foundations of Positive Psychology\",\"Foundations of Public Health Practice\",\"From Data to Insights with Google Cloud Platform\",\"From the Big Bang to Dark Energy\",\"Front-End Web Development with React\",\"Front-End Web UI Frameworks and Tools: Bootstrap 4\",\"Full Stack Web and Multiplatform Mobile App Development\",\"Full-Stack Web Development with React\",\"Functional Programming Principles in Scala\",\"Functional Programming in Scala\",\"Fundamental Neuroscience for Neuroimaging\",\"Fundamentals of Accounting\",\"Fundamentals of Computing\",\"Fundamentals of Engineering Exam Review\",\"Fundamentals of GIS\",\"Fundamentals of Graphic Design\",\"Fundamentals of Immunology\",\"Fundamentals of Immunology: Innate Immunity and B-Cell Function\",\"Fundamentals of Music Theory\",\"Fundamentals of Project Planning and Management\",\"Fundamentals of Quantitative Modeling\",\"Fundamentals of Reinforcement Learning\",\"Fundamentals of Visualization with Tableau\",\"Fundamentos Empresariales\",\"Fundamentos Estrat\\u00e9gicos Empresariales\",\"Fundamentos de Excel para Negocios\",\"Fundamentos de Finanzas Empresariales\",\"Fundamentos de la escritura\",\"Fundraising and Development\",\"Futures Thinking\",\"G Suite Administration\",\"GIS, Mapping, and Spatial Analysis\",\"Game Design and Development\",\"Game Theory\",\"Gamification\",\"Gender and Sexuality: Diversity and Inclusion in the Workplace\",\"Genomic Data Science\",\"Geographic Information Systems  (GIS)\",\"Geopolitics of Europe\",\"Geopol\\u00edtica y gobernanza global: riesgos y oportunidades\",\"Gesti\\u00f3n de organizaciones efectivas\",\"Get Interactive: Practical Teaching with Technology\",\"Getting Started With Music Theory\",\"Getting Started with AWS Machine Learning\",\"Getting Started with Go\",\"Getting Started with Google Kubernetes Engine\",\"Getting Started with Google Sheets\",\"Getting Started with SAS Programming\",\"Global Diplomacy \\u2013 Diplomacy in the Modern World\",\"Global Diplomacy: the United Nations in the World\",\"Global Energy and Climate Policy\",\"Global Environmental Management\",\"Global Financial Markets and Instruments\",\"Global Financing Solutions  (by EDHEC and Soci\\u00e9t\\u00e9 G\\u00e9n\\u00e9rale)\",\"Global Trends for Business and Society\",\"Globalization, Economic Growth and Stability\",\"Good with Words: Writing and Editing\",\"Google Cloud Platform Big Data and Machine Learning Fundamentals\",\"Google Cloud Platform Fundamentals for AWS Professionals\",\"Google IT Automation with Python\",\"Google IT Support\",\"Grammar and Punctuation\",\"Graphic Design Elements for Non-Designers\",\"Greek and Roman Mythology\",\"Greening the Economy: Sustainable Cities\",\"Guitar for Beginners\",\"Gut Check: Exploring Your Microbiome\",\"HTML, CSS, and Javascript for Web Developers\",\"Habilidades Gerenciales\",\"Hacia una pr\\u00e1ctica constructivista en el aula\",\"Hardware Description Languages for FPGA Design\",\"Healing with the Arts\",\"Health Informatics\",\"Health Information Literacy for Data Analytics\",\"Healthcare Law\",\"Healthcare Marketplace\",\"Healthcare Organization Operations\",\"High Performance Collaboration: Leadership, Teamwork, and Negotiation\",\"Homeland Security and Cybersecurity\",\"Hotel Management: Distribution, Revenue and Demand Management\",\"How Things Work: An Introduction to Physics\",\"How To Create a Website in a Weekend! (Project-Centered Course)\",\"How to Start Your Own Business\",\"Human Resource Management: HR for People Managers\",\"IBM AI Engineering\",\"IBM AI Enterprise Workflow\",\"IBM Applied AI\",\"IBM Customer Engagement Specialist Professional Certificate\",\"IBM Data Science\",\"IT Fundamentals for Cybersecurity\",\"IT Security: Defense against the digital dark arts\",\"Identifying, Monitoring, and Analyzing Risk and Incident Response and Recovery\",\"Implementaci\\u00f3n del Marketing Mix\",\"Implementing RPA with Cognitive Automation and Analytics\",\"Improve Your English Communication Skills\",\"Improving Deep Neural Networks: Hyperparameter tuning, Regularization and Optimization\",\"Improving Leadership & Governance in Nonprofit Organizations\",\"In the Studio: Postwar Abstract Painting\",\"Indigenous Canada\",\"Industrial IoT on Google Cloud Platform\",\"Infectious Disease Modelling\",\"Influencer Marketing Strategy\",\"Influencing: Storytelling, Change Management and Governance\",\"Information Security: Context and Introduction\",\"Information Visualization\",\"Information\\u200b \\u200bSystems\",\"Initiating and Planning Projects\",\"Innovation Management\",\"Innovation Through Design: Think, Make, Break, Repeat\",\"Innovation: From Creativity to Entrepreneurship\",\"Inspirational Leadership: Leading with Sense\",\"Inspired Leadership\",\"Inspiring and Motivating Individuals\",\"Instructional Design Foundations and Applications\",\"Instructional Methods in Health Professions Education\",\"Integrative Health and Medicine\",\"Intellectual Property Law\",\"Interaction Design\",\"Intercultural Management\",\"International Business Essentials\",\"International Cyber Conflicts\",\"International Humanitarian Law in Theory and Practice\",\"International Law in Action: A Guide to the International Courts and Tribunals in The Hague\",\"International Law in Action: the Arbitration of International Disputes\",\"International Leadership and Organizational Behavior\",\"International Marketing & Cross Industry Growth\",\"International Organizations Management\",\"International Security Management\",\"International Women's Health and Human Rights\",\"International migrations: a global issue\",\"Internet Connection: How to Get Online?\",\"Internet Giants: The Law and Economics of Media Platforms\",\"Interviewing and Resume Writing in English\",\"Introducci\\u00f3n a Data Science: Programaci\\u00f3n Estad\\u00edstica con R\",\"Introducci\\u00f3n a la programaci\\u00f3n en Python I: Aprendiendo a programar con Python\",\"Introduction aux Droits de l\\u2019Homme\",\"Introduction to Ableton Live\",\"Introduction to Artificial Intelligence (AI)\",\"Introduction to Big Data\",\"Introduction to Blockchain Technologies\",\"Introduction to Breast Cancer\",\"Introduction to Business Analytics: Communicating with Data\",\"Introduction to CSS3\",\"Introduction to Calculus\",\"Introduction to Chemistry:  Reactions and Ratios\",\"Introduction to Classical Music\",\"Introduction to Cloud Computing\",\"Introduction to Computer Programming\",\"Introduction to Computer Science and Programming\",\"Introduction to Corporate Finance\",\"Introduction to Cyber Attacks\",\"Introduction to Cyber Security\",\"Introduction to Cybersecurity Tools & Cyber Attacks\",\"Introduction to Data Analysis Using Excel\",\"Introduction to Data Science\",\"Introduction to Data Science in Python\",\"Introduction to Dental Medicine\",\"Introduction to Discrete Mathematics for Computer Science\",\"Introduction to Electronics\",\"Introduction to Embedded Systems Software and Development Environments\",\"Introduction to Engineering Mechanics\",\"Introduction to Environmental Law and Policy\",\"Introduction to Financial Accounting\",\"Introduction to Forensic Science\",\"Introduction to Game Development\",\"Introduction to Genetics and Evolution\",\"Introduction to Genomic Technologies\",\"Introduction to HTML5\",\"Introduction to Imagemaking\",\"Introduction to Intellectual Property\",\"Introduction to International Criminal Law\",\"Introduction to Marketing\",\"Introduction to Mathematical Thinking\",\"Introduction to Operations Management\",\"Introduction to Personal Branding\",\"Introduction to Philosophy\",\"Introduction to Portfolio Construction and Analysis with Python\",\"Introduction to Probability and Data\",\"Introduction to Programming in C\",\"Introduction to Programming with MATLAB\",\"Introduction to Psychology\",\"Introduction to Scripting in Python\",\"Introduction to Self-Driving Cars\",\"Introduction to Spreadsheets and Models\",\"Introduction to Statistics & Data Analysis in Public Health\",\"Introduction to Sustainability\",\"Introduction to Systematic Review and Meta-Analysis\",\"Introduction to Systems Engineering\",\"Introduction to TensorFlow for Artificial Intelligence, Machine Learning, and Deep Learning\",\"Introduction to Thermodynamics: Transferring Energy from Here to There\",\"Introduction to Trading, Machine Learning & GCP\",\"Introduction to Typography\",\"Introduction to User Experience Design\",\"Introduction to User Experience Principles and Processes\",\"Introduction to Web Development\",\"Introduction to the Biology of Cancer\",\"Introductory Human Physiology\",\"Introdu\\u00e7\\u00e3o aos Princ\\u00edpios e Pr\\u00e1ticas da Gest\\u00e3o De Projetos\",\"Introdu\\u00e7\\u00e3o \\u00e0 Ci\\u00eancia da Computa\\u00e7\\u00e3o com Python Parte 1\",\"Investment Management\",\"Investment Management with Python and Machine Learning\",\"Investment and Portfolio Management\",\"Japanese for beginners 1\",\"Java Programming and Software Engineering Fundamentals\",\"Java Programming: Solving Problems with Software\",\"Julia Scientific Programming\",\"Kotlin for Java Developers\",\"L'excellence op\\u00e9rationnelle en pratique\",\"L'impact investing, la finance qui change le monde\",\"Leadership Development for Engineers\",\"Leadership in 21st Century Organizations\",\"Leading Healthcare Quality and Safety\",\"Leading People and Teams\",\"Leading for Equity, Diversity and Inclusion in Higher Education\",\"Leading: Human Resource Management and Leadership\",\"Learn Chinese: HSK Test Preparation\",\"Learn English\",\"Learn English: Advanced Academic Speaking and Listening\",\"Learn English: Advanced Grammar and Punctuation\",\"Learn English: Intermediate Grammar\",\"Learn Mandarin Chinese\",\"Learn SQL Basics for Data Science\",\"Learn Spanish: Basic Spanish Vocabulary\",\"Learn to Program: The Fundamentals\",\"Learn to Speak Korean 1\",\"Learning to Teach Online\",\"Legal Tech & Startups\",\"Les Fondamentaux de la N\\u00e9gociation\",\"Liderazgo efectivo para el siglo XXI\",\"Linear Circuits 1: DC Analysis\",\"Love as a Force for Social Justice\",\"Machine Learning\",\"Machine Learning\",\"Machine Learning Foundations: A Case Study Approach\",\"Machine Learning and Reinforcement Learning in Finance\",\"Machine Learning for All\",\"Machine Learning for Business Professionals\",\"Machine Learning for Trading\",\"Machine Learning with Python\",\"Machine Learning with TensorFlow on Google Cloud Platform\",\"Magic in the Middle Ages\",\"Making Architecture\",\"Management of Fashion and Luxury Companies\",\"Managerial Accounting Fundamentals\",\"Managerial Economics and Business Analysis\",\"Managing Innovation and Design Thinking\",\"Managing Project Risks and Changes\",\"Managing Social and Human Capital\",\"Managing Your Health: The Role of Physical Therapy and Exercise\",\"Market Research\",\"Marketing Digital\",\"Marketing Digital\",\"Marketing Gerencial\",\"Marketing Mix Implementation\",\"Marketing Strategy\",\"Marketing Verde\",\"Marketing con Redes Sociales\",\"Marketing in a Digital World\",\"Mastering Data Analysis in Excel\",\"Mastering Final Cut Pro\",\"Mastering Software Development in R\",\"Materials Science: 10 Things Every Engineer Should Know\",\"Mathematics for Data Science\",\"Mathematics for Machine Learning\",\"Mathematics for Machine Learning: Linear Algebra\",\"Mathematics for Machine Learning: Multivariate Calculus\",\"Mathematics for Machine Learning: PCA\",\"Medical Cannabis: The Health Effects of THC and CBD\",\"Medical Neuroscience\",\"Memoir and Personal Essay: Write About Yourself\",\"Methods and Statistics in Social Sciences\",\"Microeconomics Principles\",\"Microeconomics: The Power of Markets\",\"Mindshift: Break Through Obstacles to Learning and Discover Your Hidden Potential\",\"Miracles of Human Language: An Introduction to Linguistics\",\"Model Thinking\",\"Modeling Risk and Realities\",\"Modern Art & Ideas\",\"Modern Big Data Analysis with SQL\",\"Modern Robotics:  Mechanics, Planning, and Control\",\"Modernizing Data Lakes and Data Warehouses with GCP\",\"Moral Foundations of Politics\",\"More Introduction to Financial Accounting\",\"Mountains 101\",\"Municipal Solid Waste Management in Developing Countries\",\"Music Business\",\"Music Business Foundations\",\"Music Production\",\"Nanotechnology: A Maker\\u2019s Course\",\"Natural Language Processing in TensorFlow\",\"Negociaci\\u00f3n exitosa: Estrategias y habilidades esenciales (en espa\\u00f1ol)\",\"Negotiation, Mediation and Conflict Resolution\",\"Networking and Security Architecture with VMware NSX\",\"Networking in Google Cloud\",\"Neural Networks and Deep Learning\",\"Neurolinguistics\",\"New Approaches to Countering Terror: Countering Violent Extremism\",\"Newborn Baby Care\",\"Nutrici\\u00f3n y obesidad: control de sobrepeso\",\"Nutrition and Lifestyle in Pregnancy\",\"Object Oriented Java Programming: Data Structures and Beyond\",\"Object Oriented Programming in Java\",\"Object-Oriented Data Structures in C++\",\"Object-Oriented Design\",\"Oil & Gas Industry Operations and Markets\",\"Open Source Software Development, Linux and Git\",\"Operating Systems and You: Becoming a Power User\",\"Operations Analytics\",\"Optical Engineering\",\"Organizational Leadership\",\"Osteoarchaeology: The Truth in Our Bones\",\"Palliative Care: It's Not Just Hospice Anymore\",\"Palo Alto Networks Cybersecurity\",\"Parallel, Concurrent, and Distributed Programming in Java\",\"Particle Physics: an Introduction\",\"Patient Safety\",\"Patrocinio Deportivo\",\"People Analytics\",\"Perfect Tenses and Modals\",\"Periodismo digital y combate a las fake news\",\"Photography Basics and Beyond: From Smartphone to DSLR\",\"Plant Bioinformatic Methods\",\"Politics and Economics of International Energy\",\"Positive Psychiatry and Mental Health\",\"Positive Psychology\",\"Positive Psychology: Applications and Interventions\",\"Positive Psychology: Martin E. P. Seligman\\u2019s Visionary Science\",\"Positive Psychology: Resilience Skills\",\"Power Electronics\",\"Practical Data Science with MATLAB\",\"Practical Time Series Analysis\",\"Preparing for the Google Cloud Associate Cloud Engineer Exam\",\"Preparing to Manage Human Resources\",\"Presentation Skills: Speechwriting, Slides and Delivery\",\"Pricing Strategy Optimization\",\"Primeros Auxilios Psicol\\u00f3gicos (PAP)\",\"Private Equity and Venture Capital\",\"Probabilistic Graphical Models 1: Representation\",\"Probability and Statistics: To p or not to p?\",\"Process Mining: Data science in Action\",\"Programming Foundations with JavaScript, HTML and CSS\",\"Programming Fundamentals\",\"Programming for Everybody (Getting Started with Python)\",\"Programming with Google Go\",\"Project Execution\",\"Project Launch\",\"Project Management & Other Tools for Career Development\",\"Project Management Principles and Practices\",\"Psychological First Aid\",\"Public Policy Challenges of the 21st Century\",\"Python Basics\",\"Python Classes and Inheritance\",\"Python Data Structures\",\"Python Functions, Files, and Dictionaries\",\"Python and Statistics for Financial Analysis\",\"Python for Data Science and AI\",\"Python for Everybody\",\"Quantitative Methods\",\"Queering Identities: LGBTQ+ Sexuality and Gender Identity\",\"R Programming\",\"Ready, Set, Future! Introduction to Futures Thinking\",\"Recommender Systems\",\"Recruiting, Hiring, and Onboarding Employees\",\"Reinforcement Learning\",\"Renewable Energy and Green Building Entrepreneurship\",\"Reporting extra-financier et strat\\u00e9gie RSE\",\"Requirements Engineering: Secure Software  Specifications\",\"Research Data Management and Sharing\",\"Resilience in Children Exposed to Trauma, Disaster and War: Global Perspectives\",\"Responsive Website Development and Design\",\"Rethinking International Tax Law\",\"Revis\\u00e3o Sistem\\u00e1tica e Meta-an\\u00e1lise\",\"Robotics\",\"Roman Architecture\",\"Russian Alphabet\",\"Russian for beginners \\u04101. \\u0420\\u0443\\u0441\\u0441\\u043a\\u0438\\u0439 \\u044f\\u0437\\u044b\\u043a: A1\",\"R\\u00e9ussir le Changement\",\"SAS Programmer\",\"SAS Visual Business Analytics\",\"SQL for Data Science\",\"Sales Operations\\u002fManagement\",\"Sales Training for High Performing Teams\",\"Sample-based Learning Methods\",\"Scaling Operations: Linking Strategy and Execution\",\"School Health for Children and Adolescents\",\"Science of Exercise\",\"Search Engine Optimization Fundamentals\",\"Secure Coding Practices\",\"Security & Safety Challenges in a Globalized World\",\"Security in Google Cloud Platform\",\"Self-Driving Cars\",\"Sequence Models\",\"Sexualidad...mucho m\\u00e1s que sexo\",\"Sharpened Visions: A Poetry Workshop\",\"Site Reliability Engineering: Measuring and Managing Reliability\",\"Six Sigma Green Belt\",\"Six Sigma and the Organization (Advanced)\",\"Sleep: Neurobiology, Medicine, and Society\",\"Smart Cities \\u2013 Management of Smart Urban Infrastructures\",\"Social Entrepreneurship\",\"Social Media Marketing\",\"Social Norms, Social Change I\",\"Social Policy for Social Services & Health Practitioners\",\"Social Psychology\",\"Social and Economic Networks:  Models and Analysis\",\"Software Design and Architecture\",\"Software Development Lifecycle\",\"Software Processes and Agile Practices\",\"Software Product Management\",\"Solar Energy Basics\",\"Songwriting: Writing the Lyrics\",\"Soporte de Tecnolog\\u00edas de la Informaci\\u00f3n de Google\",\"Spacecraft Dynamics and Control\",\"Spanish Vocabulary: Meeting People\",\"Speak English Professionally: In Person, Online & On the Phone\",\"Sports Marketing\",\"Sports and Society\",\"Stanford Introduction to Food and Health\",\"Stanford's Short Course on Breastfeeding\",\"Statistical Analysis with R for Public Health\",\"Statistics with Python\",\"Statistics with R\",\"Stories of Infection\",\"Strategic Business Analytics\",\"Strategic Business Management - Microeconomics\",\"Strategic Leadership and Management\",\"Strategic Management\",\"Strategic Management and Innovation\",\"Strategic Sales Management\",\"Strategising: Management for Global Competitive Advantage\",\"Strategy and Sustainability\",\"Structuring Machine Learning Projects\",\"Success\",\"Successful Negotiation: Essential Strategies and Skills\",\"Summary Statistics in Public Health\",\"Supply Chain Analytics\",\"Supply Chain Finance and Blockchain Technology\",\"Supply Chain Logistics\",\"Supply Chain Management\",\"Supply Chain Operations\",\"Supply Chain Principles\",\"Supporting children with difficulties in reading and writing\",\"Survey Data Collection and Analytics\",\"Sustainable Tourism \\u2013 promoting environmental public health\",\"Swift 5 iOS Application Developer\",\"System Administration and IT Infrastructure Services\",\"Systems Biology and Biotechnology\",\"Systems Thinking In Public Health\",\"TESOL Certificate, Part 1: Teach English Now!\",\"TESOL Certificate, Part 2: Teach English Now!\",\"Teach English Now! Foundational Principles\",\"Teach English Now! Teaching Language Online\",\"Teaching Character and Creating Positive Classrooms\",\"Teamwork Skills: Communicating Effectively in Groups\",\"Technical Support Fundamentals\",\"TensorFlow in Practice\",\"TensorFlow: Data and Deployment\",\"Terrorism and Counterterrorism: Comparing Theory and Practice\",\"The Addicted Brain\",\"The Art of Music Production\",\"The Art of Sales: Mastering the Selling Process\",\"The Arts and Science of Relationships: Understanding Human Needs\",\"The Bits and Bytes of Computer Networking\",\"The Business of Health Care\",\"The Business of Music Production\",\"The Changing Global Order\",\"The Cycle: Management of Successful Arts and Cultural Organizations\",\"The DIY Musician\",\"The Data Scientist\\u2019s Toolbox\",\"The Economics of Health Care Delivery\",\"The Global Financial Crisis\",\"The Horse Course: Introduction to Basic Care and Management\",\"The Manager's Toolkit: A Practical Guide to Managing People at Work\",\"The Modern World, Part One: Global History from 1760 to 1910\",\"The Modern World, Part Two: Global History since 1910\",\"The Oral Cavity: Portal to Health and Disease\",\"The Power of Macroeconomics: Economic Principles in the Real World\",\"The Power of Microeconomics: Economic Principles in the Real World\",\"The Pronunciation of American English\",\"The Science of Gastronomy\",\"The Science of Stem Cells\",\"The Science of Success: What Researchers Know that You Should Know\",\"The Science of Training Young Athletes\",\"The Science of Well-Being\",\"The Singer Songwriter\",\"The Social Context of Mental Health and Illness\",\"The Strategy of Content Marketing\",\"The Sustainable Development Goals \\u2013 A global, transdisciplinary vision for the future\",\"The Teacher and Social and Emotional Learning (SEL)\",\"The Technology of Music Production\",\"The Truth About Cats and Dogs\",\"The hidden value \\u2013 Lean in manufacturing and services\",\"Think Again I: How to Understand Arguments\",\"Tools for Data Science\",\"Trading Strategies in Emerging Markets\",\"Transmedia Storytelling: Narrative worlds, emerging technologies, and global audiences\",\"Tricky American English Pronunciation\",\"Troubles du spectre de l'autisme : diagnostic\",\"U.S. Federal Taxation\",\"UCI Project Management\",\"UI \\u002f UX Design\",\"UX Design Fundamentals\",\"Understanding Cancer Metastasis\",\"Understanding Clinical Research: Behind the Statistics\",\"Understanding Einstein: The Special Theory of Relativity\",\"Understanding Medical Research: Your Facebook Friend is Wrong\",\"Understanding Modern Finance\",\"Understanding Plants - Part I: What a Plant Knows\",\"Understanding Research Methods\",\"Understanding and Visualizing Data with Python\",\"Understanding the Brain: The Neurobiology of Everyday Life\",\"Unity Certified Programmer Exam Preparation\",\"Unity XR: How to Build AR and VR Apps\",\"University Teaching\",\"Unraveling the Cycling City\",\"User Experience Research and Design\",\"User Interface Design\",\"Using Databases with Python\",\"Using Python to Access Web Data\",\"Using Python to Interact with the Operating System\",\"Value Chain Management\",\"Version Control with Git\",\"Viral Marketing and How to Craft Contagious Content\",\"Virtual Reality\",\"Virtual Teacher\",\"Vital Signs: Understanding What the Body Is Telling Us\",\"Web Applications for Everybody\",\"Web Design for Everybody: Basics of Web Development & Coding\",\"Weight Management: Beyond Balancing Calories\",\"What Is Contemporary Art?\",\"What future for education?\",\"What is Compliance?\",\"What is Data Science?\",\"What is Social?\",\"Wine Tasting: Sensory Techniques for Wine Analysis\",\"Wonders of Ancient Egypt\",\"Write A Feature Length Screenplay For Film Or Television\",\"Write Professional Emails in English\",\"Write Your First Novel\",\"Writing in the Sciences\",\"e-Learning Ecologies: Innovative Approaches to Teaching and Learning for the Digital Age\",\"iOS App Development with Swift\",\"\\u00bfQu\\u00e9 hacen los buenos directivos? Prioridades de la Alta Direcci\\u00f3n\",\"\\u00c9tudier en France: French Intermediate course B1-B2\",\"\\u00c9xito Profesional\",\"\\u0418\\u0441\\u043a\\u0443\\u0441\\u0441\\u0442\\u0432\\u043e \\u0432\\u0435\\u0434\\u0435\\u043d\\u0438\\u044f \\u0431\\u0438\\u0437\\u043d\\u0435\\u0441\\u0430\",\"\\u0418\\u0441\\u043a\\u0443\\u0441\\u0441\\u0442\\u0432\\u043e \\u0440\\u0430\\u0437\\u0440\\u0430\\u0431\\u043e\\u0442\\u043a\\u0438 \\u043d\\u0430 \\u0441\\u043e\\u0432\\u0440\\u0435\\u043c\\u0435\\u043d\\u043d\\u043e\\u043c C++\",\"\\u041a\\u043e\\u0440\\u043f\\u043e\\u0440\\u0430\\u0442\\u0438\\u0432\\u043d\\u044b\\u0435 \\u0444\\u0438\\u043d\\u0430\\u043d\\u0441\\u044b \\u0438 \\u0441\\u0442\\u043e\\u0438\\u043c\\u043e\\u0441\\u0442\\u044c \\u043a\\u043e\\u043c\\u043f\\u0430\\u043d\\u0438\\u0438\",\"\\u041c\\u0430\\u0442\\u0435\\u043c\\u0430\\u0442\\u0438\\u043a\\u0430 \\u0438 Python \\u0434\\u043b\\u044f \\u0430\\u043d\\u0430\\u043b\\u0438\\u0437\\u0430 \\u0434\\u0430\\u043d\\u043d\\u044b\\u0445\",\"\\u041c\\u0430\\u0448\\u0438\\u043d\\u043d\\u043e\\u0435 \\u043e\\u0431\\u0443\\u0447\\u0435\\u043d\\u0438\\u0435 \\u0438 \\u0430\\u043d\\u0430\\u043b\\u0438\\u0437 \\u0434\\u0430\\u043d\\u043d\\u044b\\u0445\",\"\\u041e\\u0441\\u043d\\u043e\\u0432\\u044b Digital \\u041c\\u0430\\u0440\\u043a\\u0435\\u0442\\u0438\\u043d\\u0433\\u0430\",\"\\u041e\\u0441\\u043d\\u043e\\u0432\\u044b \\u043f\\u0440\\u043e\\u0433\\u0440\\u0430\\u043c\\u043c\\u0438\\u0440\\u043e\\u0432\\u0430\\u043d\\u0438\\u044f \\u043d\\u0430 Python\",\"\\u041e\\u0441\\u043d\\u043e\\u0432\\u044b \\u0440\\u0430\\u0437\\u0440\\u0430\\u0431\\u043e\\u0442\\u043a\\u0438 \\u043d\\u0430 C++: \\u0431\\u0435\\u043b\\u044b\\u0439 \\u043f\\u043e\\u044f\\u0441\",\"\\u041f\\u043e\\u0433\\u0440\\u0443\\u0436\\u0435\\u043d\\u0438\\u0435 \\u0432 Python\",\"\\u041f\\u0440\\u043e\\u0433\\u0440\\u0430\\u043c\\u043c\\u0438\\u0440\\u043e\\u0432\\u0430\\u043d\\u0438\\u0435 \\u043d\\u0430 Python\",\"\\u041f\\u0441\\u0438\\u0445\\u043e\\u043b\\u0438\\u043d\\u0433\\u0432\\u0438\\u0441\\u0442\\u0438\\u043a\\u0430 (Psycholinguistics)\",\"\\u0420\\u0430\\u0437\\u0440\\u0430\\u0431\\u043e\\u0442\\u043a\\u0430 \\u0438\\u043d\\u0442\\u0435\\u0440\\u0444\\u0435\\u0439\\u0441\\u043e\\u0432: \\u0432\\u0451\\u0440\\u0441\\u0442\\u043a\\u0430 \\u0438 JavaScript\",\"\\u0420\\u0443\\u0441\\u0441\\u043a\\u0438\\u0439 \\u043a\\u0430\\u043a \\u0438\\u043d\\u043e\\u0441\\u0442\\u0440\\u0430\\u043d\\u043d\\u044b\\u0439\",\"\\u0424\\u0438\\u043d\\u0430\\u043d\\u0441\\u043e\\u0432\\u044b\\u0435 \\u0438\\u043d\\u0441\\u0442\\u0440\\u0443\\u043c\\u0435\\u043d\\u0442\\u044b \\u0434\\u043b\\u044f \\u0447\\u0430\\u0441\\u0442\\u043d\\u043e\\u0433\\u043e \\u0438\\u043d\\u0432\\u0435\\u0441\\u0442\\u043e\\u0440\\u0430\"],\"legendgroup\":\"\",\"marker\":{\"color\":[4.7,4.7,4.5,4.7,4.8,4.7,4.8,4.8,4.7,4.7,4.6,4.7,4.6,4.3,4.7,4.7,4.5,4.7,4.7,4.7,4.6,4.5,4.8,4.7,4.8,4.8,4.5,4.4,4.5,4.5,4.7,4.8,4.7,4.7,4.7,4.7,4.9,4.7,4.8,4.8,4.9,4.8,4.7,4.6,4.6,4.8,4.8,4.8,4.8,4.5,4.8,4.5,4.8,4.6,4.6,4.7,4.5,4.6,4.6,4.2,4.8,4.9,4.5,4.7,4.5,4.9,4.8,4.8,4.6,4.8,4.9,4.7,4.8,4.6,4.8,4.8,4.7,4.7,4.6,4.6,4.8,4.8,4.9,4.7,4.7,4.7,4.8,4.4,4.6,4.5,4.6,4.4,4.8,4.8,4.6,4.7,4.6,4.7,4.9,4.9,4.6,4.7,4.9,4.9,4.5,4.5,4.6,4.3,4.5,4.6,4.7,4.7,4.7,4.7,4.7,4.7,4.7,4.7,4.5,4.7,4.8,4.5,4.5,4.7,4.9,4.8,4.7,4.7,4.6,4.4,4.8,4.7,4.7,4.7,4.8,4.7,4.8,4.8,4.6,4.8,4.4,4.5,4.7,4.7,4.7,4.7,4.8,4.9,4.7,4.7,4.6,4.8,4.6,4.3,4.7,4.7,4.8,4.8,4.7,4.5,4.6,4.8,4.9,4.7,4.8,4.8,4.8,4.6,4.6,4.8,4.8,4.8,4.3,4.6,4.7,4.7,4.8,4.8,4.6,4.6,4.7,4.5,4.2,4.6,4.8,4.8,4.4,4.6,4.7,4.8,4.7,4.4,4.6,4.6,4.7,4.4,4.5,4.5,4.6,4.6,4.4,4.7,4.8,4.6,4.5,4.5,4.7,4.6,4.7,4.8,4.6,4.8,4.8,4.7,4.4,4.6,4.6,4.7,4.7,4.6,4.6,4.7,4.8,4.6,4.8,4.8,4.7,4.4,4.5,4.6,4.6,4.4,4.7,4.7,4.5,4.9,4.6,4.9,4.8,4.6,4.8,4.7,4.6,4.7,4.8,4.8,4.7,4.9,4.7,4.9,4.9,5.0,4.7,4.8,4.8,4.6,4.7,4.8,4.7,4.6,4.8,4.8,4.8,4.6,4.8,4.4,4.5,4.8,4.8,4.8,4.7,4.8,4.6,4.8,4.7,4.7,4.7,4.6,4.8,4.8,4.5,4.7,4.7,4.7,4.8,4.6,4.8,4.7,4.8,4.8,4.9,4.9,4.7,4.9,4.9,4.8,4.6,4.8,4.8,4.5,4.8,4.8,4.8,4.8,4.6,4.7,4.5,4.8,4.4,4.8,4.5,4.6,4.7,4.8,4.5,4.8,4.7,4.8,4.6,4.8,4.7,4.6,4.9,4.8,4.7,4.9,4.8,4.8,4.8,4.7,4.8,4.2,4.8,4.8,4.6,4.8,4.7,4.8,4.7,4.7,4.8,4.7,4.6,4.6,4.8,4.7,4.8,4.8,4.7,4.7,4.6,4.7,4.6,4.8,4.5,4.6,4.6,4.7,4.8,4.6,4.6,4.8,4.7,4.8,4.7,4.6,4.8,4.7,4.4,4.8,4.3,4.8,4.7,4.7,4.5,4.5,4.6,4.5,4.6,4.9,4.6,4.7,4.5,4.6,4.6,4.6,4.8,4.8,4.6,4.6,4.7,4.7,4.8,4.7,4.7,4.8,4.6,4.8,4.7,4.8,4.7,4.8,4.2,4.6,4.5,4.5,4.7,4.4,4.6,4.8,4.7,4.6,4.8,3.3,4.1,4.7,4.6,4.4,4.6,4.8,4.6,4.5,4.8,4.9,4.7,4.6,4.7,4.9,4.4,4.9,4.8,4.5,5.0,4.4,4.8,4.6,4.6,4.7,4.7,4.6,4.8,4.8,4.5,4.7,4.8,4.2,4.6,4.8,4.8,4.5,4.6,4.5,4.4,4.8,4.8,4.8,4.8,4.6,4.8,4.5,4.9,4.6,4.7,4.8,4.6,4.7,4.4,4.8,4.8,4.7,4.6,4.7,4.9,4.7,4.8,4.8,4.8,4.9,4.6,4.3,4.3,4.6,4.7,4.7,4.5,4.7,4.6,4.5,4.8,4.4,4.7,4.5,4.7,4.8,4.7,4.9,4.8,4.8,4.6,4.7,4.5,4.8,4.8,4.8,4.8,4.5,4.4,4.6,4.8,4.7,4.7,4.8,4.9,4.7,4.8,4.2,4.7,4.8,4.8,4.7,4.7,4.8,4.0,4.8,4.5,4.8,4.7,4.8,4.7,4.9,4.9,4.7,4.6,4.5,4.6,4.6,4.6,4.5,4.7,4.7,4.6,4.7,4.7,4.8,4.7,4.7,4.8,4.8,4.3,4.5,4.8,4.7,4.8,4.6,4.6,4.8,4.9,4.7,4.5,4.7,4.8,4.6,4.7,4.6,4.9,4.6,3.7,4.6,4.6,3.9,4.7,4.5,4.6,4.7,4.7,4.9,4.7,4.7,4.7,4.5,4.6,4.5,4.8,4.7,4.7,4.6,4.4,4.8,4.4,4.7,4.2,4.6,4.3,4.7,4.5,4.6,4.7,4.7,4.0,4.8,4.9,4.3,4.6,4.9,4.7,4.8,4.7,4.8,4.6,4.7,4.8,4.7,4.7,4.8,4.9,4.9,4.8,4.8,4.9,4.8,4.8,4.6,4.8,4.7,4.8,4.7,4.9,4.7,4.7,4.8,4.8,4.8,4.7,4.6,4.7,4.7,4.8,4.4,4.6,4.7,4.2,4.7,4.7,4.8,4.6,4.5,4.5,4.8,4.6,4.5,4.7,4.9,4.7,4.7,4.7,4.8,4.7,4.8,4.8,4.6,4.8,4.7,4.6,4.7,4.8,4.6,4.8,4.8,4.8,4.7,4.6,4.8,4.6,4.7,4.8,4.6,4.2,4.7,4.6,4.7,4.8,4.6,4.8,4.7,4.9,4.8,4.4,4.6,4.8,4.7,4.9,4.6,4.8,4.3,4.7,4.7,4.7,4.7,4.6,4.6,4.8,4.5,4.9,4.9,4.4,4.9,4.7,4.7,4.5,4.8,4.6,4.6,4.4,4.7,4.8,4.5,4.8,4.8,4.7,4.4,4.7,4.7,4.7,4.8,4.8,4.7,4.5,4.7,4.7,4.8,4.6,4.6,4.6,4.6,4.8,4.7,4.8,4.6,4.6,4.7,4.6,4.8,4.8,4.9,4.8,4.6,4.6,4.7,4.8,4.7,4.7,4.7,4.6,4.7,4.9,4.3,4.7,4.7,4.7,4.7,4.5,4.8,4.6,4.8,4.8,4.8,4.8,4.7,4.6,4.7,4.7,4.8,4.6,4.8,4.3,4.6,4.5,4.7,4.4,4.9,4.9,4.9,4.9,4.4,4.8,4.8,4.8,4.7,4.5,4.8,4.6,4.8,4.7,4.5,4.7,4.6,4.8,4.7,4.8,4.8,4.6,4.8,4.8,4.9,4.6,4.8,4.8,4.9,4.6,4.7,4.6,4.6,4.7,4.8,4.9,4.9,4.8,4.6,4.5,4.8,4.7,4.8,4.7,4.7,4.6,4.6,4.3,4.8,4.7,4.9,4.8,4.6,4.7,4.8,4.8,4.8,4.9,4.8,4.4,4.8,4.5,4.7,4.9,4.5,4.2,4.8,4.9,4.8,4.6,4.8,4.8,4.7,4.7,4.8,4.7,4.7,4.3,4.8,4.8,4.7,4.7,4.7,4.7,4.8,4.7,4.6,4.7,4.8,4.9,4.7,4.4,4.9,4.5,3.9,4.7,4.8,4.5,4.6,4.9,4.5,4.8,4.7,4.5,4.6,4.9,4.7,4.5,4.8,4.5,4.6,4.7],\"coloraxis\":\"coloraxis\",\"size\":[5300.0,17000.0,130000.0,91000.0,320000.0,39000.0,350000.0,2400.0,61000.0,12000.0,4000.0,13000.0,130000.0,11000.0,27000.0,110000.0,13000.0,6600.0,540000.0,22000.0,2900.0,80000.0,9900.0,110000.0,23000.0,9200.0,78000.0,320000.0,190000.0,35000.0,29000.0,14000.0,21000.0,94000.0,69000.0,40000.0,12000.0,220000.0,150000.0,14000.0,18000.0,23000.0,69000.0,270000.0,7900.0,30000.0,36000.0,20000.0,8100.0,120000.0,71000.0,11000.0,11000.0,63000.0,220000.0,42000.0,480000.0,150000.0,97000.0,6600.0,200000.0,180000.0,4200.0,310000.0,3900.0,150000.0,79000.0,31000.0,15000.0,15000.0,10000.0,66000.0,33000.0,56000.0,7300.0,9200.0,22000.0,9700.0,13000.0,180000.0,91000.0,29000.0,210000.0,28000.0,4200.0,6500.0,61000.0,55000.0,2300.0,8800.0,35000.0,88000.0,14000.0,1900.0,68000.0,21000.0,1600.0,31000.0,9500.0,57000.0,26000.0,84000.0,15000.0,95000.0,7300.0,22000.0,5800.0,24000.0,67000.0,280000.0,38000.0,120000.0,77000.0,510000.0,13000.0,110000.0,24000.0,89000.0,67000.0,10000.0,48000.0,160000.0,31000.0,36000.0,220000.0,32000.0,130000.0,340000.0,82000.0,790000.0,31000.0,23000.0,19000.0,30000.0,22000.0,57000.0,51000.0,51000.0,4800.0,32000.0,110000.0,37000.0,310000.0,37000.0,120000.0,15000.0,43000.0,6400.0,43000.0,350000.0,5800.0,33000.0,27000.0,66000.0,19000.0,61000.0,43000.0,15000.0,220000.0,27000.0,26000.0,49000.0,240000.0,46000.0,10000.0,56000.0,7800.0,10000.0,75000.0,15000.0,43000.0,81000.0,140000.0,140000.0,120000.0,150000.0,26000.0,22000.0,17000.0,5500.0,18000.0,99000.0,140000.0,23000.0,55000.0,23000.0,100000.0,220000.0,110000.0,24000.0,19000.0,3000.0,120000.0,120000.0,42000.0,140000.0,830000.0,140000.0,89000.0,740000.0,210000.0,130000.0,60000.0,66000.0,96000.0,140000.0,18000.0,120000.0,110000.0,150000.0,31000.0,690000.0,44000.0,4500.0,8200.0,240000.0,17000.0,67000.0,97000.0,19000.0,16000.0,300000.0,4000.0,8000.0,41000.0,54000.0,54000.0,9000.0,21000.0,37000.0,380000.0,57000.0,140000.0,58000.0,35000.0,40000.0,4000.0,21000.0,130000.0,150000.0,5600.0,17000.0,39000.0,110000.0,7100.0,18000.0,110000.0,83000.0,16000.0,3400.0,46000.0,1500.0,57000.0,12000.0,110000.0,17000.0,37000.0,14000.0,23000.0,200000.0,230000.0,760000.0,130000.0,42000.0,110000.0,2400.0,7900.0,110000.0,86000.0,38000.0,31000.0,20000.0,69000.0,45000.0,23000.0,6400.0,31000.0,130000.0,35000.0,7200.0,1800.0,14000.0,68000.0,83000.0,4100.0,54000.0,31000.0,27000.0,13000.0,11000.0,86000.0,240000.0,39000.0,200000.0,76000.0,39000.0,490000.0,56000.0,54000.0,170000.0,28000.0,180000.0,18000.0,9700.0,13000.0,12000.0,260000.0,69000.0,12000.0,65000.0,10000.0,100000.0,76000.0,470000.0,60000.0,12000.0,6500.0,24000.0,30000.0,310000.0,36000.0,20000.0,400000.0,57000.0,42000.0,4400.0,14000.0,63000.0,62000.0,31000.0,64000.0,27000.0,89000.0,3200.0,26000.0,52000.0,45000.0,89000.0,150000.0,140000.0,170000.0,220000.0,30000.0,39000.0,200000.0,49000.0,86000.0,290000.0,20000.0,18000.0,180000.0,120000.0,110000.0,22000.0,81000.0,25000.0,56000.0,150000.0,110000.0,47000.0,4900.0,9400.0,10000.0,140000.0,100000.0,260000.0,110000.0,14000.0,80000.0,97000.0,19000.0,34000.0,47000.0,14000.0,59000.0,73000.0,59000.0,75000.0,18000.0,22000.0,79000.0,29000.0,10000.0,22000.0,37000.0,3600.0,7600.0,44000.0,3800.0,120000.0,36000.0,93000.0,350000.0,430000.0,10000.0,260000.0,56000.0,210000.0,62000.0,240000.0,43000.0,62000.0,7400.0,39000.0,8100.0,5400.0,1700.0,36000.0,5500.0,46000.0,5500.0,28000.0,170000.0,140000.0,34000.0,98000.0,140000.0,3500.0,220000.0,3300.0,480000.0,35000.0,62000.0,1700.0,23000.0,2200.0,610000.0,270000.0,18000.0,79000.0,51000.0,34000.0,1600.0,12000.0,22000.0,32000.0,10000.0,16000.0,180000.0,40000.0,10000.0,25000.0,72000.0,97000.0,85000.0,12000.0,9700.0,14000.0,8700.0,150000.0,6500.0,22000.0,25000.0,22000.0,36000.0,19000.0,41000.0,26000.0,20000.0,2200.0,35000.0,11000.0,36000.0,38000.0,66000.0,140000.0,100000.0,46000.0,60000.0,44000.0,160000.0,16000.0,27000.0,14000.0,84000.0,53000.0,46000.0,150000.0,2600.0,20000.0,32000.0,130000.0,27000.0,32000.0,30000.0,99000.0,310000.0,390000.0,25000.0,75000.0,110000.0,41000.0,150000.0,34000.0,200000.0,47000.0,79000.0,74000.0,42000.0,220000.0,54000.0,6000.0,82000.0,220000.0,270000.0,87000.0,140000.0,370000.0,11000.0,160000.0,82000.0,270000.0,270000.0,49000.0,39000.0,76000.0,12000.0,69000.0,67000.0,33000.0,150000.0,4100.0,13000.0,72000.0,87000.0,16000.0,76000.0,110000.0,270000.0,4500.0,120000.0,99000.0,14000.0,49000.0,4400.0,380000.0,160000.0,22000.0,37000.0,8000.0,6300.0,17000.0,34000.0,16000.0,220000.0,5900.0,16000.0,43000.0,22000.0,78000.0,52000.0,120000.0,39000.0,160000.0,80000.0,180000.0,120000.0,68000.0,7200.0,10000.0,23000.0,29000.0,14000.0,290000.0,3200000.0,240000.0,29000.0,19000.0,58000.0,15000.0,120000.0,72000.0,78000.0,43000.0,120000.0,11000.0,55000.0,23000.0,71000.0,27000.0,47000.0,22000.0,81000.0,39000.0,49000.0,93000.0,57000.0,58000.0,60000.0,310000.0,280000.0,8400.0,52000.0,48000.0,12000.0,150000.0,140000.0,51000.0,33000.0,4800.0,170000.0,13000.0,260000.0,73000.0,34000.0,230000.0,120000.0,130000.0,36000.0,310000.0,14000.0,21000.0,9100.0,100000.0,40000.0,44000.0,59000.0,42000.0,34000.0,70000.0,21000.0,40000.0,95000.0,22000.0,17000.0,290000.0,630000.0,41000.0,12000.0,5300.0,100000.0,35000.0,250000.0,330000.0,21000.0,33000.0,57000.0,13000.0,76000.0,80000.0,6200.0,92000.0,22000.0,3200.0,9100.0,30000.0,42000.0,8800.0,12000.0,84000.0,79000.0,8900.0,160000.0,83000.0,34000.0,72000.0,180000.0,23000.0,50000.0,40000.0,67000.0,10000.0,39000.0,22000.0,68000.0,47000.0,20000.0,280000.0,79000.0,68000.0,36000.0,39000.0,250000.0,19000.0,1300000.0,18000.0,70000.0,190000.0,440000.0,230000.0,190000.0,52000.0,110000.0,21000.0,420000.0,26000.0,41000.0,170000.0,1500000.0,69000.0,3000.0,480000.0,7700.0,29000.0,35000.0,23000.0,24000.0,5200.0,7200.0,16000.0,15000.0,170000.0,36000.0,17000.0,120000.0,30000.0,3200.0,7000.0,33000.0,370000.0,2600.0,160000.0,5600.0,16000.0,6800.0,12000.0,9100.0,140000.0,47000.0,6400.0,14000.0,300000.0,39000.0,14000.0,110000.0,61000.0,16000.0,18000.0,15000.0,20000.0,22000.0,13000.0,130000.0,78000.0,4200.0,220000.0,42000.0,60000.0,34000.0,60000.0,110000.0,17000.0,68000.0,8800.0,12000.0,71000.0,430000.0,12000.0,16000.0,370000.0,17000.0,16000.0,34000.0,220000.0,28000.0,60000.0,9500.0,100000.0,58000.0,68000.0,9200.0,30000.0,11000.0,220000.0,38000.0,750000.0,11000.0,7900.0,4900.0,66000.0,82000.0,24000.0,29000.0,50000.0,45000.0,9400.0,3900.0,62000.0,48000.0,33000.0,100000.0,62000.0,81000.0,8500.0,53000.0,49000.0,280000.0,170000.0,12000.0,90000.0,130000.0,47000.0,23000.0,73000.0,130000.0,22000.0,84000.0,23000.0,11000.0,120000.0,420000.0,7200.0,84000.0,29000.0,47000.0,130000.0,47000.0,9400.0,180000.0,120000.0,1700.0,50000.0,12000.0,59000.0,13000.0,2500000.0,320000.0,19000.0,100000.0,26000.0,5200.0,28000.0,33000.0,14000.0,200000.0,120000.0,68000.0,45000.0,110000.0,5400.0,12000.0,44000.0,68000.0,25000.0,29000.0,78000.0,89000.0,24000.0,11000.0,49000.0,120000.0,30000.0,130000.0,6100.0,12000.0,9500.0,3900.0,23000.0,43000.0,220000.0,310000.0,19000.0,63000.0,40000.0,150000.0,37000.0,23000.0,190000.0,120000.0,280000.0,34000.0,120000.0,35000.0,6200.0,260000.0,94000.0,32000.0,17000.0,12000.0,270000.0,18000.0,140000.0,17000.0,76000.0,25000.0,190000.0,69000.0,14000.0,68000.0,16000.0,67000.0,77000.0,19000.0,83000.0,41000.0,45000.0,52000.0,21000.0,30000.0,9800.0,38000.0],\"sizemode\":\"area\",\"sizeref\":8000.0,\"symbol\":\"circle\"},\"mode\":\"markers\",\"name\":\"\",\"orientation\":\"v\",\"showlegend\":false,\"x\":[5300.0,17000.0,130000.0,91000.0,320000.0,39000.0,350000.0,2400.0,61000.0,12000.0,4000.0,13000.0,130000.0,11000.0,27000.0,110000.0,13000.0,6600.0,540000.0,22000.0,2900.0,80000.0,9900.0,110000.0,23000.0,9200.0,78000.0,320000.0,190000.0,35000.0,29000.0,14000.0,21000.0,94000.0,69000.0,40000.0,12000.0,220000.0,150000.0,14000.0,18000.0,23000.0,69000.0,270000.0,7900.0,30000.0,36000.0,20000.0,8100.0,120000.0,71000.0,11000.0,11000.0,63000.0,220000.0,42000.0,480000.0,150000.0,97000.0,6600.0,200000.0,180000.0,4200.0,310000.0,3900.0,150000.0,79000.0,31000.0,15000.0,15000.0,10000.0,66000.0,33000.0,56000.0,7300.0,9200.0,22000.0,9700.0,13000.0,180000.0,91000.0,29000.0,210000.0,28000.0,4200.0,6500.0,61000.0,55000.0,2300.0,8800.0,35000.0,88000.0,14000.0,1900.0,68000.0,21000.0,1600.0,31000.0,9500.0,57000.0,26000.0,84000.0,15000.0,95000.0,7300.0,22000.0,5800.0,24000.0,67000.0,280000.0,38000.0,120000.0,77000.0,510000.0,13000.0,110000.0,24000.0,89000.0,67000.0,10000.0,48000.0,160000.0,31000.0,36000.0,220000.0,32000.0,130000.0,340000.0,82000.0,790000.0,31000.0,23000.0,19000.0,30000.0,22000.0,57000.0,51000.0,51000.0,4800.0,32000.0,110000.0,37000.0,310000.0,37000.0,120000.0,15000.0,43000.0,6400.0,43000.0,350000.0,5800.0,33000.0,27000.0,66000.0,19000.0,61000.0,43000.0,15000.0,220000.0,27000.0,26000.0,49000.0,240000.0,46000.0,10000.0,56000.0,7800.0,10000.0,75000.0,15000.0,43000.0,81000.0,140000.0,140000.0,120000.0,150000.0,26000.0,22000.0,17000.0,5500.0,18000.0,99000.0,140000.0,23000.0,55000.0,23000.0,100000.0,220000.0,110000.0,24000.0,19000.0,3000.0,120000.0,120000.0,42000.0,140000.0,830000.0,140000.0,89000.0,740000.0,210000.0,130000.0,60000.0,66000.0,96000.0,140000.0,18000.0,120000.0,110000.0,150000.0,31000.0,690000.0,44000.0,4500.0,8200.0,240000.0,17000.0,67000.0,97000.0,19000.0,16000.0,300000.0,4000.0,8000.0,41000.0,54000.0,54000.0,9000.0,21000.0,37000.0,380000.0,57000.0,140000.0,58000.0,35000.0,40000.0,4000.0,21000.0,130000.0,150000.0,5600.0,17000.0,39000.0,110000.0,7100.0,18000.0,110000.0,83000.0,16000.0,3400.0,46000.0,1500.0,57000.0,12000.0,110000.0,17000.0,37000.0,14000.0,23000.0,200000.0,230000.0,760000.0,130000.0,42000.0,110000.0,2400.0,7900.0,110000.0,86000.0,38000.0,31000.0,20000.0,69000.0,45000.0,23000.0,6400.0,31000.0,130000.0,35000.0,7200.0,1800.0,14000.0,68000.0,83000.0,4100.0,54000.0,31000.0,27000.0,13000.0,11000.0,86000.0,240000.0,39000.0,200000.0,76000.0,39000.0,490000.0,56000.0,54000.0,170000.0,28000.0,180000.0,18000.0,9700.0,13000.0,12000.0,260000.0,69000.0,12000.0,65000.0,10000.0,100000.0,76000.0,470000.0,60000.0,12000.0,6500.0,24000.0,30000.0,310000.0,36000.0,20000.0,400000.0,57000.0,42000.0,4400.0,14000.0,63000.0,62000.0,31000.0,64000.0,27000.0,89000.0,3200.0,26000.0,52000.0,45000.0,89000.0,150000.0,140000.0,170000.0,220000.0,30000.0,39000.0,200000.0,49000.0,86000.0,290000.0,20000.0,18000.0,180000.0,120000.0,110000.0,22000.0,81000.0,25000.0,56000.0,150000.0,110000.0,47000.0,4900.0,9400.0,10000.0,140000.0,100000.0,260000.0,110000.0,14000.0,80000.0,97000.0,19000.0,34000.0,47000.0,14000.0,59000.0,73000.0,59000.0,75000.0,18000.0,22000.0,79000.0,29000.0,10000.0,22000.0,37000.0,3600.0,7600.0,44000.0,3800.0,120000.0,36000.0,93000.0,350000.0,430000.0,10000.0,260000.0,56000.0,210000.0,62000.0,240000.0,43000.0,62000.0,7400.0,39000.0,8100.0,5400.0,1700.0,36000.0,5500.0,46000.0,5500.0,28000.0,170000.0,140000.0,34000.0,98000.0,140000.0,3500.0,220000.0,3300.0,480000.0,35000.0,62000.0,1700.0,23000.0,2200.0,610000.0,270000.0,18000.0,79000.0,51000.0,34000.0,1600.0,12000.0,22000.0,32000.0,10000.0,16000.0,180000.0,40000.0,10000.0,25000.0,72000.0,97000.0,85000.0,12000.0,9700.0,14000.0,8700.0,150000.0,6500.0,22000.0,25000.0,22000.0,36000.0,19000.0,41000.0,26000.0,20000.0,2200.0,35000.0,11000.0,36000.0,38000.0,66000.0,140000.0,100000.0,46000.0,60000.0,44000.0,160000.0,16000.0,27000.0,14000.0,84000.0,53000.0,46000.0,150000.0,2600.0,20000.0,32000.0,130000.0,27000.0,32000.0,30000.0,99000.0,310000.0,390000.0,25000.0,75000.0,110000.0,41000.0,150000.0,34000.0,200000.0,47000.0,79000.0,74000.0,42000.0,220000.0,54000.0,6000.0,82000.0,220000.0,270000.0,87000.0,140000.0,370000.0,11000.0,160000.0,82000.0,270000.0,270000.0,49000.0,39000.0,76000.0,12000.0,69000.0,67000.0,33000.0,150000.0,4100.0,13000.0,72000.0,87000.0,16000.0,76000.0,110000.0,270000.0,4500.0,120000.0,99000.0,14000.0,49000.0,4400.0,380000.0,160000.0,22000.0,37000.0,8000.0,6300.0,17000.0,34000.0,16000.0,220000.0,5900.0,16000.0,43000.0,22000.0,78000.0,52000.0,120000.0,39000.0,160000.0,80000.0,180000.0,120000.0,68000.0,7200.0,10000.0,23000.0,29000.0,14000.0,290000.0,3200000.0,240000.0,29000.0,19000.0,58000.0,15000.0,120000.0,72000.0,78000.0,43000.0,120000.0,11000.0,55000.0,23000.0,71000.0,27000.0,47000.0,22000.0,81000.0,39000.0,49000.0,93000.0,57000.0,58000.0,60000.0,310000.0,280000.0,8400.0,52000.0,48000.0,12000.0,150000.0,140000.0,51000.0,33000.0,4800.0,170000.0,13000.0,260000.0,73000.0,34000.0,230000.0,120000.0,130000.0,36000.0,310000.0,14000.0,21000.0,9100.0,100000.0,40000.0,44000.0,59000.0,42000.0,34000.0,70000.0,21000.0,40000.0,95000.0,22000.0,17000.0,290000.0,630000.0,41000.0,12000.0,5300.0,100000.0,35000.0,250000.0,330000.0,21000.0,33000.0,57000.0,13000.0,76000.0,80000.0,6200.0,92000.0,22000.0,3200.0,9100.0,30000.0,42000.0,8800.0,12000.0,84000.0,79000.0,8900.0,160000.0,83000.0,34000.0,72000.0,180000.0,23000.0,50000.0,40000.0,67000.0,10000.0,39000.0,22000.0,68000.0,47000.0,20000.0,280000.0,79000.0,68000.0,36000.0,39000.0,250000.0,19000.0,1300000.0,18000.0,70000.0,190000.0,440000.0,230000.0,190000.0,52000.0,110000.0,21000.0,420000.0,26000.0,41000.0,170000.0,1500000.0,69000.0,3000.0,480000.0,7700.0,29000.0,35000.0,23000.0,24000.0,5200.0,7200.0,16000.0,15000.0,170000.0,36000.0,17000.0,120000.0,30000.0,3200.0,7000.0,33000.0,370000.0,2600.0,160000.0,5600.0,16000.0,6800.0,12000.0,9100.0,140000.0,47000.0,6400.0,14000.0,300000.0,39000.0,14000.0,110000.0,61000.0,16000.0,18000.0,15000.0,20000.0,22000.0,13000.0,130000.0,78000.0,4200.0,220000.0,42000.0,60000.0,34000.0,60000.0,110000.0,17000.0,68000.0,8800.0,12000.0,71000.0,430000.0,12000.0,16000.0,370000.0,17000.0,16000.0,34000.0,220000.0,28000.0,60000.0,9500.0,100000.0,58000.0,68000.0,9200.0,30000.0,11000.0,220000.0,38000.0,750000.0,11000.0,7900.0,4900.0,66000.0,82000.0,24000.0,29000.0,50000.0,45000.0,9400.0,3900.0,62000.0,48000.0,33000.0,100000.0,62000.0,81000.0,8500.0,53000.0,49000.0,280000.0,170000.0,12000.0,90000.0,130000.0,47000.0,23000.0,73000.0,130000.0,22000.0,84000.0,23000.0,11000.0,120000.0,420000.0,7200.0,84000.0,29000.0,47000.0,130000.0,47000.0,9400.0,180000.0,120000.0,1700.0,50000.0,12000.0,59000.0,13000.0,2500000.0,320000.0,19000.0,100000.0,26000.0,5200.0,28000.0,33000.0,14000.0,200000.0,120000.0,68000.0,45000.0,110000.0,5400.0,12000.0,44000.0,68000.0,25000.0,29000.0,78000.0,89000.0,24000.0,11000.0,49000.0,120000.0,30000.0,130000.0,6100.0,12000.0,9500.0,3900.0,23000.0,43000.0,220000.0,310000.0,19000.0,63000.0,40000.0,150000.0,37000.0,23000.0,190000.0,120000.0,280000.0,34000.0,120000.0,35000.0,6200.0,260000.0,94000.0,32000.0,17000.0,12000.0,270000.0,18000.0,140000.0,17000.0,76000.0,25000.0,190000.0,69000.0,14000.0,68000.0,16000.0,67000.0,77000.0,19000.0,83000.0,41000.0,45000.0,52000.0,21000.0,30000.0,9800.0,38000.0],\"xaxis\":\"x\",\"y\":[4.7,4.7,4.5,4.7,4.8,4.7,4.8,4.8,4.7,4.7,4.6,4.7,4.6,4.3,4.7,4.7,4.5,4.7,4.7,4.7,4.6,4.5,4.8,4.7,4.8,4.8,4.5,4.4,4.5,4.5,4.7,4.8,4.7,4.7,4.7,4.7,4.9,4.7,4.8,4.8,4.9,4.8,4.7,4.6,4.6,4.8,4.8,4.8,4.8,4.5,4.8,4.5,4.8,4.6,4.6,4.7,4.5,4.6,4.6,4.2,4.8,4.9,4.5,4.7,4.5,4.9,4.8,4.8,4.6,4.8,4.9,4.7,4.8,4.6,4.8,4.8,4.7,4.7,4.6,4.6,4.8,4.8,4.9,4.7,4.7,4.7,4.8,4.4,4.6,4.5,4.6,4.4,4.8,4.8,4.6,4.7,4.6,4.7,4.9,4.9,4.6,4.7,4.9,4.9,4.5,4.5,4.6,4.3,4.5,4.6,4.7,4.7,4.7,4.7,4.7,4.7,4.7,4.7,4.5,4.7,4.8,4.5,4.5,4.7,4.9,4.8,4.7,4.7,4.6,4.4,4.8,4.7,4.7,4.7,4.8,4.7,4.8,4.8,4.6,4.8,4.4,4.5,4.7,4.7,4.7,4.7,4.8,4.9,4.7,4.7,4.6,4.8,4.6,4.3,4.7,4.7,4.8,4.8,4.7,4.5,4.6,4.8,4.9,4.7,4.8,4.8,4.8,4.6,4.6,4.8,4.8,4.8,4.3,4.6,4.7,4.7,4.8,4.8,4.6,4.6,4.7,4.5,4.2,4.6,4.8,4.8,4.4,4.6,4.7,4.8,4.7,4.4,4.6,4.6,4.7,4.4,4.5,4.5,4.6,4.6,4.4,4.7,4.8,4.6,4.5,4.5,4.7,4.6,4.7,4.8,4.6,4.8,4.8,4.7,4.4,4.6,4.6,4.7,4.7,4.6,4.6,4.7,4.8,4.6,4.8,4.8,4.7,4.4,4.5,4.6,4.6,4.4,4.7,4.7,4.5,4.9,4.6,4.9,4.8,4.6,4.8,4.7,4.6,4.7,4.8,4.8,4.7,4.9,4.7,4.9,4.9,5.0,4.7,4.8,4.8,4.6,4.7,4.8,4.7,4.6,4.8,4.8,4.8,4.6,4.8,4.4,4.5,4.8,4.8,4.8,4.7,4.8,4.6,4.8,4.7,4.7,4.7,4.6,4.8,4.8,4.5,4.7,4.7,4.7,4.8,4.6,4.8,4.7,4.8,4.8,4.9,4.9,4.7,4.9,4.9,4.8,4.6,4.8,4.8,4.5,4.8,4.8,4.8,4.8,4.6,4.7,4.5,4.8,4.4,4.8,4.5,4.6,4.7,4.8,4.5,4.8,4.7,4.8,4.6,4.8,4.7,4.6,4.9,4.8,4.7,4.9,4.8,4.8,4.8,4.7,4.8,4.2,4.8,4.8,4.6,4.8,4.7,4.8,4.7,4.7,4.8,4.7,4.6,4.6,4.8,4.7,4.8,4.8,4.7,4.7,4.6,4.7,4.6,4.8,4.5,4.6,4.6,4.7,4.8,4.6,4.6,4.8,4.7,4.8,4.7,4.6,4.8,4.7,4.4,4.8,4.3,4.8,4.7,4.7,4.5,4.5,4.6,4.5,4.6,4.9,4.6,4.7,4.5,4.6,4.6,4.6,4.8,4.8,4.6,4.6,4.7,4.7,4.8,4.7,4.7,4.8,4.6,4.8,4.7,4.8,4.7,4.8,4.2,4.6,4.5,4.5,4.7,4.4,4.6,4.8,4.7,4.6,4.8,3.3,4.1,4.7,4.6,4.4,4.6,4.8,4.6,4.5,4.8,4.9,4.7,4.6,4.7,4.9,4.4,4.9,4.8,4.5,5.0,4.4,4.8,4.6,4.6,4.7,4.7,4.6,4.8,4.8,4.5,4.7,4.8,4.2,4.6,4.8,4.8,4.5,4.6,4.5,4.4,4.8,4.8,4.8,4.8,4.6,4.8,4.5,4.9,4.6,4.7,4.8,4.6,4.7,4.4,4.8,4.8,4.7,4.6,4.7,4.9,4.7,4.8,4.8,4.8,4.9,4.6,4.3,4.3,4.6,4.7,4.7,4.5,4.7,4.6,4.5,4.8,4.4,4.7,4.5,4.7,4.8,4.7,4.9,4.8,4.8,4.6,4.7,4.5,4.8,4.8,4.8,4.8,4.5,4.4,4.6,4.8,4.7,4.7,4.8,4.9,4.7,4.8,4.2,4.7,4.8,4.8,4.7,4.7,4.8,4.0,4.8,4.5,4.8,4.7,4.8,4.7,4.9,4.9,4.7,4.6,4.5,4.6,4.6,4.6,4.5,4.7,4.7,4.6,4.7,4.7,4.8,4.7,4.7,4.8,4.8,4.3,4.5,4.8,4.7,4.8,4.6,4.6,4.8,4.9,4.7,4.5,4.7,4.8,4.6,4.7,4.6,4.9,4.6,3.7,4.6,4.6,3.9,4.7,4.5,4.6,4.7,4.7,4.9,4.7,4.7,4.7,4.5,4.6,4.5,4.8,4.7,4.7,4.6,4.4,4.8,4.4,4.7,4.2,4.6,4.3,4.7,4.5,4.6,4.7,4.7,4.0,4.8,4.9,4.3,4.6,4.9,4.7,4.8,4.7,4.8,4.6,4.7,4.8,4.7,4.7,4.8,4.9,4.9,4.8,4.8,4.9,4.8,4.8,4.6,4.8,4.7,4.8,4.7,4.9,4.7,4.7,4.8,4.8,4.8,4.7,4.6,4.7,4.7,4.8,4.4,4.6,4.7,4.2,4.7,4.7,4.8,4.6,4.5,4.5,4.8,4.6,4.5,4.7,4.9,4.7,4.7,4.7,4.8,4.7,4.8,4.8,4.6,4.8,4.7,4.6,4.7,4.8,4.6,4.8,4.8,4.8,4.7,4.6,4.8,4.6,4.7,4.8,4.6,4.2,4.7,4.6,4.7,4.8,4.6,4.8,4.7,4.9,4.8,4.4,4.6,4.8,4.7,4.9,4.6,4.8,4.3,4.7,4.7,4.7,4.7,4.6,4.6,4.8,4.5,4.9,4.9,4.4,4.9,4.7,4.7,4.5,4.8,4.6,4.6,4.4,4.7,4.8,4.5,4.8,4.8,4.7,4.4,4.7,4.7,4.7,4.8,4.8,4.7,4.5,4.7,4.7,4.8,4.6,4.6,4.6,4.6,4.8,4.7,4.8,4.6,4.6,4.7,4.6,4.8,4.8,4.9,4.8,4.6,4.6,4.7,4.8,4.7,4.7,4.7,4.6,4.7,4.9,4.3,4.7,4.7,4.7,4.7,4.5,4.8,4.6,4.8,4.8,4.8,4.8,4.7,4.6,4.7,4.7,4.8,4.6,4.8,4.3,4.6,4.5,4.7,4.4,4.9,4.9,4.9,4.9,4.4,4.8,4.8,4.8,4.7,4.5,4.8,4.6,4.8,4.7,4.5,4.7,4.6,4.8,4.7,4.8,4.8,4.6,4.8,4.8,4.9,4.6,4.8,4.8,4.9,4.6,4.7,4.6,4.6,4.7,4.8,4.9,4.9,4.8,4.6,4.5,4.8,4.7,4.8,4.7,4.7,4.6,4.6,4.3,4.8,4.7,4.9,4.8,4.6,4.7,4.8,4.8,4.8,4.9,4.8,4.4,4.8,4.5,4.7,4.9,4.5,4.2,4.8,4.9,4.8,4.6,4.8,4.8,4.7,4.7,4.8,4.7,4.7,4.3,4.8,4.8,4.7,4.7,4.7,4.7,4.8,4.7,4.6,4.7,4.8,4.9,4.7,4.4,4.9,4.5,3.9,4.7,4.8,4.5,4.6,4.9,4.5,4.8,4.7,4.5,4.6,4.9,4.7,4.5,4.8,4.5,4.6,4.7],\"yaxis\":\"y\",\"type\":\"scatter\"}],                        {\"template\":{\"data\":{\"barpolar\":[{\"marker\":{\"line\":{\"color\":\"white\",\"width\":0.5},\"pattern\":{\"fillmode\":\"overlay\",\"size\":10,\"solidity\":0.2}},\"type\":\"barpolar\"}],\"bar\":[{\"error_x\":{\"color\":\"#2a3f5f\"},\"error_y\":{\"color\":\"#2a3f5f\"},\"marker\":{\"line\":{\"color\":\"white\",\"width\":0.5},\"pattern\":{\"fillmode\":\"overlay\",\"size\":10,\"solidity\":0.2}},\"type\":\"bar\"}],\"carpet\":[{\"aaxis\":{\"endlinecolor\":\"#2a3f5f\",\"gridcolor\":\"#C8D4E3\",\"linecolor\":\"#C8D4E3\",\"minorgridcolor\":\"#C8D4E3\",\"startlinecolor\":\"#2a3f5f\"},\"baxis\":{\"endlinecolor\":\"#2a3f5f\",\"gridcolor\":\"#C8D4E3\",\"linecolor\":\"#C8D4E3\",\"minorgridcolor\":\"#C8D4E3\",\"startlinecolor\":\"#2a3f5f\"},\"type\":\"carpet\"}],\"choropleth\":[{\"colorbar\":{\"outlinewidth\":0,\"ticks\":\"\"},\"type\":\"choropleth\"}],\"contourcarpet\":[{\"colorbar\":{\"outlinewidth\":0,\"ticks\":\"\"},\"type\":\"contourcarpet\"}],\"contour\":[{\"colorbar\":{\"outlinewidth\":0,\"ticks\":\"\"},\"colorscale\":[[0.0,\"#0d0887\"],[0.1111111111111111,\"#46039f\"],[0.2222222222222222,\"#7201a8\"],[0.3333333333333333,\"#9c179e\"],[0.4444444444444444,\"#bd3786\"],[0.5555555555555556,\"#d8576b\"],[0.6666666666666666,\"#ed7953\"],[0.7777777777777778,\"#fb9f3a\"],[0.8888888888888888,\"#fdca26\"],[1.0,\"#f0f921\"]],\"type\":\"contour\"}],\"heatmapgl\":[{\"colorbar\":{\"outlinewidth\":0,\"ticks\":\"\"},\"colorscale\":[[0.0,\"#0d0887\"],[0.1111111111111111,\"#46039f\"],[0.2222222222222222,\"#7201a8\"],[0.3333333333333333,\"#9c179e\"],[0.4444444444444444,\"#bd3786\"],[0.5555555555555556,\"#d8576b\"],[0.6666666666666666,\"#ed7953\"],[0.7777777777777778,\"#fb9f3a\"],[0.8888888888888888,\"#fdca26\"],[1.0,\"#f0f921\"]],\"type\":\"heatmapgl\"}],\"heatmap\":[{\"colorbar\":{\"outlinewidth\":0,\"ticks\":\"\"},\"colorscale\":[[0.0,\"#0d0887\"],[0.1111111111111111,\"#46039f\"],[0.2222222222222222,\"#7201a8\"],[0.3333333333333333,\"#9c179e\"],[0.4444444444444444,\"#bd3786\"],[0.5555555555555556,\"#d8576b\"],[0.6666666666666666,\"#ed7953\"],[0.7777777777777778,\"#fb9f3a\"],[0.8888888888888888,\"#fdca26\"],[1.0,\"#f0f921\"]],\"type\":\"heatmap\"}],\"histogram2dcontour\":[{\"colorbar\":{\"outlinewidth\":0,\"ticks\":\"\"},\"colorscale\":[[0.0,\"#0d0887\"],[0.1111111111111111,\"#46039f\"],[0.2222222222222222,\"#7201a8\"],[0.3333333333333333,\"#9c179e\"],[0.4444444444444444,\"#bd3786\"],[0.5555555555555556,\"#d8576b\"],[0.6666666666666666,\"#ed7953\"],[0.7777777777777778,\"#fb9f3a\"],[0.8888888888888888,\"#fdca26\"],[1.0,\"#f0f921\"]],\"type\":\"histogram2dcontour\"}],\"histogram2d\":[{\"colorbar\":{\"outlinewidth\":0,\"ticks\":\"\"},\"colorscale\":[[0.0,\"#0d0887\"],[0.1111111111111111,\"#46039f\"],[0.2222222222222222,\"#7201a8\"],[0.3333333333333333,\"#9c179e\"],[0.4444444444444444,\"#bd3786\"],[0.5555555555555556,\"#d8576b\"],[0.6666666666666666,\"#ed7953\"],[0.7777777777777778,\"#fb9f3a\"],[0.8888888888888888,\"#fdca26\"],[1.0,\"#f0f921\"]],\"type\":\"histogram2d\"}],\"histogram\":[{\"marker\":{\"pattern\":{\"fillmode\":\"overlay\",\"size\":10,\"solidity\":0.2}},\"type\":\"histogram\"}],\"mesh3d\":[{\"colorbar\":{\"outlinewidth\":0,\"ticks\":\"\"},\"type\":\"mesh3d\"}],\"parcoords\":[{\"line\":{\"colorbar\":{\"outlinewidth\":0,\"ticks\":\"\"}},\"type\":\"parcoords\"}],\"pie\":[{\"automargin\":true,\"type\":\"pie\"}],\"scatter3d\":[{\"line\":{\"colorbar\":{\"outlinewidth\":0,\"ticks\":\"\"}},\"marker\":{\"colorbar\":{\"outlinewidth\":0,\"ticks\":\"\"}},\"type\":\"scatter3d\"}],\"scattercarpet\":[{\"marker\":{\"colorbar\":{\"outlinewidth\":0,\"ticks\":\"\"}},\"type\":\"scattercarpet\"}],\"scattergeo\":[{\"marker\":{\"colorbar\":{\"outlinewidth\":0,\"ticks\":\"\"}},\"type\":\"scattergeo\"}],\"scattergl\":[{\"marker\":{\"colorbar\":{\"outlinewidth\":0,\"ticks\":\"\"}},\"type\":\"scattergl\"}],\"scattermapbox\":[{\"marker\":{\"colorbar\":{\"outlinewidth\":0,\"ticks\":\"\"}},\"type\":\"scattermapbox\"}],\"scatterpolargl\":[{\"marker\":{\"colorbar\":{\"outlinewidth\":0,\"ticks\":\"\"}},\"type\":\"scatterpolargl\"}],\"scatterpolar\":[{\"marker\":{\"colorbar\":{\"outlinewidth\":0,\"ticks\":\"\"}},\"type\":\"scatterpolar\"}],\"scatter\":[{\"fillpattern\":{\"fillmode\":\"overlay\",\"size\":10,\"solidity\":0.2},\"type\":\"scatter\"}],\"scatterternary\":[{\"marker\":{\"colorbar\":{\"outlinewidth\":0,\"ticks\":\"\"}},\"type\":\"scatterternary\"}],\"surface\":[{\"colorbar\":{\"outlinewidth\":0,\"ticks\":\"\"},\"colorscale\":[[0.0,\"#0d0887\"],[0.1111111111111111,\"#46039f\"],[0.2222222222222222,\"#7201a8\"],[0.3333333333333333,\"#9c179e\"],[0.4444444444444444,\"#bd3786\"],[0.5555555555555556,\"#d8576b\"],[0.6666666666666666,\"#ed7953\"],[0.7777777777777778,\"#fb9f3a\"],[0.8888888888888888,\"#fdca26\"],[1.0,\"#f0f921\"]],\"type\":\"surface\"}],\"table\":[{\"cells\":{\"fill\":{\"color\":\"#EBF0F8\"},\"line\":{\"color\":\"white\"}},\"header\":{\"fill\":{\"color\":\"#C8D4E3\"},\"line\":{\"color\":\"white\"}},\"type\":\"table\"}]},\"layout\":{\"annotationdefaults\":{\"arrowcolor\":\"#2a3f5f\",\"arrowhead\":0,\"arrowwidth\":1},\"autotypenumbers\":\"strict\",\"coloraxis\":{\"colorbar\":{\"outlinewidth\":0,\"ticks\":\"\"}},\"colorscale\":{\"diverging\":[[0,\"#8e0152\"],[0.1,\"#c51b7d\"],[0.2,\"#de77ae\"],[0.3,\"#f1b6da\"],[0.4,\"#fde0ef\"],[0.5,\"#f7f7f7\"],[0.6,\"#e6f5d0\"],[0.7,\"#b8e186\"],[0.8,\"#7fbc41\"],[0.9,\"#4d9221\"],[1,\"#276419\"]],\"sequential\":[[0.0,\"#0d0887\"],[0.1111111111111111,\"#46039f\"],[0.2222222222222222,\"#7201a8\"],[0.3333333333333333,\"#9c179e\"],[0.4444444444444444,\"#bd3786\"],[0.5555555555555556,\"#d8576b\"],[0.6666666666666666,\"#ed7953\"],[0.7777777777777778,\"#fb9f3a\"],[0.8888888888888888,\"#fdca26\"],[1.0,\"#f0f921\"]],\"sequentialminus\":[[0.0,\"#0d0887\"],[0.1111111111111111,\"#46039f\"],[0.2222222222222222,\"#7201a8\"],[0.3333333333333333,\"#9c179e\"],[0.4444444444444444,\"#bd3786\"],[0.5555555555555556,\"#d8576b\"],[0.6666666666666666,\"#ed7953\"],[0.7777777777777778,\"#fb9f3a\"],[0.8888888888888888,\"#fdca26\"],[1.0,\"#f0f921\"]]},\"colorway\":[\"#636efa\",\"#EF553B\",\"#00cc96\",\"#ab63fa\",\"#FFA15A\",\"#19d3f3\",\"#FF6692\",\"#B6E880\",\"#FF97FF\",\"#FECB52\"],\"font\":{\"color\":\"#2a3f5f\"},\"geo\":{\"bgcolor\":\"white\",\"lakecolor\":\"white\",\"landcolor\":\"white\",\"showlakes\":true,\"showland\":true,\"subunitcolor\":\"#C8D4E3\"},\"hoverlabel\":{\"align\":\"left\"},\"hovermode\":\"closest\",\"mapbox\":{\"style\":\"light\"},\"paper_bgcolor\":\"white\",\"plot_bgcolor\":\"white\",\"polar\":{\"angularaxis\":{\"gridcolor\":\"#EBF0F8\",\"linecolor\":\"#EBF0F8\",\"ticks\":\"\"},\"bgcolor\":\"white\",\"radialaxis\":{\"gridcolor\":\"#EBF0F8\",\"linecolor\":\"#EBF0F8\",\"ticks\":\"\"}},\"scene\":{\"xaxis\":{\"backgroundcolor\":\"white\",\"gridcolor\":\"#DFE8F3\",\"gridwidth\":2,\"linecolor\":\"#EBF0F8\",\"showbackground\":true,\"ticks\":\"\",\"zerolinecolor\":\"#EBF0F8\"},\"yaxis\":{\"backgroundcolor\":\"white\",\"gridcolor\":\"#DFE8F3\",\"gridwidth\":2,\"linecolor\":\"#EBF0F8\",\"showbackground\":true,\"ticks\":\"\",\"zerolinecolor\":\"#EBF0F8\"},\"zaxis\":{\"backgroundcolor\":\"white\",\"gridcolor\":\"#DFE8F3\",\"gridwidth\":2,\"linecolor\":\"#EBF0F8\",\"showbackground\":true,\"ticks\":\"\",\"zerolinecolor\":\"#EBF0F8\"}},\"shapedefaults\":{\"line\":{\"color\":\"#2a3f5f\"}},\"ternary\":{\"aaxis\":{\"gridcolor\":\"#DFE8F3\",\"linecolor\":\"#A2B1C6\",\"ticks\":\"\"},\"baxis\":{\"gridcolor\":\"#DFE8F3\",\"linecolor\":\"#A2B1C6\",\"ticks\":\"\"},\"bgcolor\":\"white\",\"caxis\":{\"gridcolor\":\"#DFE8F3\",\"linecolor\":\"#A2B1C6\",\"ticks\":\"\"}},\"title\":{\"x\":0.05},\"xaxis\":{\"automargin\":true,\"gridcolor\":\"#EBF0F8\",\"linecolor\":\"#EBF0F8\",\"ticks\":\"\",\"title\":{\"standoff\":15},\"zerolinecolor\":\"#EBF0F8\",\"zerolinewidth\":2},\"yaxis\":{\"automargin\":true,\"gridcolor\":\"#EBF0F8\",\"linecolor\":\"#EBF0F8\",\"ticks\":\"\",\"title\":{\"standoff\":15},\"zerolinecolor\":\"#EBF0F8\",\"zerolinewidth\":2}}},\"xaxis\":{\"anchor\":\"y\",\"domain\":[0.0,1.0],\"title\":{\"text\":\"Students Enrolled\"}},\"yaxis\":{\"anchor\":\"x\",\"domain\":[0.0,1.0],\"title\":{\"text\":\"Rating\"}},\"coloraxis\":{\"colorbar\":{\"title\":{\"text\":\"Rating\"}},\"colorscale\":[[0.0,\"#0d0887\"],[0.1111111111111111,\"#46039f\"],[0.2222222222222222,\"#7201a8\"],[0.3333333333333333,\"#9c179e\"],[0.4444444444444444,\"#bd3786\"],[0.5555555555555556,\"#d8576b\"],[0.6666666666666666,\"#ed7953\"],[0.7777777777777778,\"#fb9f3a\"],[0.8888888888888888,\"#fdca26\"],[1.0,\"#f0f921\"]]},\"legend\":{\"tracegroupgap\":0,\"itemsizing\":\"constant\"},\"title\":{\"text\":\"Course Rating vs. Number of Students Enrolled\",\"x\":0.5},\"font\":{\"size\":14}},                        {\"responsive\": true}                    ).then(function(){\n",
       "                            \n",
       "var gd = document.getElementById('b7587fc9-94ab-4182-a7f1-6202faeab73b');\n",
       "var x = new MutationObserver(function (mutations, observer) {{\n",
       "        var display = window.getComputedStyle(gd).display;\n",
       "        if (!display || display === 'none') {{\n",
       "            console.log([gd, 'removed!']);\n",
       "            Plotly.purge(gd);\n",
       "            observer.disconnect();\n",
       "        }}\n",
       "}});\n",
       "\n",
       "// Listen for the removal of the full notebook cells\n",
       "var notebookContainer = gd.closest('#notebook-container');\n",
       "if (notebookContainer) {{\n",
       "    x.observe(notebookContainer, {childList: true});\n",
       "}}\n",
       "\n",
       "// Listen for the clearing of the current output cell\n",
       "var outputEl = gd.closest('.output');\n",
       "if (outputEl) {{\n",
       "    x.observe(outputEl, {childList: true});\n",
       "}}\n",
       "\n",
       "                        })                };                });            </script>        </div>"
      ]
     },
     "metadata": {},
     "output_type": "display_data"
    }
   ],
   "source": [
    "#Plot a scatter plot displaying course rating vs students enrolled\n",
    "fig_7 = px.scatter(coursera_df,\n",
    "                   x=\"course_students_enrolled_float\",\n",
    "                   y=\"course_rating\",\n",
    "                   size=\"course_students_enrolled_float\",\n",
    "                   color=\"course_rating\",\n",
    "                   hover_name=\"course_title\",\n",
    "                   title=\"Course Rating vs. Number of Students Enrolled\",\n",
    "                   labels={\"course_students_enrolled_float\": \"Students Enrolled\", \"course_rating\": \"Rating\"},\n",
    "                   template=\"plotly_white\")\n",
    "\n",
    "fig_7.update_layout(font=dict(size=14),\n",
    "                  title=dict(x=0.5))\n",
    "\n",
    "fig_7.show()\n"
   ]
  },
  {
   "cell_type": "markdown",
   "metadata": {},
   "source": [
    "**Insight:**  \n",
    "A clear trend whether course rating affects course enrollment was not observed, however, courses with higher rating tend to have more students enrolled."
   ]
  },
  {
   "cell_type": "markdown",
   "metadata": {},
   "source": [
    "> 4.11. Which organizations offer the most popular courses(by student enrollment)?  \n",
    "How many courses these organizations provide in total?  \n",
    "How the numbers compare to mean and median?"
   ]
  },
  {
   "cell_type": "code",
   "execution_count": 33,
   "metadata": {},
   "outputs": [
    {
     "data": {
      "application/vnd.plotly.v1+json": {
       "config": {
        "plotlyServerURL": "https://plot.ly"
       },
       "data": [
        {
         "alignmentgroup": "True",
         "hovertemplate": "Number of Courses=%{text}<br>Organization=%{y}<extra></extra>",
         "legendgroup": "",
         "marker": {
          "color": "rgb(136,204,238)",
          "pattern": {
           "shape": ""
          }
         },
         "name": "",
         "offsetgroup": "",
         "orientation": "h",
         "showlegend": false,
         "text": [
          59,
          41,
          28,
          27,
          17,
          16,
          16
         ],
         "textposition": "auto",
         "type": "bar",
         "x": [
          59,
          41,
          28,
          27,
          17,
          16,
          16
         ],
         "xaxis": "x",
         "y": [
          "University of Pennsylvania",
          "University of Michigan",
          "Johns Hopkins University",
          "University of California, Irvine",
          "Yale University",
          "deeplearning.ai",
          "Stanford University"
         ],
         "yaxis": "y"
        }
       ],
       "layout": {
        "annotations": [
         {
          "arrowcolor": "purple",
          "arrowhead": 1,
          "font": {
           "color": "purple"
          },
          "showarrow": true,
          "text": "Mean: 6",
          "x": 5.785714285714286,
          "xshift": -2,
          "y": 3,
          "yshift": -3
         },
         {
          "arrowcolor": "blue",
          "arrowhead": 1,
          "font": {
           "color": "blue"
          },
          "showarrow": true,
          "text": "Median: 3",
          "x": 3,
          "xshift": -2,
          "y": 5,
          "yshift": -3
         }
        ],
        "barmode": "relative",
        "font": {
         "size": 14
        },
        "legend": {
         "tracegroupgap": 0
        },
        "shapes": [
         {
          "line": {
           "color": "purple",
           "dash": "dash"
          },
          "name": "Mean",
          "type": "line",
          "x0": 5.785714285714286,
          "x1": 5.785714285714286,
          "y0": -0.5,
          "y1": 6.7
         },
         {
          "line": {
           "color": "blue",
           "dash": "dash"
          },
          "name": "Median",
          "type": "line",
          "x0": 3,
          "x1": 3,
          "y0": -0.5,
          "y1": 6.7
         }
        ],
        "template": {
         "data": {
          "bar": [
           {
            "error_x": {
             "color": "#2a3f5f"
            },
            "error_y": {
             "color": "#2a3f5f"
            },
            "marker": {
             "line": {
              "color": "white",
              "width": 0.5
             },
             "pattern": {
              "fillmode": "overlay",
              "size": 10,
              "solidity": 0.2
             }
            },
            "type": "bar"
           }
          ],
          "barpolar": [
           {
            "marker": {
             "line": {
              "color": "white",
              "width": 0.5
             },
             "pattern": {
              "fillmode": "overlay",
              "size": 10,
              "solidity": 0.2
             }
            },
            "type": "barpolar"
           }
          ],
          "carpet": [
           {
            "aaxis": {
             "endlinecolor": "#2a3f5f",
             "gridcolor": "#C8D4E3",
             "linecolor": "#C8D4E3",
             "minorgridcolor": "#C8D4E3",
             "startlinecolor": "#2a3f5f"
            },
            "baxis": {
             "endlinecolor": "#2a3f5f",
             "gridcolor": "#C8D4E3",
             "linecolor": "#C8D4E3",
             "minorgridcolor": "#C8D4E3",
             "startlinecolor": "#2a3f5f"
            },
            "type": "carpet"
           }
          ],
          "choropleth": [
           {
            "colorbar": {
             "outlinewidth": 0,
             "ticks": ""
            },
            "type": "choropleth"
           }
          ],
          "contour": [
           {
            "colorbar": {
             "outlinewidth": 0,
             "ticks": ""
            },
            "colorscale": [
             [
              0,
              "#0d0887"
             ],
             [
              0.1111111111111111,
              "#46039f"
             ],
             [
              0.2222222222222222,
              "#7201a8"
             ],
             [
              0.3333333333333333,
              "#9c179e"
             ],
             [
              0.4444444444444444,
              "#bd3786"
             ],
             [
              0.5555555555555556,
              "#d8576b"
             ],
             [
              0.6666666666666666,
              "#ed7953"
             ],
             [
              0.7777777777777778,
              "#fb9f3a"
             ],
             [
              0.8888888888888888,
              "#fdca26"
             ],
             [
              1,
              "#f0f921"
             ]
            ],
            "type": "contour"
           }
          ],
          "contourcarpet": [
           {
            "colorbar": {
             "outlinewidth": 0,
             "ticks": ""
            },
            "type": "contourcarpet"
           }
          ],
          "heatmap": [
           {
            "colorbar": {
             "outlinewidth": 0,
             "ticks": ""
            },
            "colorscale": [
             [
              0,
              "#0d0887"
             ],
             [
              0.1111111111111111,
              "#46039f"
             ],
             [
              0.2222222222222222,
              "#7201a8"
             ],
             [
              0.3333333333333333,
              "#9c179e"
             ],
             [
              0.4444444444444444,
              "#bd3786"
             ],
             [
              0.5555555555555556,
              "#d8576b"
             ],
             [
              0.6666666666666666,
              "#ed7953"
             ],
             [
              0.7777777777777778,
              "#fb9f3a"
             ],
             [
              0.8888888888888888,
              "#fdca26"
             ],
             [
              1,
              "#f0f921"
             ]
            ],
            "type": "heatmap"
           }
          ],
          "heatmapgl": [
           {
            "colorbar": {
             "outlinewidth": 0,
             "ticks": ""
            },
            "colorscale": [
             [
              0,
              "#0d0887"
             ],
             [
              0.1111111111111111,
              "#46039f"
             ],
             [
              0.2222222222222222,
              "#7201a8"
             ],
             [
              0.3333333333333333,
              "#9c179e"
             ],
             [
              0.4444444444444444,
              "#bd3786"
             ],
             [
              0.5555555555555556,
              "#d8576b"
             ],
             [
              0.6666666666666666,
              "#ed7953"
             ],
             [
              0.7777777777777778,
              "#fb9f3a"
             ],
             [
              0.8888888888888888,
              "#fdca26"
             ],
             [
              1,
              "#f0f921"
             ]
            ],
            "type": "heatmapgl"
           }
          ],
          "histogram": [
           {
            "marker": {
             "pattern": {
              "fillmode": "overlay",
              "size": 10,
              "solidity": 0.2
             }
            },
            "type": "histogram"
           }
          ],
          "histogram2d": [
           {
            "colorbar": {
             "outlinewidth": 0,
             "ticks": ""
            },
            "colorscale": [
             [
              0,
              "#0d0887"
             ],
             [
              0.1111111111111111,
              "#46039f"
             ],
             [
              0.2222222222222222,
              "#7201a8"
             ],
             [
              0.3333333333333333,
              "#9c179e"
             ],
             [
              0.4444444444444444,
              "#bd3786"
             ],
             [
              0.5555555555555556,
              "#d8576b"
             ],
             [
              0.6666666666666666,
              "#ed7953"
             ],
             [
              0.7777777777777778,
              "#fb9f3a"
             ],
             [
              0.8888888888888888,
              "#fdca26"
             ],
             [
              1,
              "#f0f921"
             ]
            ],
            "type": "histogram2d"
           }
          ],
          "histogram2dcontour": [
           {
            "colorbar": {
             "outlinewidth": 0,
             "ticks": ""
            },
            "colorscale": [
             [
              0,
              "#0d0887"
             ],
             [
              0.1111111111111111,
              "#46039f"
             ],
             [
              0.2222222222222222,
              "#7201a8"
             ],
             [
              0.3333333333333333,
              "#9c179e"
             ],
             [
              0.4444444444444444,
              "#bd3786"
             ],
             [
              0.5555555555555556,
              "#d8576b"
             ],
             [
              0.6666666666666666,
              "#ed7953"
             ],
             [
              0.7777777777777778,
              "#fb9f3a"
             ],
             [
              0.8888888888888888,
              "#fdca26"
             ],
             [
              1,
              "#f0f921"
             ]
            ],
            "type": "histogram2dcontour"
           }
          ],
          "mesh3d": [
           {
            "colorbar": {
             "outlinewidth": 0,
             "ticks": ""
            },
            "type": "mesh3d"
           }
          ],
          "parcoords": [
           {
            "line": {
             "colorbar": {
              "outlinewidth": 0,
              "ticks": ""
             }
            },
            "type": "parcoords"
           }
          ],
          "pie": [
           {
            "automargin": true,
            "type": "pie"
           }
          ],
          "scatter": [
           {
            "fillpattern": {
             "fillmode": "overlay",
             "size": 10,
             "solidity": 0.2
            },
            "type": "scatter"
           }
          ],
          "scatter3d": [
           {
            "line": {
             "colorbar": {
              "outlinewidth": 0,
              "ticks": ""
             }
            },
            "marker": {
             "colorbar": {
              "outlinewidth": 0,
              "ticks": ""
             }
            },
            "type": "scatter3d"
           }
          ],
          "scattercarpet": [
           {
            "marker": {
             "colorbar": {
              "outlinewidth": 0,
              "ticks": ""
             }
            },
            "type": "scattercarpet"
           }
          ],
          "scattergeo": [
           {
            "marker": {
             "colorbar": {
              "outlinewidth": 0,
              "ticks": ""
             }
            },
            "type": "scattergeo"
           }
          ],
          "scattergl": [
           {
            "marker": {
             "colorbar": {
              "outlinewidth": 0,
              "ticks": ""
             }
            },
            "type": "scattergl"
           }
          ],
          "scattermapbox": [
           {
            "marker": {
             "colorbar": {
              "outlinewidth": 0,
              "ticks": ""
             }
            },
            "type": "scattermapbox"
           }
          ],
          "scatterpolar": [
           {
            "marker": {
             "colorbar": {
              "outlinewidth": 0,
              "ticks": ""
             }
            },
            "type": "scatterpolar"
           }
          ],
          "scatterpolargl": [
           {
            "marker": {
             "colorbar": {
              "outlinewidth": 0,
              "ticks": ""
             }
            },
            "type": "scatterpolargl"
           }
          ],
          "scatterternary": [
           {
            "marker": {
             "colorbar": {
              "outlinewidth": 0,
              "ticks": ""
             }
            },
            "type": "scatterternary"
           }
          ],
          "surface": [
           {
            "colorbar": {
             "outlinewidth": 0,
             "ticks": ""
            },
            "colorscale": [
             [
              0,
              "#0d0887"
             ],
             [
              0.1111111111111111,
              "#46039f"
             ],
             [
              0.2222222222222222,
              "#7201a8"
             ],
             [
              0.3333333333333333,
              "#9c179e"
             ],
             [
              0.4444444444444444,
              "#bd3786"
             ],
             [
              0.5555555555555556,
              "#d8576b"
             ],
             [
              0.6666666666666666,
              "#ed7953"
             ],
             [
              0.7777777777777778,
              "#fb9f3a"
             ],
             [
              0.8888888888888888,
              "#fdca26"
             ],
             [
              1,
              "#f0f921"
             ]
            ],
            "type": "surface"
           }
          ],
          "table": [
           {
            "cells": {
             "fill": {
              "color": "#EBF0F8"
             },
             "line": {
              "color": "white"
             }
            },
            "header": {
             "fill": {
              "color": "#C8D4E3"
             },
             "line": {
              "color": "white"
             }
            },
            "type": "table"
           }
          ]
         },
         "layout": {
          "annotationdefaults": {
           "arrowcolor": "#2a3f5f",
           "arrowhead": 0,
           "arrowwidth": 1
          },
          "autotypenumbers": "strict",
          "coloraxis": {
           "colorbar": {
            "outlinewidth": 0,
            "ticks": ""
           }
          },
          "colorscale": {
           "diverging": [
            [
             0,
             "#8e0152"
            ],
            [
             0.1,
             "#c51b7d"
            ],
            [
             0.2,
             "#de77ae"
            ],
            [
             0.3,
             "#f1b6da"
            ],
            [
             0.4,
             "#fde0ef"
            ],
            [
             0.5,
             "#f7f7f7"
            ],
            [
             0.6,
             "#e6f5d0"
            ],
            [
             0.7,
             "#b8e186"
            ],
            [
             0.8,
             "#7fbc41"
            ],
            [
             0.9,
             "#4d9221"
            ],
            [
             1,
             "#276419"
            ]
           ],
           "sequential": [
            [
             0,
             "#0d0887"
            ],
            [
             0.1111111111111111,
             "#46039f"
            ],
            [
             0.2222222222222222,
             "#7201a8"
            ],
            [
             0.3333333333333333,
             "#9c179e"
            ],
            [
             0.4444444444444444,
             "#bd3786"
            ],
            [
             0.5555555555555556,
             "#d8576b"
            ],
            [
             0.6666666666666666,
             "#ed7953"
            ],
            [
             0.7777777777777778,
             "#fb9f3a"
            ],
            [
             0.8888888888888888,
             "#fdca26"
            ],
            [
             1,
             "#f0f921"
            ]
           ],
           "sequentialminus": [
            [
             0,
             "#0d0887"
            ],
            [
             0.1111111111111111,
             "#46039f"
            ],
            [
             0.2222222222222222,
             "#7201a8"
            ],
            [
             0.3333333333333333,
             "#9c179e"
            ],
            [
             0.4444444444444444,
             "#bd3786"
            ],
            [
             0.5555555555555556,
             "#d8576b"
            ],
            [
             0.6666666666666666,
             "#ed7953"
            ],
            [
             0.7777777777777778,
             "#fb9f3a"
            ],
            [
             0.8888888888888888,
             "#fdca26"
            ],
            [
             1,
             "#f0f921"
            ]
           ]
          },
          "colorway": [
           "#636efa",
           "#EF553B",
           "#00cc96",
           "#ab63fa",
           "#FFA15A",
           "#19d3f3",
           "#FF6692",
           "#B6E880",
           "#FF97FF",
           "#FECB52"
          ],
          "font": {
           "color": "#2a3f5f"
          },
          "geo": {
           "bgcolor": "white",
           "lakecolor": "white",
           "landcolor": "white",
           "showlakes": true,
           "showland": true,
           "subunitcolor": "#C8D4E3"
          },
          "hoverlabel": {
           "align": "left"
          },
          "hovermode": "closest",
          "mapbox": {
           "style": "light"
          },
          "paper_bgcolor": "white",
          "plot_bgcolor": "white",
          "polar": {
           "angularaxis": {
            "gridcolor": "#EBF0F8",
            "linecolor": "#EBF0F8",
            "ticks": ""
           },
           "bgcolor": "white",
           "radialaxis": {
            "gridcolor": "#EBF0F8",
            "linecolor": "#EBF0F8",
            "ticks": ""
           }
          },
          "scene": {
           "xaxis": {
            "backgroundcolor": "white",
            "gridcolor": "#DFE8F3",
            "gridwidth": 2,
            "linecolor": "#EBF0F8",
            "showbackground": true,
            "ticks": "",
            "zerolinecolor": "#EBF0F8"
           },
           "yaxis": {
            "backgroundcolor": "white",
            "gridcolor": "#DFE8F3",
            "gridwidth": 2,
            "linecolor": "#EBF0F8",
            "showbackground": true,
            "ticks": "",
            "zerolinecolor": "#EBF0F8"
           },
           "zaxis": {
            "backgroundcolor": "white",
            "gridcolor": "#DFE8F3",
            "gridwidth": 2,
            "linecolor": "#EBF0F8",
            "showbackground": true,
            "ticks": "",
            "zerolinecolor": "#EBF0F8"
           }
          },
          "shapedefaults": {
           "line": {
            "color": "#2a3f5f"
           }
          },
          "ternary": {
           "aaxis": {
            "gridcolor": "#DFE8F3",
            "linecolor": "#A2B1C6",
            "ticks": ""
           },
           "baxis": {
            "gridcolor": "#DFE8F3",
            "linecolor": "#A2B1C6",
            "ticks": ""
           },
           "bgcolor": "white",
           "caxis": {
            "gridcolor": "#DFE8F3",
            "linecolor": "#A2B1C6",
            "ticks": ""
           }
          },
          "title": {
           "x": 0.05
          },
          "xaxis": {
           "automargin": true,
           "gridcolor": "#EBF0F8",
           "linecolor": "#EBF0F8",
           "ticks": "",
           "title": {
            "standoff": 15
           },
           "zerolinecolor": "#EBF0F8",
           "zerolinewidth": 2
          },
          "yaxis": {
           "automargin": true,
           "gridcolor": "#EBF0F8",
           "linecolor": "#EBF0F8",
           "ticks": "",
           "title": {
            "standoff": 15
           },
           "zerolinecolor": "#EBF0F8",
           "zerolinewidth": 2
          }
         }
        },
        "title": {
         "text": "Courses Provided by Top Organizations by Enrollment",
         "x": 0.4
        },
        "xaxis": {
         "anchor": "y",
         "domain": [
          0,
          1
         ],
         "showgrid": false,
         "title": {
          "text": "Number of Courses"
         }
        },
        "yaxis": {
         "anchor": "x",
         "domain": [
          0,
          1
         ],
         "title": {
          "text": "Organization"
         }
        }
       }
      },
      "text/html": [
       "<div>                            <div id=\"fff2589e-dfd9-4dd0-ae71-c87f5f46dde2\" class=\"plotly-graph-div\" style=\"height:525px; width:100%;\"></div>            <script type=\"text/javascript\">                require([\"plotly\"], function(Plotly) {                    window.PLOTLYENV=window.PLOTLYENV || {};                                    if (document.getElementById(\"fff2589e-dfd9-4dd0-ae71-c87f5f46dde2\")) {                    Plotly.newPlot(                        \"fff2589e-dfd9-4dd0-ae71-c87f5f46dde2\",                        [{\"alignmentgroup\":\"True\",\"hovertemplate\":\"Number of Courses=%{text}\\u003cbr\\u003eOrganization=%{y}\\u003cextra\\u003e\\u003c\\u002fextra\\u003e\",\"legendgroup\":\"\",\"marker\":{\"color\":\"rgb(136,204,238)\",\"pattern\":{\"shape\":\"\"}},\"name\":\"\",\"offsetgroup\":\"\",\"orientation\":\"h\",\"showlegend\":false,\"text\":[59.0,41.0,28.0,27.0,17.0,16.0,16.0],\"textposition\":\"auto\",\"x\":[59,41,28,27,17,16,16],\"xaxis\":\"x\",\"y\":[\"University of Pennsylvania\",\"University of Michigan\",\"Johns Hopkins University\",\"University of California, Irvine\",\"Yale University\",\"deeplearning.ai\",\"Stanford University\"],\"yaxis\":\"y\",\"type\":\"bar\"}],                        {\"template\":{\"data\":{\"barpolar\":[{\"marker\":{\"line\":{\"color\":\"white\",\"width\":0.5},\"pattern\":{\"fillmode\":\"overlay\",\"size\":10,\"solidity\":0.2}},\"type\":\"barpolar\"}],\"bar\":[{\"error_x\":{\"color\":\"#2a3f5f\"},\"error_y\":{\"color\":\"#2a3f5f\"},\"marker\":{\"line\":{\"color\":\"white\",\"width\":0.5},\"pattern\":{\"fillmode\":\"overlay\",\"size\":10,\"solidity\":0.2}},\"type\":\"bar\"}],\"carpet\":[{\"aaxis\":{\"endlinecolor\":\"#2a3f5f\",\"gridcolor\":\"#C8D4E3\",\"linecolor\":\"#C8D4E3\",\"minorgridcolor\":\"#C8D4E3\",\"startlinecolor\":\"#2a3f5f\"},\"baxis\":{\"endlinecolor\":\"#2a3f5f\",\"gridcolor\":\"#C8D4E3\",\"linecolor\":\"#C8D4E3\",\"minorgridcolor\":\"#C8D4E3\",\"startlinecolor\":\"#2a3f5f\"},\"type\":\"carpet\"}],\"choropleth\":[{\"colorbar\":{\"outlinewidth\":0,\"ticks\":\"\"},\"type\":\"choropleth\"}],\"contourcarpet\":[{\"colorbar\":{\"outlinewidth\":0,\"ticks\":\"\"},\"type\":\"contourcarpet\"}],\"contour\":[{\"colorbar\":{\"outlinewidth\":0,\"ticks\":\"\"},\"colorscale\":[[0.0,\"#0d0887\"],[0.1111111111111111,\"#46039f\"],[0.2222222222222222,\"#7201a8\"],[0.3333333333333333,\"#9c179e\"],[0.4444444444444444,\"#bd3786\"],[0.5555555555555556,\"#d8576b\"],[0.6666666666666666,\"#ed7953\"],[0.7777777777777778,\"#fb9f3a\"],[0.8888888888888888,\"#fdca26\"],[1.0,\"#f0f921\"]],\"type\":\"contour\"}],\"heatmapgl\":[{\"colorbar\":{\"outlinewidth\":0,\"ticks\":\"\"},\"colorscale\":[[0.0,\"#0d0887\"],[0.1111111111111111,\"#46039f\"],[0.2222222222222222,\"#7201a8\"],[0.3333333333333333,\"#9c179e\"],[0.4444444444444444,\"#bd3786\"],[0.5555555555555556,\"#d8576b\"],[0.6666666666666666,\"#ed7953\"],[0.7777777777777778,\"#fb9f3a\"],[0.8888888888888888,\"#fdca26\"],[1.0,\"#f0f921\"]],\"type\":\"heatmapgl\"}],\"heatmap\":[{\"colorbar\":{\"outlinewidth\":0,\"ticks\":\"\"},\"colorscale\":[[0.0,\"#0d0887\"],[0.1111111111111111,\"#46039f\"],[0.2222222222222222,\"#7201a8\"],[0.3333333333333333,\"#9c179e\"],[0.4444444444444444,\"#bd3786\"],[0.5555555555555556,\"#d8576b\"],[0.6666666666666666,\"#ed7953\"],[0.7777777777777778,\"#fb9f3a\"],[0.8888888888888888,\"#fdca26\"],[1.0,\"#f0f921\"]],\"type\":\"heatmap\"}],\"histogram2dcontour\":[{\"colorbar\":{\"outlinewidth\":0,\"ticks\":\"\"},\"colorscale\":[[0.0,\"#0d0887\"],[0.1111111111111111,\"#46039f\"],[0.2222222222222222,\"#7201a8\"],[0.3333333333333333,\"#9c179e\"],[0.4444444444444444,\"#bd3786\"],[0.5555555555555556,\"#d8576b\"],[0.6666666666666666,\"#ed7953\"],[0.7777777777777778,\"#fb9f3a\"],[0.8888888888888888,\"#fdca26\"],[1.0,\"#f0f921\"]],\"type\":\"histogram2dcontour\"}],\"histogram2d\":[{\"colorbar\":{\"outlinewidth\":0,\"ticks\":\"\"},\"colorscale\":[[0.0,\"#0d0887\"],[0.1111111111111111,\"#46039f\"],[0.2222222222222222,\"#7201a8\"],[0.3333333333333333,\"#9c179e\"],[0.4444444444444444,\"#bd3786\"],[0.5555555555555556,\"#d8576b\"],[0.6666666666666666,\"#ed7953\"],[0.7777777777777778,\"#fb9f3a\"],[0.8888888888888888,\"#fdca26\"],[1.0,\"#f0f921\"]],\"type\":\"histogram2d\"}],\"histogram\":[{\"marker\":{\"pattern\":{\"fillmode\":\"overlay\",\"size\":10,\"solidity\":0.2}},\"type\":\"histogram\"}],\"mesh3d\":[{\"colorbar\":{\"outlinewidth\":0,\"ticks\":\"\"},\"type\":\"mesh3d\"}],\"parcoords\":[{\"line\":{\"colorbar\":{\"outlinewidth\":0,\"ticks\":\"\"}},\"type\":\"parcoords\"}],\"pie\":[{\"automargin\":true,\"type\":\"pie\"}],\"scatter3d\":[{\"line\":{\"colorbar\":{\"outlinewidth\":0,\"ticks\":\"\"}},\"marker\":{\"colorbar\":{\"outlinewidth\":0,\"ticks\":\"\"}},\"type\":\"scatter3d\"}],\"scattercarpet\":[{\"marker\":{\"colorbar\":{\"outlinewidth\":0,\"ticks\":\"\"}},\"type\":\"scattercarpet\"}],\"scattergeo\":[{\"marker\":{\"colorbar\":{\"outlinewidth\":0,\"ticks\":\"\"}},\"type\":\"scattergeo\"}],\"scattergl\":[{\"marker\":{\"colorbar\":{\"outlinewidth\":0,\"ticks\":\"\"}},\"type\":\"scattergl\"}],\"scattermapbox\":[{\"marker\":{\"colorbar\":{\"outlinewidth\":0,\"ticks\":\"\"}},\"type\":\"scattermapbox\"}],\"scatterpolargl\":[{\"marker\":{\"colorbar\":{\"outlinewidth\":0,\"ticks\":\"\"}},\"type\":\"scatterpolargl\"}],\"scatterpolar\":[{\"marker\":{\"colorbar\":{\"outlinewidth\":0,\"ticks\":\"\"}},\"type\":\"scatterpolar\"}],\"scatter\":[{\"fillpattern\":{\"fillmode\":\"overlay\",\"size\":10,\"solidity\":0.2},\"type\":\"scatter\"}],\"scatterternary\":[{\"marker\":{\"colorbar\":{\"outlinewidth\":0,\"ticks\":\"\"}},\"type\":\"scatterternary\"}],\"surface\":[{\"colorbar\":{\"outlinewidth\":0,\"ticks\":\"\"},\"colorscale\":[[0.0,\"#0d0887\"],[0.1111111111111111,\"#46039f\"],[0.2222222222222222,\"#7201a8\"],[0.3333333333333333,\"#9c179e\"],[0.4444444444444444,\"#bd3786\"],[0.5555555555555556,\"#d8576b\"],[0.6666666666666666,\"#ed7953\"],[0.7777777777777778,\"#fb9f3a\"],[0.8888888888888888,\"#fdca26\"],[1.0,\"#f0f921\"]],\"type\":\"surface\"}],\"table\":[{\"cells\":{\"fill\":{\"color\":\"#EBF0F8\"},\"line\":{\"color\":\"white\"}},\"header\":{\"fill\":{\"color\":\"#C8D4E3\"},\"line\":{\"color\":\"white\"}},\"type\":\"table\"}]},\"layout\":{\"annotationdefaults\":{\"arrowcolor\":\"#2a3f5f\",\"arrowhead\":0,\"arrowwidth\":1},\"autotypenumbers\":\"strict\",\"coloraxis\":{\"colorbar\":{\"outlinewidth\":0,\"ticks\":\"\"}},\"colorscale\":{\"diverging\":[[0,\"#8e0152\"],[0.1,\"#c51b7d\"],[0.2,\"#de77ae\"],[0.3,\"#f1b6da\"],[0.4,\"#fde0ef\"],[0.5,\"#f7f7f7\"],[0.6,\"#e6f5d0\"],[0.7,\"#b8e186\"],[0.8,\"#7fbc41\"],[0.9,\"#4d9221\"],[1,\"#276419\"]],\"sequential\":[[0.0,\"#0d0887\"],[0.1111111111111111,\"#46039f\"],[0.2222222222222222,\"#7201a8\"],[0.3333333333333333,\"#9c179e\"],[0.4444444444444444,\"#bd3786\"],[0.5555555555555556,\"#d8576b\"],[0.6666666666666666,\"#ed7953\"],[0.7777777777777778,\"#fb9f3a\"],[0.8888888888888888,\"#fdca26\"],[1.0,\"#f0f921\"]],\"sequentialminus\":[[0.0,\"#0d0887\"],[0.1111111111111111,\"#46039f\"],[0.2222222222222222,\"#7201a8\"],[0.3333333333333333,\"#9c179e\"],[0.4444444444444444,\"#bd3786\"],[0.5555555555555556,\"#d8576b\"],[0.6666666666666666,\"#ed7953\"],[0.7777777777777778,\"#fb9f3a\"],[0.8888888888888888,\"#fdca26\"],[1.0,\"#f0f921\"]]},\"colorway\":[\"#636efa\",\"#EF553B\",\"#00cc96\",\"#ab63fa\",\"#FFA15A\",\"#19d3f3\",\"#FF6692\",\"#B6E880\",\"#FF97FF\",\"#FECB52\"],\"font\":{\"color\":\"#2a3f5f\"},\"geo\":{\"bgcolor\":\"white\",\"lakecolor\":\"white\",\"landcolor\":\"white\",\"showlakes\":true,\"showland\":true,\"subunitcolor\":\"#C8D4E3\"},\"hoverlabel\":{\"align\":\"left\"},\"hovermode\":\"closest\",\"mapbox\":{\"style\":\"light\"},\"paper_bgcolor\":\"white\",\"plot_bgcolor\":\"white\",\"polar\":{\"angularaxis\":{\"gridcolor\":\"#EBF0F8\",\"linecolor\":\"#EBF0F8\",\"ticks\":\"\"},\"bgcolor\":\"white\",\"radialaxis\":{\"gridcolor\":\"#EBF0F8\",\"linecolor\":\"#EBF0F8\",\"ticks\":\"\"}},\"scene\":{\"xaxis\":{\"backgroundcolor\":\"white\",\"gridcolor\":\"#DFE8F3\",\"gridwidth\":2,\"linecolor\":\"#EBF0F8\",\"showbackground\":true,\"ticks\":\"\",\"zerolinecolor\":\"#EBF0F8\"},\"yaxis\":{\"backgroundcolor\":\"white\",\"gridcolor\":\"#DFE8F3\",\"gridwidth\":2,\"linecolor\":\"#EBF0F8\",\"showbackground\":true,\"ticks\":\"\",\"zerolinecolor\":\"#EBF0F8\"},\"zaxis\":{\"backgroundcolor\":\"white\",\"gridcolor\":\"#DFE8F3\",\"gridwidth\":2,\"linecolor\":\"#EBF0F8\",\"showbackground\":true,\"ticks\":\"\",\"zerolinecolor\":\"#EBF0F8\"}},\"shapedefaults\":{\"line\":{\"color\":\"#2a3f5f\"}},\"ternary\":{\"aaxis\":{\"gridcolor\":\"#DFE8F3\",\"linecolor\":\"#A2B1C6\",\"ticks\":\"\"},\"baxis\":{\"gridcolor\":\"#DFE8F3\",\"linecolor\":\"#A2B1C6\",\"ticks\":\"\"},\"bgcolor\":\"white\",\"caxis\":{\"gridcolor\":\"#DFE8F3\",\"linecolor\":\"#A2B1C6\",\"ticks\":\"\"}},\"title\":{\"x\":0.05},\"xaxis\":{\"automargin\":true,\"gridcolor\":\"#EBF0F8\",\"linecolor\":\"#EBF0F8\",\"ticks\":\"\",\"title\":{\"standoff\":15},\"zerolinecolor\":\"#EBF0F8\",\"zerolinewidth\":2},\"yaxis\":{\"automargin\":true,\"gridcolor\":\"#EBF0F8\",\"linecolor\":\"#EBF0F8\",\"ticks\":\"\",\"title\":{\"standoff\":15},\"zerolinecolor\":\"#EBF0F8\",\"zerolinewidth\":2}}},\"xaxis\":{\"anchor\":\"y\",\"domain\":[0.0,1.0],\"title\":{\"text\":\"Number of Courses\"},\"showgrid\":false},\"yaxis\":{\"anchor\":\"x\",\"domain\":[0.0,1.0],\"title\":{\"text\":\"Organization\"}},\"legend\":{\"tracegroupgap\":0},\"title\":{\"text\":\"Courses Provided by Top Organizations by Enrollment\",\"x\":0.4},\"barmode\":\"relative\",\"shapes\":[{\"line\":{\"color\":\"purple\",\"dash\":\"dash\"},\"name\":\"Mean\",\"type\":\"line\",\"x0\":5.785714285714286,\"x1\":5.785714285714286,\"y0\":-0.5,\"y1\":6.7},{\"line\":{\"color\":\"blue\",\"dash\":\"dash\"},\"name\":\"Median\",\"type\":\"line\",\"x0\":3.0,\"x1\":3.0,\"y0\":-0.5,\"y1\":6.7}],\"annotations\":[{\"arrowcolor\":\"purple\",\"arrowhead\":1,\"font\":{\"color\":\"purple\"},\"showarrow\":true,\"text\":\"Mean: 6\",\"x\":5.785714285714286,\"xshift\":-2,\"y\":3,\"yshift\":-3},{\"arrowcolor\":\"blue\",\"arrowhead\":1,\"font\":{\"color\":\"blue\"},\"showarrow\":true,\"text\":\"Median: 3\",\"x\":3.0,\"xshift\":-2,\"y\":5,\"yshift\":-3}],\"font\":{\"size\":14}},                        {\"responsive\": true}                    ).then(function(){\n",
       "                            \n",
       "var gd = document.getElementById('fff2589e-dfd9-4dd0-ae71-c87f5f46dde2');\n",
       "var x = new MutationObserver(function (mutations, observer) {{\n",
       "        var display = window.getComputedStyle(gd).display;\n",
       "        if (!display || display === 'none') {{\n",
       "            console.log([gd, 'removed!']);\n",
       "            Plotly.purge(gd);\n",
       "            observer.disconnect();\n",
       "        }}\n",
       "}});\n",
       "\n",
       "// Listen for the removal of the full notebook cells\n",
       "var notebookContainer = gd.closest('#notebook-container');\n",
       "if (notebookContainer) {{\n",
       "    x.observe(notebookContainer, {childList: true});\n",
       "}}\n",
       "\n",
       "// Listen for the clearing of the current output cell\n",
       "var outputEl = gd.closest('.output');\n",
       "if (outputEl) {{\n",
       "    x.observe(outputEl, {childList: true});\n",
       "}}\n",
       "\n",
       "                        })                };                });            </script>        </div>"
      ]
     },
     "metadata": {},
     "output_type": "display_data"
    }
   ],
   "source": [
    "#Define organizations which provide most popular courses based on student enrollment\n",
    "top_organizations = top_10_courses_by_students[\"course_organization\"].unique()\n",
    "\n",
    "#Count how many courses each TOP organization provide\n",
    "top_organizations_course_counts = coursera_df[coursera_df[\"course_organization\"].isin(top_organizations)][\"course_organization\"].value_counts()\n",
    "\n",
    "#Count how many courses each organization provide\n",
    "organizations_course_counts = coursera_df[\"course_organization\"].value_counts()\n",
    "\n",
    "#Calculate mean of courses provided all organizations each\n",
    "mean_courses_by_organization = organizations_course_counts.mean()\n",
    "\n",
    "#Calculate median of courses provided by all organizations each\n",
    "median_courses_by_organization = organizations_course_counts.median()\n",
    "\n",
    "#Plot a bar chart displaying number of courses provided by the most popular organizations\n",
    "fig_8 = px.bar(top_organizations_course_counts,\n",
    "               x=\"count\",\n",
    "               title=\"Courses Provided by Top Organizations by Enrollment\",\n",
    "               labels={\"course_organization\":\"Organization\", \"count\" : \"Number of Courses\"},\n",
    "               text=\"count\",\n",
    "               template=\"plotly_white\")\n",
    "\n",
    "fig_8.update_traces(marker_color=\"rgb(136,204,238)\")\n",
    "\n",
    "#Add mean\n",
    "fig_8.add_shape(type=\"line\",\n",
    "                x0=mean_courses_by_organization,\n",
    "                y0=-0.5,\n",
    "                x1=mean_courses_by_organization,\n",
    "                y1=6.7,\n",
    "                line=dict(color=\"purple\", dash=\"dash\"), name=\"Mean\")\n",
    "\n",
    "#Add median\n",
    "fig_8.add_shape(type=\"line\", x0=median_courses_by_organization, y0=-0.5,\n",
    "              x1=median_courses_by_organization,\n",
    "              y1=6.7,\n",
    "              line=dict(color=\"blue\", dash=\"dash\"), name=\"Median\")\n",
    "\n",
    "#Annotation for the mean\n",
    "fig_8.add_annotation(y=3,\n",
    "                     x=mean_courses_by_organization,\n",
    "                     text=f\"Mean: {mean_courses_by_organization:,.0f}\",\n",
    "                     showarrow=True,\n",
    "                     arrowhead=1,\n",
    "                     arrowcolor=\"purple\",\n",
    "                     xshift=-2,\n",
    "                     yshift=-3,\n",
    "                     font=dict(color=\"purple\"))\n",
    "\n",
    "#Annotation for the median\n",
    "fig_8.add_annotation(y=5,\n",
    "                     x=median_courses_by_organization,\n",
    "                     text=f\"Median: {median_courses_by_organization:,.0f}\",\n",
    "                     showarrow=True,\n",
    "                     arrowhead=1,\n",
    "                     arrowcolor=\"blue\",\n",
    "                     xshift=-2,\n",
    "                     yshift=-3,\n",
    "                     font=dict(color=\"blue\"))\n",
    "\n",
    "fig_8.update_layout(font=dict(size=14),\n",
    "                  title=dict(x=0.4),\n",
    "                  xaxis=dict(showgrid=False))\n",
    "\n",
    "fig_8.show()"
   ]
  },
  {
   "cell_type": "markdown",
   "metadata": {},
   "source": [
    "**Insight:**  \n",
    "Organizations which have most students enrolled provide a lot more courses compared to the mean and median."
   ]
  },
  {
   "cell_type": "markdown",
   "metadata": {},
   "source": [
    "> 4.12. Which certification types are most common?"
   ]
  },
  {
   "cell_type": "code",
   "execution_count": 28,
   "metadata": {},
   "outputs": [
    {
     "data": {
      "text/html": [
       "<div>\n",
       "<style scoped>\n",
       "    .dataframe tbody tr th:only-of-type {\n",
       "        vertical-align: middle;\n",
       "    }\n",
       "\n",
       "    .dataframe tbody tr th {\n",
       "        vertical-align: top;\n",
       "    }\n",
       "\n",
       "    .dataframe thead th {\n",
       "        text-align: right;\n",
       "    }\n",
       "</style>\n",
       "<table border=\"1\" class=\"dataframe\">\n",
       "  <thead>\n",
       "    <tr style=\"text-align: right;\">\n",
       "      <th></th>\n",
       "      <th>Certificate Type</th>\n",
       "      <th>Number of Courses</th>\n",
       "      <th>Number of Courses, %</th>\n",
       "    </tr>\n",
       "  </thead>\n",
       "  <tbody>\n",
       "    <tr>\n",
       "      <th>0</th>\n",
       "      <td>COURSE</td>\n",
       "      <td>582</td>\n",
       "      <td>65.32</td>\n",
       "    </tr>\n",
       "    <tr>\n",
       "      <th>2</th>\n",
       "      <td>SPECIALIZATION</td>\n",
       "      <td>297</td>\n",
       "      <td>33.33</td>\n",
       "    </tr>\n",
       "    <tr>\n",
       "      <th>1</th>\n",
       "      <td>PROFESSIONAL CERTIFICATE</td>\n",
       "      <td>12</td>\n",
       "      <td>1.35</td>\n",
       "    </tr>\n",
       "  </tbody>\n",
       "</table>\n",
       "</div>"
      ],
      "text/plain": [
       "           Certificate Type  Number of Courses  Number of Courses, %\n",
       "0                    COURSE                582                 65.32\n",
       "2            SPECIALIZATION                297                 33.33\n",
       "1  PROFESSIONAL CERTIFICATE                 12                  1.35"
      ]
     },
     "execution_count": 28,
     "metadata": {},
     "output_type": "execute_result"
    }
   ],
   "source": [
    "#Count courses by each type of certification\n",
    "n_certifications = coursera_df.groupby([\"course_Certificate_type\"]).size().reset_index(name=\"n\")\n",
    "n_certifications = n_certifications.rename(columns={\"course_Certificate_type\":\"Certificate Type\",\\\n",
    "                                                    \"n\":\"Number of Courses\"}\\\n",
    "                                                        ).sort_values(by=\"Number of Courses\",\n",
    "                                                                      ascending=False)\n",
    "n_certifications[\"Number of Courses, %\"] = round(((n_certifications[\"Number of Courses\"] / n_certifications[\"Number of Courses\"].sum()) * 100), 2)\n",
    "n_certifications"
   ]
  },
  {
   "cell_type": "markdown",
   "metadata": {},
   "source": [
    "> 4.13. Which organizations provide professional certificates?"
   ]
  },
  {
   "cell_type": "code",
   "execution_count": 71,
   "metadata": {},
   "outputs": [
    {
     "data": {
      "text/html": [
       "<div>\n",
       "<style scoped>\n",
       "    .dataframe tbody tr th:only-of-type {\n",
       "        vertical-align: middle;\n",
       "    }\n",
       "\n",
       "    .dataframe tbody tr th {\n",
       "        vertical-align: top;\n",
       "    }\n",
       "\n",
       "    .dataframe thead th {\n",
       "        text-align: right;\n",
       "    }\n",
       "</style>\n",
       "<table border=\"1\" class=\"dataframe\">\n",
       "  <thead>\n",
       "    <tr style=\"text-align: right;\">\n",
       "      <th></th>\n",
       "      <th>Organization</th>\n",
       "      <th>Number of Certifications</th>\n",
       "    </tr>\n",
       "  </thead>\n",
       "  <tbody>\n",
       "    <tr>\n",
       "      <th>4</th>\n",
       "      <td>IBM</td>\n",
       "      <td>3</td>\n",
       "    </tr>\n",
       "    <tr>\n",
       "      <th>3</th>\n",
       "      <td>Google Cloud</td>\n",
       "      <td>2</td>\n",
       "    </tr>\n",
       "    <tr>\n",
       "      <th>2</th>\n",
       "      <td>Google</td>\n",
       "      <td>2</td>\n",
       "    </tr>\n",
       "    <tr>\n",
       "      <th>5</th>\n",
       "      <td>SAS</td>\n",
       "      <td>2</td>\n",
       "    </tr>\n",
       "    <tr>\n",
       "      <th>0</th>\n",
       "      <td>Arizona State University</td>\n",
       "      <td>1</td>\n",
       "    </tr>\n",
       "    <tr>\n",
       "      <th>1</th>\n",
       "      <td>Crece con Google</td>\n",
       "      <td>1</td>\n",
       "    </tr>\n",
       "    <tr>\n",
       "      <th>6</th>\n",
       "      <td>University of California, Irvine</td>\n",
       "      <td>1</td>\n",
       "    </tr>\n",
       "  </tbody>\n",
       "</table>\n",
       "</div>"
      ],
      "text/plain": [
       "                       Organization  Number of Certifications\n",
       "4                               IBM                         3\n",
       "3                      Google Cloud                         2\n",
       "2                            Google                         2\n",
       "5                               SAS                         2\n",
       "0          Arizona State University                         1\n",
       "1                  Crece con Google                         1\n",
       "6  University of California, Irvine                         1"
      ]
     },
     "execution_count": 71,
     "metadata": {},
     "output_type": "execute_result"
    }
   ],
   "source": [
    "professional_certifications = coursera_df.query(\"course_Certificate_type == 'PROFESSIONAL CERTIFICATE' \"\\\n",
    "                                                ).groupby([\"course_organization\"]\\\n",
    "                                                          ).size().reset_index(name=\"n\")\n",
    "professional_certifications = professional_certifications.rename(columns={\"course_organization\":\"Organization\",\\\n",
    "                                                                           \"n\":\"Number of Certifications\"}\\\n",
    "                                                                            ).sort_values(by=\"Number of Certifications\",\\\n",
    "                                                                                          ascending=False)\n",
    "professional_certifications"
   ]
  },
  {
   "cell_type": "markdown",
   "metadata": {},
   "source": [
    "> 4.14. How certitifation types compare across top organizations by student enrollment?"
   ]
  },
  {
   "cell_type": "code",
   "execution_count": 72,
   "metadata": {},
   "outputs": [
    {
     "data": {
      "application/vnd.plotly.v1+json": {
       "config": {
        "plotlyServerURL": "https://plot.ly"
       },
       "data": [
        {
         "alignmentgroup": "True",
         "hovertemplate": "Certificate Type=COURSE<br>Organization=%{x}<br>Number of Courses=%{text}<extra></extra>",
         "legendgroup": "COURSE",
         "marker": {
          "color": "rgb(136,204,238)",
          "pattern": {
           "shape": ""
          }
         },
         "name": "COURSE",
         "offsetgroup": "COURSE",
         "orientation": "v",
         "showlegend": true,
         "text": [
          17,
          15,
          12,
          30,
          44,
          16,
          12
         ],
         "textposition": "outside",
         "type": "bar",
         "x": [
          "Johns Hopkins University",
          "Stanford University",
          "University of California, Irvine",
          "University of Michigan",
          "University of Pennsylvania",
          "Yale University",
          "deeplearning.ai"
         ],
         "xaxis": "x",
         "y": [
          17,
          15,
          12,
          30,
          44,
          16,
          12
         ],
         "yaxis": "y"
        },
        {
         "alignmentgroup": "True",
         "hovertemplate": "Certificate Type=SPECIALIZATION<br>Organization=%{x}<br>Number of Courses=%{text}<extra></extra>",
         "legendgroup": "SPECIALIZATION",
         "marker": {
          "color": "rgb(169,169,169)",
          "pattern": {
           "shape": ""
          }
         },
         "name": "SPECIALIZATION",
         "offsetgroup": "SPECIALIZATION",
         "orientation": "v",
         "showlegend": true,
         "text": [
          11,
          1,
          14,
          11,
          15,
          1,
          4
         ],
         "textposition": "outside",
         "type": "bar",
         "x": [
          "Johns Hopkins University",
          "Stanford University",
          "University of California, Irvine",
          "University of Michigan",
          "University of Pennsylvania",
          "Yale University",
          "deeplearning.ai"
         ],
         "xaxis": "x",
         "y": [
          11,
          1,
          14,
          11,
          15,
          1,
          4
         ],
         "yaxis": "y"
        },
        {
         "alignmentgroup": "True",
         "hovertemplate": "Certificate Type=PROFESSIONAL CERTIFICATE<br>Organization=%{x}<br>Number of Courses=%{text}<extra></extra>",
         "legendgroup": "PROFESSIONAL CERTIFICATE",
         "marker": {
          "color": "#ab63fa",
          "pattern": {
           "shape": ""
          }
         },
         "name": "PROFESSIONAL CERTIFICATE",
         "offsetgroup": "PROFESSIONAL CERTIFICATE",
         "orientation": "v",
         "showlegend": true,
         "text": [
          1
         ],
         "textposition": "outside",
         "type": "bar",
         "x": [
          "University of California, Irvine"
         ],
         "xaxis": "x",
         "y": [
          1
         ],
         "yaxis": "y"
        }
       ],
       "layout": {
        "barmode": "group",
        "font": {
         "size": 14
        },
        "height": 600,
        "legend": {
         "title": {
          "text": "Certificate Type"
         },
         "tracegroupgap": 0
        },
        "template": {
         "data": {
          "bar": [
           {
            "error_x": {
             "color": "#2a3f5f"
            },
            "error_y": {
             "color": "#2a3f5f"
            },
            "marker": {
             "line": {
              "color": "white",
              "width": 0.5
             },
             "pattern": {
              "fillmode": "overlay",
              "size": 10,
              "solidity": 0.2
             }
            },
            "type": "bar"
           }
          ],
          "barpolar": [
           {
            "marker": {
             "line": {
              "color": "white",
              "width": 0.5
             },
             "pattern": {
              "fillmode": "overlay",
              "size": 10,
              "solidity": 0.2
             }
            },
            "type": "barpolar"
           }
          ],
          "carpet": [
           {
            "aaxis": {
             "endlinecolor": "#2a3f5f",
             "gridcolor": "#C8D4E3",
             "linecolor": "#C8D4E3",
             "minorgridcolor": "#C8D4E3",
             "startlinecolor": "#2a3f5f"
            },
            "baxis": {
             "endlinecolor": "#2a3f5f",
             "gridcolor": "#C8D4E3",
             "linecolor": "#C8D4E3",
             "minorgridcolor": "#C8D4E3",
             "startlinecolor": "#2a3f5f"
            },
            "type": "carpet"
           }
          ],
          "choropleth": [
           {
            "colorbar": {
             "outlinewidth": 0,
             "ticks": ""
            },
            "type": "choropleth"
           }
          ],
          "contour": [
           {
            "colorbar": {
             "outlinewidth": 0,
             "ticks": ""
            },
            "colorscale": [
             [
              0,
              "#0d0887"
             ],
             [
              0.1111111111111111,
              "#46039f"
             ],
             [
              0.2222222222222222,
              "#7201a8"
             ],
             [
              0.3333333333333333,
              "#9c179e"
             ],
             [
              0.4444444444444444,
              "#bd3786"
             ],
             [
              0.5555555555555556,
              "#d8576b"
             ],
             [
              0.6666666666666666,
              "#ed7953"
             ],
             [
              0.7777777777777778,
              "#fb9f3a"
             ],
             [
              0.8888888888888888,
              "#fdca26"
             ],
             [
              1,
              "#f0f921"
             ]
            ],
            "type": "contour"
           }
          ],
          "contourcarpet": [
           {
            "colorbar": {
             "outlinewidth": 0,
             "ticks": ""
            },
            "type": "contourcarpet"
           }
          ],
          "heatmap": [
           {
            "colorbar": {
             "outlinewidth": 0,
             "ticks": ""
            },
            "colorscale": [
             [
              0,
              "#0d0887"
             ],
             [
              0.1111111111111111,
              "#46039f"
             ],
             [
              0.2222222222222222,
              "#7201a8"
             ],
             [
              0.3333333333333333,
              "#9c179e"
             ],
             [
              0.4444444444444444,
              "#bd3786"
             ],
             [
              0.5555555555555556,
              "#d8576b"
             ],
             [
              0.6666666666666666,
              "#ed7953"
             ],
             [
              0.7777777777777778,
              "#fb9f3a"
             ],
             [
              0.8888888888888888,
              "#fdca26"
             ],
             [
              1,
              "#f0f921"
             ]
            ],
            "type": "heatmap"
           }
          ],
          "heatmapgl": [
           {
            "colorbar": {
             "outlinewidth": 0,
             "ticks": ""
            },
            "colorscale": [
             [
              0,
              "#0d0887"
             ],
             [
              0.1111111111111111,
              "#46039f"
             ],
             [
              0.2222222222222222,
              "#7201a8"
             ],
             [
              0.3333333333333333,
              "#9c179e"
             ],
             [
              0.4444444444444444,
              "#bd3786"
             ],
             [
              0.5555555555555556,
              "#d8576b"
             ],
             [
              0.6666666666666666,
              "#ed7953"
             ],
             [
              0.7777777777777778,
              "#fb9f3a"
             ],
             [
              0.8888888888888888,
              "#fdca26"
             ],
             [
              1,
              "#f0f921"
             ]
            ],
            "type": "heatmapgl"
           }
          ],
          "histogram": [
           {
            "marker": {
             "pattern": {
              "fillmode": "overlay",
              "size": 10,
              "solidity": 0.2
             }
            },
            "type": "histogram"
           }
          ],
          "histogram2d": [
           {
            "colorbar": {
             "outlinewidth": 0,
             "ticks": ""
            },
            "colorscale": [
             [
              0,
              "#0d0887"
             ],
             [
              0.1111111111111111,
              "#46039f"
             ],
             [
              0.2222222222222222,
              "#7201a8"
             ],
             [
              0.3333333333333333,
              "#9c179e"
             ],
             [
              0.4444444444444444,
              "#bd3786"
             ],
             [
              0.5555555555555556,
              "#d8576b"
             ],
             [
              0.6666666666666666,
              "#ed7953"
             ],
             [
              0.7777777777777778,
              "#fb9f3a"
             ],
             [
              0.8888888888888888,
              "#fdca26"
             ],
             [
              1,
              "#f0f921"
             ]
            ],
            "type": "histogram2d"
           }
          ],
          "histogram2dcontour": [
           {
            "colorbar": {
             "outlinewidth": 0,
             "ticks": ""
            },
            "colorscale": [
             [
              0,
              "#0d0887"
             ],
             [
              0.1111111111111111,
              "#46039f"
             ],
             [
              0.2222222222222222,
              "#7201a8"
             ],
             [
              0.3333333333333333,
              "#9c179e"
             ],
             [
              0.4444444444444444,
              "#bd3786"
             ],
             [
              0.5555555555555556,
              "#d8576b"
             ],
             [
              0.6666666666666666,
              "#ed7953"
             ],
             [
              0.7777777777777778,
              "#fb9f3a"
             ],
             [
              0.8888888888888888,
              "#fdca26"
             ],
             [
              1,
              "#f0f921"
             ]
            ],
            "type": "histogram2dcontour"
           }
          ],
          "mesh3d": [
           {
            "colorbar": {
             "outlinewidth": 0,
             "ticks": ""
            },
            "type": "mesh3d"
           }
          ],
          "parcoords": [
           {
            "line": {
             "colorbar": {
              "outlinewidth": 0,
              "ticks": ""
             }
            },
            "type": "parcoords"
           }
          ],
          "pie": [
           {
            "automargin": true,
            "type": "pie"
           }
          ],
          "scatter": [
           {
            "fillpattern": {
             "fillmode": "overlay",
             "size": 10,
             "solidity": 0.2
            },
            "type": "scatter"
           }
          ],
          "scatter3d": [
           {
            "line": {
             "colorbar": {
              "outlinewidth": 0,
              "ticks": ""
             }
            },
            "marker": {
             "colorbar": {
              "outlinewidth": 0,
              "ticks": ""
             }
            },
            "type": "scatter3d"
           }
          ],
          "scattercarpet": [
           {
            "marker": {
             "colorbar": {
              "outlinewidth": 0,
              "ticks": ""
             }
            },
            "type": "scattercarpet"
           }
          ],
          "scattergeo": [
           {
            "marker": {
             "colorbar": {
              "outlinewidth": 0,
              "ticks": ""
             }
            },
            "type": "scattergeo"
           }
          ],
          "scattergl": [
           {
            "marker": {
             "colorbar": {
              "outlinewidth": 0,
              "ticks": ""
             }
            },
            "type": "scattergl"
           }
          ],
          "scattermapbox": [
           {
            "marker": {
             "colorbar": {
              "outlinewidth": 0,
              "ticks": ""
             }
            },
            "type": "scattermapbox"
           }
          ],
          "scatterpolar": [
           {
            "marker": {
             "colorbar": {
              "outlinewidth": 0,
              "ticks": ""
             }
            },
            "type": "scatterpolar"
           }
          ],
          "scatterpolargl": [
           {
            "marker": {
             "colorbar": {
              "outlinewidth": 0,
              "ticks": ""
             }
            },
            "type": "scatterpolargl"
           }
          ],
          "scatterternary": [
           {
            "marker": {
             "colorbar": {
              "outlinewidth": 0,
              "ticks": ""
             }
            },
            "type": "scatterternary"
           }
          ],
          "surface": [
           {
            "colorbar": {
             "outlinewidth": 0,
             "ticks": ""
            },
            "colorscale": [
             [
              0,
              "#0d0887"
             ],
             [
              0.1111111111111111,
              "#46039f"
             ],
             [
              0.2222222222222222,
              "#7201a8"
             ],
             [
              0.3333333333333333,
              "#9c179e"
             ],
             [
              0.4444444444444444,
              "#bd3786"
             ],
             [
              0.5555555555555556,
              "#d8576b"
             ],
             [
              0.6666666666666666,
              "#ed7953"
             ],
             [
              0.7777777777777778,
              "#fb9f3a"
             ],
             [
              0.8888888888888888,
              "#fdca26"
             ],
             [
              1,
              "#f0f921"
             ]
            ],
            "type": "surface"
           }
          ],
          "table": [
           {
            "cells": {
             "fill": {
              "color": "#EBF0F8"
             },
             "line": {
              "color": "white"
             }
            },
            "header": {
             "fill": {
              "color": "#C8D4E3"
             },
             "line": {
              "color": "white"
             }
            },
            "type": "table"
           }
          ]
         },
         "layout": {
          "annotationdefaults": {
           "arrowcolor": "#2a3f5f",
           "arrowhead": 0,
           "arrowwidth": 1
          },
          "autotypenumbers": "strict",
          "coloraxis": {
           "colorbar": {
            "outlinewidth": 0,
            "ticks": ""
           }
          },
          "colorscale": {
           "diverging": [
            [
             0,
             "#8e0152"
            ],
            [
             0.1,
             "#c51b7d"
            ],
            [
             0.2,
             "#de77ae"
            ],
            [
             0.3,
             "#f1b6da"
            ],
            [
             0.4,
             "#fde0ef"
            ],
            [
             0.5,
             "#f7f7f7"
            ],
            [
             0.6,
             "#e6f5d0"
            ],
            [
             0.7,
             "#b8e186"
            ],
            [
             0.8,
             "#7fbc41"
            ],
            [
             0.9,
             "#4d9221"
            ],
            [
             1,
             "#276419"
            ]
           ],
           "sequential": [
            [
             0,
             "#0d0887"
            ],
            [
             0.1111111111111111,
             "#46039f"
            ],
            [
             0.2222222222222222,
             "#7201a8"
            ],
            [
             0.3333333333333333,
             "#9c179e"
            ],
            [
             0.4444444444444444,
             "#bd3786"
            ],
            [
             0.5555555555555556,
             "#d8576b"
            ],
            [
             0.6666666666666666,
             "#ed7953"
            ],
            [
             0.7777777777777778,
             "#fb9f3a"
            ],
            [
             0.8888888888888888,
             "#fdca26"
            ],
            [
             1,
             "#f0f921"
            ]
           ],
           "sequentialminus": [
            [
             0,
             "#0d0887"
            ],
            [
             0.1111111111111111,
             "#46039f"
            ],
            [
             0.2222222222222222,
             "#7201a8"
            ],
            [
             0.3333333333333333,
             "#9c179e"
            ],
            [
             0.4444444444444444,
             "#bd3786"
            ],
            [
             0.5555555555555556,
             "#d8576b"
            ],
            [
             0.6666666666666666,
             "#ed7953"
            ],
            [
             0.7777777777777778,
             "#fb9f3a"
            ],
            [
             0.8888888888888888,
             "#fdca26"
            ],
            [
             1,
             "#f0f921"
            ]
           ]
          },
          "colorway": [
           "#636efa",
           "#EF553B",
           "#00cc96",
           "#ab63fa",
           "#FFA15A",
           "#19d3f3",
           "#FF6692",
           "#B6E880",
           "#FF97FF",
           "#FECB52"
          ],
          "font": {
           "color": "#2a3f5f"
          },
          "geo": {
           "bgcolor": "white",
           "lakecolor": "white",
           "landcolor": "white",
           "showlakes": true,
           "showland": true,
           "subunitcolor": "#C8D4E3"
          },
          "hoverlabel": {
           "align": "left"
          },
          "hovermode": "closest",
          "mapbox": {
           "style": "light"
          },
          "paper_bgcolor": "white",
          "plot_bgcolor": "white",
          "polar": {
           "angularaxis": {
            "gridcolor": "#EBF0F8",
            "linecolor": "#EBF0F8",
            "ticks": ""
           },
           "bgcolor": "white",
           "radialaxis": {
            "gridcolor": "#EBF0F8",
            "linecolor": "#EBF0F8",
            "ticks": ""
           }
          },
          "scene": {
           "xaxis": {
            "backgroundcolor": "white",
            "gridcolor": "#DFE8F3",
            "gridwidth": 2,
            "linecolor": "#EBF0F8",
            "showbackground": true,
            "ticks": "",
            "zerolinecolor": "#EBF0F8"
           },
           "yaxis": {
            "backgroundcolor": "white",
            "gridcolor": "#DFE8F3",
            "gridwidth": 2,
            "linecolor": "#EBF0F8",
            "showbackground": true,
            "ticks": "",
            "zerolinecolor": "#EBF0F8"
           },
           "zaxis": {
            "backgroundcolor": "white",
            "gridcolor": "#DFE8F3",
            "gridwidth": 2,
            "linecolor": "#EBF0F8",
            "showbackground": true,
            "ticks": "",
            "zerolinecolor": "#EBF0F8"
           }
          },
          "shapedefaults": {
           "line": {
            "color": "#2a3f5f"
           }
          },
          "ternary": {
           "aaxis": {
            "gridcolor": "#DFE8F3",
            "linecolor": "#A2B1C6",
            "ticks": ""
           },
           "baxis": {
            "gridcolor": "#DFE8F3",
            "linecolor": "#A2B1C6",
            "ticks": ""
           },
           "bgcolor": "white",
           "caxis": {
            "gridcolor": "#DFE8F3",
            "linecolor": "#A2B1C6",
            "ticks": ""
           }
          },
          "title": {
           "x": 0.05
          },
          "xaxis": {
           "automargin": true,
           "gridcolor": "#EBF0F8",
           "linecolor": "#EBF0F8",
           "ticks": "",
           "title": {
            "standoff": 15
           },
           "zerolinecolor": "#EBF0F8",
           "zerolinewidth": 2
          },
          "yaxis": {
           "automargin": true,
           "gridcolor": "#EBF0F8",
           "linecolor": "#EBF0F8",
           "ticks": "",
           "title": {
            "standoff": 15
           },
           "zerolinecolor": "#EBF0F8",
           "zerolinewidth": 2
          }
         }
        },
        "title": {
         "text": "Certificate Types by Top Organizations",
         "x": 0.4
        },
        "width": 800,
        "xaxis": {
         "anchor": "y",
         "domain": [
          0,
          1
         ],
         "title": {
          "text": "Organization"
         }
        },
        "yaxis": {
         "anchor": "x",
         "domain": [
          0,
          1
         ],
         "showgrid": false,
         "title": {
          "text": "Number of Courses"
         }
        }
       }
      },
      "text/html": [
       "<div>                            <div id=\"c78f66d5-3169-48a5-a41e-9745a99fa5f1\" class=\"plotly-graph-div\" style=\"height:600px; width:800px;\"></div>            <script type=\"text/javascript\">                require([\"plotly\"], function(Plotly) {                    window.PLOTLYENV=window.PLOTLYENV || {};                                    if (document.getElementById(\"c78f66d5-3169-48a5-a41e-9745a99fa5f1\")) {                    Plotly.newPlot(                        \"c78f66d5-3169-48a5-a41e-9745a99fa5f1\",                        [{\"alignmentgroup\":\"True\",\"hovertemplate\":\"Certificate Type=COURSE\\u003cbr\\u003eOrganization=%{x}\\u003cbr\\u003eNumber of Courses=%{text}\\u003cextra\\u003e\\u003c\\u002fextra\\u003e\",\"legendgroup\":\"COURSE\",\"marker\":{\"color\":\"rgb(136,204,238)\",\"pattern\":{\"shape\":\"\"}},\"name\":\"COURSE\",\"offsetgroup\":\"COURSE\",\"orientation\":\"v\",\"showlegend\":true,\"text\":[17.0,15.0,12.0,30.0,44.0,16.0,12.0],\"textposition\":\"outside\",\"x\":[\"Johns Hopkins University\",\"Stanford University\",\"University of California, Irvine\",\"University of Michigan\",\"University of Pennsylvania\",\"Yale University\",\"deeplearning.ai\"],\"xaxis\":\"x\",\"y\":[17,15,12,30,44,16,12],\"yaxis\":\"y\",\"type\":\"bar\"},{\"alignmentgroup\":\"True\",\"hovertemplate\":\"Certificate Type=SPECIALIZATION\\u003cbr\\u003eOrganization=%{x}\\u003cbr\\u003eNumber of Courses=%{text}\\u003cextra\\u003e\\u003c\\u002fextra\\u003e\",\"legendgroup\":\"SPECIALIZATION\",\"marker\":{\"color\":\"rgb(169,169,169)\",\"pattern\":{\"shape\":\"\"}},\"name\":\"SPECIALIZATION\",\"offsetgroup\":\"SPECIALIZATION\",\"orientation\":\"v\",\"showlegend\":true,\"text\":[11.0,1.0,14.0,11.0,15.0,1.0,4.0],\"textposition\":\"outside\",\"x\":[\"Johns Hopkins University\",\"Stanford University\",\"University of California, Irvine\",\"University of Michigan\",\"University of Pennsylvania\",\"Yale University\",\"deeplearning.ai\"],\"xaxis\":\"x\",\"y\":[11,1,14,11,15,1,4],\"yaxis\":\"y\",\"type\":\"bar\"},{\"alignmentgroup\":\"True\",\"hovertemplate\":\"Certificate Type=PROFESSIONAL CERTIFICATE\\u003cbr\\u003eOrganization=%{x}\\u003cbr\\u003eNumber of Courses=%{text}\\u003cextra\\u003e\\u003c\\u002fextra\\u003e\",\"legendgroup\":\"PROFESSIONAL CERTIFICATE\",\"marker\":{\"color\":\"#ab63fa\",\"pattern\":{\"shape\":\"\"}},\"name\":\"PROFESSIONAL CERTIFICATE\",\"offsetgroup\":\"PROFESSIONAL CERTIFICATE\",\"orientation\":\"v\",\"showlegend\":true,\"text\":[1.0],\"textposition\":\"outside\",\"x\":[\"University of California, Irvine\"],\"xaxis\":\"x\",\"y\":[1],\"yaxis\":\"y\",\"type\":\"bar\"}],                        {\"template\":{\"data\":{\"barpolar\":[{\"marker\":{\"line\":{\"color\":\"white\",\"width\":0.5},\"pattern\":{\"fillmode\":\"overlay\",\"size\":10,\"solidity\":0.2}},\"type\":\"barpolar\"}],\"bar\":[{\"error_x\":{\"color\":\"#2a3f5f\"},\"error_y\":{\"color\":\"#2a3f5f\"},\"marker\":{\"line\":{\"color\":\"white\",\"width\":0.5},\"pattern\":{\"fillmode\":\"overlay\",\"size\":10,\"solidity\":0.2}},\"type\":\"bar\"}],\"carpet\":[{\"aaxis\":{\"endlinecolor\":\"#2a3f5f\",\"gridcolor\":\"#C8D4E3\",\"linecolor\":\"#C8D4E3\",\"minorgridcolor\":\"#C8D4E3\",\"startlinecolor\":\"#2a3f5f\"},\"baxis\":{\"endlinecolor\":\"#2a3f5f\",\"gridcolor\":\"#C8D4E3\",\"linecolor\":\"#C8D4E3\",\"minorgridcolor\":\"#C8D4E3\",\"startlinecolor\":\"#2a3f5f\"},\"type\":\"carpet\"}],\"choropleth\":[{\"colorbar\":{\"outlinewidth\":0,\"ticks\":\"\"},\"type\":\"choropleth\"}],\"contourcarpet\":[{\"colorbar\":{\"outlinewidth\":0,\"ticks\":\"\"},\"type\":\"contourcarpet\"}],\"contour\":[{\"colorbar\":{\"outlinewidth\":0,\"ticks\":\"\"},\"colorscale\":[[0.0,\"#0d0887\"],[0.1111111111111111,\"#46039f\"],[0.2222222222222222,\"#7201a8\"],[0.3333333333333333,\"#9c179e\"],[0.4444444444444444,\"#bd3786\"],[0.5555555555555556,\"#d8576b\"],[0.6666666666666666,\"#ed7953\"],[0.7777777777777778,\"#fb9f3a\"],[0.8888888888888888,\"#fdca26\"],[1.0,\"#f0f921\"]],\"type\":\"contour\"}],\"heatmapgl\":[{\"colorbar\":{\"outlinewidth\":0,\"ticks\":\"\"},\"colorscale\":[[0.0,\"#0d0887\"],[0.1111111111111111,\"#46039f\"],[0.2222222222222222,\"#7201a8\"],[0.3333333333333333,\"#9c179e\"],[0.4444444444444444,\"#bd3786\"],[0.5555555555555556,\"#d8576b\"],[0.6666666666666666,\"#ed7953\"],[0.7777777777777778,\"#fb9f3a\"],[0.8888888888888888,\"#fdca26\"],[1.0,\"#f0f921\"]],\"type\":\"heatmapgl\"}],\"heatmap\":[{\"colorbar\":{\"outlinewidth\":0,\"ticks\":\"\"},\"colorscale\":[[0.0,\"#0d0887\"],[0.1111111111111111,\"#46039f\"],[0.2222222222222222,\"#7201a8\"],[0.3333333333333333,\"#9c179e\"],[0.4444444444444444,\"#bd3786\"],[0.5555555555555556,\"#d8576b\"],[0.6666666666666666,\"#ed7953\"],[0.7777777777777778,\"#fb9f3a\"],[0.8888888888888888,\"#fdca26\"],[1.0,\"#f0f921\"]],\"type\":\"heatmap\"}],\"histogram2dcontour\":[{\"colorbar\":{\"outlinewidth\":0,\"ticks\":\"\"},\"colorscale\":[[0.0,\"#0d0887\"],[0.1111111111111111,\"#46039f\"],[0.2222222222222222,\"#7201a8\"],[0.3333333333333333,\"#9c179e\"],[0.4444444444444444,\"#bd3786\"],[0.5555555555555556,\"#d8576b\"],[0.6666666666666666,\"#ed7953\"],[0.7777777777777778,\"#fb9f3a\"],[0.8888888888888888,\"#fdca26\"],[1.0,\"#f0f921\"]],\"type\":\"histogram2dcontour\"}],\"histogram2d\":[{\"colorbar\":{\"outlinewidth\":0,\"ticks\":\"\"},\"colorscale\":[[0.0,\"#0d0887\"],[0.1111111111111111,\"#46039f\"],[0.2222222222222222,\"#7201a8\"],[0.3333333333333333,\"#9c179e\"],[0.4444444444444444,\"#bd3786\"],[0.5555555555555556,\"#d8576b\"],[0.6666666666666666,\"#ed7953\"],[0.7777777777777778,\"#fb9f3a\"],[0.8888888888888888,\"#fdca26\"],[1.0,\"#f0f921\"]],\"type\":\"histogram2d\"}],\"histogram\":[{\"marker\":{\"pattern\":{\"fillmode\":\"overlay\",\"size\":10,\"solidity\":0.2}},\"type\":\"histogram\"}],\"mesh3d\":[{\"colorbar\":{\"outlinewidth\":0,\"ticks\":\"\"},\"type\":\"mesh3d\"}],\"parcoords\":[{\"line\":{\"colorbar\":{\"outlinewidth\":0,\"ticks\":\"\"}},\"type\":\"parcoords\"}],\"pie\":[{\"automargin\":true,\"type\":\"pie\"}],\"scatter3d\":[{\"line\":{\"colorbar\":{\"outlinewidth\":0,\"ticks\":\"\"}},\"marker\":{\"colorbar\":{\"outlinewidth\":0,\"ticks\":\"\"}},\"type\":\"scatter3d\"}],\"scattercarpet\":[{\"marker\":{\"colorbar\":{\"outlinewidth\":0,\"ticks\":\"\"}},\"type\":\"scattercarpet\"}],\"scattergeo\":[{\"marker\":{\"colorbar\":{\"outlinewidth\":0,\"ticks\":\"\"}},\"type\":\"scattergeo\"}],\"scattergl\":[{\"marker\":{\"colorbar\":{\"outlinewidth\":0,\"ticks\":\"\"}},\"type\":\"scattergl\"}],\"scattermapbox\":[{\"marker\":{\"colorbar\":{\"outlinewidth\":0,\"ticks\":\"\"}},\"type\":\"scattermapbox\"}],\"scatterpolargl\":[{\"marker\":{\"colorbar\":{\"outlinewidth\":0,\"ticks\":\"\"}},\"type\":\"scatterpolargl\"}],\"scatterpolar\":[{\"marker\":{\"colorbar\":{\"outlinewidth\":0,\"ticks\":\"\"}},\"type\":\"scatterpolar\"}],\"scatter\":[{\"fillpattern\":{\"fillmode\":\"overlay\",\"size\":10,\"solidity\":0.2},\"type\":\"scatter\"}],\"scatterternary\":[{\"marker\":{\"colorbar\":{\"outlinewidth\":0,\"ticks\":\"\"}},\"type\":\"scatterternary\"}],\"surface\":[{\"colorbar\":{\"outlinewidth\":0,\"ticks\":\"\"},\"colorscale\":[[0.0,\"#0d0887\"],[0.1111111111111111,\"#46039f\"],[0.2222222222222222,\"#7201a8\"],[0.3333333333333333,\"#9c179e\"],[0.4444444444444444,\"#bd3786\"],[0.5555555555555556,\"#d8576b\"],[0.6666666666666666,\"#ed7953\"],[0.7777777777777778,\"#fb9f3a\"],[0.8888888888888888,\"#fdca26\"],[1.0,\"#f0f921\"]],\"type\":\"surface\"}],\"table\":[{\"cells\":{\"fill\":{\"color\":\"#EBF0F8\"},\"line\":{\"color\":\"white\"}},\"header\":{\"fill\":{\"color\":\"#C8D4E3\"},\"line\":{\"color\":\"white\"}},\"type\":\"table\"}]},\"layout\":{\"annotationdefaults\":{\"arrowcolor\":\"#2a3f5f\",\"arrowhead\":0,\"arrowwidth\":1},\"autotypenumbers\":\"strict\",\"coloraxis\":{\"colorbar\":{\"outlinewidth\":0,\"ticks\":\"\"}},\"colorscale\":{\"diverging\":[[0,\"#8e0152\"],[0.1,\"#c51b7d\"],[0.2,\"#de77ae\"],[0.3,\"#f1b6da\"],[0.4,\"#fde0ef\"],[0.5,\"#f7f7f7\"],[0.6,\"#e6f5d0\"],[0.7,\"#b8e186\"],[0.8,\"#7fbc41\"],[0.9,\"#4d9221\"],[1,\"#276419\"]],\"sequential\":[[0.0,\"#0d0887\"],[0.1111111111111111,\"#46039f\"],[0.2222222222222222,\"#7201a8\"],[0.3333333333333333,\"#9c179e\"],[0.4444444444444444,\"#bd3786\"],[0.5555555555555556,\"#d8576b\"],[0.6666666666666666,\"#ed7953\"],[0.7777777777777778,\"#fb9f3a\"],[0.8888888888888888,\"#fdca26\"],[1.0,\"#f0f921\"]],\"sequentialminus\":[[0.0,\"#0d0887\"],[0.1111111111111111,\"#46039f\"],[0.2222222222222222,\"#7201a8\"],[0.3333333333333333,\"#9c179e\"],[0.4444444444444444,\"#bd3786\"],[0.5555555555555556,\"#d8576b\"],[0.6666666666666666,\"#ed7953\"],[0.7777777777777778,\"#fb9f3a\"],[0.8888888888888888,\"#fdca26\"],[1.0,\"#f0f921\"]]},\"colorway\":[\"#636efa\",\"#EF553B\",\"#00cc96\",\"#ab63fa\",\"#FFA15A\",\"#19d3f3\",\"#FF6692\",\"#B6E880\",\"#FF97FF\",\"#FECB52\"],\"font\":{\"color\":\"#2a3f5f\"},\"geo\":{\"bgcolor\":\"white\",\"lakecolor\":\"white\",\"landcolor\":\"white\",\"showlakes\":true,\"showland\":true,\"subunitcolor\":\"#C8D4E3\"},\"hoverlabel\":{\"align\":\"left\"},\"hovermode\":\"closest\",\"mapbox\":{\"style\":\"light\"},\"paper_bgcolor\":\"white\",\"plot_bgcolor\":\"white\",\"polar\":{\"angularaxis\":{\"gridcolor\":\"#EBF0F8\",\"linecolor\":\"#EBF0F8\",\"ticks\":\"\"},\"bgcolor\":\"white\",\"radialaxis\":{\"gridcolor\":\"#EBF0F8\",\"linecolor\":\"#EBF0F8\",\"ticks\":\"\"}},\"scene\":{\"xaxis\":{\"backgroundcolor\":\"white\",\"gridcolor\":\"#DFE8F3\",\"gridwidth\":2,\"linecolor\":\"#EBF0F8\",\"showbackground\":true,\"ticks\":\"\",\"zerolinecolor\":\"#EBF0F8\"},\"yaxis\":{\"backgroundcolor\":\"white\",\"gridcolor\":\"#DFE8F3\",\"gridwidth\":2,\"linecolor\":\"#EBF0F8\",\"showbackground\":true,\"ticks\":\"\",\"zerolinecolor\":\"#EBF0F8\"},\"zaxis\":{\"backgroundcolor\":\"white\",\"gridcolor\":\"#DFE8F3\",\"gridwidth\":2,\"linecolor\":\"#EBF0F8\",\"showbackground\":true,\"ticks\":\"\",\"zerolinecolor\":\"#EBF0F8\"}},\"shapedefaults\":{\"line\":{\"color\":\"#2a3f5f\"}},\"ternary\":{\"aaxis\":{\"gridcolor\":\"#DFE8F3\",\"linecolor\":\"#A2B1C6\",\"ticks\":\"\"},\"baxis\":{\"gridcolor\":\"#DFE8F3\",\"linecolor\":\"#A2B1C6\",\"ticks\":\"\"},\"bgcolor\":\"white\",\"caxis\":{\"gridcolor\":\"#DFE8F3\",\"linecolor\":\"#A2B1C6\",\"ticks\":\"\"}},\"title\":{\"x\":0.05},\"xaxis\":{\"automargin\":true,\"gridcolor\":\"#EBF0F8\",\"linecolor\":\"#EBF0F8\",\"ticks\":\"\",\"title\":{\"standoff\":15},\"zerolinecolor\":\"#EBF0F8\",\"zerolinewidth\":2},\"yaxis\":{\"automargin\":true,\"gridcolor\":\"#EBF0F8\",\"linecolor\":\"#EBF0F8\",\"ticks\":\"\",\"title\":{\"standoff\":15},\"zerolinecolor\":\"#EBF0F8\",\"zerolinewidth\":2}}},\"xaxis\":{\"anchor\":\"y\",\"domain\":[0.0,1.0],\"title\":{\"text\":\"Organization\"}},\"yaxis\":{\"anchor\":\"x\",\"domain\":[0.0,1.0],\"title\":{\"text\":\"Number of Courses\"},\"showgrid\":false},\"legend\":{\"title\":{\"text\":\"Certificate Type\"},\"tracegroupgap\":0},\"title\":{\"text\":\"Certificate Types by Top Organizations\",\"x\":0.4},\"barmode\":\"group\",\"font\":{\"size\":14},\"width\":800,\"height\":600},                        {\"responsive\": true}                    ).then(function(){\n",
       "                            \n",
       "var gd = document.getElementById('c78f66d5-3169-48a5-a41e-9745a99fa5f1');\n",
       "var x = new MutationObserver(function (mutations, observer) {{\n",
       "        var display = window.getComputedStyle(gd).display;\n",
       "        if (!display || display === 'none') {{\n",
       "            console.log([gd, 'removed!']);\n",
       "            Plotly.purge(gd);\n",
       "            observer.disconnect();\n",
       "        }}\n",
       "}});\n",
       "\n",
       "// Listen for the removal of the full notebook cells\n",
       "var notebookContainer = gd.closest('#notebook-container');\n",
       "if (notebookContainer) {{\n",
       "    x.observe(notebookContainer, {childList: true});\n",
       "}}\n",
       "\n",
       "// Listen for the clearing of the current output cell\n",
       "var outputEl = gd.closest('.output');\n",
       "if (outputEl) {{\n",
       "    x.observe(outputEl, {childList: true});\n",
       "}}\n",
       "\n",
       "                        })                };                });            </script>        </div>"
      ]
     },
     "metadata": {},
     "output_type": "display_data"
    }
   ],
   "source": [
    "#Count certification types provided by top organizations by student enrollment\n",
    "n_certifications_by_top_orgs = coursera_df[coursera_df[\"course_organization\"]\\\n",
    "                                           .isin(top_organizations)]\\\n",
    "                                            .groupby([\"course_organization\", \"course_Certificate_type\"])\\\n",
    "                                                .size()\\\n",
    "                                                    .reset_index(name=\"n\")\n",
    "\n",
    "discrete_colors_certification = {\"COURSE\":\"rgb(136,204,238)\",\n",
    "                   \"SPECIALIZATION\":\"rgb(169,169,169)\",\n",
    "                   \"ROFESSIONAL CERTIFICATE\":\"rgb(144,103,167)\"}\n",
    "\n",
    "#Plot a bar chart displaying number of certificate types provided by top organizations by student enrollment\n",
    "fig_9=px.bar(n_certifications_by_top_orgs,\n",
    "             x=\"course_organization\",\n",
    "             y=\"n\",\n",
    "             color=\"course_Certificate_type\", \n",
    "             barmode=\"group\",\n",
    "             title=\"Certificate Types by Top Organizations\",\n",
    "             labels={\"n\":\"Number of Courses\", \"course_organization\" : \"Organization\", \"course_Certificate_type\":\"Certificate Type\"},\n",
    "             text=\"n\",\n",
    "             template=\"plotly_white\",\n",
    "             color_discrete_map=discrete_colors_certification)\n",
    "\n",
    "fig_9.update_traces(textposition='outside')\n",
    "\n",
    "fig_9.update_layout(font=dict(size=14),\n",
    "                  title=dict(x=0.4),\n",
    "                  width=800,\n",
    "                  height=600,\n",
    "                  yaxis=dict(showgrid=False))\n",
    "\n",
    "fig_9.show()"
   ]
  },
  {
   "cell_type": "markdown",
   "metadata": {},
   "source": [
    "> 4.15. Which organizations offer the highest-rated courses?"
   ]
  },
  {
   "cell_type": "code",
   "execution_count": 77,
   "metadata": {},
   "outputs": [
    {
     "data": {
      "text/html": [
       "<div>\n",
       "<style scoped>\n",
       "    .dataframe tbody tr th:only-of-type {\n",
       "        vertical-align: middle;\n",
       "    }\n",
       "\n",
       "    .dataframe tbody tr th {\n",
       "        vertical-align: top;\n",
       "    }\n",
       "\n",
       "    .dataframe thead th {\n",
       "        text-align: right;\n",
       "    }\n",
       "</style>\n",
       "<table border=\"1\" class=\"dataframe\">\n",
       "  <thead>\n",
       "    <tr style=\"text-align: right;\">\n",
       "      <th></th>\n",
       "      <th>Top Organizations by Rating</th>\n",
       "      <th>Mean Rating</th>\n",
       "    </tr>\n",
       "  </thead>\n",
       "  <tbody>\n",
       "    <tr>\n",
       "      <th>0</th>\n",
       "      <td>(ISC)²</td>\n",
       "      <td>4.733333</td>\n",
       "    </tr>\n",
       "    <tr>\n",
       "      <th>1</th>\n",
       "      <td>Amazon Web Services</td>\n",
       "      <td>4.550000</td>\n",
       "    </tr>\n",
       "    <tr>\n",
       "      <th>3</th>\n",
       "      <td>American Museum of Natural History</td>\n",
       "      <td>4.750000</td>\n",
       "    </tr>\n",
       "    <tr>\n",
       "      <th>4</th>\n",
       "      <td>Arizona State University</td>\n",
       "      <td>4.771429</td>\n",
       "    </tr>\n",
       "    <tr>\n",
       "      <th>5</th>\n",
       "      <td>Atlassian</td>\n",
       "      <td>4.750000</td>\n",
       "    </tr>\n",
       "    <tr>\n",
       "      <th>...</th>\n",
       "      <td>...</td>\n",
       "      <td>...</td>\n",
       "    </tr>\n",
       "    <tr>\n",
       "      <th>149</th>\n",
       "      <td>Yonsei University</td>\n",
       "      <td>4.750000</td>\n",
       "    </tr>\n",
       "    <tr>\n",
       "      <th>150</th>\n",
       "      <td>deeplearning.ai</td>\n",
       "      <td>4.743750</td>\n",
       "    </tr>\n",
       "    <tr>\n",
       "      <th>151</th>\n",
       "      <td>École Polytechnique</td>\n",
       "      <td>4.800000</td>\n",
       "    </tr>\n",
       "    <tr>\n",
       "      <th>152</th>\n",
       "      <td>École Polytechnique Fédérale de Lausanne</td>\n",
       "      <td>4.725000</td>\n",
       "    </tr>\n",
       "    <tr>\n",
       "      <th>153</th>\n",
       "      <td>École des Ponts ParisTech</td>\n",
       "      <td>4.700000</td>\n",
       "    </tr>\n",
       "  </tbody>\n",
       "</table>\n",
       "<p>139 rows × 2 columns</p>\n",
       "</div>"
      ],
      "text/plain": [
       "                  Top Organizations by Rating  Mean Rating\n",
       "0                                      (ISC)²     4.733333\n",
       "1                         Amazon Web Services     4.550000\n",
       "3          American Museum of Natural History     4.750000\n",
       "4                    Arizona State University     4.771429\n",
       "5                                   Atlassian     4.750000\n",
       "..                                        ...          ...\n",
       "149                         Yonsei University     4.750000\n",
       "150                           deeplearning.ai     4.743750\n",
       "151                       École Polytechnique     4.800000\n",
       "152  École Polytechnique Fédérale de Lausanne     4.725000\n",
       "153                 École des Ponts ParisTech     4.700000\n",
       "\n",
       "[139 rows x 2 columns]"
      ]
     },
     "execution_count": 77,
     "metadata": {},
     "output_type": "execute_result"
    }
   ],
   "source": [
    "\n",
    "#Calculate mean rating for organizations by mean rating\n",
    "mean_rating_by_organization = coursera_df.groupby(\"course_organization\")[\"course_rating\"].mean().reset_index(name=\"average_rating\")\n",
    "\n",
    "orgs_w_highest_rating_courses = mean_rating_by_organization.query(\"4.5 < average_rating <= 5\")\n",
    "orgs_w_highest_rating_courses = orgs_w_highest_rating_courses.rename(columns={\"course_organization\":\"Top Organizations by Rating\",\\\n",
    "                                               \"average_rating\":\"Mean Rating\"})\n",
    "orgs_w_highest_rating_courses\n"
   ]
  },
  {
   "cell_type": "markdown",
   "metadata": {},
   "source": [
    "> 4.16. How does average rating compare between top organizations by student enrollment and top organizations by rating?"
   ]
  },
  {
   "cell_type": "code",
   "execution_count": 79,
   "metadata": {},
   "outputs": [
    {
     "data": {
      "text/html": [
       "<div>\n",
       "<style scoped>\n",
       "    .dataframe tbody tr th:only-of-type {\n",
       "        vertical-align: middle;\n",
       "    }\n",
       "\n",
       "    .dataframe tbody tr th {\n",
       "        vertical-align: top;\n",
       "    }\n",
       "\n",
       "    .dataframe thead th {\n",
       "        text-align: right;\n",
       "    }\n",
       "</style>\n",
       "<table border=\"1\" class=\"dataframe\">\n",
       "  <thead>\n",
       "    <tr style=\"text-align: right;\">\n",
       "      <th></th>\n",
       "      <th>Top Organizations by Mean Rating</th>\n",
       "      <th>Mean Rating</th>\n",
       "      <th>Number of Courses</th>\n",
       "    </tr>\n",
       "  </thead>\n",
       "  <tbody>\n",
       "    <tr>\n",
       "      <th>0</th>\n",
       "      <td>Crece con Google</td>\n",
       "      <td>4.9</td>\n",
       "      <td>1</td>\n",
       "    </tr>\n",
       "    <tr>\n",
       "      <th>1</th>\n",
       "      <td>Google - Spectrum Sharing</td>\n",
       "      <td>4.9</td>\n",
       "      <td>1</td>\n",
       "    </tr>\n",
       "    <tr>\n",
       "      <th>2</th>\n",
       "      <td>Hebrew University of Jerusalem</td>\n",
       "      <td>4.9</td>\n",
       "      <td>1</td>\n",
       "    </tr>\n",
       "    <tr>\n",
       "      <th>3</th>\n",
       "      <td>London Business School</td>\n",
       "      <td>4.9</td>\n",
       "      <td>1</td>\n",
       "    </tr>\n",
       "    <tr>\n",
       "      <th>4</th>\n",
       "      <td>Nanyang Technological University, Singapore</td>\n",
       "      <td>4.9</td>\n",
       "      <td>1</td>\n",
       "    </tr>\n",
       "    <tr>\n",
       "      <th>5</th>\n",
       "      <td>ScrumTrek</td>\n",
       "      <td>4.9</td>\n",
       "      <td>1</td>\n",
       "    </tr>\n",
       "    <tr>\n",
       "      <th>6</th>\n",
       "      <td>Universidade Estadual de Campinas</td>\n",
       "      <td>4.9</td>\n",
       "      <td>1</td>\n",
       "    </tr>\n",
       "  </tbody>\n",
       "</table>\n",
       "</div>"
      ],
      "text/plain": [
       "              Top Organizations by Mean Rating  Mean Rating  Number of Courses\n",
       "0                             Crece con Google          4.9                  1\n",
       "1                    Google - Spectrum Sharing          4.9                  1\n",
       "2               Hebrew University of Jerusalem          4.9                  1\n",
       "3                       London Business School          4.9                  1\n",
       "4  Nanyang Technological University, Singapore          4.9                  1\n",
       "5                                    ScrumTrek          4.9                  1\n",
       "6            Universidade Estadual de Campinas          4.9                  1"
      ]
     },
     "execution_count": 79,
     "metadata": {},
     "output_type": "execute_result"
    }
   ],
   "source": [
    "#Define top organizations by mean rating\n",
    "top_orgs_by_rating = mean_rating_by_organization.sort_values(by=\"average_rating\", ascending=False).head(7)\n",
    "\n",
    "#Count how many courses each TOP organization provide\n",
    "top_organizations_by_rating_course_counts = coursera_df[coursera_df[\"course_organization\"].isin(top_orgs_by_rating[\"course_organization\"])] \\\n",
    "    .groupby(\"course_organization\")[\"course_title\"].count().reset_index(name=\"course_count\")\n",
    "\n",
    "top_orgs_by_rating = pd.merge(top_organizations_by_rating_course_counts, top_orgs_by_rating, on=\"course_organization\")\n",
    "top_orgs_by_rating = top_orgs_by_rating.rename(columns={\"course_organization\":\"Top Organizations by Mean Rating\",\\\n",
    "                                               \"average_rating\":\"Mean Rating\", \"course_count\":\"Number of Courses\"})\n",
    "\n",
    "\n",
    "\n",
    "top_orgs_by_rating[[\"Top Organizations by Mean Rating\", \"Mean Rating\", \"Number of Courses\"]]"
   ]
  },
  {
   "cell_type": "code",
   "execution_count": 81,
   "metadata": {},
   "outputs": [
    {
     "data": {
      "application/vnd.plotly.v1+json": {
       "config": {
        "plotlyServerURL": "https://plot.ly"
       },
       "data": [
        {
         "alignmentgroup": "True",
         "hovertemplate": "<b>%{hovertext}</b><br><br>Organization=%{x}<br>Average Rating=%{text}<extra></extra>",
         "hovertext": [
          "Yale University",
          "Stanford University",
          "deeplearning.ai",
          "University of Michigan",
          "University of Pennsylvania",
          "Johns Hopkins University",
          "University of California, Irvine"
         ],
         "legendgroup": "",
         "marker": {
          "color": "rgb(136,204,238)",
          "pattern": {
           "shape": ""
          }
         },
         "name": "",
         "offsetgroup": "",
         "orientation": "v",
         "showlegend": false,
         "text": [
          4.81764705882353,
          4.76875,
          4.74375,
          4.729268292682927,
          4.696610169491525,
          4.660714285714286,
          4.596296296296296
         ],
         "textposition": "outside",
         "texttemplate": "%{text:.2f}",
         "type": "bar",
         "x": [
          "Yale University",
          "Stanford University",
          "deeplearning.ai",
          "University of Michigan",
          "University of Pennsylvania",
          "Johns Hopkins University",
          "University of California, Irvine"
         ],
         "xaxis": "x",
         "y": [
          4.81764705882353,
          4.76875,
          4.74375,
          4.729268292682927,
          4.696610169491525,
          4.660714285714286,
          4.596296296296296
         ],
         "yaxis": "y"
        }
       ],
       "layout": {
        "barmode": "relative",
        "font": {
         "size": 14
        },
        "height": 550,
        "legend": {
         "tracegroupgap": 0
        },
        "template": {
         "data": {
          "bar": [
           {
            "error_x": {
             "color": "#2a3f5f"
            },
            "error_y": {
             "color": "#2a3f5f"
            },
            "marker": {
             "line": {
              "color": "white",
              "width": 0.5
             },
             "pattern": {
              "fillmode": "overlay",
              "size": 10,
              "solidity": 0.2
             }
            },
            "type": "bar"
           }
          ],
          "barpolar": [
           {
            "marker": {
             "line": {
              "color": "white",
              "width": 0.5
             },
             "pattern": {
              "fillmode": "overlay",
              "size": 10,
              "solidity": 0.2
             }
            },
            "type": "barpolar"
           }
          ],
          "carpet": [
           {
            "aaxis": {
             "endlinecolor": "#2a3f5f",
             "gridcolor": "#C8D4E3",
             "linecolor": "#C8D4E3",
             "minorgridcolor": "#C8D4E3",
             "startlinecolor": "#2a3f5f"
            },
            "baxis": {
             "endlinecolor": "#2a3f5f",
             "gridcolor": "#C8D4E3",
             "linecolor": "#C8D4E3",
             "minorgridcolor": "#C8D4E3",
             "startlinecolor": "#2a3f5f"
            },
            "type": "carpet"
           }
          ],
          "choropleth": [
           {
            "colorbar": {
             "outlinewidth": 0,
             "ticks": ""
            },
            "type": "choropleth"
           }
          ],
          "contour": [
           {
            "colorbar": {
             "outlinewidth": 0,
             "ticks": ""
            },
            "colorscale": [
             [
              0,
              "#0d0887"
             ],
             [
              0.1111111111111111,
              "#46039f"
             ],
             [
              0.2222222222222222,
              "#7201a8"
             ],
             [
              0.3333333333333333,
              "#9c179e"
             ],
             [
              0.4444444444444444,
              "#bd3786"
             ],
             [
              0.5555555555555556,
              "#d8576b"
             ],
             [
              0.6666666666666666,
              "#ed7953"
             ],
             [
              0.7777777777777778,
              "#fb9f3a"
             ],
             [
              0.8888888888888888,
              "#fdca26"
             ],
             [
              1,
              "#f0f921"
             ]
            ],
            "type": "contour"
           }
          ],
          "contourcarpet": [
           {
            "colorbar": {
             "outlinewidth": 0,
             "ticks": ""
            },
            "type": "contourcarpet"
           }
          ],
          "heatmap": [
           {
            "colorbar": {
             "outlinewidth": 0,
             "ticks": ""
            },
            "colorscale": [
             [
              0,
              "#0d0887"
             ],
             [
              0.1111111111111111,
              "#46039f"
             ],
             [
              0.2222222222222222,
              "#7201a8"
             ],
             [
              0.3333333333333333,
              "#9c179e"
             ],
             [
              0.4444444444444444,
              "#bd3786"
             ],
             [
              0.5555555555555556,
              "#d8576b"
             ],
             [
              0.6666666666666666,
              "#ed7953"
             ],
             [
              0.7777777777777778,
              "#fb9f3a"
             ],
             [
              0.8888888888888888,
              "#fdca26"
             ],
             [
              1,
              "#f0f921"
             ]
            ],
            "type": "heatmap"
           }
          ],
          "heatmapgl": [
           {
            "colorbar": {
             "outlinewidth": 0,
             "ticks": ""
            },
            "colorscale": [
             [
              0,
              "#0d0887"
             ],
             [
              0.1111111111111111,
              "#46039f"
             ],
             [
              0.2222222222222222,
              "#7201a8"
             ],
             [
              0.3333333333333333,
              "#9c179e"
             ],
             [
              0.4444444444444444,
              "#bd3786"
             ],
             [
              0.5555555555555556,
              "#d8576b"
             ],
             [
              0.6666666666666666,
              "#ed7953"
             ],
             [
              0.7777777777777778,
              "#fb9f3a"
             ],
             [
              0.8888888888888888,
              "#fdca26"
             ],
             [
              1,
              "#f0f921"
             ]
            ],
            "type": "heatmapgl"
           }
          ],
          "histogram": [
           {
            "marker": {
             "pattern": {
              "fillmode": "overlay",
              "size": 10,
              "solidity": 0.2
             }
            },
            "type": "histogram"
           }
          ],
          "histogram2d": [
           {
            "colorbar": {
             "outlinewidth": 0,
             "ticks": ""
            },
            "colorscale": [
             [
              0,
              "#0d0887"
             ],
             [
              0.1111111111111111,
              "#46039f"
             ],
             [
              0.2222222222222222,
              "#7201a8"
             ],
             [
              0.3333333333333333,
              "#9c179e"
             ],
             [
              0.4444444444444444,
              "#bd3786"
             ],
             [
              0.5555555555555556,
              "#d8576b"
             ],
             [
              0.6666666666666666,
              "#ed7953"
             ],
             [
              0.7777777777777778,
              "#fb9f3a"
             ],
             [
              0.8888888888888888,
              "#fdca26"
             ],
             [
              1,
              "#f0f921"
             ]
            ],
            "type": "histogram2d"
           }
          ],
          "histogram2dcontour": [
           {
            "colorbar": {
             "outlinewidth": 0,
             "ticks": ""
            },
            "colorscale": [
             [
              0,
              "#0d0887"
             ],
             [
              0.1111111111111111,
              "#46039f"
             ],
             [
              0.2222222222222222,
              "#7201a8"
             ],
             [
              0.3333333333333333,
              "#9c179e"
             ],
             [
              0.4444444444444444,
              "#bd3786"
             ],
             [
              0.5555555555555556,
              "#d8576b"
             ],
             [
              0.6666666666666666,
              "#ed7953"
             ],
             [
              0.7777777777777778,
              "#fb9f3a"
             ],
             [
              0.8888888888888888,
              "#fdca26"
             ],
             [
              1,
              "#f0f921"
             ]
            ],
            "type": "histogram2dcontour"
           }
          ],
          "mesh3d": [
           {
            "colorbar": {
             "outlinewidth": 0,
             "ticks": ""
            },
            "type": "mesh3d"
           }
          ],
          "parcoords": [
           {
            "line": {
             "colorbar": {
              "outlinewidth": 0,
              "ticks": ""
             }
            },
            "type": "parcoords"
           }
          ],
          "pie": [
           {
            "automargin": true,
            "type": "pie"
           }
          ],
          "scatter": [
           {
            "fillpattern": {
             "fillmode": "overlay",
             "size": 10,
             "solidity": 0.2
            },
            "type": "scatter"
           }
          ],
          "scatter3d": [
           {
            "line": {
             "colorbar": {
              "outlinewidth": 0,
              "ticks": ""
             }
            },
            "marker": {
             "colorbar": {
              "outlinewidth": 0,
              "ticks": ""
             }
            },
            "type": "scatter3d"
           }
          ],
          "scattercarpet": [
           {
            "marker": {
             "colorbar": {
              "outlinewidth": 0,
              "ticks": ""
             }
            },
            "type": "scattercarpet"
           }
          ],
          "scattergeo": [
           {
            "marker": {
             "colorbar": {
              "outlinewidth": 0,
              "ticks": ""
             }
            },
            "type": "scattergeo"
           }
          ],
          "scattergl": [
           {
            "marker": {
             "colorbar": {
              "outlinewidth": 0,
              "ticks": ""
             }
            },
            "type": "scattergl"
           }
          ],
          "scattermapbox": [
           {
            "marker": {
             "colorbar": {
              "outlinewidth": 0,
              "ticks": ""
             }
            },
            "type": "scattermapbox"
           }
          ],
          "scatterpolar": [
           {
            "marker": {
             "colorbar": {
              "outlinewidth": 0,
              "ticks": ""
             }
            },
            "type": "scatterpolar"
           }
          ],
          "scatterpolargl": [
           {
            "marker": {
             "colorbar": {
              "outlinewidth": 0,
              "ticks": ""
             }
            },
            "type": "scatterpolargl"
           }
          ],
          "scatterternary": [
           {
            "marker": {
             "colorbar": {
              "outlinewidth": 0,
              "ticks": ""
             }
            },
            "type": "scatterternary"
           }
          ],
          "surface": [
           {
            "colorbar": {
             "outlinewidth": 0,
             "ticks": ""
            },
            "colorscale": [
             [
              0,
              "#0d0887"
             ],
             [
              0.1111111111111111,
              "#46039f"
             ],
             [
              0.2222222222222222,
              "#7201a8"
             ],
             [
              0.3333333333333333,
              "#9c179e"
             ],
             [
              0.4444444444444444,
              "#bd3786"
             ],
             [
              0.5555555555555556,
              "#d8576b"
             ],
             [
              0.6666666666666666,
              "#ed7953"
             ],
             [
              0.7777777777777778,
              "#fb9f3a"
             ],
             [
              0.8888888888888888,
              "#fdca26"
             ],
             [
              1,
              "#f0f921"
             ]
            ],
            "type": "surface"
           }
          ],
          "table": [
           {
            "cells": {
             "fill": {
              "color": "#EBF0F8"
             },
             "line": {
              "color": "white"
             }
            },
            "header": {
             "fill": {
              "color": "#C8D4E3"
             },
             "line": {
              "color": "white"
             }
            },
            "type": "table"
           }
          ]
         },
         "layout": {
          "annotationdefaults": {
           "arrowcolor": "#2a3f5f",
           "arrowhead": 0,
           "arrowwidth": 1
          },
          "autotypenumbers": "strict",
          "coloraxis": {
           "colorbar": {
            "outlinewidth": 0,
            "ticks": ""
           }
          },
          "colorscale": {
           "diverging": [
            [
             0,
             "#8e0152"
            ],
            [
             0.1,
             "#c51b7d"
            ],
            [
             0.2,
             "#de77ae"
            ],
            [
             0.3,
             "#f1b6da"
            ],
            [
             0.4,
             "#fde0ef"
            ],
            [
             0.5,
             "#f7f7f7"
            ],
            [
             0.6,
             "#e6f5d0"
            ],
            [
             0.7,
             "#b8e186"
            ],
            [
             0.8,
             "#7fbc41"
            ],
            [
             0.9,
             "#4d9221"
            ],
            [
             1,
             "#276419"
            ]
           ],
           "sequential": [
            [
             0,
             "#0d0887"
            ],
            [
             0.1111111111111111,
             "#46039f"
            ],
            [
             0.2222222222222222,
             "#7201a8"
            ],
            [
             0.3333333333333333,
             "#9c179e"
            ],
            [
             0.4444444444444444,
             "#bd3786"
            ],
            [
             0.5555555555555556,
             "#d8576b"
            ],
            [
             0.6666666666666666,
             "#ed7953"
            ],
            [
             0.7777777777777778,
             "#fb9f3a"
            ],
            [
             0.8888888888888888,
             "#fdca26"
            ],
            [
             1,
             "#f0f921"
            ]
           ],
           "sequentialminus": [
            [
             0,
             "#0d0887"
            ],
            [
             0.1111111111111111,
             "#46039f"
            ],
            [
             0.2222222222222222,
             "#7201a8"
            ],
            [
             0.3333333333333333,
             "#9c179e"
            ],
            [
             0.4444444444444444,
             "#bd3786"
            ],
            [
             0.5555555555555556,
             "#d8576b"
            ],
            [
             0.6666666666666666,
             "#ed7953"
            ],
            [
             0.7777777777777778,
             "#fb9f3a"
            ],
            [
             0.8888888888888888,
             "#fdca26"
            ],
            [
             1,
             "#f0f921"
            ]
           ]
          },
          "colorway": [
           "#636efa",
           "#EF553B",
           "#00cc96",
           "#ab63fa",
           "#FFA15A",
           "#19d3f3",
           "#FF6692",
           "#B6E880",
           "#FF97FF",
           "#FECB52"
          ],
          "font": {
           "color": "#2a3f5f"
          },
          "geo": {
           "bgcolor": "white",
           "lakecolor": "white",
           "landcolor": "white",
           "showlakes": true,
           "showland": true,
           "subunitcolor": "#C8D4E3"
          },
          "hoverlabel": {
           "align": "left"
          },
          "hovermode": "closest",
          "mapbox": {
           "style": "light"
          },
          "paper_bgcolor": "white",
          "plot_bgcolor": "white",
          "polar": {
           "angularaxis": {
            "gridcolor": "#EBF0F8",
            "linecolor": "#EBF0F8",
            "ticks": ""
           },
           "bgcolor": "white",
           "radialaxis": {
            "gridcolor": "#EBF0F8",
            "linecolor": "#EBF0F8",
            "ticks": ""
           }
          },
          "scene": {
           "xaxis": {
            "backgroundcolor": "white",
            "gridcolor": "#DFE8F3",
            "gridwidth": 2,
            "linecolor": "#EBF0F8",
            "showbackground": true,
            "ticks": "",
            "zerolinecolor": "#EBF0F8"
           },
           "yaxis": {
            "backgroundcolor": "white",
            "gridcolor": "#DFE8F3",
            "gridwidth": 2,
            "linecolor": "#EBF0F8",
            "showbackground": true,
            "ticks": "",
            "zerolinecolor": "#EBF0F8"
           },
           "zaxis": {
            "backgroundcolor": "white",
            "gridcolor": "#DFE8F3",
            "gridwidth": 2,
            "linecolor": "#EBF0F8",
            "showbackground": true,
            "ticks": "",
            "zerolinecolor": "#EBF0F8"
           }
          },
          "shapedefaults": {
           "line": {
            "color": "#2a3f5f"
           }
          },
          "ternary": {
           "aaxis": {
            "gridcolor": "#DFE8F3",
            "linecolor": "#A2B1C6",
            "ticks": ""
           },
           "baxis": {
            "gridcolor": "#DFE8F3",
            "linecolor": "#A2B1C6",
            "ticks": ""
           },
           "bgcolor": "white",
           "caxis": {
            "gridcolor": "#DFE8F3",
            "linecolor": "#A2B1C6",
            "ticks": ""
           }
          },
          "title": {
           "x": 0.05
          },
          "xaxis": {
           "automargin": true,
           "gridcolor": "#EBF0F8",
           "linecolor": "#EBF0F8",
           "ticks": "",
           "title": {
            "standoff": 15
           },
           "zerolinecolor": "#EBF0F8",
           "zerolinewidth": 2
          },
          "yaxis": {
           "automargin": true,
           "gridcolor": "#EBF0F8",
           "linecolor": "#EBF0F8",
           "ticks": "",
           "title": {
            "standoff": 15
           },
           "zerolinecolor": "#EBF0F8",
           "zerolinewidth": 2
          }
         }
        },
        "title": {
         "text": "Average Rating by Top Organizations by Student Enrollment",
         "x": 0.45
        },
        "width": 800,
        "xaxis": {
         "anchor": "y",
         "domain": [
          0,
          1
         ],
         "title": {
          "text": "Organization"
         }
        },
        "yaxis": {
         "anchor": "x",
         "domain": [
          0,
          1
         ],
         "dtick": 0.1,
         "range": [
          4,
          5
         ],
         "showgrid": false,
         "showticklabels": false,
         "title": {}
        }
       }
      },
      "text/html": [
       "<div>                            <div id=\"22b592df-68d3-4f8f-b078-956342095724\" class=\"plotly-graph-div\" style=\"height:550px; width:800px;\"></div>            <script type=\"text/javascript\">                require([\"plotly\"], function(Plotly) {                    window.PLOTLYENV=window.PLOTLYENV || {};                                    if (document.getElementById(\"22b592df-68d3-4f8f-b078-956342095724\")) {                    Plotly.newPlot(                        \"22b592df-68d3-4f8f-b078-956342095724\",                        [{\"alignmentgroup\":\"True\",\"hovertemplate\":\"\\u003cb\\u003e%{hovertext}\\u003c\\u002fb\\u003e\\u003cbr\\u003e\\u003cbr\\u003eOrganization=%{x}\\u003cbr\\u003eAverage Rating=%{text}\\u003cextra\\u003e\\u003c\\u002fextra\\u003e\",\"hovertext\":[\"Yale University\",\"Stanford University\",\"deeplearning.ai\",\"University of Michigan\",\"University of Pennsylvania\",\"Johns Hopkins University\",\"University of California, Irvine\"],\"legendgroup\":\"\",\"marker\":{\"color\":\"rgb(136,204,238)\",\"pattern\":{\"shape\":\"\"}},\"name\":\"\",\"offsetgroup\":\"\",\"orientation\":\"v\",\"showlegend\":false,\"text\":[4.81764705882353,4.76875,4.74375,4.729268292682927,4.696610169491525,4.660714285714286,4.596296296296296],\"textposition\":\"outside\",\"x\":[\"Yale University\",\"Stanford University\",\"deeplearning.ai\",\"University of Michigan\",\"University of Pennsylvania\",\"Johns Hopkins University\",\"University of California, Irvine\"],\"xaxis\":\"x\",\"y\":[4.81764705882353,4.76875,4.74375,4.729268292682927,4.696610169491525,4.660714285714286,4.596296296296296],\"yaxis\":\"y\",\"type\":\"bar\",\"texttemplate\":\"%{text:.2f}\"}],                        {\"template\":{\"data\":{\"barpolar\":[{\"marker\":{\"line\":{\"color\":\"white\",\"width\":0.5},\"pattern\":{\"fillmode\":\"overlay\",\"size\":10,\"solidity\":0.2}},\"type\":\"barpolar\"}],\"bar\":[{\"error_x\":{\"color\":\"#2a3f5f\"},\"error_y\":{\"color\":\"#2a3f5f\"},\"marker\":{\"line\":{\"color\":\"white\",\"width\":0.5},\"pattern\":{\"fillmode\":\"overlay\",\"size\":10,\"solidity\":0.2}},\"type\":\"bar\"}],\"carpet\":[{\"aaxis\":{\"endlinecolor\":\"#2a3f5f\",\"gridcolor\":\"#C8D4E3\",\"linecolor\":\"#C8D4E3\",\"minorgridcolor\":\"#C8D4E3\",\"startlinecolor\":\"#2a3f5f\"},\"baxis\":{\"endlinecolor\":\"#2a3f5f\",\"gridcolor\":\"#C8D4E3\",\"linecolor\":\"#C8D4E3\",\"minorgridcolor\":\"#C8D4E3\",\"startlinecolor\":\"#2a3f5f\"},\"type\":\"carpet\"}],\"choropleth\":[{\"colorbar\":{\"outlinewidth\":0,\"ticks\":\"\"},\"type\":\"choropleth\"}],\"contourcarpet\":[{\"colorbar\":{\"outlinewidth\":0,\"ticks\":\"\"},\"type\":\"contourcarpet\"}],\"contour\":[{\"colorbar\":{\"outlinewidth\":0,\"ticks\":\"\"},\"colorscale\":[[0.0,\"#0d0887\"],[0.1111111111111111,\"#46039f\"],[0.2222222222222222,\"#7201a8\"],[0.3333333333333333,\"#9c179e\"],[0.4444444444444444,\"#bd3786\"],[0.5555555555555556,\"#d8576b\"],[0.6666666666666666,\"#ed7953\"],[0.7777777777777778,\"#fb9f3a\"],[0.8888888888888888,\"#fdca26\"],[1.0,\"#f0f921\"]],\"type\":\"contour\"}],\"heatmapgl\":[{\"colorbar\":{\"outlinewidth\":0,\"ticks\":\"\"},\"colorscale\":[[0.0,\"#0d0887\"],[0.1111111111111111,\"#46039f\"],[0.2222222222222222,\"#7201a8\"],[0.3333333333333333,\"#9c179e\"],[0.4444444444444444,\"#bd3786\"],[0.5555555555555556,\"#d8576b\"],[0.6666666666666666,\"#ed7953\"],[0.7777777777777778,\"#fb9f3a\"],[0.8888888888888888,\"#fdca26\"],[1.0,\"#f0f921\"]],\"type\":\"heatmapgl\"}],\"heatmap\":[{\"colorbar\":{\"outlinewidth\":0,\"ticks\":\"\"},\"colorscale\":[[0.0,\"#0d0887\"],[0.1111111111111111,\"#46039f\"],[0.2222222222222222,\"#7201a8\"],[0.3333333333333333,\"#9c179e\"],[0.4444444444444444,\"#bd3786\"],[0.5555555555555556,\"#d8576b\"],[0.6666666666666666,\"#ed7953\"],[0.7777777777777778,\"#fb9f3a\"],[0.8888888888888888,\"#fdca26\"],[1.0,\"#f0f921\"]],\"type\":\"heatmap\"}],\"histogram2dcontour\":[{\"colorbar\":{\"outlinewidth\":0,\"ticks\":\"\"},\"colorscale\":[[0.0,\"#0d0887\"],[0.1111111111111111,\"#46039f\"],[0.2222222222222222,\"#7201a8\"],[0.3333333333333333,\"#9c179e\"],[0.4444444444444444,\"#bd3786\"],[0.5555555555555556,\"#d8576b\"],[0.6666666666666666,\"#ed7953\"],[0.7777777777777778,\"#fb9f3a\"],[0.8888888888888888,\"#fdca26\"],[1.0,\"#f0f921\"]],\"type\":\"histogram2dcontour\"}],\"histogram2d\":[{\"colorbar\":{\"outlinewidth\":0,\"ticks\":\"\"},\"colorscale\":[[0.0,\"#0d0887\"],[0.1111111111111111,\"#46039f\"],[0.2222222222222222,\"#7201a8\"],[0.3333333333333333,\"#9c179e\"],[0.4444444444444444,\"#bd3786\"],[0.5555555555555556,\"#d8576b\"],[0.6666666666666666,\"#ed7953\"],[0.7777777777777778,\"#fb9f3a\"],[0.8888888888888888,\"#fdca26\"],[1.0,\"#f0f921\"]],\"type\":\"histogram2d\"}],\"histogram\":[{\"marker\":{\"pattern\":{\"fillmode\":\"overlay\",\"size\":10,\"solidity\":0.2}},\"type\":\"histogram\"}],\"mesh3d\":[{\"colorbar\":{\"outlinewidth\":0,\"ticks\":\"\"},\"type\":\"mesh3d\"}],\"parcoords\":[{\"line\":{\"colorbar\":{\"outlinewidth\":0,\"ticks\":\"\"}},\"type\":\"parcoords\"}],\"pie\":[{\"automargin\":true,\"type\":\"pie\"}],\"scatter3d\":[{\"line\":{\"colorbar\":{\"outlinewidth\":0,\"ticks\":\"\"}},\"marker\":{\"colorbar\":{\"outlinewidth\":0,\"ticks\":\"\"}},\"type\":\"scatter3d\"}],\"scattercarpet\":[{\"marker\":{\"colorbar\":{\"outlinewidth\":0,\"ticks\":\"\"}},\"type\":\"scattercarpet\"}],\"scattergeo\":[{\"marker\":{\"colorbar\":{\"outlinewidth\":0,\"ticks\":\"\"}},\"type\":\"scattergeo\"}],\"scattergl\":[{\"marker\":{\"colorbar\":{\"outlinewidth\":0,\"ticks\":\"\"}},\"type\":\"scattergl\"}],\"scattermapbox\":[{\"marker\":{\"colorbar\":{\"outlinewidth\":0,\"ticks\":\"\"}},\"type\":\"scattermapbox\"}],\"scatterpolargl\":[{\"marker\":{\"colorbar\":{\"outlinewidth\":0,\"ticks\":\"\"}},\"type\":\"scatterpolargl\"}],\"scatterpolar\":[{\"marker\":{\"colorbar\":{\"outlinewidth\":0,\"ticks\":\"\"}},\"type\":\"scatterpolar\"}],\"scatter\":[{\"fillpattern\":{\"fillmode\":\"overlay\",\"size\":10,\"solidity\":0.2},\"type\":\"scatter\"}],\"scatterternary\":[{\"marker\":{\"colorbar\":{\"outlinewidth\":0,\"ticks\":\"\"}},\"type\":\"scatterternary\"}],\"surface\":[{\"colorbar\":{\"outlinewidth\":0,\"ticks\":\"\"},\"colorscale\":[[0.0,\"#0d0887\"],[0.1111111111111111,\"#46039f\"],[0.2222222222222222,\"#7201a8\"],[0.3333333333333333,\"#9c179e\"],[0.4444444444444444,\"#bd3786\"],[0.5555555555555556,\"#d8576b\"],[0.6666666666666666,\"#ed7953\"],[0.7777777777777778,\"#fb9f3a\"],[0.8888888888888888,\"#fdca26\"],[1.0,\"#f0f921\"]],\"type\":\"surface\"}],\"table\":[{\"cells\":{\"fill\":{\"color\":\"#EBF0F8\"},\"line\":{\"color\":\"white\"}},\"header\":{\"fill\":{\"color\":\"#C8D4E3\"},\"line\":{\"color\":\"white\"}},\"type\":\"table\"}]},\"layout\":{\"annotationdefaults\":{\"arrowcolor\":\"#2a3f5f\",\"arrowhead\":0,\"arrowwidth\":1},\"autotypenumbers\":\"strict\",\"coloraxis\":{\"colorbar\":{\"outlinewidth\":0,\"ticks\":\"\"}},\"colorscale\":{\"diverging\":[[0,\"#8e0152\"],[0.1,\"#c51b7d\"],[0.2,\"#de77ae\"],[0.3,\"#f1b6da\"],[0.4,\"#fde0ef\"],[0.5,\"#f7f7f7\"],[0.6,\"#e6f5d0\"],[0.7,\"#b8e186\"],[0.8,\"#7fbc41\"],[0.9,\"#4d9221\"],[1,\"#276419\"]],\"sequential\":[[0.0,\"#0d0887\"],[0.1111111111111111,\"#46039f\"],[0.2222222222222222,\"#7201a8\"],[0.3333333333333333,\"#9c179e\"],[0.4444444444444444,\"#bd3786\"],[0.5555555555555556,\"#d8576b\"],[0.6666666666666666,\"#ed7953\"],[0.7777777777777778,\"#fb9f3a\"],[0.8888888888888888,\"#fdca26\"],[1.0,\"#f0f921\"]],\"sequentialminus\":[[0.0,\"#0d0887\"],[0.1111111111111111,\"#46039f\"],[0.2222222222222222,\"#7201a8\"],[0.3333333333333333,\"#9c179e\"],[0.4444444444444444,\"#bd3786\"],[0.5555555555555556,\"#d8576b\"],[0.6666666666666666,\"#ed7953\"],[0.7777777777777778,\"#fb9f3a\"],[0.8888888888888888,\"#fdca26\"],[1.0,\"#f0f921\"]]},\"colorway\":[\"#636efa\",\"#EF553B\",\"#00cc96\",\"#ab63fa\",\"#FFA15A\",\"#19d3f3\",\"#FF6692\",\"#B6E880\",\"#FF97FF\",\"#FECB52\"],\"font\":{\"color\":\"#2a3f5f\"},\"geo\":{\"bgcolor\":\"white\",\"lakecolor\":\"white\",\"landcolor\":\"white\",\"showlakes\":true,\"showland\":true,\"subunitcolor\":\"#C8D4E3\"},\"hoverlabel\":{\"align\":\"left\"},\"hovermode\":\"closest\",\"mapbox\":{\"style\":\"light\"},\"paper_bgcolor\":\"white\",\"plot_bgcolor\":\"white\",\"polar\":{\"angularaxis\":{\"gridcolor\":\"#EBF0F8\",\"linecolor\":\"#EBF0F8\",\"ticks\":\"\"},\"bgcolor\":\"white\",\"radialaxis\":{\"gridcolor\":\"#EBF0F8\",\"linecolor\":\"#EBF0F8\",\"ticks\":\"\"}},\"scene\":{\"xaxis\":{\"backgroundcolor\":\"white\",\"gridcolor\":\"#DFE8F3\",\"gridwidth\":2,\"linecolor\":\"#EBF0F8\",\"showbackground\":true,\"ticks\":\"\",\"zerolinecolor\":\"#EBF0F8\"},\"yaxis\":{\"backgroundcolor\":\"white\",\"gridcolor\":\"#DFE8F3\",\"gridwidth\":2,\"linecolor\":\"#EBF0F8\",\"showbackground\":true,\"ticks\":\"\",\"zerolinecolor\":\"#EBF0F8\"},\"zaxis\":{\"backgroundcolor\":\"white\",\"gridcolor\":\"#DFE8F3\",\"gridwidth\":2,\"linecolor\":\"#EBF0F8\",\"showbackground\":true,\"ticks\":\"\",\"zerolinecolor\":\"#EBF0F8\"}},\"shapedefaults\":{\"line\":{\"color\":\"#2a3f5f\"}},\"ternary\":{\"aaxis\":{\"gridcolor\":\"#DFE8F3\",\"linecolor\":\"#A2B1C6\",\"ticks\":\"\"},\"baxis\":{\"gridcolor\":\"#DFE8F3\",\"linecolor\":\"#A2B1C6\",\"ticks\":\"\"},\"bgcolor\":\"white\",\"caxis\":{\"gridcolor\":\"#DFE8F3\",\"linecolor\":\"#A2B1C6\",\"ticks\":\"\"}},\"title\":{\"x\":0.05},\"xaxis\":{\"automargin\":true,\"gridcolor\":\"#EBF0F8\",\"linecolor\":\"#EBF0F8\",\"ticks\":\"\",\"title\":{\"standoff\":15},\"zerolinecolor\":\"#EBF0F8\",\"zerolinewidth\":2},\"yaxis\":{\"automargin\":true,\"gridcolor\":\"#EBF0F8\",\"linecolor\":\"#EBF0F8\",\"ticks\":\"\",\"title\":{\"standoff\":15},\"zerolinecolor\":\"#EBF0F8\",\"zerolinewidth\":2}}},\"xaxis\":{\"anchor\":\"y\",\"domain\":[0.0,1.0],\"title\":{\"text\":\"Organization\"}},\"yaxis\":{\"anchor\":\"x\",\"domain\":[0.0,1.0],\"title\":{},\"showgrid\":false,\"range\":[4,5],\"dtick\":0.1,\"showticklabels\":false},\"legend\":{\"tracegroupgap\":0},\"title\":{\"text\":\"Average Rating by Top Organizations by Student Enrollment\",\"x\":0.45},\"barmode\":\"relative\",\"font\":{\"size\":14},\"width\":800,\"height\":550},                        {\"responsive\": true}                    ).then(function(){\n",
       "                            \n",
       "var gd = document.getElementById('22b592df-68d3-4f8f-b078-956342095724');\n",
       "var x = new MutationObserver(function (mutations, observer) {{\n",
       "        var display = window.getComputedStyle(gd).display;\n",
       "        if (!display || display === 'none') {{\n",
       "            console.log([gd, 'removed!']);\n",
       "            Plotly.purge(gd);\n",
       "            observer.disconnect();\n",
       "        }}\n",
       "}});\n",
       "\n",
       "// Listen for the removal of the full notebook cells\n",
       "var notebookContainer = gd.closest('#notebook-container');\n",
       "if (notebookContainer) {{\n",
       "    x.observe(notebookContainer, {childList: true});\n",
       "}}\n",
       "\n",
       "// Listen for the clearing of the current output cell\n",
       "var outputEl = gd.closest('.output');\n",
       "if (outputEl) {{\n",
       "    x.observe(outputEl, {childList: true});\n",
       "}}\n",
       "\n",
       "                        })                };                });            </script>        </div>"
      ]
     },
     "metadata": {},
     "output_type": "display_data"
    }
   ],
   "source": [
    "# Calculate mean rating for top organizations by student enrollment\n",
    "avg_rating_by_top_orgs = coursera_df[coursera_df[\"course_organization\"].isin(top_organizations)] \\\n",
    "    .groupby(\"course_organization\")[\"course_rating\"] \\\n",
    "    .mean() \\\n",
    "    .reset_index(name=\"average_rating\")\n",
    "\n",
    "avg_rating_by_top_orgs = avg_rating_by_top_orgs.sort_values(by=\"average_rating\",\\\n",
    "                                                             ascending=False)\n",
    "\n",
    "# Create the bar chart displaying mean rating by top organizations by student enrollment\n",
    "fig_10 = px.bar(avg_rating_by_top_orgs,\n",
    "               x=\"course_organization\",\n",
    "               y=\"average_rating\",\n",
    "               title=\"Average Rating by Top Organizations by Student Enrollment\",\n",
    "               labels={\"average_rating\": \"Average Rating\",\\\n",
    "                        \"course_organization\": \"Organization\"},\n",
    "               template=\"plotly_white\",\n",
    "               text=\"average_rating\",\n",
    "               hover_name=\"course_organization\")\n",
    "\n",
    "fig_10.update_traces(texttemplate=\"%{text:.2f}\",\n",
    "                     textposition=\"outside\",\n",
    "                     marker_color=\"rgb(136,204,238)\")\n",
    "\n",
    "fig_10.update_layout(font=dict(size=14),\n",
    "                     title=dict(x=0.45),\n",
    "                     width=800,\n",
    "                     height=550,\n",
    "                     yaxis=dict(showgrid=False,\\\n",
    "                               range=[4, 5],\\\n",
    "                                dtick=0.1,\\\n",
    "                                    showticklabels=False,\\\n",
    "                                        title=None))\n",
    "\n",
    "fig_10.show()\n"
   ]
  },
  {
   "cell_type": "markdown",
   "metadata": {},
   "source": [
    "> 4.17. Do higher difficulty courses have fewer enrollments compared to easier courses?"
   ]
  },
  {
   "cell_type": "code",
   "execution_count": 83,
   "metadata": {},
   "outputs": [
    {
     "data": {
      "application/vnd.plotly.v1+json": {
       "config": {
        "plotlyServerURL": "https://plot.ly"
       },
       "data": [
        {
         "alignmentgroup": "True",
         "hovertemplate": "<b>%{hovertext}</b><br><br>Course Difficulty=%{x}<br>Number of Students Enrolled=%{text}<extra></extra>",
         "hovertext": [
          "Beginner",
          "Mixed",
          "Intermediate",
          "Advanced"
         ],
         "legendgroup": "",
         "marker": {
          "color": "rgb(136,204,238)",
          "pattern": {
           "shape": ""
          }
         },
         "name": "",
         "offsetgroup": "",
         "orientation": "v",
         "showlegend": false,
         "text": [
          39921800,
          24989400,
          14506300,
          1264400
         ],
         "textposition": "outside",
         "texttemplate": "%{text:.2s}",
         "type": "bar",
         "x": [
          "Beginner",
          "Mixed",
          "Intermediate",
          "Advanced"
         ],
         "xaxis": "x",
         "y": [
          39921800,
          24989400,
          14506300,
          1264400
         ],
         "yaxis": "y"
        }
       ],
       "layout": {
        "barmode": "relative",
        "font": {
         "size": 14
        },
        "height": 550,
        "legend": {
         "tracegroupgap": 0
        },
        "template": {
         "data": {
          "bar": [
           {
            "error_x": {
             "color": "#2a3f5f"
            },
            "error_y": {
             "color": "#2a3f5f"
            },
            "marker": {
             "line": {
              "color": "white",
              "width": 0.5
             },
             "pattern": {
              "fillmode": "overlay",
              "size": 10,
              "solidity": 0.2
             }
            },
            "type": "bar"
           }
          ],
          "barpolar": [
           {
            "marker": {
             "line": {
              "color": "white",
              "width": 0.5
             },
             "pattern": {
              "fillmode": "overlay",
              "size": 10,
              "solidity": 0.2
             }
            },
            "type": "barpolar"
           }
          ],
          "carpet": [
           {
            "aaxis": {
             "endlinecolor": "#2a3f5f",
             "gridcolor": "#C8D4E3",
             "linecolor": "#C8D4E3",
             "minorgridcolor": "#C8D4E3",
             "startlinecolor": "#2a3f5f"
            },
            "baxis": {
             "endlinecolor": "#2a3f5f",
             "gridcolor": "#C8D4E3",
             "linecolor": "#C8D4E3",
             "minorgridcolor": "#C8D4E3",
             "startlinecolor": "#2a3f5f"
            },
            "type": "carpet"
           }
          ],
          "choropleth": [
           {
            "colorbar": {
             "outlinewidth": 0,
             "ticks": ""
            },
            "type": "choropleth"
           }
          ],
          "contour": [
           {
            "colorbar": {
             "outlinewidth": 0,
             "ticks": ""
            },
            "colorscale": [
             [
              0,
              "#0d0887"
             ],
             [
              0.1111111111111111,
              "#46039f"
             ],
             [
              0.2222222222222222,
              "#7201a8"
             ],
             [
              0.3333333333333333,
              "#9c179e"
             ],
             [
              0.4444444444444444,
              "#bd3786"
             ],
             [
              0.5555555555555556,
              "#d8576b"
             ],
             [
              0.6666666666666666,
              "#ed7953"
             ],
             [
              0.7777777777777778,
              "#fb9f3a"
             ],
             [
              0.8888888888888888,
              "#fdca26"
             ],
             [
              1,
              "#f0f921"
             ]
            ],
            "type": "contour"
           }
          ],
          "contourcarpet": [
           {
            "colorbar": {
             "outlinewidth": 0,
             "ticks": ""
            },
            "type": "contourcarpet"
           }
          ],
          "heatmap": [
           {
            "colorbar": {
             "outlinewidth": 0,
             "ticks": ""
            },
            "colorscale": [
             [
              0,
              "#0d0887"
             ],
             [
              0.1111111111111111,
              "#46039f"
             ],
             [
              0.2222222222222222,
              "#7201a8"
             ],
             [
              0.3333333333333333,
              "#9c179e"
             ],
             [
              0.4444444444444444,
              "#bd3786"
             ],
             [
              0.5555555555555556,
              "#d8576b"
             ],
             [
              0.6666666666666666,
              "#ed7953"
             ],
             [
              0.7777777777777778,
              "#fb9f3a"
             ],
             [
              0.8888888888888888,
              "#fdca26"
             ],
             [
              1,
              "#f0f921"
             ]
            ],
            "type": "heatmap"
           }
          ],
          "heatmapgl": [
           {
            "colorbar": {
             "outlinewidth": 0,
             "ticks": ""
            },
            "colorscale": [
             [
              0,
              "#0d0887"
             ],
             [
              0.1111111111111111,
              "#46039f"
             ],
             [
              0.2222222222222222,
              "#7201a8"
             ],
             [
              0.3333333333333333,
              "#9c179e"
             ],
             [
              0.4444444444444444,
              "#bd3786"
             ],
             [
              0.5555555555555556,
              "#d8576b"
             ],
             [
              0.6666666666666666,
              "#ed7953"
             ],
             [
              0.7777777777777778,
              "#fb9f3a"
             ],
             [
              0.8888888888888888,
              "#fdca26"
             ],
             [
              1,
              "#f0f921"
             ]
            ],
            "type": "heatmapgl"
           }
          ],
          "histogram": [
           {
            "marker": {
             "pattern": {
              "fillmode": "overlay",
              "size": 10,
              "solidity": 0.2
             }
            },
            "type": "histogram"
           }
          ],
          "histogram2d": [
           {
            "colorbar": {
             "outlinewidth": 0,
             "ticks": ""
            },
            "colorscale": [
             [
              0,
              "#0d0887"
             ],
             [
              0.1111111111111111,
              "#46039f"
             ],
             [
              0.2222222222222222,
              "#7201a8"
             ],
             [
              0.3333333333333333,
              "#9c179e"
             ],
             [
              0.4444444444444444,
              "#bd3786"
             ],
             [
              0.5555555555555556,
              "#d8576b"
             ],
             [
              0.6666666666666666,
              "#ed7953"
             ],
             [
              0.7777777777777778,
              "#fb9f3a"
             ],
             [
              0.8888888888888888,
              "#fdca26"
             ],
             [
              1,
              "#f0f921"
             ]
            ],
            "type": "histogram2d"
           }
          ],
          "histogram2dcontour": [
           {
            "colorbar": {
             "outlinewidth": 0,
             "ticks": ""
            },
            "colorscale": [
             [
              0,
              "#0d0887"
             ],
             [
              0.1111111111111111,
              "#46039f"
             ],
             [
              0.2222222222222222,
              "#7201a8"
             ],
             [
              0.3333333333333333,
              "#9c179e"
             ],
             [
              0.4444444444444444,
              "#bd3786"
             ],
             [
              0.5555555555555556,
              "#d8576b"
             ],
             [
              0.6666666666666666,
              "#ed7953"
             ],
             [
              0.7777777777777778,
              "#fb9f3a"
             ],
             [
              0.8888888888888888,
              "#fdca26"
             ],
             [
              1,
              "#f0f921"
             ]
            ],
            "type": "histogram2dcontour"
           }
          ],
          "mesh3d": [
           {
            "colorbar": {
             "outlinewidth": 0,
             "ticks": ""
            },
            "type": "mesh3d"
           }
          ],
          "parcoords": [
           {
            "line": {
             "colorbar": {
              "outlinewidth": 0,
              "ticks": ""
             }
            },
            "type": "parcoords"
           }
          ],
          "pie": [
           {
            "automargin": true,
            "type": "pie"
           }
          ],
          "scatter": [
           {
            "fillpattern": {
             "fillmode": "overlay",
             "size": 10,
             "solidity": 0.2
            },
            "type": "scatter"
           }
          ],
          "scatter3d": [
           {
            "line": {
             "colorbar": {
              "outlinewidth": 0,
              "ticks": ""
             }
            },
            "marker": {
             "colorbar": {
              "outlinewidth": 0,
              "ticks": ""
             }
            },
            "type": "scatter3d"
           }
          ],
          "scattercarpet": [
           {
            "marker": {
             "colorbar": {
              "outlinewidth": 0,
              "ticks": ""
             }
            },
            "type": "scattercarpet"
           }
          ],
          "scattergeo": [
           {
            "marker": {
             "colorbar": {
              "outlinewidth": 0,
              "ticks": ""
             }
            },
            "type": "scattergeo"
           }
          ],
          "scattergl": [
           {
            "marker": {
             "colorbar": {
              "outlinewidth": 0,
              "ticks": ""
             }
            },
            "type": "scattergl"
           }
          ],
          "scattermapbox": [
           {
            "marker": {
             "colorbar": {
              "outlinewidth": 0,
              "ticks": ""
             }
            },
            "type": "scattermapbox"
           }
          ],
          "scatterpolar": [
           {
            "marker": {
             "colorbar": {
              "outlinewidth": 0,
              "ticks": ""
             }
            },
            "type": "scatterpolar"
           }
          ],
          "scatterpolargl": [
           {
            "marker": {
             "colorbar": {
              "outlinewidth": 0,
              "ticks": ""
             }
            },
            "type": "scatterpolargl"
           }
          ],
          "scatterternary": [
           {
            "marker": {
             "colorbar": {
              "outlinewidth": 0,
              "ticks": ""
             }
            },
            "type": "scatterternary"
           }
          ],
          "surface": [
           {
            "colorbar": {
             "outlinewidth": 0,
             "ticks": ""
            },
            "colorscale": [
             [
              0,
              "#0d0887"
             ],
             [
              0.1111111111111111,
              "#46039f"
             ],
             [
              0.2222222222222222,
              "#7201a8"
             ],
             [
              0.3333333333333333,
              "#9c179e"
             ],
             [
              0.4444444444444444,
              "#bd3786"
             ],
             [
              0.5555555555555556,
              "#d8576b"
             ],
             [
              0.6666666666666666,
              "#ed7953"
             ],
             [
              0.7777777777777778,
              "#fb9f3a"
             ],
             [
              0.8888888888888888,
              "#fdca26"
             ],
             [
              1,
              "#f0f921"
             ]
            ],
            "type": "surface"
           }
          ],
          "table": [
           {
            "cells": {
             "fill": {
              "color": "#EBF0F8"
             },
             "line": {
              "color": "white"
             }
            },
            "header": {
             "fill": {
              "color": "#C8D4E3"
             },
             "line": {
              "color": "white"
             }
            },
            "type": "table"
           }
          ]
         },
         "layout": {
          "annotationdefaults": {
           "arrowcolor": "#2a3f5f",
           "arrowhead": 0,
           "arrowwidth": 1
          },
          "autotypenumbers": "strict",
          "coloraxis": {
           "colorbar": {
            "outlinewidth": 0,
            "ticks": ""
           }
          },
          "colorscale": {
           "diverging": [
            [
             0,
             "#8e0152"
            ],
            [
             0.1,
             "#c51b7d"
            ],
            [
             0.2,
             "#de77ae"
            ],
            [
             0.3,
             "#f1b6da"
            ],
            [
             0.4,
             "#fde0ef"
            ],
            [
             0.5,
             "#f7f7f7"
            ],
            [
             0.6,
             "#e6f5d0"
            ],
            [
             0.7,
             "#b8e186"
            ],
            [
             0.8,
             "#7fbc41"
            ],
            [
             0.9,
             "#4d9221"
            ],
            [
             1,
             "#276419"
            ]
           ],
           "sequential": [
            [
             0,
             "#0d0887"
            ],
            [
             0.1111111111111111,
             "#46039f"
            ],
            [
             0.2222222222222222,
             "#7201a8"
            ],
            [
             0.3333333333333333,
             "#9c179e"
            ],
            [
             0.4444444444444444,
             "#bd3786"
            ],
            [
             0.5555555555555556,
             "#d8576b"
            ],
            [
             0.6666666666666666,
             "#ed7953"
            ],
            [
             0.7777777777777778,
             "#fb9f3a"
            ],
            [
             0.8888888888888888,
             "#fdca26"
            ],
            [
             1,
             "#f0f921"
            ]
           ],
           "sequentialminus": [
            [
             0,
             "#0d0887"
            ],
            [
             0.1111111111111111,
             "#46039f"
            ],
            [
             0.2222222222222222,
             "#7201a8"
            ],
            [
             0.3333333333333333,
             "#9c179e"
            ],
            [
             0.4444444444444444,
             "#bd3786"
            ],
            [
             0.5555555555555556,
             "#d8576b"
            ],
            [
             0.6666666666666666,
             "#ed7953"
            ],
            [
             0.7777777777777778,
             "#fb9f3a"
            ],
            [
             0.8888888888888888,
             "#fdca26"
            ],
            [
             1,
             "#f0f921"
            ]
           ]
          },
          "colorway": [
           "#636efa",
           "#EF553B",
           "#00cc96",
           "#ab63fa",
           "#FFA15A",
           "#19d3f3",
           "#FF6692",
           "#B6E880",
           "#FF97FF",
           "#FECB52"
          ],
          "font": {
           "color": "#2a3f5f"
          },
          "geo": {
           "bgcolor": "white",
           "lakecolor": "white",
           "landcolor": "white",
           "showlakes": true,
           "showland": true,
           "subunitcolor": "#C8D4E3"
          },
          "hoverlabel": {
           "align": "left"
          },
          "hovermode": "closest",
          "mapbox": {
           "style": "light"
          },
          "paper_bgcolor": "white",
          "plot_bgcolor": "white",
          "polar": {
           "angularaxis": {
            "gridcolor": "#EBF0F8",
            "linecolor": "#EBF0F8",
            "ticks": ""
           },
           "bgcolor": "white",
           "radialaxis": {
            "gridcolor": "#EBF0F8",
            "linecolor": "#EBF0F8",
            "ticks": ""
           }
          },
          "scene": {
           "xaxis": {
            "backgroundcolor": "white",
            "gridcolor": "#DFE8F3",
            "gridwidth": 2,
            "linecolor": "#EBF0F8",
            "showbackground": true,
            "ticks": "",
            "zerolinecolor": "#EBF0F8"
           },
           "yaxis": {
            "backgroundcolor": "white",
            "gridcolor": "#DFE8F3",
            "gridwidth": 2,
            "linecolor": "#EBF0F8",
            "showbackground": true,
            "ticks": "",
            "zerolinecolor": "#EBF0F8"
           },
           "zaxis": {
            "backgroundcolor": "white",
            "gridcolor": "#DFE8F3",
            "gridwidth": 2,
            "linecolor": "#EBF0F8",
            "showbackground": true,
            "ticks": "",
            "zerolinecolor": "#EBF0F8"
           }
          },
          "shapedefaults": {
           "line": {
            "color": "#2a3f5f"
           }
          },
          "ternary": {
           "aaxis": {
            "gridcolor": "#DFE8F3",
            "linecolor": "#A2B1C6",
            "ticks": ""
           },
           "baxis": {
            "gridcolor": "#DFE8F3",
            "linecolor": "#A2B1C6",
            "ticks": ""
           },
           "bgcolor": "white",
           "caxis": {
            "gridcolor": "#DFE8F3",
            "linecolor": "#A2B1C6",
            "ticks": ""
           }
          },
          "title": {
           "x": 0.05
          },
          "xaxis": {
           "automargin": true,
           "gridcolor": "#EBF0F8",
           "linecolor": "#EBF0F8",
           "ticks": "",
           "title": {
            "standoff": 15
           },
           "zerolinecolor": "#EBF0F8",
           "zerolinewidth": 2
          },
          "yaxis": {
           "automargin": true,
           "gridcolor": "#EBF0F8",
           "linecolor": "#EBF0F8",
           "ticks": "",
           "title": {
            "standoff": 15
           },
           "zerolinecolor": "#EBF0F8",
           "zerolinewidth": 2
          }
         }
        },
        "title": {
         "text": "Student Enrollment by Course Difficulty",
         "x": 0.45
        },
        "width": 800,
        "xaxis": {
         "anchor": "y",
         "domain": [
          0,
          1
         ],
         "title": {
          "text": "Course Difficulty"
         }
        },
        "yaxis": {
         "anchor": "x",
         "domain": [
          0,
          1
         ],
         "showgrid": false,
         "title": {
          "text": "Number of Students Enrolled"
         }
        }
       }
      },
      "text/html": [
       "<div>                            <div id=\"292cd1e3-0da3-460e-a039-5ec0486cfd3c\" class=\"plotly-graph-div\" style=\"height:550px; width:800px;\"></div>            <script type=\"text/javascript\">                require([\"plotly\"], function(Plotly) {                    window.PLOTLYENV=window.PLOTLYENV || {};                                    if (document.getElementById(\"292cd1e3-0da3-460e-a039-5ec0486cfd3c\")) {                    Plotly.newPlot(                        \"292cd1e3-0da3-460e-a039-5ec0486cfd3c\",                        [{\"alignmentgroup\":\"True\",\"hovertemplate\":\"\\u003cb\\u003e%{hovertext}\\u003c\\u002fb\\u003e\\u003cbr\\u003e\\u003cbr\\u003eCourse Difficulty=%{x}\\u003cbr\\u003eNumber of Students Enrolled=%{text}\\u003cextra\\u003e\\u003c\\u002fextra\\u003e\",\"hovertext\":[\"Beginner\",\"Mixed\",\"Intermediate\",\"Advanced\"],\"legendgroup\":\"\",\"marker\":{\"color\":\"rgb(136,204,238)\",\"pattern\":{\"shape\":\"\"}},\"name\":\"\",\"offsetgroup\":\"\",\"orientation\":\"v\",\"showlegend\":false,\"text\":[39921800.0,24989400.0,14506300.0,1264400.0],\"textposition\":\"outside\",\"x\":[\"Beginner\",\"Mixed\",\"Intermediate\",\"Advanced\"],\"xaxis\":\"x\",\"y\":[39921800.0,24989400.0,14506300.0,1264400.0],\"yaxis\":\"y\",\"type\":\"bar\",\"texttemplate\":\"%{text:.2s}\"}],                        {\"template\":{\"data\":{\"barpolar\":[{\"marker\":{\"line\":{\"color\":\"white\",\"width\":0.5},\"pattern\":{\"fillmode\":\"overlay\",\"size\":10,\"solidity\":0.2}},\"type\":\"barpolar\"}],\"bar\":[{\"error_x\":{\"color\":\"#2a3f5f\"},\"error_y\":{\"color\":\"#2a3f5f\"},\"marker\":{\"line\":{\"color\":\"white\",\"width\":0.5},\"pattern\":{\"fillmode\":\"overlay\",\"size\":10,\"solidity\":0.2}},\"type\":\"bar\"}],\"carpet\":[{\"aaxis\":{\"endlinecolor\":\"#2a3f5f\",\"gridcolor\":\"#C8D4E3\",\"linecolor\":\"#C8D4E3\",\"minorgridcolor\":\"#C8D4E3\",\"startlinecolor\":\"#2a3f5f\"},\"baxis\":{\"endlinecolor\":\"#2a3f5f\",\"gridcolor\":\"#C8D4E3\",\"linecolor\":\"#C8D4E3\",\"minorgridcolor\":\"#C8D4E3\",\"startlinecolor\":\"#2a3f5f\"},\"type\":\"carpet\"}],\"choropleth\":[{\"colorbar\":{\"outlinewidth\":0,\"ticks\":\"\"},\"type\":\"choropleth\"}],\"contourcarpet\":[{\"colorbar\":{\"outlinewidth\":0,\"ticks\":\"\"},\"type\":\"contourcarpet\"}],\"contour\":[{\"colorbar\":{\"outlinewidth\":0,\"ticks\":\"\"},\"colorscale\":[[0.0,\"#0d0887\"],[0.1111111111111111,\"#46039f\"],[0.2222222222222222,\"#7201a8\"],[0.3333333333333333,\"#9c179e\"],[0.4444444444444444,\"#bd3786\"],[0.5555555555555556,\"#d8576b\"],[0.6666666666666666,\"#ed7953\"],[0.7777777777777778,\"#fb9f3a\"],[0.8888888888888888,\"#fdca26\"],[1.0,\"#f0f921\"]],\"type\":\"contour\"}],\"heatmapgl\":[{\"colorbar\":{\"outlinewidth\":0,\"ticks\":\"\"},\"colorscale\":[[0.0,\"#0d0887\"],[0.1111111111111111,\"#46039f\"],[0.2222222222222222,\"#7201a8\"],[0.3333333333333333,\"#9c179e\"],[0.4444444444444444,\"#bd3786\"],[0.5555555555555556,\"#d8576b\"],[0.6666666666666666,\"#ed7953\"],[0.7777777777777778,\"#fb9f3a\"],[0.8888888888888888,\"#fdca26\"],[1.0,\"#f0f921\"]],\"type\":\"heatmapgl\"}],\"heatmap\":[{\"colorbar\":{\"outlinewidth\":0,\"ticks\":\"\"},\"colorscale\":[[0.0,\"#0d0887\"],[0.1111111111111111,\"#46039f\"],[0.2222222222222222,\"#7201a8\"],[0.3333333333333333,\"#9c179e\"],[0.4444444444444444,\"#bd3786\"],[0.5555555555555556,\"#d8576b\"],[0.6666666666666666,\"#ed7953\"],[0.7777777777777778,\"#fb9f3a\"],[0.8888888888888888,\"#fdca26\"],[1.0,\"#f0f921\"]],\"type\":\"heatmap\"}],\"histogram2dcontour\":[{\"colorbar\":{\"outlinewidth\":0,\"ticks\":\"\"},\"colorscale\":[[0.0,\"#0d0887\"],[0.1111111111111111,\"#46039f\"],[0.2222222222222222,\"#7201a8\"],[0.3333333333333333,\"#9c179e\"],[0.4444444444444444,\"#bd3786\"],[0.5555555555555556,\"#d8576b\"],[0.6666666666666666,\"#ed7953\"],[0.7777777777777778,\"#fb9f3a\"],[0.8888888888888888,\"#fdca26\"],[1.0,\"#f0f921\"]],\"type\":\"histogram2dcontour\"}],\"histogram2d\":[{\"colorbar\":{\"outlinewidth\":0,\"ticks\":\"\"},\"colorscale\":[[0.0,\"#0d0887\"],[0.1111111111111111,\"#46039f\"],[0.2222222222222222,\"#7201a8\"],[0.3333333333333333,\"#9c179e\"],[0.4444444444444444,\"#bd3786\"],[0.5555555555555556,\"#d8576b\"],[0.6666666666666666,\"#ed7953\"],[0.7777777777777778,\"#fb9f3a\"],[0.8888888888888888,\"#fdca26\"],[1.0,\"#f0f921\"]],\"type\":\"histogram2d\"}],\"histogram\":[{\"marker\":{\"pattern\":{\"fillmode\":\"overlay\",\"size\":10,\"solidity\":0.2}},\"type\":\"histogram\"}],\"mesh3d\":[{\"colorbar\":{\"outlinewidth\":0,\"ticks\":\"\"},\"type\":\"mesh3d\"}],\"parcoords\":[{\"line\":{\"colorbar\":{\"outlinewidth\":0,\"ticks\":\"\"}},\"type\":\"parcoords\"}],\"pie\":[{\"automargin\":true,\"type\":\"pie\"}],\"scatter3d\":[{\"line\":{\"colorbar\":{\"outlinewidth\":0,\"ticks\":\"\"}},\"marker\":{\"colorbar\":{\"outlinewidth\":0,\"ticks\":\"\"}},\"type\":\"scatter3d\"}],\"scattercarpet\":[{\"marker\":{\"colorbar\":{\"outlinewidth\":0,\"ticks\":\"\"}},\"type\":\"scattercarpet\"}],\"scattergeo\":[{\"marker\":{\"colorbar\":{\"outlinewidth\":0,\"ticks\":\"\"}},\"type\":\"scattergeo\"}],\"scattergl\":[{\"marker\":{\"colorbar\":{\"outlinewidth\":0,\"ticks\":\"\"}},\"type\":\"scattergl\"}],\"scattermapbox\":[{\"marker\":{\"colorbar\":{\"outlinewidth\":0,\"ticks\":\"\"}},\"type\":\"scattermapbox\"}],\"scatterpolargl\":[{\"marker\":{\"colorbar\":{\"outlinewidth\":0,\"ticks\":\"\"}},\"type\":\"scatterpolargl\"}],\"scatterpolar\":[{\"marker\":{\"colorbar\":{\"outlinewidth\":0,\"ticks\":\"\"}},\"type\":\"scatterpolar\"}],\"scatter\":[{\"fillpattern\":{\"fillmode\":\"overlay\",\"size\":10,\"solidity\":0.2},\"type\":\"scatter\"}],\"scatterternary\":[{\"marker\":{\"colorbar\":{\"outlinewidth\":0,\"ticks\":\"\"}},\"type\":\"scatterternary\"}],\"surface\":[{\"colorbar\":{\"outlinewidth\":0,\"ticks\":\"\"},\"colorscale\":[[0.0,\"#0d0887\"],[0.1111111111111111,\"#46039f\"],[0.2222222222222222,\"#7201a8\"],[0.3333333333333333,\"#9c179e\"],[0.4444444444444444,\"#bd3786\"],[0.5555555555555556,\"#d8576b\"],[0.6666666666666666,\"#ed7953\"],[0.7777777777777778,\"#fb9f3a\"],[0.8888888888888888,\"#fdca26\"],[1.0,\"#f0f921\"]],\"type\":\"surface\"}],\"table\":[{\"cells\":{\"fill\":{\"color\":\"#EBF0F8\"},\"line\":{\"color\":\"white\"}},\"header\":{\"fill\":{\"color\":\"#C8D4E3\"},\"line\":{\"color\":\"white\"}},\"type\":\"table\"}]},\"layout\":{\"annotationdefaults\":{\"arrowcolor\":\"#2a3f5f\",\"arrowhead\":0,\"arrowwidth\":1},\"autotypenumbers\":\"strict\",\"coloraxis\":{\"colorbar\":{\"outlinewidth\":0,\"ticks\":\"\"}},\"colorscale\":{\"diverging\":[[0,\"#8e0152\"],[0.1,\"#c51b7d\"],[0.2,\"#de77ae\"],[0.3,\"#f1b6da\"],[0.4,\"#fde0ef\"],[0.5,\"#f7f7f7\"],[0.6,\"#e6f5d0\"],[0.7,\"#b8e186\"],[0.8,\"#7fbc41\"],[0.9,\"#4d9221\"],[1,\"#276419\"]],\"sequential\":[[0.0,\"#0d0887\"],[0.1111111111111111,\"#46039f\"],[0.2222222222222222,\"#7201a8\"],[0.3333333333333333,\"#9c179e\"],[0.4444444444444444,\"#bd3786\"],[0.5555555555555556,\"#d8576b\"],[0.6666666666666666,\"#ed7953\"],[0.7777777777777778,\"#fb9f3a\"],[0.8888888888888888,\"#fdca26\"],[1.0,\"#f0f921\"]],\"sequentialminus\":[[0.0,\"#0d0887\"],[0.1111111111111111,\"#46039f\"],[0.2222222222222222,\"#7201a8\"],[0.3333333333333333,\"#9c179e\"],[0.4444444444444444,\"#bd3786\"],[0.5555555555555556,\"#d8576b\"],[0.6666666666666666,\"#ed7953\"],[0.7777777777777778,\"#fb9f3a\"],[0.8888888888888888,\"#fdca26\"],[1.0,\"#f0f921\"]]},\"colorway\":[\"#636efa\",\"#EF553B\",\"#00cc96\",\"#ab63fa\",\"#FFA15A\",\"#19d3f3\",\"#FF6692\",\"#B6E880\",\"#FF97FF\",\"#FECB52\"],\"font\":{\"color\":\"#2a3f5f\"},\"geo\":{\"bgcolor\":\"white\",\"lakecolor\":\"white\",\"landcolor\":\"white\",\"showlakes\":true,\"showland\":true,\"subunitcolor\":\"#C8D4E3\"},\"hoverlabel\":{\"align\":\"left\"},\"hovermode\":\"closest\",\"mapbox\":{\"style\":\"light\"},\"paper_bgcolor\":\"white\",\"plot_bgcolor\":\"white\",\"polar\":{\"angularaxis\":{\"gridcolor\":\"#EBF0F8\",\"linecolor\":\"#EBF0F8\",\"ticks\":\"\"},\"bgcolor\":\"white\",\"radialaxis\":{\"gridcolor\":\"#EBF0F8\",\"linecolor\":\"#EBF0F8\",\"ticks\":\"\"}},\"scene\":{\"xaxis\":{\"backgroundcolor\":\"white\",\"gridcolor\":\"#DFE8F3\",\"gridwidth\":2,\"linecolor\":\"#EBF0F8\",\"showbackground\":true,\"ticks\":\"\",\"zerolinecolor\":\"#EBF0F8\"},\"yaxis\":{\"backgroundcolor\":\"white\",\"gridcolor\":\"#DFE8F3\",\"gridwidth\":2,\"linecolor\":\"#EBF0F8\",\"showbackground\":true,\"ticks\":\"\",\"zerolinecolor\":\"#EBF0F8\"},\"zaxis\":{\"backgroundcolor\":\"white\",\"gridcolor\":\"#DFE8F3\",\"gridwidth\":2,\"linecolor\":\"#EBF0F8\",\"showbackground\":true,\"ticks\":\"\",\"zerolinecolor\":\"#EBF0F8\"}},\"shapedefaults\":{\"line\":{\"color\":\"#2a3f5f\"}},\"ternary\":{\"aaxis\":{\"gridcolor\":\"#DFE8F3\",\"linecolor\":\"#A2B1C6\",\"ticks\":\"\"},\"baxis\":{\"gridcolor\":\"#DFE8F3\",\"linecolor\":\"#A2B1C6\",\"ticks\":\"\"},\"bgcolor\":\"white\",\"caxis\":{\"gridcolor\":\"#DFE8F3\",\"linecolor\":\"#A2B1C6\",\"ticks\":\"\"}},\"title\":{\"x\":0.05},\"xaxis\":{\"automargin\":true,\"gridcolor\":\"#EBF0F8\",\"linecolor\":\"#EBF0F8\",\"ticks\":\"\",\"title\":{\"standoff\":15},\"zerolinecolor\":\"#EBF0F8\",\"zerolinewidth\":2},\"yaxis\":{\"automargin\":true,\"gridcolor\":\"#EBF0F8\",\"linecolor\":\"#EBF0F8\",\"ticks\":\"\",\"title\":{\"standoff\":15},\"zerolinecolor\":\"#EBF0F8\",\"zerolinewidth\":2}}},\"xaxis\":{\"anchor\":\"y\",\"domain\":[0.0,1.0],\"title\":{\"text\":\"Course Difficulty\"}},\"yaxis\":{\"anchor\":\"x\",\"domain\":[0.0,1.0],\"title\":{\"text\":\"Number of Students Enrolled\"},\"showgrid\":false},\"legend\":{\"tracegroupgap\":0},\"title\":{\"text\":\"Student Enrollment by Course Difficulty\",\"x\":0.45},\"barmode\":\"relative\",\"font\":{\"size\":14},\"width\":800,\"height\":550},                        {\"responsive\": true}                    ).then(function(){\n",
       "                            \n",
       "var gd = document.getElementById('292cd1e3-0da3-460e-a039-5ec0486cfd3c');\n",
       "var x = new MutationObserver(function (mutations, observer) {{\n",
       "        var display = window.getComputedStyle(gd).display;\n",
       "        if (!display || display === 'none') {{\n",
       "            console.log([gd, 'removed!']);\n",
       "            Plotly.purge(gd);\n",
       "            observer.disconnect();\n",
       "        }}\n",
       "}});\n",
       "\n",
       "// Listen for the removal of the full notebook cells\n",
       "var notebookContainer = gd.closest('#notebook-container');\n",
       "if (notebookContainer) {{\n",
       "    x.observe(notebookContainer, {childList: true});\n",
       "}}\n",
       "\n",
       "// Listen for the clearing of the current output cell\n",
       "var outputEl = gd.closest('.output');\n",
       "if (outputEl) {{\n",
       "    x.observe(outputEl, {childList: true});\n",
       "}}\n",
       "\n",
       "                        })                };                });            </script>        </div>"
      ]
     },
     "metadata": {},
     "output_type": "display_data"
    }
   ],
   "source": [
    "#Count how many students are enrolled in each course difficulty\n",
    "enrollment_by_difficulty = coursera_df.groupby(\"course_difficulty\")[\"course_students_enrolled_float\"].sum()\\\n",
    "    .reset_index(name=\"enrollment\")\n",
    "enrollment_by_difficulty = enrollment_by_difficulty.sort_values(by=\"enrollment\",\\\n",
    "                                                                ascending=False)\n",
    "\n",
    "#Plot a bar chart displaying how many students are enrolled to each course difficulty level\n",
    "fig_11 = px.bar(enrollment_by_difficulty, x=\"course_difficulty\",\n",
    "               y=\"enrollment\",\n",
    "               title=\"Student Enrollment by Course Difficulty\",\n",
    "               labels={\"course_difficulty\":\"Course Difficulty\",\\\n",
    "                        \"enrollment\" : \"Number of Students Enrolled\"},\n",
    "               text=\"enrollment\",\n",
    "               template=\"plotly_white\",\n",
    "               hover_name=\"course_difficulty\")\n",
    "\n",
    "fig_11.update_traces(texttemplate=\"%{text:.2s}\",\n",
    "                    textposition=\"outside\",\n",
    "                    marker_color=\"rgb(136,204,238)\")\n",
    "\n",
    "fig_11.update_layout(font=dict(size=14),\n",
    "                     title=dict(x=0.45),\n",
    "                     width=800,\n",
    "                     height=550,\n",
    "                     yaxis=dict(showgrid=False))\n",
    "\n",
    "fig_11.show()\n",
    "\n"
   ]
  },
  {
   "cell_type": "markdown",
   "metadata": {},
   "source": [
    "> 4.18. How do student enrollment vary across different certification types?"
   ]
  },
  {
   "cell_type": "code",
   "execution_count": 86,
   "metadata": {},
   "outputs": [
    {
     "data": {
      "application/vnd.plotly.v1+json": {
       "config": {
        "plotlyServerURL": "https://plot.ly"
       },
       "data": [
        {
         "alignmentgroup": "True",
         "hovertemplate": "<b>%{hovertext}</b><br><br>Course Certificate=%{x}<br>Number of Students Enrolled=%{text}<extra></extra>",
         "hovertext": [
          "COURSE",
          "SPECIALIZATION",
          "PROFESSIONAL CERTIFICATE"
         ],
         "legendgroup": "",
         "marker": {
          "color": "rgb(136,204,238)",
          "pattern": {
           "shape": ""
          }
         },
         "name": "",
         "offsetgroup": "",
         "orientation": "v",
         "showlegend": false,
         "text": [
          51131300,
          27262200,
          2288400
         ],
         "textposition": "outside",
         "texttemplate": "%{text:.2s}",
         "type": "bar",
         "x": [
          "COURSE",
          "SPECIALIZATION",
          "PROFESSIONAL CERTIFICATE"
         ],
         "xaxis": "x",
         "y": [
          51131300,
          27262200,
          2288400
         ],
         "yaxis": "y"
        }
       ],
       "layout": {
        "barmode": "relative",
        "height": 550,
        "legend": {
         "tracegroupgap": 0
        },
        "template": {
         "data": {
          "bar": [
           {
            "error_x": {
             "color": "#2a3f5f"
            },
            "error_y": {
             "color": "#2a3f5f"
            },
            "marker": {
             "line": {
              "color": "white",
              "width": 0.5
             },
             "pattern": {
              "fillmode": "overlay",
              "size": 10,
              "solidity": 0.2
             }
            },
            "type": "bar"
           }
          ],
          "barpolar": [
           {
            "marker": {
             "line": {
              "color": "white",
              "width": 0.5
             },
             "pattern": {
              "fillmode": "overlay",
              "size": 10,
              "solidity": 0.2
             }
            },
            "type": "barpolar"
           }
          ],
          "carpet": [
           {
            "aaxis": {
             "endlinecolor": "#2a3f5f",
             "gridcolor": "#C8D4E3",
             "linecolor": "#C8D4E3",
             "minorgridcolor": "#C8D4E3",
             "startlinecolor": "#2a3f5f"
            },
            "baxis": {
             "endlinecolor": "#2a3f5f",
             "gridcolor": "#C8D4E3",
             "linecolor": "#C8D4E3",
             "minorgridcolor": "#C8D4E3",
             "startlinecolor": "#2a3f5f"
            },
            "type": "carpet"
           }
          ],
          "choropleth": [
           {
            "colorbar": {
             "outlinewidth": 0,
             "ticks": ""
            },
            "type": "choropleth"
           }
          ],
          "contour": [
           {
            "colorbar": {
             "outlinewidth": 0,
             "ticks": ""
            },
            "colorscale": [
             [
              0,
              "#0d0887"
             ],
             [
              0.1111111111111111,
              "#46039f"
             ],
             [
              0.2222222222222222,
              "#7201a8"
             ],
             [
              0.3333333333333333,
              "#9c179e"
             ],
             [
              0.4444444444444444,
              "#bd3786"
             ],
             [
              0.5555555555555556,
              "#d8576b"
             ],
             [
              0.6666666666666666,
              "#ed7953"
             ],
             [
              0.7777777777777778,
              "#fb9f3a"
             ],
             [
              0.8888888888888888,
              "#fdca26"
             ],
             [
              1,
              "#f0f921"
             ]
            ],
            "type": "contour"
           }
          ],
          "contourcarpet": [
           {
            "colorbar": {
             "outlinewidth": 0,
             "ticks": ""
            },
            "type": "contourcarpet"
           }
          ],
          "heatmap": [
           {
            "colorbar": {
             "outlinewidth": 0,
             "ticks": ""
            },
            "colorscale": [
             [
              0,
              "#0d0887"
             ],
             [
              0.1111111111111111,
              "#46039f"
             ],
             [
              0.2222222222222222,
              "#7201a8"
             ],
             [
              0.3333333333333333,
              "#9c179e"
             ],
             [
              0.4444444444444444,
              "#bd3786"
             ],
             [
              0.5555555555555556,
              "#d8576b"
             ],
             [
              0.6666666666666666,
              "#ed7953"
             ],
             [
              0.7777777777777778,
              "#fb9f3a"
             ],
             [
              0.8888888888888888,
              "#fdca26"
             ],
             [
              1,
              "#f0f921"
             ]
            ],
            "type": "heatmap"
           }
          ],
          "heatmapgl": [
           {
            "colorbar": {
             "outlinewidth": 0,
             "ticks": ""
            },
            "colorscale": [
             [
              0,
              "#0d0887"
             ],
             [
              0.1111111111111111,
              "#46039f"
             ],
             [
              0.2222222222222222,
              "#7201a8"
             ],
             [
              0.3333333333333333,
              "#9c179e"
             ],
             [
              0.4444444444444444,
              "#bd3786"
             ],
             [
              0.5555555555555556,
              "#d8576b"
             ],
             [
              0.6666666666666666,
              "#ed7953"
             ],
             [
              0.7777777777777778,
              "#fb9f3a"
             ],
             [
              0.8888888888888888,
              "#fdca26"
             ],
             [
              1,
              "#f0f921"
             ]
            ],
            "type": "heatmapgl"
           }
          ],
          "histogram": [
           {
            "marker": {
             "pattern": {
              "fillmode": "overlay",
              "size": 10,
              "solidity": 0.2
             }
            },
            "type": "histogram"
           }
          ],
          "histogram2d": [
           {
            "colorbar": {
             "outlinewidth": 0,
             "ticks": ""
            },
            "colorscale": [
             [
              0,
              "#0d0887"
             ],
             [
              0.1111111111111111,
              "#46039f"
             ],
             [
              0.2222222222222222,
              "#7201a8"
             ],
             [
              0.3333333333333333,
              "#9c179e"
             ],
             [
              0.4444444444444444,
              "#bd3786"
             ],
             [
              0.5555555555555556,
              "#d8576b"
             ],
             [
              0.6666666666666666,
              "#ed7953"
             ],
             [
              0.7777777777777778,
              "#fb9f3a"
             ],
             [
              0.8888888888888888,
              "#fdca26"
             ],
             [
              1,
              "#f0f921"
             ]
            ],
            "type": "histogram2d"
           }
          ],
          "histogram2dcontour": [
           {
            "colorbar": {
             "outlinewidth": 0,
             "ticks": ""
            },
            "colorscale": [
             [
              0,
              "#0d0887"
             ],
             [
              0.1111111111111111,
              "#46039f"
             ],
             [
              0.2222222222222222,
              "#7201a8"
             ],
             [
              0.3333333333333333,
              "#9c179e"
             ],
             [
              0.4444444444444444,
              "#bd3786"
             ],
             [
              0.5555555555555556,
              "#d8576b"
             ],
             [
              0.6666666666666666,
              "#ed7953"
             ],
             [
              0.7777777777777778,
              "#fb9f3a"
             ],
             [
              0.8888888888888888,
              "#fdca26"
             ],
             [
              1,
              "#f0f921"
             ]
            ],
            "type": "histogram2dcontour"
           }
          ],
          "mesh3d": [
           {
            "colorbar": {
             "outlinewidth": 0,
             "ticks": ""
            },
            "type": "mesh3d"
           }
          ],
          "parcoords": [
           {
            "line": {
             "colorbar": {
              "outlinewidth": 0,
              "ticks": ""
             }
            },
            "type": "parcoords"
           }
          ],
          "pie": [
           {
            "automargin": true,
            "type": "pie"
           }
          ],
          "scatter": [
           {
            "fillpattern": {
             "fillmode": "overlay",
             "size": 10,
             "solidity": 0.2
            },
            "type": "scatter"
           }
          ],
          "scatter3d": [
           {
            "line": {
             "colorbar": {
              "outlinewidth": 0,
              "ticks": ""
             }
            },
            "marker": {
             "colorbar": {
              "outlinewidth": 0,
              "ticks": ""
             }
            },
            "type": "scatter3d"
           }
          ],
          "scattercarpet": [
           {
            "marker": {
             "colorbar": {
              "outlinewidth": 0,
              "ticks": ""
             }
            },
            "type": "scattercarpet"
           }
          ],
          "scattergeo": [
           {
            "marker": {
             "colorbar": {
              "outlinewidth": 0,
              "ticks": ""
             }
            },
            "type": "scattergeo"
           }
          ],
          "scattergl": [
           {
            "marker": {
             "colorbar": {
              "outlinewidth": 0,
              "ticks": ""
             }
            },
            "type": "scattergl"
           }
          ],
          "scattermapbox": [
           {
            "marker": {
             "colorbar": {
              "outlinewidth": 0,
              "ticks": ""
             }
            },
            "type": "scattermapbox"
           }
          ],
          "scatterpolar": [
           {
            "marker": {
             "colorbar": {
              "outlinewidth": 0,
              "ticks": ""
             }
            },
            "type": "scatterpolar"
           }
          ],
          "scatterpolargl": [
           {
            "marker": {
             "colorbar": {
              "outlinewidth": 0,
              "ticks": ""
             }
            },
            "type": "scatterpolargl"
           }
          ],
          "scatterternary": [
           {
            "marker": {
             "colorbar": {
              "outlinewidth": 0,
              "ticks": ""
             }
            },
            "type": "scatterternary"
           }
          ],
          "surface": [
           {
            "colorbar": {
             "outlinewidth": 0,
             "ticks": ""
            },
            "colorscale": [
             [
              0,
              "#0d0887"
             ],
             [
              0.1111111111111111,
              "#46039f"
             ],
             [
              0.2222222222222222,
              "#7201a8"
             ],
             [
              0.3333333333333333,
              "#9c179e"
             ],
             [
              0.4444444444444444,
              "#bd3786"
             ],
             [
              0.5555555555555556,
              "#d8576b"
             ],
             [
              0.6666666666666666,
              "#ed7953"
             ],
             [
              0.7777777777777778,
              "#fb9f3a"
             ],
             [
              0.8888888888888888,
              "#fdca26"
             ],
             [
              1,
              "#f0f921"
             ]
            ],
            "type": "surface"
           }
          ],
          "table": [
           {
            "cells": {
             "fill": {
              "color": "#EBF0F8"
             },
             "line": {
              "color": "white"
             }
            },
            "header": {
             "fill": {
              "color": "#C8D4E3"
             },
             "line": {
              "color": "white"
             }
            },
            "type": "table"
           }
          ]
         },
         "layout": {
          "annotationdefaults": {
           "arrowcolor": "#2a3f5f",
           "arrowhead": 0,
           "arrowwidth": 1
          },
          "autotypenumbers": "strict",
          "coloraxis": {
           "colorbar": {
            "outlinewidth": 0,
            "ticks": ""
           }
          },
          "colorscale": {
           "diverging": [
            [
             0,
             "#8e0152"
            ],
            [
             0.1,
             "#c51b7d"
            ],
            [
             0.2,
             "#de77ae"
            ],
            [
             0.3,
             "#f1b6da"
            ],
            [
             0.4,
             "#fde0ef"
            ],
            [
             0.5,
             "#f7f7f7"
            ],
            [
             0.6,
             "#e6f5d0"
            ],
            [
             0.7,
             "#b8e186"
            ],
            [
             0.8,
             "#7fbc41"
            ],
            [
             0.9,
             "#4d9221"
            ],
            [
             1,
             "#276419"
            ]
           ],
           "sequential": [
            [
             0,
             "#0d0887"
            ],
            [
             0.1111111111111111,
             "#46039f"
            ],
            [
             0.2222222222222222,
             "#7201a8"
            ],
            [
             0.3333333333333333,
             "#9c179e"
            ],
            [
             0.4444444444444444,
             "#bd3786"
            ],
            [
             0.5555555555555556,
             "#d8576b"
            ],
            [
             0.6666666666666666,
             "#ed7953"
            ],
            [
             0.7777777777777778,
             "#fb9f3a"
            ],
            [
             0.8888888888888888,
             "#fdca26"
            ],
            [
             1,
             "#f0f921"
            ]
           ],
           "sequentialminus": [
            [
             0,
             "#0d0887"
            ],
            [
             0.1111111111111111,
             "#46039f"
            ],
            [
             0.2222222222222222,
             "#7201a8"
            ],
            [
             0.3333333333333333,
             "#9c179e"
            ],
            [
             0.4444444444444444,
             "#bd3786"
            ],
            [
             0.5555555555555556,
             "#d8576b"
            ],
            [
             0.6666666666666666,
             "#ed7953"
            ],
            [
             0.7777777777777778,
             "#fb9f3a"
            ],
            [
             0.8888888888888888,
             "#fdca26"
            ],
            [
             1,
             "#f0f921"
            ]
           ]
          },
          "colorway": [
           "#636efa",
           "#EF553B",
           "#00cc96",
           "#ab63fa",
           "#FFA15A",
           "#19d3f3",
           "#FF6692",
           "#B6E880",
           "#FF97FF",
           "#FECB52"
          ],
          "font": {
           "color": "#2a3f5f"
          },
          "geo": {
           "bgcolor": "white",
           "lakecolor": "white",
           "landcolor": "white",
           "showlakes": true,
           "showland": true,
           "subunitcolor": "#C8D4E3"
          },
          "hoverlabel": {
           "align": "left"
          },
          "hovermode": "closest",
          "mapbox": {
           "style": "light"
          },
          "paper_bgcolor": "white",
          "plot_bgcolor": "white",
          "polar": {
           "angularaxis": {
            "gridcolor": "#EBF0F8",
            "linecolor": "#EBF0F8",
            "ticks": ""
           },
           "bgcolor": "white",
           "radialaxis": {
            "gridcolor": "#EBF0F8",
            "linecolor": "#EBF0F8",
            "ticks": ""
           }
          },
          "scene": {
           "xaxis": {
            "backgroundcolor": "white",
            "gridcolor": "#DFE8F3",
            "gridwidth": 2,
            "linecolor": "#EBF0F8",
            "showbackground": true,
            "ticks": "",
            "zerolinecolor": "#EBF0F8"
           },
           "yaxis": {
            "backgroundcolor": "white",
            "gridcolor": "#DFE8F3",
            "gridwidth": 2,
            "linecolor": "#EBF0F8",
            "showbackground": true,
            "ticks": "",
            "zerolinecolor": "#EBF0F8"
           },
           "zaxis": {
            "backgroundcolor": "white",
            "gridcolor": "#DFE8F3",
            "gridwidth": 2,
            "linecolor": "#EBF0F8",
            "showbackground": true,
            "ticks": "",
            "zerolinecolor": "#EBF0F8"
           }
          },
          "shapedefaults": {
           "line": {
            "color": "#2a3f5f"
           }
          },
          "ternary": {
           "aaxis": {
            "gridcolor": "#DFE8F3",
            "linecolor": "#A2B1C6",
            "ticks": ""
           },
           "baxis": {
            "gridcolor": "#DFE8F3",
            "linecolor": "#A2B1C6",
            "ticks": ""
           },
           "bgcolor": "white",
           "caxis": {
            "gridcolor": "#DFE8F3",
            "linecolor": "#A2B1C6",
            "ticks": ""
           }
          },
          "title": {
           "x": 0.05
          },
          "xaxis": {
           "automargin": true,
           "gridcolor": "#EBF0F8",
           "linecolor": "#EBF0F8",
           "ticks": "",
           "title": {
            "standoff": 15
           },
           "zerolinecolor": "#EBF0F8",
           "zerolinewidth": 2
          },
          "yaxis": {
           "automargin": true,
           "gridcolor": "#EBF0F8",
           "linecolor": "#EBF0F8",
           "ticks": "",
           "title": {
            "standoff": 15
           },
           "zerolinecolor": "#EBF0F8",
           "zerolinewidth": 2
          }
         }
        },
        "title": {
         "text": "Student Enrollment by Course Certificate Type"
        },
        "width": 800,
        "xaxis": {
         "anchor": "y",
         "domain": [
          0,
          1
         ],
         "title": {
          "text": "Course Certificate"
         }
        },
        "yaxis": {
         "anchor": "x",
         "domain": [
          0,
          1
         ],
         "showgrid": false,
         "title": {
          "text": "Number of Students Enrolled"
         }
        }
       }
      },
      "text/html": [
       "<div>                            <div id=\"0590c1a1-cbbf-43c6-bb69-b3c4bc8088e8\" class=\"plotly-graph-div\" style=\"height:550px; width:800px;\"></div>            <script type=\"text/javascript\">                require([\"plotly\"], function(Plotly) {                    window.PLOTLYENV=window.PLOTLYENV || {};                                    if (document.getElementById(\"0590c1a1-cbbf-43c6-bb69-b3c4bc8088e8\")) {                    Plotly.newPlot(                        \"0590c1a1-cbbf-43c6-bb69-b3c4bc8088e8\",                        [{\"alignmentgroup\":\"True\",\"hovertemplate\":\"\\u003cb\\u003e%{hovertext}\\u003c\\u002fb\\u003e\\u003cbr\\u003e\\u003cbr\\u003eCourse Certificate=%{x}\\u003cbr\\u003eNumber of Students Enrolled=%{text}\\u003cextra\\u003e\\u003c\\u002fextra\\u003e\",\"hovertext\":[\"COURSE\",\"SPECIALIZATION\",\"PROFESSIONAL CERTIFICATE\"],\"legendgroup\":\"\",\"marker\":{\"color\":\"rgb(136,204,238)\",\"pattern\":{\"shape\":\"\"}},\"name\":\"\",\"offsetgroup\":\"\",\"orientation\":\"v\",\"showlegend\":false,\"text\":[51131300.0,27262200.0,2288400.0],\"textposition\":\"outside\",\"x\":[\"COURSE\",\"SPECIALIZATION\",\"PROFESSIONAL CERTIFICATE\"],\"xaxis\":\"x\",\"y\":[51131300.0,27262200.0,2288400.0],\"yaxis\":\"y\",\"type\":\"bar\",\"texttemplate\":\"%{text:.2s}\"}],                        {\"template\":{\"data\":{\"barpolar\":[{\"marker\":{\"line\":{\"color\":\"white\",\"width\":0.5},\"pattern\":{\"fillmode\":\"overlay\",\"size\":10,\"solidity\":0.2}},\"type\":\"barpolar\"}],\"bar\":[{\"error_x\":{\"color\":\"#2a3f5f\"},\"error_y\":{\"color\":\"#2a3f5f\"},\"marker\":{\"line\":{\"color\":\"white\",\"width\":0.5},\"pattern\":{\"fillmode\":\"overlay\",\"size\":10,\"solidity\":0.2}},\"type\":\"bar\"}],\"carpet\":[{\"aaxis\":{\"endlinecolor\":\"#2a3f5f\",\"gridcolor\":\"#C8D4E3\",\"linecolor\":\"#C8D4E3\",\"minorgridcolor\":\"#C8D4E3\",\"startlinecolor\":\"#2a3f5f\"},\"baxis\":{\"endlinecolor\":\"#2a3f5f\",\"gridcolor\":\"#C8D4E3\",\"linecolor\":\"#C8D4E3\",\"minorgridcolor\":\"#C8D4E3\",\"startlinecolor\":\"#2a3f5f\"},\"type\":\"carpet\"}],\"choropleth\":[{\"colorbar\":{\"outlinewidth\":0,\"ticks\":\"\"},\"type\":\"choropleth\"}],\"contourcarpet\":[{\"colorbar\":{\"outlinewidth\":0,\"ticks\":\"\"},\"type\":\"contourcarpet\"}],\"contour\":[{\"colorbar\":{\"outlinewidth\":0,\"ticks\":\"\"},\"colorscale\":[[0.0,\"#0d0887\"],[0.1111111111111111,\"#46039f\"],[0.2222222222222222,\"#7201a8\"],[0.3333333333333333,\"#9c179e\"],[0.4444444444444444,\"#bd3786\"],[0.5555555555555556,\"#d8576b\"],[0.6666666666666666,\"#ed7953\"],[0.7777777777777778,\"#fb9f3a\"],[0.8888888888888888,\"#fdca26\"],[1.0,\"#f0f921\"]],\"type\":\"contour\"}],\"heatmapgl\":[{\"colorbar\":{\"outlinewidth\":0,\"ticks\":\"\"},\"colorscale\":[[0.0,\"#0d0887\"],[0.1111111111111111,\"#46039f\"],[0.2222222222222222,\"#7201a8\"],[0.3333333333333333,\"#9c179e\"],[0.4444444444444444,\"#bd3786\"],[0.5555555555555556,\"#d8576b\"],[0.6666666666666666,\"#ed7953\"],[0.7777777777777778,\"#fb9f3a\"],[0.8888888888888888,\"#fdca26\"],[1.0,\"#f0f921\"]],\"type\":\"heatmapgl\"}],\"heatmap\":[{\"colorbar\":{\"outlinewidth\":0,\"ticks\":\"\"},\"colorscale\":[[0.0,\"#0d0887\"],[0.1111111111111111,\"#46039f\"],[0.2222222222222222,\"#7201a8\"],[0.3333333333333333,\"#9c179e\"],[0.4444444444444444,\"#bd3786\"],[0.5555555555555556,\"#d8576b\"],[0.6666666666666666,\"#ed7953\"],[0.7777777777777778,\"#fb9f3a\"],[0.8888888888888888,\"#fdca26\"],[1.0,\"#f0f921\"]],\"type\":\"heatmap\"}],\"histogram2dcontour\":[{\"colorbar\":{\"outlinewidth\":0,\"ticks\":\"\"},\"colorscale\":[[0.0,\"#0d0887\"],[0.1111111111111111,\"#46039f\"],[0.2222222222222222,\"#7201a8\"],[0.3333333333333333,\"#9c179e\"],[0.4444444444444444,\"#bd3786\"],[0.5555555555555556,\"#d8576b\"],[0.6666666666666666,\"#ed7953\"],[0.7777777777777778,\"#fb9f3a\"],[0.8888888888888888,\"#fdca26\"],[1.0,\"#f0f921\"]],\"type\":\"histogram2dcontour\"}],\"histogram2d\":[{\"colorbar\":{\"outlinewidth\":0,\"ticks\":\"\"},\"colorscale\":[[0.0,\"#0d0887\"],[0.1111111111111111,\"#46039f\"],[0.2222222222222222,\"#7201a8\"],[0.3333333333333333,\"#9c179e\"],[0.4444444444444444,\"#bd3786\"],[0.5555555555555556,\"#d8576b\"],[0.6666666666666666,\"#ed7953\"],[0.7777777777777778,\"#fb9f3a\"],[0.8888888888888888,\"#fdca26\"],[1.0,\"#f0f921\"]],\"type\":\"histogram2d\"}],\"histogram\":[{\"marker\":{\"pattern\":{\"fillmode\":\"overlay\",\"size\":10,\"solidity\":0.2}},\"type\":\"histogram\"}],\"mesh3d\":[{\"colorbar\":{\"outlinewidth\":0,\"ticks\":\"\"},\"type\":\"mesh3d\"}],\"parcoords\":[{\"line\":{\"colorbar\":{\"outlinewidth\":0,\"ticks\":\"\"}},\"type\":\"parcoords\"}],\"pie\":[{\"automargin\":true,\"type\":\"pie\"}],\"scatter3d\":[{\"line\":{\"colorbar\":{\"outlinewidth\":0,\"ticks\":\"\"}},\"marker\":{\"colorbar\":{\"outlinewidth\":0,\"ticks\":\"\"}},\"type\":\"scatter3d\"}],\"scattercarpet\":[{\"marker\":{\"colorbar\":{\"outlinewidth\":0,\"ticks\":\"\"}},\"type\":\"scattercarpet\"}],\"scattergeo\":[{\"marker\":{\"colorbar\":{\"outlinewidth\":0,\"ticks\":\"\"}},\"type\":\"scattergeo\"}],\"scattergl\":[{\"marker\":{\"colorbar\":{\"outlinewidth\":0,\"ticks\":\"\"}},\"type\":\"scattergl\"}],\"scattermapbox\":[{\"marker\":{\"colorbar\":{\"outlinewidth\":0,\"ticks\":\"\"}},\"type\":\"scattermapbox\"}],\"scatterpolargl\":[{\"marker\":{\"colorbar\":{\"outlinewidth\":0,\"ticks\":\"\"}},\"type\":\"scatterpolargl\"}],\"scatterpolar\":[{\"marker\":{\"colorbar\":{\"outlinewidth\":0,\"ticks\":\"\"}},\"type\":\"scatterpolar\"}],\"scatter\":[{\"fillpattern\":{\"fillmode\":\"overlay\",\"size\":10,\"solidity\":0.2},\"type\":\"scatter\"}],\"scatterternary\":[{\"marker\":{\"colorbar\":{\"outlinewidth\":0,\"ticks\":\"\"}},\"type\":\"scatterternary\"}],\"surface\":[{\"colorbar\":{\"outlinewidth\":0,\"ticks\":\"\"},\"colorscale\":[[0.0,\"#0d0887\"],[0.1111111111111111,\"#46039f\"],[0.2222222222222222,\"#7201a8\"],[0.3333333333333333,\"#9c179e\"],[0.4444444444444444,\"#bd3786\"],[0.5555555555555556,\"#d8576b\"],[0.6666666666666666,\"#ed7953\"],[0.7777777777777778,\"#fb9f3a\"],[0.8888888888888888,\"#fdca26\"],[1.0,\"#f0f921\"]],\"type\":\"surface\"}],\"table\":[{\"cells\":{\"fill\":{\"color\":\"#EBF0F8\"},\"line\":{\"color\":\"white\"}},\"header\":{\"fill\":{\"color\":\"#C8D4E3\"},\"line\":{\"color\":\"white\"}},\"type\":\"table\"}]},\"layout\":{\"annotationdefaults\":{\"arrowcolor\":\"#2a3f5f\",\"arrowhead\":0,\"arrowwidth\":1},\"autotypenumbers\":\"strict\",\"coloraxis\":{\"colorbar\":{\"outlinewidth\":0,\"ticks\":\"\"}},\"colorscale\":{\"diverging\":[[0,\"#8e0152\"],[0.1,\"#c51b7d\"],[0.2,\"#de77ae\"],[0.3,\"#f1b6da\"],[0.4,\"#fde0ef\"],[0.5,\"#f7f7f7\"],[0.6,\"#e6f5d0\"],[0.7,\"#b8e186\"],[0.8,\"#7fbc41\"],[0.9,\"#4d9221\"],[1,\"#276419\"]],\"sequential\":[[0.0,\"#0d0887\"],[0.1111111111111111,\"#46039f\"],[0.2222222222222222,\"#7201a8\"],[0.3333333333333333,\"#9c179e\"],[0.4444444444444444,\"#bd3786\"],[0.5555555555555556,\"#d8576b\"],[0.6666666666666666,\"#ed7953\"],[0.7777777777777778,\"#fb9f3a\"],[0.8888888888888888,\"#fdca26\"],[1.0,\"#f0f921\"]],\"sequentialminus\":[[0.0,\"#0d0887\"],[0.1111111111111111,\"#46039f\"],[0.2222222222222222,\"#7201a8\"],[0.3333333333333333,\"#9c179e\"],[0.4444444444444444,\"#bd3786\"],[0.5555555555555556,\"#d8576b\"],[0.6666666666666666,\"#ed7953\"],[0.7777777777777778,\"#fb9f3a\"],[0.8888888888888888,\"#fdca26\"],[1.0,\"#f0f921\"]]},\"colorway\":[\"#636efa\",\"#EF553B\",\"#00cc96\",\"#ab63fa\",\"#FFA15A\",\"#19d3f3\",\"#FF6692\",\"#B6E880\",\"#FF97FF\",\"#FECB52\"],\"font\":{\"color\":\"#2a3f5f\"},\"geo\":{\"bgcolor\":\"white\",\"lakecolor\":\"white\",\"landcolor\":\"white\",\"showlakes\":true,\"showland\":true,\"subunitcolor\":\"#C8D4E3\"},\"hoverlabel\":{\"align\":\"left\"},\"hovermode\":\"closest\",\"mapbox\":{\"style\":\"light\"},\"paper_bgcolor\":\"white\",\"plot_bgcolor\":\"white\",\"polar\":{\"angularaxis\":{\"gridcolor\":\"#EBF0F8\",\"linecolor\":\"#EBF0F8\",\"ticks\":\"\"},\"bgcolor\":\"white\",\"radialaxis\":{\"gridcolor\":\"#EBF0F8\",\"linecolor\":\"#EBF0F8\",\"ticks\":\"\"}},\"scene\":{\"xaxis\":{\"backgroundcolor\":\"white\",\"gridcolor\":\"#DFE8F3\",\"gridwidth\":2,\"linecolor\":\"#EBF0F8\",\"showbackground\":true,\"ticks\":\"\",\"zerolinecolor\":\"#EBF0F8\"},\"yaxis\":{\"backgroundcolor\":\"white\",\"gridcolor\":\"#DFE8F3\",\"gridwidth\":2,\"linecolor\":\"#EBF0F8\",\"showbackground\":true,\"ticks\":\"\",\"zerolinecolor\":\"#EBF0F8\"},\"zaxis\":{\"backgroundcolor\":\"white\",\"gridcolor\":\"#DFE8F3\",\"gridwidth\":2,\"linecolor\":\"#EBF0F8\",\"showbackground\":true,\"ticks\":\"\",\"zerolinecolor\":\"#EBF0F8\"}},\"shapedefaults\":{\"line\":{\"color\":\"#2a3f5f\"}},\"ternary\":{\"aaxis\":{\"gridcolor\":\"#DFE8F3\",\"linecolor\":\"#A2B1C6\",\"ticks\":\"\"},\"baxis\":{\"gridcolor\":\"#DFE8F3\",\"linecolor\":\"#A2B1C6\",\"ticks\":\"\"},\"bgcolor\":\"white\",\"caxis\":{\"gridcolor\":\"#DFE8F3\",\"linecolor\":\"#A2B1C6\",\"ticks\":\"\"}},\"title\":{\"x\":0.05},\"xaxis\":{\"automargin\":true,\"gridcolor\":\"#EBF0F8\",\"linecolor\":\"#EBF0F8\",\"ticks\":\"\",\"title\":{\"standoff\":15},\"zerolinecolor\":\"#EBF0F8\",\"zerolinewidth\":2},\"yaxis\":{\"automargin\":true,\"gridcolor\":\"#EBF0F8\",\"linecolor\":\"#EBF0F8\",\"ticks\":\"\",\"title\":{\"standoff\":15},\"zerolinecolor\":\"#EBF0F8\",\"zerolinewidth\":2}}},\"xaxis\":{\"anchor\":\"y\",\"domain\":[0.0,1.0],\"title\":{\"text\":\"Course Certificate\"}},\"yaxis\":{\"anchor\":\"x\",\"domain\":[0.0,1.0],\"title\":{\"text\":\"Number of Students Enrolled\"},\"showgrid\":false},\"legend\":{\"tracegroupgap\":0},\"title\":{\"text\":\"Student Enrollment by Course Certificate Type\"},\"barmode\":\"relative\",\"width\":800,\"height\":550},                        {\"responsive\": true}                    ).then(function(){\n",
       "                            \n",
       "var gd = document.getElementById('0590c1a1-cbbf-43c6-bb69-b3c4bc8088e8');\n",
       "var x = new MutationObserver(function (mutations, observer) {{\n",
       "        var display = window.getComputedStyle(gd).display;\n",
       "        if (!display || display === 'none') {{\n",
       "            console.log([gd, 'removed!']);\n",
       "            Plotly.purge(gd);\n",
       "            observer.disconnect();\n",
       "        }}\n",
       "}});\n",
       "\n",
       "// Listen for the removal of the full notebook cells\n",
       "var notebookContainer = gd.closest('#notebook-container');\n",
       "if (notebookContainer) {{\n",
       "    x.observe(notebookContainer, {childList: true});\n",
       "}}\n",
       "\n",
       "// Listen for the clearing of the current output cell\n",
       "var outputEl = gd.closest('.output');\n",
       "if (outputEl) {{\n",
       "    x.observe(outputEl, {childList: true});\n",
       "}}\n",
       "\n",
       "                        })                };                });            </script>        </div>"
      ]
     },
     "metadata": {},
     "output_type": "display_data"
    }
   ],
   "source": [
    "#Count how many students are enrolled in each course difficulty\n",
    "enrollment_by_difficulty = coursera_df.groupby(\"course_Certificate_type\")[\"course_students_enrolled_float\"].sum().reset_index(name=\"enrollment\")\n",
    "enrollment_by_difficulty = enrollment_by_difficulty.sort_values(by=\"enrollment\", ascending=False)\n",
    "\n",
    "#Plot a bar chart displaying number of students enrolled to each course certificate type\n",
    "fig_12 = px.bar(enrollment_by_difficulty,\n",
    "                x=\"course_Certificate_type\",\n",
    "                y=\"enrollment\",\n",
    "                title=\"Student Enrollment by Course Certificate Type\",\n",
    "                labels={\"course_Certificate_type\":\"Course Certificate\",\\\n",
    "                      \"enrollment\" : \"Number of Students Enrolled\"},\n",
    "                text=\"enrollment\",\n",
    "                template=\"plotly_white\",\n",
    "                hover_name=\"course_Certificate_type\")\n",
    "\n",
    "fig_12.update_traces(texttemplate=\"%{text:.2s}\",\n",
    "                    textposition=\"outside\",\n",
    "                    marker_color=\"rgb(136,204,238)\")\n",
    "\n",
    "fig_12.update_layout(width=800,\n",
    "                    height=550,\n",
    "                    yaxis=dict(showgrid=False))\n",
    "\n",
    "fig_12.show()\n"
   ]
  },
  {
   "cell_type": "markdown",
   "metadata": {},
   "source": [
    "> 4.19. Which certification type tends to be associated with higher-rated courses?"
   ]
  },
  {
   "cell_type": "code",
   "execution_count": 87,
   "metadata": {},
   "outputs": [
    {
     "data": {
      "application/vnd.plotly.v1+json": {
       "config": {
        "plotlyServerURL": "https://plot.ly"
       },
       "data": [
        {
         "alignmentgroup": "True",
         "hovertemplate": "<b>%{hovertext}</b><br><br>Course Certificate=%{x}<br>Mean Rating=%{text}<extra></extra>",
         "hovertext": [
          "COURSE",
          "PROFESSIONAL CERTIFICATE",
          "SPECIALIZATION"
         ],
         "legendgroup": "",
         "marker": {
          "color": "rgb(136,204,238)",
          "pattern": {
           "shape": ""
          }
         },
         "name": "",
         "offsetgroup": "",
         "orientation": "v",
         "showlegend": false,
         "text": [
          4.707044673539519,
          4.7,
          4.618181818181818
         ],
         "textposition": "outside",
         "texttemplate": "%{text:.2s}",
         "type": "bar",
         "x": [
          "COURSE",
          "PROFESSIONAL CERTIFICATE",
          "SPECIALIZATION"
         ],
         "xaxis": "x",
         "y": [
          4.707044673539519,
          4.7,
          4.618181818181818
         ],
         "yaxis": "y"
        }
       ],
       "layout": {
        "barmode": "relative",
        "font": {
         "size": 14
        },
        "height": 550,
        "legend": {
         "tracegroupgap": 0
        },
        "template": {
         "data": {
          "bar": [
           {
            "error_x": {
             "color": "#2a3f5f"
            },
            "error_y": {
             "color": "#2a3f5f"
            },
            "marker": {
             "line": {
              "color": "white",
              "width": 0.5
             },
             "pattern": {
              "fillmode": "overlay",
              "size": 10,
              "solidity": 0.2
             }
            },
            "type": "bar"
           }
          ],
          "barpolar": [
           {
            "marker": {
             "line": {
              "color": "white",
              "width": 0.5
             },
             "pattern": {
              "fillmode": "overlay",
              "size": 10,
              "solidity": 0.2
             }
            },
            "type": "barpolar"
           }
          ],
          "carpet": [
           {
            "aaxis": {
             "endlinecolor": "#2a3f5f",
             "gridcolor": "#C8D4E3",
             "linecolor": "#C8D4E3",
             "minorgridcolor": "#C8D4E3",
             "startlinecolor": "#2a3f5f"
            },
            "baxis": {
             "endlinecolor": "#2a3f5f",
             "gridcolor": "#C8D4E3",
             "linecolor": "#C8D4E3",
             "minorgridcolor": "#C8D4E3",
             "startlinecolor": "#2a3f5f"
            },
            "type": "carpet"
           }
          ],
          "choropleth": [
           {
            "colorbar": {
             "outlinewidth": 0,
             "ticks": ""
            },
            "type": "choropleth"
           }
          ],
          "contour": [
           {
            "colorbar": {
             "outlinewidth": 0,
             "ticks": ""
            },
            "colorscale": [
             [
              0,
              "#0d0887"
             ],
             [
              0.1111111111111111,
              "#46039f"
             ],
             [
              0.2222222222222222,
              "#7201a8"
             ],
             [
              0.3333333333333333,
              "#9c179e"
             ],
             [
              0.4444444444444444,
              "#bd3786"
             ],
             [
              0.5555555555555556,
              "#d8576b"
             ],
             [
              0.6666666666666666,
              "#ed7953"
             ],
             [
              0.7777777777777778,
              "#fb9f3a"
             ],
             [
              0.8888888888888888,
              "#fdca26"
             ],
             [
              1,
              "#f0f921"
             ]
            ],
            "type": "contour"
           }
          ],
          "contourcarpet": [
           {
            "colorbar": {
             "outlinewidth": 0,
             "ticks": ""
            },
            "type": "contourcarpet"
           }
          ],
          "heatmap": [
           {
            "colorbar": {
             "outlinewidth": 0,
             "ticks": ""
            },
            "colorscale": [
             [
              0,
              "#0d0887"
             ],
             [
              0.1111111111111111,
              "#46039f"
             ],
             [
              0.2222222222222222,
              "#7201a8"
             ],
             [
              0.3333333333333333,
              "#9c179e"
             ],
             [
              0.4444444444444444,
              "#bd3786"
             ],
             [
              0.5555555555555556,
              "#d8576b"
             ],
             [
              0.6666666666666666,
              "#ed7953"
             ],
             [
              0.7777777777777778,
              "#fb9f3a"
             ],
             [
              0.8888888888888888,
              "#fdca26"
             ],
             [
              1,
              "#f0f921"
             ]
            ],
            "type": "heatmap"
           }
          ],
          "heatmapgl": [
           {
            "colorbar": {
             "outlinewidth": 0,
             "ticks": ""
            },
            "colorscale": [
             [
              0,
              "#0d0887"
             ],
             [
              0.1111111111111111,
              "#46039f"
             ],
             [
              0.2222222222222222,
              "#7201a8"
             ],
             [
              0.3333333333333333,
              "#9c179e"
             ],
             [
              0.4444444444444444,
              "#bd3786"
             ],
             [
              0.5555555555555556,
              "#d8576b"
             ],
             [
              0.6666666666666666,
              "#ed7953"
             ],
             [
              0.7777777777777778,
              "#fb9f3a"
             ],
             [
              0.8888888888888888,
              "#fdca26"
             ],
             [
              1,
              "#f0f921"
             ]
            ],
            "type": "heatmapgl"
           }
          ],
          "histogram": [
           {
            "marker": {
             "pattern": {
              "fillmode": "overlay",
              "size": 10,
              "solidity": 0.2
             }
            },
            "type": "histogram"
           }
          ],
          "histogram2d": [
           {
            "colorbar": {
             "outlinewidth": 0,
             "ticks": ""
            },
            "colorscale": [
             [
              0,
              "#0d0887"
             ],
             [
              0.1111111111111111,
              "#46039f"
             ],
             [
              0.2222222222222222,
              "#7201a8"
             ],
             [
              0.3333333333333333,
              "#9c179e"
             ],
             [
              0.4444444444444444,
              "#bd3786"
             ],
             [
              0.5555555555555556,
              "#d8576b"
             ],
             [
              0.6666666666666666,
              "#ed7953"
             ],
             [
              0.7777777777777778,
              "#fb9f3a"
             ],
             [
              0.8888888888888888,
              "#fdca26"
             ],
             [
              1,
              "#f0f921"
             ]
            ],
            "type": "histogram2d"
           }
          ],
          "histogram2dcontour": [
           {
            "colorbar": {
             "outlinewidth": 0,
             "ticks": ""
            },
            "colorscale": [
             [
              0,
              "#0d0887"
             ],
             [
              0.1111111111111111,
              "#46039f"
             ],
             [
              0.2222222222222222,
              "#7201a8"
             ],
             [
              0.3333333333333333,
              "#9c179e"
             ],
             [
              0.4444444444444444,
              "#bd3786"
             ],
             [
              0.5555555555555556,
              "#d8576b"
             ],
             [
              0.6666666666666666,
              "#ed7953"
             ],
             [
              0.7777777777777778,
              "#fb9f3a"
             ],
             [
              0.8888888888888888,
              "#fdca26"
             ],
             [
              1,
              "#f0f921"
             ]
            ],
            "type": "histogram2dcontour"
           }
          ],
          "mesh3d": [
           {
            "colorbar": {
             "outlinewidth": 0,
             "ticks": ""
            },
            "type": "mesh3d"
           }
          ],
          "parcoords": [
           {
            "line": {
             "colorbar": {
              "outlinewidth": 0,
              "ticks": ""
             }
            },
            "type": "parcoords"
           }
          ],
          "pie": [
           {
            "automargin": true,
            "type": "pie"
           }
          ],
          "scatter": [
           {
            "fillpattern": {
             "fillmode": "overlay",
             "size": 10,
             "solidity": 0.2
            },
            "type": "scatter"
           }
          ],
          "scatter3d": [
           {
            "line": {
             "colorbar": {
              "outlinewidth": 0,
              "ticks": ""
             }
            },
            "marker": {
             "colorbar": {
              "outlinewidth": 0,
              "ticks": ""
             }
            },
            "type": "scatter3d"
           }
          ],
          "scattercarpet": [
           {
            "marker": {
             "colorbar": {
              "outlinewidth": 0,
              "ticks": ""
             }
            },
            "type": "scattercarpet"
           }
          ],
          "scattergeo": [
           {
            "marker": {
             "colorbar": {
              "outlinewidth": 0,
              "ticks": ""
             }
            },
            "type": "scattergeo"
           }
          ],
          "scattergl": [
           {
            "marker": {
             "colorbar": {
              "outlinewidth": 0,
              "ticks": ""
             }
            },
            "type": "scattergl"
           }
          ],
          "scattermapbox": [
           {
            "marker": {
             "colorbar": {
              "outlinewidth": 0,
              "ticks": ""
             }
            },
            "type": "scattermapbox"
           }
          ],
          "scatterpolar": [
           {
            "marker": {
             "colorbar": {
              "outlinewidth": 0,
              "ticks": ""
             }
            },
            "type": "scatterpolar"
           }
          ],
          "scatterpolargl": [
           {
            "marker": {
             "colorbar": {
              "outlinewidth": 0,
              "ticks": ""
             }
            },
            "type": "scatterpolargl"
           }
          ],
          "scatterternary": [
           {
            "marker": {
             "colorbar": {
              "outlinewidth": 0,
              "ticks": ""
             }
            },
            "type": "scatterternary"
           }
          ],
          "surface": [
           {
            "colorbar": {
             "outlinewidth": 0,
             "ticks": ""
            },
            "colorscale": [
             [
              0,
              "#0d0887"
             ],
             [
              0.1111111111111111,
              "#46039f"
             ],
             [
              0.2222222222222222,
              "#7201a8"
             ],
             [
              0.3333333333333333,
              "#9c179e"
             ],
             [
              0.4444444444444444,
              "#bd3786"
             ],
             [
              0.5555555555555556,
              "#d8576b"
             ],
             [
              0.6666666666666666,
              "#ed7953"
             ],
             [
              0.7777777777777778,
              "#fb9f3a"
             ],
             [
              0.8888888888888888,
              "#fdca26"
             ],
             [
              1,
              "#f0f921"
             ]
            ],
            "type": "surface"
           }
          ],
          "table": [
           {
            "cells": {
             "fill": {
              "color": "#EBF0F8"
             },
             "line": {
              "color": "white"
             }
            },
            "header": {
             "fill": {
              "color": "#C8D4E3"
             },
             "line": {
              "color": "white"
             }
            },
            "type": "table"
           }
          ]
         },
         "layout": {
          "annotationdefaults": {
           "arrowcolor": "#2a3f5f",
           "arrowhead": 0,
           "arrowwidth": 1
          },
          "autotypenumbers": "strict",
          "coloraxis": {
           "colorbar": {
            "outlinewidth": 0,
            "ticks": ""
           }
          },
          "colorscale": {
           "diverging": [
            [
             0,
             "#8e0152"
            ],
            [
             0.1,
             "#c51b7d"
            ],
            [
             0.2,
             "#de77ae"
            ],
            [
             0.3,
             "#f1b6da"
            ],
            [
             0.4,
             "#fde0ef"
            ],
            [
             0.5,
             "#f7f7f7"
            ],
            [
             0.6,
             "#e6f5d0"
            ],
            [
             0.7,
             "#b8e186"
            ],
            [
             0.8,
             "#7fbc41"
            ],
            [
             0.9,
             "#4d9221"
            ],
            [
             1,
             "#276419"
            ]
           ],
           "sequential": [
            [
             0,
             "#0d0887"
            ],
            [
             0.1111111111111111,
             "#46039f"
            ],
            [
             0.2222222222222222,
             "#7201a8"
            ],
            [
             0.3333333333333333,
             "#9c179e"
            ],
            [
             0.4444444444444444,
             "#bd3786"
            ],
            [
             0.5555555555555556,
             "#d8576b"
            ],
            [
             0.6666666666666666,
             "#ed7953"
            ],
            [
             0.7777777777777778,
             "#fb9f3a"
            ],
            [
             0.8888888888888888,
             "#fdca26"
            ],
            [
             1,
             "#f0f921"
            ]
           ],
           "sequentialminus": [
            [
             0,
             "#0d0887"
            ],
            [
             0.1111111111111111,
             "#46039f"
            ],
            [
             0.2222222222222222,
             "#7201a8"
            ],
            [
             0.3333333333333333,
             "#9c179e"
            ],
            [
             0.4444444444444444,
             "#bd3786"
            ],
            [
             0.5555555555555556,
             "#d8576b"
            ],
            [
             0.6666666666666666,
             "#ed7953"
            ],
            [
             0.7777777777777778,
             "#fb9f3a"
            ],
            [
             0.8888888888888888,
             "#fdca26"
            ],
            [
             1,
             "#f0f921"
            ]
           ]
          },
          "colorway": [
           "#636efa",
           "#EF553B",
           "#00cc96",
           "#ab63fa",
           "#FFA15A",
           "#19d3f3",
           "#FF6692",
           "#B6E880",
           "#FF97FF",
           "#FECB52"
          ],
          "font": {
           "color": "#2a3f5f"
          },
          "geo": {
           "bgcolor": "white",
           "lakecolor": "white",
           "landcolor": "white",
           "showlakes": true,
           "showland": true,
           "subunitcolor": "#C8D4E3"
          },
          "hoverlabel": {
           "align": "left"
          },
          "hovermode": "closest",
          "mapbox": {
           "style": "light"
          },
          "paper_bgcolor": "white",
          "plot_bgcolor": "white",
          "polar": {
           "angularaxis": {
            "gridcolor": "#EBF0F8",
            "linecolor": "#EBF0F8",
            "ticks": ""
           },
           "bgcolor": "white",
           "radialaxis": {
            "gridcolor": "#EBF0F8",
            "linecolor": "#EBF0F8",
            "ticks": ""
           }
          },
          "scene": {
           "xaxis": {
            "backgroundcolor": "white",
            "gridcolor": "#DFE8F3",
            "gridwidth": 2,
            "linecolor": "#EBF0F8",
            "showbackground": true,
            "ticks": "",
            "zerolinecolor": "#EBF0F8"
           },
           "yaxis": {
            "backgroundcolor": "white",
            "gridcolor": "#DFE8F3",
            "gridwidth": 2,
            "linecolor": "#EBF0F8",
            "showbackground": true,
            "ticks": "",
            "zerolinecolor": "#EBF0F8"
           },
           "zaxis": {
            "backgroundcolor": "white",
            "gridcolor": "#DFE8F3",
            "gridwidth": 2,
            "linecolor": "#EBF0F8",
            "showbackground": true,
            "ticks": "",
            "zerolinecolor": "#EBF0F8"
           }
          },
          "shapedefaults": {
           "line": {
            "color": "#2a3f5f"
           }
          },
          "ternary": {
           "aaxis": {
            "gridcolor": "#DFE8F3",
            "linecolor": "#A2B1C6",
            "ticks": ""
           },
           "baxis": {
            "gridcolor": "#DFE8F3",
            "linecolor": "#A2B1C6",
            "ticks": ""
           },
           "bgcolor": "white",
           "caxis": {
            "gridcolor": "#DFE8F3",
            "linecolor": "#A2B1C6",
            "ticks": ""
           }
          },
          "title": {
           "x": 0.05
          },
          "xaxis": {
           "automargin": true,
           "gridcolor": "#EBF0F8",
           "linecolor": "#EBF0F8",
           "ticks": "",
           "title": {
            "standoff": 15
           },
           "zerolinecolor": "#EBF0F8",
           "zerolinewidth": 2
          },
          "yaxis": {
           "automargin": true,
           "gridcolor": "#EBF0F8",
           "linecolor": "#EBF0F8",
           "ticks": "",
           "title": {
            "standoff": 15
           },
           "zerolinecolor": "#EBF0F8",
           "zerolinewidth": 2
          }
         }
        },
        "title": {
         "text": "Mean Rating by Course Certificate Type",
         "x": 0.45
        },
        "width": 800,
        "xaxis": {
         "anchor": "y",
         "domain": [
          0,
          1
         ],
         "title": {
          "text": "Course Certificate"
         }
        },
        "yaxis": {
         "anchor": "x",
         "domain": [
          0,
          1
         ],
         "showgrid": false,
         "title": {
          "text": "Mean Rating"
         }
        }
       }
      },
      "text/html": [
       "<div>                            <div id=\"8506c928-d385-4ba2-8d83-066634b3010f\" class=\"plotly-graph-div\" style=\"height:550px; width:800px;\"></div>            <script type=\"text/javascript\">                require([\"plotly\"], function(Plotly) {                    window.PLOTLYENV=window.PLOTLYENV || {};                                    if (document.getElementById(\"8506c928-d385-4ba2-8d83-066634b3010f\")) {                    Plotly.newPlot(                        \"8506c928-d385-4ba2-8d83-066634b3010f\",                        [{\"alignmentgroup\":\"True\",\"hovertemplate\":\"\\u003cb\\u003e%{hovertext}\\u003c\\u002fb\\u003e\\u003cbr\\u003e\\u003cbr\\u003eCourse Certificate=%{x}\\u003cbr\\u003eMean Rating=%{text}\\u003cextra\\u003e\\u003c\\u002fextra\\u003e\",\"hovertext\":[\"COURSE\",\"PROFESSIONAL CERTIFICATE\",\"SPECIALIZATION\"],\"legendgroup\":\"\",\"marker\":{\"color\":\"rgb(136,204,238)\",\"pattern\":{\"shape\":\"\"}},\"name\":\"\",\"offsetgroup\":\"\",\"orientation\":\"v\",\"showlegend\":false,\"text\":[4.707044673539519,4.7,4.618181818181818],\"textposition\":\"outside\",\"x\":[\"COURSE\",\"PROFESSIONAL CERTIFICATE\",\"SPECIALIZATION\"],\"xaxis\":\"x\",\"y\":[4.707044673539519,4.7,4.618181818181818],\"yaxis\":\"y\",\"type\":\"bar\",\"texttemplate\":\"%{text:.2s}\"}],                        {\"template\":{\"data\":{\"barpolar\":[{\"marker\":{\"line\":{\"color\":\"white\",\"width\":0.5},\"pattern\":{\"fillmode\":\"overlay\",\"size\":10,\"solidity\":0.2}},\"type\":\"barpolar\"}],\"bar\":[{\"error_x\":{\"color\":\"#2a3f5f\"},\"error_y\":{\"color\":\"#2a3f5f\"},\"marker\":{\"line\":{\"color\":\"white\",\"width\":0.5},\"pattern\":{\"fillmode\":\"overlay\",\"size\":10,\"solidity\":0.2}},\"type\":\"bar\"}],\"carpet\":[{\"aaxis\":{\"endlinecolor\":\"#2a3f5f\",\"gridcolor\":\"#C8D4E3\",\"linecolor\":\"#C8D4E3\",\"minorgridcolor\":\"#C8D4E3\",\"startlinecolor\":\"#2a3f5f\"},\"baxis\":{\"endlinecolor\":\"#2a3f5f\",\"gridcolor\":\"#C8D4E3\",\"linecolor\":\"#C8D4E3\",\"minorgridcolor\":\"#C8D4E3\",\"startlinecolor\":\"#2a3f5f\"},\"type\":\"carpet\"}],\"choropleth\":[{\"colorbar\":{\"outlinewidth\":0,\"ticks\":\"\"},\"type\":\"choropleth\"}],\"contourcarpet\":[{\"colorbar\":{\"outlinewidth\":0,\"ticks\":\"\"},\"type\":\"contourcarpet\"}],\"contour\":[{\"colorbar\":{\"outlinewidth\":0,\"ticks\":\"\"},\"colorscale\":[[0.0,\"#0d0887\"],[0.1111111111111111,\"#46039f\"],[0.2222222222222222,\"#7201a8\"],[0.3333333333333333,\"#9c179e\"],[0.4444444444444444,\"#bd3786\"],[0.5555555555555556,\"#d8576b\"],[0.6666666666666666,\"#ed7953\"],[0.7777777777777778,\"#fb9f3a\"],[0.8888888888888888,\"#fdca26\"],[1.0,\"#f0f921\"]],\"type\":\"contour\"}],\"heatmapgl\":[{\"colorbar\":{\"outlinewidth\":0,\"ticks\":\"\"},\"colorscale\":[[0.0,\"#0d0887\"],[0.1111111111111111,\"#46039f\"],[0.2222222222222222,\"#7201a8\"],[0.3333333333333333,\"#9c179e\"],[0.4444444444444444,\"#bd3786\"],[0.5555555555555556,\"#d8576b\"],[0.6666666666666666,\"#ed7953\"],[0.7777777777777778,\"#fb9f3a\"],[0.8888888888888888,\"#fdca26\"],[1.0,\"#f0f921\"]],\"type\":\"heatmapgl\"}],\"heatmap\":[{\"colorbar\":{\"outlinewidth\":0,\"ticks\":\"\"},\"colorscale\":[[0.0,\"#0d0887\"],[0.1111111111111111,\"#46039f\"],[0.2222222222222222,\"#7201a8\"],[0.3333333333333333,\"#9c179e\"],[0.4444444444444444,\"#bd3786\"],[0.5555555555555556,\"#d8576b\"],[0.6666666666666666,\"#ed7953\"],[0.7777777777777778,\"#fb9f3a\"],[0.8888888888888888,\"#fdca26\"],[1.0,\"#f0f921\"]],\"type\":\"heatmap\"}],\"histogram2dcontour\":[{\"colorbar\":{\"outlinewidth\":0,\"ticks\":\"\"},\"colorscale\":[[0.0,\"#0d0887\"],[0.1111111111111111,\"#46039f\"],[0.2222222222222222,\"#7201a8\"],[0.3333333333333333,\"#9c179e\"],[0.4444444444444444,\"#bd3786\"],[0.5555555555555556,\"#d8576b\"],[0.6666666666666666,\"#ed7953\"],[0.7777777777777778,\"#fb9f3a\"],[0.8888888888888888,\"#fdca26\"],[1.0,\"#f0f921\"]],\"type\":\"histogram2dcontour\"}],\"histogram2d\":[{\"colorbar\":{\"outlinewidth\":0,\"ticks\":\"\"},\"colorscale\":[[0.0,\"#0d0887\"],[0.1111111111111111,\"#46039f\"],[0.2222222222222222,\"#7201a8\"],[0.3333333333333333,\"#9c179e\"],[0.4444444444444444,\"#bd3786\"],[0.5555555555555556,\"#d8576b\"],[0.6666666666666666,\"#ed7953\"],[0.7777777777777778,\"#fb9f3a\"],[0.8888888888888888,\"#fdca26\"],[1.0,\"#f0f921\"]],\"type\":\"histogram2d\"}],\"histogram\":[{\"marker\":{\"pattern\":{\"fillmode\":\"overlay\",\"size\":10,\"solidity\":0.2}},\"type\":\"histogram\"}],\"mesh3d\":[{\"colorbar\":{\"outlinewidth\":0,\"ticks\":\"\"},\"type\":\"mesh3d\"}],\"parcoords\":[{\"line\":{\"colorbar\":{\"outlinewidth\":0,\"ticks\":\"\"}},\"type\":\"parcoords\"}],\"pie\":[{\"automargin\":true,\"type\":\"pie\"}],\"scatter3d\":[{\"line\":{\"colorbar\":{\"outlinewidth\":0,\"ticks\":\"\"}},\"marker\":{\"colorbar\":{\"outlinewidth\":0,\"ticks\":\"\"}},\"type\":\"scatter3d\"}],\"scattercarpet\":[{\"marker\":{\"colorbar\":{\"outlinewidth\":0,\"ticks\":\"\"}},\"type\":\"scattercarpet\"}],\"scattergeo\":[{\"marker\":{\"colorbar\":{\"outlinewidth\":0,\"ticks\":\"\"}},\"type\":\"scattergeo\"}],\"scattergl\":[{\"marker\":{\"colorbar\":{\"outlinewidth\":0,\"ticks\":\"\"}},\"type\":\"scattergl\"}],\"scattermapbox\":[{\"marker\":{\"colorbar\":{\"outlinewidth\":0,\"ticks\":\"\"}},\"type\":\"scattermapbox\"}],\"scatterpolargl\":[{\"marker\":{\"colorbar\":{\"outlinewidth\":0,\"ticks\":\"\"}},\"type\":\"scatterpolargl\"}],\"scatterpolar\":[{\"marker\":{\"colorbar\":{\"outlinewidth\":0,\"ticks\":\"\"}},\"type\":\"scatterpolar\"}],\"scatter\":[{\"fillpattern\":{\"fillmode\":\"overlay\",\"size\":10,\"solidity\":0.2},\"type\":\"scatter\"}],\"scatterternary\":[{\"marker\":{\"colorbar\":{\"outlinewidth\":0,\"ticks\":\"\"}},\"type\":\"scatterternary\"}],\"surface\":[{\"colorbar\":{\"outlinewidth\":0,\"ticks\":\"\"},\"colorscale\":[[0.0,\"#0d0887\"],[0.1111111111111111,\"#46039f\"],[0.2222222222222222,\"#7201a8\"],[0.3333333333333333,\"#9c179e\"],[0.4444444444444444,\"#bd3786\"],[0.5555555555555556,\"#d8576b\"],[0.6666666666666666,\"#ed7953\"],[0.7777777777777778,\"#fb9f3a\"],[0.8888888888888888,\"#fdca26\"],[1.0,\"#f0f921\"]],\"type\":\"surface\"}],\"table\":[{\"cells\":{\"fill\":{\"color\":\"#EBF0F8\"},\"line\":{\"color\":\"white\"}},\"header\":{\"fill\":{\"color\":\"#C8D4E3\"},\"line\":{\"color\":\"white\"}},\"type\":\"table\"}]},\"layout\":{\"annotationdefaults\":{\"arrowcolor\":\"#2a3f5f\",\"arrowhead\":0,\"arrowwidth\":1},\"autotypenumbers\":\"strict\",\"coloraxis\":{\"colorbar\":{\"outlinewidth\":0,\"ticks\":\"\"}},\"colorscale\":{\"diverging\":[[0,\"#8e0152\"],[0.1,\"#c51b7d\"],[0.2,\"#de77ae\"],[0.3,\"#f1b6da\"],[0.4,\"#fde0ef\"],[0.5,\"#f7f7f7\"],[0.6,\"#e6f5d0\"],[0.7,\"#b8e186\"],[0.8,\"#7fbc41\"],[0.9,\"#4d9221\"],[1,\"#276419\"]],\"sequential\":[[0.0,\"#0d0887\"],[0.1111111111111111,\"#46039f\"],[0.2222222222222222,\"#7201a8\"],[0.3333333333333333,\"#9c179e\"],[0.4444444444444444,\"#bd3786\"],[0.5555555555555556,\"#d8576b\"],[0.6666666666666666,\"#ed7953\"],[0.7777777777777778,\"#fb9f3a\"],[0.8888888888888888,\"#fdca26\"],[1.0,\"#f0f921\"]],\"sequentialminus\":[[0.0,\"#0d0887\"],[0.1111111111111111,\"#46039f\"],[0.2222222222222222,\"#7201a8\"],[0.3333333333333333,\"#9c179e\"],[0.4444444444444444,\"#bd3786\"],[0.5555555555555556,\"#d8576b\"],[0.6666666666666666,\"#ed7953\"],[0.7777777777777778,\"#fb9f3a\"],[0.8888888888888888,\"#fdca26\"],[1.0,\"#f0f921\"]]},\"colorway\":[\"#636efa\",\"#EF553B\",\"#00cc96\",\"#ab63fa\",\"#FFA15A\",\"#19d3f3\",\"#FF6692\",\"#B6E880\",\"#FF97FF\",\"#FECB52\"],\"font\":{\"color\":\"#2a3f5f\"},\"geo\":{\"bgcolor\":\"white\",\"lakecolor\":\"white\",\"landcolor\":\"white\",\"showlakes\":true,\"showland\":true,\"subunitcolor\":\"#C8D4E3\"},\"hoverlabel\":{\"align\":\"left\"},\"hovermode\":\"closest\",\"mapbox\":{\"style\":\"light\"},\"paper_bgcolor\":\"white\",\"plot_bgcolor\":\"white\",\"polar\":{\"angularaxis\":{\"gridcolor\":\"#EBF0F8\",\"linecolor\":\"#EBF0F8\",\"ticks\":\"\"},\"bgcolor\":\"white\",\"radialaxis\":{\"gridcolor\":\"#EBF0F8\",\"linecolor\":\"#EBF0F8\",\"ticks\":\"\"}},\"scene\":{\"xaxis\":{\"backgroundcolor\":\"white\",\"gridcolor\":\"#DFE8F3\",\"gridwidth\":2,\"linecolor\":\"#EBF0F8\",\"showbackground\":true,\"ticks\":\"\",\"zerolinecolor\":\"#EBF0F8\"},\"yaxis\":{\"backgroundcolor\":\"white\",\"gridcolor\":\"#DFE8F3\",\"gridwidth\":2,\"linecolor\":\"#EBF0F8\",\"showbackground\":true,\"ticks\":\"\",\"zerolinecolor\":\"#EBF0F8\"},\"zaxis\":{\"backgroundcolor\":\"white\",\"gridcolor\":\"#DFE8F3\",\"gridwidth\":2,\"linecolor\":\"#EBF0F8\",\"showbackground\":true,\"ticks\":\"\",\"zerolinecolor\":\"#EBF0F8\"}},\"shapedefaults\":{\"line\":{\"color\":\"#2a3f5f\"}},\"ternary\":{\"aaxis\":{\"gridcolor\":\"#DFE8F3\",\"linecolor\":\"#A2B1C6\",\"ticks\":\"\"},\"baxis\":{\"gridcolor\":\"#DFE8F3\",\"linecolor\":\"#A2B1C6\",\"ticks\":\"\"},\"bgcolor\":\"white\",\"caxis\":{\"gridcolor\":\"#DFE8F3\",\"linecolor\":\"#A2B1C6\",\"ticks\":\"\"}},\"title\":{\"x\":0.05},\"xaxis\":{\"automargin\":true,\"gridcolor\":\"#EBF0F8\",\"linecolor\":\"#EBF0F8\",\"ticks\":\"\",\"title\":{\"standoff\":15},\"zerolinecolor\":\"#EBF0F8\",\"zerolinewidth\":2},\"yaxis\":{\"automargin\":true,\"gridcolor\":\"#EBF0F8\",\"linecolor\":\"#EBF0F8\",\"ticks\":\"\",\"title\":{\"standoff\":15},\"zerolinecolor\":\"#EBF0F8\",\"zerolinewidth\":2}}},\"xaxis\":{\"anchor\":\"y\",\"domain\":[0.0,1.0],\"title\":{\"text\":\"Course Certificate\"}},\"yaxis\":{\"anchor\":\"x\",\"domain\":[0.0,1.0],\"title\":{\"text\":\"Mean Rating\"},\"showgrid\":false},\"legend\":{\"tracegroupgap\":0},\"title\":{\"text\":\"Mean Rating by Course Certificate Type\",\"x\":0.45},\"barmode\":\"relative\",\"font\":{\"size\":14},\"width\":800,\"height\":550},                        {\"responsive\": true}                    ).then(function(){\n",
       "                            \n",
       "var gd = document.getElementById('8506c928-d385-4ba2-8d83-066634b3010f');\n",
       "var x = new MutationObserver(function (mutations, observer) {{\n",
       "        var display = window.getComputedStyle(gd).display;\n",
       "        if (!display || display === 'none') {{\n",
       "            console.log([gd, 'removed!']);\n",
       "            Plotly.purge(gd);\n",
       "            observer.disconnect();\n",
       "        }}\n",
       "}});\n",
       "\n",
       "// Listen for the removal of the full notebook cells\n",
       "var notebookContainer = gd.closest('#notebook-container');\n",
       "if (notebookContainer) {{\n",
       "    x.observe(notebookContainer, {childList: true});\n",
       "}}\n",
       "\n",
       "// Listen for the clearing of the current output cell\n",
       "var outputEl = gd.closest('.output');\n",
       "if (outputEl) {{\n",
       "    x.observe(outputEl, {childList: true});\n",
       "}}\n",
       "\n",
       "                        })                };                });            </script>        </div>"
      ]
     },
     "metadata": {},
     "output_type": "display_data"
    }
   ],
   "source": [
    "#Calculate mean rating by certificate type\n",
    "mean_rating_by_certification = coursera_df.groupby(\"course_Certificate_type\")[\"course_rating\"].mean()\\\n",
    "  .reset_index(name=\"average_rating\")\n",
    "\n",
    "#Plot a bar chart displaying mean rating by course certificate type\n",
    "fig_13 = px.bar(mean_rating_by_certification,\n",
    "                x=\"course_Certificate_type\",\n",
    "                y=\"average_rating\",\n",
    "                title=\"Mean Rating by Course Certificate Type\",\n",
    "                labels={\"course_Certificate_type\":\"Course Certificate\",\\\n",
    "                         \"average_rating\" : \"Mean Rating\"},\n",
    "                text=\"average_rating\",\n",
    "                template=\"plotly_white\",\n",
    "                hover_name=\"course_Certificate_type\")\n",
    "\n",
    "fig_13.update_traces(texttemplate=\"%{text:.2s}\",\n",
    "                    textposition=\"outside\",\n",
    "                    marker_color=\"rgb(136,204,238)\")\n",
    "\n",
    "fig_13.update_layout(font=dict(size=14),\n",
    "                     title=dict(x=0.45),\n",
    "                     width=800,\n",
    "                     height=550,\n",
    "                     yaxis=dict(showgrid=False))\n",
    "\n",
    "fig_13.show()"
   ]
  },
  {
   "cell_type": "markdown",
   "metadata": {},
   "source": [
    "> 4.20. Is there a correlation between the difficulty level of a course and its rating?"
   ]
  },
  {
   "cell_type": "code",
   "execution_count": 88,
   "metadata": {},
   "outputs": [
    {
     "data": {
      "application/vnd.plotly.v1+json": {
       "config": {
        "plotlyServerURL": "https://plot.ly"
       },
       "data": [
        {
         "coloraxis": "coloraxis",
         "hovertemplate": "x: %{x}<br>y: %{y}<br>Correlation: %{z}<extra></extra>",
         "name": "0",
         "type": "heatmap",
         "x": [
          "Course Difficulty",
          "Course Rating"
         ],
         "xaxis": "x",
         "y": [
          "Course Difficulty",
          "Course Rating"
         ],
         "yaxis": "y",
         "z": [
          [
           1,
           -0.08486160128378029
          ],
          [
           -0.08486160128378029,
           1
          ]
         ]
        }
       ],
       "layout": {
        "coloraxis": {
         "cmax": 1,
         "cmin": -1,
         "colorbar": {
          "title": {
           "text": "Correlation"
          }
         },
         "colorscale": [
          [
           0,
           "rgb(247,251,255)"
          ],
          [
           0.125,
           "rgb(222,235,247)"
          ],
          [
           0.25,
           "rgb(198,219,239)"
          ],
          [
           0.375,
           "rgb(158,202,225)"
          ],
          [
           0.5,
           "rgb(107,174,214)"
          ],
          [
           0.625,
           "rgb(66,146,198)"
          ],
          [
           0.75,
           "rgb(33,113,181)"
          ],
          [
           0.875,
           "rgb(8,81,156)"
          ],
          [
           1,
           "rgb(8,48,107)"
          ]
         ]
        },
        "font": {
         "size": 14
        },
        "height": 500,
        "template": {
         "data": {
          "bar": [
           {
            "error_x": {
             "color": "#2a3f5f"
            },
            "error_y": {
             "color": "#2a3f5f"
            },
            "marker": {
             "line": {
              "color": "#E5ECF6",
              "width": 0.5
             },
             "pattern": {
              "fillmode": "overlay",
              "size": 10,
              "solidity": 0.2
             }
            },
            "type": "bar"
           }
          ],
          "barpolar": [
           {
            "marker": {
             "line": {
              "color": "#E5ECF6",
              "width": 0.5
             },
             "pattern": {
              "fillmode": "overlay",
              "size": 10,
              "solidity": 0.2
             }
            },
            "type": "barpolar"
           }
          ],
          "carpet": [
           {
            "aaxis": {
             "endlinecolor": "#2a3f5f",
             "gridcolor": "white",
             "linecolor": "white",
             "minorgridcolor": "white",
             "startlinecolor": "#2a3f5f"
            },
            "baxis": {
             "endlinecolor": "#2a3f5f",
             "gridcolor": "white",
             "linecolor": "white",
             "minorgridcolor": "white",
             "startlinecolor": "#2a3f5f"
            },
            "type": "carpet"
           }
          ],
          "choropleth": [
           {
            "colorbar": {
             "outlinewidth": 0,
             "ticks": ""
            },
            "type": "choropleth"
           }
          ],
          "contour": [
           {
            "colorbar": {
             "outlinewidth": 0,
             "ticks": ""
            },
            "colorscale": [
             [
              0,
              "#0d0887"
             ],
             [
              0.1111111111111111,
              "#46039f"
             ],
             [
              0.2222222222222222,
              "#7201a8"
             ],
             [
              0.3333333333333333,
              "#9c179e"
             ],
             [
              0.4444444444444444,
              "#bd3786"
             ],
             [
              0.5555555555555556,
              "#d8576b"
             ],
             [
              0.6666666666666666,
              "#ed7953"
             ],
             [
              0.7777777777777778,
              "#fb9f3a"
             ],
             [
              0.8888888888888888,
              "#fdca26"
             ],
             [
              1,
              "#f0f921"
             ]
            ],
            "type": "contour"
           }
          ],
          "contourcarpet": [
           {
            "colorbar": {
             "outlinewidth": 0,
             "ticks": ""
            },
            "type": "contourcarpet"
           }
          ],
          "heatmap": [
           {
            "colorbar": {
             "outlinewidth": 0,
             "ticks": ""
            },
            "colorscale": [
             [
              0,
              "#0d0887"
             ],
             [
              0.1111111111111111,
              "#46039f"
             ],
             [
              0.2222222222222222,
              "#7201a8"
             ],
             [
              0.3333333333333333,
              "#9c179e"
             ],
             [
              0.4444444444444444,
              "#bd3786"
             ],
             [
              0.5555555555555556,
              "#d8576b"
             ],
             [
              0.6666666666666666,
              "#ed7953"
             ],
             [
              0.7777777777777778,
              "#fb9f3a"
             ],
             [
              0.8888888888888888,
              "#fdca26"
             ],
             [
              1,
              "#f0f921"
             ]
            ],
            "type": "heatmap"
           }
          ],
          "heatmapgl": [
           {
            "colorbar": {
             "outlinewidth": 0,
             "ticks": ""
            },
            "colorscale": [
             [
              0,
              "#0d0887"
             ],
             [
              0.1111111111111111,
              "#46039f"
             ],
             [
              0.2222222222222222,
              "#7201a8"
             ],
             [
              0.3333333333333333,
              "#9c179e"
             ],
             [
              0.4444444444444444,
              "#bd3786"
             ],
             [
              0.5555555555555556,
              "#d8576b"
             ],
             [
              0.6666666666666666,
              "#ed7953"
             ],
             [
              0.7777777777777778,
              "#fb9f3a"
             ],
             [
              0.8888888888888888,
              "#fdca26"
             ],
             [
              1,
              "#f0f921"
             ]
            ],
            "type": "heatmapgl"
           }
          ],
          "histogram": [
           {
            "marker": {
             "pattern": {
              "fillmode": "overlay",
              "size": 10,
              "solidity": 0.2
             }
            },
            "type": "histogram"
           }
          ],
          "histogram2d": [
           {
            "colorbar": {
             "outlinewidth": 0,
             "ticks": ""
            },
            "colorscale": [
             [
              0,
              "#0d0887"
             ],
             [
              0.1111111111111111,
              "#46039f"
             ],
             [
              0.2222222222222222,
              "#7201a8"
             ],
             [
              0.3333333333333333,
              "#9c179e"
             ],
             [
              0.4444444444444444,
              "#bd3786"
             ],
             [
              0.5555555555555556,
              "#d8576b"
             ],
             [
              0.6666666666666666,
              "#ed7953"
             ],
             [
              0.7777777777777778,
              "#fb9f3a"
             ],
             [
              0.8888888888888888,
              "#fdca26"
             ],
             [
              1,
              "#f0f921"
             ]
            ],
            "type": "histogram2d"
           }
          ],
          "histogram2dcontour": [
           {
            "colorbar": {
             "outlinewidth": 0,
             "ticks": ""
            },
            "colorscale": [
             [
              0,
              "#0d0887"
             ],
             [
              0.1111111111111111,
              "#46039f"
             ],
             [
              0.2222222222222222,
              "#7201a8"
             ],
             [
              0.3333333333333333,
              "#9c179e"
             ],
             [
              0.4444444444444444,
              "#bd3786"
             ],
             [
              0.5555555555555556,
              "#d8576b"
             ],
             [
              0.6666666666666666,
              "#ed7953"
             ],
             [
              0.7777777777777778,
              "#fb9f3a"
             ],
             [
              0.8888888888888888,
              "#fdca26"
             ],
             [
              1,
              "#f0f921"
             ]
            ],
            "type": "histogram2dcontour"
           }
          ],
          "mesh3d": [
           {
            "colorbar": {
             "outlinewidth": 0,
             "ticks": ""
            },
            "type": "mesh3d"
           }
          ],
          "parcoords": [
           {
            "line": {
             "colorbar": {
              "outlinewidth": 0,
              "ticks": ""
             }
            },
            "type": "parcoords"
           }
          ],
          "pie": [
           {
            "automargin": true,
            "type": "pie"
           }
          ],
          "scatter": [
           {
            "fillpattern": {
             "fillmode": "overlay",
             "size": 10,
             "solidity": 0.2
            },
            "type": "scatter"
           }
          ],
          "scatter3d": [
           {
            "line": {
             "colorbar": {
              "outlinewidth": 0,
              "ticks": ""
             }
            },
            "marker": {
             "colorbar": {
              "outlinewidth": 0,
              "ticks": ""
             }
            },
            "type": "scatter3d"
           }
          ],
          "scattercarpet": [
           {
            "marker": {
             "colorbar": {
              "outlinewidth": 0,
              "ticks": ""
             }
            },
            "type": "scattercarpet"
           }
          ],
          "scattergeo": [
           {
            "marker": {
             "colorbar": {
              "outlinewidth": 0,
              "ticks": ""
             }
            },
            "type": "scattergeo"
           }
          ],
          "scattergl": [
           {
            "marker": {
             "colorbar": {
              "outlinewidth": 0,
              "ticks": ""
             }
            },
            "type": "scattergl"
           }
          ],
          "scattermapbox": [
           {
            "marker": {
             "colorbar": {
              "outlinewidth": 0,
              "ticks": ""
             }
            },
            "type": "scattermapbox"
           }
          ],
          "scatterpolar": [
           {
            "marker": {
             "colorbar": {
              "outlinewidth": 0,
              "ticks": ""
             }
            },
            "type": "scatterpolar"
           }
          ],
          "scatterpolargl": [
           {
            "marker": {
             "colorbar": {
              "outlinewidth": 0,
              "ticks": ""
             }
            },
            "type": "scatterpolargl"
           }
          ],
          "scatterternary": [
           {
            "marker": {
             "colorbar": {
              "outlinewidth": 0,
              "ticks": ""
             }
            },
            "type": "scatterternary"
           }
          ],
          "surface": [
           {
            "colorbar": {
             "outlinewidth": 0,
             "ticks": ""
            },
            "colorscale": [
             [
              0,
              "#0d0887"
             ],
             [
              0.1111111111111111,
              "#46039f"
             ],
             [
              0.2222222222222222,
              "#7201a8"
             ],
             [
              0.3333333333333333,
              "#9c179e"
             ],
             [
              0.4444444444444444,
              "#bd3786"
             ],
             [
              0.5555555555555556,
              "#d8576b"
             ],
             [
              0.6666666666666666,
              "#ed7953"
             ],
             [
              0.7777777777777778,
              "#fb9f3a"
             ],
             [
              0.8888888888888888,
              "#fdca26"
             ],
             [
              1,
              "#f0f921"
             ]
            ],
            "type": "surface"
           }
          ],
          "table": [
           {
            "cells": {
             "fill": {
              "color": "#EBF0F8"
             },
             "line": {
              "color": "white"
             }
            },
            "header": {
             "fill": {
              "color": "#C8D4E3"
             },
             "line": {
              "color": "white"
             }
            },
            "type": "table"
           }
          ]
         },
         "layout": {
          "annotationdefaults": {
           "arrowcolor": "#2a3f5f",
           "arrowhead": 0,
           "arrowwidth": 1
          },
          "autotypenumbers": "strict",
          "coloraxis": {
           "colorbar": {
            "outlinewidth": 0,
            "ticks": ""
           }
          },
          "colorscale": {
           "diverging": [
            [
             0,
             "#8e0152"
            ],
            [
             0.1,
             "#c51b7d"
            ],
            [
             0.2,
             "#de77ae"
            ],
            [
             0.3,
             "#f1b6da"
            ],
            [
             0.4,
             "#fde0ef"
            ],
            [
             0.5,
             "#f7f7f7"
            ],
            [
             0.6,
             "#e6f5d0"
            ],
            [
             0.7,
             "#b8e186"
            ],
            [
             0.8,
             "#7fbc41"
            ],
            [
             0.9,
             "#4d9221"
            ],
            [
             1,
             "#276419"
            ]
           ],
           "sequential": [
            [
             0,
             "#0d0887"
            ],
            [
             0.1111111111111111,
             "#46039f"
            ],
            [
             0.2222222222222222,
             "#7201a8"
            ],
            [
             0.3333333333333333,
             "#9c179e"
            ],
            [
             0.4444444444444444,
             "#bd3786"
            ],
            [
             0.5555555555555556,
             "#d8576b"
            ],
            [
             0.6666666666666666,
             "#ed7953"
            ],
            [
             0.7777777777777778,
             "#fb9f3a"
            ],
            [
             0.8888888888888888,
             "#fdca26"
            ],
            [
             1,
             "#f0f921"
            ]
           ],
           "sequentialminus": [
            [
             0,
             "#0d0887"
            ],
            [
             0.1111111111111111,
             "#46039f"
            ],
            [
             0.2222222222222222,
             "#7201a8"
            ],
            [
             0.3333333333333333,
             "#9c179e"
            ],
            [
             0.4444444444444444,
             "#bd3786"
            ],
            [
             0.5555555555555556,
             "#d8576b"
            ],
            [
             0.6666666666666666,
             "#ed7953"
            ],
            [
             0.7777777777777778,
             "#fb9f3a"
            ],
            [
             0.8888888888888888,
             "#fdca26"
            ],
            [
             1,
             "#f0f921"
            ]
           ]
          },
          "colorway": [
           "#636efa",
           "#EF553B",
           "#00cc96",
           "#ab63fa",
           "#FFA15A",
           "#19d3f3",
           "#FF6692",
           "#B6E880",
           "#FF97FF",
           "#FECB52"
          ],
          "font": {
           "color": "#2a3f5f"
          },
          "geo": {
           "bgcolor": "white",
           "lakecolor": "white",
           "landcolor": "#E5ECF6",
           "showlakes": true,
           "showland": true,
           "subunitcolor": "white"
          },
          "hoverlabel": {
           "align": "left"
          },
          "hovermode": "closest",
          "mapbox": {
           "style": "light"
          },
          "paper_bgcolor": "white",
          "plot_bgcolor": "#E5ECF6",
          "polar": {
           "angularaxis": {
            "gridcolor": "white",
            "linecolor": "white",
            "ticks": ""
           },
           "bgcolor": "#E5ECF6",
           "radialaxis": {
            "gridcolor": "white",
            "linecolor": "white",
            "ticks": ""
           }
          },
          "scene": {
           "xaxis": {
            "backgroundcolor": "#E5ECF6",
            "gridcolor": "white",
            "gridwidth": 2,
            "linecolor": "white",
            "showbackground": true,
            "ticks": "",
            "zerolinecolor": "white"
           },
           "yaxis": {
            "backgroundcolor": "#E5ECF6",
            "gridcolor": "white",
            "gridwidth": 2,
            "linecolor": "white",
            "showbackground": true,
            "ticks": "",
            "zerolinecolor": "white"
           },
           "zaxis": {
            "backgroundcolor": "#E5ECF6",
            "gridcolor": "white",
            "gridwidth": 2,
            "linecolor": "white",
            "showbackground": true,
            "ticks": "",
            "zerolinecolor": "white"
           }
          },
          "shapedefaults": {
           "line": {
            "color": "#2a3f5f"
           }
          },
          "ternary": {
           "aaxis": {
            "gridcolor": "white",
            "linecolor": "white",
            "ticks": ""
           },
           "baxis": {
            "gridcolor": "white",
            "linecolor": "white",
            "ticks": ""
           },
           "bgcolor": "#E5ECF6",
           "caxis": {
            "gridcolor": "white",
            "linecolor": "white",
            "ticks": ""
           }
          },
          "title": {
           "x": 0.05
          },
          "xaxis": {
           "automargin": true,
           "gridcolor": "white",
           "linecolor": "white",
           "ticks": "",
           "title": {
            "standoff": 15
           },
           "zerolinecolor": "white",
           "zerolinewidth": 2
          },
          "yaxis": {
           "automargin": true,
           "gridcolor": "white",
           "linecolor": "white",
           "ticks": "",
           "title": {
            "standoff": 15
           },
           "zerolinecolor": "white",
           "zerolinewidth": 2
          }
         }
        },
        "title": {
         "text": "Correlation Matrix: Course Difficulty and Rating",
         "x": 0.45
        },
        "width": 600,
        "xaxis": {
         "anchor": "y",
         "constrain": "domain",
         "domain": [
          0,
          1
         ],
         "scaleanchor": "y"
        },
        "yaxis": {
         "anchor": "x",
         "autorange": "reversed",
         "constrain": "domain",
         "domain": [
          0,
          1
         ]
        }
       }
      },
      "text/html": [
       "<div>                            <div id=\"8fb7f3fb-8346-470c-9be6-5a095b8deed3\" class=\"plotly-graph-div\" style=\"height:500px; width:600px;\"></div>            <script type=\"text/javascript\">                require([\"plotly\"], function(Plotly) {                    window.PLOTLYENV=window.PLOTLYENV || {};                                    if (document.getElementById(\"8fb7f3fb-8346-470c-9be6-5a095b8deed3\")) {                    Plotly.newPlot(                        \"8fb7f3fb-8346-470c-9be6-5a095b8deed3\",                        [{\"coloraxis\":\"coloraxis\",\"name\":\"0\",\"x\":[\"Course Difficulty\",\"Course Rating\"],\"y\":[\"Course Difficulty\",\"Course Rating\"],\"z\":[[1.0,-0.08486160128378029],[-0.08486160128378029,1.0]],\"type\":\"heatmap\",\"xaxis\":\"x\",\"yaxis\":\"y\",\"hovertemplate\":\"x: %{x}\\u003cbr\\u003ey: %{y}\\u003cbr\\u003eCorrelation: %{z}\\u003cextra\\u003e\\u003c\\u002fextra\\u003e\"}],                        {\"template\":{\"data\":{\"histogram2dcontour\":[{\"type\":\"histogram2dcontour\",\"colorbar\":{\"outlinewidth\":0,\"ticks\":\"\"},\"colorscale\":[[0.0,\"#0d0887\"],[0.1111111111111111,\"#46039f\"],[0.2222222222222222,\"#7201a8\"],[0.3333333333333333,\"#9c179e\"],[0.4444444444444444,\"#bd3786\"],[0.5555555555555556,\"#d8576b\"],[0.6666666666666666,\"#ed7953\"],[0.7777777777777778,\"#fb9f3a\"],[0.8888888888888888,\"#fdca26\"],[1.0,\"#f0f921\"]]}],\"choropleth\":[{\"type\":\"choropleth\",\"colorbar\":{\"outlinewidth\":0,\"ticks\":\"\"}}],\"histogram2d\":[{\"type\":\"histogram2d\",\"colorbar\":{\"outlinewidth\":0,\"ticks\":\"\"},\"colorscale\":[[0.0,\"#0d0887\"],[0.1111111111111111,\"#46039f\"],[0.2222222222222222,\"#7201a8\"],[0.3333333333333333,\"#9c179e\"],[0.4444444444444444,\"#bd3786\"],[0.5555555555555556,\"#d8576b\"],[0.6666666666666666,\"#ed7953\"],[0.7777777777777778,\"#fb9f3a\"],[0.8888888888888888,\"#fdca26\"],[1.0,\"#f0f921\"]]}],\"heatmap\":[{\"type\":\"heatmap\",\"colorbar\":{\"outlinewidth\":0,\"ticks\":\"\"},\"colorscale\":[[0.0,\"#0d0887\"],[0.1111111111111111,\"#46039f\"],[0.2222222222222222,\"#7201a8\"],[0.3333333333333333,\"#9c179e\"],[0.4444444444444444,\"#bd3786\"],[0.5555555555555556,\"#d8576b\"],[0.6666666666666666,\"#ed7953\"],[0.7777777777777778,\"#fb9f3a\"],[0.8888888888888888,\"#fdca26\"],[1.0,\"#f0f921\"]]}],\"heatmapgl\":[{\"type\":\"heatmapgl\",\"colorbar\":{\"outlinewidth\":0,\"ticks\":\"\"},\"colorscale\":[[0.0,\"#0d0887\"],[0.1111111111111111,\"#46039f\"],[0.2222222222222222,\"#7201a8\"],[0.3333333333333333,\"#9c179e\"],[0.4444444444444444,\"#bd3786\"],[0.5555555555555556,\"#d8576b\"],[0.6666666666666666,\"#ed7953\"],[0.7777777777777778,\"#fb9f3a\"],[0.8888888888888888,\"#fdca26\"],[1.0,\"#f0f921\"]]}],\"contourcarpet\":[{\"type\":\"contourcarpet\",\"colorbar\":{\"outlinewidth\":0,\"ticks\":\"\"}}],\"contour\":[{\"type\":\"contour\",\"colorbar\":{\"outlinewidth\":0,\"ticks\":\"\"},\"colorscale\":[[0.0,\"#0d0887\"],[0.1111111111111111,\"#46039f\"],[0.2222222222222222,\"#7201a8\"],[0.3333333333333333,\"#9c179e\"],[0.4444444444444444,\"#bd3786\"],[0.5555555555555556,\"#d8576b\"],[0.6666666666666666,\"#ed7953\"],[0.7777777777777778,\"#fb9f3a\"],[0.8888888888888888,\"#fdca26\"],[1.0,\"#f0f921\"]]}],\"surface\":[{\"type\":\"surface\",\"colorbar\":{\"outlinewidth\":0,\"ticks\":\"\"},\"colorscale\":[[0.0,\"#0d0887\"],[0.1111111111111111,\"#46039f\"],[0.2222222222222222,\"#7201a8\"],[0.3333333333333333,\"#9c179e\"],[0.4444444444444444,\"#bd3786\"],[0.5555555555555556,\"#d8576b\"],[0.6666666666666666,\"#ed7953\"],[0.7777777777777778,\"#fb9f3a\"],[0.8888888888888888,\"#fdca26\"],[1.0,\"#f0f921\"]]}],\"mesh3d\":[{\"type\":\"mesh3d\",\"colorbar\":{\"outlinewidth\":0,\"ticks\":\"\"}}],\"scatter\":[{\"fillpattern\":{\"fillmode\":\"overlay\",\"size\":10,\"solidity\":0.2},\"type\":\"scatter\"}],\"parcoords\":[{\"type\":\"parcoords\",\"line\":{\"colorbar\":{\"outlinewidth\":0,\"ticks\":\"\"}}}],\"scatterpolargl\":[{\"type\":\"scatterpolargl\",\"marker\":{\"colorbar\":{\"outlinewidth\":0,\"ticks\":\"\"}}}],\"bar\":[{\"error_x\":{\"color\":\"#2a3f5f\"},\"error_y\":{\"color\":\"#2a3f5f\"},\"marker\":{\"line\":{\"color\":\"#E5ECF6\",\"width\":0.5},\"pattern\":{\"fillmode\":\"overlay\",\"size\":10,\"solidity\":0.2}},\"type\":\"bar\"}],\"scattergeo\":[{\"type\":\"scattergeo\",\"marker\":{\"colorbar\":{\"outlinewidth\":0,\"ticks\":\"\"}}}],\"scatterpolar\":[{\"type\":\"scatterpolar\",\"marker\":{\"colorbar\":{\"outlinewidth\":0,\"ticks\":\"\"}}}],\"histogram\":[{\"marker\":{\"pattern\":{\"fillmode\":\"overlay\",\"size\":10,\"solidity\":0.2}},\"type\":\"histogram\"}],\"scattergl\":[{\"type\":\"scattergl\",\"marker\":{\"colorbar\":{\"outlinewidth\":0,\"ticks\":\"\"}}}],\"scatter3d\":[{\"type\":\"scatter3d\",\"line\":{\"colorbar\":{\"outlinewidth\":0,\"ticks\":\"\"}},\"marker\":{\"colorbar\":{\"outlinewidth\":0,\"ticks\":\"\"}}}],\"scattermapbox\":[{\"type\":\"scattermapbox\",\"marker\":{\"colorbar\":{\"outlinewidth\":0,\"ticks\":\"\"}}}],\"scatterternary\":[{\"type\":\"scatterternary\",\"marker\":{\"colorbar\":{\"outlinewidth\":0,\"ticks\":\"\"}}}],\"scattercarpet\":[{\"type\":\"scattercarpet\",\"marker\":{\"colorbar\":{\"outlinewidth\":0,\"ticks\":\"\"}}}],\"carpet\":[{\"aaxis\":{\"endlinecolor\":\"#2a3f5f\",\"gridcolor\":\"white\",\"linecolor\":\"white\",\"minorgridcolor\":\"white\",\"startlinecolor\":\"#2a3f5f\"},\"baxis\":{\"endlinecolor\":\"#2a3f5f\",\"gridcolor\":\"white\",\"linecolor\":\"white\",\"minorgridcolor\":\"white\",\"startlinecolor\":\"#2a3f5f\"},\"type\":\"carpet\"}],\"table\":[{\"cells\":{\"fill\":{\"color\":\"#EBF0F8\"},\"line\":{\"color\":\"white\"}},\"header\":{\"fill\":{\"color\":\"#C8D4E3\"},\"line\":{\"color\":\"white\"}},\"type\":\"table\"}],\"barpolar\":[{\"marker\":{\"line\":{\"color\":\"#E5ECF6\",\"width\":0.5},\"pattern\":{\"fillmode\":\"overlay\",\"size\":10,\"solidity\":0.2}},\"type\":\"barpolar\"}],\"pie\":[{\"automargin\":true,\"type\":\"pie\"}]},\"layout\":{\"autotypenumbers\":\"strict\",\"colorway\":[\"#636efa\",\"#EF553B\",\"#00cc96\",\"#ab63fa\",\"#FFA15A\",\"#19d3f3\",\"#FF6692\",\"#B6E880\",\"#FF97FF\",\"#FECB52\"],\"font\":{\"color\":\"#2a3f5f\"},\"hovermode\":\"closest\",\"hoverlabel\":{\"align\":\"left\"},\"paper_bgcolor\":\"white\",\"plot_bgcolor\":\"#E5ECF6\",\"polar\":{\"bgcolor\":\"#E5ECF6\",\"angularaxis\":{\"gridcolor\":\"white\",\"linecolor\":\"white\",\"ticks\":\"\"},\"radialaxis\":{\"gridcolor\":\"white\",\"linecolor\":\"white\",\"ticks\":\"\"}},\"ternary\":{\"bgcolor\":\"#E5ECF6\",\"aaxis\":{\"gridcolor\":\"white\",\"linecolor\":\"white\",\"ticks\":\"\"},\"baxis\":{\"gridcolor\":\"white\",\"linecolor\":\"white\",\"ticks\":\"\"},\"caxis\":{\"gridcolor\":\"white\",\"linecolor\":\"white\",\"ticks\":\"\"}},\"coloraxis\":{\"colorbar\":{\"outlinewidth\":0,\"ticks\":\"\"}},\"colorscale\":{\"sequential\":[[0.0,\"#0d0887\"],[0.1111111111111111,\"#46039f\"],[0.2222222222222222,\"#7201a8\"],[0.3333333333333333,\"#9c179e\"],[0.4444444444444444,\"#bd3786\"],[0.5555555555555556,\"#d8576b\"],[0.6666666666666666,\"#ed7953\"],[0.7777777777777778,\"#fb9f3a\"],[0.8888888888888888,\"#fdca26\"],[1.0,\"#f0f921\"]],\"sequentialminus\":[[0.0,\"#0d0887\"],[0.1111111111111111,\"#46039f\"],[0.2222222222222222,\"#7201a8\"],[0.3333333333333333,\"#9c179e\"],[0.4444444444444444,\"#bd3786\"],[0.5555555555555556,\"#d8576b\"],[0.6666666666666666,\"#ed7953\"],[0.7777777777777778,\"#fb9f3a\"],[0.8888888888888888,\"#fdca26\"],[1.0,\"#f0f921\"]],\"diverging\":[[0,\"#8e0152\"],[0.1,\"#c51b7d\"],[0.2,\"#de77ae\"],[0.3,\"#f1b6da\"],[0.4,\"#fde0ef\"],[0.5,\"#f7f7f7\"],[0.6,\"#e6f5d0\"],[0.7,\"#b8e186\"],[0.8,\"#7fbc41\"],[0.9,\"#4d9221\"],[1,\"#276419\"]]},\"xaxis\":{\"gridcolor\":\"white\",\"linecolor\":\"white\",\"ticks\":\"\",\"title\":{\"standoff\":15},\"zerolinecolor\":\"white\",\"automargin\":true,\"zerolinewidth\":2},\"yaxis\":{\"gridcolor\":\"white\",\"linecolor\":\"white\",\"ticks\":\"\",\"title\":{\"standoff\":15},\"zerolinecolor\":\"white\",\"automargin\":true,\"zerolinewidth\":2},\"scene\":{\"xaxis\":{\"backgroundcolor\":\"#E5ECF6\",\"gridcolor\":\"white\",\"linecolor\":\"white\",\"showbackground\":true,\"ticks\":\"\",\"zerolinecolor\":\"white\",\"gridwidth\":2},\"yaxis\":{\"backgroundcolor\":\"#E5ECF6\",\"gridcolor\":\"white\",\"linecolor\":\"white\",\"showbackground\":true,\"ticks\":\"\",\"zerolinecolor\":\"white\",\"gridwidth\":2},\"zaxis\":{\"backgroundcolor\":\"#E5ECF6\",\"gridcolor\":\"white\",\"linecolor\":\"white\",\"showbackground\":true,\"ticks\":\"\",\"zerolinecolor\":\"white\",\"gridwidth\":2}},\"shapedefaults\":{\"line\":{\"color\":\"#2a3f5f\"}},\"annotationdefaults\":{\"arrowcolor\":\"#2a3f5f\",\"arrowhead\":0,\"arrowwidth\":1},\"geo\":{\"bgcolor\":\"white\",\"landcolor\":\"#E5ECF6\",\"subunitcolor\":\"white\",\"showland\":true,\"showlakes\":true,\"lakecolor\":\"white\"},\"title\":{\"x\":0.05},\"mapbox\":{\"style\":\"light\"}}},\"xaxis\":{\"anchor\":\"y\",\"domain\":[0.0,1.0],\"scaleanchor\":\"y\",\"constrain\":\"domain\"},\"yaxis\":{\"anchor\":\"x\",\"domain\":[0.0,1.0],\"autorange\":\"reversed\",\"constrain\":\"domain\"},\"coloraxis\":{\"colorbar\":{\"title\":{\"text\":\"Correlation\"}},\"colorscale\":[[0.0,\"rgb(247,251,255)\"],[0.125,\"rgb(222,235,247)\"],[0.25,\"rgb(198,219,239)\"],[0.375,\"rgb(158,202,225)\"],[0.5,\"rgb(107,174,214)\"],[0.625,\"rgb(66,146,198)\"],[0.75,\"rgb(33,113,181)\"],[0.875,\"rgb(8,81,156)\"],[1.0,\"rgb(8,48,107)\"]],\"cmin\":-1,\"cmax\":1},\"title\":{\"text\":\"Correlation Matrix: Course Difficulty and Rating\",\"x\":0.45},\"font\":{\"size\":14},\"width\":600,\"height\":500},                        {\"responsive\": true}                    ).then(function(){\n",
       "                            \n",
       "var gd = document.getElementById('8fb7f3fb-8346-470c-9be6-5a095b8deed3');\n",
       "var x = new MutationObserver(function (mutations, observer) {{\n",
       "        var display = window.getComputedStyle(gd).display;\n",
       "        if (!display || display === 'none') {{\n",
       "            console.log([gd, 'removed!']);\n",
       "            Plotly.purge(gd);\n",
       "            observer.disconnect();\n",
       "        }}\n",
       "}});\n",
       "\n",
       "// Listen for the removal of the full notebook cells\n",
       "var notebookContainer = gd.closest('#notebook-container');\n",
       "if (notebookContainer) {{\n",
       "    x.observe(notebookContainer, {childList: true});\n",
       "}}\n",
       "\n",
       "// Listen for the clearing of the current output cell\n",
       "var outputEl = gd.closest('.output');\n",
       "if (outputEl) {{\n",
       "    x.observe(outputEl, {childList: true});\n",
       "}}\n",
       "\n",
       "                        })                };                });            </script>        </div>"
      ]
     },
     "metadata": {},
     "output_type": "display_data"
    }
   ],
   "source": [
    "#Create a correlation matrix\n",
    "corr_matrix = coursera_df[[\"course_rating\", \"course_difficulty_numeric\"]].corr()\n",
    "\n",
    "#Plot correlation matrix\n",
    "fig_14 = px.imshow(corr_matrix,\n",
    "                   color_continuous_scale=\"Blues\",\n",
    "                   labels={\"color\":\"Correlation\"},\n",
    "                   x=[\"Course Difficulty\", \"Course Rating\"],\n",
    "                   y=[\"Course Difficulty\", \"Course Rating\"],\n",
    "                   title=\"Correlation Matrix: Course Difficulty and Rating\",\n",
    "                   zmin=-1,\n",
    "                   zmax=1)\n",
    "\n",
    "fig_14.update_layout(font=dict(size=14),\n",
    "                     title=dict(x=0.45),\n",
    "                     width=600,\n",
    "                     height=500)\n",
    "\n",
    "fig_14.show()"
   ]
  },
  {
   "cell_type": "markdown",
   "metadata": {},
   "source": [
    "> 4.21. How does average rating compare to course difficulty?"
   ]
  },
  {
   "cell_type": "code",
   "execution_count": 89,
   "metadata": {},
   "outputs": [
    {
     "data": {
      "application/vnd.plotly.v1+json": {
       "config": {
        "plotlyServerURL": "https://plot.ly"
       },
       "data": [
        {
         "alignmentgroup": "True",
         "hovertemplate": "<b>%{hovertext}</b><br><br>Course Difficulty=%{x}<br>average rating=%{text}<extra></extra>",
         "hovertext": [
          "Advanced",
          "Beginner",
          "Intermediate",
          "Mixed"
         ],
         "legendgroup": "",
         "marker": {
          "color": "rgb(136,204,238)",
          "pattern": {
           "shape": ""
          }
         },
         "name": "",
         "offsetgroup": "",
         "orientation": "v",
         "showlegend": false,
         "text": [
          4.6000000000000005,
          4.6809034907597535,
          4.646464646464646,
          4.708556149732621
         ],
         "textposition": "outside",
         "texttemplate": "%{text:.2s}",
         "type": "bar",
         "x": [
          "Advanced",
          "Beginner",
          "Intermediate",
          "Mixed"
         ],
         "xaxis": "x",
         "y": [
          4.6000000000000005,
          4.6809034907597535,
          4.646464646464646,
          4.708556149732621
         ],
         "yaxis": "y"
        }
       ],
       "layout": {
        "barmode": "relative",
        "font": {
         "size": 14
        },
        "height": 700,
        "legend": {
         "tracegroupgap": 0
        },
        "template": {
         "data": {
          "bar": [
           {
            "error_x": {
             "color": "#2a3f5f"
            },
            "error_y": {
             "color": "#2a3f5f"
            },
            "marker": {
             "line": {
              "color": "white",
              "width": 0.5
             },
             "pattern": {
              "fillmode": "overlay",
              "size": 10,
              "solidity": 0.2
             }
            },
            "type": "bar"
           }
          ],
          "barpolar": [
           {
            "marker": {
             "line": {
              "color": "white",
              "width": 0.5
             },
             "pattern": {
              "fillmode": "overlay",
              "size": 10,
              "solidity": 0.2
             }
            },
            "type": "barpolar"
           }
          ],
          "carpet": [
           {
            "aaxis": {
             "endlinecolor": "#2a3f5f",
             "gridcolor": "#C8D4E3",
             "linecolor": "#C8D4E3",
             "minorgridcolor": "#C8D4E3",
             "startlinecolor": "#2a3f5f"
            },
            "baxis": {
             "endlinecolor": "#2a3f5f",
             "gridcolor": "#C8D4E3",
             "linecolor": "#C8D4E3",
             "minorgridcolor": "#C8D4E3",
             "startlinecolor": "#2a3f5f"
            },
            "type": "carpet"
           }
          ],
          "choropleth": [
           {
            "colorbar": {
             "outlinewidth": 0,
             "ticks": ""
            },
            "type": "choropleth"
           }
          ],
          "contour": [
           {
            "colorbar": {
             "outlinewidth": 0,
             "ticks": ""
            },
            "colorscale": [
             [
              0,
              "#0d0887"
             ],
             [
              0.1111111111111111,
              "#46039f"
             ],
             [
              0.2222222222222222,
              "#7201a8"
             ],
             [
              0.3333333333333333,
              "#9c179e"
             ],
             [
              0.4444444444444444,
              "#bd3786"
             ],
             [
              0.5555555555555556,
              "#d8576b"
             ],
             [
              0.6666666666666666,
              "#ed7953"
             ],
             [
              0.7777777777777778,
              "#fb9f3a"
             ],
             [
              0.8888888888888888,
              "#fdca26"
             ],
             [
              1,
              "#f0f921"
             ]
            ],
            "type": "contour"
           }
          ],
          "contourcarpet": [
           {
            "colorbar": {
             "outlinewidth": 0,
             "ticks": ""
            },
            "type": "contourcarpet"
           }
          ],
          "heatmap": [
           {
            "colorbar": {
             "outlinewidth": 0,
             "ticks": ""
            },
            "colorscale": [
             [
              0,
              "#0d0887"
             ],
             [
              0.1111111111111111,
              "#46039f"
             ],
             [
              0.2222222222222222,
              "#7201a8"
             ],
             [
              0.3333333333333333,
              "#9c179e"
             ],
             [
              0.4444444444444444,
              "#bd3786"
             ],
             [
              0.5555555555555556,
              "#d8576b"
             ],
             [
              0.6666666666666666,
              "#ed7953"
             ],
             [
              0.7777777777777778,
              "#fb9f3a"
             ],
             [
              0.8888888888888888,
              "#fdca26"
             ],
             [
              1,
              "#f0f921"
             ]
            ],
            "type": "heatmap"
           }
          ],
          "heatmapgl": [
           {
            "colorbar": {
             "outlinewidth": 0,
             "ticks": ""
            },
            "colorscale": [
             [
              0,
              "#0d0887"
             ],
             [
              0.1111111111111111,
              "#46039f"
             ],
             [
              0.2222222222222222,
              "#7201a8"
             ],
             [
              0.3333333333333333,
              "#9c179e"
             ],
             [
              0.4444444444444444,
              "#bd3786"
             ],
             [
              0.5555555555555556,
              "#d8576b"
             ],
             [
              0.6666666666666666,
              "#ed7953"
             ],
             [
              0.7777777777777778,
              "#fb9f3a"
             ],
             [
              0.8888888888888888,
              "#fdca26"
             ],
             [
              1,
              "#f0f921"
             ]
            ],
            "type": "heatmapgl"
           }
          ],
          "histogram": [
           {
            "marker": {
             "pattern": {
              "fillmode": "overlay",
              "size": 10,
              "solidity": 0.2
             }
            },
            "type": "histogram"
           }
          ],
          "histogram2d": [
           {
            "colorbar": {
             "outlinewidth": 0,
             "ticks": ""
            },
            "colorscale": [
             [
              0,
              "#0d0887"
             ],
             [
              0.1111111111111111,
              "#46039f"
             ],
             [
              0.2222222222222222,
              "#7201a8"
             ],
             [
              0.3333333333333333,
              "#9c179e"
             ],
             [
              0.4444444444444444,
              "#bd3786"
             ],
             [
              0.5555555555555556,
              "#d8576b"
             ],
             [
              0.6666666666666666,
              "#ed7953"
             ],
             [
              0.7777777777777778,
              "#fb9f3a"
             ],
             [
              0.8888888888888888,
              "#fdca26"
             ],
             [
              1,
              "#f0f921"
             ]
            ],
            "type": "histogram2d"
           }
          ],
          "histogram2dcontour": [
           {
            "colorbar": {
             "outlinewidth": 0,
             "ticks": ""
            },
            "colorscale": [
             [
              0,
              "#0d0887"
             ],
             [
              0.1111111111111111,
              "#46039f"
             ],
             [
              0.2222222222222222,
              "#7201a8"
             ],
             [
              0.3333333333333333,
              "#9c179e"
             ],
             [
              0.4444444444444444,
              "#bd3786"
             ],
             [
              0.5555555555555556,
              "#d8576b"
             ],
             [
              0.6666666666666666,
              "#ed7953"
             ],
             [
              0.7777777777777778,
              "#fb9f3a"
             ],
             [
              0.8888888888888888,
              "#fdca26"
             ],
             [
              1,
              "#f0f921"
             ]
            ],
            "type": "histogram2dcontour"
           }
          ],
          "mesh3d": [
           {
            "colorbar": {
             "outlinewidth": 0,
             "ticks": ""
            },
            "type": "mesh3d"
           }
          ],
          "parcoords": [
           {
            "line": {
             "colorbar": {
              "outlinewidth": 0,
              "ticks": ""
             }
            },
            "type": "parcoords"
           }
          ],
          "pie": [
           {
            "automargin": true,
            "type": "pie"
           }
          ],
          "scatter": [
           {
            "fillpattern": {
             "fillmode": "overlay",
             "size": 10,
             "solidity": 0.2
            },
            "type": "scatter"
           }
          ],
          "scatter3d": [
           {
            "line": {
             "colorbar": {
              "outlinewidth": 0,
              "ticks": ""
             }
            },
            "marker": {
             "colorbar": {
              "outlinewidth": 0,
              "ticks": ""
             }
            },
            "type": "scatter3d"
           }
          ],
          "scattercarpet": [
           {
            "marker": {
             "colorbar": {
              "outlinewidth": 0,
              "ticks": ""
             }
            },
            "type": "scattercarpet"
           }
          ],
          "scattergeo": [
           {
            "marker": {
             "colorbar": {
              "outlinewidth": 0,
              "ticks": ""
             }
            },
            "type": "scattergeo"
           }
          ],
          "scattergl": [
           {
            "marker": {
             "colorbar": {
              "outlinewidth": 0,
              "ticks": ""
             }
            },
            "type": "scattergl"
           }
          ],
          "scattermapbox": [
           {
            "marker": {
             "colorbar": {
              "outlinewidth": 0,
              "ticks": ""
             }
            },
            "type": "scattermapbox"
           }
          ],
          "scatterpolar": [
           {
            "marker": {
             "colorbar": {
              "outlinewidth": 0,
              "ticks": ""
             }
            },
            "type": "scatterpolar"
           }
          ],
          "scatterpolargl": [
           {
            "marker": {
             "colorbar": {
              "outlinewidth": 0,
              "ticks": ""
             }
            },
            "type": "scatterpolargl"
           }
          ],
          "scatterternary": [
           {
            "marker": {
             "colorbar": {
              "outlinewidth": 0,
              "ticks": ""
             }
            },
            "type": "scatterternary"
           }
          ],
          "surface": [
           {
            "colorbar": {
             "outlinewidth": 0,
             "ticks": ""
            },
            "colorscale": [
             [
              0,
              "#0d0887"
             ],
             [
              0.1111111111111111,
              "#46039f"
             ],
             [
              0.2222222222222222,
              "#7201a8"
             ],
             [
              0.3333333333333333,
              "#9c179e"
             ],
             [
              0.4444444444444444,
              "#bd3786"
             ],
             [
              0.5555555555555556,
              "#d8576b"
             ],
             [
              0.6666666666666666,
              "#ed7953"
             ],
             [
              0.7777777777777778,
              "#fb9f3a"
             ],
             [
              0.8888888888888888,
              "#fdca26"
             ],
             [
              1,
              "#f0f921"
             ]
            ],
            "type": "surface"
           }
          ],
          "table": [
           {
            "cells": {
             "fill": {
              "color": "#EBF0F8"
             },
             "line": {
              "color": "white"
             }
            },
            "header": {
             "fill": {
              "color": "#C8D4E3"
             },
             "line": {
              "color": "white"
             }
            },
            "type": "table"
           }
          ]
         },
         "layout": {
          "annotationdefaults": {
           "arrowcolor": "#2a3f5f",
           "arrowhead": 0,
           "arrowwidth": 1
          },
          "autotypenumbers": "strict",
          "coloraxis": {
           "colorbar": {
            "outlinewidth": 0,
            "ticks": ""
           }
          },
          "colorscale": {
           "diverging": [
            [
             0,
             "#8e0152"
            ],
            [
             0.1,
             "#c51b7d"
            ],
            [
             0.2,
             "#de77ae"
            ],
            [
             0.3,
             "#f1b6da"
            ],
            [
             0.4,
             "#fde0ef"
            ],
            [
             0.5,
             "#f7f7f7"
            ],
            [
             0.6,
             "#e6f5d0"
            ],
            [
             0.7,
             "#b8e186"
            ],
            [
             0.8,
             "#7fbc41"
            ],
            [
             0.9,
             "#4d9221"
            ],
            [
             1,
             "#276419"
            ]
           ],
           "sequential": [
            [
             0,
             "#0d0887"
            ],
            [
             0.1111111111111111,
             "#46039f"
            ],
            [
             0.2222222222222222,
             "#7201a8"
            ],
            [
             0.3333333333333333,
             "#9c179e"
            ],
            [
             0.4444444444444444,
             "#bd3786"
            ],
            [
             0.5555555555555556,
             "#d8576b"
            ],
            [
             0.6666666666666666,
             "#ed7953"
            ],
            [
             0.7777777777777778,
             "#fb9f3a"
            ],
            [
             0.8888888888888888,
             "#fdca26"
            ],
            [
             1,
             "#f0f921"
            ]
           ],
           "sequentialminus": [
            [
             0,
             "#0d0887"
            ],
            [
             0.1111111111111111,
             "#46039f"
            ],
            [
             0.2222222222222222,
             "#7201a8"
            ],
            [
             0.3333333333333333,
             "#9c179e"
            ],
            [
             0.4444444444444444,
             "#bd3786"
            ],
            [
             0.5555555555555556,
             "#d8576b"
            ],
            [
             0.6666666666666666,
             "#ed7953"
            ],
            [
             0.7777777777777778,
             "#fb9f3a"
            ],
            [
             0.8888888888888888,
             "#fdca26"
            ],
            [
             1,
             "#f0f921"
            ]
           ]
          },
          "colorway": [
           "#636efa",
           "#EF553B",
           "#00cc96",
           "#ab63fa",
           "#FFA15A",
           "#19d3f3",
           "#FF6692",
           "#B6E880",
           "#FF97FF",
           "#FECB52"
          ],
          "font": {
           "color": "#2a3f5f"
          },
          "geo": {
           "bgcolor": "white",
           "lakecolor": "white",
           "landcolor": "white",
           "showlakes": true,
           "showland": true,
           "subunitcolor": "#C8D4E3"
          },
          "hoverlabel": {
           "align": "left"
          },
          "hovermode": "closest",
          "mapbox": {
           "style": "light"
          },
          "paper_bgcolor": "white",
          "plot_bgcolor": "white",
          "polar": {
           "angularaxis": {
            "gridcolor": "#EBF0F8",
            "linecolor": "#EBF0F8",
            "ticks": ""
           },
           "bgcolor": "white",
           "radialaxis": {
            "gridcolor": "#EBF0F8",
            "linecolor": "#EBF0F8",
            "ticks": ""
           }
          },
          "scene": {
           "xaxis": {
            "backgroundcolor": "white",
            "gridcolor": "#DFE8F3",
            "gridwidth": 2,
            "linecolor": "#EBF0F8",
            "showbackground": true,
            "ticks": "",
            "zerolinecolor": "#EBF0F8"
           },
           "yaxis": {
            "backgroundcolor": "white",
            "gridcolor": "#DFE8F3",
            "gridwidth": 2,
            "linecolor": "#EBF0F8",
            "showbackground": true,
            "ticks": "",
            "zerolinecolor": "#EBF0F8"
           },
           "zaxis": {
            "backgroundcolor": "white",
            "gridcolor": "#DFE8F3",
            "gridwidth": 2,
            "linecolor": "#EBF0F8",
            "showbackground": true,
            "ticks": "",
            "zerolinecolor": "#EBF0F8"
           }
          },
          "shapedefaults": {
           "line": {
            "color": "#2a3f5f"
           }
          },
          "ternary": {
           "aaxis": {
            "gridcolor": "#DFE8F3",
            "linecolor": "#A2B1C6",
            "ticks": ""
           },
           "baxis": {
            "gridcolor": "#DFE8F3",
            "linecolor": "#A2B1C6",
            "ticks": ""
           },
           "bgcolor": "white",
           "caxis": {
            "gridcolor": "#DFE8F3",
            "linecolor": "#A2B1C6",
            "ticks": ""
           }
          },
          "title": {
           "x": 0.05
          },
          "xaxis": {
           "automargin": true,
           "gridcolor": "#EBF0F8",
           "linecolor": "#EBF0F8",
           "ticks": "",
           "title": {
            "standoff": 15
           },
           "zerolinecolor": "#EBF0F8",
           "zerolinewidth": 2
          },
          "yaxis": {
           "automargin": true,
           "gridcolor": "#EBF0F8",
           "linecolor": "#EBF0F8",
           "ticks": "",
           "title": {
            "standoff": 15
           },
           "zerolinecolor": "#EBF0F8",
           "zerolinewidth": 2
          }
         }
        },
        "title": {
         "text": "Mean Rating by Course Difficulty",
         "x": 0.45
        },
        "width": 800,
        "xaxis": {
         "anchor": "y",
         "domain": [
          0,
          1
         ],
         "title": {
          "text": "Course Difficulty"
         }
        },
        "yaxis": {
         "anchor": "x",
         "domain": [
          0,
          1
         ],
         "title": {
          "text": "average rating"
         }
        }
       }
      },
      "text/html": [
       "<div>                            <div id=\"821199c4-4178-4ef9-9219-2763c779ea69\" class=\"plotly-graph-div\" style=\"height:700px; width:800px;\"></div>            <script type=\"text/javascript\">                require([\"plotly\"], function(Plotly) {                    window.PLOTLYENV=window.PLOTLYENV || {};                                    if (document.getElementById(\"821199c4-4178-4ef9-9219-2763c779ea69\")) {                    Plotly.newPlot(                        \"821199c4-4178-4ef9-9219-2763c779ea69\",                        [{\"alignmentgroup\":\"True\",\"hovertemplate\":\"\\u003cb\\u003e%{hovertext}\\u003c\\u002fb\\u003e\\u003cbr\\u003e\\u003cbr\\u003eCourse Difficulty=%{x}\\u003cbr\\u003eaverage rating=%{text}\\u003cextra\\u003e\\u003c\\u002fextra\\u003e\",\"hovertext\":[\"Advanced\",\"Beginner\",\"Intermediate\",\"Mixed\"],\"legendgroup\":\"\",\"marker\":{\"color\":\"rgb(136,204,238)\",\"pattern\":{\"shape\":\"\"}},\"name\":\"\",\"offsetgroup\":\"\",\"orientation\":\"v\",\"showlegend\":false,\"text\":[4.6000000000000005,4.6809034907597535,4.646464646464646,4.708556149732621],\"textposition\":\"outside\",\"x\":[\"Advanced\",\"Beginner\",\"Intermediate\",\"Mixed\"],\"xaxis\":\"x\",\"y\":[4.6000000000000005,4.6809034907597535,4.646464646464646,4.708556149732621],\"yaxis\":\"y\",\"type\":\"bar\",\"texttemplate\":\"%{text:.2s}\"}],                        {\"template\":{\"data\":{\"barpolar\":[{\"marker\":{\"line\":{\"color\":\"white\",\"width\":0.5},\"pattern\":{\"fillmode\":\"overlay\",\"size\":10,\"solidity\":0.2}},\"type\":\"barpolar\"}],\"bar\":[{\"error_x\":{\"color\":\"#2a3f5f\"},\"error_y\":{\"color\":\"#2a3f5f\"},\"marker\":{\"line\":{\"color\":\"white\",\"width\":0.5},\"pattern\":{\"fillmode\":\"overlay\",\"size\":10,\"solidity\":0.2}},\"type\":\"bar\"}],\"carpet\":[{\"aaxis\":{\"endlinecolor\":\"#2a3f5f\",\"gridcolor\":\"#C8D4E3\",\"linecolor\":\"#C8D4E3\",\"minorgridcolor\":\"#C8D4E3\",\"startlinecolor\":\"#2a3f5f\"},\"baxis\":{\"endlinecolor\":\"#2a3f5f\",\"gridcolor\":\"#C8D4E3\",\"linecolor\":\"#C8D4E3\",\"minorgridcolor\":\"#C8D4E3\",\"startlinecolor\":\"#2a3f5f\"},\"type\":\"carpet\"}],\"choropleth\":[{\"colorbar\":{\"outlinewidth\":0,\"ticks\":\"\"},\"type\":\"choropleth\"}],\"contourcarpet\":[{\"colorbar\":{\"outlinewidth\":0,\"ticks\":\"\"},\"type\":\"contourcarpet\"}],\"contour\":[{\"colorbar\":{\"outlinewidth\":0,\"ticks\":\"\"},\"colorscale\":[[0.0,\"#0d0887\"],[0.1111111111111111,\"#46039f\"],[0.2222222222222222,\"#7201a8\"],[0.3333333333333333,\"#9c179e\"],[0.4444444444444444,\"#bd3786\"],[0.5555555555555556,\"#d8576b\"],[0.6666666666666666,\"#ed7953\"],[0.7777777777777778,\"#fb9f3a\"],[0.8888888888888888,\"#fdca26\"],[1.0,\"#f0f921\"]],\"type\":\"contour\"}],\"heatmapgl\":[{\"colorbar\":{\"outlinewidth\":0,\"ticks\":\"\"},\"colorscale\":[[0.0,\"#0d0887\"],[0.1111111111111111,\"#46039f\"],[0.2222222222222222,\"#7201a8\"],[0.3333333333333333,\"#9c179e\"],[0.4444444444444444,\"#bd3786\"],[0.5555555555555556,\"#d8576b\"],[0.6666666666666666,\"#ed7953\"],[0.7777777777777778,\"#fb9f3a\"],[0.8888888888888888,\"#fdca26\"],[1.0,\"#f0f921\"]],\"type\":\"heatmapgl\"}],\"heatmap\":[{\"colorbar\":{\"outlinewidth\":0,\"ticks\":\"\"},\"colorscale\":[[0.0,\"#0d0887\"],[0.1111111111111111,\"#46039f\"],[0.2222222222222222,\"#7201a8\"],[0.3333333333333333,\"#9c179e\"],[0.4444444444444444,\"#bd3786\"],[0.5555555555555556,\"#d8576b\"],[0.6666666666666666,\"#ed7953\"],[0.7777777777777778,\"#fb9f3a\"],[0.8888888888888888,\"#fdca26\"],[1.0,\"#f0f921\"]],\"type\":\"heatmap\"}],\"histogram2dcontour\":[{\"colorbar\":{\"outlinewidth\":0,\"ticks\":\"\"},\"colorscale\":[[0.0,\"#0d0887\"],[0.1111111111111111,\"#46039f\"],[0.2222222222222222,\"#7201a8\"],[0.3333333333333333,\"#9c179e\"],[0.4444444444444444,\"#bd3786\"],[0.5555555555555556,\"#d8576b\"],[0.6666666666666666,\"#ed7953\"],[0.7777777777777778,\"#fb9f3a\"],[0.8888888888888888,\"#fdca26\"],[1.0,\"#f0f921\"]],\"type\":\"histogram2dcontour\"}],\"histogram2d\":[{\"colorbar\":{\"outlinewidth\":0,\"ticks\":\"\"},\"colorscale\":[[0.0,\"#0d0887\"],[0.1111111111111111,\"#46039f\"],[0.2222222222222222,\"#7201a8\"],[0.3333333333333333,\"#9c179e\"],[0.4444444444444444,\"#bd3786\"],[0.5555555555555556,\"#d8576b\"],[0.6666666666666666,\"#ed7953\"],[0.7777777777777778,\"#fb9f3a\"],[0.8888888888888888,\"#fdca26\"],[1.0,\"#f0f921\"]],\"type\":\"histogram2d\"}],\"histogram\":[{\"marker\":{\"pattern\":{\"fillmode\":\"overlay\",\"size\":10,\"solidity\":0.2}},\"type\":\"histogram\"}],\"mesh3d\":[{\"colorbar\":{\"outlinewidth\":0,\"ticks\":\"\"},\"type\":\"mesh3d\"}],\"parcoords\":[{\"line\":{\"colorbar\":{\"outlinewidth\":0,\"ticks\":\"\"}},\"type\":\"parcoords\"}],\"pie\":[{\"automargin\":true,\"type\":\"pie\"}],\"scatter3d\":[{\"line\":{\"colorbar\":{\"outlinewidth\":0,\"ticks\":\"\"}},\"marker\":{\"colorbar\":{\"outlinewidth\":0,\"ticks\":\"\"}},\"type\":\"scatter3d\"}],\"scattercarpet\":[{\"marker\":{\"colorbar\":{\"outlinewidth\":0,\"ticks\":\"\"}},\"type\":\"scattercarpet\"}],\"scattergeo\":[{\"marker\":{\"colorbar\":{\"outlinewidth\":0,\"ticks\":\"\"}},\"type\":\"scattergeo\"}],\"scattergl\":[{\"marker\":{\"colorbar\":{\"outlinewidth\":0,\"ticks\":\"\"}},\"type\":\"scattergl\"}],\"scattermapbox\":[{\"marker\":{\"colorbar\":{\"outlinewidth\":0,\"ticks\":\"\"}},\"type\":\"scattermapbox\"}],\"scatterpolargl\":[{\"marker\":{\"colorbar\":{\"outlinewidth\":0,\"ticks\":\"\"}},\"type\":\"scatterpolargl\"}],\"scatterpolar\":[{\"marker\":{\"colorbar\":{\"outlinewidth\":0,\"ticks\":\"\"}},\"type\":\"scatterpolar\"}],\"scatter\":[{\"fillpattern\":{\"fillmode\":\"overlay\",\"size\":10,\"solidity\":0.2},\"type\":\"scatter\"}],\"scatterternary\":[{\"marker\":{\"colorbar\":{\"outlinewidth\":0,\"ticks\":\"\"}},\"type\":\"scatterternary\"}],\"surface\":[{\"colorbar\":{\"outlinewidth\":0,\"ticks\":\"\"},\"colorscale\":[[0.0,\"#0d0887\"],[0.1111111111111111,\"#46039f\"],[0.2222222222222222,\"#7201a8\"],[0.3333333333333333,\"#9c179e\"],[0.4444444444444444,\"#bd3786\"],[0.5555555555555556,\"#d8576b\"],[0.6666666666666666,\"#ed7953\"],[0.7777777777777778,\"#fb9f3a\"],[0.8888888888888888,\"#fdca26\"],[1.0,\"#f0f921\"]],\"type\":\"surface\"}],\"table\":[{\"cells\":{\"fill\":{\"color\":\"#EBF0F8\"},\"line\":{\"color\":\"white\"}},\"header\":{\"fill\":{\"color\":\"#C8D4E3\"},\"line\":{\"color\":\"white\"}},\"type\":\"table\"}]},\"layout\":{\"annotationdefaults\":{\"arrowcolor\":\"#2a3f5f\",\"arrowhead\":0,\"arrowwidth\":1},\"autotypenumbers\":\"strict\",\"coloraxis\":{\"colorbar\":{\"outlinewidth\":0,\"ticks\":\"\"}},\"colorscale\":{\"diverging\":[[0,\"#8e0152\"],[0.1,\"#c51b7d\"],[0.2,\"#de77ae\"],[0.3,\"#f1b6da\"],[0.4,\"#fde0ef\"],[0.5,\"#f7f7f7\"],[0.6,\"#e6f5d0\"],[0.7,\"#b8e186\"],[0.8,\"#7fbc41\"],[0.9,\"#4d9221\"],[1,\"#276419\"]],\"sequential\":[[0.0,\"#0d0887\"],[0.1111111111111111,\"#46039f\"],[0.2222222222222222,\"#7201a8\"],[0.3333333333333333,\"#9c179e\"],[0.4444444444444444,\"#bd3786\"],[0.5555555555555556,\"#d8576b\"],[0.6666666666666666,\"#ed7953\"],[0.7777777777777778,\"#fb9f3a\"],[0.8888888888888888,\"#fdca26\"],[1.0,\"#f0f921\"]],\"sequentialminus\":[[0.0,\"#0d0887\"],[0.1111111111111111,\"#46039f\"],[0.2222222222222222,\"#7201a8\"],[0.3333333333333333,\"#9c179e\"],[0.4444444444444444,\"#bd3786\"],[0.5555555555555556,\"#d8576b\"],[0.6666666666666666,\"#ed7953\"],[0.7777777777777778,\"#fb9f3a\"],[0.8888888888888888,\"#fdca26\"],[1.0,\"#f0f921\"]]},\"colorway\":[\"#636efa\",\"#EF553B\",\"#00cc96\",\"#ab63fa\",\"#FFA15A\",\"#19d3f3\",\"#FF6692\",\"#B6E880\",\"#FF97FF\",\"#FECB52\"],\"font\":{\"color\":\"#2a3f5f\"},\"geo\":{\"bgcolor\":\"white\",\"lakecolor\":\"white\",\"landcolor\":\"white\",\"showlakes\":true,\"showland\":true,\"subunitcolor\":\"#C8D4E3\"},\"hoverlabel\":{\"align\":\"left\"},\"hovermode\":\"closest\",\"mapbox\":{\"style\":\"light\"},\"paper_bgcolor\":\"white\",\"plot_bgcolor\":\"white\",\"polar\":{\"angularaxis\":{\"gridcolor\":\"#EBF0F8\",\"linecolor\":\"#EBF0F8\",\"ticks\":\"\"},\"bgcolor\":\"white\",\"radialaxis\":{\"gridcolor\":\"#EBF0F8\",\"linecolor\":\"#EBF0F8\",\"ticks\":\"\"}},\"scene\":{\"xaxis\":{\"backgroundcolor\":\"white\",\"gridcolor\":\"#DFE8F3\",\"gridwidth\":2,\"linecolor\":\"#EBF0F8\",\"showbackground\":true,\"ticks\":\"\",\"zerolinecolor\":\"#EBF0F8\"},\"yaxis\":{\"backgroundcolor\":\"white\",\"gridcolor\":\"#DFE8F3\",\"gridwidth\":2,\"linecolor\":\"#EBF0F8\",\"showbackground\":true,\"ticks\":\"\",\"zerolinecolor\":\"#EBF0F8\"},\"zaxis\":{\"backgroundcolor\":\"white\",\"gridcolor\":\"#DFE8F3\",\"gridwidth\":2,\"linecolor\":\"#EBF0F8\",\"showbackground\":true,\"ticks\":\"\",\"zerolinecolor\":\"#EBF0F8\"}},\"shapedefaults\":{\"line\":{\"color\":\"#2a3f5f\"}},\"ternary\":{\"aaxis\":{\"gridcolor\":\"#DFE8F3\",\"linecolor\":\"#A2B1C6\",\"ticks\":\"\"},\"baxis\":{\"gridcolor\":\"#DFE8F3\",\"linecolor\":\"#A2B1C6\",\"ticks\":\"\"},\"bgcolor\":\"white\",\"caxis\":{\"gridcolor\":\"#DFE8F3\",\"linecolor\":\"#A2B1C6\",\"ticks\":\"\"}},\"title\":{\"x\":0.05},\"xaxis\":{\"automargin\":true,\"gridcolor\":\"#EBF0F8\",\"linecolor\":\"#EBF0F8\",\"ticks\":\"\",\"title\":{\"standoff\":15},\"zerolinecolor\":\"#EBF0F8\",\"zerolinewidth\":2},\"yaxis\":{\"automargin\":true,\"gridcolor\":\"#EBF0F8\",\"linecolor\":\"#EBF0F8\",\"ticks\":\"\",\"title\":{\"standoff\":15},\"zerolinecolor\":\"#EBF0F8\",\"zerolinewidth\":2}}},\"xaxis\":{\"anchor\":\"y\",\"domain\":[0.0,1.0],\"title\":{\"text\":\"Course Difficulty\"}},\"yaxis\":{\"anchor\":\"x\",\"domain\":[0.0,1.0],\"title\":{\"text\":\"average rating\"}},\"legend\":{\"tracegroupgap\":0},\"title\":{\"text\":\"Mean Rating by Course Difficulty\",\"x\":0.45},\"barmode\":\"relative\",\"font\":{\"size\":14},\"width\":800,\"height\":700},                        {\"responsive\": true}                    ).then(function(){\n",
       "                            \n",
       "var gd = document.getElementById('821199c4-4178-4ef9-9219-2763c779ea69');\n",
       "var x = new MutationObserver(function (mutations, observer) {{\n",
       "        var display = window.getComputedStyle(gd).display;\n",
       "        if (!display || display === 'none') {{\n",
       "            console.log([gd, 'removed!']);\n",
       "            Plotly.purge(gd);\n",
       "            observer.disconnect();\n",
       "        }}\n",
       "}});\n",
       "\n",
       "// Listen for the removal of the full notebook cells\n",
       "var notebookContainer = gd.closest('#notebook-container');\n",
       "if (notebookContainer) {{\n",
       "    x.observe(notebookContainer, {childList: true});\n",
       "}}\n",
       "\n",
       "// Listen for the clearing of the current output cell\n",
       "var outputEl = gd.closest('.output');\n",
       "if (outputEl) {{\n",
       "    x.observe(outputEl, {childList: true});\n",
       "}}\n",
       "\n",
       "                        })                };                });            </script>        </div>"
      ]
     },
     "metadata": {},
     "output_type": "display_data"
    }
   ],
   "source": [
    "#Create a new dataframe that is grouped by course difficulty and mean course rating\n",
    "mean_rating_by_difficulty = coursera_df.groupby(\"course_difficulty\")[\"course_rating\"].mean()\\\n",
    "    .reset_index(name=\"average rating\")\n",
    "\n",
    "#Plot a bar chart displaying mean course rating by course difficulty\n",
    "fig_15=px.bar(mean_rating_by_difficulty,\n",
    "             x=\"course_difficulty\",\n",
    "             y=\"average rating\",\n",
    "             title=\"Mean Rating by Course Difficulty\",\n",
    "             labels={\"course_rating\":\"Course Rating\",\\\n",
    "                      \"course_difficulty\":\"Course Difficulty\"},\n",
    "             text=\"average rating\",\n",
    "             template=\"plotly_white\",\n",
    "             color_discrete_map=discrete_colors,\n",
    "             hover_name=\"course_difficulty\")\n",
    "\n",
    "fig_15.update_traces(texttemplate=\"%{text:.2s}\", textposition=\"outside\",\n",
    "                  marker_color=\"rgb(136,204,238)\")\n",
    "\n",
    "fig_15.update_layout(font=dict(size=14),\n",
    "                     title=dict(x=0.45),\n",
    "                     width=800,\n",
    "                     height=700)\n",
    "\n",
    "fig_15.show()"
   ]
  },
  {
   "cell_type": "markdown",
   "metadata": {},
   "source": [
    "> 4.22. Are there any organizations that specialize in a particular difficulty level of courses?"
   ]
  },
  {
   "cell_type": "code",
   "execution_count": 90,
   "metadata": {},
   "outputs": [
    {
     "data": {
      "application/vnd.plotly.v1+json": {
       "config": {
        "plotlyServerURL": "https://plot.ly"
       },
       "data": [
        {
         "alignmentgroup": "True",
         "hovertemplate": "Course Difficulty=%{x}<br>Course Difficulty %=%{y}<extra></extra>",
         "legendgroup": "",
         "marker": {
          "color": "#636efa"
         },
         "name": "",
         "notched": false,
         "offsetgroup": "",
         "orientation": "v",
         "showlegend": false,
         "type": "box",
         "x": [
          "Beginner, %",
          "Beginner, %",
          "Beginner, %",
          "Beginner, %",
          "Beginner, %",
          "Beginner, %",
          "Beginner, %",
          "Beginner, %",
          "Beginner, %",
          "Beginner, %",
          "Beginner, %",
          "Beginner, %",
          "Beginner, %",
          "Beginner, %",
          "Beginner, %",
          "Beginner, %",
          "Beginner, %",
          "Beginner, %",
          "Beginner, %",
          "Beginner, %",
          "Beginner, %",
          "Beginner, %",
          "Beginner, %",
          "Beginner, %",
          "Beginner, %",
          "Beginner, %",
          "Beginner, %",
          "Beginner, %",
          "Beginner, %",
          "Beginner, %",
          "Beginner, %",
          "Beginner, %",
          "Beginner, %",
          "Beginner, %",
          "Beginner, %",
          "Beginner, %",
          "Beginner, %",
          "Beginner, %",
          "Beginner, %",
          "Beginner, %",
          "Beginner, %",
          "Beginner, %",
          "Beginner, %",
          "Beginner, %",
          "Beginner, %",
          "Beginner, %",
          "Beginner, %",
          "Beginner, %",
          "Beginner, %",
          "Beginner, %",
          "Beginner, %",
          "Beginner, %",
          "Beginner, %",
          "Beginner, %",
          "Beginner, %",
          "Beginner, %",
          "Beginner, %",
          "Beginner, %",
          "Beginner, %",
          "Beginner, %",
          "Beginner, %",
          "Beginner, %",
          "Beginner, %",
          "Beginner, %",
          "Beginner, %",
          "Beginner, %",
          "Beginner, %",
          "Beginner, %",
          "Beginner, %",
          "Beginner, %",
          "Beginner, %",
          "Beginner, %",
          "Beginner, %",
          "Beginner, %",
          "Beginner, %",
          "Beginner, %",
          "Beginner, %",
          "Beginner, %",
          "Beginner, %",
          "Beginner, %",
          "Beginner, %",
          "Beginner, %",
          "Beginner, %",
          "Beginner, %",
          "Beginner, %",
          "Beginner, %",
          "Beginner, %",
          "Beginner, %",
          "Beginner, %",
          "Beginner, %",
          "Beginner, %",
          "Beginner, %",
          "Beginner, %",
          "Beginner, %",
          "Beginner, %",
          "Beginner, %",
          "Beginner, %",
          "Beginner, %",
          "Beginner, %",
          "Beginner, %",
          "Beginner, %",
          "Beginner, %",
          "Beginner, %",
          "Beginner, %",
          "Beginner, %",
          "Beginner, %",
          "Beginner, %",
          "Beginner, %",
          "Beginner, %",
          "Beginner, %",
          "Beginner, %",
          "Beginner, %",
          "Beginner, %",
          "Beginner, %",
          "Beginner, %",
          "Beginner, %",
          "Beginner, %",
          "Beginner, %",
          "Beginner, %",
          "Beginner, %",
          "Beginner, %",
          "Beginner, %",
          "Beginner, %",
          "Beginner, %",
          "Beginner, %",
          "Beginner, %",
          "Beginner, %",
          "Beginner, %",
          "Beginner, %",
          "Beginner, %",
          "Beginner, %",
          "Beginner, %",
          "Beginner, %",
          "Beginner, %",
          "Beginner, %",
          "Beginner, %",
          "Beginner, %",
          "Beginner, %",
          "Beginner, %",
          "Beginner, %",
          "Beginner, %",
          "Beginner, %",
          "Beginner, %",
          "Beginner, %",
          "Beginner, %",
          "Beginner, %",
          "Beginner, %",
          "Beginner, %",
          "Beginner, %",
          "Beginner, %",
          "Beginner, %",
          "Beginner, %",
          "Beginner, %",
          "Beginner, %",
          "Intermediate, %",
          "Intermediate, %",
          "Intermediate, %",
          "Intermediate, %",
          "Intermediate, %",
          "Intermediate, %",
          "Intermediate, %",
          "Intermediate, %",
          "Intermediate, %",
          "Intermediate, %",
          "Intermediate, %",
          "Intermediate, %",
          "Intermediate, %",
          "Intermediate, %",
          "Intermediate, %",
          "Intermediate, %",
          "Intermediate, %",
          "Intermediate, %",
          "Intermediate, %",
          "Intermediate, %",
          "Intermediate, %",
          "Intermediate, %",
          "Intermediate, %",
          "Intermediate, %",
          "Intermediate, %",
          "Intermediate, %",
          "Intermediate, %",
          "Intermediate, %",
          "Intermediate, %",
          "Intermediate, %",
          "Intermediate, %",
          "Intermediate, %",
          "Intermediate, %",
          "Intermediate, %",
          "Intermediate, %",
          "Intermediate, %",
          "Intermediate, %",
          "Intermediate, %",
          "Intermediate, %",
          "Intermediate, %",
          "Intermediate, %",
          "Intermediate, %",
          "Intermediate, %",
          "Intermediate, %",
          "Intermediate, %",
          "Intermediate, %",
          "Intermediate, %",
          "Intermediate, %",
          "Intermediate, %",
          "Intermediate, %",
          "Intermediate, %",
          "Intermediate, %",
          "Intermediate, %",
          "Intermediate, %",
          "Intermediate, %",
          "Intermediate, %",
          "Intermediate, %",
          "Intermediate, %",
          "Intermediate, %",
          "Intermediate, %",
          "Intermediate, %",
          "Intermediate, %",
          "Intermediate, %",
          "Intermediate, %",
          "Intermediate, %",
          "Intermediate, %",
          "Intermediate, %",
          "Intermediate, %",
          "Intermediate, %",
          "Intermediate, %",
          "Intermediate, %",
          "Intermediate, %",
          "Intermediate, %",
          "Intermediate, %",
          "Intermediate, %",
          "Intermediate, %",
          "Intermediate, %",
          "Intermediate, %",
          "Intermediate, %",
          "Intermediate, %",
          "Intermediate, %",
          "Intermediate, %",
          "Intermediate, %",
          "Intermediate, %",
          "Intermediate, %",
          "Intermediate, %",
          "Intermediate, %",
          "Intermediate, %",
          "Intermediate, %",
          "Intermediate, %",
          "Intermediate, %",
          "Intermediate, %",
          "Intermediate, %",
          "Intermediate, %",
          "Intermediate, %",
          "Intermediate, %",
          "Intermediate, %",
          "Intermediate, %",
          "Intermediate, %",
          "Intermediate, %",
          "Intermediate, %",
          "Intermediate, %",
          "Intermediate, %",
          "Intermediate, %",
          "Intermediate, %",
          "Intermediate, %",
          "Intermediate, %",
          "Intermediate, %",
          "Intermediate, %",
          "Intermediate, %",
          "Intermediate, %",
          "Intermediate, %",
          "Intermediate, %",
          "Intermediate, %",
          "Intermediate, %",
          "Intermediate, %",
          "Intermediate, %",
          "Intermediate, %",
          "Intermediate, %",
          "Intermediate, %",
          "Intermediate, %",
          "Intermediate, %",
          "Intermediate, %",
          "Intermediate, %",
          "Intermediate, %",
          "Intermediate, %",
          "Intermediate, %",
          "Intermediate, %",
          "Intermediate, %",
          "Intermediate, %",
          "Intermediate, %",
          "Intermediate, %",
          "Intermediate, %",
          "Intermediate, %",
          "Intermediate, %",
          "Intermediate, %",
          "Intermediate, %",
          "Intermediate, %",
          "Intermediate, %",
          "Intermediate, %",
          "Intermediate, %",
          "Intermediate, %",
          "Intermediate, %",
          "Intermediate, %",
          "Intermediate, %",
          "Intermediate, %",
          "Intermediate, %",
          "Intermediate, %",
          "Intermediate, %",
          "Intermediate, %",
          "Intermediate, %",
          "Intermediate, %",
          "Intermediate, %",
          "Intermediate, %",
          "Mixed, %",
          "Mixed, %",
          "Mixed, %",
          "Mixed, %",
          "Mixed, %",
          "Mixed, %",
          "Mixed, %",
          "Mixed, %",
          "Mixed, %",
          "Mixed, %",
          "Mixed, %",
          "Mixed, %",
          "Mixed, %",
          "Mixed, %",
          "Mixed, %",
          "Mixed, %",
          "Mixed, %",
          "Mixed, %",
          "Mixed, %",
          "Mixed, %",
          "Mixed, %",
          "Mixed, %",
          "Mixed, %",
          "Mixed, %",
          "Mixed, %",
          "Mixed, %",
          "Mixed, %",
          "Mixed, %",
          "Mixed, %",
          "Mixed, %",
          "Mixed, %",
          "Mixed, %",
          "Mixed, %",
          "Mixed, %",
          "Mixed, %",
          "Mixed, %",
          "Mixed, %",
          "Mixed, %",
          "Mixed, %",
          "Mixed, %",
          "Mixed, %",
          "Mixed, %",
          "Mixed, %",
          "Mixed, %",
          "Mixed, %",
          "Mixed, %",
          "Mixed, %",
          "Mixed, %",
          "Mixed, %",
          "Mixed, %",
          "Mixed, %",
          "Mixed, %",
          "Mixed, %",
          "Mixed, %",
          "Mixed, %",
          "Mixed, %",
          "Mixed, %",
          "Mixed, %",
          "Mixed, %",
          "Mixed, %",
          "Mixed, %",
          "Mixed, %",
          "Mixed, %",
          "Mixed, %",
          "Mixed, %",
          "Mixed, %",
          "Mixed, %",
          "Mixed, %",
          "Mixed, %",
          "Mixed, %",
          "Mixed, %",
          "Mixed, %",
          "Mixed, %",
          "Mixed, %",
          "Mixed, %",
          "Mixed, %",
          "Mixed, %",
          "Mixed, %",
          "Mixed, %",
          "Mixed, %",
          "Mixed, %",
          "Mixed, %",
          "Mixed, %",
          "Mixed, %",
          "Mixed, %",
          "Mixed, %",
          "Mixed, %",
          "Mixed, %",
          "Mixed, %",
          "Mixed, %",
          "Mixed, %",
          "Mixed, %",
          "Mixed, %",
          "Mixed, %",
          "Mixed, %",
          "Mixed, %",
          "Mixed, %",
          "Mixed, %",
          "Mixed, %",
          "Mixed, %",
          "Mixed, %",
          "Mixed, %",
          "Mixed, %",
          "Mixed, %",
          "Mixed, %",
          "Mixed, %",
          "Mixed, %",
          "Mixed, %",
          "Mixed, %",
          "Mixed, %",
          "Mixed, %",
          "Mixed, %",
          "Mixed, %",
          "Mixed, %",
          "Mixed, %",
          "Mixed, %",
          "Mixed, %",
          "Mixed, %",
          "Mixed, %",
          "Mixed, %",
          "Mixed, %",
          "Mixed, %",
          "Mixed, %",
          "Mixed, %",
          "Mixed, %",
          "Mixed, %",
          "Mixed, %",
          "Mixed, %",
          "Mixed, %",
          "Mixed, %",
          "Mixed, %",
          "Mixed, %",
          "Mixed, %",
          "Mixed, %",
          "Mixed, %",
          "Mixed, %",
          "Mixed, %",
          "Mixed, %",
          "Mixed, %",
          "Mixed, %",
          "Mixed, %",
          "Mixed, %",
          "Mixed, %",
          "Mixed, %",
          "Mixed, %",
          "Mixed, %",
          "Mixed, %",
          "Mixed, %",
          "Mixed, %",
          "Mixed, %",
          "Mixed, %",
          "Mixed, %",
          "Mixed, %",
          "Mixed, %",
          "Advanced, %",
          "Advanced, %",
          "Advanced, %",
          "Advanced, %",
          "Advanced, %",
          "Advanced, %",
          "Advanced, %",
          "Advanced, %",
          "Advanced, %",
          "Advanced, %",
          "Advanced, %",
          "Advanced, %",
          "Advanced, %",
          "Advanced, %",
          "Advanced, %",
          "Advanced, %",
          "Advanced, %",
          "Advanced, %",
          "Advanced, %",
          "Advanced, %",
          "Advanced, %",
          "Advanced, %",
          "Advanced, %",
          "Advanced, %",
          "Advanced, %",
          "Advanced, %",
          "Advanced, %",
          "Advanced, %",
          "Advanced, %",
          "Advanced, %",
          "Advanced, %",
          "Advanced, %",
          "Advanced, %",
          "Advanced, %",
          "Advanced, %",
          "Advanced, %",
          "Advanced, %",
          "Advanced, %",
          "Advanced, %",
          "Advanced, %",
          "Advanced, %",
          "Advanced, %",
          "Advanced, %",
          "Advanced, %",
          "Advanced, %",
          "Advanced, %",
          "Advanced, %",
          "Advanced, %",
          "Advanced, %",
          "Advanced, %",
          "Advanced, %",
          "Advanced, %",
          "Advanced, %",
          "Advanced, %",
          "Advanced, %",
          "Advanced, %",
          "Advanced, %",
          "Advanced, %",
          "Advanced, %",
          "Advanced, %",
          "Advanced, %",
          "Advanced, %",
          "Advanced, %",
          "Advanced, %",
          "Advanced, %",
          "Advanced, %",
          "Advanced, %",
          "Advanced, %",
          "Advanced, %",
          "Advanced, %",
          "Advanced, %",
          "Advanced, %",
          "Advanced, %",
          "Advanced, %",
          "Advanced, %",
          "Advanced, %",
          "Advanced, %",
          "Advanced, %",
          "Advanced, %",
          "Advanced, %",
          "Advanced, %",
          "Advanced, %",
          "Advanced, %",
          "Advanced, %",
          "Advanced, %",
          "Advanced, %",
          "Advanced, %",
          "Advanced, %",
          "Advanced, %",
          "Advanced, %",
          "Advanced, %",
          "Advanced, %",
          "Advanced, %",
          "Advanced, %",
          "Advanced, %",
          "Advanced, %",
          "Advanced, %",
          "Advanced, %",
          "Advanced, %",
          "Advanced, %",
          "Advanced, %",
          "Advanced, %",
          "Advanced, %",
          "Advanced, %",
          "Advanced, %",
          "Advanced, %",
          "Advanced, %",
          "Advanced, %",
          "Advanced, %",
          "Advanced, %",
          "Advanced, %",
          "Advanced, %",
          "Advanced, %",
          "Advanced, %",
          "Advanced, %",
          "Advanced, %",
          "Advanced, %",
          "Advanced, %",
          "Advanced, %",
          "Advanced, %",
          "Advanced, %",
          "Advanced, %",
          "Advanced, %",
          "Advanced, %",
          "Advanced, %",
          "Advanced, %",
          "Advanced, %",
          "Advanced, %",
          "Advanced, %",
          "Advanced, %",
          "Advanced, %",
          "Advanced, %",
          "Advanced, %",
          "Advanced, %",
          "Advanced, %",
          "Advanced, %",
          "Advanced, %",
          "Advanced, %",
          "Advanced, %",
          "Advanced, %",
          "Advanced, %",
          "Advanced, %",
          "Advanced, %",
          "Advanced, %",
          "Advanced, %",
          "Advanced, %",
          "Advanced, %",
          "Advanced, %",
          "Advanced, %",
          "Advanced, %",
          "Advanced, %",
          "Advanced, %",
          "Advanced, %",
          "Advanced, %"
         ],
         "x0": " ",
         "xaxis": "x",
         "y": [
          100,
          66.67,
          0,
          0,
          57.14,
          50,
          0,
          100,
          100,
          57.14,
          0,
          100,
          100,
          33.33,
          100,
          100,
          71.43,
          100,
          60,
          100,
          57.14,
          33.33,
          33.33,
          0,
          100,
          75,
          0,
          60,
          60,
          0,
          20,
          100,
          100,
          0,
          23.53,
          66.67,
          0,
          100,
          72.73,
          66.67,
          100,
          80,
          100,
          0,
          77.78,
          75,
          100,
          0,
          60.71,
          100,
          100,
          100,
          0,
          100,
          100,
          44.44,
          0,
          100,
          100,
          60,
          0,
          0,
          0,
          71.43,
          100,
          0,
          80,
          40,
          100,
          100,
          100,
          100,
          100,
          57.14,
          100,
          0,
          61.54,
          100,
          83.33,
          100,
          50,
          57.14,
          66.67,
          100,
          100,
          50,
          0,
          66.67,
          100,
          50,
          14.29,
          100,
          66.67,
          0,
          25,
          50,
          25,
          100,
          0,
          0,
          25,
          100,
          0,
          100,
          0,
          100,
          33.33,
          50,
          100,
          64.29,
          0,
          40,
          0,
          100,
          87.5,
          100,
          55.56,
          33.33,
          75,
          36.36,
          50,
          44.44,
          66.67,
          55.56,
          50,
          66.67,
          57.89,
          76.92,
          100,
          33.33,
          33.33,
          31.82,
          100,
          66.67,
          66.67,
          46.34,
          36.36,
          100,
          47.46,
          66.67,
          54.55,
          94.74,
          20,
          0,
          0,
          100,
          80,
          50,
          52.94,
          100,
          18.75,
          0,
          25,
          100,
          0,
          33.33,
          100,
          100,
          28.57,
          0,
          50,
          0,
          0,
          14.29,
          0,
          0,
          0,
          33.33,
          0,
          0,
          0,
          0,
          0,
          0,
          3.57,
          66.67,
          33.33,
          0,
          0,
          0,
          100,
          40,
          0,
          100,
          0,
          0,
          0,
          0,
          70.59,
          0,
          0,
          0,
          18.18,
          33.33,
          0,
          0,
          0,
          100,
          22.22,
          0,
          0,
          100,
          10.71,
          0,
          0,
          0,
          100,
          0,
          0,
          55.56,
          100,
          0,
          0,
          10,
          100,
          0,
          0,
          14.29,
          0,
          100,
          20,
          30,
          0,
          0,
          0,
          0,
          0,
          14.29,
          0,
          0,
          23.08,
          0,
          16.67,
          0,
          0,
          14.29,
          0,
          0,
          0,
          25,
          100,
          33.33,
          0,
          50,
          71.43,
          0,
          0,
          0,
          25,
          0,
          0,
          0,
          66.67,
          0,
          50,
          0,
          0,
          0,
          0,
          0,
          0,
          50,
          0,
          14.29,
          100,
          40,
          100,
          0,
          0,
          0,
          11.11,
          66.67,
          25,
          36.36,
          16.67,
          33.33,
          19.05,
          18.52,
          50,
          0,
          31.58,
          15.38,
          0,
          0,
          33.33,
          45.45,
          0,
          33.33,
          33.33,
          24.39,
          27.27,
          0,
          8.47,
          0,
          9.09,
          5.26,
          60,
          0,
          100,
          0,
          0,
          0,
          5.88,
          0,
          81.25,
          100,
          75,
          0,
          0,
          0,
          0,
          0,
          14.29,
          50,
          0,
          0,
          0,
          28.57,
          100,
          0,
          0,
          33.33,
          0,
          0,
          28.57,
          0,
          40,
          0,
          35.71,
          0,
          33.33,
          100,
          0,
          12.5,
          0,
          0,
          20,
          0,
          80,
          0,
          0,
          100,
          0,
          33.33,
          100,
          0,
          0,
          0,
          0,
          20,
          0,
          0,
          0,
          25,
          0,
          0,
          28.57,
          0,
          0,
          0,
          0,
          0,
          0,
          0,
          0,
          0,
          0,
          30,
          0,
          100,
          100,
          0,
          0,
          0,
          0,
          30,
          0,
          0,
          0,
          0,
          0,
          28.57,
          0,
          100,
          15.38,
          0,
          0,
          0,
          50,
          28.57,
          33.33,
          0,
          0,
          6.25,
          0,
          0,
          0,
          0,
          14.29,
          0,
          33.33,
          100,
          50,
          50,
          75,
          0,
          33.33,
          100,
          25,
          0,
          100,
          0,
          100,
          0,
          66.67,
          0,
          0,
          21.43,
          0,
          20,
          0,
          0,
          12.5,
          0,
          33.33,
          0,
          0,
          27.27,
          33.33,
          22.22,
          14.29,
          22.22,
          0,
          33.33,
          0,
          0,
          0,
          66.67,
          33.33,
          22.73,
          0,
          0,
          0,
          29.27,
          36.36,
          0,
          44.07,
          33.33,
          18.18,
          0,
          20,
          100,
          0,
          0,
          20,
          50,
          41.18,
          0,
          0,
          0,
          0,
          0,
          0,
          0,
          0,
          0,
          0,
          0,
          50,
          0,
          0,
          0,
          0,
          0,
          0,
          0,
          0,
          0,
          0,
          0,
          0,
          0,
          3.57,
          0,
          0,
          0,
          0,
          12.5,
          0,
          0,
          20,
          0,
          0,
          0,
          0,
          0,
          5.88,
          0,
          0,
          0,
          9.09,
          0,
          0,
          0,
          0,
          0,
          0,
          0,
          0,
          0,
          0,
          0,
          0,
          0,
          0,
          0,
          0,
          0,
          0,
          0,
          0,
          0,
          0,
          0,
          0,
          14.29,
          0,
          0,
          0,
          0,
          0,
          0,
          0,
          0,
          0,
          0,
          0,
          0,
          0,
          0,
          0,
          0,
          0,
          0,
          0,
          0,
          0,
          18.75,
          0,
          0,
          0,
          0,
          0,
          0,
          0,
          0,
          0,
          0,
          0,
          0,
          0,
          0,
          0,
          0,
          0,
          0,
          0,
          0,
          0,
          0,
          0,
          0,
          0,
          0,
          0,
          0,
          0,
          0,
          0,
          0,
          0,
          0,
          0,
          0,
          0,
          3.7,
          0,
          0,
          10.53,
          7.69,
          0,
          0,
          0,
          0,
          0,
          0,
          0,
          0,
          0,
          0,
          0,
          0,
          18.18,
          0,
          0,
          0,
          0,
          0,
          0,
          0,
          0,
          0,
          0,
          0,
          0,
          0
         ],
         "y0": " ",
         "yaxis": "y"
        }
       ],
       "layout": {
        "boxmode": "group",
        "font": {
         "size": 14
        },
        "legend": {
         "tracegroupgap": 0
        },
        "plot_bgcolor": "rgb(242, 242, 242)",
        "template": {
         "data": {
          "bar": [
           {
            "error_x": {
             "color": "#2a3f5f"
            },
            "error_y": {
             "color": "#2a3f5f"
            },
            "marker": {
             "line": {
              "color": "#E5ECF6",
              "width": 0.5
             },
             "pattern": {
              "fillmode": "overlay",
              "size": 10,
              "solidity": 0.2
             }
            },
            "type": "bar"
           }
          ],
          "barpolar": [
           {
            "marker": {
             "line": {
              "color": "#E5ECF6",
              "width": 0.5
             },
             "pattern": {
              "fillmode": "overlay",
              "size": 10,
              "solidity": 0.2
             }
            },
            "type": "barpolar"
           }
          ],
          "carpet": [
           {
            "aaxis": {
             "endlinecolor": "#2a3f5f",
             "gridcolor": "white",
             "linecolor": "white",
             "minorgridcolor": "white",
             "startlinecolor": "#2a3f5f"
            },
            "baxis": {
             "endlinecolor": "#2a3f5f",
             "gridcolor": "white",
             "linecolor": "white",
             "minorgridcolor": "white",
             "startlinecolor": "#2a3f5f"
            },
            "type": "carpet"
           }
          ],
          "choropleth": [
           {
            "colorbar": {
             "outlinewidth": 0,
             "ticks": ""
            },
            "type": "choropleth"
           }
          ],
          "contour": [
           {
            "colorbar": {
             "outlinewidth": 0,
             "ticks": ""
            },
            "colorscale": [
             [
              0,
              "#0d0887"
             ],
             [
              0.1111111111111111,
              "#46039f"
             ],
             [
              0.2222222222222222,
              "#7201a8"
             ],
             [
              0.3333333333333333,
              "#9c179e"
             ],
             [
              0.4444444444444444,
              "#bd3786"
             ],
             [
              0.5555555555555556,
              "#d8576b"
             ],
             [
              0.6666666666666666,
              "#ed7953"
             ],
             [
              0.7777777777777778,
              "#fb9f3a"
             ],
             [
              0.8888888888888888,
              "#fdca26"
             ],
             [
              1,
              "#f0f921"
             ]
            ],
            "type": "contour"
           }
          ],
          "contourcarpet": [
           {
            "colorbar": {
             "outlinewidth": 0,
             "ticks": ""
            },
            "type": "contourcarpet"
           }
          ],
          "heatmap": [
           {
            "colorbar": {
             "outlinewidth": 0,
             "ticks": ""
            },
            "colorscale": [
             [
              0,
              "#0d0887"
             ],
             [
              0.1111111111111111,
              "#46039f"
             ],
             [
              0.2222222222222222,
              "#7201a8"
             ],
             [
              0.3333333333333333,
              "#9c179e"
             ],
             [
              0.4444444444444444,
              "#bd3786"
             ],
             [
              0.5555555555555556,
              "#d8576b"
             ],
             [
              0.6666666666666666,
              "#ed7953"
             ],
             [
              0.7777777777777778,
              "#fb9f3a"
             ],
             [
              0.8888888888888888,
              "#fdca26"
             ],
             [
              1,
              "#f0f921"
             ]
            ],
            "type": "heatmap"
           }
          ],
          "heatmapgl": [
           {
            "colorbar": {
             "outlinewidth": 0,
             "ticks": ""
            },
            "colorscale": [
             [
              0,
              "#0d0887"
             ],
             [
              0.1111111111111111,
              "#46039f"
             ],
             [
              0.2222222222222222,
              "#7201a8"
             ],
             [
              0.3333333333333333,
              "#9c179e"
             ],
             [
              0.4444444444444444,
              "#bd3786"
             ],
             [
              0.5555555555555556,
              "#d8576b"
             ],
             [
              0.6666666666666666,
              "#ed7953"
             ],
             [
              0.7777777777777778,
              "#fb9f3a"
             ],
             [
              0.8888888888888888,
              "#fdca26"
             ],
             [
              1,
              "#f0f921"
             ]
            ],
            "type": "heatmapgl"
           }
          ],
          "histogram": [
           {
            "marker": {
             "pattern": {
              "fillmode": "overlay",
              "size": 10,
              "solidity": 0.2
             }
            },
            "type": "histogram"
           }
          ],
          "histogram2d": [
           {
            "colorbar": {
             "outlinewidth": 0,
             "ticks": ""
            },
            "colorscale": [
             [
              0,
              "#0d0887"
             ],
             [
              0.1111111111111111,
              "#46039f"
             ],
             [
              0.2222222222222222,
              "#7201a8"
             ],
             [
              0.3333333333333333,
              "#9c179e"
             ],
             [
              0.4444444444444444,
              "#bd3786"
             ],
             [
              0.5555555555555556,
              "#d8576b"
             ],
             [
              0.6666666666666666,
              "#ed7953"
             ],
             [
              0.7777777777777778,
              "#fb9f3a"
             ],
             [
              0.8888888888888888,
              "#fdca26"
             ],
             [
              1,
              "#f0f921"
             ]
            ],
            "type": "histogram2d"
           }
          ],
          "histogram2dcontour": [
           {
            "colorbar": {
             "outlinewidth": 0,
             "ticks": ""
            },
            "colorscale": [
             [
              0,
              "#0d0887"
             ],
             [
              0.1111111111111111,
              "#46039f"
             ],
             [
              0.2222222222222222,
              "#7201a8"
             ],
             [
              0.3333333333333333,
              "#9c179e"
             ],
             [
              0.4444444444444444,
              "#bd3786"
             ],
             [
              0.5555555555555556,
              "#d8576b"
             ],
             [
              0.6666666666666666,
              "#ed7953"
             ],
             [
              0.7777777777777778,
              "#fb9f3a"
             ],
             [
              0.8888888888888888,
              "#fdca26"
             ],
             [
              1,
              "#f0f921"
             ]
            ],
            "type": "histogram2dcontour"
           }
          ],
          "mesh3d": [
           {
            "colorbar": {
             "outlinewidth": 0,
             "ticks": ""
            },
            "type": "mesh3d"
           }
          ],
          "parcoords": [
           {
            "line": {
             "colorbar": {
              "outlinewidth": 0,
              "ticks": ""
             }
            },
            "type": "parcoords"
           }
          ],
          "pie": [
           {
            "automargin": true,
            "type": "pie"
           }
          ],
          "scatter": [
           {
            "fillpattern": {
             "fillmode": "overlay",
             "size": 10,
             "solidity": 0.2
            },
            "type": "scatter"
           }
          ],
          "scatter3d": [
           {
            "line": {
             "colorbar": {
              "outlinewidth": 0,
              "ticks": ""
             }
            },
            "marker": {
             "colorbar": {
              "outlinewidth": 0,
              "ticks": ""
             }
            },
            "type": "scatter3d"
           }
          ],
          "scattercarpet": [
           {
            "marker": {
             "colorbar": {
              "outlinewidth": 0,
              "ticks": ""
             }
            },
            "type": "scattercarpet"
           }
          ],
          "scattergeo": [
           {
            "marker": {
             "colorbar": {
              "outlinewidth": 0,
              "ticks": ""
             }
            },
            "type": "scattergeo"
           }
          ],
          "scattergl": [
           {
            "marker": {
             "colorbar": {
              "outlinewidth": 0,
              "ticks": ""
             }
            },
            "type": "scattergl"
           }
          ],
          "scattermapbox": [
           {
            "marker": {
             "colorbar": {
              "outlinewidth": 0,
              "ticks": ""
             }
            },
            "type": "scattermapbox"
           }
          ],
          "scatterpolar": [
           {
            "marker": {
             "colorbar": {
              "outlinewidth": 0,
              "ticks": ""
             }
            },
            "type": "scatterpolar"
           }
          ],
          "scatterpolargl": [
           {
            "marker": {
             "colorbar": {
              "outlinewidth": 0,
              "ticks": ""
             }
            },
            "type": "scatterpolargl"
           }
          ],
          "scatterternary": [
           {
            "marker": {
             "colorbar": {
              "outlinewidth": 0,
              "ticks": ""
             }
            },
            "type": "scatterternary"
           }
          ],
          "surface": [
           {
            "colorbar": {
             "outlinewidth": 0,
             "ticks": ""
            },
            "colorscale": [
             [
              0,
              "#0d0887"
             ],
             [
              0.1111111111111111,
              "#46039f"
             ],
             [
              0.2222222222222222,
              "#7201a8"
             ],
             [
              0.3333333333333333,
              "#9c179e"
             ],
             [
              0.4444444444444444,
              "#bd3786"
             ],
             [
              0.5555555555555556,
              "#d8576b"
             ],
             [
              0.6666666666666666,
              "#ed7953"
             ],
             [
              0.7777777777777778,
              "#fb9f3a"
             ],
             [
              0.8888888888888888,
              "#fdca26"
             ],
             [
              1,
              "#f0f921"
             ]
            ],
            "type": "surface"
           }
          ],
          "table": [
           {
            "cells": {
             "fill": {
              "color": "#EBF0F8"
             },
             "line": {
              "color": "white"
             }
            },
            "header": {
             "fill": {
              "color": "#C8D4E3"
             },
             "line": {
              "color": "white"
             }
            },
            "type": "table"
           }
          ]
         },
         "layout": {
          "annotationdefaults": {
           "arrowcolor": "#2a3f5f",
           "arrowhead": 0,
           "arrowwidth": 1
          },
          "autotypenumbers": "strict",
          "coloraxis": {
           "colorbar": {
            "outlinewidth": 0,
            "ticks": ""
           }
          },
          "colorscale": {
           "diverging": [
            [
             0,
             "#8e0152"
            ],
            [
             0.1,
             "#c51b7d"
            ],
            [
             0.2,
             "#de77ae"
            ],
            [
             0.3,
             "#f1b6da"
            ],
            [
             0.4,
             "#fde0ef"
            ],
            [
             0.5,
             "#f7f7f7"
            ],
            [
             0.6,
             "#e6f5d0"
            ],
            [
             0.7,
             "#b8e186"
            ],
            [
             0.8,
             "#7fbc41"
            ],
            [
             0.9,
             "#4d9221"
            ],
            [
             1,
             "#276419"
            ]
           ],
           "sequential": [
            [
             0,
             "#0d0887"
            ],
            [
             0.1111111111111111,
             "#46039f"
            ],
            [
             0.2222222222222222,
             "#7201a8"
            ],
            [
             0.3333333333333333,
             "#9c179e"
            ],
            [
             0.4444444444444444,
             "#bd3786"
            ],
            [
             0.5555555555555556,
             "#d8576b"
            ],
            [
             0.6666666666666666,
             "#ed7953"
            ],
            [
             0.7777777777777778,
             "#fb9f3a"
            ],
            [
             0.8888888888888888,
             "#fdca26"
            ],
            [
             1,
             "#f0f921"
            ]
           ],
           "sequentialminus": [
            [
             0,
             "#0d0887"
            ],
            [
             0.1111111111111111,
             "#46039f"
            ],
            [
             0.2222222222222222,
             "#7201a8"
            ],
            [
             0.3333333333333333,
             "#9c179e"
            ],
            [
             0.4444444444444444,
             "#bd3786"
            ],
            [
             0.5555555555555556,
             "#d8576b"
            ],
            [
             0.6666666666666666,
             "#ed7953"
            ],
            [
             0.7777777777777778,
             "#fb9f3a"
            ],
            [
             0.8888888888888888,
             "#fdca26"
            ],
            [
             1,
             "#f0f921"
            ]
           ]
          },
          "colorway": [
           "#636efa",
           "#EF553B",
           "#00cc96",
           "#ab63fa",
           "#FFA15A",
           "#19d3f3",
           "#FF6692",
           "#B6E880",
           "#FF97FF",
           "#FECB52"
          ],
          "font": {
           "color": "#2a3f5f"
          },
          "geo": {
           "bgcolor": "white",
           "lakecolor": "white",
           "landcolor": "#E5ECF6",
           "showlakes": true,
           "showland": true,
           "subunitcolor": "white"
          },
          "hoverlabel": {
           "align": "left"
          },
          "hovermode": "closest",
          "mapbox": {
           "style": "light"
          },
          "paper_bgcolor": "white",
          "plot_bgcolor": "#E5ECF6",
          "polar": {
           "angularaxis": {
            "gridcolor": "white",
            "linecolor": "white",
            "ticks": ""
           },
           "bgcolor": "#E5ECF6",
           "radialaxis": {
            "gridcolor": "white",
            "linecolor": "white",
            "ticks": ""
           }
          },
          "scene": {
           "xaxis": {
            "backgroundcolor": "#E5ECF6",
            "gridcolor": "white",
            "gridwidth": 2,
            "linecolor": "white",
            "showbackground": true,
            "ticks": "",
            "zerolinecolor": "white"
           },
           "yaxis": {
            "backgroundcolor": "#E5ECF6",
            "gridcolor": "white",
            "gridwidth": 2,
            "linecolor": "white",
            "showbackground": true,
            "ticks": "",
            "zerolinecolor": "white"
           },
           "zaxis": {
            "backgroundcolor": "#E5ECF6",
            "gridcolor": "white",
            "gridwidth": 2,
            "linecolor": "white",
            "showbackground": true,
            "ticks": "",
            "zerolinecolor": "white"
           }
          },
          "shapedefaults": {
           "line": {
            "color": "#2a3f5f"
           }
          },
          "ternary": {
           "aaxis": {
            "gridcolor": "white",
            "linecolor": "white",
            "ticks": ""
           },
           "baxis": {
            "gridcolor": "white",
            "linecolor": "white",
            "ticks": ""
           },
           "bgcolor": "#E5ECF6",
           "caxis": {
            "gridcolor": "white",
            "linecolor": "white",
            "ticks": ""
           }
          },
          "title": {
           "x": 0.05
          },
          "xaxis": {
           "automargin": true,
           "gridcolor": "white",
           "linecolor": "white",
           "ticks": "",
           "title": {
            "standoff": 15
           },
           "zerolinecolor": "white",
           "zerolinewidth": 2
          },
          "yaxis": {
           "automargin": true,
           "gridcolor": "white",
           "linecolor": "white",
           "ticks": "",
           "title": {
            "standoff": 15
           },
           "zerolinecolor": "white",
           "zerolinewidth": 2
          }
         }
        },
        "title": {
         "text": "Distribution of Course Difficulty by Organization",
         "x": 0.45
        },
        "xaxis": {
         "anchor": "y",
         "domain": [
          0,
          1
         ],
         "title": {
          "text": "Course Difficulty"
         }
        },
        "yaxis": {
         "anchor": "x",
         "domain": [
          0,
          1
         ],
         "title": {
          "text": "Course Difficulty %"
         }
        }
       }
      },
      "text/html": [
       "<div>                            <div id=\"8f1c1aa2-0c6b-486f-8c54-0eef6c9bdf09\" class=\"plotly-graph-div\" style=\"height:525px; width:100%;\"></div>            <script type=\"text/javascript\">                require([\"plotly\"], function(Plotly) {                    window.PLOTLYENV=window.PLOTLYENV || {};                                    if (document.getElementById(\"8f1c1aa2-0c6b-486f-8c54-0eef6c9bdf09\")) {                    Plotly.newPlot(                        \"8f1c1aa2-0c6b-486f-8c54-0eef6c9bdf09\",                        [{\"alignmentgroup\":\"True\",\"hovertemplate\":\"Course Difficulty=%{x}\\u003cbr\\u003eCourse Difficulty %=%{y}\\u003cextra\\u003e\\u003c\\u002fextra\\u003e\",\"legendgroup\":\"\",\"marker\":{\"color\":\"#636efa\"},\"name\":\"\",\"notched\":false,\"offsetgroup\":\"\",\"orientation\":\"v\",\"showlegend\":false,\"x\":[\"Beginner, %\",\"Beginner, %\",\"Beginner, %\",\"Beginner, %\",\"Beginner, %\",\"Beginner, %\",\"Beginner, %\",\"Beginner, %\",\"Beginner, %\",\"Beginner, %\",\"Beginner, %\",\"Beginner, %\",\"Beginner, %\",\"Beginner, %\",\"Beginner, %\",\"Beginner, %\",\"Beginner, %\",\"Beginner, %\",\"Beginner, %\",\"Beginner, %\",\"Beginner, %\",\"Beginner, %\",\"Beginner, %\",\"Beginner, %\",\"Beginner, %\",\"Beginner, %\",\"Beginner, %\",\"Beginner, %\",\"Beginner, %\",\"Beginner, %\",\"Beginner, %\",\"Beginner, %\",\"Beginner, %\",\"Beginner, %\",\"Beginner, %\",\"Beginner, %\",\"Beginner, %\",\"Beginner, %\",\"Beginner, %\",\"Beginner, %\",\"Beginner, %\",\"Beginner, %\",\"Beginner, %\",\"Beginner, %\",\"Beginner, %\",\"Beginner, %\",\"Beginner, %\",\"Beginner, %\",\"Beginner, %\",\"Beginner, %\",\"Beginner, %\",\"Beginner, %\",\"Beginner, %\",\"Beginner, %\",\"Beginner, %\",\"Beginner, %\",\"Beginner, %\",\"Beginner, %\",\"Beginner, %\",\"Beginner, %\",\"Beginner, %\",\"Beginner, %\",\"Beginner, %\",\"Beginner, %\",\"Beginner, %\",\"Beginner, %\",\"Beginner, %\",\"Beginner, %\",\"Beginner, %\",\"Beginner, %\",\"Beginner, %\",\"Beginner, %\",\"Beginner, %\",\"Beginner, %\",\"Beginner, %\",\"Beginner, %\",\"Beginner, %\",\"Beginner, %\",\"Beginner, %\",\"Beginner, %\",\"Beginner, %\",\"Beginner, %\",\"Beginner, %\",\"Beginner, %\",\"Beginner, %\",\"Beginner, %\",\"Beginner, %\",\"Beginner, %\",\"Beginner, %\",\"Beginner, %\",\"Beginner, %\",\"Beginner, %\",\"Beginner, %\",\"Beginner, %\",\"Beginner, %\",\"Beginner, %\",\"Beginner, %\",\"Beginner, %\",\"Beginner, %\",\"Beginner, %\",\"Beginner, %\",\"Beginner, %\",\"Beginner, %\",\"Beginner, %\",\"Beginner, %\",\"Beginner, %\",\"Beginner, %\",\"Beginner, %\",\"Beginner, %\",\"Beginner, %\",\"Beginner, %\",\"Beginner, %\",\"Beginner, %\",\"Beginner, %\",\"Beginner, %\",\"Beginner, %\",\"Beginner, %\",\"Beginner, %\",\"Beginner, %\",\"Beginner, %\",\"Beginner, %\",\"Beginner, %\",\"Beginner, %\",\"Beginner, %\",\"Beginner, %\",\"Beginner, %\",\"Beginner, %\",\"Beginner, %\",\"Beginner, %\",\"Beginner, %\",\"Beginner, %\",\"Beginner, %\",\"Beginner, %\",\"Beginner, %\",\"Beginner, %\",\"Beginner, %\",\"Beginner, %\",\"Beginner, %\",\"Beginner, %\",\"Beginner, %\",\"Beginner, %\",\"Beginner, %\",\"Beginner, %\",\"Beginner, %\",\"Beginner, %\",\"Beginner, %\",\"Beginner, %\",\"Beginner, %\",\"Beginner, %\",\"Beginner, %\",\"Beginner, %\",\"Beginner, %\",\"Beginner, %\",\"Beginner, %\",\"Intermediate, %\",\"Intermediate, %\",\"Intermediate, %\",\"Intermediate, %\",\"Intermediate, %\",\"Intermediate, %\",\"Intermediate, %\",\"Intermediate, %\",\"Intermediate, %\",\"Intermediate, %\",\"Intermediate, %\",\"Intermediate, %\",\"Intermediate, %\",\"Intermediate, %\",\"Intermediate, %\",\"Intermediate, %\",\"Intermediate, %\",\"Intermediate, %\",\"Intermediate, %\",\"Intermediate, %\",\"Intermediate, %\",\"Intermediate, %\",\"Intermediate, %\",\"Intermediate, %\",\"Intermediate, %\",\"Intermediate, %\",\"Intermediate, %\",\"Intermediate, %\",\"Intermediate, %\",\"Intermediate, %\",\"Intermediate, %\",\"Intermediate, %\",\"Intermediate, %\",\"Intermediate, %\",\"Intermediate, %\",\"Intermediate, %\",\"Intermediate, %\",\"Intermediate, %\",\"Intermediate, %\",\"Intermediate, %\",\"Intermediate, %\",\"Intermediate, %\",\"Intermediate, %\",\"Intermediate, %\",\"Intermediate, %\",\"Intermediate, %\",\"Intermediate, %\",\"Intermediate, %\",\"Intermediate, %\",\"Intermediate, %\",\"Intermediate, %\",\"Intermediate, %\",\"Intermediate, %\",\"Intermediate, %\",\"Intermediate, %\",\"Intermediate, %\",\"Intermediate, %\",\"Intermediate, %\",\"Intermediate, %\",\"Intermediate, %\",\"Intermediate, %\",\"Intermediate, %\",\"Intermediate, %\",\"Intermediate, %\",\"Intermediate, %\",\"Intermediate, %\",\"Intermediate, %\",\"Intermediate, %\",\"Intermediate, %\",\"Intermediate, %\",\"Intermediate, %\",\"Intermediate, %\",\"Intermediate, %\",\"Intermediate, %\",\"Intermediate, %\",\"Intermediate, %\",\"Intermediate, %\",\"Intermediate, %\",\"Intermediate, %\",\"Intermediate, %\",\"Intermediate, %\",\"Intermediate, %\",\"Intermediate, %\",\"Intermediate, %\",\"Intermediate, %\",\"Intermediate, %\",\"Intermediate, %\",\"Intermediate, %\",\"Intermediate, %\",\"Intermediate, %\",\"Intermediate, %\",\"Intermediate, %\",\"Intermediate, %\",\"Intermediate, %\",\"Intermediate, %\",\"Intermediate, %\",\"Intermediate, %\",\"Intermediate, %\",\"Intermediate, %\",\"Intermediate, %\",\"Intermediate, %\",\"Intermediate, %\",\"Intermediate, %\",\"Intermediate, %\",\"Intermediate, %\",\"Intermediate, %\",\"Intermediate, %\",\"Intermediate, %\",\"Intermediate, %\",\"Intermediate, %\",\"Intermediate, %\",\"Intermediate, %\",\"Intermediate, %\",\"Intermediate, %\",\"Intermediate, %\",\"Intermediate, %\",\"Intermediate, %\",\"Intermediate, %\",\"Intermediate, %\",\"Intermediate, %\",\"Intermediate, %\",\"Intermediate, %\",\"Intermediate, %\",\"Intermediate, %\",\"Intermediate, %\",\"Intermediate, %\",\"Intermediate, %\",\"Intermediate, %\",\"Intermediate, %\",\"Intermediate, %\",\"Intermediate, %\",\"Intermediate, %\",\"Intermediate, %\",\"Intermediate, %\",\"Intermediate, %\",\"Intermediate, %\",\"Intermediate, %\",\"Intermediate, %\",\"Intermediate, %\",\"Intermediate, %\",\"Intermediate, %\",\"Intermediate, %\",\"Intermediate, %\",\"Intermediate, %\",\"Intermediate, %\",\"Intermediate, %\",\"Intermediate, %\",\"Intermediate, %\",\"Intermediate, %\",\"Intermediate, %\",\"Intermediate, %\",\"Intermediate, %\",\"Intermediate, %\",\"Intermediate, %\",\"Mixed, %\",\"Mixed, %\",\"Mixed, %\",\"Mixed, %\",\"Mixed, %\",\"Mixed, %\",\"Mixed, %\",\"Mixed, %\",\"Mixed, %\",\"Mixed, %\",\"Mixed, %\",\"Mixed, %\",\"Mixed, %\",\"Mixed, %\",\"Mixed, %\",\"Mixed, %\",\"Mixed, %\",\"Mixed, %\",\"Mixed, %\",\"Mixed, %\",\"Mixed, %\",\"Mixed, %\",\"Mixed, %\",\"Mixed, %\",\"Mixed, %\",\"Mixed, %\",\"Mixed, %\",\"Mixed, %\",\"Mixed, %\",\"Mixed, %\",\"Mixed, %\",\"Mixed, %\",\"Mixed, %\",\"Mixed, %\",\"Mixed, %\",\"Mixed, %\",\"Mixed, %\",\"Mixed, %\",\"Mixed, %\",\"Mixed, %\",\"Mixed, %\",\"Mixed, %\",\"Mixed, %\",\"Mixed, %\",\"Mixed, %\",\"Mixed, %\",\"Mixed, %\",\"Mixed, %\",\"Mixed, %\",\"Mixed, %\",\"Mixed, %\",\"Mixed, %\",\"Mixed, %\",\"Mixed, %\",\"Mixed, %\",\"Mixed, %\",\"Mixed, %\",\"Mixed, %\",\"Mixed, %\",\"Mixed, %\",\"Mixed, %\",\"Mixed, %\",\"Mixed, %\",\"Mixed, %\",\"Mixed, %\",\"Mixed, %\",\"Mixed, %\",\"Mixed, %\",\"Mixed, %\",\"Mixed, %\",\"Mixed, %\",\"Mixed, %\",\"Mixed, %\",\"Mixed, %\",\"Mixed, %\",\"Mixed, %\",\"Mixed, %\",\"Mixed, %\",\"Mixed, %\",\"Mixed, %\",\"Mixed, %\",\"Mixed, %\",\"Mixed, %\",\"Mixed, %\",\"Mixed, %\",\"Mixed, %\",\"Mixed, %\",\"Mixed, %\",\"Mixed, %\",\"Mixed, %\",\"Mixed, %\",\"Mixed, %\",\"Mixed, %\",\"Mixed, %\",\"Mixed, %\",\"Mixed, %\",\"Mixed, %\",\"Mixed, %\",\"Mixed, %\",\"Mixed, %\",\"Mixed, %\",\"Mixed, %\",\"Mixed, %\",\"Mixed, %\",\"Mixed, %\",\"Mixed, %\",\"Mixed, %\",\"Mixed, %\",\"Mixed, %\",\"Mixed, %\",\"Mixed, %\",\"Mixed, %\",\"Mixed, %\",\"Mixed, %\",\"Mixed, %\",\"Mixed, %\",\"Mixed, %\",\"Mixed, %\",\"Mixed, %\",\"Mixed, %\",\"Mixed, %\",\"Mixed, %\",\"Mixed, %\",\"Mixed, %\",\"Mixed, %\",\"Mixed, %\",\"Mixed, %\",\"Mixed, %\",\"Mixed, %\",\"Mixed, %\",\"Mixed, %\",\"Mixed, %\",\"Mixed, %\",\"Mixed, %\",\"Mixed, %\",\"Mixed, %\",\"Mixed, %\",\"Mixed, %\",\"Mixed, %\",\"Mixed, %\",\"Mixed, %\",\"Mixed, %\",\"Mixed, %\",\"Mixed, %\",\"Mixed, %\",\"Mixed, %\",\"Mixed, %\",\"Mixed, %\",\"Mixed, %\",\"Mixed, %\",\"Mixed, %\",\"Mixed, %\",\"Mixed, %\",\"Mixed, %\",\"Advanced, %\",\"Advanced, %\",\"Advanced, %\",\"Advanced, %\",\"Advanced, %\",\"Advanced, %\",\"Advanced, %\",\"Advanced, %\",\"Advanced, %\",\"Advanced, %\",\"Advanced, %\",\"Advanced, %\",\"Advanced, %\",\"Advanced, %\",\"Advanced, %\",\"Advanced, %\",\"Advanced, %\",\"Advanced, %\",\"Advanced, %\",\"Advanced, %\",\"Advanced, %\",\"Advanced, %\",\"Advanced, %\",\"Advanced, %\",\"Advanced, %\",\"Advanced, %\",\"Advanced, %\",\"Advanced, %\",\"Advanced, %\",\"Advanced, %\",\"Advanced, %\",\"Advanced, %\",\"Advanced, %\",\"Advanced, %\",\"Advanced, %\",\"Advanced, %\",\"Advanced, %\",\"Advanced, %\",\"Advanced, %\",\"Advanced, %\",\"Advanced, %\",\"Advanced, %\",\"Advanced, %\",\"Advanced, %\",\"Advanced, %\",\"Advanced, %\",\"Advanced, %\",\"Advanced, %\",\"Advanced, %\",\"Advanced, %\",\"Advanced, %\",\"Advanced, %\",\"Advanced, %\",\"Advanced, %\",\"Advanced, %\",\"Advanced, %\",\"Advanced, %\",\"Advanced, %\",\"Advanced, %\",\"Advanced, %\",\"Advanced, %\",\"Advanced, %\",\"Advanced, %\",\"Advanced, %\",\"Advanced, %\",\"Advanced, %\",\"Advanced, %\",\"Advanced, %\",\"Advanced, %\",\"Advanced, %\",\"Advanced, %\",\"Advanced, %\",\"Advanced, %\",\"Advanced, %\",\"Advanced, %\",\"Advanced, %\",\"Advanced, %\",\"Advanced, %\",\"Advanced, %\",\"Advanced, %\",\"Advanced, %\",\"Advanced, %\",\"Advanced, %\",\"Advanced, %\",\"Advanced, %\",\"Advanced, %\",\"Advanced, %\",\"Advanced, %\",\"Advanced, %\",\"Advanced, %\",\"Advanced, %\",\"Advanced, %\",\"Advanced, %\",\"Advanced, %\",\"Advanced, %\",\"Advanced, %\",\"Advanced, %\",\"Advanced, %\",\"Advanced, %\",\"Advanced, %\",\"Advanced, %\",\"Advanced, %\",\"Advanced, %\",\"Advanced, %\",\"Advanced, %\",\"Advanced, %\",\"Advanced, %\",\"Advanced, %\",\"Advanced, %\",\"Advanced, %\",\"Advanced, %\",\"Advanced, %\",\"Advanced, %\",\"Advanced, %\",\"Advanced, %\",\"Advanced, %\",\"Advanced, %\",\"Advanced, %\",\"Advanced, %\",\"Advanced, %\",\"Advanced, %\",\"Advanced, %\",\"Advanced, %\",\"Advanced, %\",\"Advanced, %\",\"Advanced, %\",\"Advanced, %\",\"Advanced, %\",\"Advanced, %\",\"Advanced, %\",\"Advanced, %\",\"Advanced, %\",\"Advanced, %\",\"Advanced, %\",\"Advanced, %\",\"Advanced, %\",\"Advanced, %\",\"Advanced, %\",\"Advanced, %\",\"Advanced, %\",\"Advanced, %\",\"Advanced, %\",\"Advanced, %\",\"Advanced, %\",\"Advanced, %\",\"Advanced, %\",\"Advanced, %\",\"Advanced, %\",\"Advanced, %\",\"Advanced, %\",\"Advanced, %\",\"Advanced, %\",\"Advanced, %\",\"Advanced, %\"],\"x0\":\" \",\"xaxis\":\"x\",\"y\":[100.0,66.67,0.0,0.0,57.14,50.0,0.0,100.0,100.0,57.14,0.0,100.0,100.0,33.33,100.0,100.0,71.43,100.0,60.0,100.0,57.14,33.33,33.33,0.0,100.0,75.0,0.0,60.0,60.0,0.0,20.0,100.0,100.0,0.0,23.53,66.67,0.0,100.0,72.73,66.67,100.0,80.0,100.0,0.0,77.78,75.0,100.0,0.0,60.71,100.0,100.0,100.0,0.0,100.0,100.0,44.44,0.0,100.0,100.0,60.0,0.0,0.0,0.0,71.43,100.0,0.0,80.0,40.0,100.0,100.0,100.0,100.0,100.0,57.14,100.0,0.0,61.54,100.0,83.33,100.0,50.0,57.14,66.67,100.0,100.0,50.0,0.0,66.67,100.0,50.0,14.29,100.0,66.67,0.0,25.0,50.0,25.0,100.0,0.0,0.0,25.0,100.0,0.0,100.0,0.0,100.0,33.33,50.0,100.0,64.29,0.0,40.0,0.0,100.0,87.5,100.0,55.56,33.33,75.0,36.36,50.0,44.44,66.67,55.56,50.0,66.67,57.89,76.92,100.0,33.33,33.33,31.82,100.0,66.67,66.67,46.34,36.36,100.0,47.46,66.67,54.55,94.74,20.0,0.0,0.0,100.0,80.0,50.0,52.94,100.0,18.75,0.0,25.0,100.0,0.0,33.33,100.0,100.0,28.57,0.0,50.0,0.0,0.0,14.29,0.0,0.0,0.0,33.33,0.0,0.0,0.0,0.0,0.0,0.0,3.57,66.67,33.33,0.0,0.0,0.0,100.0,40.0,0.0,100.0,0.0,0.0,0.0,0.0,70.59,0.0,0.0,0.0,18.18,33.33,0.0,0.0,0.0,100.0,22.22,0.0,0.0,100.0,10.71,0.0,0.0,0.0,100.0,0.0,0.0,55.56,100.0,0.0,0.0,10.0,100.0,0.0,0.0,14.29,0.0,100.0,20.0,30.0,0.0,0.0,0.0,0.0,0.0,14.29,0.0,0.0,23.08,0.0,16.67,0.0,0.0,14.29,0.0,0.0,0.0,25.0,100.0,33.33,0.0,50.0,71.43,0.0,0.0,0.0,25.0,0.0,0.0,0.0,66.67,0.0,50.0,0.0,0.0,0.0,0.0,0.0,0.0,50.0,0.0,14.29,100.0,40.0,100.0,0.0,0.0,0.0,11.11,66.67,25.0,36.36,16.67,33.33,19.05,18.52,50.0,0.0,31.58,15.38,0.0,0.0,33.33,45.45,0.0,33.33,33.33,24.39,27.27,0.0,8.47,0.0,9.09,5.26,60.0,0.0,100.0,0.0,0.0,0.0,5.88,0.0,81.25,100.0,75.0,0.0,0.0,0.0,0.0,0.0,14.29,50.0,0.0,0.0,0.0,28.57,100.0,0.0,0.0,33.33,0.0,0.0,28.57,0.0,40.0,0.0,35.71,0.0,33.33,100.0,0.0,12.5,0.0,0.0,20.0,0.0,80.0,0.0,0.0,100.0,0.0,33.33,100.0,0.0,0.0,0.0,0.0,20.0,0.0,0.0,0.0,25.0,0.0,0.0,28.57,0.0,0.0,0.0,0.0,0.0,0.0,0.0,0.0,0.0,0.0,30.0,0.0,100.0,100.0,0.0,0.0,0.0,0.0,30.0,0.0,0.0,0.0,0.0,0.0,28.57,0.0,100.0,15.38,0.0,0.0,0.0,50.0,28.57,33.33,0.0,0.0,6.25,0.0,0.0,0.0,0.0,14.29,0.0,33.33,100.0,50.0,50.0,75.0,0.0,33.33,100.0,25.0,0.0,100.0,0.0,100.0,0.0,66.67,0.0,0.0,21.43,0.0,20.0,0.0,0.0,12.5,0.0,33.33,0.0,0.0,27.27,33.33,22.22,14.29,22.22,0.0,33.33,0.0,0.0,0.0,66.67,33.33,22.73,0.0,0.0,0.0,29.27,36.36,0.0,44.07,33.33,18.18,0.0,20.0,100.0,0.0,0.0,20.0,50.0,41.18,0.0,0.0,0.0,0.0,0.0,0.0,0.0,0.0,0.0,0.0,0.0,50.0,0.0,0.0,0.0,0.0,0.0,0.0,0.0,0.0,0.0,0.0,0.0,0.0,0.0,3.57,0.0,0.0,0.0,0.0,12.5,0.0,0.0,20.0,0.0,0.0,0.0,0.0,0.0,5.88,0.0,0.0,0.0,9.09,0.0,0.0,0.0,0.0,0.0,0.0,0.0,0.0,0.0,0.0,0.0,0.0,0.0,0.0,0.0,0.0,0.0,0.0,0.0,0.0,0.0,0.0,0.0,0.0,14.29,0.0,0.0,0.0,0.0,0.0,0.0,0.0,0.0,0.0,0.0,0.0,0.0,0.0,0.0,0.0,0.0,0.0,0.0,0.0,0.0,0.0,18.75,0.0,0.0,0.0,0.0,0.0,0.0,0.0,0.0,0.0,0.0,0.0,0.0,0.0,0.0,0.0,0.0,0.0,0.0,0.0,0.0,0.0,0.0,0.0,0.0,0.0,0.0,0.0,0.0,0.0,0.0,0.0,0.0,0.0,0.0,0.0,0.0,0.0,3.7,0.0,0.0,10.53,7.69,0.0,0.0,0.0,0.0,0.0,0.0,0.0,0.0,0.0,0.0,0.0,0.0,18.18,0.0,0.0,0.0,0.0,0.0,0.0,0.0,0.0,0.0,0.0,0.0,0.0,0.0],\"y0\":\" \",\"yaxis\":\"y\",\"type\":\"box\"}],                        {\"template\":{\"data\":{\"histogram2dcontour\":[{\"type\":\"histogram2dcontour\",\"colorbar\":{\"outlinewidth\":0,\"ticks\":\"\"},\"colorscale\":[[0.0,\"#0d0887\"],[0.1111111111111111,\"#46039f\"],[0.2222222222222222,\"#7201a8\"],[0.3333333333333333,\"#9c179e\"],[0.4444444444444444,\"#bd3786\"],[0.5555555555555556,\"#d8576b\"],[0.6666666666666666,\"#ed7953\"],[0.7777777777777778,\"#fb9f3a\"],[0.8888888888888888,\"#fdca26\"],[1.0,\"#f0f921\"]]}],\"choropleth\":[{\"type\":\"choropleth\",\"colorbar\":{\"outlinewidth\":0,\"ticks\":\"\"}}],\"histogram2d\":[{\"type\":\"histogram2d\",\"colorbar\":{\"outlinewidth\":0,\"ticks\":\"\"},\"colorscale\":[[0.0,\"#0d0887\"],[0.1111111111111111,\"#46039f\"],[0.2222222222222222,\"#7201a8\"],[0.3333333333333333,\"#9c179e\"],[0.4444444444444444,\"#bd3786\"],[0.5555555555555556,\"#d8576b\"],[0.6666666666666666,\"#ed7953\"],[0.7777777777777778,\"#fb9f3a\"],[0.8888888888888888,\"#fdca26\"],[1.0,\"#f0f921\"]]}],\"heatmap\":[{\"type\":\"heatmap\",\"colorbar\":{\"outlinewidth\":0,\"ticks\":\"\"},\"colorscale\":[[0.0,\"#0d0887\"],[0.1111111111111111,\"#46039f\"],[0.2222222222222222,\"#7201a8\"],[0.3333333333333333,\"#9c179e\"],[0.4444444444444444,\"#bd3786\"],[0.5555555555555556,\"#d8576b\"],[0.6666666666666666,\"#ed7953\"],[0.7777777777777778,\"#fb9f3a\"],[0.8888888888888888,\"#fdca26\"],[1.0,\"#f0f921\"]]}],\"heatmapgl\":[{\"type\":\"heatmapgl\",\"colorbar\":{\"outlinewidth\":0,\"ticks\":\"\"},\"colorscale\":[[0.0,\"#0d0887\"],[0.1111111111111111,\"#46039f\"],[0.2222222222222222,\"#7201a8\"],[0.3333333333333333,\"#9c179e\"],[0.4444444444444444,\"#bd3786\"],[0.5555555555555556,\"#d8576b\"],[0.6666666666666666,\"#ed7953\"],[0.7777777777777778,\"#fb9f3a\"],[0.8888888888888888,\"#fdca26\"],[1.0,\"#f0f921\"]]}],\"contourcarpet\":[{\"type\":\"contourcarpet\",\"colorbar\":{\"outlinewidth\":0,\"ticks\":\"\"}}],\"contour\":[{\"type\":\"contour\",\"colorbar\":{\"outlinewidth\":0,\"ticks\":\"\"},\"colorscale\":[[0.0,\"#0d0887\"],[0.1111111111111111,\"#46039f\"],[0.2222222222222222,\"#7201a8\"],[0.3333333333333333,\"#9c179e\"],[0.4444444444444444,\"#bd3786\"],[0.5555555555555556,\"#d8576b\"],[0.6666666666666666,\"#ed7953\"],[0.7777777777777778,\"#fb9f3a\"],[0.8888888888888888,\"#fdca26\"],[1.0,\"#f0f921\"]]}],\"surface\":[{\"type\":\"surface\",\"colorbar\":{\"outlinewidth\":0,\"ticks\":\"\"},\"colorscale\":[[0.0,\"#0d0887\"],[0.1111111111111111,\"#46039f\"],[0.2222222222222222,\"#7201a8\"],[0.3333333333333333,\"#9c179e\"],[0.4444444444444444,\"#bd3786\"],[0.5555555555555556,\"#d8576b\"],[0.6666666666666666,\"#ed7953\"],[0.7777777777777778,\"#fb9f3a\"],[0.8888888888888888,\"#fdca26\"],[1.0,\"#f0f921\"]]}],\"mesh3d\":[{\"type\":\"mesh3d\",\"colorbar\":{\"outlinewidth\":0,\"ticks\":\"\"}}],\"scatter\":[{\"fillpattern\":{\"fillmode\":\"overlay\",\"size\":10,\"solidity\":0.2},\"type\":\"scatter\"}],\"parcoords\":[{\"type\":\"parcoords\",\"line\":{\"colorbar\":{\"outlinewidth\":0,\"ticks\":\"\"}}}],\"scatterpolargl\":[{\"type\":\"scatterpolargl\",\"marker\":{\"colorbar\":{\"outlinewidth\":0,\"ticks\":\"\"}}}],\"bar\":[{\"error_x\":{\"color\":\"#2a3f5f\"},\"error_y\":{\"color\":\"#2a3f5f\"},\"marker\":{\"line\":{\"color\":\"#E5ECF6\",\"width\":0.5},\"pattern\":{\"fillmode\":\"overlay\",\"size\":10,\"solidity\":0.2}},\"type\":\"bar\"}],\"scattergeo\":[{\"type\":\"scattergeo\",\"marker\":{\"colorbar\":{\"outlinewidth\":0,\"ticks\":\"\"}}}],\"scatterpolar\":[{\"type\":\"scatterpolar\",\"marker\":{\"colorbar\":{\"outlinewidth\":0,\"ticks\":\"\"}}}],\"histogram\":[{\"marker\":{\"pattern\":{\"fillmode\":\"overlay\",\"size\":10,\"solidity\":0.2}},\"type\":\"histogram\"}],\"scattergl\":[{\"type\":\"scattergl\",\"marker\":{\"colorbar\":{\"outlinewidth\":0,\"ticks\":\"\"}}}],\"scatter3d\":[{\"type\":\"scatter3d\",\"line\":{\"colorbar\":{\"outlinewidth\":0,\"ticks\":\"\"}},\"marker\":{\"colorbar\":{\"outlinewidth\":0,\"ticks\":\"\"}}}],\"scattermapbox\":[{\"type\":\"scattermapbox\",\"marker\":{\"colorbar\":{\"outlinewidth\":0,\"ticks\":\"\"}}}],\"scatterternary\":[{\"type\":\"scatterternary\",\"marker\":{\"colorbar\":{\"outlinewidth\":0,\"ticks\":\"\"}}}],\"scattercarpet\":[{\"type\":\"scattercarpet\",\"marker\":{\"colorbar\":{\"outlinewidth\":0,\"ticks\":\"\"}}}],\"carpet\":[{\"aaxis\":{\"endlinecolor\":\"#2a3f5f\",\"gridcolor\":\"white\",\"linecolor\":\"white\",\"minorgridcolor\":\"white\",\"startlinecolor\":\"#2a3f5f\"},\"baxis\":{\"endlinecolor\":\"#2a3f5f\",\"gridcolor\":\"white\",\"linecolor\":\"white\",\"minorgridcolor\":\"white\",\"startlinecolor\":\"#2a3f5f\"},\"type\":\"carpet\"}],\"table\":[{\"cells\":{\"fill\":{\"color\":\"#EBF0F8\"},\"line\":{\"color\":\"white\"}},\"header\":{\"fill\":{\"color\":\"#C8D4E3\"},\"line\":{\"color\":\"white\"}},\"type\":\"table\"}],\"barpolar\":[{\"marker\":{\"line\":{\"color\":\"#E5ECF6\",\"width\":0.5},\"pattern\":{\"fillmode\":\"overlay\",\"size\":10,\"solidity\":0.2}},\"type\":\"barpolar\"}],\"pie\":[{\"automargin\":true,\"type\":\"pie\"}]},\"layout\":{\"autotypenumbers\":\"strict\",\"colorway\":[\"#636efa\",\"#EF553B\",\"#00cc96\",\"#ab63fa\",\"#FFA15A\",\"#19d3f3\",\"#FF6692\",\"#B6E880\",\"#FF97FF\",\"#FECB52\"],\"font\":{\"color\":\"#2a3f5f\"},\"hovermode\":\"closest\",\"hoverlabel\":{\"align\":\"left\"},\"paper_bgcolor\":\"white\",\"plot_bgcolor\":\"#E5ECF6\",\"polar\":{\"bgcolor\":\"#E5ECF6\",\"angularaxis\":{\"gridcolor\":\"white\",\"linecolor\":\"white\",\"ticks\":\"\"},\"radialaxis\":{\"gridcolor\":\"white\",\"linecolor\":\"white\",\"ticks\":\"\"}},\"ternary\":{\"bgcolor\":\"#E5ECF6\",\"aaxis\":{\"gridcolor\":\"white\",\"linecolor\":\"white\",\"ticks\":\"\"},\"baxis\":{\"gridcolor\":\"white\",\"linecolor\":\"white\",\"ticks\":\"\"},\"caxis\":{\"gridcolor\":\"white\",\"linecolor\":\"white\",\"ticks\":\"\"}},\"coloraxis\":{\"colorbar\":{\"outlinewidth\":0,\"ticks\":\"\"}},\"colorscale\":{\"sequential\":[[0.0,\"#0d0887\"],[0.1111111111111111,\"#46039f\"],[0.2222222222222222,\"#7201a8\"],[0.3333333333333333,\"#9c179e\"],[0.4444444444444444,\"#bd3786\"],[0.5555555555555556,\"#d8576b\"],[0.6666666666666666,\"#ed7953\"],[0.7777777777777778,\"#fb9f3a\"],[0.8888888888888888,\"#fdca26\"],[1.0,\"#f0f921\"]],\"sequentialminus\":[[0.0,\"#0d0887\"],[0.1111111111111111,\"#46039f\"],[0.2222222222222222,\"#7201a8\"],[0.3333333333333333,\"#9c179e\"],[0.4444444444444444,\"#bd3786\"],[0.5555555555555556,\"#d8576b\"],[0.6666666666666666,\"#ed7953\"],[0.7777777777777778,\"#fb9f3a\"],[0.8888888888888888,\"#fdca26\"],[1.0,\"#f0f921\"]],\"diverging\":[[0,\"#8e0152\"],[0.1,\"#c51b7d\"],[0.2,\"#de77ae\"],[0.3,\"#f1b6da\"],[0.4,\"#fde0ef\"],[0.5,\"#f7f7f7\"],[0.6,\"#e6f5d0\"],[0.7,\"#b8e186\"],[0.8,\"#7fbc41\"],[0.9,\"#4d9221\"],[1,\"#276419\"]]},\"xaxis\":{\"gridcolor\":\"white\",\"linecolor\":\"white\",\"ticks\":\"\",\"title\":{\"standoff\":15},\"zerolinecolor\":\"white\",\"automargin\":true,\"zerolinewidth\":2},\"yaxis\":{\"gridcolor\":\"white\",\"linecolor\":\"white\",\"ticks\":\"\",\"title\":{\"standoff\":15},\"zerolinecolor\":\"white\",\"automargin\":true,\"zerolinewidth\":2},\"scene\":{\"xaxis\":{\"backgroundcolor\":\"#E5ECF6\",\"gridcolor\":\"white\",\"linecolor\":\"white\",\"showbackground\":true,\"ticks\":\"\",\"zerolinecolor\":\"white\",\"gridwidth\":2},\"yaxis\":{\"backgroundcolor\":\"#E5ECF6\",\"gridcolor\":\"white\",\"linecolor\":\"white\",\"showbackground\":true,\"ticks\":\"\",\"zerolinecolor\":\"white\",\"gridwidth\":2},\"zaxis\":{\"backgroundcolor\":\"#E5ECF6\",\"gridcolor\":\"white\",\"linecolor\":\"white\",\"showbackground\":true,\"ticks\":\"\",\"zerolinecolor\":\"white\",\"gridwidth\":2}},\"shapedefaults\":{\"line\":{\"color\":\"#2a3f5f\"}},\"annotationdefaults\":{\"arrowcolor\":\"#2a3f5f\",\"arrowhead\":0,\"arrowwidth\":1},\"geo\":{\"bgcolor\":\"white\",\"landcolor\":\"#E5ECF6\",\"subunitcolor\":\"white\",\"showland\":true,\"showlakes\":true,\"lakecolor\":\"white\"},\"title\":{\"x\":0.05},\"mapbox\":{\"style\":\"light\"}}},\"xaxis\":{\"anchor\":\"y\",\"domain\":[0.0,1.0],\"title\":{\"text\":\"Course Difficulty\"}},\"yaxis\":{\"anchor\":\"x\",\"domain\":[0.0,1.0],\"title\":{\"text\":\"Course Difficulty %\"}},\"legend\":{\"tracegroupgap\":0},\"title\":{\"text\":\"Distribution of Course Difficulty by Organization\",\"x\":0.45},\"boxmode\":\"group\",\"font\":{\"size\":14},\"plot_bgcolor\":\"rgb(242, 242, 242)\"},                        {\"responsive\": true}                    ).then(function(){\n",
       "                            \n",
       "var gd = document.getElementById('8f1c1aa2-0c6b-486f-8c54-0eef6c9bdf09');\n",
       "var x = new MutationObserver(function (mutations, observer) {{\n",
       "        var display = window.getComputedStyle(gd).display;\n",
       "        if (!display || display === 'none') {{\n",
       "            console.log([gd, 'removed!']);\n",
       "            Plotly.purge(gd);\n",
       "            observer.disconnect();\n",
       "        }}\n",
       "}});\n",
       "\n",
       "// Listen for the removal of the full notebook cells\n",
       "var notebookContainer = gd.closest('#notebook-container');\n",
       "if (notebookContainer) {{\n",
       "    x.observe(notebookContainer, {childList: true});\n",
       "}}\n",
       "\n",
       "// Listen for the clearing of the current output cell\n",
       "var outputEl = gd.closest('.output');\n",
       "if (outputEl) {{\n",
       "    x.observe(outputEl, {childList: true});\n",
       "}}\n",
       "\n",
       "                        })                };                });            </script>        </div>"
      ]
     },
     "metadata": {},
     "output_type": "display_data"
    },
    {
     "data": {
      "application/vnd.plotly.v1+json": {
       "config": {
        "plotlyServerURL": "https://plot.ly"
       },
       "data": [
        {
         "alignmentgroup": "True",
         "hovertemplate": "Course Difficulty=Beginner, %<br>Organization=%{x}<br>Course Difficulty %=%{y}<extra></extra>",
         "legendgroup": "Beginner, %",
         "marker": {
          "color": "rgb(169,169,169)",
          "pattern": {
           "shape": ""
          }
         },
         "name": "Beginner, %",
         "offsetgroup": "Beginner, %",
         "orientation": "v",
         "showlegend": true,
         "textposition": "auto",
         "type": "bar",
         "x": [
          "(ISC)²",
          "Amazon Web Services",
          "American Institute of Business and Economics",
          "American Museum of Natural History",
          "Arizona State University",
          "Atlassian",
          "Autodesk",
          "Automation Anywhere",
          "BCG",
          "Berklee College of Music"
         ],
         "xaxis": "x",
         "y": [
          100,
          66.67,
          0,
          0,
          57.14,
          50,
          0,
          100,
          100,
          57.14
         ],
         "yaxis": "y"
        },
        {
         "alignmentgroup": "True",
         "hovertemplate": "Course Difficulty=Intermediate, %<br>Organization=%{x}<br>Course Difficulty %=%{y}<extra></extra>",
         "legendgroup": "Intermediate, %",
         "marker": {
          "color": "rgb(144,103,167)",
          "pattern": {
           "shape": ""
          }
         },
         "name": "Intermediate, %",
         "offsetgroup": "Intermediate, %",
         "orientation": "v",
         "showlegend": true,
         "textposition": "auto",
         "type": "bar",
         "x": [
          "(ISC)²",
          "Amazon Web Services",
          "American Institute of Business and Economics",
          "American Museum of Natural History",
          "Arizona State University",
          "Atlassian",
          "Autodesk",
          "Automation Anywhere",
          "BCG",
          "Berklee College of Music"
         ],
         "xaxis": "x",
         "y": [
          0,
          33.33,
          100,
          100,
          28.57,
          0,
          50,
          0,
          0,
          14.29
         ],
         "yaxis": "y"
        },
        {
         "alignmentgroup": "True",
         "hovertemplate": "Course Difficulty=Mixed, %<br>Organization=%{x}<br>Course Difficulty %=%{y}<extra></extra>",
         "legendgroup": "Mixed, %",
         "marker": {
          "color": "rgb(136,204,238)",
          "pattern": {
           "shape": ""
          }
         },
         "name": "Mixed, %",
         "offsetgroup": "Mixed, %",
         "orientation": "v",
         "showlegend": true,
         "textposition": "auto",
         "type": "bar",
         "x": [
          "(ISC)²",
          "Amazon Web Services",
          "American Institute of Business and Economics",
          "American Museum of Natural History",
          "Arizona State University",
          "Atlassian",
          "Autodesk",
          "Automation Anywhere",
          "BCG",
          "Berklee College of Music"
         ],
         "xaxis": "x",
         "y": [
          0,
          0,
          0,
          0,
          14.29,
          50,
          0,
          0,
          0,
          28.57
         ],
         "yaxis": "y"
        },
        {
         "alignmentgroup": "True",
         "hovertemplate": "Course Difficulty=Advanced, %<br>Organization=%{x}<br>Course Difficulty %=%{y}<extra></extra>",
         "legendgroup": "Advanced, %",
         "marker": {
          "color": "rgb(0,0,139)",
          "pattern": {
           "shape": ""
          }
         },
         "name": "Advanced, %",
         "offsetgroup": "Advanced, %",
         "orientation": "v",
         "showlegend": true,
         "textposition": "auto",
         "type": "bar",
         "x": [
          "(ISC)²",
          "Amazon Web Services",
          "American Institute of Business and Economics",
          "American Museum of Natural History",
          "Arizona State University",
          "Atlassian",
          "Autodesk",
          "Automation Anywhere",
          "BCG",
          "Berklee College of Music"
         ],
         "xaxis": "x",
         "y": [
          0,
          0,
          0,
          0,
          0,
          0,
          50,
          0,
          0,
          0
         ],
         "yaxis": "y"
        }
       ],
       "layout": {
        "barmode": "group",
        "font": {
         "size": 14
        },
        "height": 550,
        "legend": {
         "title": {
          "text": "Course Difficulty"
         },
         "tracegroupgap": 0
        },
        "template": {
         "data": {
          "bar": [
           {
            "error_x": {
             "color": "#2a3f5f"
            },
            "error_y": {
             "color": "#2a3f5f"
            },
            "marker": {
             "line": {
              "color": "white",
              "width": 0.5
             },
             "pattern": {
              "fillmode": "overlay",
              "size": 10,
              "solidity": 0.2
             }
            },
            "type": "bar"
           }
          ],
          "barpolar": [
           {
            "marker": {
             "line": {
              "color": "white",
              "width": 0.5
             },
             "pattern": {
              "fillmode": "overlay",
              "size": 10,
              "solidity": 0.2
             }
            },
            "type": "barpolar"
           }
          ],
          "carpet": [
           {
            "aaxis": {
             "endlinecolor": "#2a3f5f",
             "gridcolor": "#C8D4E3",
             "linecolor": "#C8D4E3",
             "minorgridcolor": "#C8D4E3",
             "startlinecolor": "#2a3f5f"
            },
            "baxis": {
             "endlinecolor": "#2a3f5f",
             "gridcolor": "#C8D4E3",
             "linecolor": "#C8D4E3",
             "minorgridcolor": "#C8D4E3",
             "startlinecolor": "#2a3f5f"
            },
            "type": "carpet"
           }
          ],
          "choropleth": [
           {
            "colorbar": {
             "outlinewidth": 0,
             "ticks": ""
            },
            "type": "choropleth"
           }
          ],
          "contour": [
           {
            "colorbar": {
             "outlinewidth": 0,
             "ticks": ""
            },
            "colorscale": [
             [
              0,
              "#0d0887"
             ],
             [
              0.1111111111111111,
              "#46039f"
             ],
             [
              0.2222222222222222,
              "#7201a8"
             ],
             [
              0.3333333333333333,
              "#9c179e"
             ],
             [
              0.4444444444444444,
              "#bd3786"
             ],
             [
              0.5555555555555556,
              "#d8576b"
             ],
             [
              0.6666666666666666,
              "#ed7953"
             ],
             [
              0.7777777777777778,
              "#fb9f3a"
             ],
             [
              0.8888888888888888,
              "#fdca26"
             ],
             [
              1,
              "#f0f921"
             ]
            ],
            "type": "contour"
           }
          ],
          "contourcarpet": [
           {
            "colorbar": {
             "outlinewidth": 0,
             "ticks": ""
            },
            "type": "contourcarpet"
           }
          ],
          "heatmap": [
           {
            "colorbar": {
             "outlinewidth": 0,
             "ticks": ""
            },
            "colorscale": [
             [
              0,
              "#0d0887"
             ],
             [
              0.1111111111111111,
              "#46039f"
             ],
             [
              0.2222222222222222,
              "#7201a8"
             ],
             [
              0.3333333333333333,
              "#9c179e"
             ],
             [
              0.4444444444444444,
              "#bd3786"
             ],
             [
              0.5555555555555556,
              "#d8576b"
             ],
             [
              0.6666666666666666,
              "#ed7953"
             ],
             [
              0.7777777777777778,
              "#fb9f3a"
             ],
             [
              0.8888888888888888,
              "#fdca26"
             ],
             [
              1,
              "#f0f921"
             ]
            ],
            "type": "heatmap"
           }
          ],
          "heatmapgl": [
           {
            "colorbar": {
             "outlinewidth": 0,
             "ticks": ""
            },
            "colorscale": [
             [
              0,
              "#0d0887"
             ],
             [
              0.1111111111111111,
              "#46039f"
             ],
             [
              0.2222222222222222,
              "#7201a8"
             ],
             [
              0.3333333333333333,
              "#9c179e"
             ],
             [
              0.4444444444444444,
              "#bd3786"
             ],
             [
              0.5555555555555556,
              "#d8576b"
             ],
             [
              0.6666666666666666,
              "#ed7953"
             ],
             [
              0.7777777777777778,
              "#fb9f3a"
             ],
             [
              0.8888888888888888,
              "#fdca26"
             ],
             [
              1,
              "#f0f921"
             ]
            ],
            "type": "heatmapgl"
           }
          ],
          "histogram": [
           {
            "marker": {
             "pattern": {
              "fillmode": "overlay",
              "size": 10,
              "solidity": 0.2
             }
            },
            "type": "histogram"
           }
          ],
          "histogram2d": [
           {
            "colorbar": {
             "outlinewidth": 0,
             "ticks": ""
            },
            "colorscale": [
             [
              0,
              "#0d0887"
             ],
             [
              0.1111111111111111,
              "#46039f"
             ],
             [
              0.2222222222222222,
              "#7201a8"
             ],
             [
              0.3333333333333333,
              "#9c179e"
             ],
             [
              0.4444444444444444,
              "#bd3786"
             ],
             [
              0.5555555555555556,
              "#d8576b"
             ],
             [
              0.6666666666666666,
              "#ed7953"
             ],
             [
              0.7777777777777778,
              "#fb9f3a"
             ],
             [
              0.8888888888888888,
              "#fdca26"
             ],
             [
              1,
              "#f0f921"
             ]
            ],
            "type": "histogram2d"
           }
          ],
          "histogram2dcontour": [
           {
            "colorbar": {
             "outlinewidth": 0,
             "ticks": ""
            },
            "colorscale": [
             [
              0,
              "#0d0887"
             ],
             [
              0.1111111111111111,
              "#46039f"
             ],
             [
              0.2222222222222222,
              "#7201a8"
             ],
             [
              0.3333333333333333,
              "#9c179e"
             ],
             [
              0.4444444444444444,
              "#bd3786"
             ],
             [
              0.5555555555555556,
              "#d8576b"
             ],
             [
              0.6666666666666666,
              "#ed7953"
             ],
             [
              0.7777777777777778,
              "#fb9f3a"
             ],
             [
              0.8888888888888888,
              "#fdca26"
             ],
             [
              1,
              "#f0f921"
             ]
            ],
            "type": "histogram2dcontour"
           }
          ],
          "mesh3d": [
           {
            "colorbar": {
             "outlinewidth": 0,
             "ticks": ""
            },
            "type": "mesh3d"
           }
          ],
          "parcoords": [
           {
            "line": {
             "colorbar": {
              "outlinewidth": 0,
              "ticks": ""
             }
            },
            "type": "parcoords"
           }
          ],
          "pie": [
           {
            "automargin": true,
            "type": "pie"
           }
          ],
          "scatter": [
           {
            "fillpattern": {
             "fillmode": "overlay",
             "size": 10,
             "solidity": 0.2
            },
            "type": "scatter"
           }
          ],
          "scatter3d": [
           {
            "line": {
             "colorbar": {
              "outlinewidth": 0,
              "ticks": ""
             }
            },
            "marker": {
             "colorbar": {
              "outlinewidth": 0,
              "ticks": ""
             }
            },
            "type": "scatter3d"
           }
          ],
          "scattercarpet": [
           {
            "marker": {
             "colorbar": {
              "outlinewidth": 0,
              "ticks": ""
             }
            },
            "type": "scattercarpet"
           }
          ],
          "scattergeo": [
           {
            "marker": {
             "colorbar": {
              "outlinewidth": 0,
              "ticks": ""
             }
            },
            "type": "scattergeo"
           }
          ],
          "scattergl": [
           {
            "marker": {
             "colorbar": {
              "outlinewidth": 0,
              "ticks": ""
             }
            },
            "type": "scattergl"
           }
          ],
          "scattermapbox": [
           {
            "marker": {
             "colorbar": {
              "outlinewidth": 0,
              "ticks": ""
             }
            },
            "type": "scattermapbox"
           }
          ],
          "scatterpolar": [
           {
            "marker": {
             "colorbar": {
              "outlinewidth": 0,
              "ticks": ""
             }
            },
            "type": "scatterpolar"
           }
          ],
          "scatterpolargl": [
           {
            "marker": {
             "colorbar": {
              "outlinewidth": 0,
              "ticks": ""
             }
            },
            "type": "scatterpolargl"
           }
          ],
          "scatterternary": [
           {
            "marker": {
             "colorbar": {
              "outlinewidth": 0,
              "ticks": ""
             }
            },
            "type": "scatterternary"
           }
          ],
          "surface": [
           {
            "colorbar": {
             "outlinewidth": 0,
             "ticks": ""
            },
            "colorscale": [
             [
              0,
              "#0d0887"
             ],
             [
              0.1111111111111111,
              "#46039f"
             ],
             [
              0.2222222222222222,
              "#7201a8"
             ],
             [
              0.3333333333333333,
              "#9c179e"
             ],
             [
              0.4444444444444444,
              "#bd3786"
             ],
             [
              0.5555555555555556,
              "#d8576b"
             ],
             [
              0.6666666666666666,
              "#ed7953"
             ],
             [
              0.7777777777777778,
              "#fb9f3a"
             ],
             [
              0.8888888888888888,
              "#fdca26"
             ],
             [
              1,
              "#f0f921"
             ]
            ],
            "type": "surface"
           }
          ],
          "table": [
           {
            "cells": {
             "fill": {
              "color": "#EBF0F8"
             },
             "line": {
              "color": "white"
             }
            },
            "header": {
             "fill": {
              "color": "#C8D4E3"
             },
             "line": {
              "color": "white"
             }
            },
            "type": "table"
           }
          ]
         },
         "layout": {
          "annotationdefaults": {
           "arrowcolor": "#2a3f5f",
           "arrowhead": 0,
           "arrowwidth": 1
          },
          "autotypenumbers": "strict",
          "coloraxis": {
           "colorbar": {
            "outlinewidth": 0,
            "ticks": ""
           }
          },
          "colorscale": {
           "diverging": [
            [
             0,
             "#8e0152"
            ],
            [
             0.1,
             "#c51b7d"
            ],
            [
             0.2,
             "#de77ae"
            ],
            [
             0.3,
             "#f1b6da"
            ],
            [
             0.4,
             "#fde0ef"
            ],
            [
             0.5,
             "#f7f7f7"
            ],
            [
             0.6,
             "#e6f5d0"
            ],
            [
             0.7,
             "#b8e186"
            ],
            [
             0.8,
             "#7fbc41"
            ],
            [
             0.9,
             "#4d9221"
            ],
            [
             1,
             "#276419"
            ]
           ],
           "sequential": [
            [
             0,
             "#0d0887"
            ],
            [
             0.1111111111111111,
             "#46039f"
            ],
            [
             0.2222222222222222,
             "#7201a8"
            ],
            [
             0.3333333333333333,
             "#9c179e"
            ],
            [
             0.4444444444444444,
             "#bd3786"
            ],
            [
             0.5555555555555556,
             "#d8576b"
            ],
            [
             0.6666666666666666,
             "#ed7953"
            ],
            [
             0.7777777777777778,
             "#fb9f3a"
            ],
            [
             0.8888888888888888,
             "#fdca26"
            ],
            [
             1,
             "#f0f921"
            ]
           ],
           "sequentialminus": [
            [
             0,
             "#0d0887"
            ],
            [
             0.1111111111111111,
             "#46039f"
            ],
            [
             0.2222222222222222,
             "#7201a8"
            ],
            [
             0.3333333333333333,
             "#9c179e"
            ],
            [
             0.4444444444444444,
             "#bd3786"
            ],
            [
             0.5555555555555556,
             "#d8576b"
            ],
            [
             0.6666666666666666,
             "#ed7953"
            ],
            [
             0.7777777777777778,
             "#fb9f3a"
            ],
            [
             0.8888888888888888,
             "#fdca26"
            ],
            [
             1,
             "#f0f921"
            ]
           ]
          },
          "colorway": [
           "#636efa",
           "#EF553B",
           "#00cc96",
           "#ab63fa",
           "#FFA15A",
           "#19d3f3",
           "#FF6692",
           "#B6E880",
           "#FF97FF",
           "#FECB52"
          ],
          "font": {
           "color": "#2a3f5f"
          },
          "geo": {
           "bgcolor": "white",
           "lakecolor": "white",
           "landcolor": "white",
           "showlakes": true,
           "showland": true,
           "subunitcolor": "#C8D4E3"
          },
          "hoverlabel": {
           "align": "left"
          },
          "hovermode": "closest",
          "mapbox": {
           "style": "light"
          },
          "paper_bgcolor": "white",
          "plot_bgcolor": "white",
          "polar": {
           "angularaxis": {
            "gridcolor": "#EBF0F8",
            "linecolor": "#EBF0F8",
            "ticks": ""
           },
           "bgcolor": "white",
           "radialaxis": {
            "gridcolor": "#EBF0F8",
            "linecolor": "#EBF0F8",
            "ticks": ""
           }
          },
          "scene": {
           "xaxis": {
            "backgroundcolor": "white",
            "gridcolor": "#DFE8F3",
            "gridwidth": 2,
            "linecolor": "#EBF0F8",
            "showbackground": true,
            "ticks": "",
            "zerolinecolor": "#EBF0F8"
           },
           "yaxis": {
            "backgroundcolor": "white",
            "gridcolor": "#DFE8F3",
            "gridwidth": 2,
            "linecolor": "#EBF0F8",
            "showbackground": true,
            "ticks": "",
            "zerolinecolor": "#EBF0F8"
           },
           "zaxis": {
            "backgroundcolor": "white",
            "gridcolor": "#DFE8F3",
            "gridwidth": 2,
            "linecolor": "#EBF0F8",
            "showbackground": true,
            "ticks": "",
            "zerolinecolor": "#EBF0F8"
           }
          },
          "shapedefaults": {
           "line": {
            "color": "#2a3f5f"
           }
          },
          "ternary": {
           "aaxis": {
            "gridcolor": "#DFE8F3",
            "linecolor": "#A2B1C6",
            "ticks": ""
           },
           "baxis": {
            "gridcolor": "#DFE8F3",
            "linecolor": "#A2B1C6",
            "ticks": ""
           },
           "bgcolor": "white",
           "caxis": {
            "gridcolor": "#DFE8F3",
            "linecolor": "#A2B1C6",
            "ticks": ""
           }
          },
          "title": {
           "x": 0.05
          },
          "xaxis": {
           "automargin": true,
           "gridcolor": "#EBF0F8",
           "linecolor": "#EBF0F8",
           "ticks": "",
           "title": {
            "standoff": 15
           },
           "zerolinecolor": "#EBF0F8",
           "zerolinewidth": 2
          },
          "yaxis": {
           "automargin": true,
           "gridcolor": "#EBF0F8",
           "linecolor": "#EBF0F8",
           "ticks": "",
           "title": {
            "standoff": 15
           },
           "zerolinecolor": "#EBF0F8",
           "zerolinewidth": 2
          }
         }
        },
        "title": {
         "text": "Certificate Types by Top Organizations",
         "x": 0.45
        },
        "width": 800,
        "xaxis": {
         "anchor": "y",
         "domain": [
          0,
          1
         ],
         "title": {
          "text": "Organization"
         }
        },
        "yaxis": {
         "anchor": "x",
         "domain": [
          0,
          1
         ],
         "title": {
          "text": "Course Difficulty %"
         }
        }
       }
      },
      "text/html": [
       "<div>                            <div id=\"9dd48e73-5b92-445f-85cf-962f65f9d7f5\" class=\"plotly-graph-div\" style=\"height:550px; width:800px;\"></div>            <script type=\"text/javascript\">                require([\"plotly\"], function(Plotly) {                    window.PLOTLYENV=window.PLOTLYENV || {};                                    if (document.getElementById(\"9dd48e73-5b92-445f-85cf-962f65f9d7f5\")) {                    Plotly.newPlot(                        \"9dd48e73-5b92-445f-85cf-962f65f9d7f5\",                        [{\"alignmentgroup\":\"True\",\"hovertemplate\":\"Course Difficulty=Beginner, %\\u003cbr\\u003eOrganization=%{x}\\u003cbr\\u003eCourse Difficulty %=%{y}\\u003cextra\\u003e\\u003c\\u002fextra\\u003e\",\"legendgroup\":\"Beginner, %\",\"marker\":{\"color\":\"rgb(169,169,169)\",\"pattern\":{\"shape\":\"\"}},\"name\":\"Beginner, %\",\"offsetgroup\":\"Beginner, %\",\"orientation\":\"v\",\"showlegend\":true,\"textposition\":\"auto\",\"x\":[\"(ISC)\\u00b2\",\"Amazon Web Services\",\"American Institute of Business and Economics\",\"American Museum of Natural History\",\"Arizona State University\",\"Atlassian\",\"Autodesk\",\"Automation Anywhere\",\"BCG\",\"Berklee College of Music\"],\"xaxis\":\"x\",\"y\":[100.0,66.67,0.0,0.0,57.14,50.0,0.0,100.0,100.0,57.14],\"yaxis\":\"y\",\"type\":\"bar\"},{\"alignmentgroup\":\"True\",\"hovertemplate\":\"Course Difficulty=Intermediate, %\\u003cbr\\u003eOrganization=%{x}\\u003cbr\\u003eCourse Difficulty %=%{y}\\u003cextra\\u003e\\u003c\\u002fextra\\u003e\",\"legendgroup\":\"Intermediate, %\",\"marker\":{\"color\":\"rgb(144,103,167)\",\"pattern\":{\"shape\":\"\"}},\"name\":\"Intermediate, %\",\"offsetgroup\":\"Intermediate, %\",\"orientation\":\"v\",\"showlegend\":true,\"textposition\":\"auto\",\"x\":[\"(ISC)\\u00b2\",\"Amazon Web Services\",\"American Institute of Business and Economics\",\"American Museum of Natural History\",\"Arizona State University\",\"Atlassian\",\"Autodesk\",\"Automation Anywhere\",\"BCG\",\"Berklee College of Music\"],\"xaxis\":\"x\",\"y\":[0.0,33.33,100.0,100.0,28.57,0.0,50.0,0.0,0.0,14.29],\"yaxis\":\"y\",\"type\":\"bar\"},{\"alignmentgroup\":\"True\",\"hovertemplate\":\"Course Difficulty=Mixed, %\\u003cbr\\u003eOrganization=%{x}\\u003cbr\\u003eCourse Difficulty %=%{y}\\u003cextra\\u003e\\u003c\\u002fextra\\u003e\",\"legendgroup\":\"Mixed, %\",\"marker\":{\"color\":\"rgb(136,204,238)\",\"pattern\":{\"shape\":\"\"}},\"name\":\"Mixed, %\",\"offsetgroup\":\"Mixed, %\",\"orientation\":\"v\",\"showlegend\":true,\"textposition\":\"auto\",\"x\":[\"(ISC)\\u00b2\",\"Amazon Web Services\",\"American Institute of Business and Economics\",\"American Museum of Natural History\",\"Arizona State University\",\"Atlassian\",\"Autodesk\",\"Automation Anywhere\",\"BCG\",\"Berklee College of Music\"],\"xaxis\":\"x\",\"y\":[0.0,0.0,0.0,0.0,14.29,50.0,0.0,0.0,0.0,28.57],\"yaxis\":\"y\",\"type\":\"bar\"},{\"alignmentgroup\":\"True\",\"hovertemplate\":\"Course Difficulty=Advanced, %\\u003cbr\\u003eOrganization=%{x}\\u003cbr\\u003eCourse Difficulty %=%{y}\\u003cextra\\u003e\\u003c\\u002fextra\\u003e\",\"legendgroup\":\"Advanced, %\",\"marker\":{\"color\":\"rgb(0,0,139)\",\"pattern\":{\"shape\":\"\"}},\"name\":\"Advanced, %\",\"offsetgroup\":\"Advanced, %\",\"orientation\":\"v\",\"showlegend\":true,\"textposition\":\"auto\",\"x\":[\"(ISC)\\u00b2\",\"Amazon Web Services\",\"American Institute of Business and Economics\",\"American Museum of Natural History\",\"Arizona State University\",\"Atlassian\",\"Autodesk\",\"Automation Anywhere\",\"BCG\",\"Berklee College of Music\"],\"xaxis\":\"x\",\"y\":[0.0,0.0,0.0,0.0,0.0,0.0,50.0,0.0,0.0,0.0],\"yaxis\":\"y\",\"type\":\"bar\"}],                        {\"template\":{\"data\":{\"barpolar\":[{\"marker\":{\"line\":{\"color\":\"white\",\"width\":0.5},\"pattern\":{\"fillmode\":\"overlay\",\"size\":10,\"solidity\":0.2}},\"type\":\"barpolar\"}],\"bar\":[{\"error_x\":{\"color\":\"#2a3f5f\"},\"error_y\":{\"color\":\"#2a3f5f\"},\"marker\":{\"line\":{\"color\":\"white\",\"width\":0.5},\"pattern\":{\"fillmode\":\"overlay\",\"size\":10,\"solidity\":0.2}},\"type\":\"bar\"}],\"carpet\":[{\"aaxis\":{\"endlinecolor\":\"#2a3f5f\",\"gridcolor\":\"#C8D4E3\",\"linecolor\":\"#C8D4E3\",\"minorgridcolor\":\"#C8D4E3\",\"startlinecolor\":\"#2a3f5f\"},\"baxis\":{\"endlinecolor\":\"#2a3f5f\",\"gridcolor\":\"#C8D4E3\",\"linecolor\":\"#C8D4E3\",\"minorgridcolor\":\"#C8D4E3\",\"startlinecolor\":\"#2a3f5f\"},\"type\":\"carpet\"}],\"choropleth\":[{\"colorbar\":{\"outlinewidth\":0,\"ticks\":\"\"},\"type\":\"choropleth\"}],\"contourcarpet\":[{\"colorbar\":{\"outlinewidth\":0,\"ticks\":\"\"},\"type\":\"contourcarpet\"}],\"contour\":[{\"colorbar\":{\"outlinewidth\":0,\"ticks\":\"\"},\"colorscale\":[[0.0,\"#0d0887\"],[0.1111111111111111,\"#46039f\"],[0.2222222222222222,\"#7201a8\"],[0.3333333333333333,\"#9c179e\"],[0.4444444444444444,\"#bd3786\"],[0.5555555555555556,\"#d8576b\"],[0.6666666666666666,\"#ed7953\"],[0.7777777777777778,\"#fb9f3a\"],[0.8888888888888888,\"#fdca26\"],[1.0,\"#f0f921\"]],\"type\":\"contour\"}],\"heatmapgl\":[{\"colorbar\":{\"outlinewidth\":0,\"ticks\":\"\"},\"colorscale\":[[0.0,\"#0d0887\"],[0.1111111111111111,\"#46039f\"],[0.2222222222222222,\"#7201a8\"],[0.3333333333333333,\"#9c179e\"],[0.4444444444444444,\"#bd3786\"],[0.5555555555555556,\"#d8576b\"],[0.6666666666666666,\"#ed7953\"],[0.7777777777777778,\"#fb9f3a\"],[0.8888888888888888,\"#fdca26\"],[1.0,\"#f0f921\"]],\"type\":\"heatmapgl\"}],\"heatmap\":[{\"colorbar\":{\"outlinewidth\":0,\"ticks\":\"\"},\"colorscale\":[[0.0,\"#0d0887\"],[0.1111111111111111,\"#46039f\"],[0.2222222222222222,\"#7201a8\"],[0.3333333333333333,\"#9c179e\"],[0.4444444444444444,\"#bd3786\"],[0.5555555555555556,\"#d8576b\"],[0.6666666666666666,\"#ed7953\"],[0.7777777777777778,\"#fb9f3a\"],[0.8888888888888888,\"#fdca26\"],[1.0,\"#f0f921\"]],\"type\":\"heatmap\"}],\"histogram2dcontour\":[{\"colorbar\":{\"outlinewidth\":0,\"ticks\":\"\"},\"colorscale\":[[0.0,\"#0d0887\"],[0.1111111111111111,\"#46039f\"],[0.2222222222222222,\"#7201a8\"],[0.3333333333333333,\"#9c179e\"],[0.4444444444444444,\"#bd3786\"],[0.5555555555555556,\"#d8576b\"],[0.6666666666666666,\"#ed7953\"],[0.7777777777777778,\"#fb9f3a\"],[0.8888888888888888,\"#fdca26\"],[1.0,\"#f0f921\"]],\"type\":\"histogram2dcontour\"}],\"histogram2d\":[{\"colorbar\":{\"outlinewidth\":0,\"ticks\":\"\"},\"colorscale\":[[0.0,\"#0d0887\"],[0.1111111111111111,\"#46039f\"],[0.2222222222222222,\"#7201a8\"],[0.3333333333333333,\"#9c179e\"],[0.4444444444444444,\"#bd3786\"],[0.5555555555555556,\"#d8576b\"],[0.6666666666666666,\"#ed7953\"],[0.7777777777777778,\"#fb9f3a\"],[0.8888888888888888,\"#fdca26\"],[1.0,\"#f0f921\"]],\"type\":\"histogram2d\"}],\"histogram\":[{\"marker\":{\"pattern\":{\"fillmode\":\"overlay\",\"size\":10,\"solidity\":0.2}},\"type\":\"histogram\"}],\"mesh3d\":[{\"colorbar\":{\"outlinewidth\":0,\"ticks\":\"\"},\"type\":\"mesh3d\"}],\"parcoords\":[{\"line\":{\"colorbar\":{\"outlinewidth\":0,\"ticks\":\"\"}},\"type\":\"parcoords\"}],\"pie\":[{\"automargin\":true,\"type\":\"pie\"}],\"scatter3d\":[{\"line\":{\"colorbar\":{\"outlinewidth\":0,\"ticks\":\"\"}},\"marker\":{\"colorbar\":{\"outlinewidth\":0,\"ticks\":\"\"}},\"type\":\"scatter3d\"}],\"scattercarpet\":[{\"marker\":{\"colorbar\":{\"outlinewidth\":0,\"ticks\":\"\"}},\"type\":\"scattercarpet\"}],\"scattergeo\":[{\"marker\":{\"colorbar\":{\"outlinewidth\":0,\"ticks\":\"\"}},\"type\":\"scattergeo\"}],\"scattergl\":[{\"marker\":{\"colorbar\":{\"outlinewidth\":0,\"ticks\":\"\"}},\"type\":\"scattergl\"}],\"scattermapbox\":[{\"marker\":{\"colorbar\":{\"outlinewidth\":0,\"ticks\":\"\"}},\"type\":\"scattermapbox\"}],\"scatterpolargl\":[{\"marker\":{\"colorbar\":{\"outlinewidth\":0,\"ticks\":\"\"}},\"type\":\"scatterpolargl\"}],\"scatterpolar\":[{\"marker\":{\"colorbar\":{\"outlinewidth\":0,\"ticks\":\"\"}},\"type\":\"scatterpolar\"}],\"scatter\":[{\"fillpattern\":{\"fillmode\":\"overlay\",\"size\":10,\"solidity\":0.2},\"type\":\"scatter\"}],\"scatterternary\":[{\"marker\":{\"colorbar\":{\"outlinewidth\":0,\"ticks\":\"\"}},\"type\":\"scatterternary\"}],\"surface\":[{\"colorbar\":{\"outlinewidth\":0,\"ticks\":\"\"},\"colorscale\":[[0.0,\"#0d0887\"],[0.1111111111111111,\"#46039f\"],[0.2222222222222222,\"#7201a8\"],[0.3333333333333333,\"#9c179e\"],[0.4444444444444444,\"#bd3786\"],[0.5555555555555556,\"#d8576b\"],[0.6666666666666666,\"#ed7953\"],[0.7777777777777778,\"#fb9f3a\"],[0.8888888888888888,\"#fdca26\"],[1.0,\"#f0f921\"]],\"type\":\"surface\"}],\"table\":[{\"cells\":{\"fill\":{\"color\":\"#EBF0F8\"},\"line\":{\"color\":\"white\"}},\"header\":{\"fill\":{\"color\":\"#C8D4E3\"},\"line\":{\"color\":\"white\"}},\"type\":\"table\"}]},\"layout\":{\"annotationdefaults\":{\"arrowcolor\":\"#2a3f5f\",\"arrowhead\":0,\"arrowwidth\":1},\"autotypenumbers\":\"strict\",\"coloraxis\":{\"colorbar\":{\"outlinewidth\":0,\"ticks\":\"\"}},\"colorscale\":{\"diverging\":[[0,\"#8e0152\"],[0.1,\"#c51b7d\"],[0.2,\"#de77ae\"],[0.3,\"#f1b6da\"],[0.4,\"#fde0ef\"],[0.5,\"#f7f7f7\"],[0.6,\"#e6f5d0\"],[0.7,\"#b8e186\"],[0.8,\"#7fbc41\"],[0.9,\"#4d9221\"],[1,\"#276419\"]],\"sequential\":[[0.0,\"#0d0887\"],[0.1111111111111111,\"#46039f\"],[0.2222222222222222,\"#7201a8\"],[0.3333333333333333,\"#9c179e\"],[0.4444444444444444,\"#bd3786\"],[0.5555555555555556,\"#d8576b\"],[0.6666666666666666,\"#ed7953\"],[0.7777777777777778,\"#fb9f3a\"],[0.8888888888888888,\"#fdca26\"],[1.0,\"#f0f921\"]],\"sequentialminus\":[[0.0,\"#0d0887\"],[0.1111111111111111,\"#46039f\"],[0.2222222222222222,\"#7201a8\"],[0.3333333333333333,\"#9c179e\"],[0.4444444444444444,\"#bd3786\"],[0.5555555555555556,\"#d8576b\"],[0.6666666666666666,\"#ed7953\"],[0.7777777777777778,\"#fb9f3a\"],[0.8888888888888888,\"#fdca26\"],[1.0,\"#f0f921\"]]},\"colorway\":[\"#636efa\",\"#EF553B\",\"#00cc96\",\"#ab63fa\",\"#FFA15A\",\"#19d3f3\",\"#FF6692\",\"#B6E880\",\"#FF97FF\",\"#FECB52\"],\"font\":{\"color\":\"#2a3f5f\"},\"geo\":{\"bgcolor\":\"white\",\"lakecolor\":\"white\",\"landcolor\":\"white\",\"showlakes\":true,\"showland\":true,\"subunitcolor\":\"#C8D4E3\"},\"hoverlabel\":{\"align\":\"left\"},\"hovermode\":\"closest\",\"mapbox\":{\"style\":\"light\"},\"paper_bgcolor\":\"white\",\"plot_bgcolor\":\"white\",\"polar\":{\"angularaxis\":{\"gridcolor\":\"#EBF0F8\",\"linecolor\":\"#EBF0F8\",\"ticks\":\"\"},\"bgcolor\":\"white\",\"radialaxis\":{\"gridcolor\":\"#EBF0F8\",\"linecolor\":\"#EBF0F8\",\"ticks\":\"\"}},\"scene\":{\"xaxis\":{\"backgroundcolor\":\"white\",\"gridcolor\":\"#DFE8F3\",\"gridwidth\":2,\"linecolor\":\"#EBF0F8\",\"showbackground\":true,\"ticks\":\"\",\"zerolinecolor\":\"#EBF0F8\"},\"yaxis\":{\"backgroundcolor\":\"white\",\"gridcolor\":\"#DFE8F3\",\"gridwidth\":2,\"linecolor\":\"#EBF0F8\",\"showbackground\":true,\"ticks\":\"\",\"zerolinecolor\":\"#EBF0F8\"},\"zaxis\":{\"backgroundcolor\":\"white\",\"gridcolor\":\"#DFE8F3\",\"gridwidth\":2,\"linecolor\":\"#EBF0F8\",\"showbackground\":true,\"ticks\":\"\",\"zerolinecolor\":\"#EBF0F8\"}},\"shapedefaults\":{\"line\":{\"color\":\"#2a3f5f\"}},\"ternary\":{\"aaxis\":{\"gridcolor\":\"#DFE8F3\",\"linecolor\":\"#A2B1C6\",\"ticks\":\"\"},\"baxis\":{\"gridcolor\":\"#DFE8F3\",\"linecolor\":\"#A2B1C6\",\"ticks\":\"\"},\"bgcolor\":\"white\",\"caxis\":{\"gridcolor\":\"#DFE8F3\",\"linecolor\":\"#A2B1C6\",\"ticks\":\"\"}},\"title\":{\"x\":0.05},\"xaxis\":{\"automargin\":true,\"gridcolor\":\"#EBF0F8\",\"linecolor\":\"#EBF0F8\",\"ticks\":\"\",\"title\":{\"standoff\":15},\"zerolinecolor\":\"#EBF0F8\",\"zerolinewidth\":2},\"yaxis\":{\"automargin\":true,\"gridcolor\":\"#EBF0F8\",\"linecolor\":\"#EBF0F8\",\"ticks\":\"\",\"title\":{\"standoff\":15},\"zerolinecolor\":\"#EBF0F8\",\"zerolinewidth\":2}}},\"xaxis\":{\"anchor\":\"y\",\"domain\":[0.0,1.0],\"title\":{\"text\":\"Organization\"}},\"yaxis\":{\"anchor\":\"x\",\"domain\":[0.0,1.0],\"title\":{\"text\":\"Course Difficulty %\"}},\"legend\":{\"title\":{\"text\":\"Course Difficulty\"},\"tracegroupgap\":0},\"title\":{\"text\":\"Certificate Types by Top Organizations\",\"x\":0.45},\"barmode\":\"group\",\"font\":{\"size\":14},\"width\":800,\"height\":550},                        {\"responsive\": true}                    ).then(function(){\n",
       "                            \n",
       "var gd = document.getElementById('9dd48e73-5b92-445f-85cf-962f65f9d7f5');\n",
       "var x = new MutationObserver(function (mutations, observer) {{\n",
       "        var display = window.getComputedStyle(gd).display;\n",
       "        if (!display || display === 'none') {{\n",
       "            console.log([gd, 'removed!']);\n",
       "            Plotly.purge(gd);\n",
       "            observer.disconnect();\n",
       "        }}\n",
       "}});\n",
       "\n",
       "// Listen for the removal of the full notebook cells\n",
       "var notebookContainer = gd.closest('#notebook-container');\n",
       "if (notebookContainer) {{\n",
       "    x.observe(notebookContainer, {childList: true});\n",
       "}}\n",
       "\n",
       "// Listen for the clearing of the current output cell\n",
       "var outputEl = gd.closest('.output');\n",
       "if (outputEl) {{\n",
       "    x.observe(outputEl, {childList: true});\n",
       "}}\n",
       "\n",
       "                        })                };                });            </script>        </div>"
      ]
     },
     "metadata": {},
     "output_type": "display_data"
    }
   ],
   "source": [
    "#Group by organization and difficulty level and count number of courses \n",
    "difficulty_level_counts = coursera_df.groupby([\"course_organization\", \"course_difficulty\"]).size()\\\n",
    "    .reset_index(name=\"count\")\n",
    "\n",
    "#Pivot data to clearly see number of courses by their difficulty in each organization\n",
    "difficulty_pivot = difficulty_level_counts.pivot(index=\"course_organization\",\n",
    "                                                 columns=\"course_difficulty\",\n",
    "                                                 values=\"count\").fillna(0)\n",
    "\n",
    "#Add percentage of each difficulty level\n",
    "difficulty_pivot[\"Total Courses\"] = difficulty_pivot.sum(axis=1)\n",
    "for difficulty in coursera_df[\"course_difficulty\"].unique():\n",
    "    difficulty_pivot[difficulty + \", %\"] = (difficulty_pivot[difficulty]/difficulty_pivot[\"Total Courses\"]*100).round(2)\n",
    "\n",
    "discrete_colors_difficullty_percent = {\"Mixed, %\":\"rgb(136,204,238)\",\n",
    "                   \"Beginner, %\":\"rgb(169,169,169)\",\n",
    "                   \"Intermediate, %\":\"rgb(144,103,167)\",\n",
    "                   \"Advanced, %\":\"rgb(0,0,139)\"}\n",
    "\n",
    "#Show distrubtion\n",
    "fig_16 = px.box(difficulty_pivot[[\"Beginner, %\", \"Intermediate, %\", \"Mixed, %\", \"Advanced, %\"]],\n",
    "             title = \"Distribution of Course Difficulty by Organization\",\n",
    "             labels={\"value\":\"Course Difficulty %\", \"course_organization\" : \"Organization\", \"course_difficulty\":\"Course Difficulty\"})\n",
    "\n",
    "fig_16.update_layout(font=dict(size=14),\n",
    "                     title=dict(x=0.45),\n",
    "                     plot_bgcolor=\"rgb(242, 242, 242)\")\n",
    "fig_16.show()\n",
    "\n",
    "#Plot a bar chart displaying % certificate types by organization\n",
    "fig_17 = px.bar(difficulty_pivot[[\"Beginner, %\",\n",
    "                                  \"Intermediate, %\",\n",
    "                                  \"Mixed, %\",\n",
    "                                  \"Advanced, %\"]].head(10),\n",
    "                barmode=\"group\",\n",
    "                color_discrete_map=discrete_colors_difficullty_percent,\n",
    "                title=\"Certificate Types by Top Organizations\",\n",
    "                labels={\"value\":\"Course Difficulty %\",\n",
    "                        \"course_organization\" : \"Organization\",\n",
    "                        \"course_difficulty\":\"Course Difficulty\"},\n",
    "                template=\"plotly_white\")\n",
    "\n",
    "fig_17.update_layout(font=dict(size=14),\n",
    "                     title=dict(x=0.45),\n",
    "                     width=800,\n",
    "                     height=550)\n",
    "\n",
    "fig_17.show()\n"
   ]
  },
  {
   "cell_type": "markdown",
   "metadata": {},
   "source": [
    "##### **_5._** Key Takeaways:  \n",
    "- \"Machine Learning\" course had the highest number of students enrolled (3.2M) whilst \"El Abogado del Futuro: Legaltech y la Transformacion Digital del Derecho\" had the least number of students enrolled (1.5k). Number of students enrolled to both courses are way above and below the mean (90,522), respectively.\n",
    "- 6 out of 10 top rated courses have very low student enrollment below the mean.  \n",
    "- Most coursera courses are rated fairly good with mean being 4.68. The lowest observed rating was 3.3.   \n",
    "- Top 10 courses by student enrollment have excellent ratings, only those whose difficulty level is _beginner_ have slightly lower ratings, particularly \"Career Success\".   \n",
    "- There was no clear trend observed how course rating affects course enrollment. However, a tendency of courses with higher rating having more students enrolled was seen.  \n",
    "- Majority of courses provide \"Course Certificate\" (65.32%) whilst \"Specialization Certificate\" and \"Professional Certificate\" are provided only by 33.33% and 1.35% courses, respectively.  \n",
    "- Whilst mean and median of courses provided by each organization is 6 and 3, respectively, number of courses provided by top organizations by student enrollment ranges between 16 and 59 courses. Namely, \"University of Pennsylvania provides 59 courses.\n",
    "- \"University of California, Irvine\" is the only organization in top organizations by student enrollment that provides more courses with specialization certificates than course certificate and 1 professional certificate. In comparison, other top organizations provide courses with course certificates mostly.  \n",
    "- No meaningful relationship between course difficulty and course rating was observed.  \n",
    "- Although most top organizations specialise into beginner and intermediate difficulty courses, \"Autodesk\" is the only one that provides 50% advanced and 50% intermediate courses, and \"Arizona State University\" it the only one that provides beginner, intermediate and mixed courses."
   ]
  },
  {
   "cell_type": "markdown",
   "metadata": {},
   "source": [
    "##### **_6._** Actionable insights:  \n",
    "- Reviewing and updating course content periodically if neecessary would help to maintain top performing courses as well as improve worst performing courses. Updates could include provision of personalised learning paths, recognition awards and enhancement of course accessability.\n",
    "- Organizations which seek to receive higher student enrollment should consider providing more courses as well as wider variability of course difficulty and certificate type."
   ]
  },
  {
   "cell_type": "markdown",
   "metadata": {},
   "source": [
    "##### **_7._** Further improvement:  \n",
    "- Categorize course titles using frequency analysis with *collections* and *langdetect* libraries or machine learning.  \n",
    "\n",
    "**If more data were to be available, success of the courses could be further investigated by looking at the following:**  \n",
    "- Course length\n",
    "- Course lifespan\n",
    "- Course content\n",
    "- Feedback provided from students.  \n",
    "- Course value - whether course is paid or free\n"
   ]
  },
  {
   "cell_type": "markdown",
   "metadata": {},
   "source": []
  }
 ],
 "metadata": {
  "kernelspec": {
   "display_name": "Python 3",
   "language": "python",
   "name": "python3"
  },
  "language_info": {
   "codemirror_mode": {
    "name": "ipython",
    "version": 3
   },
   "file_extension": ".py",
   "mimetype": "text/x-python",
   "name": "python",
   "nbconvert_exporter": "python",
   "pygments_lexer": "ipython3",
   "version": "3.12.2"
  }
 },
 "nbformat": 4,
 "nbformat_minor": 2
}
